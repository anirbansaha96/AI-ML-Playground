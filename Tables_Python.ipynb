{
  "nbformat": 4,
  "nbformat_minor": 0,
  "metadata": {
    "colab": {
      "name": "Tables_Python.ipynb",
      "provenance": [],
      "collapsed_sections": [],
      "authorship_tag": "ABX9TyODHrX02C3jasMxWPclvhCy",
      "include_colab_link": true
    },
    "kernelspec": {
      "name": "python3",
      "display_name": "Python 3"
    }
  },
  "cells": [
    {
      "cell_type": "markdown",
      "metadata": {
        "id": "view-in-github",
        "colab_type": "text"
      },
      "source": [
        "<a href=\"https://colab.research.google.com/github/anirbansaha96/AI-ML-Playground/blob/master/Tables_Python.ipynb\" target=\"_parent\"><img src=\"https://colab.research.google.com/assets/colab-badge.svg\" alt=\"Open In Colab\"/></a>"
      ]
    },
    {
      "cell_type": "markdown",
      "metadata": {
        "id": "s5l-cZDWdgI1",
        "colab_type": "text"
      },
      "source": [
        "Prerequisite: I've attached the docx and PDF files, incase you want to run the notebook."
      ]
    },
    {
      "cell_type": "code",
      "metadata": {
        "id": "OABCa15t2ZlC",
        "colab_type": "code",
        "colab": {}
      },
      "source": [
        "!pip install docx2python"
      ],
      "execution_count": 0,
      "outputs": []
    },
    {
      "cell_type": "code",
      "metadata": {
        "id": "1cDA-6XC2av-",
        "colab_type": "code",
        "colab": {}
      },
      "source": [
        "from docx2python import docx2python"
      ],
      "execution_count": 0,
      "outputs": []
    },
    {
      "cell_type": "code",
      "metadata": {
        "id": "6oDXuY5O2b6E",
        "colab_type": "code",
        "colab": {}
      },
      "source": [
        "doc=docx2python('table_read_test.docx')"
      ],
      "execution_count": 0,
      "outputs": []
    },
    {
      "cell_type": "code",
      "metadata": {
        "id": "koh6otSK2iyO",
        "colab_type": "code",
        "outputId": "773d0ff6-0d38-462b-8182-2db53fda983e",
        "colab": {
          "base_uri": "https://localhost:8080/",
          "height": 139
        }
      },
      "source": [
        "doc.body"
      ],
      "execution_count": 0,
      "outputs": [
        {
          "output_type": "execute_result",
          "data": {
            "text/plain": [
              "[[[['This is a text.', 'Para 2 starts. Now next we have a table']]],\n",
              " [[['1'], ['2']], [['3'], ['4']]],\n",
              " [[['', '', 'Next Page.', 'Para 2 of Page2. Now we have a table:']]],\n",
              " [[['(1,1)'], ['(1,2)'], ['(1,3)'], ['(1,4)']],\n",
              "  [['(2,1)'], ['(2,2)'], ['(2,3)'], ['(2,4)']],\n",
              "  [['(3,1)'], ['(3,2)'], ['(3,3)'], ['(4,4)']]],\n",
              " [[['']]]]"
            ]
          },
          "metadata": {
            "tags": []
          },
          "execution_count": 6
        }
      ]
    },
    {
      "cell_type": "code",
      "metadata": {
        "id": "4cTzi3IE2kC0",
        "colab_type": "code",
        "outputId": "e337781c-bb29-4194-c5ba-8ef0e543bc50",
        "colab": {
          "base_uri": "https://localhost:8080/",
          "height": 35
        }
      },
      "source": [
        "doc.body[0]"
      ],
      "execution_count": 0,
      "outputs": [
        {
          "output_type": "execute_result",
          "data": {
            "text/plain": [
              "[[['This is a text.', 'Para 2 starts. Now next we have a table']]]"
            ]
          },
          "metadata": {
            "tags": []
          },
          "execution_count": 16
        }
      ]
    },
    {
      "cell_type": "code",
      "metadata": {
        "id": "O2No1Baa2wfX",
        "colab_type": "code",
        "outputId": "c1ff395d-f9d3-44f4-8de8-0edb869713f8",
        "colab": {
          "base_uri": "https://localhost:8080/",
          "height": 35
        }
      },
      "source": [
        "doc.body[1]"
      ],
      "execution_count": 0,
      "outputs": [
        {
          "output_type": "execute_result",
          "data": {
            "text/plain": [
              "[[['1'], ['2']], [['3'], ['4']]]"
            ]
          },
          "metadata": {
            "tags": []
          },
          "execution_count": 15
        }
      ]
    },
    {
      "cell_type": "code",
      "metadata": {
        "id": "atrL1oVV2zQJ",
        "colab_type": "code",
        "outputId": "c46b3e9a-84b5-43f9-ea14-b4865b4374a1",
        "colab": {
          "base_uri": "https://localhost:8080/",
          "height": 35
        }
      },
      "source": [
        "doc.body[2]"
      ],
      "execution_count": 0,
      "outputs": [
        {
          "output_type": "execute_result",
          "data": {
            "text/plain": [
              "[[['', '', 'Next Page.', 'Para 2 of Page2. Now we have a table:']]]"
            ]
          },
          "metadata": {
            "tags": []
          },
          "execution_count": 17
        }
      ]
    },
    {
      "cell_type": "code",
      "metadata": {
        "id": "9ciJCTz33GRs",
        "colab_type": "code",
        "outputId": "cb32e697-a85d-405f-98f0-40a15ef8e818",
        "colab": {
          "base_uri": "https://localhost:8080/",
          "height": 69
        }
      },
      "source": [
        "doc.body[3]"
      ],
      "execution_count": 0,
      "outputs": [
        {
          "output_type": "execute_result",
          "data": {
            "text/plain": [
              "[[['(1,1)'], ['(1,2)'], ['(1,3)'], ['(1,4)']],\n",
              " [['(2,1)'], ['(2,2)'], ['(2,3)'], ['(2,4)']],\n",
              " [['(3,1)'], ['(3,2)'], ['(3,3)'], ['(4,4)']]]"
            ]
          },
          "metadata": {
            "tags": []
          },
          "execution_count": 18
        }
      ]
    },
    {
      "cell_type": "code",
      "metadata": {
        "id": "r7hyRfTy3I-2",
        "colab_type": "code",
        "colab": {}
      },
      "source": [
        "!pip install PyPDF2"
      ],
      "execution_count": 0,
      "outputs": []
    },
    {
      "cell_type": "code",
      "metadata": {
        "id": "R1AY9WEE3pMp",
        "colab_type": "code",
        "colab": {}
      },
      "source": [
        "import PyPDF2\n",
        "article=[]\n",
        "pdfFileObj = open('table_read_test_pdf.pdf', 'rb') \n",
        "pdfReader = PyPDF2.PdfFileReader(pdfFileObj) \n",
        "for page in range(pdfReader.numPages):\n",
        "  pageObj = pdfReader.getPage(page)\n",
        "  article.append(pageObj.extractText())"
      ],
      "execution_count": 0,
      "outputs": []
    },
    {
      "cell_type": "code",
      "metadata": {
        "id": "njIZ4GGm3sWo",
        "colab_type": "code",
        "outputId": "5e9856ca-84c9-4362-b1ae-4dafe55afbcc",
        "colab": {
          "base_uri": "https://localhost:8080/",
          "height": 72
        }
      },
      "source": [
        "article"
      ],
      "execution_count": 0,
      "outputs": [
        {
          "output_type": "execute_result",
          "data": {
            "text/plain": [
              "['This is a text\\n.\\n \\nPara 2 starts. Now next we have a table\\n \\n1\\n \\n2\\n \\n3\\n \\n4\\n \\n \\n \\n \\n',\n",
              " 'Next Page.\\n \\nPara 2 of Page2\\n. Now we \\nhave\\n \\na t\\nab\\nle:\\n \\n(\\n1,\\n1)\\n \\n(1,2)\\n \\n(1,3)\\n \\n(1,4)\\n \\n(2,1)\\n \\n(2,2)\\n \\n(2,3)\\n \\n(2,4)\\n \\n(3,1)\\n \\n(3,2)\\n \\n(3,3)\\n \\n(4,4)\\n \\n \\n']"
            ]
          },
          "metadata": {
            "tags": []
          },
          "execution_count": 26
        }
      ]
    },
    {
      "cell_type": "markdown",
      "metadata": {
        "id": "zzOAdzeR4ADe",
        "colab_type": "text"
      },
      "source": [
        "We see that the way the table has been read is like a text itself. One advantage might be that it will work easily with existing text summarization methods. However there will be no clear demarcation between tables and texts and the clarity this adds to the article will be lost."
      ]
    },
    {
      "cell_type": "code",
      "metadata": {
        "id": "HIR-j1JW31Wv",
        "colab_type": "code",
        "colab": {}
      },
      "source": [
        "!pip install tabula-py"
      ],
      "execution_count": 0,
      "outputs": []
    },
    {
      "cell_type": "code",
      "metadata": {
        "id": "EbiQ76Xz4Ug4",
        "colab_type": "code",
        "outputId": "25abb58a-d493-4e20-cd22-c08bd1ee9a26",
        "colab": {
          "base_uri": "https://localhost:8080/",
          "height": 69
        }
      },
      "source": [
        "#Tabula-Py requires a Java environment to work.\n",
        "!java -version"
      ],
      "execution_count": 0,
      "outputs": [
        {
          "output_type": "stream",
          "text": [
            "openjdk version \"11.0.7\" 2020-04-14\n",
            "OpenJDK Runtime Environment (build 11.0.7+10-post-Ubuntu-2ubuntu218.04)\n",
            "OpenJDK 64-Bit Server VM (build 11.0.7+10-post-Ubuntu-2ubuntu218.04, mixed mode, sharing)\n"
          ],
          "name": "stdout"
        }
      ]
    },
    {
      "cell_type": "code",
      "metadata": {
        "id": "Cc_iqk2L6T5o",
        "colab_type": "code",
        "colab": {}
      },
      "source": [
        "import tabula"
      ],
      "execution_count": 0,
      "outputs": []
    },
    {
      "cell_type": "code",
      "metadata": {
        "id": "mBiUCeAX6d-0",
        "colab_type": "code",
        "colab": {}
      },
      "source": [
        "tables=tabula.read_pdf('table_read_test_pdf.pdf',pages=\"all\", stream=True,pandas_options={'header': None})"
      ],
      "execution_count": 0,
      "outputs": []
    },
    {
      "cell_type": "code",
      "metadata": {
        "id": "BmdO74E46qbG",
        "colab_type": "code",
        "outputId": "a030b52c-8e81-4972-928e-be36eb15e8b3",
        "colab": {
          "base_uri": "https://localhost:8080/",
          "height": 35
        }
      },
      "source": [
        "len(tables)"
      ],
      "execution_count": 0,
      "outputs": [
        {
          "output_type": "execute_result",
          "data": {
            "text/plain": [
              "2"
            ]
          },
          "metadata": {
            "tags": []
          },
          "execution_count": 45
        }
      ]
    },
    {
      "cell_type": "code",
      "metadata": {
        "id": "IpPjshr98tNQ",
        "colab_type": "code",
        "outputId": "14482dd5-c332-4726-def5-a7f738d30580",
        "colab": {
          "base_uri": "https://localhost:8080/",
          "height": 110
        }
      },
      "source": [
        "tables[0]"
      ],
      "execution_count": 0,
      "outputs": [
        {
          "output_type": "execute_result",
          "data": {
            "text/html": [
              "<div>\n",
              "<style scoped>\n",
              "    .dataframe tbody tr th:only-of-type {\n",
              "        vertical-align: middle;\n",
              "    }\n",
              "\n",
              "    .dataframe tbody tr th {\n",
              "        vertical-align: top;\n",
              "    }\n",
              "\n",
              "    .dataframe thead th {\n",
              "        text-align: right;\n",
              "    }\n",
              "</style>\n",
              "<table border=\"1\" class=\"dataframe\">\n",
              "  <thead>\n",
              "    <tr style=\"text-align: right;\">\n",
              "      <th></th>\n",
              "      <th>0</th>\n",
              "      <th>1</th>\n",
              "    </tr>\n",
              "  </thead>\n",
              "  <tbody>\n",
              "    <tr>\n",
              "      <th>0</th>\n",
              "      <td>1</td>\n",
              "      <td>2</td>\n",
              "    </tr>\n",
              "    <tr>\n",
              "      <th>1</th>\n",
              "      <td>3</td>\n",
              "      <td>4</td>\n",
              "    </tr>\n",
              "  </tbody>\n",
              "</table>\n",
              "</div>"
            ],
            "text/plain": [
              "   0  1\n",
              "0  1  2\n",
              "1  3  4"
            ]
          },
          "metadata": {
            "tags": []
          },
          "execution_count": 46
        }
      ]
    },
    {
      "cell_type": "code",
      "metadata": {
        "id": "58hjuJNN8u8Y",
        "colab_type": "code",
        "outputId": "3d5310c5-2e9a-4a5d-95be-1c6648e35b8a",
        "colab": {
          "base_uri": "https://localhost:8080/",
          "height": 141
        }
      },
      "source": [
        "tables[1]"
      ],
      "execution_count": 0,
      "outputs": [
        {
          "output_type": "execute_result",
          "data": {
            "text/html": [
              "<div>\n",
              "<style scoped>\n",
              "    .dataframe tbody tr th:only-of-type {\n",
              "        vertical-align: middle;\n",
              "    }\n",
              "\n",
              "    .dataframe tbody tr th {\n",
              "        vertical-align: top;\n",
              "    }\n",
              "\n",
              "    .dataframe thead th {\n",
              "        text-align: right;\n",
              "    }\n",
              "</style>\n",
              "<table border=\"1\" class=\"dataframe\">\n",
              "  <thead>\n",
              "    <tr style=\"text-align: right;\">\n",
              "      <th></th>\n",
              "      <th>0</th>\n",
              "      <th>1</th>\n",
              "      <th>2</th>\n",
              "      <th>3</th>\n",
              "    </tr>\n",
              "  </thead>\n",
              "  <tbody>\n",
              "    <tr>\n",
              "      <th>0</th>\n",
              "      <td>(1,1)</td>\n",
              "      <td>(1,2)</td>\n",
              "      <td>(1,3)</td>\n",
              "      <td>(1,4)</td>\n",
              "    </tr>\n",
              "    <tr>\n",
              "      <th>1</th>\n",
              "      <td>(2,1)</td>\n",
              "      <td>(2,2)</td>\n",
              "      <td>(2,3)</td>\n",
              "      <td>(2,4)</td>\n",
              "    </tr>\n",
              "    <tr>\n",
              "      <th>2</th>\n",
              "      <td>(3,1)</td>\n",
              "      <td>(3,2)</td>\n",
              "      <td>(3,3)</td>\n",
              "      <td>(4,4)</td>\n",
              "    </tr>\n",
              "  </tbody>\n",
              "</table>\n",
              "</div>"
            ],
            "text/plain": [
              "       0      1      2      3\n",
              "0  (1,1)  (1,2)  (1,3)  (1,4)\n",
              "1  (2,1)  (2,2)  (2,3)  (2,4)\n",
              "2  (3,1)  (3,2)  (3,3)  (4,4)"
            ]
          },
          "metadata": {
            "tags": []
          },
          "execution_count": 47
        }
      ]
    },
    {
      "cell_type": "markdown",
      "metadata": {
        "id": "8L26fVt99K-w",
        "colab_type": "text"
      },
      "source": [
        "The benefit of this method is we get a dataframe of the table contents. However it works with PDFs only, we can easily use docx2python and indexing to form a dataframe from the table there"
      ]
    },
    {
      "cell_type": "code",
      "metadata": {
        "id": "2OC6Al1-9Rxh",
        "colab_type": "code",
        "colab": {}
      },
      "source": [
        "import pandas as pd"
      ],
      "execution_count": 0,
      "outputs": []
    },
    {
      "cell_type": "code",
      "metadata": {
        "id": "Nq39KzAX9jWu",
        "colab_type": "code",
        "colab": {}
      },
      "source": [
        "dataframe = pd.DataFrame(data=doc.body[3])"
      ],
      "execution_count": 0,
      "outputs": []
    },
    {
      "cell_type": "code",
      "metadata": {
        "id": "pm1bN9gr9oG7",
        "colab_type": "code",
        "outputId": "e893e360-a1c3-48aa-87dc-750f0857fe74",
        "colab": {
          "base_uri": "https://localhost:8080/",
          "height": 141
        }
      },
      "source": [
        "dataframe"
      ],
      "execution_count": 0,
      "outputs": [
        {
          "output_type": "execute_result",
          "data": {
            "text/html": [
              "<div>\n",
              "<style scoped>\n",
              "    .dataframe tbody tr th:only-of-type {\n",
              "        vertical-align: middle;\n",
              "    }\n",
              "\n",
              "    .dataframe tbody tr th {\n",
              "        vertical-align: top;\n",
              "    }\n",
              "\n",
              "    .dataframe thead th {\n",
              "        text-align: right;\n",
              "    }\n",
              "</style>\n",
              "<table border=\"1\" class=\"dataframe\">\n",
              "  <thead>\n",
              "    <tr style=\"text-align: right;\">\n",
              "      <th></th>\n",
              "      <th>0</th>\n",
              "      <th>1</th>\n",
              "      <th>2</th>\n",
              "      <th>3</th>\n",
              "    </tr>\n",
              "  </thead>\n",
              "  <tbody>\n",
              "    <tr>\n",
              "      <th>0</th>\n",
              "      <td>[(1,1)]</td>\n",
              "      <td>[(1,2)]</td>\n",
              "      <td>[(1,3)]</td>\n",
              "      <td>[(1,4)]</td>\n",
              "    </tr>\n",
              "    <tr>\n",
              "      <th>1</th>\n",
              "      <td>[(2,1)]</td>\n",
              "      <td>[(2,2)]</td>\n",
              "      <td>[(2,3)]</td>\n",
              "      <td>[(2,4)]</td>\n",
              "    </tr>\n",
              "    <tr>\n",
              "      <th>2</th>\n",
              "      <td>[(3,1)]</td>\n",
              "      <td>[(3,2)]</td>\n",
              "      <td>[(3,3)]</td>\n",
              "      <td>[(4,4)]</td>\n",
              "    </tr>\n",
              "  </tbody>\n",
              "</table>\n",
              "</div>"
            ],
            "text/plain": [
              "         0        1        2        3\n",
              "0  [(1,1)]  [(1,2)]  [(1,3)]  [(1,4)]\n",
              "1  [(2,1)]  [(2,2)]  [(2,3)]  [(2,4)]\n",
              "2  [(3,1)]  [(3,2)]  [(3,3)]  [(4,4)]"
            ]
          },
          "metadata": {
            "tags": []
          },
          "execution_count": 50
        }
      ]
    }
  ]
}