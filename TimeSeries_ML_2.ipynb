{
  "nbformat": 4,
  "nbformat_minor": 0,
  "metadata": {
    "colab": {
      "name": "TimeSeries_ML_2.ipynb",
      "provenance": [],
      "collapsed_sections": [
        "vidayERjaO5q"
      ]
    },
    "kernelspec": {
      "display_name": "Python 3",
      "name": "python3"
    }
  },
  "cells": [
    {
      "cell_type": "markdown",
      "metadata": {
        "colab_type": "text",
        "id": "vidayERjaO5q"
      },
      "source": [
        "## We try to forecast a Time Series using Neural Networks."
      ]
    },
    {
      "cell_type": "code",
      "metadata": {
        "colab_type": "code",
        "id": "gqWabzlJ63nL",
        "colab": {}
      },
      "source": [
        "import numpy as np\n",
        "import matplotlib.pyplot as plt\n",
        "import tensorflow as tf\n",
        "\n",
        "keras = tf.keras"
      ],
      "execution_count": null,
      "outputs": []
    },
    {
      "cell_type": "markdown",
      "metadata": {
        "id": "CeK-6lw_ADZV",
        "colab_type": "text"
      },
      "source": [
        "## We define a time-series:"
      ]
    },
    {
      "cell_type": "code",
      "metadata": {
        "colab_type": "code",
        "id": "cg1hfKCPldZG",
        "colab": {}
      },
      "source": [
        "def plot_series(time, series, format=\"-\", start=0, end=None, label=None):\n",
        "    plt.plot(time[start:end], series[start:end], format, label=label)\n",
        "    plt.xlabel(\"Time\")\n",
        "    plt.ylabel(\"Value\")\n",
        "    if label:\n",
        "        plt.legend(fontsize=14)\n",
        "    plt.grid(True)\n",
        "    \n",
        "def trend(time, slope=0):\n",
        "    return slope * time\n",
        "  \n",
        "  \n",
        "def seasonal_pattern(season_time):\n",
        "    \"\"\"Just an arbitrary pattern, you can change it if you wish\"\"\"\n",
        "    return np.where(season_time < 0.4,\n",
        "                    np.cos(season_time * 2 * np.pi),\n",
        "                    1 / np.exp(3 * season_time))\n",
        "\n",
        "  \n",
        "def seasonality(time, period, amplitude=1, phase=0):\n",
        "    \"\"\"Repeats the same pattern at each period\"\"\"\n",
        "    season_time = ((time + phase) % period) / period\n",
        "    return amplitude * seasonal_pattern(season_time)\n",
        "  \n",
        "  \n",
        "def white_noise(time, noise_level=1, seed=None):\n",
        "    rnd = np.random.RandomState(seed)\n",
        "    return rnd.randn(len(time)) * noise_level"
      ],
      "execution_count": null,
      "outputs": []
    },
    {
      "cell_type": "code",
      "metadata": {
        "colab_type": "code",
        "id": "iL2DDjV3lel6",
        "colab": {}
      },
      "source": [
        "time = np.arange(4 * 365 + 1)\n",
        "\n",
        "slope = 0.05\n",
        "baseline = 10\n",
        "amplitude = 40\n",
        "series = baseline + trend(time, slope) + seasonality(time, period=365, amplitude=amplitude)\n",
        "\n",
        "noise_level = 5\n",
        "noise = white_noise(time, noise_level, seed=42)\n",
        "\n",
        "series += noise\n",
        "\n",
        "plt.figure(figsize=(10, 6))\n",
        "plot_series(time, series)\n",
        "plt.show()"
      ],
      "execution_count": null,
      "outputs": []
    },
    {
      "cell_type": "markdown",
      "metadata": {
        "colab_type": "text",
        "id": "ViWVB9qd8OIR"
      },
      "source": [
        "## Forecasting with Machine Learning\n",
        "\n",
        "First, we will train a model to forecast the next step given the previous 30 steps, therefore, we need to create a dataset of 30-step windows for training."
      ]
    },
    {
      "cell_type": "code",
      "metadata": {
        "colab_type": "code",
        "id": "1tl-0BOKkEtk",
        "colab": {}
      },
      "source": [
        "def window_dataset(series, window_size, batch_size=32,\n",
        "                   shuffle_buffer=1000):\n",
        "    dataset = tf.data.Dataset.from_tensor_slices(series)\n",
        "    dataset = dataset.window(window_size + 1, shift=1, drop_remainder=True)\n",
        "    dataset = dataset.flat_map(lambda window: window.batch(window_size + 1))\n",
        "    dataset = dataset.shuffle(shuffle_buffer)\n",
        "    dataset = dataset.map(lambda window: (window[:-1], window[-1]))\n",
        "    dataset = dataset.batch(batch_size).prefetch(1)\n",
        "    return dataset"
      ],
      "execution_count": null,
      "outputs": []
    },
    {
      "cell_type": "code",
      "metadata": {
        "colab_type": "code",
        "id": "Zmp1JXKxk9Vb",
        "colab": {}
      },
      "source": [
        "split_time = 1000\n",
        "time_train = time[:split_time]\n",
        "x_train = series[:split_time]\n",
        "time_valid = time[split_time:]\n",
        "x_valid = series[split_time:]"
      ],
      "execution_count": null,
      "outputs": []
    },
    {
      "cell_type": "markdown",
      "metadata": {
        "colab_type": "text",
        "id": "T1IvwAFn8OIc"
      },
      "source": [
        "### Linear Model"
      ]
    },
    {
      "cell_type": "code",
      "metadata": {
        "colab_type": "code",
        "id": "ieOKdcEQ0A6k",
        "colab": {}
      },
      "source": [
        "keras.backend.clear_session()\n",
        "tf.random.set_seed(42)\n",
        "np.random.seed(42)\n",
        "\n",
        "window_size = 30\n",
        "train_set = window_dataset(x_train, window_size)\n",
        "valid_set = window_dataset(x_valid, window_size)\n",
        "model = keras.models.Sequential([\n",
        "  keras.layers.Dense(1, input_shape=[window_size])\n",
        "])\n",
        "optimizer = keras.optimizers.SGD(lr=1e-5, momentum=0.9)\n",
        "model.compile(loss=keras.losses.Huber(),\n",
        "              optimizer=optimizer,\n",
        "              metrics=[\"mae\"])\n",
        "model.fit(train_set, epochs=100, validation_data=valid_set)"
      ],
      "execution_count": null,
      "outputs": []
    },
    {
      "cell_type": "markdown",
      "metadata": {
        "id": "guIsEke1AJqq",
        "colab_type": "text"
      },
      "source": [
        "We try to find the best learning rate:"
      ]
    },
    {
      "cell_type": "code",
      "metadata": {
        "colab_type": "code",
        "id": "N3N8AGRM8OIc",
        "colab": {}
      },
      "source": [
        "keras.backend.clear_session()\n",
        "tf.random.set_seed(42)\n",
        "np.random.seed(42)\n",
        "\n",
        "window_size = 30\n",
        "train_set = window_dataset(x_train, window_size)\n",
        "\n",
        "model = keras.models.Sequential([\n",
        "  keras.layers.Dense(1, input_shape=[window_size])\n",
        "])\n",
        "\n",
        "lr_schedule = keras.callbacks.LearningRateScheduler(\n",
        "    lambda epoch: 1e-6 * 10**(epoch / 30))\n",
        "optimizer = keras.optimizers.SGD(lr=1e-6, momentum=0.9)\n",
        "model.compile(loss=keras.losses.Huber(),\n",
        "              optimizer=optimizer,\n",
        "              metrics=[\"mae\"])\n",
        "history = model.fit(train_set, epochs=100, callbacks=[lr_schedule])"
      ],
      "execution_count": null,
      "outputs": []
    },
    {
      "cell_type": "code",
      "metadata": {
        "colab_type": "code",
        "id": "PF9e7IDm8OId",
        "colab": {}
      },
      "source": [
        "plt.semilogx(history.history[\"lr\"], history.history[\"loss\"])\n",
        "plt.axis([1e-6, 1e-3, 0, 20])"
      ],
      "execution_count": null,
      "outputs": []
    },
    {
      "cell_type": "code",
      "metadata": {
        "colab_type": "code",
        "id": "uMNwyIFE8OIf",
        "colab": {}
      },
      "source": [
        "keras.backend.clear_session()\n",
        "tf.random.set_seed(42)\n",
        "np.random.seed(42)\n",
        "\n",
        "window_size = 30\n",
        "train_set = window_dataset(x_train, window_size)\n",
        "valid_set = window_dataset(x_valid, window_size)\n",
        "\n",
        "model = keras.models.Sequential([\n",
        "  keras.layers.Dense(1, input_shape=[window_size])\n",
        "])\n",
        "optimizer = keras.optimizers.SGD(lr=1e-5, momentum=0.9)\n",
        "model.compile(loss=keras.losses.Huber(),\n",
        "              optimizer=optimizer,\n",
        "              metrics=[\"mae\"])\n",
        "early_stopping = keras.callbacks.EarlyStopping(patience=10)\n",
        "model.fit(train_set, epochs=500,\n",
        "          validation_data=valid_set,\n",
        "          callbacks=[early_stopping])"
      ],
      "execution_count": null,
      "outputs": []
    },
    {
      "cell_type": "code",
      "metadata": {
        "colab_type": "code",
        "id": "_eaAX9g_jS5W",
        "colab": {}
      },
      "source": [
        "def model_forecast(model, series, window_size):\n",
        "    ds = tf.data.Dataset.from_tensor_slices(series)\n",
        "    ds = ds.window(window_size, shift=1, drop_remainder=True)\n",
        "    ds = ds.flat_map(lambda w: w.batch(window_size))\n",
        "    ds = ds.batch(32).prefetch(1)\n",
        "    forecast = model.predict(ds)\n",
        "    return forecast"
      ],
      "execution_count": null,
      "outputs": []
    },
    {
      "cell_type": "code",
      "metadata": {
        "colab_type": "code",
        "id": "FnIWROQ08OIj",
        "colab": {}
      },
      "source": [
        "lin_forecast = model_forecast(model, series[split_time - window_size:-1], window_size)[:, 0]"
      ],
      "execution_count": null,
      "outputs": []
    },
    {
      "cell_type": "code",
      "metadata": {
        "colab_type": "code",
        "id": "F-nftslfgQJs",
        "colab": {}
      },
      "source": [
        "plt.figure(figsize=(10, 6))\n",
        "plot_series(time_valid, x_valid)\n",
        "plot_series(time_valid, lin_forecast)"
      ],
      "execution_count": null,
      "outputs": []
    },
    {
      "cell_type": "code",
      "metadata": {
        "colab_type": "code",
        "id": "W4E_jXktf7iv",
        "colab": {}
      },
      "source": [
        "keras.metrics.mean_absolute_error(x_valid, lin_forecast).numpy()"
      ],
      "execution_count": null,
      "outputs": []
    },
    {
      "cell_type": "markdown",
      "metadata": {
        "colab_type": "text",
        "id": "9nEM33dZ8OIp"
      },
      "source": [
        "### Dense Model Forecasting"
      ]
    },
    {
      "cell_type": "code",
      "metadata": {
        "colab_type": "code",
        "id": "RhGTv4G_8OIp",
        "colab": {}
      },
      "source": [
        "keras.backend.clear_session()\n",
        "tf.random.set_seed(42)\n",
        "np.random.seed(42)\n",
        "\n",
        "window_size = 30\n",
        "train_set = window_dataset(x_train, window_size)\n",
        "\n",
        "model = keras.models.Sequential([\n",
        "  keras.layers.Dense(10, activation=\"relu\", input_shape=[window_size]),\n",
        "  keras.layers.Dense(10, activation=\"relu\"),\n",
        "  keras.layers.Dense(1)\n",
        "])\n",
        "\n",
        "lr_schedule = keras.callbacks.LearningRateScheduler(\n",
        "    lambda epoch: 1e-7 * 10**(epoch / 20))\n",
        "optimizer = keras.optimizers.SGD(lr=1e-7, momentum=0.9)\n",
        "model.compile(loss=keras.losses.Huber(),\n",
        "              optimizer=optimizer,\n",
        "              metrics=[\"mae\"])\n",
        "history = model.fit(train_set, epochs=100, callbacks=[lr_schedule])"
      ],
      "execution_count": null,
      "outputs": []
    },
    {
      "cell_type": "code",
      "metadata": {
        "colab_type": "code",
        "id": "5g-nC_em8OIq",
        "colab": {}
      },
      "source": [
        "plt.semilogx(history.history[\"lr\"], history.history[\"loss\"])\n",
        "plt.axis([1e-7, 5e-3, 0, 30])"
      ],
      "execution_count": null,
      "outputs": []
    },
    {
      "cell_type": "code",
      "metadata": {
        "colab_type": "code",
        "id": "B7t0VrCH8OIr",
        "colab": {}
      },
      "source": [
        "keras.backend.clear_session()\n",
        "tf.random.set_seed(42)\n",
        "np.random.seed(42)\n",
        "\n",
        "window_size = 30\n",
        "train_set = window_dataset(x_train, window_size)\n",
        "valid_set = window_dataset(x_valid, window_size)\n",
        "\n",
        "model = keras.models.Sequential([\n",
        "  keras.layers.Dense(10, activation=\"relu\", input_shape=[window_size]),\n",
        "  keras.layers.Dense(10, activation=\"relu\"),\n",
        "  keras.layers.Dense(1)\n",
        "])\n",
        "\n",
        "optimizer = keras.optimizers.SGD(lr=1e-5, momentum=0.9)\n",
        "model.compile(loss=keras.losses.Huber(),\n",
        "              optimizer=optimizer,\n",
        "              metrics=[\"mae\"])\n",
        "early_stopping = keras.callbacks.EarlyStopping(patience=10)\n",
        "model.fit(train_set, epochs=500,\n",
        "          validation_data=valid_set,\n",
        "          callbacks=[early_stopping])"
      ],
      "execution_count": null,
      "outputs": []
    },
    {
      "cell_type": "code",
      "metadata": {
        "colab_type": "code",
        "id": "RqQbX6DZ8OIu",
        "colab": {}
      },
      "source": [
        "dense_forecast = model_forecast(\n",
        "    model,\n",
        "    series[split_time - window_size:-1],\n",
        "    window_size)[:, 0]"
      ],
      "execution_count": null,
      "outputs": []
    },
    {
      "cell_type": "code",
      "metadata": {
        "id": "8dSXy8pd0Rra",
        "colab_type": "code",
        "colab": {
          "base_uri": "https://localhost:8080/",
          "height": 35
        },
        "outputId": "b0b9fefb-ee03-4279-b815-08462a75efd5"
      },
      "source": [
        "len(dense_forecast)"
      ],
      "execution_count": 19,
      "outputs": [
        {
          "output_type": "execute_result",
          "data": {
            "text/plain": [
              "461"
            ]
          },
          "metadata": {
            "tags": []
          },
          "execution_count": 19
        }
      ]
    },
    {
      "cell_type": "code",
      "metadata": {
        "colab_type": "code",
        "id": "98zwAuIo8OIv",
        "colab": {}
      },
      "source": [
        "plt.figure(figsize=(10, 6))\n",
        "plot_series(time_valid, x_valid)\n",
        "plot_series(time_valid, dense_forecast)"
      ],
      "execution_count": null,
      "outputs": []
    },
    {
      "cell_type": "code",
      "metadata": {
        "colab_type": "code",
        "id": "EgkELN-58OIw",
        "colab": {}
      },
      "source": [
        "keras.metrics.mean_absolute_error(x_valid, dense_forecast).numpy()"
      ],
      "execution_count": null,
      "outputs": []
    },
    {
      "cell_type": "markdown",
      "metadata": {
        "id": "4jFX-hbNhenJ",
        "colab_type": "text"
      },
      "source": [
        "# Both these models didn't take into account the factor of seasonality and trend, We now remove trend seasonality and then implement the dense neural network again."
      ]
    },
    {
      "cell_type": "code",
      "metadata": {
        "id": "CgwjR-e3g3fW",
        "colab_type": "code",
        "colab": {}
      },
      "source": [
        "diff_series = (series[365:] - series[:-365])\n",
        "diff_time = time[365:]"
      ],
      "execution_count": 45,
      "outputs": []
    },
    {
      "cell_type": "code",
      "metadata": {
        "id": "4vPG4Ihyg9NE",
        "colab_type": "code",
        "colab": {}
      },
      "source": [
        "split_time = 1000\n",
        "time_train_diff = diff_time[:split_time-365]\n",
        "x_train_diff = diff_series[:split_time-365]\n",
        "time_valid_diff = diff_time[split_time-365:]\n",
        "x_valid_diff = diff_series[split_time-365:]"
      ],
      "execution_count": 46,
      "outputs": []
    },
    {
      "cell_type": "code",
      "metadata": {
        "id": "FEfUDHl5EuA2",
        "colab_type": "code",
        "colab": {
          "base_uri": "https://localhost:8080/",
          "height": 1000
        },
        "outputId": "236b942f-2b20-4b88-873e-6bf9f993facd"
      },
      "source": [
        "keras.backend.clear_session()\n",
        "tf.random.set_seed(42)\n",
        "np.random.seed(42)\n",
        "\n",
        "window_size = 30\n",
        "train_set = window_dataset(x_train_diff, window_size)\n",
        "\n",
        "model = keras.models.Sequential([\n",
        "  keras.layers.Dense(10, activation=\"relu\", input_shape=[window_size]),\n",
        "  keras.layers.Dense(10, activation=\"relu\"),\n",
        "  keras.layers.Dense(1)\n",
        "])\n",
        "\n",
        "lr_schedule = keras.callbacks.LearningRateScheduler(\n",
        "    lambda epoch: 1e-7 * 10**(epoch / 20))\n",
        "optimizer = keras.optimizers.SGD(lr=1e-7, momentum=0.9)\n",
        "model.compile(loss=keras.losses.Huber(),\n",
        "              optimizer=optimizer,\n",
        "              metrics=[\"mae\"])\n",
        "history = model.fit(train_set, epochs=100, callbacks=[lr_schedule])\n",
        "plt.semilogx(history.history[\"lr\"], history.history[\"loss\"])\n",
        "plt.axis([1e-7, 5e-3, 0, 30])"
      ],
      "execution_count": 53,
      "outputs": [
        {
          "output_type": "stream",
          "text": [
            "Epoch 1/100\n",
            "19/19 [==============================] - 0s 3ms/step - loss: 17.6792 - mae: 18.1784 - lr: 1.0000e-07\n",
            "Epoch 2/100\n",
            "19/19 [==============================] - 0s 3ms/step - loss: 17.5089 - mae: 18.0078 - lr: 1.1220e-07\n",
            "Epoch 3/100\n",
            "19/19 [==============================] - 0s 3ms/step - loss: 17.2863 - mae: 17.7841 - lr: 1.2589e-07\n",
            "Epoch 4/100\n",
            "19/19 [==============================] - 0s 3ms/step - loss: 17.0309 - mae: 17.5295 - lr: 1.4125e-07\n",
            "Epoch 5/100\n",
            "19/19 [==============================] - 0s 3ms/step - loss: 16.7440 - mae: 17.2431 - lr: 1.5849e-07\n",
            "Epoch 6/100\n",
            "19/19 [==============================] - 0s 3ms/step - loss: 16.4249 - mae: 16.9240 - lr: 1.7783e-07\n",
            "Epoch 7/100\n",
            "19/19 [==============================] - 0s 3ms/step - loss: 16.0642 - mae: 16.5624 - lr: 1.9953e-07\n",
            "Epoch 8/100\n",
            "19/19 [==============================] - 0s 2ms/step - loss: 15.6621 - mae: 16.1602 - lr: 2.2387e-07\n",
            "Epoch 9/100\n",
            "19/19 [==============================] - 0s 2ms/step - loss: 15.2143 - mae: 15.7119 - lr: 2.5119e-07\n",
            "Epoch 10/100\n",
            "19/19 [==============================] - 0s 4ms/step - loss: 14.7212 - mae: 15.2166 - lr: 2.8184e-07\n",
            "Epoch 11/100\n",
            "19/19 [==============================] - 0s 3ms/step - loss: 14.1739 - mae: 14.6677 - lr: 3.1623e-07\n",
            "Epoch 12/100\n",
            "19/19 [==============================] - 0s 2ms/step - loss: 13.5850 - mae: 14.0825 - lr: 3.5481e-07\n",
            "Epoch 13/100\n",
            "19/19 [==============================] - 0s 3ms/step - loss: 12.9456 - mae: 13.4430 - lr: 3.9811e-07\n",
            "Epoch 14/100\n",
            "19/19 [==============================] - 0s 2ms/step - loss: 12.2568 - mae: 12.7514 - lr: 4.4668e-07\n",
            "Epoch 15/100\n",
            "19/19 [==============================] - 0s 2ms/step - loss: 11.5350 - mae: 12.0283 - lr: 5.0119e-07\n",
            "Epoch 16/100\n",
            "19/19 [==============================] - 0s 2ms/step - loss: 10.7902 - mae: 11.2849 - lr: 5.6234e-07\n",
            "Epoch 17/100\n",
            "19/19 [==============================] - 0s 2ms/step - loss: 10.0421 - mae: 10.5355 - lr: 6.3096e-07\n",
            "Epoch 18/100\n",
            "19/19 [==============================] - 0s 3ms/step - loss: 9.2957 - mae: 9.7889 - lr: 7.0795e-07\n",
            "Epoch 19/100\n",
            "19/19 [==============================] - 0s 2ms/step - loss: 8.5855 - mae: 9.0777 - lr: 7.9433e-07\n",
            "Epoch 20/100\n",
            "19/19 [==============================] - 0s 2ms/step - loss: 7.9270 - mae: 8.4188 - lr: 8.9125e-07\n",
            "Epoch 21/100\n",
            "19/19 [==============================] - 0s 3ms/step - loss: 7.3717 - mae: 7.8627 - lr: 1.0000e-06\n",
            "Epoch 22/100\n",
            "19/19 [==============================] - 0s 2ms/step - loss: 6.9497 - mae: 7.4348 - lr: 1.1220e-06\n",
            "Epoch 23/100\n",
            "19/19 [==============================] - 0s 2ms/step - loss: 6.6614 - mae: 7.1473 - lr: 1.2589e-06\n",
            "Epoch 24/100\n",
            "19/19 [==============================] - 0s 3ms/step - loss: 6.5073 - mae: 6.9865 - lr: 1.4125e-06\n",
            "Epoch 25/100\n",
            "19/19 [==============================] - 0s 3ms/step - loss: 6.4436 - mae: 6.9245 - lr: 1.5849e-06\n",
            "Epoch 26/100\n",
            "19/19 [==============================] - 0s 2ms/step - loss: 6.4047 - mae: 6.8891 - lr: 1.7783e-06\n",
            "Epoch 27/100\n",
            "19/19 [==============================] - 0s 3ms/step - loss: 6.3866 - mae: 6.8713 - lr: 1.9953e-06\n",
            "Epoch 28/100\n",
            "19/19 [==============================] - 0s 2ms/step - loss: 6.3748 - mae: 6.8598 - lr: 2.2387e-06\n",
            "Epoch 29/100\n",
            "19/19 [==============================] - 0s 2ms/step - loss: 6.3600 - mae: 6.8445 - lr: 2.5119e-06\n",
            "Epoch 30/100\n",
            "19/19 [==============================] - 0s 2ms/step - loss: 6.3439 - mae: 6.8279 - lr: 2.8184e-06\n",
            "Epoch 31/100\n",
            "19/19 [==============================] - 0s 3ms/step - loss: 6.3348 - mae: 6.8195 - lr: 3.1623e-06\n",
            "Epoch 32/100\n",
            "19/19 [==============================] - 0s 2ms/step - loss: 6.3070 - mae: 6.7909 - lr: 3.5481e-06\n",
            "Epoch 33/100\n",
            "19/19 [==============================] - 0s 3ms/step - loss: 6.2935 - mae: 6.7762 - lr: 3.9811e-06\n",
            "Epoch 34/100\n",
            "19/19 [==============================] - 0s 3ms/step - loss: 6.2644 - mae: 6.7466 - lr: 4.4668e-06\n",
            "Epoch 35/100\n",
            "19/19 [==============================] - 0s 3ms/step - loss: 6.2417 - mae: 6.7255 - lr: 5.0119e-06\n",
            "Epoch 36/100\n",
            "19/19 [==============================] - 0s 3ms/step - loss: 6.2190 - mae: 6.7016 - lr: 5.6234e-06\n",
            "Epoch 37/100\n",
            "19/19 [==============================] - 0s 3ms/step - loss: 6.1883 - mae: 6.6727 - lr: 6.3096e-06\n",
            "Epoch 38/100\n",
            "19/19 [==============================] - 0s 2ms/step - loss: 6.1576 - mae: 6.6411 - lr: 7.0795e-06\n",
            "Epoch 39/100\n",
            "19/19 [==============================] - 0s 3ms/step - loss: 6.1272 - mae: 6.6103 - lr: 7.9433e-06\n",
            "Epoch 40/100\n",
            "19/19 [==============================] - 0s 3ms/step - loss: 6.0928 - mae: 6.5761 - lr: 8.9125e-06\n",
            "Epoch 41/100\n",
            "19/19 [==============================] - 0s 2ms/step - loss: 6.0570 - mae: 6.5391 - lr: 1.0000e-05\n",
            "Epoch 42/100\n",
            "19/19 [==============================] - 0s 3ms/step - loss: 6.0225 - mae: 6.5046 - lr: 1.1220e-05\n",
            "Epoch 43/100\n",
            "19/19 [==============================] - 0s 2ms/step - loss: 6.0037 - mae: 6.4854 - lr: 1.2589e-05\n",
            "Epoch 44/100\n",
            "19/19 [==============================] - 0s 3ms/step - loss: 5.9519 - mae: 6.4341 - lr: 1.4125e-05\n",
            "Epoch 45/100\n",
            "19/19 [==============================] - 0s 3ms/step - loss: 5.9257 - mae: 6.4084 - lr: 1.5849e-05\n",
            "Epoch 46/100\n",
            "19/19 [==============================] - 0s 3ms/step - loss: 5.8644 - mae: 6.3442 - lr: 1.7783e-05\n",
            "Epoch 47/100\n",
            "19/19 [==============================] - 0s 2ms/step - loss: 5.8304 - mae: 6.3126 - lr: 1.9953e-05\n",
            "Epoch 48/100\n",
            "19/19 [==============================] - 0s 3ms/step - loss: 5.7693 - mae: 6.2522 - lr: 2.2387e-05\n",
            "Epoch 49/100\n",
            "19/19 [==============================] - 0s 3ms/step - loss: 5.7241 - mae: 6.2047 - lr: 2.5119e-05\n",
            "Epoch 50/100\n",
            "19/19 [==============================] - 0s 2ms/step - loss: 5.6325 - mae: 6.1135 - lr: 2.8184e-05\n",
            "Epoch 51/100\n",
            "19/19 [==============================] - 0s 3ms/step - loss: 5.5795 - mae: 6.0583 - lr: 3.1623e-05\n",
            "Epoch 52/100\n",
            "19/19 [==============================] - 0s 2ms/step - loss: 5.5275 - mae: 6.0076 - lr: 3.5481e-05\n",
            "Epoch 53/100\n",
            "19/19 [==============================] - 0s 3ms/step - loss: 5.5619 - mae: 6.0452 - lr: 3.9811e-05\n",
            "Epoch 54/100\n",
            "19/19 [==============================] - 0s 3ms/step - loss: 5.4470 - mae: 5.9281 - lr: 4.4668e-05\n",
            "Epoch 55/100\n",
            "19/19 [==============================] - 0s 3ms/step - loss: 5.4515 - mae: 5.9345 - lr: 5.0119e-05\n",
            "Epoch 56/100\n",
            "19/19 [==============================] - 0s 2ms/step - loss: 5.4414 - mae: 5.9221 - lr: 5.6234e-05\n",
            "Epoch 57/100\n",
            "19/19 [==============================] - 0s 3ms/step - loss: 5.3833 - mae: 5.8665 - lr: 6.3096e-05\n",
            "Epoch 58/100\n",
            "19/19 [==============================] - 0s 3ms/step - loss: 5.3688 - mae: 5.8539 - lr: 7.0795e-05\n",
            "Epoch 59/100\n",
            "19/19 [==============================] - 0s 2ms/step - loss: 5.3448 - mae: 5.8237 - lr: 7.9433e-05\n",
            "Epoch 60/100\n",
            "19/19 [==============================] - 0s 2ms/step - loss: 5.3140 - mae: 5.7927 - lr: 8.9125e-05\n",
            "Epoch 61/100\n",
            "19/19 [==============================] - 0s 3ms/step - loss: 5.2793 - mae: 5.7565 - lr: 1.0000e-04\n",
            "Epoch 62/100\n",
            "19/19 [==============================] - 0s 3ms/step - loss: 5.2927 - mae: 5.7733 - lr: 1.1220e-04\n",
            "Epoch 63/100\n",
            "19/19 [==============================] - 0s 2ms/step - loss: 5.3396 - mae: 5.8246 - lr: 1.2589e-04\n",
            "Epoch 64/100\n",
            "19/19 [==============================] - 0s 2ms/step - loss: 5.3782 - mae: 5.8632 - lr: 1.4125e-04\n",
            "Epoch 65/100\n",
            "19/19 [==============================] - 0s 3ms/step - loss: 5.2176 - mae: 5.6974 - lr: 1.5849e-04\n",
            "Epoch 66/100\n",
            "19/19 [==============================] - 0s 3ms/step - loss: 5.3215 - mae: 5.8052 - lr: 1.7783e-04\n",
            "Epoch 67/100\n",
            "19/19 [==============================] - 0s 2ms/step - loss: 5.2697 - mae: 5.7524 - lr: 1.9953e-04\n",
            "Epoch 68/100\n",
            "19/19 [==============================] - 0s 3ms/step - loss: 5.3147 - mae: 5.7928 - lr: 2.2387e-04\n",
            "Epoch 69/100\n",
            "19/19 [==============================] - 0s 3ms/step - loss: 5.2701 - mae: 5.7525 - lr: 2.5119e-04\n",
            "Epoch 70/100\n",
            "19/19 [==============================] - 0s 2ms/step - loss: 5.1441 - mae: 5.6233 - lr: 2.8184e-04\n",
            "Epoch 71/100\n",
            "19/19 [==============================] - 0s 2ms/step - loss: 5.1214 - mae: 5.6000 - lr: 3.1623e-04\n",
            "Epoch 72/100\n",
            "19/19 [==============================] - 0s 3ms/step - loss: 5.0999 - mae: 5.5780 - lr: 3.5481e-04\n",
            "Epoch 73/100\n",
            "19/19 [==============================] - 0s 3ms/step - loss: 5.6027 - mae: 6.0828 - lr: 3.9811e-04\n",
            "Epoch 74/100\n",
            "19/19 [==============================] - 0s 3ms/step - loss: 5.1945 - mae: 5.6707 - lr: 4.4668e-04\n",
            "Epoch 75/100\n",
            "19/19 [==============================] - 0s 2ms/step - loss: 5.0875 - mae: 5.5672 - lr: 5.0119e-04\n",
            "Epoch 76/100\n",
            "19/19 [==============================] - 0s 3ms/step - loss: 5.0856 - mae: 5.5645 - lr: 5.6234e-04\n",
            "Epoch 77/100\n",
            "19/19 [==============================] - 0s 3ms/step - loss: 5.2729 - mae: 5.7521 - lr: 6.3096e-04\n",
            "Epoch 78/100\n",
            "19/19 [==============================] - 0s 2ms/step - loss: 5.2126 - mae: 5.6974 - lr: 7.0795e-04\n",
            "Epoch 79/100\n",
            "19/19 [==============================] - 0s 3ms/step - loss: 5.2026 - mae: 5.6869 - lr: 7.9433e-04\n",
            "Epoch 80/100\n",
            "19/19 [==============================] - 0s 3ms/step - loss: 5.3577 - mae: 5.8378 - lr: 8.9125e-04\n",
            "Epoch 81/100\n",
            "19/19 [==============================] - 0s 3ms/step - loss: 5.2714 - mae: 5.7497 - lr: 0.0010\n",
            "Epoch 82/100\n",
            "19/19 [==============================] - 0s 3ms/step - loss: 5.0357 - mae: 5.5143 - lr: 0.0011\n",
            "Epoch 83/100\n",
            "19/19 [==============================] - 0s 2ms/step - loss: 5.5680 - mae: 6.0494 - lr: 0.0013\n",
            "Epoch 84/100\n",
            "19/19 [==============================] - 0s 3ms/step - loss: 5.2626 - mae: 5.7452 - lr: 0.0014\n",
            "Epoch 85/100\n",
            "19/19 [==============================] - 0s 2ms/step - loss: 5.4746 - mae: 5.9589 - lr: 0.0016\n",
            "Epoch 86/100\n",
            "19/19 [==============================] - 0s 3ms/step - loss: 5.5019 - mae: 5.9834 - lr: 0.0018\n",
            "Epoch 87/100\n",
            "19/19 [==============================] - 0s 3ms/step - loss: 4.9839 - mae: 5.4615 - lr: 0.0020\n",
            "Epoch 88/100\n",
            "19/19 [==============================] - 0s 2ms/step - loss: 5.2830 - mae: 5.7667 - lr: 0.0022\n",
            "Epoch 89/100\n",
            "19/19 [==============================] - 0s 2ms/step - loss: 5.7215 - mae: 6.2017 - lr: 0.0025\n",
            "Epoch 90/100\n",
            "19/19 [==============================] - 0s 3ms/step - loss: 6.5037 - mae: 6.9886 - lr: 0.0028\n",
            "Epoch 91/100\n",
            "19/19 [==============================] - 0s 2ms/step - loss: 7.3399 - mae: 7.8284 - lr: 0.0032\n",
            "Epoch 92/100\n",
            "19/19 [==============================] - 0s 3ms/step - loss: 5.5628 - mae: 6.0455 - lr: 0.0035\n",
            "Epoch 93/100\n",
            "19/19 [==============================] - 0s 2ms/step - loss: 5.6465 - mae: 6.1294 - lr: 0.0040\n",
            "Epoch 94/100\n",
            "19/19 [==============================] - 0s 3ms/step - loss: 6.0444 - mae: 6.5230 - lr: 0.0045\n",
            "Epoch 95/100\n",
            "19/19 [==============================] - 0s 2ms/step - loss: 7.1142 - mae: 7.6049 - lr: 0.0050\n",
            "Epoch 96/100\n",
            "19/19 [==============================] - 0s 3ms/step - loss: 6.3919 - mae: 6.8761 - lr: 0.0056\n",
            "Epoch 97/100\n",
            "19/19 [==============================] - 0s 2ms/step - loss: 6.0222 - mae: 6.5071 - lr: 0.0063\n",
            "Epoch 98/100\n",
            "19/19 [==============================] - 0s 3ms/step - loss: 5.5070 - mae: 5.9843 - lr: 0.0071\n",
            "Epoch 99/100\n",
            "19/19 [==============================] - 0s 3ms/step - loss: 7.9250 - mae: 8.4114 - lr: 0.0079\n",
            "Epoch 100/100\n",
            "19/19 [==============================] - 0s 2ms/step - loss: 9.3993 - mae: 9.8864 - lr: 0.0089\n"
          ],
          "name": "stdout"
        },
        {
          "output_type": "execute_result",
          "data": {
            "text/plain": [
              "(1e-07, 0.005, 0.0, 30.0)"
            ]
          },
          "metadata": {
            "tags": []
          },
          "execution_count": 53
        },
        {
          "output_type": "display_data",
          "data": {
            "image/png": "[encoded data removed]",
            "text/plain": [
              "<Figure size 432x288 with 1 Axes>"
            ]
          },
          "metadata": {
            "tags": [],
            "needs_background": "light"
          }
        }
      ]
    },
    {
      "cell_type": "code",
      "metadata": {
        "id": "vlvPhcnZhR5U",
        "colab_type": "code",
        "colab": {}
      },
      "source": [
        "keras.backend.clear_session()\n",
        "tf.random.set_seed(42)\n",
        "np.random.seed(42)\n",
        "\n",
        "window_size = 30\n",
        "train_set = window_dataset(x_train_diff, window_size)\n",
        "valid_set = window_dataset(x_valid_diff, window_size)\n",
        "\n",
        "model = keras.models.Sequential([\n",
        "  keras.layers.Dense(10, activation=\"relu\", input_shape=[window_size]),\n",
        "  keras.layers.Dense(10, activation=\"relu\"),\n",
        "  keras.layers.Dense(1)\n",
        "])\n",
        "\n",
        "optimizer = keras.optimizers.SGD(lr=1e-4, momentum=0.9)\n",
        "model.compile(loss=keras.losses.Huber(),\n",
        "              optimizer=optimizer,\n",
        "              metrics=[\"mae\"])\n",
        "early_stopping = keras.callbacks.EarlyStopping(patience=10)\n",
        "model.fit(train_set, epochs=1000,\n",
        "          validation_data=valid_set,\n",
        "          callbacks=[early_stopping])"
      ],
      "execution_count": null,
      "outputs": []
    },
    {
      "cell_type": "code",
      "metadata": {
        "id": "sGVClY9ahaCx",
        "colab_type": "code",
        "colab": {}
      },
      "source": [
        "dense_forecast = model_forecast(\n",
        "    model,\n",
        "    diff_series[split_time - 365 - window_size:-1],\n",
        "    window_size)[:, 0]"
      ],
      "execution_count": 55,
      "outputs": []
    },
    {
      "cell_type": "code",
      "metadata": {
        "id": "jQPXELIWi0X0",
        "colab_type": "code",
        "colab": {}
      },
      "source": [
        "def moving_average_forecast(series, window_size):\n",
        "  mov = np.cumsum(series)\n",
        "  mov[window_size:] = mov[window_size:] - mov[:-window_size]\n",
        "  return mov[window_size - 1:-1] / window_size"
      ],
      "execution_count": 56,
      "outputs": []
    },
    {
      "cell_type": "code",
      "metadata": {
        "id": "96rwBOCxiN4Z",
        "colab_type": "code",
        "colab": {}
      },
      "source": [
        "diff_dense_forecast_smooth_past = moving_average_forecast(series[split_time - 370:-359], 11) + dense_forecast"
      ],
      "execution_count": 57,
      "outputs": []
    },
    {
      "cell_type": "code",
      "metadata": {
        "id": "mqtA00Umhbck",
        "colab_type": "code",
        "colab": {
          "base_uri": "https://localhost:8080/",
          "height": 388
        },
        "outputId": "975179fb-0a31-42c1-9b02-dc3a38dd1c38"
      },
      "source": [
        "plt.figure(figsize=(10, 6))\n",
        "plot_series(time_valid_diff, x_valid)\n",
        "plot_series(time_valid_diff, diff_dense_forecast_smooth_past)"
      ],
      "execution_count": 58,
      "outputs": [
        {
          "output_type": "display_data",
          "data": {
            "image/png": "[encoded data removed]",
            "text/plain": [
              "<Figure size 720x432 with 1 Axes>"
            ]
          },
          "metadata": {
            "tags": [],
            "needs_background": "light"
          }
        }
      ]
    },
    {
      "cell_type": "code",
      "metadata": {
        "id": "5345JD7lhdrj",
        "colab_type": "code",
        "colab": {
          "base_uri": "https://localhost:8080/",
          "height": 35
        },
        "outputId": "1f34e98f-3bc7-45c7-bf91-b5c622dcbdb7"
      },
      "source": [
        "keras.metrics.mean_absolute_error(x_valid, diff_dense_forecast_smooth_past).numpy()"
      ],
      "execution_count": 60,
      "outputs": [
        {
          "output_type": "execute_result",
          "data": {
            "text/plain": [
              "4.9417949763483735"
            ]
          },
          "metadata": {
            "tags": []
          },
          "execution_count": 60
        }
      ]
    },
    {
      "cell_type": "markdown",
      "metadata": {
        "id": "6xdKX8AXAcib",
        "colab_type": "text"
      },
      "source": [
        "We see a significant jump in performance."
      ]
    }
  ]
}