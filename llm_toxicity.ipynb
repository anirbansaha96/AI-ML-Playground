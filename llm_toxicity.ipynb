{
  "nbformat": 4,
  "nbformat_minor": 0,
  "metadata": {
    "colab": {
      "provenance": [],
      "gpuType": "T4",
      "authorship_tag": "ABX9TyP8x/p8k/Bgd0Rn+DKSvRvr",
      "include_colab_link": true
    },
    "kernelspec": {
      "name": "python3",
      "display_name": "Python 3"
    },
    "language_info": {
      "name": "python"
    }
  },
  "cells": [
    {
      "cell_type": "markdown",
      "metadata": {
        "id": "view-in-github",
        "colab_type": "text"
      },
      "source": [
        "<a href=\"https://colab.research.google.com/github/anirbansaha96/AI-ML-Playground/blob/master/llm_toxicity.ipynb\" target=\"_parent\"><img src=\"https://colab.research.google.com/assets/colab-badge.svg\" alt=\"Open In Colab\"/></a>"
      ]
    },
    {
      "cell_type": "code",
      "source": [
        "!pip install datasets transformers evaluate -q"
      ],
      "metadata": {
        "id": "P0p-217OUH1X"
      },
      "execution_count": 14,
      "outputs": []
    },
    {
      "cell_type": "code",
      "source": [
        "from datasets import load_dataset\n",
        "from evaluate import load\n",
        "from sklearn.metrics import mean_squared_error\n",
        "\n",
        "dataset = load_dataset(\"allenai/real-toxicity-prompts\", split=\"train[:100]\")\n"
      ],
      "metadata": {
        "id": "XzqUfi-QOjC7"
      },
      "execution_count": 15,
      "outputs": []
    },
    {
      "cell_type": "code",
      "source": [
        "\n",
        "def evaluate_model(model_name, toxic_label, metric=\"matthews_correlation\"):\n",
        "  toxicity = load(\"toxicity\", model_name, module_type=\"measurement\")\n",
        "  predictions = []\n",
        "  ground_truth = []\n",
        "  for item in dataset:\n",
        "    text = item[\"prompt\"][\"text\"]\n",
        "    label = item[\"prompt\"][\"toxicity\"]\n",
        "    prediction = toxicity.compute(predictions=[text], toxic_label='offensive')[\"toxicity\"][0]\n",
        "    predictions.append(prediction)\n",
        "    ground_truth.append(label)\n",
        "\n",
        "  result = mean_squared_error(ground_truth, predictions)\n",
        "  return result\n",
        "\n"
      ],
      "metadata": {
        "id": "RsPxIHr6UIrg"
      },
      "execution_count": 24,
      "outputs": []
    },
    {
      "cell_type": "code",
      "source": [
        "model_results = {}\n",
        "\n",
        "models = [\n",
        "    # {\"model_name\": \"facebook/roberta-hate-speech-dynabench-r4-target\", \"toxic_label\": \"hate\"},\n",
        "    {\"model_name\": \"DaNLP/da-electra-hatespeech-detection\", \"toxic_label\": \"offensive\"},\n",
        "    # {\"model_name\": \"unitary/multilingual-toxic-xlm-roberta\", \"toxic_label\": \"toxic\"}\n",
        "]\n",
        "\n",
        "for model in models:\n",
        "  metric_score = evaluate_model(model_name=model[\"model_name\"], toxic_label=model[\"toxic_label\"])\n",
        "  model_results[model[\"model_name\"]] = metric_score\n",
        "\n"
      ],
      "metadata": {
        "id": "nw4Hn5BPbVpj"
      },
      "execution_count": 38,
      "outputs": []
    },
    {
      "cell_type": "code",
      "source": [
        "sorted_models = sorted(model_results.items(), key=lambda x: x[1], reverse=True)\n",
        "\n",
        "print(\"Model Performance (Best to Worst):\")\n",
        "for model, score in sorted_models:\n",
        "  print(f\"{model}: {score:.4f}\")\n"
      ],
      "metadata": {
        "colab": {
          "base_uri": "https://localhost:8080/"
        },
        "id": "K0_ia4ZIbX-x",
        "outputId": "9eea5020-8d72-4ec1-8571-ac79a620d210"
      },
      "execution_count": 28,
      "outputs": [
        {
          "output_type": "stream",
          "name": "stdout",
          "text": [
            "Model Performance (Best to Worst):\n",
            "DaNLP/da-electra-hatespeech-detection: 0.0140\n"
          ]
        }
      ]
    },
    {
      "cell_type": "code",
      "source": [
        "from transformers import pipeline\n",
        "toxic_classifier = pipeline(\"text-classification\", model=\"unitary/multilingual-toxic-xlm-roberta\", top_k=99999, truncation=True)\n",
        "toxic_classifier.model.config.id2label"
      ],
      "metadata": {
        "colab": {
          "base_uri": "https://localhost:8080/"
        },
        "id": "0X0nmmKS3uDH",
        "outputId": "92872579-023a-4c04-9fe6-aa6be0ba0b91"
      },
      "execution_count": 37,
      "outputs": [
        {
          "output_type": "execute_result",
          "data": {
            "text/plain": [
              "{0: 'toxic'}"
            ]
          },
          "metadata": {},
          "execution_count": 37
        }
      ]
    }
  ]
}