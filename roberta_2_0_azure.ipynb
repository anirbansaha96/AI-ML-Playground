{
  "nbformat": 4,
  "nbformat_minor": 0,
  "metadata": {
    "colab": {
      "name": "roberta-2.0-azure.ipynb",
      "provenance": [],
      "collapsed_sections": [],
      "authorship_tag": "ABX9TyPDxo0T3uCXc2yLrPsWfdAk"
    },
    "kernelspec": {
      "name": "python3",
      "display_name": "Python 3"
    }
  },
  "cells": [
    {
      "cell_type": "code",
      "metadata": {
        "id": "IoM2gzD97mwX",
        "colab_type": "code",
        "colab": {}
      },
      "source": [
        "! pip install farm-haystack\n",
        "!pip install PyPDF2\n",
        "!pip install wget"
      ],
      "execution_count": null,
      "outputs": []
    },
    {
      "cell_type": "code",
      "metadata": {
        "id": "YAaL-v6sFmBs",
        "colab_type": "code",
        "colab": {}
      },
      "source": [
        "from haystack import Finder\n",
        "from haystack.indexing.cleaning import clean_wiki_text\n",
        "from haystack.indexing.io import write_documents_to_db, fetch_archive_from_http\n",
        "from haystack.reader.farm import FARMReader\n",
        "from haystack.reader.transformers import TransformersReader\n",
        "from haystack.utils import print_answers\n",
        "from haystack.database.memory import InMemoryDocumentStore\n",
        "document_store = InMemoryDocumentStore()"
      ],
      "execution_count": null,
      "outputs": []
    },
    {
      "cell_type": "code",
      "metadata": {
        "id": "fvGCOJ_R7zl-",
        "colab_type": "code",
        "colab": {}
      },
      "source": [
        "import os\n",
        "doc_dir = \"data/article\"\n",
        "if not os.path.exists(doc_dir):\n",
        "        os.makedirs(doc_dir)"
      ],
      "execution_count": null,
      "outputs": []
    },
    {
      "cell_type": "code",
      "metadata": {
        "id": "LwXKJJED85jN",
        "colab_type": "code",
        "colab": {
          "base_uri": "https://localhost:8080/",
          "height": 35
        },
        "outputId": "0873d185-ebe1-4ada-f5e6-39431d7d0a68"
      },
      "source": [
        "import wget\n",
        "wget.download(url='https://docsmsftpdfs.blob.core.windows.net/guides/azure/azure-ops-guide.pdf', out=doc_dir)"
      ],
      "execution_count": null,
      "outputs": [
        {
          "output_type": "execute_result",
          "data": {
            "text/plain": [
              "'data/article/azure-ops-guide.pdf'"
            ]
          },
          "metadata": {
            "tags": []
          },
          "execution_count": 4
        }
      ]
    },
    {
      "cell_type": "code",
      "metadata": {
        "id": "NvYlNcMLD9Jg",
        "colab_type": "code",
        "colab": {}
      },
      "source": [
        "import PyPDF2\n",
        "article=[]\n",
        "pdfFileObj = open('data/article/azure-ops-guide.pdf', 'rb') \n",
        "pdfReader = PyPDF2.PdfFileReader(pdfFileObj) \n",
        "for page in range(pdfReader.numPages):\n",
        "  pageObj = pdfReader.getPage(page)\n",
        "  article.append(pageObj.extractText())\n",
        "article_text = open('data/article/azure-ops-guide.txt',\"w\")\n",
        "article_text.writelines(article)"
      ],
      "execution_count": null,
      "outputs": []
    },
    {
      "cell_type": "code",
      "metadata": {
        "id": "iMROvylvvlOl",
        "colab_type": "code",
        "colab": {
          "base_uri": "https://localhost:8080/",
          "height": 35
        },
        "outputId": "49298635-0b21-4024-99c0-a5d63dcb2f8f"
      },
      "source": [
        "write_documents_to_db(document_store=document_store, document_dir=doc_dir, clean_func=clean_wiki_text, only_empty_db=True)"
      ],
      "execution_count": null,
      "outputs": [
        {
          "output_type": "stream",
          "text": [
            "06/22/2020 15:07:46 - INFO - haystack.indexing.io -   Wrote 1 docs to DB\n"
          ],
          "name": "stderr"
        }
      ]
    },
    {
      "cell_type": "code",
      "metadata": {
        "id": "7_IAGyTfFd2R",
        "colab_type": "code",
        "colab": {}
      },
      "source": [
        "from haystack.retriever.tfidf import TfidfRetriever\n",
        "retriever = TfidfRetriever(document_store=document_store)\n",
        "reader = FARMReader(model_name_or_path=\"deepset/roberta-base-squad2\", use_gpu=False)\n",
        "finder = Finder(reader, retriever)"
      ],
      "execution_count": null,
      "outputs": []
    },
    {
      "cell_type": "code",
      "metadata": {
        "id": "f_Pe0rV_Gz_I",
        "colab_type": "code",
        "colab": {}
      },
      "source": [
        "prediction = finder.get_answers(question=\"What is Azure Portal?\", top_k_retriever=10, top_k_reader=5)"
      ],
      "execution_count": null,
      "outputs": []
    },
    {
      "cell_type": "code",
      "metadata": {
        "id": "J4jxYsxaG77O",
        "colab_type": "code",
        "colab": {
          "base_uri": "https://localhost:8080/",
          "height": 312
        },
        "outputId": "381e792a-f11d-4ab4-c89e-92b3bb29aec0"
      },
      "source": [
        "print_answers(prediction, details=\"minimal\")"
      ],
      "execution_count": null,
      "outputs": [
        {
          "output_type": "stream",
          "text": [
            "[   {   'answer': 'a web-based application that can be used to create, manage, '\n",
            "                  'and remove Azure\\n'\n",
            "                  'resources and services',\n",
            "        'context': 'ries.\\n'\n",
            "                   'The Azure portal is a web-based application that can be '\n",
            "                   'used to create, manage, and remove Azure\\n'\n",
            "                   'resources and services. The Azure portal is loc'},\n",
            "    {   'answer': 'requires only an active Azure subscription\\n'\n",
            "                  'and access to a web browser',\n",
            "        'context': 'rtual network by using the Azure portal requires only an '\n",
            "                   'active Azure subscription\\n'\n",
            "                   'and access to a web browser. You can deploy a new virtual '\n",
            "                   'network i'},\n",
            "    {   'answer': 'provides detailed insight into Azure billing information',\n",
            "        'context': ' to view billing information. The Azure portal\\n'\n",
            "                   'provides detailed insight into Azure billing information.\\n'\n",
            "                   'For more information, see How to download you'}]\n"
          ],
          "name": "stdout"
        }
      ]
    }
  ]
}