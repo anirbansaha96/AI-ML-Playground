{
  "nbformat": 4,
  "nbformat_minor": 0,
  "metadata": {
    "colab": {
      "name": "DeepPavlov_NoAns_QA.ipynb",
      "provenance": [],
      "collapsed_sections": [],
      "authorship_tag": "ABX9TyPmW8hCOs4dd8v355NTvHcn"
    },
    "kernelspec": {
      "name": "python3",
      "display_name": "Python 3"
    }
  },
  "cells": [
    {
      "cell_type": "code",
      "metadata": {
        "id": "Z11XAQuccQKz",
        "colab_type": "code",
        "colab": {}
      },
      "source": [
        "!pip install wget"
      ],
      "execution_count": null,
      "outputs": []
    },
    {
      "cell_type": "code",
      "metadata": {
        "id": "ZNOkawWWZidg",
        "colab_type": "code",
        "colab": {}
      },
      "source": [
        "import wget"
      ],
      "execution_count": 5,
      "outputs": []
    },
    {
      "cell_type": "code",
      "metadata": {
        "id": "MSPA7Q5uci-U",
        "colab_type": "code",
        "colab": {}
      },
      "source": [
        "article = wget.download('https://docsmsftpdfs.blob.core.windows.net/guides/azure/azure-ops-guide.pdf')"
      ],
      "execution_count": 6,
      "outputs": []
    },
    {
      "cell_type": "code",
      "metadata": {
        "id": "NnslLzcqcpKs",
        "colab_type": "code",
        "colab": {}
      },
      "source": [
        "!pip install PyPDF2"
      ],
      "execution_count": null,
      "outputs": []
    },
    {
      "cell_type": "code",
      "metadata": {
        "id": "zqCF_lRoc24z",
        "colab_type": "code",
        "colab": {}
      },
      "source": [
        "import PyPDF2\n",
        "article=[]\n",
        "pdfFileObj = open('azure-ops-guide.pdf', 'rb') \n",
        "pdfReader = PyPDF2.PdfFileReader(pdfFileObj) \n",
        "for page in range(pdfReader.numPages):\n",
        "  pageObj = pdfReader.getPage(page)\n",
        "  article.append(pageObj.extractText())"
      ],
      "execution_count": 11,
      "outputs": []
    },
    {
      "cell_type": "code",
      "metadata": {
        "id": "oZwqBIET79Sm",
        "colab_type": "code",
        "colab": {}
      },
      "source": [
        "article_text='';\n",
        "for text in article:\n",
        "  article_text=article_text+''+text"
      ],
      "execution_count": 17,
      "outputs": []
    },
    {
      "cell_type": "code",
      "metadata": {
        "id": "FdCOayNEc_8d",
        "colab_type": "code",
        "colab": {}
      },
      "source": [
        "article_text.replace('\\n','')"
      ],
      "execution_count": null,
      "outputs": []
    },
    {
      "cell_type": "code",
      "metadata": {
        "id": "9s_ZTRIkdBGl",
        "colab_type": "code",
        "colab": {}
      },
      "source": [
        "!pip install deeppavlov"
      ],
      "execution_count": null,
      "outputs": []
    },
    {
      "cell_type": "code",
      "metadata": {
        "id": "0RlP8niadKuS",
        "colab_type": "code",
        "colab": {}
      },
      "source": [
        "!python -m deeppavlov install squad_bert_infer"
      ],
      "execution_count": null,
      "outputs": []
    },
    {
      "cell_type": "code",
      "metadata": {
        "id": "JGqTpBq8dwNs",
        "colab_type": "code",
        "colab": {}
      },
      "source": [
        "from deeppavlov import build_model, configs"
      ],
      "execution_count": 2,
      "outputs": []
    },
    {
      "cell_type": "code",
      "metadata": {
        "id": "9S_CptgxlPbL",
        "colab_type": "code",
        "colab": {}
      },
      "source": [
        "model = build_model(configs.squad.squad_bert_infer , download=True)"
      ],
      "execution_count": null,
      "outputs": []
    },
    {
      "cell_type": "code",
      "metadata": {
        "id": "q38Ec7vHeFtk",
        "colab_type": "code",
        "colab": {
          "base_uri": "https://localhost:8080/",
          "height": 69
        },
        "outputId": "b20c8252-0464-4609-d9ac-fb95a2736d34"
      },
      "source": [
        "model([article_text], ['What is Azure Portal?'])"
      ],
      "execution_count": 20,
      "outputs": [
        {
          "output_type": "execute_result",
          "data": {
            "text/plain": [
              "[['a web\\n-\\nbased application that can be used to create, manage, and remove Azure \\nresources and services'],\n",
              " [284],\n",
              " [2110620.25]]"
            ]
          },
          "metadata": {
            "tags": []
          },
          "execution_count": 20
        }
      ]
    },
    {
      "cell_type": "code",
      "metadata": {
        "id": "pUJi6suqerOv",
        "colab_type": "code",
        "colab": {
          "base_uri": "https://localhost:8080/",
          "height": 35
        },
        "outputId": "7dce74cb-e9f8-4019-c540-759b44575d47"
      },
      "source": [
        "model([article_text], ['What is capital of India?'])"
      ],
      "execution_count": 22,
      "outputs": [
        {
          "output_type": "execute_result",
          "data": {
            "text/plain": [
              "[['China and Germany'], [646], [0.8806350231170654]]"
            ]
          },
          "metadata": {
            "tags": []
          },
          "execution_count": 22
        }
      ]
    },
    {
      "cell_type": "markdown",
      "metadata": {
        "id": "uwMpVvBNOlhz",
        "colab_type": "text"
      },
      "source": [
        "We see that by infering and working further on the logit score we can achieve a stage which doesn't give a solution when we need it to do so. "
      ]
    }
  ]
}