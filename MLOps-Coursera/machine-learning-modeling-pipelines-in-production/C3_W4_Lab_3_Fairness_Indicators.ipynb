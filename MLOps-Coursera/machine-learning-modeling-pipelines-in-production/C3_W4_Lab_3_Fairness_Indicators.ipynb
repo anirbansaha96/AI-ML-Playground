{
  "nbformat": 4,
  "nbformat_minor": 0,
  "metadata": {
    "colab": {
      "name": "C3_W4_Lab_3_Fairness_Indicators.ipynb",
      "provenance": [],
      "collapsed_sections": [],
      "include_colab_link": true
    },
    "kernelspec": {
      "name": "python3",
      "display_name": "Python 3"
    }
  },
  "cells": [
    {
      "cell_type": "markdown",
      "metadata": {
        "id": "view-in-github",
        "colab_type": "text"
      },
      "source": [
        "<a href=\"https://colab.research.google.com/github/anirbansaha96/AI-ML-Playground/blob/master/MLOps-Coursera/machine-learning-modeling-pipelines-in-production/C3_W4_Lab_3_Fairness_Indicators.ipynb\" target=\"_parent\"><img src=\"https://colab.research.google.com/assets/colab-badge.svg\" alt=\"Open In Colab\"/></a>"
      ]
    },
    {
      "cell_type": "markdown",
      "metadata": {
        "id": "YwpE8n4v_JeT"
      },
      "source": [
        "# Ungraded Lab: Fairness Indicators\n",
        "\n",
        "In this colab notebook, you will use [Fairness Indicators](https://www.tensorflow.org/tfx/guide/fairness_indicators) to explore the `Smiling` attribute in a large-scale face image dataset. Fairness Indicators is a suite of tools built on top of [TensorFlow Model Analysis](https://www.tensorflow.org/tfx/model_analysis/get_started) that enable regular evaluation of fairness metrics in product pipelines. This [Introductory Video](https://www.youtube.com/watch?v=pHT-ImFXPQo) provides more details and context on the real-world scenario presented here, one of primary motivations for creating Fairness Indicators. This notebook will teach you to:\n",
        "\n",
        "\n",
        "*   Train a simple neural network model to detect a person's smile in images using [TF Keras](https://www.tensorflow.org/guide/keras) and the [CelebFaces Attributes (CelebA)](http://mmlab.ie.cuhk.edu.hk/projects/CelebA.html) dataset.\n",
        "*   Evaluate model performance against a commonly used fairness metric across age groups using Fairness Indicators.\n",
        "\n",
        "*Credits: Some of the code and discussions are taken from this [Tensorflow tutorial](https://colab.research.google.com/github/tensorflow/fairness-indicators/blob/master/g3doc/tutorials/Fairness_Indicators_TFCO_CelebA_Case_Study.ipynb).*"
      ]
    },
    {
      "cell_type": "markdown",
      "metadata": {
        "id": "QTvlORA3TuTz"
      },
      "source": [
        "## Install Fairness Indicators\n",
        "\n",
        "This will install all related libraries such as TFMA and TFDV."
      ]
    },
    {
      "cell_type": "code",
      "metadata": {
        "id": "t1ZWcTAvoi_o"
      },
      "source": [
        "# !pip install fairness-indicators"
      ],
      "execution_count": null,
      "outputs": []
    },
    {
      "cell_type": "markdown",
      "metadata": {
        "id": "joQr8PWXUWon"
      },
      "source": [
        "*Note: In Google Colab, you need to restart the runtime at this point to finalize updating the packages you just installed. You can do so by clicking the `Restart Runtime` at the end of the output cell above (after installation), or by selecting `Runtime > Restart Runtime` in the Menu bar. **Please do not proceed to the next section without restarting.** You can also ignore the errors about version incompatibility of some of the bundled packages because we won't be using those in this notebook.*"
      ]
    },
    {
      "cell_type": "markdown",
      "metadata": {
        "id": "fiqohiU73cRf"
      },
      "source": [
        "## Import packages\n",
        "\n",
        "Next, you will import the main packages and some utilities you will need in this notebook. Notice that you are not importing `fairness-indicators` directly. As mentioned in the intro, this suite of tools is built on top of TFMA so you can just import TFMA to access it."
      ]
    },
    {
      "cell_type": "code",
      "metadata": {
        "id": "A66hFOyMorfQ"
      },
      "source": [
        "import tensorflow as tf\n",
        "import tensorflow_model_analysis as tfma\n",
        "import tensorflow_datasets as tfds\n",
        "from tensorflow import keras"
      ],
      "execution_count": 2,
      "outputs": []
    },
    {
      "cell_type": "markdown",
      "metadata": {
        "id": "LwJ63Ay0WUjP"
      },
      "source": [
        "The code below should not produce any error. Otherwise, please restart the installation."
      ]
    },
    {
      "cell_type": "code",
      "metadata": {
        "id": "WzZNQrUCpEs6",
        "colab": {
          "base_uri": "https://localhost:8080/"
        },
        "outputId": "8d7f2b11-d7d3-43fc-cb97-e333adc1f9f3"
      },
      "source": [
        "print(\"TensorFlow \" + tf.__version__)\n",
        "print(\"TFMA \" + tfma.VERSION_STRING)"
      ],
      "execution_count": 3,
      "outputs": [
        {
          "output_type": "stream",
          "name": "stdout",
          "text": [
            "TensorFlow 2.6.0\n",
            "TFMA 0.33.0\n"
          ]
        }
      ]
    },
    {
      "cell_type": "markdown",
      "metadata": {
        "id": "aLzC_ZvSEM_C"
      },
      "source": [
        "## Download and prepare the dataset\n",
        "\n",
        "[CelebA](http://mmlab.ie.cuhk.edu.hk/projects/CelebA.html) is a large-scale face attributes dataset with more than 200,000 celebrity images, each with 40 attribute annotations (such as hair type, fashion accessories, facial features, etc.) and 5 landmark locations (eyes, mouth and nose positions). For more details, you can read more in [this paper](https://liuziwei7.github.io/projects/FaceAttributes.html).\n",
        "\n",
        "With the permission of the owners, this dataset is stored on Google Cloud Storage (GCS) and mostly accessed via [TensorFlow Datasets(`tfds`)](https://www.tensorflow.org/datasets). To save on download time and disk space, you will use the GCS bucket specified below as your data directory. This already contains the TFRecords. If you want to download it to your workspace, you can pass a local directory to the `data_dir` argument. Just take note that it will take time to complete the download.\n",
        "\n",
        "\n"
      ]
    },
    {
      "cell_type": "code",
      "metadata": {
        "id": "_tRPCjI9YxKN"
      },
      "source": [
        "# URI of the dataset in Goocle Cloud Storage\n",
        "GCS_BASE_DIR = \"gs://celeb_a_dataset/\"\n",
        "\n",
        "# Load the data using TFDS\n",
        "data, data_info = tfds.load(\"celeb_a\", data_dir=GCS_BASE_DIR, with_info=True, builder_kwargs={'version':'2.0.0'})"
      ],
      "execution_count": 4,
      "outputs": []
    },
    {
      "cell_type": "markdown",
      "metadata": {
        "id": "5c8Rsf-WamtK"
      },
      "source": [
        "You can preview some of the images in the dataset."
      ]
    },
    {
      "cell_type": "code",
      "metadata": {
        "id": "8r0ZMW3_ZnZU",
        "colab": {
          "base_uri": "https://localhost:8080/",
          "height": 346
        },
        "outputId": "d9455d7a-43e4-45db-d609-edf8f6efed45"
      },
      "source": [
        "# Take 6 examples and preview images\n",
        "fig = tfds.show_examples(data['train'].take(6), data_info)"
      ],
      "execution_count": 5,
      "outputs": [
        {
          "output_type": "display_data",
          "data": {
            "image/png": "[encoded data removed]",
            "text/plain": [
              "<Figure size 648x648 with 6 Axes>"
            ]
          },
          "metadata": {}
        }
      ]
    },
    {
      "cell_type": "markdown",
      "metadata": {
        "id": "Nt8Ahn9fbBTh"
      },
      "source": [
        "You can also view the dataset as a dataframe to preview the other attributes in tabular format."
      ]
    },
    {
      "cell_type": "code",
      "metadata": {
        "id": "S7Ndy-sKbpbk",
        "colab": {
          "base_uri": "https://localhost:8080/",
          "height": 732
        },
        "outputId": "230d18ee-d360-4258-e5f7-1eb143c125c5"
      },
      "source": [
        "# Take 4 examples as a dataframe\n",
        "df = tfds.as_dataframe(data['train'].take(4), data_info)\n",
        "\n",
        "# View the dataframe\n",
        "df.head()"
      ],
      "execution_count": 6,
      "outputs": [
        {
          "output_type": "execute_result",
          "data": {
            "text/html": [
              "<div>\n",
              "<style scoped>\n",
              "    .dataframe tbody tr th:only-of-type {\n",
              "        vertical-align: middle;\n",
              "    }\n",
              "\n",
              "    .dataframe tbody tr th {\n",
              "        vertical-align: top;\n",
              "    }\n",
              "\n",
              "    .dataframe thead th {\n",
              "        text-align: right;\n",
              "    }\n",
              "</style>\n",
              "<table border=\"1\" class=\"dataframe\">\n",
              "  <thead>\n",
              "    <tr style=\"text-align: right;\">\n",
              "      <th></th>\n",
              "      <th>attributes/5_o_Clock_Shadow</th>\n",
              "      <th>attributes/Arched_Eyebrows</th>\n",
              "      <th>attributes/Attractive</th>\n",
              "      <th>attributes/Bags_Under_Eyes</th>\n",
              "      <th>attributes/Bald</th>\n",
              "      <th>attributes/Bangs</th>\n",
              "      <th>attributes/Big_Lips</th>\n",
              "      <th>attributes/Big_Nose</th>\n",
              "      <th>attributes/Black_Hair</th>\n",
              "      <th>attributes/Blond_Hair</th>\n",
              "      <th>attributes/Blurry</th>\n",
              "      <th>attributes/Brown_Hair</th>\n",
              "      <th>attributes/Bushy_Eyebrows</th>\n",
              "      <th>attributes/Chubby</th>\n",
              "      <th>attributes/Double_Chin</th>\n",
              "      <th>attributes/Eyeglasses</th>\n",
              "      <th>attributes/Goatee</th>\n",
              "      <th>attributes/Gray_Hair</th>\n",
              "      <th>attributes/Heavy_Makeup</th>\n",
              "      <th>attributes/High_Cheekbones</th>\n",
              "      <th>attributes/Male</th>\n",
              "      <th>attributes/Mouth_Slightly_Open</th>\n",
              "      <th>attributes/Mustache</th>\n",
              "      <th>attributes/Narrow_Eyes</th>\n",
              "      <th>attributes/No_Beard</th>\n",
              "      <th>attributes/Oval_Face</th>\n",
              "      <th>attributes/Pale_Skin</th>\n",
              "      <th>attributes/Pointy_Nose</th>\n",
              "      <th>attributes/Receding_Hairline</th>\n",
              "      <th>attributes/Rosy_Cheeks</th>\n",
              "      <th>attributes/Sideburns</th>\n",
              "      <th>attributes/Smiling</th>\n",
              "      <th>attributes/Straight_Hair</th>\n",
              "      <th>attributes/Wavy_Hair</th>\n",
              "      <th>attributes/Wearing_Earrings</th>\n",
              "      <th>attributes/Wearing_Hat</th>\n",
              "      <th>attributes/Wearing_Lipstick</th>\n",
              "      <th>attributes/Wearing_Necklace</th>\n",
              "      <th>attributes/Wearing_Necktie</th>\n",
              "      <th>attributes/Young</th>\n",
              "      <th>image</th>\n",
              "      <th>landmarks/lefteye_x</th>\n",
              "      <th>landmarks/lefteye_y</th>\n",
              "      <th>landmarks/leftmouth_x</th>\n",
              "      <th>landmarks/leftmouth_y</th>\n",
              "      <th>landmarks/nose_x</th>\n",
              "      <th>landmarks/nose_y</th>\n",
              "      <th>landmarks/righteye_x</th>\n",
              "      <th>landmarks/righteye_y</th>\n",
              "      <th>landmarks/rightmouth_x</th>\n",
              "      <th>landmarks/rightmouth_y</th>\n",
              "    </tr>\n",
              "  </thead>\n",
              "  <tbody>\n",
              "    <tr>\n",
              "      <th>0</th>\n",
              "      <td>False</td>\n",
              "      <td>False</td>\n",
              "      <td>True</td>\n",
              "      <td>False</td>\n",
              "      <td>False</td>\n",
              "      <td>False</td>\n",
              "      <td>True</td>\n",
              "      <td>False</td>\n",
              "      <td>False</td>\n",
              "      <td>False</td>\n",
              "      <td>False</td>\n",
              "      <td>False</td>\n",
              "      <td>False</td>\n",
              "      <td>False</td>\n",
              "      <td>False</td>\n",
              "      <td>False</td>\n",
              "      <td>False</td>\n",
              "      <td>False</td>\n",
              "      <td>True</td>\n",
              "      <td>True</td>\n",
              "      <td>False</td>\n",
              "      <td>True</td>\n",
              "      <td>False</td>\n",
              "      <td>False</td>\n",
              "      <td>True</td>\n",
              "      <td>False</td>\n",
              "      <td>False</td>\n",
              "      <td>True</td>\n",
              "      <td>False</td>\n",
              "      <td>False</td>\n",
              "      <td>False</td>\n",
              "      <td>True</td>\n",
              "      <td>False</td>\n",
              "      <td>True</td>\n",
              "      <td>False</td>\n",
              "      <td>False</td>\n",
              "      <td>True</td>\n",
              "      <td>False</td>\n",
              "      <td>False</td>\n",
              "      <td>True</td>\n",
              "      <td>[[[30, 32, 21], [30, 32, 21], [31, 33, 22], [3...</td>\n",
              "      <td>68</td>\n",
              "      <td>111</td>\n",
              "      <td>64</td>\n",
              "      <td>149</td>\n",
              "      <td>75</td>\n",
              "      <td>138</td>\n",
              "      <td>109</td>\n",
              "      <td>113</td>\n",
              "      <td>114</td>\n",
              "      <td>153</td>\n",
              "    </tr>\n",
              "    <tr>\n",
              "      <th>1</th>\n",
              "      <td>True</td>\n",
              "      <td>True</td>\n",
              "      <td>False</td>\n",
              "      <td>False</td>\n",
              "      <td>True</td>\n",
              "      <td>False</td>\n",
              "      <td>True</td>\n",
              "      <td>True</td>\n",
              "      <td>False</td>\n",
              "      <td>False</td>\n",
              "      <td>False</td>\n",
              "      <td>False</td>\n",
              "      <td>False</td>\n",
              "      <td>True</td>\n",
              "      <td>False</td>\n",
              "      <td>False</td>\n",
              "      <td>False</td>\n",
              "      <td>False</td>\n",
              "      <td>False</td>\n",
              "      <td>True</td>\n",
              "      <td>True</td>\n",
              "      <td>True</td>\n",
              "      <td>False</td>\n",
              "      <td>False</td>\n",
              "      <td>False</td>\n",
              "      <td>True</td>\n",
              "      <td>False</td>\n",
              "      <td>False</td>\n",
              "      <td>False</td>\n",
              "      <td>False</td>\n",
              "      <td>True</td>\n",
              "      <td>True</td>\n",
              "      <td>False</td>\n",
              "      <td>False</td>\n",
              "      <td>False</td>\n",
              "      <td>False</td>\n",
              "      <td>False</td>\n",
              "      <td>False</td>\n",
              "      <td>False</td>\n",
              "      <td>True</td>\n",
              "      <td>[[[197, 195, 196], [179, 177, 178], [184, 182,...</td>\n",
              "      <td>69</td>\n",
              "      <td>111</td>\n",
              "      <td>68</td>\n",
              "      <td>151</td>\n",
              "      <td>90</td>\n",
              "      <td>133</td>\n",
              "      <td>108</td>\n",
              "      <td>112</td>\n",
              "      <td>109</td>\n",
              "      <td>152</td>\n",
              "    </tr>\n",
              "    <tr>\n",
              "      <th>2</th>\n",
              "      <td>False</td>\n",
              "      <td>False</td>\n",
              "      <td>True</td>\n",
              "      <td>False</td>\n",
              "      <td>False</td>\n",
              "      <td>True</td>\n",
              "      <td>False</td>\n",
              "      <td>False</td>\n",
              "      <td>False</td>\n",
              "      <td>True</td>\n",
              "      <td>False</td>\n",
              "      <td>False</td>\n",
              "      <td>False</td>\n",
              "      <td>False</td>\n",
              "      <td>False</td>\n",
              "      <td>False</td>\n",
              "      <td>False</td>\n",
              "      <td>False</td>\n",
              "      <td>True</td>\n",
              "      <td>True</td>\n",
              "      <td>False</td>\n",
              "      <td>True</td>\n",
              "      <td>False</td>\n",
              "      <td>False</td>\n",
              "      <td>True</td>\n",
              "      <td>False</td>\n",
              "      <td>False</td>\n",
              "      <td>False</td>\n",
              "      <td>False</td>\n",
              "      <td>False</td>\n",
              "      <td>False</td>\n",
              "      <td>True</td>\n",
              "      <td>True</td>\n",
              "      <td>False</td>\n",
              "      <td>False</td>\n",
              "      <td>False</td>\n",
              "      <td>True</td>\n",
              "      <td>False</td>\n",
              "      <td>False</td>\n",
              "      <td>False</td>\n",
              "      <td>[[[252, 218, 183], [252, 218, 183], [252, 218,...</td>\n",
              "      <td>68</td>\n",
              "      <td>112</td>\n",
              "      <td>67</td>\n",
              "      <td>151</td>\n",
              "      <td>84</td>\n",
              "      <td>132</td>\n",
              "      <td>109</td>\n",
              "      <td>111</td>\n",
              "      <td>110</td>\n",
              "      <td>152</td>\n",
              "    </tr>\n",
              "    <tr>\n",
              "      <th>3</th>\n",
              "      <td>False</td>\n",
              "      <td>False</td>\n",
              "      <td>True</td>\n",
              "      <td>False</td>\n",
              "      <td>False</td>\n",
              "      <td>False</td>\n",
              "      <td>False</td>\n",
              "      <td>False</td>\n",
              "      <td>False</td>\n",
              "      <td>False</td>\n",
              "      <td>False</td>\n",
              "      <td>False</td>\n",
              "      <td>False</td>\n",
              "      <td>False</td>\n",
              "      <td>False</td>\n",
              "      <td>False</td>\n",
              "      <td>False</td>\n",
              "      <td>False</td>\n",
              "      <td>False</td>\n",
              "      <td>True</td>\n",
              "      <td>False</td>\n",
              "      <td>True</td>\n",
              "      <td>False</td>\n",
              "      <td>False</td>\n",
              "      <td>True</td>\n",
              "      <td>True</td>\n",
              "      <td>False</td>\n",
              "      <td>False</td>\n",
              "      <td>False</td>\n",
              "      <td>False</td>\n",
              "      <td>False</td>\n",
              "      <td>True</td>\n",
              "      <td>True</td>\n",
              "      <td>False</td>\n",
              "      <td>True</td>\n",
              "      <td>False</td>\n",
              "      <td>True</td>\n",
              "      <td>False</td>\n",
              "      <td>False</td>\n",
              "      <td>True</td>\n",
              "      <td>[[[45, 89, 138], [45, 89, 138], [46, 88, 138],...</td>\n",
              "      <td>69</td>\n",
              "      <td>111</td>\n",
              "      <td>69</td>\n",
              "      <td>153</td>\n",
              "      <td>85</td>\n",
              "      <td>136</td>\n",
              "      <td>107</td>\n",
              "      <td>111</td>\n",
              "      <td>108</td>\n",
              "      <td>152</td>\n",
              "    </tr>\n",
              "  </tbody>\n",
              "</table>\n",
              "</div>"
            ],
            "text/plain": [
              "   attributes/5_o_Clock_Shadow  ...  landmarks/rightmouth_y\n",
              "0                        False  ...                     153\n",
              "1                         True  ...                     152\n",
              "2                        False  ...                     152\n",
              "3                        False  ...                     152\n",
              "\n",
              "[4 rows x 51 columns]"
            ]
          },
          "metadata": {},
          "execution_count": 6
        }
      ]
    },
    {
      "cell_type": "markdown",
      "metadata": {
        "id": "NqoM3nazby8C"
      },
      "source": [
        "Let's list the column header so you can see the attribute names in the dataset. For this notebook, you will just examine the `attributes/Young` and `attributes/Smiling` features but feel free to pick other features once you've gone over the whole exercise."
      ]
    },
    {
      "cell_type": "code",
      "metadata": {
        "id": "icDbLpkaGN0S",
        "colab": {
          "base_uri": "https://localhost:8080/"
        },
        "outputId": "9ee60e1a-3777-4515-cb97-9b6fa1bf7a18"
      },
      "source": [
        "# List dataframe header\n",
        "df.columns"
      ],
      "execution_count": 7,
      "outputs": [
        {
          "output_type": "execute_result",
          "data": {
            "text/plain": [
              "Index(['attributes/5_o_Clock_Shadow', 'attributes/Arched_Eyebrows',\n",
              "       'attributes/Attractive', 'attributes/Bags_Under_Eyes',\n",
              "       'attributes/Bald', 'attributes/Bangs', 'attributes/Big_Lips',\n",
              "       'attributes/Big_Nose', 'attributes/Black_Hair', 'attributes/Blond_Hair',\n",
              "       'attributes/Blurry', 'attributes/Brown_Hair',\n",
              "       'attributes/Bushy_Eyebrows', 'attributes/Chubby',\n",
              "       'attributes/Double_Chin', 'attributes/Eyeglasses', 'attributes/Goatee',\n",
              "       'attributes/Gray_Hair', 'attributes/Heavy_Makeup',\n",
              "       'attributes/High_Cheekbones', 'attributes/Male',\n",
              "       'attributes/Mouth_Slightly_Open', 'attributes/Mustache',\n",
              "       'attributes/Narrow_Eyes', 'attributes/No_Beard', 'attributes/Oval_Face',\n",
              "       'attributes/Pale_Skin', 'attributes/Pointy_Nose',\n",
              "       'attributes/Receding_Hairline', 'attributes/Rosy_Cheeks',\n",
              "       'attributes/Sideburns', 'attributes/Smiling',\n",
              "       'attributes/Straight_Hair', 'attributes/Wavy_Hair',\n",
              "       'attributes/Wearing_Earrings', 'attributes/Wearing_Hat',\n",
              "       'attributes/Wearing_Lipstick', 'attributes/Wearing_Necklace',\n",
              "       'attributes/Wearing_Necktie', 'attributes/Young', 'image',\n",
              "       'landmarks/lefteye_x', 'landmarks/lefteye_y', 'landmarks/leftmouth_x',\n",
              "       'landmarks/leftmouth_y', 'landmarks/nose_x', 'landmarks/nose_y',\n",
              "       'landmarks/righteye_x', 'landmarks/righteye_y',\n",
              "       'landmarks/rightmouth_x', 'landmarks/rightmouth_y'],\n",
              "      dtype='object')"
            ]
          },
          "metadata": {},
          "execution_count": 7
        }
      ]
    },
    {
      "cell_type": "markdown",
      "metadata": {
        "id": "BO5Ld9oOYAvZ"
      },
      "source": [
        "In this notebook:\n",
        "* Your model will attempt to classify whether the subject of the image is smiling, as represented by the `Smiling` attribute<sup>*</sup>.\n",
        "*   Images will be resized from 218x178 to 28x28 to reduce the execution time and memory when training.\n",
        "*   Your model's performance will be evaluated across age groups, using the binary `Young` attribute. You will call this \"age group\" in this notebook.\n",
        "\n",
        "___\n",
        "\n",
        "<sup>*</sup> *While there is little information available about the labeling methodology for this dataset, you will assume that the \"Smiling\" attribute was determined by a pleased, kind, or amused expression on the subject's face. For the purpose of this example, you will take these labels as ground truth.*"
      ]
    },
    {
      "cell_type": "markdown",
      "metadata": {
        "id": "1uzyvjt8EyLT"
      },
      "source": [
        "### Caveats\n",
        "Before moving forward, there are several considerations to keep in mind when using CelebA:\n",
        "*   Although, in principle, this notebook could use any dataset of face images, CelebA was chosen because it contains public domain images of public figures.\n",
        "*   All of the attribute annotations in CelebA are operationalized as binary categories. For example, the `Young` attribute (as determined by the dataset labelers) is denoted as either present or absent in the image.\n",
        "*   CelebA's categorizations do not reflect real human diversity of attributes.\n",
        "*   For the purposes of this notebook, the feature containing the `Young` attribute is referred to as \"age group\". A `True` will put the image as a member of the `Young` age group and a `False` will put the image as a member of the `Not Young` age group. These are assumptions made as this information is not mentioned in the [original paper](http://openaccess.thecvf.com/content_iccv_2015/html/Liu_Deep_Learning_Face_ICCV_2015_paper.html).\n",
        "*   As such, performance in the models trained in this notebook is tied to the ways the attributes have been operationalized and annotated by the authors of CelebA.\n",
        "*   This model should not be used for commercial purposes as that would violate [CelebA's non-commercial research agreement](http://mmlab.ie.cuhk.edu.hk/projects/CelebA.html)."
      ]
    },
    {
      "cell_type": "markdown",
      "metadata": {
        "id": "6yDEIn3cE6Uo"
      },
      "source": [
        "### Setting Up Input Functions\n",
        "\n",
        "Now, you will define the preprocessing functions to prepare your data as model inputs. These include resizing images, normalizing pixels, casting to the right data type, and grouping the features and labels."
      ]
    },
    {
      "cell_type": "code",
      "metadata": {
        "id": "3PSk2eUUx9L8"
      },
      "source": [
        "# Define Constants\n",
        "ATTR_KEY = \"attributes\"\n",
        "IMAGE_KEY = \"image\"\n",
        "LABEL_KEY = \"Smiling\"\n",
        "GROUP_KEY = \"Young\"\n",
        "IMAGE_SIZE = 28\n",
        "\n",
        "# Define Preprocessing Function\n",
        "def preprocess_input_dict(feat_dict):\n",
        "  ''' Picks the attributes to study and resizes the images\n",
        "  Args:\n",
        "    feat_dict (dictionary): features from the dataset\n",
        "\n",
        "  Returns:\n",
        "    dictionary containing the resized image, label, and age group\n",
        "  '''\n",
        "  # Separate out the image and target variable from the feature dictionary.\n",
        "  image = feat_dict[IMAGE_KEY]\n",
        "  label = feat_dict[ATTR_KEY][LABEL_KEY]\n",
        "  group = feat_dict[ATTR_KEY][GROUP_KEY]\n",
        "\n",
        "  # Resize and normalize image.\n",
        "  image = tf.cast(image, tf.float32)\n",
        "  image = tf.image.resize(image, [IMAGE_SIZE, IMAGE_SIZE])\n",
        "  image /= 255.0\n",
        "\n",
        "  # Cast label and group to float32.\n",
        "  label = tf.cast(label, tf.float32)\n",
        "  group = tf.cast(group, tf.float32)\n",
        "\n",
        "  # Put the computed values in a dictionary\n",
        "  feat_dict[IMAGE_KEY] = image\n",
        "  feat_dict[ATTR_KEY][LABEL_KEY] = label\n",
        "  feat_dict[ATTR_KEY][GROUP_KEY] = group\n",
        "\n",
        "  return feat_dict\n",
        "\n",
        "# Define lambda functions to group features and labels for training and evaluation\n",
        "get_image_and_label = lambda feat_dict: (feat_dict[IMAGE_KEY], feat_dict[ATTR_KEY][LABEL_KEY])\n",
        "get_image_label_and_group = lambda feat_dict: (feat_dict[IMAGE_KEY], feat_dict[ATTR_KEY][LABEL_KEY], feat_dict[ATTR_KEY][GROUP_KEY])"
      ],
      "execution_count": 8,
      "outputs": []
    },
    {
      "cell_type": "markdown",
      "metadata": {
        "id": "IQOsJKPshhmJ"
      },
      "source": [
        "## Prepare train and test splits\n",
        "\n",
        "This next helper function will help split, shuffle, batch and preprocess your training data. For this notebook, you will just develop a model that accepts the image as input and outputs the `Smiling` attribute (i.e. label)."
      ]
    },
    {
      "cell_type": "code",
      "metadata": {
        "id": "-CfC6ZF4pc7I"
      },
      "source": [
        "def celeb_a_train_data_wo_group(data, batch_size):\n",
        "  '''\n",
        "  Args:\n",
        "    data (TF dataset) - dataset to preprocess\n",
        "    batch_size (int) - batch size\n",
        "  \n",
        "  Returns:\n",
        "    Batches of preprocessed datasets containing tuples with (image, label)\n",
        "  '''\n",
        "  celeb_a_train_data = data.shuffle(1024).repeat().batch(batch_size).map(preprocess_input_dict)\n",
        "  return celeb_a_train_data.map(get_image_and_label)"
      ],
      "execution_count": 9,
      "outputs": []
    },
    {
      "cell_type": "markdown",
      "metadata": {
        "id": "GZYWhFB-lal-"
      },
      "source": [
        "The `test` split does not need to be shuffled so you can just preprocess it like below."
      ]
    },
    {
      "cell_type": "code",
      "metadata": {
        "id": "hLkOPoVwdhKh"
      },
      "source": [
        "# Prepare test data\n",
        "celeb_a_test_data = data['test'].batch(1).map(preprocess_input_dict).map(get_image_label_and_group)"
      ],
      "execution_count": 10,
      "outputs": []
    },
    {
      "cell_type": "markdown",
      "metadata": {
        "id": "xcQwGY4JnsT6"
      },
      "source": [
        "As a sanity check, you can examine the contents of a one example in the test data. You should see that it is successfully reshaped and the pixels should be normalized."
      ]
    },
    {
      "cell_type": "code",
      "metadata": {
        "id": "svHIiXWPmfy4",
        "colab": {
          "base_uri": "https://localhost:8080/"
        },
        "outputId": "e1464f34-245d-40f2-8862-6c4019a36235"
      },
      "source": [
        "# Print info about the test data records\n",
        "for sample in celeb_a_test_data.take(1):\n",
        "  print(f'Data type: {type(sample)}')\n",
        "  print(f'Number of elements: {len(sample)}')\n",
        "  print(f'Shape of 1st element: {sample[0].shape}')\n",
        "  print(f'Shape of 2nd element: {sample[1].shape}')\n",
        "  print(f'Shape of 3rd element: {sample[2].shape}')\n",
        "  print(f'Contents: \\n{sample}')"
      ],
      "execution_count": 11,
      "outputs": [
        {
          "output_type": "stream",
          "name": "stdout",
          "text": [
            "Data type: <class 'tuple'>\n",
            "Number of elements: 3\n",
            "Shape of 1st element: (1, 28, 28, 3)\n",
            "Shape of 2nd element: (1,)\n",
            "Shape of 3rd element: (1,)\n",
            "Contents: \n",
            "(<tf.Tensor: shape=(1, 28, 28, 3), dtype=float32, numpy=\n",
            "array([[[[0.81317526, 0.7912615 , 0.72465986],\n",
            "         [0.85708785, 0.83748   , 0.7542867 ],\n",
            "         [0.8946379 , 0.86615646, 0.77189875],\n",
            "         ...,\n",
            "         [0.527636  , 0.3903811 , 0.16293013],\n",
            "         [0.5096639 , 0.3841737 , 0.15280116],\n",
            "         [0.5019608 , 0.3882353 , 0.15294118]],\n",
            "\n",
            "        [[0.7951531 , 0.75985897, 0.69963485],\n",
            "         [0.7954932 , 0.7562775 , 0.7156613 ],\n",
            "         [0.80069023, 0.76064926, 0.7249299 ],\n",
            "         ...,\n",
            "         [0.5149909 , 0.3777361 , 0.1502851 ],\n",
            "         [0.50980395, 0.38431373, 0.15294118],\n",
            "         [0.5019608 , 0.3882353 , 0.15294118]],\n",
            "\n",
            "        [[0.74019605, 0.6931372 , 0.6382353 ],\n",
            "         [0.757418  , 0.71035916, 0.6554572 ],\n",
            "         [0.7790216 , 0.7319077 , 0.6804222 ],\n",
            "         ...,\n",
            "         [0.49884957, 0.3802521 , 0.15848838],\n",
            "         [0.5060224 , 0.3883753 , 0.13767505],\n",
            "         [0.5058824 , 0.38431373, 0.16078432]],\n",
            "\n",
            "        ...,\n",
            "\n",
            "        [[0.4265211 , 0.3478997 , 0.25378206],\n",
            "         [0.37941152, 0.28501377, 0.18291293],\n",
            "         [0.5415068 , 0.4387057 , 0.31951806],\n",
            "         ...,\n",
            "         [0.4872593 , 0.35395598, 0.10908321],\n",
            "         [0.5692585 , 0.4866355 , 0.23984672],\n",
            "         [0.1599792 , 0.1325282 , 0.06978311]],\n",
            "\n",
            "        [[0.322579  , 0.21025406, 0.09330729],\n",
            "         [0.2881203 , 0.189941  , 0.07271411],\n",
            "         [0.29329234, 0.1928722 , 0.08236799],\n",
            "         ...,\n",
            "         [0.5442577 , 0.44201183, 0.17365956],\n",
            "         [0.152111  , 0.13096255, 0.01717705],\n",
            "         [0.3653809 , 0.28434354, 0.1575379 ]],\n",
            "\n",
            "        [[0.26529136, 0.16094968, 0.07551543],\n",
            "         [0.27388975, 0.18761528, 0.09587853],\n",
            "         [0.22688586, 0.1515357 , 0.0604993 ],\n",
            "         ...,\n",
            "         [0.26771262, 0.18372396, 0.03662009],\n",
            "         [0.18214768, 0.14041106, 0.0327629 ],\n",
            "         [0.5616248 , 0.45547238, 0.18067256]]]], dtype=float32)>, <tf.Tensor: shape=(1,), dtype=float32, numpy=array([1.], dtype=float32)>, <tf.Tensor: shape=(1,), dtype=float32, numpy=array([1.], dtype=float32)>)\n"
          ]
        }
      ]
    },
    {
      "cell_type": "markdown",
      "metadata": {
        "id": "bZ7SCKIEF1IC"
      },
      "source": [
        "## Build a simple DNN Model\n",
        "\n",
        "With the dataset prepared, you will now assemble a simple `tf.keras.Sequential` model to classify your images. The model consists of:\n",
        "\n",
        "1. An input layer that represents the flattened 28x28x3 image.\n",
        "2. A fully connected layer with 64 units activated by a ReLU function.\n",
        "3. A single-unit readout layer to output real-scores instead of probabilities.\n",
        "\n",
        "You may be able to greatly improve model performance by adding some complexity (e.g., more densely-connected layers, exploring different activation functions, increasing image size), but that may distract from the goal of demonstrating how easy it is to apply the indicators when working with Keras. For that reason, you will first keep the model simple — but feel free to explore this space later."
      ]
    },
    {
      "cell_type": "code",
      "metadata": {
        "id": "tpNlbyyapfbL"
      },
      "source": [
        "def create_model():\n",
        "  '''Builds the simple DNN binary classifier'''\n",
        "\n",
        "  # Build the model using the Sequential API\n",
        "  model = keras.Sequential([\n",
        "      keras.layers.Flatten(input_shape=(IMAGE_SIZE, IMAGE_SIZE, 3), name='image'),\n",
        "      keras.layers.Dense(64, activation='relu'),\n",
        "      keras.layers.Dense(1, activation=None)\n",
        "  ])\n",
        "\n",
        "  # Compile the model with hinge loss and binary accuracy metric\n",
        "  model.compile(\n",
        "      optimizer=tf.keras.optimizers.Adam(0.001),\n",
        "      loss='hinge',\n",
        "      metrics='binary_accuracy')\n",
        "  \n",
        "  return model\n"
      ],
      "execution_count": 12,
      "outputs": []
    },
    {
      "cell_type": "markdown",
      "metadata": {
        "id": "zLVPrZGYGwiI"
      },
      "source": [
        "## Train & Evaluate Model\n",
        "\n",
        "You’re now ready to train your model. To cut back on the amount of execution time and memory, you will train the model by slicing the data into small batches with only a few repeated iterations."
      ]
    },
    {
      "cell_type": "code",
      "metadata": {
        "id": "spMUm9wNp0nW",
        "colab": {
          "base_uri": "https://localhost:8080/"
        },
        "outputId": "84ff4142-ac7d-4db3-8057-5b0f0e024544"
      },
      "source": [
        "BATCH_SIZE = 32\n",
        "\n",
        "# Build the model\n",
        "model = create_model()\n",
        "\n",
        "# Train the model\n",
        "model.fit(celeb_a_train_data_wo_group(data['train'], BATCH_SIZE), epochs=5, steps_per_epoch=1000)"
      ],
      "execution_count": 13,
      "outputs": [
        {
          "output_type": "stream",
          "name": "stdout",
          "text": [
            "Epoch 1/5\n",
            "1000/1000 [==============================] - 33s 31ms/step - loss: 0.5266 - binary_accuracy: 0.7554\n",
            "Epoch 2/5\n",
            "1000/1000 [==============================] - 31s 31ms/step - loss: 0.3638 - binary_accuracy: 0.8369\n",
            "Epoch 3/5\n",
            "1000/1000 [==============================] - 30s 30ms/step - loss: 0.3541 - binary_accuracy: 0.8432\n",
            "Epoch 4/5\n",
            "1000/1000 [==============================] - 29s 29ms/step - loss: 0.3431 - binary_accuracy: 0.8482\n",
            "Epoch 5/5\n",
            "1000/1000 [==============================] - 25s 25ms/step - loss: 0.3344 - binary_accuracy: 0.8524\n"
          ]
        },
        {
          "output_type": "execute_result",
          "data": {
            "text/plain": [
              "<keras.callbacks.History at 0x7f376c2c9c90>"
            ]
          },
          "metadata": {},
          "execution_count": 13
        }
      ]
    },
    {
      "cell_type": "markdown",
      "metadata": {
        "id": "CgYTmRdcHYOK"
      },
      "source": [
        "Evaluating the model on the test data should result in a final accuracy score of just over 85%. Not bad for a simple model with no fine tuning."
      ]
    },
    {
      "cell_type": "code",
      "metadata": {
        "id": "tlPUI-ovqL-F",
        "colab": {
          "base_uri": "https://localhost:8080/"
        },
        "outputId": "64456989-59d6-4e89-fe2b-d675fd607be4"
      },
      "source": [
        "# Evaluate trained model on the test data\n",
        "results = model.evaluate(celeb_a_test_data)"
      ],
      "execution_count": 14,
      "outputs": [
        {
          "output_type": "stream",
          "name": "stdout",
          "text": [
            "19962/19962 [==============================] - 35s 2ms/step - loss: 0.2189 - binary_accuracy: 0.8514\n"
          ]
        }
      ]
    },
    {
      "cell_type": "markdown",
      "metadata": {
        "id": "HKdvynqKrWfn"
      },
      "source": [
        "You will then save the model so you can analyze it in the next section."
      ]
    },
    {
      "cell_type": "code",
      "metadata": {
        "id": "Jk06C_O3SIkx",
        "colab": {
          "base_uri": "https://localhost:8080/"
        },
        "outputId": "50ef9032-d5ae-42f2-e03d-057a923ce5fd"
      },
      "source": [
        "# Define model directory\n",
        "MODEL_LOCATION = 'saved_model'\n",
        "\n",
        "# Save the model\n",
        "model.save(MODEL_LOCATION, save_format='tf')"
      ],
      "execution_count": 15,
      "outputs": [
        {
          "output_type": "stream",
          "name": "stdout",
          "text": [
            "INFO:tensorflow:Assets written to: saved_model/assets\n"
          ]
        },
        {
          "output_type": "stream",
          "name": "stderr",
          "text": [
            "INFO:tensorflow:Assets written to: saved_model/assets\n"
          ]
        }
      ]
    },
    {
      "cell_type": "markdown",
      "metadata": {
        "id": "WGJl6pJeGYzD"
      },
      "source": [
        "## Model Analysis\n",
        "\n",
        "As you already know, it is usually not enough to just measure your model's performance on global metrics. For instance, performance evaluated across age groups may reveal some shortcomings.\n",
        "\n",
        "To explore this further, you will evaluate the model with Fairness Indicators via TFMA. In particular, you will see whether there is a significant gap in performance between \"Young\" and \"Not Young\" categories when evaluated on false positive rate (FPR).\n",
        "\n",
        "A false positive error occurs when the model incorrectly predicts the positive class. In this context, a false positive outcome occurs when the ground truth is an image of a celebrity 'Not Smiling' and the model predicts 'Smiling'. While this seems like a relatively mundane error, false positive errors can sometimes cause more problematic behaviors when deployed in a real world application. For instance, a false positive error in a spam classifier could cause a user to miss an important email.\n",
        "\n",
        "You will mostly follow the same steps as you did in the first ungraded lab of this week. Namely, you will:\n",
        "\n",
        "* Create a TFRecord of the test dataset.\n",
        "* Write an `EvalConfig` file\n",
        "* Create an `EvalSharedModel`\n",
        "* Define a `Schema` message\n",
        "* Run model analysis with TFMA"
      ]
    },
    {
      "cell_type": "markdown",
      "metadata": {
        "id": "kuPDsIdmClFa"
      },
      "source": [
        "### Create TFRecord\n",
        "\n",
        "You will need to serialize the preprocessed test dataset so it can be read by TFMA. We've provided a helper function to do just that. Notice that the age group feature is transformed into a string ('Young' or 'Not Young'). This will come in handy in the visualization so the tags are easier to interpret (compared to just 1 or 0)."
      ]
    },
    {
      "cell_type": "code",
      "metadata": {
        "id": "-zrBYHAFteT6"
      },
      "source": [
        "# Define filename\n",
        "TFRECORD_FILE = 'celeb_a_test.tfrecord'"
      ],
      "execution_count": 16,
      "outputs": []
    },
    {
      "cell_type": "code",
      "metadata": {
        "id": "LY1QtzKBtG7p"
      },
      "source": [
        "def celeb_ds_to_tfrecord(dataset, tfrecord_file):\n",
        "  ''' Helper function to convert a TF Dataset to TFRecord\n",
        "\n",
        "  Args:\n",
        "    dataset (TF Dataset) - dataset to save as TFRecord\n",
        "    tfrecord_file (string) - filename to use when writing the TFRecord\n",
        "  '''\n",
        "\n",
        "  # Initialize examples list\n",
        "  examples = []\n",
        "\n",
        "  for row in dataset:\n",
        "    # Get image, label, and group tensors\n",
        "    image = row[0]\n",
        "    label = row[1]\n",
        "    group = row[2]\n",
        "\n",
        "    # Flatten image\n",
        "    image = tf.reshape(image, [-1])\n",
        "\n",
        "    # Instantiate Example\n",
        "    output = tf.train.Example()\n",
        "\n",
        "    # Assign features' numpy arrays to the Example feature values\n",
        "    output.features.feature[IMAGE_KEY].float_list.value.extend(image.numpy().tolist())\n",
        "    output.features.feature[LABEL_KEY].float_list.value.append(label.numpy())\n",
        "    output.features.feature[GROUP_KEY].bytes_list.value.append(b\"Young\" if group.numpy() else b'Not Young')\n",
        "    \n",
        "    # Append to examples list\n",
        "    examples.append(output)\n",
        "\n",
        "  # Serialize examples and save as tfrecord\n",
        "  with tf.io.TFRecordWriter(tfrecord_file) as writer:\n",
        "    for example in examples:\n",
        "      writer.write(example.SerializeToString())"
      ],
      "execution_count": 17,
      "outputs": []
    },
    {
      "cell_type": "code",
      "metadata": {
        "id": "hPsF2Uu3uh7U"
      },
      "source": [
        "# Use the helper function to serialize the test dataset\n",
        "celeb_ds_to_tfrecord(celeb_a_test_data, TFRECORD_FILE)"
      ],
      "execution_count": 18,
      "outputs": []
    },
    {
      "cell_type": "markdown",
      "metadata": {
        "id": "KYEFWyrZHqyV"
      },
      "source": [
        "### Write EvalConfig file\n",
        "\n",
        "Next, you will define the model, metrics, and slicing specs in an eval config file. As mentioned, you will slice the data across age groups to see if there is an underlying problem. For metrics, you will include the `FairnessIndicators` class. These are commonly-identified fairness metrics for binary and multiclass classifiers. Moreover, you will configure a list of thresholds. These will allow you to observe if the model predicts better when the threshold to determine between the two classes is changed (e.g. will the FPR be lower if the model predicts \"Smiling\" for outputs greater than 0.22?). \n"
      ]
    },
    {
      "cell_type": "code",
      "metadata": {
        "id": "KNM8_wn1S5-P"
      },
      "source": [
        "# Import helper module\n",
        "from google.protobuf import text_format\n",
        "\n",
        "# Write EvalConfig string\n",
        "eval_config_pbtxt = \"\"\"\n",
        "      model_specs {\n",
        "        label_key: \"%s\"\n",
        "      }\n",
        "      metrics_specs {\n",
        "        metrics {\n",
        "          class_name: \"FairnessIndicators\"\n",
        "          config: '{ \"thresholds\": [0.22, 0.5, 0.75] }'\n",
        "        }\n",
        "        metrics {\n",
        "          class_name: \"ExampleCount\"\n",
        "        }\n",
        "      }\n",
        "      slicing_specs {}\n",
        "      slicing_specs { feature_keys: \"%s\" }\n",
        "    \"\"\" % (LABEL_KEY, GROUP_KEY)\n",
        "\n",
        "# Parse as a Message\n",
        "eval_config = text_format.Parse(eval_config_pbtxt, tfma.EvalConfig())"
      ],
      "execution_count": 19,
      "outputs": []
    },
    {
      "cell_type": "markdown",
      "metadata": {
        "id": "iN-67hysIycZ"
      },
      "source": [
        "### Create EvalSharedModel\n",
        "\n",
        "This will be identical to the command you ran in an earlier lab. This is needed so TFMA will know how to load and configure your model from disk."
      ]
    },
    {
      "cell_type": "code",
      "metadata": {
        "id": "_3cBZNlOvGC1"
      },
      "source": [
        "# Create EvalSharedModel\n",
        "eval_shared_model = tfma.default_eval_shared_model(\n",
        "      eval_saved_model_path=MODEL_LOCATION, eval_config=eval_config)"
      ],
      "execution_count": 20,
      "outputs": []
    },
    {
      "cell_type": "markdown",
      "metadata": {
        "id": "5DOHO4VoJ99b"
      },
      "source": [
        "### Create a Schema\n",
        "\n",
        "This is an additional step from your previous TFMA workflow. It is needed particularly because, unlike the TFMA ungraded lab, you didn't include a serving signature with the model. If you remember, the function called by that signature took care of parsing the tfrecords, converting them to the correct data type, and preprocessing. Since that part is not included in this lab, you will need to provide a schema so TFMA will know what data types are in the serialized examples when it parses the tfrecord into a dictionary of features. You will also need to define the dimensions of the image since that is expected by your model input. That is handled by the `tensor_representation_group` below."
      ]
    },
    {
      "cell_type": "code",
      "metadata": {
        "id": "BtiJuufKvDV8"
      },
      "source": [
        "from tensorflow_metadata.proto.v0 import schema_pb2\n",
        "from google.protobuf import text_format\n",
        "\n",
        "# Define Schema message as string\n",
        "schema_pbtxt = \"\"\"\n",
        "      tensor_representation_group {\n",
        "        key: \"\"\n",
        "        value {\n",
        "          tensor_representation {\n",
        "            key: \"%s\"\n",
        "            value {\n",
        "              dense_tensor {\n",
        "                column_name: \"%s\"\n",
        "                shape {\n",
        "                  dim { size: 28 }\n",
        "                  dim { size: 28 }\n",
        "                  dim { size: 3 }\n",
        "                }\n",
        "              }\n",
        "            }\n",
        "          }\n",
        "        }\n",
        "      }\n",
        "      feature {\n",
        "        name: \"%s\"\n",
        "        type: FLOAT\n",
        "      }\n",
        "      feature {\n",
        "        name: \"%s\"\n",
        "        type: FLOAT\n",
        "      }\n",
        "      feature {\n",
        "        name: \"%s\"\n",
        "        type: BYTES\n",
        "      }\n",
        "      \"\"\" % (IMAGE_KEY, IMAGE_KEY, IMAGE_KEY, LABEL_KEY, GROUP_KEY)\n",
        "\n",
        "# Parse the schema string to a message\n",
        "schema = text_format.Parse(schema_pbtxt, schema_pb2.Schema())"
      ],
      "execution_count": 21,
      "outputs": []
    },
    {
      "cell_type": "markdown",
      "metadata": {
        "id": "N8GUBgybKq39"
      },
      "source": [
        "### Run TFMA\n",
        "\n",
        "You will pass the objects you created in the previous sections to `tfma.run_model_analysis()`. As you've done previously, this will take care of loading the model and data, and computing the metrics on the data slices you specified."
      ]
    },
    {
      "cell_type": "code",
      "metadata": {
        "id": "dbpqTuHbTKFH",
        "colab": {
          "base_uri": "https://localhost:8080/",
          "height": 245
        },
        "outputId": "4b116b5e-0062-4ed6-8ee9-f16bfb430b81"
      },
      "source": [
        "# Define output directory\n",
        "OUTPUT_PATH = 'tfma_output'\n",
        "\n",
        "# Run model analysis\n",
        "eval_results = tfma.run_model_analysis(\n",
        "    eval_shared_model=eval_shared_model,\n",
        "    eval_config=eval_config,\n",
        "    data_location=TFRECORD_FILE,\n",
        "    schema=schema,\n",
        "    output_path=OUTPUT_PATH\n",
        ")"
      ],
      "execution_count": 22,
      "outputs": [
        {
          "output_type": "stream",
          "name": "stderr",
          "text": [
            "WARNING:absl:Tensorflow version (2.6.0) found. Note that TFMA support for TF 2.0 is currently in beta\n",
            "WARNING:apache_beam.runners.interactive.interactive_environment:Dependencies required for Interactive Beam PCollection visualization are not available, please use: `pip install apache-beam[interactive]` to install necessary dependencies to enable all data visualization features.\n"
          ]
        },
        {
          "output_type": "display_data",
          "data": {
            "application/javascript": [
              "\n",
              "        if (typeof window.interactive_beam_jquery == 'undefined') {\n",
              "          var jqueryScript = document.createElement('script');\n",
              "          jqueryScript.src = 'https://code.jquery.com/jquery-3.4.1.slim.min.js';\n",
              "          jqueryScript.type = 'text/javascript';\n",
              "          jqueryScript.onload = function() {\n",
              "            var datatableScript = document.createElement('script');\n",
              "            datatableScript.src = 'https://cdn.datatables.net/1.10.20/js/jquery.dataTables.min.js';\n",
              "            datatableScript.type = 'text/javascript';\n",
              "            datatableScript.onload = function() {\n",
              "              window.interactive_beam_jquery = jQuery.noConflict(true);\n",
              "              window.interactive_beam_jquery(document).ready(function($){\n",
              "                \n",
              "              });\n",
              "            }\n",
              "            document.head.appendChild(datatableScript);\n",
              "          };\n",
              "          document.head.appendChild(jqueryScript);\n",
              "        } else {\n",
              "          window.interactive_beam_jquery(document).ready(function($){\n",
              "            \n",
              "          });\n",
              "        }"
            ]
          },
          "metadata": {}
        },
        {
          "output_type": "stream",
          "name": "stderr",
          "text": [
            "WARNING:root:Make sure that locally built Python SDK docker image has Python 3.7 interpreter.\n",
            "WARNING:apache_beam.io.tfrecordio:Couldn't find python-snappy so the implementation of _TFRecordUtil._masked_crc32c is not as fast as it could be.\n"
          ]
        },
        {
          "output_type": "stream",
          "name": "stdout",
          "text": [
            "WARNING:tensorflow:From /usr/local/lib/python3.7/dist-packages/tensorflow_model_analysis/writers/metrics_plots_and_validations_writer.py:113: tf_record_iterator (from tensorflow.python.lib.io.tf_record) is deprecated and will be removed in a future version.\n",
            "Instructions for updating:\n",
            "Use eager execution and: \n",
            "`tf.data.TFRecordDataset(path)`\n"
          ]
        },
        {
          "output_type": "stream",
          "name": "stderr",
          "text": [
            "WARNING:tensorflow:From /usr/local/lib/python3.7/dist-packages/tensorflow_model_analysis/writers/metrics_plots_and_validations_writer.py:113: tf_record_iterator (from tensorflow.python.lib.io.tf_record) is deprecated and will be removed in a future version.\n",
            "Instructions for updating:\n",
            "Use eager execution and: \n",
            "`tf.data.TFRecordDataset(path)`\n"
          ]
        }
      ]
    },
    {
      "cell_type": "markdown",
      "metadata": {
        "id": "i5BvsF8OH3CE"
      },
      "source": [
        "Now you can view the fairness metrics you specified. The FPR should already be selected and you can see that it is considerably higher for the `Not Young` age group. Try to explore the widget and see if you can make other findings. Here are some suggestions:\n",
        "\n",
        "* Toggle the threshold drop down and see how the FPR changes with different thresholds\n",
        "\n",
        "* Change the baseline to `Young: Young` so the percentage difference (in the table below the chart) will be measured against it.\n",
        "\n",
        "* Deselect the `Overall` slice so you can compare the two age groups side by side.\n",
        "\n",
        "* Select other metrics to display and observe their charts."
      ]
    },
    {
      "cell_type": "code",
      "metadata": {
        "id": "Q0R5OlNDqWwS",
        "colab": {
          "base_uri": "https://localhost:8080/",
          "height": 17
        },
        "outputId": "57712575-7eae-4fb3-84ce-287d34d04134"
      },
      "source": [
        "# Visualize the fairness metrics\n",
        "tfma.addons.fairness.view.widget_view.render_fairness_indicator(eval_results)"
      ],
      "execution_count": 23,
      "outputs": [
        {
          "output_type": "display_data",
          "data": {
            "text/html": [
              "\n",
              "    \n",
              "  <script src=\"/nbextensions/tensorflow_model_analysis/vulcanized_tfma.js\"></script>\n",
              "  \n",
              "    <fairness-nb-container id=\"component\"></fairness-nb-container>\n",
              "    <script>\n",
              "      const element = document.getElementById('component');\n",
              "\n",
              "      /** No event handlers needed. */\n",
              "\n",
              "      const json = JSON.parse(atob('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'));\n",
              "      element.slicingMetrics = json.slicingMetrics;\n",
              "      element.slicingMetricsCompare = json.slicingMetricsCompare;\n",
              "      element.evalName = json.evalName;\n",
              "      element.evalNameCompare = json.evalNameCompare;\n",
              "    </script>\n",
              "    "
            ],
            "text/plain": [
              "<IPython.core.display.HTML object>"
            ]
          },
          "metadata": {}
        }
      ]
    },
    {
      "cell_type": "markdown",
      "metadata": {
        "id": "Pr5DrvGZO2B6"
      },
      "source": [
        "After studying the discrepancies in your predictions, you can then investigate why that happens and have a plan on remidiating it. Aside from changing your model architecture, you can also look first at your training data. `fairness-indicators` is also packaged with TFDV so you can use it to generate statistics from your data. Here is a short review on how to do that."
      ]
    },
    {
      "cell_type": "code",
      "metadata": {
        "id": "Rd-oUa1z-yjQ",
        "colab": {
          "base_uri": "https://localhost:8080/"
        },
        "outputId": "b6e6e333-4c4b-40c1-eb80-99e7677f90e9"
      },
      "source": [
        "import tensorflow_data_validation as tfdv\n",
        "\n",
        "# Define training directory\n",
        "TRAIN_DIR = f'{GCS_BASE_DIR}celeb_a/2.0.0/celeb_a-train.tfrecord*'\n",
        "\n",
        "# View tfrecord filenames in GCS\n",
        "!gsutil ls {TRAIN_DIR}"
      ],
      "execution_count": 24,
      "outputs": [
        {
          "output_type": "stream",
          "name": "stdout",
          "text": [
            "gs://celeb_a_dataset/celeb_a/2.0.0/celeb_a-train.tfrecord-00000-of-00016\n",
            "gs://celeb_a_dataset/celeb_a/2.0.0/celeb_a-train.tfrecord-00001-of-00016\n",
            "gs://celeb_a_dataset/celeb_a/2.0.0/celeb_a-train.tfrecord-00002-of-00016\n",
            "gs://celeb_a_dataset/celeb_a/2.0.0/celeb_a-train.tfrecord-00003-of-00016\n",
            "gs://celeb_a_dataset/celeb_a/2.0.0/celeb_a-train.tfrecord-00004-of-00016\n",
            "gs://celeb_a_dataset/celeb_a/2.0.0/celeb_a-train.tfrecord-00005-of-00016\n",
            "gs://celeb_a_dataset/celeb_a/2.0.0/celeb_a-train.tfrecord-00006-of-00016\n",
            "gs://celeb_a_dataset/celeb_a/2.0.0/celeb_a-train.tfrecord-00007-of-00016\n",
            "gs://celeb_a_dataset/celeb_a/2.0.0/celeb_a-train.tfrecord-00008-of-00016\n",
            "gs://celeb_a_dataset/celeb_a/2.0.0/celeb_a-train.tfrecord-00009-of-00016\n",
            "gs://celeb_a_dataset/celeb_a/2.0.0/celeb_a-train.tfrecord-00010-of-00016\n",
            "gs://celeb_a_dataset/celeb_a/2.0.0/celeb_a-train.tfrecord-00011-of-00016\n",
            "gs://celeb_a_dataset/celeb_a/2.0.0/celeb_a-train.tfrecord-00012-of-00016\n",
            "gs://celeb_a_dataset/celeb_a/2.0.0/celeb_a-train.tfrecord-00013-of-00016\n",
            "gs://celeb_a_dataset/celeb_a/2.0.0/celeb_a-train.tfrecord-00014-of-00016\n",
            "gs://celeb_a_dataset/celeb_a/2.0.0/celeb_a-train.tfrecord-00015-of-00016\n"
          ]
        }
      ]
    },
    {
      "cell_type": "code",
      "metadata": {
        "id": "xGteF9i1FyhA",
        "colab": {
          "base_uri": "https://localhost:8080/",
          "height": 288
        },
        "outputId": "f77e6596-bf11-457c-fca6-52ea267a058c"
      },
      "source": [
        "# Filter features to observe\n",
        "stats_options = tfdv.StatsOptions(feature_allowlist=['attributes/Young'])\n",
        "\n",
        "# Compute the statistics\n",
        "statistics = tfdv.generate_statistics_from_tfrecord(TRAIN_DIR, stats_options=stats_options)\n",
        "\n",
        "# Visualize the statistics\n",
        "tfdv.visualize_statistics(statistics)"
      ],
      "execution_count": 25,
      "outputs": [
        {
          "output_type": "stream",
          "name": "stderr",
          "text": [
            "WARNING:apache_beam.internal.gcp.auth:Unable to find default credentials to use: The Application Default Credentials are not available. They are available if running in Google Compute Engine. Otherwise, the environment variable GOOGLE_APPLICATION_CREDENTIALS must be defined pointing to a file defining the credentials. See https://developers.google.com/accounts/docs/application-default-credentials for more information.\n",
            "Connecting anonymously.\n",
            "WARNING:root:Make sure that locally built Python SDK docker image has Python 3.7 interpreter.\n"
          ]
        },
        {
          "output_type": "display_data",
          "data": {
            "text/html": [
              "<iframe id='facets-iframe' width=\"100%\" height=\"500px\"></iframe>\n",
              "        <script>\n",
              "        facets_iframe = document.getElementById('facets-iframe');\n",
              "        facets_html = '<script src=\"https://cdnjs.cloudflare.com/ajax/libs/webcomponentsjs/1.3.3/webcomponents-lite.js\"><\\/script><link rel=\"import\" href=\"https://raw.githubusercontent.com/PAIR-code/facets/master/facets-dist/facets-jupyter.html\"><facets-overview proto-input=\"CqcHCg5saHNfc3RhdGlzdGljcxDS9wkakAca+QYKuAII0vcJGAEgAS0AAIA/MqQCGhsJAAAAAAAA8D8RAAAAAAAA8D8hAAAAAIDKz0AaGwkAAAAAAADwPxEAAAAAAADwPyEAAAAAgMrPQBobCQAAAAAAAPA/EQAAAAAAAPA/IQAAAACAys9AGhsJAAAAAAAA8D8RAAAAAAAA8D8hAAAAAIDKz0AaGwkAAAAAAADwPxEAAAAAAADwPyEAAAAAgMrPQBobCQAAAAAAAPA/EQAAAAAAAPA/IQAAAACAys9AGhsJAAAAAAAA8D8RAAAAAAAA8D8hAAAAAIDKz0AaGwkAAAAAAADwPxEAAAAAAADwPyEAAAAAgMrPQBobCQAAAAAAAPA/EQAAAAAAAPA/IQAAAACAys9AGhsJAAAAAAAA8D8RAAAAAAAA8D8hAAAAAIDKz0AgAUDS9wkRUFfCwRLt6D8ZEgI/57iO2j8gjpkCMQAAAAAAAPA/OQAAAAAAAPA/QpkCGhIRmpmZmZmZuT8hq/HSTY6S4UAaGwmamZmZmZm5PxGamZmZmZnJPyH0/dR46UYwQBobCZqZmZmZmck/ETQzMzMzM9M/Ifb91HjpRjBAGhsJNDMzMzMz0z8RmpmZmZmZ2T8h8/3UeOlGMEAaGwmamZmZmZnZPxEAAAAAAADgPyHz/dR46UYwQBobCQAAAAAAAOA/ETQzMzMzM+M/Ifj91HjpRjBAGhsJNDMzMzMz4z8RZ2ZmZmZm5j8h8/3UeOlGMEAaGwlnZmZmZmbmPxGamZmZmZnpPyHz/dR46UYwQBobCZqZmZmZmek/Ec3MzMzMzOw/IfP91HjpRjBAGhsJzczMzMzM7D8RAAAAAAAA8D8hrBxaZLXr/kBC9wEaCSEBAAAAgMrPQBoJIQEAAACAys9AGhIRAAAAAAAA8D8hAQAAAIDKz0AaGwkAAAAAAADwPxEAAAAAAADwPyEBAAAAgMrPQBobCQAAAAAAAPA/EQAAAAAAAPA/IQEAAACAys9AGhsJAAAAAAAA8D8RAAAAAAAA8D8hAQAAAIDKz0AaGwkAAAAAAADwPxEAAAAAAADwPyEBAAAAgMrPQBobCQAAAAAAAPA/EQAAAAAAAPA/IQEAAACAys9AGhsJAAAAAAAA8D8RAAAAAAAA8D8hAQAAAIDKz0AaGwkAAAAAAADwPxEAAAAAAADwPyEBAAAAgMrPQCABQhIKEGF0dHJpYnV0ZXMvWW91bmc=\"></facets-overview>';\n",
              "        facets_iframe.srcdoc = facets_html;\n",
              "         facets_iframe.id = \"\";\n",
              "         setTimeout(() => {\n",
              "           facets_iframe.setAttribute('height', facets_iframe.contentWindow.document.body.offsetHeight + 'px')\n",
              "         }, 1500)\n",
              "         </script>"
            ],
            "text/plain": [
              "<IPython.core.display.HTML object>"
            ]
          },
          "metadata": {}
        }
      ]
    },
    {
      "cell_type": "markdown",
      "metadata": {
        "id": "q6huPG-SQNyV"
      },
      "source": [
        "The statistics show that the `Not Young` age group (i.e. `0` in the `attributes/Young` column) has very few images compared to the `Young` age group. Maybe that's why the model learns on the `Young` images better. You could try adding more `Not Young` images and see if your model performs better on this slice."
      ]
    },
    {
      "cell_type": "markdown",
      "metadata": {
        "id": "6hhF68-0Q0nZ"
      },
      "source": [
        "## Wrap Up\n",
        "\n",
        "In this lab, you prepared an image dataset and trained a model to predict one of its attributes (i.e. `Smiling`). You then sliced the data based on age groups and computed fairness metrics from the `Fairness Indicators` package via TFMA. Though the outcome looks simple, it is an important step in production ML projects because not detecting these problems can greatly affect the experience of your users. Improving these metrics will help you commit to fairness in your applications. We encourage you to try exploring more slices of the dataset and see what findings you can come up with.\n",
        "\n",
        "For more practice, [here](https://colab.research.google.com/github/tensorflow/fairness-indicators/blob/master/g3doc/tutorials/Fairness_Indicators_Example_Colab.ipynb) is an official tutorial that uses fairness indicators on text data. It uses the [What-If-Tool](https://pair-code.github.io/what-if-tool/) which is another package that comes with `Fairness Indicators`. You will also get to explore that in this week's programming assignment."
      ]
    }
  ]
}