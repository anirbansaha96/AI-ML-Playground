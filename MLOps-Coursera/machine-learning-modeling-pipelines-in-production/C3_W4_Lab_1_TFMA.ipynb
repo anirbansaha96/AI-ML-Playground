{
  "nbformat": 4,
  "nbformat_minor": 0,
  "metadata": {
    "colab": {
      "name": "C3_W4_Lab_1_TFMA.ipynb",
      "provenance": [],
      "collapsed_sections": [],
      "include_colab_link": true
    },
    "kernelspec": {
      "display_name": "Python 3",
      "language": "python",
      "name": "python3"
    },
    "language_info": {
      "codemirror_mode": {
        "name": "ipython",
        "version": 3
      },
      "file_extension": ".py",
      "mimetype": "text/x-python",
      "name": "python",
      "nbconvert_exporter": "python",
      "pygments_lexer": "ipython3",
      "version": "3.7.7"
    }
  },
  "cells": [
    {
      "cell_type": "markdown",
      "metadata": {
        "id": "view-in-github",
        "colab_type": "text"
      },
      "source": [
        "<a href=\"https://colab.research.google.com/github/anirbansaha96/AI-ML-Playground/blob/master/MLOps-Coursera/machine-learning-modeling-pipelines-in-production/C3_W4_Lab_1_TFMA.ipynb\" target=\"_parent\"><img src=\"https://colab.research.google.com/assets/colab-badge.svg\" alt=\"Open In Colab\"/></a>"
      ]
    },
    {
      "cell_type": "markdown",
      "metadata": {
        "id": "YuSYVbwEYNHw"
      },
      "source": [
        "# Ungraded Lab: TensorFlow Model Analysis\n",
        "\n",
        "In production systems, the decision to deploy a model usually goes beyond the global metrics (e.g. accuracy) set during training. It is also important to evaluate how your model performs in different scenarios. For instance, does your weather forecasting model perform equally well in summer compared to winter? Or does your camera-based defect detector work only in certain lighting conditions? This type of investigation helps to ensure that your model can handle different cases. More than that, it can help uncover any learned biases that can result in a negative experience for your users. For example, if you're supposed to have a gender-neutral application, you don't want your model to only work well for one while poorly for another.\n",
        "\n",
        "In this lab, you will be working with [TensorFlow Model Analysis (TFMA)](https://www.tensorflow.org/tfx/guide/tfma) -- a library built specifically for analyzing a model's performance across different configurations. It allows you to specify slices of your data, then it will compute and visualize how your model performs on each slice. You can also set thresholds that your model must meet before it is marked ready for deployment. These help you make better decisions regarding any improvements you may want to make to boost your model's performance and ensure fairness.\n",
        "\n",
        "For this exercise, you will use TFMA to analyze models trained on the [Census Income dataset](http://archive.ics.uci.edu/ml/datasets/Census+Income). Specifically, you will:\n",
        "\n",
        "* study and setup the starter files to use with TFMA\n",
        "* make a configuration file to tell TFMA what data slices it will analyze and the metrics it will compute\n",
        "* visualize TFMA's outputs in a notebook environment\n",
        "* generate a time series of a model's performance\n",
        "* compare the performance of two models so you can decide which one to push to production\n",
        "\n",
        "*Credits: Some of the code and discussions are based on the TensorFlow team's [official tutorial](https://www.tensorflow.org/tfx/tutorials/model_analysis/tfma_basic).*"
      ]
    },
    {
      "cell_type": "markdown",
      "metadata": {
        "id": "VUHcOxH0W2PH"
      },
      "source": [
        "## Setup\n",
        "\n",
        "In this section, you will first setup your workspace to have all the modules and files to work with TFMA. You will \n",
        "* install required libraries, \n",
        "* download starter files that will contain the dataset, schema, and pretrained models you will analyze\n",
        "* prepare the dataset so it can be consumed by TFMA\n",
        "* observe how the models transform the raw features"
      ]
    },
    {
      "cell_type": "markdown",
      "metadata": {
        "id": "q7-ouHFnWAsu"
      },
      "source": [
        "### Install Jupyter Extensions\n",
        "If running in a local Jupyter notebook, then these Jupyter extensions must be installed in the environment before running Jupyter. These are already available in Colab so we'll just leave the commands here for reference.\n",
        "\n",
        "```bash\n",
        "jupyter nbextension enable --py widgetsnbextension --sys-prefix \n",
        "jupyter nbextension install --py --symlink tensorflow_model_analysis --sys-prefix \n",
        "jupyter nbextension enable --py tensorflow_model_analysis --sys-prefix \n",
        "```"
      ]
    },
    {
      "cell_type": "markdown",
      "metadata": {
        "id": "LZj-impiAD_l"
      },
      "source": [
        "### Install libraries\n",
        "\n",
        "This will pull in all the dependencies, and will take a minute.\n"
      ]
    },
    {
      "cell_type": "code",
      "metadata": {
        "id": "8X32Q_lIKYxH"
      },
      "source": [
        "# # Upgrade pip to the latest, and install required libraries.\n",
        "# !pip install -U pip\n",
        "# !pip install tensorflow_data_validation==1.1.0\n",
        "# !pip install tensorflow-transform==1.0.0\n",
        "# !pip install tensorflow-model-analysis==0.32.0"
      ],
      "execution_count": 1,
      "outputs": []
    },
    {
      "cell_type": "markdown",
      "metadata": {
        "id": "k7121_u1LO5W"
      },
      "source": [
        "*Note: In Google Colab, you need to restart the runtime at this point to finalize updating the packages you just installed. **Please do not proceed to the next section without restarting.** You can also ignore the errors about version incompatibility of some of the bundled packages because we won't be using those in this notebook.*"
      ]
    },
    {
      "cell_type": "markdown",
      "metadata": {
        "id": "saT03A81Z4Nr"
      },
      "source": [
        "### Check Installation\n",
        "\n",
        "Running the code below should show the versions of the packages. Please re-run the install if you are seeing errors and don't forget to restart the runtime after re-installation."
      ]
    },
    {
      "cell_type": "code",
      "metadata": {
        "id": "SA2E343NAMRF",
        "colab": {
          "base_uri": "https://localhost:8080/"
        },
        "outputId": "86c4ee31-3c9b-49b4-b1e9-b82c1df30ec2"
      },
      "source": [
        "# Import packages and print versions\n",
        "import tensorflow as tf\n",
        "import tensorflow_model_analysis as tfma\n",
        "import tensorflow_data_validation as tfdv\n",
        "\n",
        "print('TF version: {}'.format(tf.__version__))\n",
        "print('TFMA version: {}'.format(tfma.__version__))\n",
        "print('TFDV version: {}'.format(tfdv.__version__))"
      ],
      "execution_count": 2,
      "outputs": [
        {
          "output_type": "stream",
          "name": "stdout",
          "text": [
            "TF version: 2.5.1\n",
            "TFMA version: 0.32.0\n",
            "TFDV version: 1.1.0\n"
          ]
        }
      ]
    },
    {
      "cell_type": "markdown",
      "metadata": {
        "id": "RptgLn2RYuK3"
      },
      "source": [
        "### Load The Files\n",
        "\n",
        "Next, you will download the files you will need for this exercise:\n",
        "\n",
        "* Test datasets\n",
        "* Data schema\n",
        "* Pretrained models\n",
        "\n",
        "We've also defined some global variables below so you can access these files throughout the notebook more easily."
      ]
    },
    {
      "cell_type": "code",
      "metadata": {
        "id": "K4QXVIM7iglN"
      },
      "source": [
        "import os\n",
        "\n",
        "# String variables for file and directory names\n",
        "URL = 'https://github.com/https-deeplearning-ai/MLEP-public/raw/main/course3/week4-ungraded-lab/starter_files.tar.gz'\n",
        "TAR_NAME = 'starter_files.tar.gz'\n",
        "BASE_DIR = 'starter_files'\n",
        "DATA_DIR = os.path.join(BASE_DIR, 'data')\n",
        "CSV_DIR = os.path.join(DATA_DIR, 'csv')\n",
        "TFRECORD_DIR = os.path.join(DATA_DIR, 'tfrecord')\n",
        "MODELS_DIR = os.path.join(BASE_DIR, 'models')\n",
        "SCHEMA_FILE = os.path.join(BASE_DIR, 'schema.pbtxt')"
      ],
      "execution_count": 3,
      "outputs": []
    },
    {
      "cell_type": "code",
      "metadata": {
        "id": "Mw6d-3aNw-fm",
        "colab": {
          "base_uri": "https://localhost:8080/"
        },
        "outputId": "b9c8a9fc-fd00-49b4-cd69-830487fb514c"
      },
      "source": [
        "# uncomment this line if you've downloaded the files before and want to reset\n",
        "# !rm -rf starter_files\n",
        "\n",
        "# Download the tar file from GCP\n",
        "!wget {URL}\n",
        "\n",
        "# Extract the tar file to the base directory\n",
        "!tar xzf {TAR_NAME}\n",
        "\n",
        "# Delete tar file\n",
        "!rm {TAR_NAME}"
      ],
      "execution_count": 4,
      "outputs": [
        {
          "output_type": "stream",
          "name": "stdout",
          "text": [
            "--2021-09-02 10:09:44--  https://github.com/https-deeplearning-ai/MLEP-public/raw/main/course3/week4-ungraded-lab/starter_files.tar.gz\n",
            "Resolving github.com (github.com)... 140.82.113.3\n",
            "Connecting to github.com (github.com)|140.82.113.3|:443... connected.\n",
            "HTTP request sent, awaiting response... 301 Moved Permanently\n",
            "Location: https://github.com/https-deeplearning-ai/machine-learning-engineering-for-production-public/raw/main/course3/week4-ungraded-lab/starter_files.tar.gz [following]\n",
            "--2021-09-02 10:09:44--  https://github.com/https-deeplearning-ai/machine-learning-engineering-for-production-public/raw/main/course3/week4-ungraded-lab/starter_files.tar.gz\n",
            "Reusing existing connection to github.com:443.\n",
            "HTTP request sent, awaiting response... 302 Found\n",
            "Location: https://raw.githubusercontent.com/https-deeplearning-ai/machine-learning-engineering-for-production-public/main/course3/week4-ungraded-lab/starter_files.tar.gz [following]\n",
            "--2021-09-02 10:09:44--  https://raw.githubusercontent.com/https-deeplearning-ai/machine-learning-engineering-for-production-public/main/course3/week4-ungraded-lab/starter_files.tar.gz\n",
            "Resolving raw.githubusercontent.com (raw.githubusercontent.com)... 185.199.110.133, 185.199.109.133, 185.199.108.133, ...\n",
            "Connecting to raw.githubusercontent.com (raw.githubusercontent.com)|185.199.110.133|:443... connected.\n",
            "HTTP request sent, awaiting response... 200 OK\n",
            "Length: 1449046 (1.4M) [application/octet-stream]\n",
            "Saving to: ‘starter_files.tar.gz’\n",
            "\n",
            "starter_files.tar.g 100%[===================>]   1.38M  --.-KB/s    in 0.06s   \n",
            "\n",
            "2021-09-02 10:09:45 (23.3 MB/s) - ‘starter_files.tar.gz’ saved [1449046/1449046]\n",
            "\n"
          ]
        }
      ]
    },
    {
      "cell_type": "markdown",
      "metadata": {
        "id": "wrO1e6QnVf9I"
      },
      "source": [
        "You can see the top level file and directories by running the cell below (or just using the file explorer on the left side of this Colab). We'll discuss what each contain in the next sections."
      ]
    },
    {
      "cell_type": "code",
      "metadata": {
        "id": "NpNZrJl-YJq9",
        "colab": {
          "base_uri": "https://localhost:8080/"
        },
        "outputId": "6e3dc03c-fceb-4902-eacc-b7adb353aafa"
      },
      "source": [
        "print(\"Here's what we downloaded:\")\n",
        "!ls {BASE_DIR}"
      ],
      "execution_count": 5,
      "outputs": [
        {
          "output_type": "stream",
          "name": "stdout",
          "text": [
            "Here's what we downloaded:\n",
            "data  models  schema.pbtxt\n"
          ]
        }
      ]
    },
    {
      "cell_type": "markdown",
      "metadata": {
        "id": "UBhvex2jSBa_"
      },
      "source": [
        "### Preview the dataset"
      ]
    },
    {
      "cell_type": "markdown",
      "metadata": {
        "id": "iIxhCtvaV0cC"
      },
      "source": [
        "The `data/csv` directory contains the test split of the Census Income dataset. We've divided it into several files for this demo notebook:\n",
        "\n",
        "* `data_test.csv` - 15000 rows of test data\n",
        "* `data_test_1.csv` - first 5000 rows of `data_test.csv`\n",
        "* `data_test_2.csv` - next 5000 rows of `data_test.csv`\n",
        "* `data_test_3.csv` - last 5000 rows of `data_test.csv`\n",
        "\n",
        "You can see the description of each column [here](http://archive.ics.uci.edu/ml/machine-learning-databases/adult/adult.names) (please open link in a new window if Colab prevents the download). Also for simplicity, we've already preprocessed the `label` column as binary (i.e. `0` or `1`) to match the model's output. In your own projects, your labels might be in a different data type (e.g. string) and you want to transform that first so you can evaluate your model properly. You can preview the first few rows below:"
      ]
    },
    {
      "cell_type": "code",
      "metadata": {
        "id": "C4LCdt9zQ1oL",
        "colab": {
          "base_uri": "https://localhost:8080/"
        },
        "outputId": "87995cd9-ce8a-43ef-86a5-de20275eaa00"
      },
      "source": [
        "# Path to the full test set\n",
        "TEST_DATA_PATH = os.path.join(CSV_DIR, 'data_test.csv')\n",
        "\n",
        "# Preview the first few rows\n",
        "!head {TEST_DATA_PATH}"
      ],
      "execution_count": 6,
      "outputs": [
        {
          "output_type": "stream",
          "name": "stdout",
          "text": [
            "age,workclass,fnlwgt,education,education-num,marital-status,occupation,relationship,race,sex,capital-gain,capital-loss,hours-per-week,native-country,label\n",
            "25,Private,226802,11th,7,Never-married,Machine-op-inspct,Own-child,Black,Male,0,0,40,United-States,0\n",
            "38,Private,89814,HS-grad,9,Married-civ-spouse,Farming-fishing,Husband,White,Male,0,0,50,United-States,0\n",
            "28,Local-gov,336951,Assoc-acdm,12,Married-civ-spouse,Protective-serv,Husband,White,Male,0,0,40,United-States,1\n",
            "44,Private,160323,Some-college,10,Married-civ-spouse,Machine-op-inspct,Husband,Black,Male,7688,0,40,United-States,1\n",
            "18,?,103497,Some-college,10,Never-married,?,Own-child,White,Female,0,0,30,United-States,0\n",
            "34,Private,198693,10th,6,Never-married,Other-service,Not-in-family,White,Male,0,0,30,United-States,0\n",
            "29,?,227026,HS-grad,9,Never-married,?,Unmarried,Black,Male,0,0,40,United-States,0\n",
            "63,Self-emp-not-inc,104626,Prof-school,15,Married-civ-spouse,Prof-specialty,Husband,White,Male,3103,0,32,United-States,1\n",
            "24,Private,369667,Some-college,10,Never-married,Other-service,Unmarried,White,Female,0,0,40,United-States,0\n"
          ]
        }
      ]
    },
    {
      "cell_type": "markdown",
      "metadata": {
        "id": "_xa7ZDV1MycO"
      },
      "source": [
        "### Parse the Schema\n",
        "\n",
        "You also downloaded a schema generated by [TensorFlow Data Validation](https://www.tensorflow.org/tfx/data_validation/). You should be familiar with this file type already from previous courses. You will load it now so you can use it in the later parts of the notebook."
      ]
    },
    {
      "cell_type": "code",
      "metadata": {
        "id": "XYo2SHFzf6_t",
        "colab": {
          "base_uri": "https://localhost:8080/",
          "height": 989
        },
        "outputId": "f09f0cf7-e2da-448e-cb35-28aa8dbd5297"
      },
      "source": [
        "# Load the schema as a protocol buffer\n",
        "SCHEMA = tfdv.load_schema_text(SCHEMA_FILE)\n",
        "\n",
        "# Display the schema\n",
        "tfdv.display_schema(SCHEMA)"
      ],
      "execution_count": 7,
      "outputs": [
        {
          "output_type": "display_data",
          "data": {
            "text/html": [
              "<div>\n",
              "<style scoped>\n",
              "    .dataframe tbody tr th:only-of-type {\n",
              "        vertical-align: middle;\n",
              "    }\n",
              "\n",
              "    .dataframe tbody tr th {\n",
              "        vertical-align: top;\n",
              "    }\n",
              "\n",
              "    .dataframe thead th {\n",
              "        text-align: right;\n",
              "    }\n",
              "</style>\n",
              "<table border=\"1\" class=\"dataframe\">\n",
              "  <thead>\n",
              "    <tr style=\"text-align: right;\">\n",
              "      <th></th>\n",
              "      <th>Type</th>\n",
              "      <th>Presence</th>\n",
              "      <th>Valency</th>\n",
              "      <th>Domain</th>\n",
              "    </tr>\n",
              "    <tr>\n",
              "      <th>Feature name</th>\n",
              "      <th></th>\n",
              "      <th></th>\n",
              "      <th></th>\n",
              "      <th></th>\n",
              "    </tr>\n",
              "  </thead>\n",
              "  <tbody>\n",
              "    <tr>\n",
              "      <th>'age'</th>\n",
              "      <td>INT</td>\n",
              "      <td>required</td>\n",
              "      <td></td>\n",
              "      <td>-</td>\n",
              "    </tr>\n",
              "    <tr>\n",
              "      <th>'capital-gain'</th>\n",
              "      <td>INT</td>\n",
              "      <td>required</td>\n",
              "      <td></td>\n",
              "      <td>-</td>\n",
              "    </tr>\n",
              "    <tr>\n",
              "      <th>'capital-loss'</th>\n",
              "      <td>INT</td>\n",
              "      <td>required</td>\n",
              "      <td></td>\n",
              "      <td>-</td>\n",
              "    </tr>\n",
              "    <tr>\n",
              "      <th>'education'</th>\n",
              "      <td>STRING</td>\n",
              "      <td>required</td>\n",
              "      <td></td>\n",
              "      <td>'education'</td>\n",
              "    </tr>\n",
              "    <tr>\n",
              "      <th>'education-num'</th>\n",
              "      <td>INT</td>\n",
              "      <td>required</td>\n",
              "      <td></td>\n",
              "      <td>-</td>\n",
              "    </tr>\n",
              "    <tr>\n",
              "      <th>'fnlwgt'</th>\n",
              "      <td>INT</td>\n",
              "      <td>required</td>\n",
              "      <td></td>\n",
              "      <td>-</td>\n",
              "    </tr>\n",
              "    <tr>\n",
              "      <th>'hours-per-week'</th>\n",
              "      <td>INT</td>\n",
              "      <td>required</td>\n",
              "      <td></td>\n",
              "      <td>-</td>\n",
              "    </tr>\n",
              "    <tr>\n",
              "      <th>'label'</th>\n",
              "      <td>INT</td>\n",
              "      <td>required</td>\n",
              "      <td></td>\n",
              "      <td>-</td>\n",
              "    </tr>\n",
              "    <tr>\n",
              "      <th>'marital-status'</th>\n",
              "      <td>STRING</td>\n",
              "      <td>required</td>\n",
              "      <td></td>\n",
              "      <td>'marital-status'</td>\n",
              "    </tr>\n",
              "    <tr>\n",
              "      <th>'native-country'</th>\n",
              "      <td>STRING</td>\n",
              "      <td>required</td>\n",
              "      <td></td>\n",
              "      <td>'native-country'</td>\n",
              "    </tr>\n",
              "    <tr>\n",
              "      <th>'occupation'</th>\n",
              "      <td>STRING</td>\n",
              "      <td>required</td>\n",
              "      <td></td>\n",
              "      <td>'occupation'</td>\n",
              "    </tr>\n",
              "    <tr>\n",
              "      <th>'race'</th>\n",
              "      <td>STRING</td>\n",
              "      <td>required</td>\n",
              "      <td></td>\n",
              "      <td>'race'</td>\n",
              "    </tr>\n",
              "    <tr>\n",
              "      <th>'relationship'</th>\n",
              "      <td>STRING</td>\n",
              "      <td>required</td>\n",
              "      <td></td>\n",
              "      <td>'relationship'</td>\n",
              "    </tr>\n",
              "    <tr>\n",
              "      <th>'sex'</th>\n",
              "      <td>STRING</td>\n",
              "      <td>required</td>\n",
              "      <td></td>\n",
              "      <td>'sex'</td>\n",
              "    </tr>\n",
              "    <tr>\n",
              "      <th>'workclass'</th>\n",
              "      <td>STRING</td>\n",
              "      <td>required</td>\n",
              "      <td></td>\n",
              "      <td>'workclass'</td>\n",
              "    </tr>\n",
              "  </tbody>\n",
              "</table>\n",
              "</div>"
            ],
            "text/plain": [
              "                    Type  Presence Valency            Domain\n",
              "Feature name                                                \n",
              "'age'                INT  required                         -\n",
              "'capital-gain'       INT  required                         -\n",
              "'capital-loss'       INT  required                         -\n",
              "'education'       STRING  required               'education'\n",
              "'education-num'      INT  required                         -\n",
              "'fnlwgt'             INT  required                         -\n",
              "'hours-per-week'     INT  required                         -\n",
              "'label'              INT  required                         -\n",
              "'marital-status'  STRING  required          'marital-status'\n",
              "'native-country'  STRING  required          'native-country'\n",
              "'occupation'      STRING  required              'occupation'\n",
              "'race'            STRING  required                    'race'\n",
              "'relationship'    STRING  required            'relationship'\n",
              "'sex'             STRING  required                     'sex'\n",
              "'workclass'       STRING  required               'workclass'"
            ]
          },
          "metadata": {}
        },
        {
          "output_type": "stream",
          "name": "stderr",
          "text": [
            "/usr/local/lib/python3.7/dist-packages/tensorflow_data_validation/utils/display_util.py:180: FutureWarning: Passing a negative integer is deprecated in version 1.0 and will not be supported in future version. Instead, use None to not limit the column width.\n",
            "  pd.set_option('max_colwidth', -1)\n"
          ]
        },
        {
          "output_type": "display_data",
          "data": {
            "text/html": [
              "<div>\n",
              "<style scoped>\n",
              "    .dataframe tbody tr th:only-of-type {\n",
              "        vertical-align: middle;\n",
              "    }\n",
              "\n",
              "    .dataframe tbody tr th {\n",
              "        vertical-align: top;\n",
              "    }\n",
              "\n",
              "    .dataframe thead th {\n",
              "        text-align: right;\n",
              "    }\n",
              "</style>\n",
              "<table border=\"1\" class=\"dataframe\">\n",
              "  <thead>\n",
              "    <tr style=\"text-align: right;\">\n",
              "      <th></th>\n",
              "      <th>Values</th>\n",
              "    </tr>\n",
              "    <tr>\n",
              "      <th>Domain</th>\n",
              "      <th></th>\n",
              "    </tr>\n",
              "  </thead>\n",
              "  <tbody>\n",
              "    <tr>\n",
              "      <th>'education'</th>\n",
              "      <td>'10th', '11th', '12th', '1st-4th', '5th-6th', '7th-8th', '9th', 'Assoc-acdm', 'Assoc-voc', 'Bachelors', 'Doctorate', 'HS-grad', 'Masters', 'Preschool', 'Prof-school', 'Some-college'</td>\n",
              "    </tr>\n",
              "    <tr>\n",
              "      <th>'marital-status'</th>\n",
              "      <td>'Divorced', 'Married-AF-spouse', 'Married-civ-spouse', 'Married-spouse-absent', 'Never-married', 'Separated', 'Widowed'</td>\n",
              "    </tr>\n",
              "    <tr>\n",
              "      <th>'native-country'</th>\n",
              "      <td>'?', 'Cambodia', 'Canada', 'China', 'Columbia', 'Cuba', 'Dominican-Republic', 'Ecuador', 'El-Salvador', 'England', 'France', 'Germany', 'Greece', 'Guatemala', 'Haiti', 'Holand-Netherlands', 'Honduras', 'Hong', 'Hungary', 'India', 'Iran', 'Ireland', 'Italy', 'Jamaica', 'Japan', 'Laos', 'Mexico', 'Nicaragua', 'Outlying-US(Guam-USVI-etc)', 'Peru', 'Philippines', 'Poland', 'Portugal', 'Puerto-Rico', 'Scotland', 'South', 'Taiwan', 'Thailand', 'Trinadad&amp;Tobago', 'United-States', 'Vietnam', 'Yugoslavia'</td>\n",
              "    </tr>\n",
              "    <tr>\n",
              "      <th>'occupation'</th>\n",
              "      <td>'?', 'Adm-clerical', 'Armed-Forces', 'Craft-repair', 'Exec-managerial', 'Farming-fishing', 'Handlers-cleaners', 'Machine-op-inspct', 'Other-service', 'Priv-house-serv', 'Prof-specialty', 'Protective-serv', 'Sales', 'Tech-support', 'Transport-moving'</td>\n",
              "    </tr>\n",
              "    <tr>\n",
              "      <th>'race'</th>\n",
              "      <td>'Amer-Indian-Eskimo', 'Asian-Pac-Islander', 'Black', 'Other', 'White'</td>\n",
              "    </tr>\n",
              "    <tr>\n",
              "      <th>'relationship'</th>\n",
              "      <td>'Husband', 'Not-in-family', 'Other-relative', 'Own-child', 'Unmarried', 'Wife'</td>\n",
              "    </tr>\n",
              "    <tr>\n",
              "      <th>'sex'</th>\n",
              "      <td>'Female', 'Male'</td>\n",
              "    </tr>\n",
              "    <tr>\n",
              "      <th>'workclass'</th>\n",
              "      <td>'?', 'Federal-gov', 'Local-gov', 'Never-worked', 'Private', 'Self-emp-inc', 'Self-emp-not-inc', 'State-gov', 'Without-pay'</td>\n",
              "    </tr>\n",
              "  </tbody>\n",
              "</table>\n",
              "</div>"
            ],
            "text/plain": [
              "                                                                                                                                                                                                                                                                                                                                                                                                                                                                                                                                 Values\n",
              "Domain                                                                                                                                                                                                                                                                                                                                                                                                                                                                                                                                 \n",
              "'education'       '10th', '11th', '12th', '1st-4th', '5th-6th', '7th-8th', '9th', 'Assoc-acdm', 'Assoc-voc', 'Bachelors', 'Doctorate', 'HS-grad', 'Masters', 'Preschool', 'Prof-school', 'Some-college'                                                                                                                                                                                                                                                                                                                                \n",
              "'marital-status'  'Divorced', 'Married-AF-spouse', 'Married-civ-spouse', 'Married-spouse-absent', 'Never-married', 'Separated', 'Widowed'                                                                                                                                                                                                                                                                                                                                                                                              \n",
              "'native-country'  '?', 'Cambodia', 'Canada', 'China', 'Columbia', 'Cuba', 'Dominican-Republic', 'Ecuador', 'El-Salvador', 'England', 'France', 'Germany', 'Greece', 'Guatemala', 'Haiti', 'Holand-Netherlands', 'Honduras', 'Hong', 'Hungary', 'India', 'Iran', 'Ireland', 'Italy', 'Jamaica', 'Japan', 'Laos', 'Mexico', 'Nicaragua', 'Outlying-US(Guam-USVI-etc)', 'Peru', 'Philippines', 'Poland', 'Portugal', 'Puerto-Rico', 'Scotland', 'South', 'Taiwan', 'Thailand', 'Trinadad&Tobago', 'United-States', 'Vietnam', 'Yugoslavia'\n",
              "'occupation'      '?', 'Adm-clerical', 'Armed-Forces', 'Craft-repair', 'Exec-managerial', 'Farming-fishing', 'Handlers-cleaners', 'Machine-op-inspct', 'Other-service', 'Priv-house-serv', 'Prof-specialty', 'Protective-serv', 'Sales', 'Tech-support', 'Transport-moving'                                                                                                                                                                                                                                                            \n",
              "'race'            'Amer-Indian-Eskimo', 'Asian-Pac-Islander', 'Black', 'Other', 'White'                                                                                                                                                                                                                                                                                                                                                                                                                                                \n",
              "'relationship'    'Husband', 'Not-in-family', 'Other-relative', 'Own-child', 'Unmarried', 'Wife'                                                                                                                                                                                                                                                                                                                                                                                                                                       \n",
              "'sex'             'Female', 'Male'                                                                                                                                                                                                                                                                                                                                                                                                                                                                                                     \n",
              "'workclass'       '?', 'Federal-gov', 'Local-gov', 'Never-worked', 'Private', 'Self-emp-inc', 'Self-emp-not-inc', 'State-gov', 'Without-pay'                                                                                                                                                                                                                                                                                                                                                                                           "
            ]
          },
          "metadata": {}
        }
      ]
    },
    {
      "cell_type": "markdown",
      "metadata": {
        "id": "UP3yuJxfNXRL"
      },
      "source": [
        "### Use the Schema to Create TFRecords\n",
        "\n",
        "TFMA needs a TFRecord file input so you need to convert the CSVs in the data directory. If you've done the earlier labs, you will know that this can be easily done with `ExampleGen`. For this notebook however, you will use the helper function below instead to demonstrate how it can be done outside a TFX pipeline. You will pass in the schema you loaded in the previous step to determine the correct type of each feature."
      ]
    },
    {
      "cell_type": "code",
      "metadata": {
        "id": "8-wud3fPczl6"
      },
      "source": [
        "# imports for helper function\n",
        "import csv\n",
        "from tensorflow.core.example import example_pb2\n",
        "from tensorflow_metadata.proto.v0 import schema_pb2\n",
        "\n",
        "def csv_to_tfrecord(schema, csv_file, tfrecord_file):\n",
        "  ''' Converts a csv file into a tfrecord\n",
        "  Args:\n",
        "    schema (schema_pb2) - Schema protobuf from TFDV\n",
        "    csv_file (string) - file to convert to tfrecord\n",
        "    tfrecord_file (string) - filename of tfrecord to create\n",
        "\n",
        "  Returns:\n",
        "    filename of tfrecord\n",
        "  '''\n",
        "\n",
        "  # Open CSV file for reading. Each row is mapped as a dictionary.\n",
        "  reader = csv.DictReader(open(csv_file, 'r'))\n",
        "  \n",
        "  # Initialize TF examples list\n",
        "  examples = []\n",
        "\n",
        "  # For each row in CSV, create a TF Example based on\n",
        "  # the Schema and append to the list\n",
        "  for line in reader:\n",
        "\n",
        "    # Intialize example\n",
        "    example = example_pb2.Example()\n",
        "\n",
        "    # Loop through features in the schema\n",
        "    for feature in schema.feature:\n",
        "\n",
        "      # Get current feature name\n",
        "      key = feature.name\n",
        "\n",
        "      # Populate values based on data type of current feature\n",
        "      if feature.type == schema_pb2.FLOAT:\n",
        "        example.features.feature[key].float_list.value[:] = (\n",
        "            [float(line[key])] if len(line[key]) > 0 else [])\n",
        "      elif feature.type == schema_pb2.INT:\n",
        "        example.features.feature[key].int64_list.value[:] = (\n",
        "            [int(line[key])] if len(line[key]) > 0 else [])\n",
        "      elif feature.type == schema_pb2.BYTES:\n",
        "        example.features.feature[key].bytes_list.value[:] = (\n",
        "            [line[key].encode('utf8')] if len(line[key]) > 0 else [])\n",
        "        \n",
        "    # Append to the list\n",
        "    examples.append(example)\n",
        "\n",
        "  # Write examples to tfrecord file\n",
        "  with tf.io.TFRecordWriter(tfrecord_file) as writer:\n",
        "    for example in examples:\n",
        "      writer.write(example.SerializeToString())\n",
        "  \n",
        "  return tfrecord_file"
      ],
      "execution_count": 8,
      "outputs": []
    },
    {
      "cell_type": "markdown",
      "metadata": {
        "id": "sSO1fOrrYZjK"
      },
      "source": [
        "The code below will do the conversion and we've defined some more global variables that you will use in later exercises. "
      ]
    },
    {
      "cell_type": "code",
      "metadata": {
        "id": "xU8R41EexIoc",
        "colab": {
          "base_uri": "https://localhost:8080/"
        },
        "outputId": "df98765d-eb8a-49a5-9eda-c8cd9ed6fcd3"
      },
      "source": [
        "# Create tfrecord directory\n",
        "!mkdir {TFRECORD_DIR}\n",
        "\n",
        "# Create list of tfrecord files\n",
        "tfrecord_files = [csv_to_tfrecord(SCHEMA, f'{CSV_DIR}/{name}', f\"{TFRECORD_DIR}/{name.replace('csv','tfrecord')}\") \n",
        "  for name in os.listdir(CSV_DIR)]\n",
        "\n",
        "# Print created files\n",
        "print(f'files created: {tfrecord_files}')\n",
        "\n",
        "# Create variables for each tfrecord\n",
        "TFRECORD_FULL = os.path.join(TFRECORD_DIR, 'data_test.tfrecord')\n",
        "TFRECORD_DAY1 = os.path.join(TFRECORD_DIR, 'data_test_1.tfrecord')\n",
        "TFRECORD_DAY2 = os.path.join(TFRECORD_DIR, 'data_test_2.tfrecord')\n",
        "TFRECORD_DAY3 = os.path.join(TFRECORD_DIR, 'data_test_3.tfrecord')\n",
        "\n",
        "# Delete unneeded variable\n",
        "del tfrecord_files"
      ],
      "execution_count": 9,
      "outputs": [
        {
          "output_type": "stream",
          "name": "stdout",
          "text": [
            "files created: ['starter_files/data/tfrecord/data_test_3.tfrecord', 'starter_files/data/tfrecord/data_test_2.tfrecord', 'starter_files/data/tfrecord/data_test.tfrecord', 'starter_files/data/tfrecord/data_test_1.tfrecord']\n"
          ]
        }
      ]
    },
    {
      "cell_type": "markdown",
      "metadata": {
        "id": "Wr6d8JqzR8TZ"
      },
      "source": [
        "### Pretrained models\n",
        "\n",
        "Lastly, you also downloaded pretrained Keras models and they are stored in the `models/` directory. TFMA supports a number of different model types including TF Keras models, models based on generic TF2 signature APIs, as well TF estimator based models. The [get_started](https://www.tensorflow.org/tfx/model_analysis/get_started) guide has the full list of model types supported and any restrictions. You can also consult the [FAQ](https://www.tensorflow.org/tfx/model_analysis/faq) for examples on how to configure these models.\n",
        "\n",
        "We have included three models and you can choose to analyze any one of them in the later sections. These were saved in [SavedModel](https://www.tensorflow.org/guide/saved_model) format which is the default when saving with the Keras Models API."
      ]
    },
    {
      "cell_type": "code",
      "metadata": {
        "id": "HQ4mjuMkR7z2",
        "colab": {
          "base_uri": "https://localhost:8080/"
        },
        "outputId": "c9f4fad6-40d6-46ad-9d11-a5a675338ad1"
      },
      "source": [
        "# list model directories\n",
        "!ls {MODELS_DIR}\n",
        "\n",
        "# Create string variables for each model directory\n",
        "MODEL1_FILE = os.path.join(MODELS_DIR, 'model1')\n",
        "MODEL2_FILE = os.path.join(MODELS_DIR, 'model2')\n",
        "MODEL3_FILE = os.path.join(MODELS_DIR, 'model3')"
      ],
      "execution_count": 10,
      "outputs": [
        {
          "output_type": "stream",
          "name": "stdout",
          "text": [
            "model1\tmodel2\tmodel3\n"
          ]
        }
      ]
    },
    {
      "cell_type": "markdown",
      "metadata": {
        "id": "x0eQ0M7BI6IG"
      },
      "source": [
        "As mentioned earlier, these models were trained on the [Census Income dataset](http://archive.ics.uci.edu/ml/datasets/Census+Income). The label is `1` if a person earns more than 50k USD and `0` if less than or equal. You can load one of the models and look at the summary to get a sense of its architecture. All three models use the same architecture but were trained with different epochs to simulate varying performance."
      ]
    },
    {
      "cell_type": "code",
      "metadata": {
        "id": "vvIEhxeMxekr",
        "colab": {
          "base_uri": "https://localhost:8080/"
        },
        "outputId": "20a4416b-9824-468b-ec6b-02669859b624"
      },
      "source": [
        "# Load model 1\n",
        "model = tf.keras.models.load_model(MODEL1_FILE)\n",
        "\n",
        "# Print summary. You can ignore the warnings at the start.\n",
        "model.summary()"
      ],
      "execution_count": 11,
      "outputs": [
        {
          "output_type": "stream",
          "name": "stdout",
          "text": [
            "WARNING:tensorflow:SavedModel saved prior to TF 2.5 detected when loading Keras model. Please ensure that you are saving the model with model.save() or tf.keras.models.save_model(), *NOT* tf.saved_model.save(). To confirm, there should be a file named \"keras_metadata.pb\" in the SavedModel directory.\n"
          ]
        },
        {
          "output_type": "stream",
          "name": "stderr",
          "text": [
            "WARNING:tensorflow:SavedModel saved prior to TF 2.5 detected when loading Keras model. Please ensure that you are saving the model with model.save() or tf.keras.models.save_model(), *NOT* tf.saved_model.save(). To confirm, there should be a file named \"keras_metadata.pb\" in the SavedModel directory.\n"
          ]
        },
        {
          "output_type": "stream",
          "name": "stdout",
          "text": [
            "WARNING:tensorflow:Inconsistent references when loading the checkpoint into this object graph. Either the Trackable object references in the Python program have changed in an incompatible way, or the checkpoint was generated in an incompatible program.\n",
            "\n",
            "Two checkpoint references resolved to different objects (<tensorflow.python.keras.saving.saved_model.load.TensorFlowTransform>TransformFeaturesLayer object at 0x7f7cf4ae9d50> and <tensorflow.python.keras.engine.input_layer.InputLayer object at 0x7f7cff62fcd0>).\n"
          ]
        },
        {
          "output_type": "stream",
          "name": "stderr",
          "text": [
            "WARNING:tensorflow:Inconsistent references when loading the checkpoint into this object graph. Either the Trackable object references in the Python program have changed in an incompatible way, or the checkpoint was generated in an incompatible program.\n",
            "\n",
            "Two checkpoint references resolved to different objects (<tensorflow.python.keras.saving.saved_model.load.TensorFlowTransform>TransformFeaturesLayer object at 0x7f7cf4ae9d50> and <tensorflow.python.keras.engine.input_layer.InputLayer object at 0x7f7cff62fcd0>).\n"
          ]
        },
        {
          "output_type": "stream",
          "name": "stdout",
          "text": [
            "Model: \"model\"\n",
            "__________________________________________________________________________________________________\n",
            "Layer (type)                    Output Shape         Param #     Connected to                     \n",
            "==================================================================================================\n",
            "fnlwgt_xf (InputLayer)          [(None, 1)]          0                                            \n",
            "__________________________________________________________________________________________________\n",
            "education-num_xf (InputLayer)   [(None, 1)]          0                                            \n",
            "__________________________________________________________________________________________________\n",
            "capital-gain_xf (InputLayer)    [(None, 1)]          0                                            \n",
            "__________________________________________________________________________________________________\n",
            "capital-loss_xf (InputLayer)    [(None, 1)]          0                                            \n",
            "__________________________________________________________________________________________________\n",
            "hours-per-week_xf (InputLayer)  [(None, 1)]          0                                            \n",
            "__________________________________________________________________________________________________\n",
            "concatenate (Concatenate)       (None, 5)            0           fnlwgt_xf[0][0]                  \n",
            "                                                                 education-num_xf[0][0]           \n",
            "                                                                 capital-gain_xf[0][0]            \n",
            "                                                                 capital-loss_xf[0][0]            \n",
            "                                                                 hours-per-week_xf[0][0]          \n",
            "__________________________________________________________________________________________________\n",
            "dense (Dense)                   (None, 100)          600         concatenate[0][0]                \n",
            "__________________________________________________________________________________________________\n",
            "dense_1 (Dense)                 (None, 70)           7070        dense[0][0]                      \n",
            "__________________________________________________________________________________________________\n",
            "education_xf (InputLayer)       [(None, 21)]         0                                            \n",
            "__________________________________________________________________________________________________\n",
            "marital-status_xf (InputLayer)  [(None, 12)]         0                                            \n",
            "__________________________________________________________________________________________________\n",
            "occupation_xf (InputLayer)      [(None, 20)]         0                                            \n",
            "__________________________________________________________________________________________________\n",
            "race_xf (InputLayer)            [(None, 10)]         0                                            \n",
            "__________________________________________________________________________________________________\n",
            "relationship_xf (InputLayer)    [(None, 11)]         0                                            \n",
            "__________________________________________________________________________________________________\n",
            "workclass_xf (InputLayer)       [(None, 14)]         0                                            \n",
            "__________________________________________________________________________________________________\n",
            "sex_xf (InputLayer)             [(None, 7)]          0                                            \n",
            "__________________________________________________________________________________________________\n",
            "native-country_xf (InputLayer)  [(None, 47)]         0                                            \n",
            "__________________________________________________________________________________________________\n",
            "age_xf (InputLayer)             [(None, 4)]          0                                            \n",
            "__________________________________________________________________________________________________\n",
            "dense_2 (Dense)                 (None, 48)           3408        dense_1[0][0]                    \n",
            "__________________________________________________________________________________________________\n",
            "concatenate_1 (Concatenate)     (None, 146)          0           education_xf[0][0]               \n",
            "                                                                 marital-status_xf[0][0]          \n",
            "                                                                 occupation_xf[0][0]              \n",
            "                                                                 race_xf[0][0]                    \n",
            "                                                                 relationship_xf[0][0]            \n",
            "                                                                 workclass_xf[0][0]               \n",
            "                                                                 sex_xf[0][0]                     \n",
            "                                                                 native-country_xf[0][0]          \n",
            "                                                                 age_xf[0][0]                     \n",
            "__________________________________________________________________________________________________\n",
            "dense_3 (Dense)                 (None, 34)           1666        dense_2[0][0]                    \n",
            "__________________________________________________________________________________________________\n",
            "dense_4 (Dense)                 (None, 128)          18816       concatenate_1[0][0]              \n",
            "__________________________________________________________________________________________________\n",
            "concatenate_2 (Concatenate)     (None, 162)          0           dense_3[0][0]                    \n",
            "                                                                 dense_4[0][0]                    \n",
            "__________________________________________________________________________________________________\n",
            "dense_5 (Dense)                 (None, 1)            163         concatenate_2[0][0]              \n",
            "__________________________________________________________________________________________________\n",
            "transform_features_layer (Tenso multiple             0                                            \n",
            "==================================================================================================\n",
            "Total params: 31,723\n",
            "Trainable params: 31,723\n",
            "Non-trainable params: 0\n",
            "__________________________________________________________________________________________________\n"
          ]
        }
      ]
    },
    {
      "cell_type": "markdown",
      "metadata": {
        "id": "L8P-3h-HLPtH"
      },
      "source": [
        "You can see the code to build these in the next lab. For now, you'll only need to take note of a few things. First, the output is a single dense unit with a sigmoid activation (i.e. `dense_5` above). This is standard for binary classification problems.\n",
        "\n",
        "Another is that the model is exported with a transformation layer. You can see this in the summary above at the bottom row named `transform_features_layer` and it is not connected to the other layers. From previous labs, you will know that this is taken from the graph generated by the `Transform` component. It helps to avoid training-serving skews by making sure that raw inputs are transformed in the same way that the model expects. It is also available as a `tft_layer` property of the model object."
      ]
    },
    {
      "cell_type": "code",
      "metadata": {
        "id": "qjEsamx6620d",
        "colab": {
          "base_uri": "https://localhost:8080/"
        },
        "outputId": "25408ed0-bbb5-438e-a989-96b72a6fa458"
      },
      "source": [
        "# Transformation layer can be accessed in two ways. These are equivalent.\n",
        "model.get_layer('transform_features_layer') is model.tft_layer"
      ],
      "execution_count": 12,
      "outputs": [
        {
          "output_type": "execute_result",
          "data": {
            "text/plain": [
              "True"
            ]
          },
          "metadata": {},
          "execution_count": 12
        }
      ]
    },
    {
      "cell_type": "markdown",
      "metadata": {
        "id": "Cvzrnszr9YL1"
      },
      "source": [
        "TFMA invokes this layer automatically for your raw inputs but we've included a short snippet below to demonstrate how the transformation works. You can see that the raw features are indeed reformatted to an acceptable input for the model. The raw numeric features are scaled and the raw categorical (string) features are encoded to one-hot vectors."
      ]
    },
    {
      "cell_type": "code",
      "metadata": {
        "id": "pIUo4v_NFBuO",
        "colab": {
          "base_uri": "https://localhost:8080/"
        },
        "outputId": "8433d773-4515-4623-f90d-524110f2a8a7"
      },
      "source": [
        "from tensorflow_transform.tf_metadata import schema_utils\n",
        "\n",
        "# Load one tfrecord\n",
        "tfrecord_file = tf.data.TFRecordDataset(TFRECORD_DAY1)\n",
        "\n",
        "# Parse schema object as a feature spec\n",
        "feature_spec = schema_utils.schema_as_feature_spec(SCHEMA).feature_spec\n",
        "\n",
        "# Create a batch from the dataset\n",
        "for records in tfrecord_file.batch(1).take(1):\n",
        "\n",
        "  # Parse the batch to get a dictionary of raw features\n",
        "  parsed_examples = tf.io.parse_example(records, feature_spec)\n",
        "\n",
        "  # Print the results\n",
        "  print(\"\\nRAW FEATURES:\")\n",
        "  for key, value in parsed_examples.items():\n",
        "    print(f'{key}: {value.numpy()}')\n",
        "  \n",
        "  # Pop the label since the model does not expect a label input\n",
        "  parsed_examples.pop('label')\n",
        "\n",
        "  # Transform the rest of the raw features using the transform layer\n",
        "  transformed_examples = model.tft_layer(parsed_examples)\n",
        "\n",
        "  # Print the input to the model\n",
        "  print(\"\\nTRANSFORMED FEATURES:\")\n",
        "  for key, value in transformed_examples.items():\n",
        "    print(f'{key}: {value.numpy()}')"
      ],
      "execution_count": 13,
      "outputs": [
        {
          "output_type": "stream",
          "name": "stdout",
          "text": [
            "\n",
            "RAW FEATURES:\n",
            "age: [[25]]\n",
            "capital-gain: [[0]]\n",
            "capital-loss: [[0]]\n",
            "education: [[b'11th']]\n",
            "education-num: [[7]]\n",
            "fnlwgt: [[226802]]\n",
            "hours-per-week: [[40]]\n",
            "label: [[0]]\n",
            "marital-status: [[b'Never-married']]\n",
            "native-country: [[b'United-States']]\n",
            "occupation: [[b'Machine-op-inspct']]\n",
            "race: [[b'Black']]\n",
            "relationship: [[b'Own-child']]\n",
            "sex: [[b'Male']]\n",
            "workclass: [[b'Private']]\n",
            "\n",
            "TRANSFORMED FEATURES:\n",
            "native-country_xf: [[1. 0. 0. 0. 0. 0. 0. 0. 0. 0. 0. 0. 0. 0. 0. 0. 0. 0. 0. 0. 0. 0. 0. 0.\n",
            "  0. 0. 0. 0. 0. 0. 0. 0. 0. 0. 0. 0. 0. 0. 0. 0. 0. 0. 0. 0. 0. 0. 0.]]\n",
            "capital-loss_xf: [0.]\n",
            "relationship_xf: [[0. 0. 1. 0. 0. 0. 0. 0. 0. 0. 0.]]\n",
            "capital-gain_xf: [0.]\n",
            "workclass_xf: [[1. 0. 0. 0. 0. 0. 0. 0. 0. 0. 0. 0. 0. 0.]]\n",
            "race_xf: [[0. 1. 0. 0. 0. 0. 0. 0. 0. 0.]]\n",
            "hours-per-week_xf: [0.39795917]\n",
            "age_xf: [[1. 0. 0. 0.]]\n",
            "sex_xf: [[1. 0. 0. 0. 0. 0. 0.]]\n",
            "marital-status_xf: [[0. 1. 0. 0. 0. 0. 0. 0. 0. 0. 0. 0.]]\n",
            "education_xf: [[0. 0. 0. 0. 0. 1. 0. 0. 0. 0. 0. 0. 0. 0. 0. 0. 0. 0. 0. 0. 0.]]\n",
            "fnlwgt_xf: [0.14569008]\n",
            "education-num_xf: [0.4]\n",
            "occupation_xf: [[0. 0. 0. 0. 0. 0. 1. 0. 0. 0. 0. 0. 0. 0. 0. 0. 0. 0. 0. 0.]]\n"
          ]
        }
      ]
    },
    {
      "cell_type": "markdown",
      "metadata": {
        "id": "AEeCIAwXJnDr"
      },
      "source": [
        "The transformed features can be passed into the model to get the predictions. The snippet below demonstrates this and we used a low-threshold [BinaryAccuracy](https://www.tensorflow.org/api_docs/python/tf/keras/metrics/BinaryAccuracy) metric to compare the true labels and model predictions."
      ]
    },
    {
      "cell_type": "code",
      "metadata": {
        "id": "FXIrFLKPyHtz",
        "colab": {
          "base_uri": "https://localhost:8080/"
        },
        "outputId": "3ffa18f2-6ba9-4190-a6fa-c0cfebe0298a"
      },
      "source": [
        "from tensorflow_transform.tf_metadata import schema_utils\n",
        "\n",
        "# Load one tfrecord\n",
        "tfrecord_file = tf.data.TFRecordDataset(TFRECORD_DAY1)\n",
        "\n",
        "# Parse schema object as a feature spec\n",
        "feature_spec = schema_utils.schema_as_feature_spec(SCHEMA).feature_spec\n",
        "\n",
        "# Create a batch from the dataset\n",
        "for records in tfrecord_file.batch(5).take(1):\n",
        "\n",
        "  # Get the label values from the raw input\n",
        "  parsed_examples = tf.io.parse_example(records, feature_spec)\n",
        "  y_true = parsed_examples.pop('label')\n",
        "  print(f'labels:\\n {y_true.numpy()}\\n')\n",
        "  \n",
        "  # Transform the raw features and pass to the model to get predictions\n",
        "  transformed_examples = model.tft_layer(parsed_examples)\n",
        "  y_pred = model(transformed_examples)\n",
        "  print(f'predictions:\\n {y_pred.numpy()}\\n')\n",
        "  \n",
        "  # Measure the binary accuracy\n",
        "  metric = tf.keras.metrics.BinaryAccuracy(threshold=0.3)\n",
        "  metric.update_state(y_true, y_pred)\n",
        "  print(f'binary accuracy: {metric.result().numpy()}\\n')"
      ],
      "execution_count": 14,
      "outputs": [
        {
          "output_type": "stream",
          "name": "stdout",
          "text": [
            "labels:\n",
            " [[0]\n",
            " [0]\n",
            " [1]\n",
            " [1]\n",
            " [0]]\n",
            "\n",
            "predictions:\n",
            " [[1.6402992e-34]\n",
            " [3.4708142e-02]\n",
            " [5.1936507e-03]\n",
            " [3.3919078e-01]\n",
            " [2.3632433e-15]]\n",
            "\n",
            "binary accuracy: 0.800000011920929\n",
            "\n"
          ]
        }
      ]
    },
    {
      "cell_type": "markdown",
      "metadata": {
        "id": "MGFEc_P0LH8b"
      },
      "source": [
        "Last thing to note is the model is also exported with a [serving signature](https://www.tensorflow.org/guide/saved_model#specifying_signatures_during_export). You will know more about this in the next lab and in later parts of the specialization but for now, you can think of it as a configuration for when the model is deployed for inference. For this particular model, the default signature is configured to transform batches of serialized raw features before feeding to the model input. That way, you wouldn't have to explicitly code the transformations as previously shown in the snippet above. You can just pass in batches of data directly as shown below. "
      ]
    },
    {
      "cell_type": "code",
      "metadata": {
        "id": "Nh9rvKbSUW_l",
        "colab": {
          "base_uri": "https://localhost:8080/"
        },
        "outputId": "89eed8ba-64ba-4dc0-aefd-47f6e8bb8298"
      },
      "source": [
        "# Load one tfrecord\n",
        "tfrecord_file = tf.data.TFRecordDataset(TFRECORD_DAY1)\n",
        "\n",
        "# Print available signatures\n",
        "print(f'model signatures: {model.signatures}\\n')\n",
        "\n",
        "# Create a batch\n",
        "for records in tfrecord_file.batch(5).take(1):\n",
        "\n",
        "  # Pass the batch to the model serving signature to get predictions\n",
        "  output = model.signatures['serving_default'](examples=records)\n",
        "\n",
        "  # Print results\n",
        "  print(f\"predictions:\\n {output['output_0']}\\n\")"
      ],
      "execution_count": 15,
      "outputs": [
        {
          "output_type": "stream",
          "name": "stdout",
          "text": [
            "model signatures: _SignatureMap({'serving_default': <ConcreteFunction signature_wrapper(*, examples) at 0x7F7CF10D8590>})\n",
            "\n",
            "predictions:\n",
            " [[1.6402867e-34]\n",
            " [3.4708112e-02]\n",
            " [5.1937401e-03]\n",
            " [3.3919084e-01]\n",
            " [2.3632433e-15]]\n",
            "\n"
          ]
        }
      ]
    },
    {
      "cell_type": "markdown",
      "metadata": {
        "id": "8gNoFWd3N-9b"
      },
      "source": [
        "TFMA accesses this model signature so it can work with the raw data and evaluate the model to get the metrics. Not only that, it can also extract specific features and domain values from your dataset before it computes these metrics. Let's see how this is done in the next section."
      ]
    },
    {
      "cell_type": "markdown",
      "metadata": {
        "id": "fp8Ub7GTXH3j"
      },
      "source": [
        "## Setup and Run TFMA\n",
        "\n",
        "With the dataset and model now available, you can now move on to use TFMA. There are some additional steps needed:\n",
        "\n",
        "* Create a `tfma.EvalConfig` protocol message containing details about the models, metrics, and data slices you'd like to analyze\n",
        "* Create a `tfma.EvalSharedModel` that points to your saved models.\n",
        "* Specify an output path where the analysis results will be stored "
      ]
    },
    {
      "cell_type": "markdown",
      "metadata": {
        "id": "qgC7NdCatT8y"
      },
      "source": [
        "### Create EvalConfig\n",
        "\n",
        "The [tfma.EvalConfig()](https://www.tensorflow.org/tfx/model_analysis/api_docs/python/tfma/EvalConfig?hl=nn&skip_cache=true) is a protocol message that sets up the analysis. Here, you will specify:\n",
        "\n",
        "* [`model_specs`](https://www.tensorflow.org/tfx/model_analysis/api_docs/python/tfma/ModelSpec) - message containing at least the label key so it can be extracted from the evaluation/test data\n",
        "\n",
        "* [`metrics_specs`](https://www.tensorflow.org/tfx/model_analysis/api_docs/python/tfma/MetricsSpec) - containing the metrics you would like to evaluate. A comprehensive guide can be found [here](https://www.tensorflow.org/tfx/model_analysis/metrics) and you will use the binary classification metrics for this exercise.\n",
        "\n",
        "* [`slicing_specs`](https://www.tensorflow.org/tfx/model_analysis/api_docs/python/tfma/SlicingSpec) - containing the feature slices you would like to compute metrics for. A short description of different types of slices is shown [here](https://www.tensorflow.org/tfx/model_analysis/setup#slicing_specs)\n",
        "\n",
        "The eval config should be passed as a protocol message and you can use the [google.protobuf.text_format](https://googleapis.dev/python/protobuf/latest/google/protobuf/text_format.html) module for that as shown below."
      ]
    },
    {
      "cell_type": "code",
      "metadata": {
        "id": "PLJxcjpjfwkx"
      },
      "source": [
        "import tensorflow_model_analysis as tfma\n",
        "from google.protobuf import text_format\n",
        "\n",
        "# Setup tfma.EvalConfig settings\n",
        "eval_config = text_format.Parse(\"\"\"\n",
        "  ## Model information\n",
        "  model_specs {\n",
        "    # For keras (and serving models), you need to add a `label_key`.\n",
        "    label_key: \"label\"\n",
        "  }\n",
        "\n",
        "  ## Post training metric information. These will be merged with any built-in\n",
        "  ## metrics from training.\n",
        "  metrics_specs {\n",
        "    metrics { class_name: \"ExampleCount\" }\n",
        "    metrics { class_name: \"BinaryAccuracy\" }\n",
        "    metrics { class_name: \"BinaryCrossentropy\" }\n",
        "    metrics { class_name: \"AUC\" }\n",
        "    metrics { class_name: \"AUCPrecisionRecall\" }\n",
        "    metrics { class_name: \"Precision\" }\n",
        "    metrics { class_name: \"Recall\" }\n",
        "    metrics { class_name: \"MeanLabel\" }\n",
        "    metrics { class_name: \"MeanPrediction\" }\n",
        "    metrics { class_name: \"Calibration\" }\n",
        "    metrics { class_name: \"CalibrationPlot\" }\n",
        "    metrics { class_name: \"ConfusionMatrixPlot\" }\n",
        "    # ... add additional metrics and plots ...\n",
        "  }\n",
        "\n",
        "  ## Slicing information\n",
        "\n",
        "  # overall slice\n",
        "  slicing_specs {}\n",
        "\n",
        "  # slice specific features\n",
        "  slicing_specs {\n",
        "    feature_keys: [\"sex\"]\n",
        "  }\n",
        "  slicing_specs {\n",
        "    feature_keys: [\"race\"]\n",
        "  }\n",
        "\n",
        "  # slice specific values from features\n",
        "  slicing_specs {\n",
        "    feature_values: {\n",
        "      key: \"native-country\"\n",
        "      value: \"Cambodia\"\n",
        "    }\n",
        "  }\n",
        "  slicing_specs {\n",
        "    feature_values: {\n",
        "      key: \"native-country\"\n",
        "      value: \"Canada\"\n",
        "    }\n",
        "  }\n",
        "\n",
        "  # slice feature crosses\n",
        "  slicing_specs {\n",
        "    feature_keys: [\"sex\", \"race\"]\n",
        "  }\n",
        "\"\"\", tfma.EvalConfig())"
      ],
      "execution_count": 16,
      "outputs": []
    },
    {
      "cell_type": "markdown",
      "metadata": {
        "id": "J165kzHNTEQN"
      },
      "source": [
        "### Create EvalSharedModel\n",
        "\n",
        "TFMA also requires an [EvalSharedModel](https://www.tensorflow.org/tfx/model_analysis/api_docs/python/tfma/types/EvalSharedModel) instance that points to your model so it can be shared between multiple threads in the same process. This instance includes information about the type of model (keras, etc) and how to load and configure the model from its saved location on disk (e.g. tags, etc). The [tfma.default_eval_shared_model()](https://www.tensorflow.org/tfx/model_analysis/api_docs/python/tfma/default_eval_shared_model) API can be used to create this given the model location and eval config."
      ]
    },
    {
      "cell_type": "code",
      "metadata": {
        "id": "KsnjbIi5OtXb",
        "colab": {
          "base_uri": "https://localhost:8080/"
        },
        "outputId": "bf40555b-f29e-4562-8840-76e6b20c8187"
      },
      "source": [
        "# Create a tfma.EvalSharedModel that points to your model.\n",
        "# You can ignore the warnings generated.\n",
        "eval_shared_model = tfma.default_eval_shared_model(\n",
        "    eval_saved_model_path=MODEL1_FILE,\n",
        "    eval_config=eval_config)"
      ],
      "execution_count": 17,
      "outputs": [
        {
          "output_type": "stream",
          "name": "stdout",
          "text": [
            "WARNING:tensorflow:SavedModel saved prior to TF 2.5 detected when loading Keras model. Please ensure that you are saving the model with model.save() or tf.keras.models.save_model(), *NOT* tf.saved_model.save(). To confirm, there should be a file named \"keras_metadata.pb\" in the SavedModel directory.\n"
          ]
        },
        {
          "output_type": "stream",
          "name": "stderr",
          "text": [
            "WARNING:tensorflow:SavedModel saved prior to TF 2.5 detected when loading Keras model. Please ensure that you are saving the model with model.save() or tf.keras.models.save_model(), *NOT* tf.saved_model.save(). To confirm, there should be a file named \"keras_metadata.pb\" in the SavedModel directory.\n"
          ]
        },
        {
          "output_type": "stream",
          "name": "stdout",
          "text": [
            "WARNING:tensorflow:Inconsistent references when loading the checkpoint into this object graph. Either the Trackable object references in the Python program have changed in an incompatible way, or the checkpoint was generated in an incompatible program.\n",
            "\n",
            "Two checkpoint references resolved to different objects (<tensorflow.python.keras.saving.saved_model.load.TensorFlowTransform>TransformFeaturesLayer object at 0x7f7cefb61ad0> and <tensorflow.python.keras.engine.input_layer.InputLayer object at 0x7f7cf0309610>).\n"
          ]
        },
        {
          "output_type": "stream",
          "name": "stderr",
          "text": [
            "WARNING:tensorflow:Inconsistent references when loading the checkpoint into this object graph. Either the Trackable object references in the Python program have changed in an incompatible way, or the checkpoint was generated in an incompatible program.\n",
            "\n",
            "Two checkpoint references resolved to different objects (<tensorflow.python.keras.saving.saved_model.load.TensorFlowTransform>TransformFeaturesLayer object at 0x7f7cefb61ad0> and <tensorflow.python.keras.engine.input_layer.InputLayer object at 0x7f7cf0309610>).\n"
          ]
        }
      ]
    },
    {
      "cell_type": "code",
      "metadata": {
        "id": "F0s4wWgQb2LT",
        "colab": {
          "base_uri": "https://localhost:8080/"
        },
        "outputId": "acd0f54e-39e2-439c-9d80-32eb063b7211"
      },
      "source": [
        "# Show properties of EvalSharedModel\n",
        "print(f'EvalSharedModel contents: {eval_shared_model}')"
      ],
      "execution_count": 18,
      "outputs": [
        {
          "output_type": "stream",
          "name": "stdout",
          "text": [
            "EvalSharedModel contents: EvalSharedModel(model_path='starter_files/models/model1', add_metrics_callbacks=[], include_default_metrics=True, example_weight_key=None, additional_fetches=None, model_loader=<tensorflow_model_analysis.types.ModelLoader object at 0x7f7cef588b40>, model_name='', model_type='tf_keras', rubber_stamp=False, is_baseline=False)\n"
          ]
        }
      ]
    },
    {
      "cell_type": "markdown",
      "metadata": {
        "id": "pViNbIpuVYLU"
      },
      "source": [
        "### Run TFMA\n",
        "\n",
        "With the setup complete, you just need to declare an output directory then run TFMA. You will pass in the eval config, shared model, dataset, and output directory to [`tfma.run_model_analysis()`](https://www.tensorflow.org/tfx/model_analysis/api_docs/python/tfma/run_model_analysis) as shown below. This will create a [`tfma.EvalResult`](https://www.tensorflow.org/tfx/model_analysis/api_docs/python/tfma/EvalResult) which you can use later for rendering metrics and plots."
      ]
    },
    {
      "cell_type": "code",
      "metadata": {
        "id": "P3ej6jgiVkuY",
        "colab": {
          "base_uri": "https://localhost:8080/",
          "height": 1000
        },
        "outputId": "f4f78792-25bd-4d0a-88e2-3a968dac8585"
      },
      "source": [
        "# Specify output path for the evaluation results\n",
        "OUTPUT_DIR = os.path.join(BASE_DIR, 'output')\n",
        "\n",
        "# Run TFMA. You can ignore the warnings generated.\n",
        "eval_result = tfma.run_model_analysis(\n",
        "    eval_shared_model=eval_shared_model,\n",
        "    eval_config=eval_config,\n",
        "    data_location=TFRECORD_FULL,\n",
        "    output_path=OUTPUT_DIR)"
      ],
      "execution_count": 19,
      "outputs": [
        {
          "output_type": "stream",
          "name": "stderr",
          "text": [
            "WARNING:absl:Tensorflow version (2.5.1) found. Note that TFMA support for TF 2.0 is currently in beta\n",
            "WARNING:apache_beam.runners.interactive.interactive_environment:Dependencies required for Interactive Beam PCollection visualization are not available, please use: `pip install apache-beam[interactive]` to install necessary dependencies to enable all data visualization features.\n"
          ]
        },
        {
          "output_type": "display_data",
          "data": {
            "application/javascript": [
              "\n",
              "        if (typeof window.interactive_beam_jquery == 'undefined') {\n",
              "          var jqueryScript = document.createElement('script');\n",
              "          jqueryScript.src = 'https://code.jquery.com/jquery-3.4.1.slim.min.js';\n",
              "          jqueryScript.type = 'text/javascript';\n",
              "          jqueryScript.onload = function() {\n",
              "            var datatableScript = document.createElement('script');\n",
              "            datatableScript.src = 'https://cdn.datatables.net/1.10.20/js/jquery.dataTables.min.js';\n",
              "            datatableScript.type = 'text/javascript';\n",
              "            datatableScript.onload = function() {\n",
              "              window.interactive_beam_jquery = jQuery.noConflict(true);\n",
              "              window.interactive_beam_jquery(document).ready(function($){\n",
              "                \n",
              "              });\n",
              "            }\n",
              "            document.head.appendChild(datatableScript);\n",
              "          };\n",
              "          document.head.appendChild(jqueryScript);\n",
              "        } else {\n",
              "          window.interactive_beam_jquery(document).ready(function($){\n",
              "            \n",
              "          });\n",
              "        }"
            ]
          },
          "metadata": {}
        },
        {
          "output_type": "stream",
          "name": "stdout",
          "text": [
            "WARNING:tensorflow:SavedModel saved prior to TF 2.5 detected when loading Keras model. Please ensure that you are saving the model with model.save() or tf.keras.models.save_model(), *NOT* tf.saved_model.save(). To confirm, there should be a file named \"keras_metadata.pb\" in the SavedModel directory.\n"
          ]
        },
        {
          "output_type": "stream",
          "name": "stderr",
          "text": [
            "WARNING:tensorflow:SavedModel saved prior to TF 2.5 detected when loading Keras model. Please ensure that you are saving the model with model.save() or tf.keras.models.save_model(), *NOT* tf.saved_model.save(). To confirm, there should be a file named \"keras_metadata.pb\" in the SavedModel directory.\n"
          ]
        },
        {
          "output_type": "stream",
          "name": "stdout",
          "text": [
            "WARNING:tensorflow:Inconsistent references when loading the checkpoint into this object graph. Either the Trackable object references in the Python program have changed in an incompatible way, or the checkpoint was generated in an incompatible program.\n",
            "\n",
            "Two checkpoint references resolved to different objects (<tensorflow.python.keras.saving.saved_model.load.TensorFlowTransform>TransformFeaturesLayer object at 0x7f7ceed95690> and <tensorflow.python.keras.engine.input_layer.InputLayer object at 0x7f7ceee48850>).\n"
          ]
        },
        {
          "output_type": "stream",
          "name": "stderr",
          "text": [
            "WARNING:tensorflow:Inconsistent references when loading the checkpoint into this object graph. Either the Trackable object references in the Python program have changed in an incompatible way, or the checkpoint was generated in an incompatible program.\n",
            "\n",
            "Two checkpoint references resolved to different objects (<tensorflow.python.keras.saving.saved_model.load.TensorFlowTransform>TransformFeaturesLayer object at 0x7f7ceed95690> and <tensorflow.python.keras.engine.input_layer.InputLayer object at 0x7f7ceee48850>).\n",
            "WARNING:root:Make sure that locally built Python SDK docker image has Python 3.7 interpreter.\n"
          ]
        },
        {
          "output_type": "stream",
          "name": "stdout",
          "text": [
            "WARNING:tensorflow:SavedModel saved prior to TF 2.5 detected when loading Keras model. Please ensure that you are saving the model with model.save() or tf.keras.models.save_model(), *NOT* tf.saved_model.save(). To confirm, there should be a file named \"keras_metadata.pb\" in the SavedModel directory.\n"
          ]
        },
        {
          "output_type": "stream",
          "name": "stderr",
          "text": [
            "WARNING:tensorflow:SavedModel saved prior to TF 2.5 detected when loading Keras model. Please ensure that you are saving the model with model.save() or tf.keras.models.save_model(), *NOT* tf.saved_model.save(). To confirm, there should be a file named \"keras_metadata.pb\" in the SavedModel directory.\n"
          ]
        },
        {
          "output_type": "stream",
          "name": "stdout",
          "text": [
            "WARNING:tensorflow:Inconsistent references when loading the checkpoint into this object graph. Either the Trackable object references in the Python program have changed in an incompatible way, or the checkpoint was generated in an incompatible program.\n",
            "\n",
            "Two checkpoint references resolved to different objects (<tensorflow.python.keras.saving.saved_model.load.TensorFlowTransform>TransformFeaturesLayer object at 0x7f7ced7aea90> and <tensorflow.python.keras.engine.input_layer.InputLayer object at 0x7f7cee269810>).\n"
          ]
        },
        {
          "output_type": "stream",
          "name": "stderr",
          "text": [
            "WARNING:tensorflow:Inconsistent references when loading the checkpoint into this object graph. Either the Trackable object references in the Python program have changed in an incompatible way, or the checkpoint was generated in an incompatible program.\n",
            "\n",
            "Two checkpoint references resolved to different objects (<tensorflow.python.keras.saving.saved_model.load.TensorFlowTransform>TransformFeaturesLayer object at 0x7f7ced7aea90> and <tensorflow.python.keras.engine.input_layer.InputLayer object at 0x7f7cee269810>).\n",
            "WARNING:apache_beam.io.tfrecordio:Couldn't find python-snappy so the implementation of _TFRecordUtil._masked_crc32c is not as fast as it could be.\n"
          ]
        },
        {
          "output_type": "stream",
          "name": "stdout",
          "text": [
            "WARNING:tensorflow:SavedModel saved prior to TF 2.5 detected when loading Keras model. Please ensure that you are saving the model with model.save() or tf.keras.models.save_model(), *NOT* tf.saved_model.save(). To confirm, there should be a file named \"keras_metadata.pb\" in the SavedModel directory.\n"
          ]
        },
        {
          "output_type": "stream",
          "name": "stderr",
          "text": [
            "WARNING:tensorflow:SavedModel saved prior to TF 2.5 detected when loading Keras model. Please ensure that you are saving the model with model.save() or tf.keras.models.save_model(), *NOT* tf.saved_model.save(). To confirm, there should be a file named \"keras_metadata.pb\" in the SavedModel directory.\n"
          ]
        },
        {
          "output_type": "stream",
          "name": "stdout",
          "text": [
            "WARNING:tensorflow:Inconsistent references when loading the checkpoint into this object graph. Either the Trackable object references in the Python program have changed in an incompatible way, or the checkpoint was generated in an incompatible program.\n",
            "\n",
            "Two checkpoint references resolved to different objects (<tensorflow.python.keras.saving.saved_model.load.TensorFlowTransform>TransformFeaturesLayer object at 0x7f7cef78f0d0> and <tensorflow.python.keras.engine.input_layer.InputLayer object at 0x7f7cef699090>).\n"
          ]
        },
        {
          "output_type": "stream",
          "name": "stderr",
          "text": [
            "WARNING:tensorflow:Inconsistent references when loading the checkpoint into this object graph. Either the Trackable object references in the Python program have changed in an incompatible way, or the checkpoint was generated in an incompatible program.\n",
            "\n",
            "Two checkpoint references resolved to different objects (<tensorflow.python.keras.saving.saved_model.load.TensorFlowTransform>TransformFeaturesLayer object at 0x7f7cef78f0d0> and <tensorflow.python.keras.engine.input_layer.InputLayer object at 0x7f7cef699090>).\n"
          ]
        },
        {
          "output_type": "stream",
          "name": "stdout",
          "text": [
            "WARNING:tensorflow:SavedModel saved prior to TF 2.5 detected when loading Keras model. Please ensure that you are saving the model with model.save() or tf.keras.models.save_model(), *NOT* tf.saved_model.save(). To confirm, there should be a file named \"keras_metadata.pb\" in the SavedModel directory.\n"
          ]
        },
        {
          "output_type": "stream",
          "name": "stderr",
          "text": [
            "WARNING:tensorflow:SavedModel saved prior to TF 2.5 detected when loading Keras model. Please ensure that you are saving the model with model.save() or tf.keras.models.save_model(), *NOT* tf.saved_model.save(). To confirm, there should be a file named \"keras_metadata.pb\" in the SavedModel directory.\n"
          ]
        },
        {
          "output_type": "stream",
          "name": "stdout",
          "text": [
            "WARNING:tensorflow:Inconsistent references when loading the checkpoint into this object graph. Either the Trackable object references in the Python program have changed in an incompatible way, or the checkpoint was generated in an incompatible program.\n",
            "\n",
            "Two checkpoint references resolved to different objects (<tensorflow.python.keras.saving.saved_model.load.TensorFlowTransform>TransformFeaturesLayer object at 0x7f7cef877990> and <tensorflow.python.keras.engine.input_layer.InputLayer object at 0x7f7cea2bf190>).\n"
          ]
        },
        {
          "output_type": "stream",
          "name": "stderr",
          "text": [
            "WARNING:tensorflow:Inconsistent references when loading the checkpoint into this object graph. Either the Trackable object references in the Python program have changed in an incompatible way, or the checkpoint was generated in an incompatible program.\n",
            "\n",
            "Two checkpoint references resolved to different objects (<tensorflow.python.keras.saving.saved_model.load.TensorFlowTransform>TransformFeaturesLayer object at 0x7f7cef877990> and <tensorflow.python.keras.engine.input_layer.InputLayer object at 0x7f7cea2bf190>).\n"
          ]
        },
        {
          "output_type": "stream",
          "name": "stdout",
          "text": [
            "WARNING:tensorflow:SavedModel saved prior to TF 2.5 detected when loading Keras model. Please ensure that you are saving the model with model.save() or tf.keras.models.save_model(), *NOT* tf.saved_model.save(). To confirm, there should be a file named \"keras_metadata.pb\" in the SavedModel directory.\n"
          ]
        },
        {
          "output_type": "stream",
          "name": "stderr",
          "text": [
            "WARNING:tensorflow:SavedModel saved prior to TF 2.5 detected when loading Keras model. Please ensure that you are saving the model with model.save() or tf.keras.models.save_model(), *NOT* tf.saved_model.save(). To confirm, there should be a file named \"keras_metadata.pb\" in the SavedModel directory.\n"
          ]
        },
        {
          "output_type": "stream",
          "name": "stdout",
          "text": [
            "WARNING:tensorflow:Inconsistent references when loading the checkpoint into this object graph. Either the Trackable object references in the Python program have changed in an incompatible way, or the checkpoint was generated in an incompatible program.\n",
            "\n",
            "Two checkpoint references resolved to different objects (<tensorflow.python.keras.saving.saved_model.load.TensorFlowTransform>TransformFeaturesLayer object at 0x7f7ce836dd50> and <tensorflow.python.keras.engine.input_layer.InputLayer object at 0x7f7cef8529d0>).\n"
          ]
        },
        {
          "output_type": "stream",
          "name": "stderr",
          "text": [
            "WARNING:tensorflow:Inconsistent references when loading the checkpoint into this object graph. Either the Trackable object references in the Python program have changed in an incompatible way, or the checkpoint was generated in an incompatible program.\n",
            "\n",
            "Two checkpoint references resolved to different objects (<tensorflow.python.keras.saving.saved_model.load.TensorFlowTransform>TransformFeaturesLayer object at 0x7f7ce836dd50> and <tensorflow.python.keras.engine.input_layer.InputLayer object at 0x7f7cef8529d0>).\n"
          ]
        },
        {
          "output_type": "stream",
          "name": "stdout",
          "text": [
            "WARNING:tensorflow:SavedModel saved prior to TF 2.5 detected when loading Keras model. Please ensure that you are saving the model with model.save() or tf.keras.models.save_model(), *NOT* tf.saved_model.save(). To confirm, there should be a file named \"keras_metadata.pb\" in the SavedModel directory.\n"
          ]
        },
        {
          "output_type": "stream",
          "name": "stderr",
          "text": [
            "WARNING:tensorflow:SavedModel saved prior to TF 2.5 detected when loading Keras model. Please ensure that you are saving the model with model.save() or tf.keras.models.save_model(), *NOT* tf.saved_model.save(). To confirm, there should be a file named \"keras_metadata.pb\" in the SavedModel directory.\n"
          ]
        },
        {
          "output_type": "stream",
          "name": "stdout",
          "text": [
            "WARNING:tensorflow:Inconsistent references when loading the checkpoint into this object graph. Either the Trackable object references in the Python program have changed in an incompatible way, or the checkpoint was generated in an incompatible program.\n",
            "\n",
            "Two checkpoint references resolved to different objects (<tensorflow.python.keras.saving.saved_model.load.TensorFlowTransform>TransformFeaturesLayer object at 0x7f7ce7942790> and <tensorflow.python.keras.engine.input_layer.InputLayer object at 0x7f7ce7941c50>).\n"
          ]
        },
        {
          "output_type": "stream",
          "name": "stderr",
          "text": [
            "WARNING:tensorflow:Inconsistent references when loading the checkpoint into this object graph. Either the Trackable object references in the Python program have changed in an incompatible way, or the checkpoint was generated in an incompatible program.\n",
            "\n",
            "Two checkpoint references resolved to different objects (<tensorflow.python.keras.saving.saved_model.load.TensorFlowTransform>TransformFeaturesLayer object at 0x7f7ce7942790> and <tensorflow.python.keras.engine.input_layer.InputLayer object at 0x7f7ce7941c50>).\n"
          ]
        },
        {
          "output_type": "stream",
          "name": "stdout",
          "text": [
            "WARNING:tensorflow:SavedModel saved prior to TF 2.5 detected when loading Keras model. Please ensure that you are saving the model with model.save() or tf.keras.models.save_model(), *NOT* tf.saved_model.save(). To confirm, there should be a file named \"keras_metadata.pb\" in the SavedModel directory.\n"
          ]
        },
        {
          "output_type": "stream",
          "name": "stderr",
          "text": [
            "WARNING:tensorflow:SavedModel saved prior to TF 2.5 detected when loading Keras model. Please ensure that you are saving the model with model.save() or tf.keras.models.save_model(), *NOT* tf.saved_model.save(). To confirm, there should be a file named \"keras_metadata.pb\" in the SavedModel directory.\n"
          ]
        },
        {
          "output_type": "stream",
          "name": "stdout",
          "text": [
            "WARNING:tensorflow:Inconsistent references when loading the checkpoint into this object graph. Either the Trackable object references in the Python program have changed in an incompatible way, or the checkpoint was generated in an incompatible program.\n",
            "\n",
            "Two checkpoint references resolved to different objects (<tensorflow.python.keras.saving.saved_model.load.TensorFlowTransform>TransformFeaturesLayer object at 0x7f7ce7410850> and <tensorflow.python.keras.engine.input_layer.InputLayer object at 0x7f7ce7462610>).\n"
          ]
        },
        {
          "output_type": "stream",
          "name": "stderr",
          "text": [
            "WARNING:tensorflow:Inconsistent references when loading the checkpoint into this object graph. Either the Trackable object references in the Python program have changed in an incompatible way, or the checkpoint was generated in an incompatible program.\n",
            "\n",
            "Two checkpoint references resolved to different objects (<tensorflow.python.keras.saving.saved_model.load.TensorFlowTransform>TransformFeaturesLayer object at 0x7f7ce7410850> and <tensorflow.python.keras.engine.input_layer.InputLayer object at 0x7f7ce7462610>).\n"
          ]
        },
        {
          "output_type": "stream",
          "name": "stdout",
          "text": [
            "WARNING:tensorflow:From /usr/local/lib/python3.7/dist-packages/tensorflow_model_analysis/writers/metrics_plots_and_validations_writer.py:113: tf_record_iterator (from tensorflow.python.lib.io.tf_record) is deprecated and will be removed in a future version.\n",
            "Instructions for updating:\n",
            "Use eager execution and: \n",
            "`tf.data.TFRecordDataset(path)`\n"
          ]
        },
        {
          "output_type": "stream",
          "name": "stderr",
          "text": [
            "WARNING:tensorflow:From /usr/local/lib/python3.7/dist-packages/tensorflow_model_analysis/writers/metrics_plots_and_validations_writer.py:113: tf_record_iterator (from tensorflow.python.lib.io.tf_record) is deprecated and will be removed in a future version.\n",
            "Instructions for updating:\n",
            "Use eager execution and: \n",
            "`tf.data.TFRecordDataset(path)`\n"
          ]
        }
      ]
    },
    {
      "cell_type": "markdown",
      "metadata": {
        "id": "A0khNBC9FlEO"
      },
      "source": [
        "## Visualizing Metrics and Plots\n",
        "\n",
        "You can visualize the results also using TFMA methods. In this section, you will view the returned metrics and plots for the different slices you specified in the eval config."
      ]
    },
    {
      "cell_type": "markdown",
      "metadata": {
        "id": "cSl9qyTCbBKR"
      },
      "source": [
        "### Rendering Metrics\n",
        "\n",
        "You can view the metrics with the [`tfma.view.render_slicing_metrics()`](https://www.tensorflow.org/tfx/model_analysis/api_docs/python/tfma/view/render_slicing_metrics) method. By default, the views will display the `Overall` slice. To view a particular slice you can pass in a feature name to the `slicing_column` argument as shown below. You can visualize the different metrics through the `Show` dropdown menu and you can hover over the bar charts to show the exact value measured. \n",
        "\n",
        "We encourage you to try the different options you see and also modify the command. Here are some examples:\n",
        "\n",
        "* Removing the `slicing_column` argument will produce the overall slice.\n",
        "* You can also pass in `race` (since it was specified in the eval config) to see the results for that particular slice.\n",
        "* Using the `Examples (Weighted) Threshold` slider above 5421 will remove the `Female` slice because it has less examples than that.\n",
        "* Toggling the `View` dropdown to `Metrics Histogram` will show the results divided into buckets. For example, if you're slicing column is `sex` and the `Histogram Type` dropdown is at `Slice Counts`, then you will one slice in two of the 10 (default) buckets since we only have two values for that feature ('Male' and 'Female'). The x-axis show the values for the metric in the `Select Metric` dropdown. This is the default view when the number of slices is large.\n",
        "* At the bottom of the screen, you will notice the measurements also presented in tabular format. You can sort it by clicking on the feature name headers."
      ]
    },
    {
      "cell_type": "code",
      "metadata": {
        "id": "hJ5_UMnWYmaE",
        "colab": {
          "base_uri": "https://localhost:8080/",
          "height": 17
        },
        "outputId": "f165fe43-143e-464a-afea-378d291551e5"
      },
      "source": [
        "# Render metrics for a feature\n",
        "tfma.view.render_slicing_metrics(eval_result, slicing_column='sex')"
      ],
      "execution_count": 20,
      "outputs": [
        {
          "output_type": "display_data",
          "data": {
            "text/html": [
              "\n",
              "          <script src=\"/nbextensions/tensorflow_model_analysis/vulcanized_tfma.js\">\n",
              "          </script>\n",
              "          <tfma-nb-slicing-metrics id=\"component\"></tfma-nb-slicing-metrics>\n",
              "          <script>\n",
              "          const element = document.getElementById('component');\n",
              "\n",
              "          /** No event handlers needed. */\n",
              "\n",
              "          element.config = JSON.parse('{\"weightedExamplesColumn\": \"example_count\"}');\n",
              "          element.data = JSON.parse('[{\"slice\": \"sex:Male\", \"metrics\": {\"\": {\"\": {\"binary_accuracy\": {\"doubleValue\": 0.7871086597442627}, \"loss\": {\"doubleValue\": 0.7089366912841797}, \"binary_crossentropy\": {\"doubleValue\": 0.7089366912841797}, \"example_count\": {\"doubleValue\": 10860.0}, \"auc\": {\"doubleValue\": 0.8316878080368042}, \"auc_precision_recall\": {\"doubleValue\": 0.6609575748443604}, \"precision\": {\"doubleValue\": 0.6502227783203125}, \"recall\": {\"doubleValue\": 0.6274570226669312}, \"mean_label\": {\"doubleValue\": 0.2998158379373849}, \"mean_prediction\": {\"doubleValue\": 0.3155849788877048}, \"calibration\": {\"doubleValue\": 1.0525960905161162}}}}}, {\"slice\": \"sex:Female\", \"metrics\": {\"\": {\"\": {\"binary_accuracy\": {\"doubleValue\": 0.9105331301689148}, \"loss\": {\"doubleValue\": 0.4375971555709839}, \"binary_crossentropy\": {\"doubleValue\": 0.4375971555709839}, \"example_count\": {\"doubleValue\": 5421.0}, \"auc\": {\"doubleValue\": 0.8631137013435364}, \"auc_precision_recall\": {\"doubleValue\": 0.5316028594970703}, \"precision\": {\"doubleValue\": 0.6052104234695435}, \"recall\": {\"doubleValue\": 0.511864423751831}, \"mean_label\": {\"doubleValue\": 0.10883600811658366}, \"mean_prediction\": {\"doubleValue\": 0.103702861051581}, \"calibration\": {\"doubleValue\": 0.9528359487468145}}}}}]');\n",
              "          </script>\n",
              "          "
            ],
            "text/plain": [
              "<IPython.core.display.HTML object>"
            ]
          },
          "metadata": {}
        }
      ]
    },
    {
      "cell_type": "markdown",
      "metadata": {
        "id": "hSnqI6Esb1XM"
      },
      "source": [
        "### More Slices\n",
        "\n",
        "If you haven't yet, you can also pass in the `native-country` to the slicing column. The difference in this visualization is we only specified two of its values in the eval config earlier. This is useful if you just want to study a subgroup of a particular feature and not the entire domain."
      ]
    },
    {
      "cell_type": "code",
      "metadata": {
        "id": "355wqvY3yBod",
        "colab": {
          "base_uri": "https://localhost:8080/",
          "height": 17
        },
        "outputId": "75421660-92f5-4279-b077-0ae0414548c1"
      },
      "source": [
        "# Render metrics for feature. Review EvalConfig message to see what values were selected.\n",
        "tfma.view.render_slicing_metrics(eval_result, slicing_column='native-country')"
      ],
      "execution_count": 21,
      "outputs": [
        {
          "output_type": "display_data",
          "data": {
            "text/html": [
              "\n",
              "          <script src=\"/nbextensions/tensorflow_model_analysis/vulcanized_tfma.js\">\n",
              "          </script>\n",
              "          <tfma-nb-slicing-metrics id=\"component\"></tfma-nb-slicing-metrics>\n",
              "          <script>\n",
              "          const element = document.getElementById('component');\n",
              "\n",
              "          /** No event handlers needed. */\n",
              "\n",
              "          element.config = JSON.parse('{\"weightedExamplesColumn\": \"example_count\"}');\n",
              "          element.data = JSON.parse('[{\"slice\": \"native-country:Cambodia\", \"metrics\": {\"\": {\"\": {\"binary_accuracy\": {\"doubleValue\": 0.6666666865348816}, \"loss\": {\"doubleValue\": 3.5039854049682617}, \"binary_crossentropy\": {\"doubleValue\": 3.5039854049682617}, \"example_count\": {\"doubleValue\": 9.0}, \"auc\": {\"doubleValue\": 0.6071428060531616}, \"auc_precision_recall\": {\"doubleValue\": 0.36621859669685364}, \"precision\": {\"doubleValue\": 0.3333333432674408}, \"recall\": {\"doubleValue\": 0.5}, \"mean_label\": {\"doubleValue\": 0.2222222222222222}, \"mean_prediction\": {\"doubleValue\": 0.34318080399786705}, \"calibration\": {\"doubleValue\": 1.5443136179904018}}}}}, {\"slice\": \"native-country:Canada\", \"metrics\": {\"\": {\"\": {\"binary_accuracy\": {\"doubleValue\": 0.688524603843689}, \"loss\": {\"doubleValue\": 2.4991369247436523}, \"binary_crossentropy\": {\"doubleValue\": 2.4991369247436523}, \"example_count\": {\"doubleValue\": 61.0}, \"auc\": {\"doubleValue\": 0.7134010195732117}, \"auc_precision_recall\": {\"doubleValue\": 0.5993927717208862}, \"precision\": {\"doubleValue\": 0.6666666865348816}, \"recall\": {\"doubleValue\": 0.4166666567325592}, \"mean_label\": {\"doubleValue\": 0.39344262295081966}, \"mean_prediction\": {\"doubleValue\": 0.26796173256190015}, \"calibration\": {\"doubleValue\": 0.6810694035948295}}}}}]');\n",
              "          </script>\n",
              "          "
            ],
            "text/plain": [
              "<IPython.core.display.HTML object>"
            ]
          },
          "metadata": {}
        }
      ]
    },
    {
      "cell_type": "markdown",
      "metadata": {
        "id": "PsXM0NYGeajg"
      },
      "source": [
        "TFMA also supports creating feature crosses to analyze combinations of features. Our original settings created a cross between `sex` and `race` and you can pass it in as a [SlicingSpec](https://www.tensorflow.org/tfx/model_analysis/api_docs/python/tfma/SlicingSpec) as shown below."
      ]
    },
    {
      "cell_type": "code",
      "metadata": {
        "id": "k7vbFS1Me1SH",
        "colab": {
          "base_uri": "https://localhost:8080/",
          "height": 17
        },
        "outputId": "6da59ab5-703b-462b-e614-ae8338469041"
      },
      "source": [
        "# Render metrics for feature crosses\n",
        "tfma.view.render_slicing_metrics(\n",
        "    eval_result,\n",
        "    slicing_spec=tfma.SlicingSpec(\n",
        "        feature_keys=['sex', 'race']))"
      ],
      "execution_count": 22,
      "outputs": [
        {
          "output_type": "display_data",
          "data": {
            "text/html": [
              "\n",
              "          <script src=\"/nbextensions/tensorflow_model_analysis/vulcanized_tfma.js\">\n",
              "          </script>\n",
              "          <tfma-nb-slicing-metrics id=\"component\"></tfma-nb-slicing-metrics>\n",
              "          <script>\n",
              "          const element = document.getElementById('component');\n",
              "\n",
              "          /** No event handlers needed. */\n",
              "\n",
              "          element.config = JSON.parse('{\"weightedExamplesColumn\": \"example_count\"}');\n",
              "          element.data = JSON.parse('[{\"slice\": \"race_X_sex:Black_X_Male\", \"metrics\": {\"\": {\"\": {\"binary_accuracy\": {\"doubleValue\": 0.8378713130950928}, \"loss\": {\"doubleValue\": 0.8666940331459045}, \"binary_crossentropy\": {\"doubleValue\": 0.8666940331459045}, \"example_count\": {\"doubleValue\": 808.0}, \"auc\": {\"doubleValue\": 0.8059546947479248}, \"auc_precision_recall\": {\"doubleValue\": 0.45214372873306274}, \"precision\": {\"doubleValue\": 0.523809552192688}, \"recall\": {\"doubleValue\": 0.48175182938575745}, \"mean_label\": {\"doubleValue\": 0.16955445544554457}, \"mean_prediction\": {\"doubleValue\": 0.17770185567435332}, \"calibration\": {\"doubleValue\": 1.0480518203275728}}}}}, {\"slice\": \"race_X_sex:White_X_Male\", \"metrics\": {\"\": {\"\": {\"binary_accuracy\": {\"doubleValue\": 0.7843321561813354}, \"loss\": {\"doubleValue\": 0.625346839427948}, \"binary_crossentropy\": {\"doubleValue\": 0.625346839427948}, \"example_count\": {\"doubleValue\": 9561.0}, \"auc\": {\"doubleValue\": 0.8377106785774231}, \"auc_precision_recall\": {\"doubleValue\": 0.6901029348373413}, \"precision\": {\"doubleValue\": 0.6589012742042542}, \"recall\": {\"doubleValue\": 0.6367607712745667}, \"mean_label\": {\"doubleValue\": 0.31126451208032635}, \"mean_prediction\": {\"doubleValue\": 0.32885246093296583}, \"calibration\": {\"doubleValue\": 1.0565048316465344}}}}}, {\"slice\": \"race_X_sex:White_X_Female\", \"metrics\": {\"\": {\"\": {\"binary_accuracy\": {\"doubleValue\": 0.9049030542373657}, \"loss\": {\"doubleValue\": 0.3994213044643402}, \"binary_crossentropy\": {\"doubleValue\": 0.3994213044643402}, \"example_count\": {\"doubleValue\": 4385.0}, \"auc\": {\"doubleValue\": 0.8713716864585876}, \"auc_precision_recall\": {\"doubleValue\": 0.5484999418258667}, \"precision\": {\"doubleValue\": 0.611494243144989}, \"recall\": {\"doubleValue\": 0.5175096988677979}, \"mean_label\": {\"doubleValue\": 0.11721778791334093}, \"mean_prediction\": {\"doubleValue\": 0.1126558667086977}, \"calibration\": {\"doubleValue\": 0.9610816644312052}}}}}, {\"slice\": \"race_X_sex:Asian-Pac-Islander_X_Male\", \"metrics\": {\"\": {\"\": {\"binary_accuracy\": {\"doubleValue\": 0.7346278429031372}, \"loss\": {\"doubleValue\": 2.307886838912964}, \"binary_crossentropy\": {\"doubleValue\": 2.307886838912964}, \"example_count\": {\"doubleValue\": 309.0}, \"auc\": {\"doubleValue\": 0.7614045739173889}, \"auc_precision_recall\": {\"doubleValue\": 0.5997283458709717}, \"precision\": {\"doubleValue\": 0.6086956262588501}, \"recall\": {\"doubleValue\": 0.6542056202888489}, \"mean_label\": {\"doubleValue\": 0.34627831715210355}, \"mean_prediction\": {\"doubleValue\": 0.3726198930091515}, \"calibration\": {\"doubleValue\": 1.0760705321479234}}}}}, {\"slice\": \"race_X_sex:Black_X_Female\", \"metrics\": {\"\": {\"\": {\"binary_accuracy\": {\"doubleValue\": 0.9495351910591125}, \"loss\": {\"doubleValue\": 0.4278567433357239}, \"binary_crossentropy\": {\"doubleValue\": 0.4278567433357239}, \"example_count\": {\"doubleValue\": 753.0}, \"auc\": {\"doubleValue\": 0.8102772831916809}, \"auc_precision_recall\": {\"doubleValue\": 0.4423730671405792}, \"precision\": {\"doubleValue\": 0.5714285969734192}, \"recall\": {\"doubleValue\": 0.380952388048172}, \"mean_label\": {\"doubleValue\": 0.055776892430278883}, \"mean_prediction\": {\"doubleValue\": 0.04164686310437293}, \"calibration\": {\"doubleValue\": 0.7466687599426861}}}}}, {\"slice\": \"race_X_sex:Other_X_Male\", \"metrics\": {\"\": {\"\": {\"binary_accuracy\": {\"doubleValue\": 0.8314606547355652}, \"loss\": {\"doubleValue\": 1.866335391998291}, \"binary_crossentropy\": {\"doubleValue\": 1.866335391998291}, \"example_count\": {\"doubleValue\": 89.0}, \"auc\": {\"doubleValue\": 0.7427536249160767}, \"auc_precision_recall\": {\"doubleValue\": 0.5152966380119324}, \"precision\": {\"doubleValue\": 0.7272727489471436}, \"recall\": {\"doubleValue\": 0.4000000059604645}, \"mean_label\": {\"doubleValue\": 0.2247191011235955}, \"mean_prediction\": {\"doubleValue\": 0.11866472902673582}, \"calibration\": {\"doubleValue\": 0.5280580441689744}}}}}, {\"slice\": \"race_X_sex:Amer-Indian-Eskimo_X_Male\", \"metrics\": {\"\": {\"\": {\"binary_accuracy\": {\"doubleValue\": 0.7634408473968506}, \"loss\": {\"doubleValue\": 1.5116475820541382}, \"binary_crossentropy\": {\"doubleValue\": 1.5116475820541382}, \"example_count\": {\"doubleValue\": 93.0}, \"auc\": {\"doubleValue\": 0.7179383635520935}, \"auc_precision_recall\": {\"doubleValue\": 0.262988805770874}, \"precision\": {\"doubleValue\": 0.2857142984867096}, \"recall\": {\"doubleValue\": 0.25}, \"mean_label\": {\"doubleValue\": 0.17204301075268819}, \"mean_prediction\": {\"doubleValue\": 0.14850198421830563}, \"calibration\": {\"doubleValue\": 0.8631677832689015}}}}}, {\"slice\": \"race_X_sex:Asian-Pac-Islander_X_Female\", \"metrics\": {\"\": {\"\": {\"binary_accuracy\": {\"doubleValue\": 0.871345043182373}, \"loss\": {\"doubleValue\": 1.4697034358978271}, \"binary_crossentropy\": {\"doubleValue\": 1.4697034358978271}, \"example_count\": {\"doubleValue\": 171.0}, \"auc\": {\"doubleValue\": 0.7645888924598694}, \"auc_precision_recall\": {\"doubleValue\": 0.44910499453544617}, \"precision\": {\"doubleValue\": 0.5714285969734192}, \"recall\": {\"doubleValue\": 0.6153846383094788}, \"mean_label\": {\"doubleValue\": 0.15204678362573099}, \"mean_prediction\": {\"doubleValue\": 0.16763404495926973}, \"calibration\": {\"doubleValue\": 1.1025162187705817}}}}}, {\"slice\": \"race_X_sex:Amer-Indian-Eskimo_X_Female\", \"metrics\": {\"\": {\"\": {\"binary_accuracy\": {\"doubleValue\": 0.939393937587738}, \"loss\": {\"doubleValue\": 0.12813153862953186}, \"binary_crossentropy\": {\"doubleValue\": 0.12813153862953186}, \"example_count\": {\"doubleValue\": 66.0}, \"auc\": {\"doubleValue\": 0.9788359999656677}, \"auc_precision_recall\": {\"doubleValue\": 0.7944658398628235}, \"precision\": {\"doubleValue\": 0.4000000059604645}, \"recall\": {\"doubleValue\": 0.6666666865348816}, \"mean_label\": {\"doubleValue\": 0.045454545454545456}, \"mean_prediction\": {\"doubleValue\": 0.07146228576169217}, \"calibration\": {\"doubleValue\": 1.5721702867572276}}}}}, {\"slice\": \"race_X_sex:Other_X_Female\", \"metrics\": {\"\": {\"\": {\"binary_accuracy\": {\"doubleValue\": 0.9130434989929199}, \"loss\": {\"doubleValue\": 0.8434736132621765}, \"binary_crossentropy\": {\"doubleValue\": 0.8434736132621765}, \"example_count\": {\"doubleValue\": 46.0}, \"auc\": {\"doubleValue\": 0.785365879535675}, \"auc_precision_recall\": {\"doubleValue\": 0.5457689762115479}, \"precision\": {\"doubleValue\": 0.6666666865348816}, \"recall\": {\"doubleValue\": 0.4000000059604645}, \"mean_label\": {\"doubleValue\": 0.10869565217391304}, \"mean_prediction\": {\"doubleValue\": 0.07467856037134137}, \"calibration\": {\"doubleValue\": 0.6870427554163406}}}}}]');\n",
              "          </script>\n",
              "          "
            ],
            "text/plain": [
              "<IPython.core.display.HTML object>"
            ]
          },
          "metadata": {}
        }
      ]
    },
    {
      "cell_type": "markdown",
      "metadata": {
        "id": "GmeODqrUfJw2"
      },
      "source": [
        "In some cases, crossing the two columns creates a lot of combinations. You can narrow down the results to only look at specific values by specifying it in the `slicing_spec` argument. Below shows the results for the `sex` feature for the `Other` race."
      ]
    },
    {
      "cell_type": "code",
      "metadata": {
        "id": "kdvBNfcHfRWg",
        "colab": {
          "base_uri": "https://localhost:8080/",
          "height": 17
        },
        "outputId": "972f4cc7-475f-489a-c954-1b69e53e9fc8"
      },
      "source": [
        "# Narrow down the feature crosses by specifying feature values\n",
        "tfma.view.render_slicing_metrics(\n",
        "    eval_result,\n",
        "    slicing_spec=tfma.SlicingSpec(\n",
        "        feature_keys=['sex'], feature_values={'race': 'Other'}))"
      ],
      "execution_count": 23,
      "outputs": [
        {
          "output_type": "display_data",
          "data": {
            "text/html": [
              "\n",
              "          <script src=\"/nbextensions/tensorflow_model_analysis/vulcanized_tfma.js\">\n",
              "          </script>\n",
              "          <tfma-nb-slicing-metrics id=\"component\"></tfma-nb-slicing-metrics>\n",
              "          <script>\n",
              "          const element = document.getElementById('component');\n",
              "\n",
              "          /** No event handlers needed. */\n",
              "\n",
              "          element.config = JSON.parse('{\"weightedExamplesColumn\": \"example_count\"}');\n",
              "          element.data = JSON.parse('[{\"slice\": \"race_X_sex:Other_X_Male\", \"metrics\": {\"\": {\"\": {\"binary_accuracy\": {\"doubleValue\": 0.8314606547355652}, \"loss\": {\"doubleValue\": 1.866335391998291}, \"binary_crossentropy\": {\"doubleValue\": 1.866335391998291}, \"example_count\": {\"doubleValue\": 89.0}, \"auc\": {\"doubleValue\": 0.7427536249160767}, \"auc_precision_recall\": {\"doubleValue\": 0.5152966380119324}, \"precision\": {\"doubleValue\": 0.7272727489471436}, \"recall\": {\"doubleValue\": 0.4000000059604645}, \"mean_label\": {\"doubleValue\": 0.2247191011235955}, \"mean_prediction\": {\"doubleValue\": 0.11866472902673582}, \"calibration\": {\"doubleValue\": 0.5280580441689744}}}}}, {\"slice\": \"race_X_sex:Other_X_Female\", \"metrics\": {\"\": {\"\": {\"binary_accuracy\": {\"doubleValue\": 0.9130434989929199}, \"loss\": {\"doubleValue\": 0.8434736132621765}, \"binary_crossentropy\": {\"doubleValue\": 0.8434736132621765}, \"example_count\": {\"doubleValue\": 46.0}, \"auc\": {\"doubleValue\": 0.785365879535675}, \"auc_precision_recall\": {\"doubleValue\": 0.5457689762115479}, \"precision\": {\"doubleValue\": 0.6666666865348816}, \"recall\": {\"doubleValue\": 0.4000000059604645}, \"mean_label\": {\"doubleValue\": 0.10869565217391304}, \"mean_prediction\": {\"doubleValue\": 0.07467856037134137}, \"calibration\": {\"doubleValue\": 0.6870427554163406}}}}}]');\n",
              "          </script>\n",
              "          "
            ],
            "text/plain": [
              "<IPython.core.display.HTML object>"
            ]
          },
          "metadata": {}
        }
      ]
    },
    {
      "cell_type": "markdown",
      "metadata": {
        "id": "f8acksU33KMm"
      },
      "source": [
        "### Rendering Plots\n",
        "\n",
        "Any plots that were added to the `tfma.EvalConfig` as post training `metric_specs` can be displayed using [`tfma.view.render_plot`](https://www.tensorflow.org/tfx/model_analysis/api_docs/python/tfma/view/render_plot).\n",
        "\n",
        "As with metrics, plots can be viewed by slice. Unlike metrics, only plots for a particular slice value can be displayed so the `tfma.SlicingSpec` must be used and it must specify both a slice feature name and value. If no slice is provided then the plots for the `Overall` slice is used.\n",
        "\n",
        "The example below displays the plots that were computed for the `sex:Male` slice. You can click on the names at the bottom of the graph to see a different plot type. Alternatively, you can tick the `Show all plots` checkbox to show all the plots in one screen."
      ]
    },
    {
      "cell_type": "code",
      "metadata": {
        "id": "X4TCKjGw3S-a",
        "colab": {
          "base_uri": "https://localhost:8080/",
          "height": 17
        },
        "outputId": "87dc6162-87c0-4c5d-bf52-a69d282195f4"
      },
      "source": [
        "# Render plots\n",
        "tfma.view.render_plot(\n",
        "    eval_result,\n",
        "    tfma.SlicingSpec(feature_values={'sex': 'Male'}))"
      ],
      "execution_count": 24,
      "outputs": [
        {
          "output_type": "display_data",
          "data": {
            "text/html": [
              "\n",
              "          <script src=\"/nbextensions/tensorflow_model_analysis/vulcanized_tfma.js\">\n",
              "          </script>\n",
              "          <tfma-nb-plot id=\"component\"></tfma-nb-plot>\n",
              "          <script>\n",
              "          const element = document.getElementById('component');\n",
              "\n",
              "          /** No event handlers needed. */\n",
              "\n",
              "          element.config = JSON.parse('{\"sliceName\": \"sex:Male\", \"metricKeys\": {\"calibrationPlot\": {\"metricName\": \"calibrationHistogramBuckets\", \"dataSeries\": \"buckets\"}, \"confusionMatrixPlot\": {\"metricName\": \"confusionMatrixAtThresholds\", \"dataSeries\": \"matrices\"}, \"multiClassConfusionMatrixPlot\": {\"metricName\": \"multiClassConfusionMatrixAtThresholds\", \"dataSeries\": \"matrices\"}, \"multiLabelConfusionMatrixPlot\": {\"metricName\": \"multiLabelConfusionMatrixAtThresholds\", \"dataSeries\": \"matrices\"}}}');\n",
              "          element.data = JSON.parse('{\"calibrationHistogramBuckets\": {\"buckets\": [{\"lowerThresholdInclusive\": \"-Infinity\", \"numWeightedExamples\": 0.0, \"totalWeightedLabel\": 0.0, \"totalWeightedRefinedPrediction\": 0.0}, {\"upperThresholdExclusive\": 0.001, \"numWeightedExamples\": 3120.0, \"totalWeightedLabel\": 165.0, \"totalWeightedRefinedPrediction\": 0.2631962417099269}, {\"lowerThresholdInclusive\": 0.001, \"upperThresholdExclusive\": 0.002, \"numWeightedExamples\": 174.0, \"totalWeightedLabel\": 13.0, \"totalWeightedRefinedPrediction\": 0.2519793212413788}, {\"lowerThresholdInclusive\": 0.002, \"upperThresholdExclusive\": 0.003, \"numWeightedExamples\": 87.0, \"totalWeightedLabel\": 10.0, \"totalWeightedRefinedPrediction\": 0.2152993381023407}, {\"lowerThresholdInclusive\": 0.003, \"upperThresholdExclusive\": 0.004, \"numWeightedExamples\": 66.0, \"totalWeightedLabel\": 8.0, \"totalWeightedRefinedPrediction\": 0.22960299253463745}, {\"lowerThresholdInclusive\": 0.004, \"upperThresholdExclusive\": 0.005, \"numWeightedExamples\": 60.0, \"totalWeightedLabel\": 5.0, \"totalWeightedRefinedPrediction\": 0.2670198082923889}, {\"lowerThresholdInclusive\": 0.005, \"upperThresholdExclusive\": 0.006, \"numWeightedExamples\": 67.0, \"totalWeightedLabel\": 10.0, \"totalWeightedRefinedPrediction\": 0.370216429233551}, {\"lowerThresholdInclusive\": 0.006, \"upperThresholdExclusive\": 0.007, \"numWeightedExamples\": 36.0, \"totalWeightedLabel\": 3.0, \"totalWeightedRefinedPrediction\": 0.2359381914138794}, {\"lowerThresholdInclusive\": 0.007, \"upperThresholdExclusive\": 0.008, \"numWeightedExamples\": 33.0, \"totalWeightedLabel\": 4.0, \"totalWeightedRefinedPrediction\": 0.24641668796539307}, {\"lowerThresholdInclusive\": 0.008, \"upperThresholdExclusive\": 0.009, \"numWeightedExamples\": 32.0, \"totalWeightedLabel\": 2.0, \"totalWeightedRefinedPrediction\": 0.2721768617630005}, {\"lowerThresholdInclusive\": 0.009, \"upperThresholdExclusive\": 0.01, \"numWeightedExamples\": 30.0, \"totalWeightedLabel\": 0.0, \"totalWeightedRefinedPrediction\": 0.28653237223625183}, {\"lowerThresholdInclusive\": 0.01, \"upperThresholdExclusive\": 0.011, \"numWeightedExamples\": 32.0, \"totalWeightedLabel\": 1.0, \"totalWeightedRefinedPrediction\": 0.33476099371910095}, {\"lowerThresholdInclusive\": 0.011, \"upperThresholdExclusive\": 0.012, \"numWeightedExamples\": 27.0, \"totalWeightedLabel\": 4.0, \"totalWeightedRefinedPrediction\": 0.31148749589920044}, {\"lowerThresholdInclusive\": 0.012, \"upperThresholdExclusive\": 0.013, \"numWeightedExamples\": 27.0, \"totalWeightedLabel\": 5.0, \"totalWeightedRefinedPrediction\": 0.3356233239173889}, {\"lowerThresholdInclusive\": 0.013, \"upperThresholdExclusive\": 0.014, \"numWeightedExamples\": 19.0, \"totalWeightedLabel\": 3.0, \"totalWeightedRefinedPrediction\": 0.25723010301589966}, {\"lowerThresholdInclusive\": 0.014, \"upperThresholdExclusive\": 0.015, \"numWeightedExamples\": 24.0, \"totalWeightedLabel\": 0.0, \"totalWeightedRefinedPrediction\": 0.3497212827205658}, {\"lowerThresholdInclusive\": 0.015, \"upperThresholdExclusive\": 0.016, \"numWeightedExamples\": 20.0, \"totalWeightedLabel\": 2.0, \"totalWeightedRefinedPrediction\": 0.3146061301231384}, {\"lowerThresholdInclusive\": 0.016, \"upperThresholdExclusive\": 0.017, \"numWeightedExamples\": 20.0, \"totalWeightedLabel\": 3.0, \"totalWeightedRefinedPrediction\": 0.3295413553714752}, {\"lowerThresholdInclusive\": 0.017, \"upperThresholdExclusive\": 0.018, \"numWeightedExamples\": 23.0, \"totalWeightedLabel\": 3.0, \"totalWeightedRefinedPrediction\": 0.4030919671058655}, {\"lowerThresholdInclusive\": 0.018, \"upperThresholdExclusive\": 0.019, \"numWeightedExamples\": 30.0, \"totalWeightedLabel\": 3.0, \"totalWeightedRefinedPrediction\": 0.5540781021118164}, {\"lowerThresholdInclusive\": 0.019, \"upperThresholdExclusive\": 0.02, \"numWeightedExamples\": 15.0, \"totalWeightedLabel\": 2.0, \"totalWeightedRefinedPrediction\": 0.29333776235580444}, {\"lowerThresholdInclusive\": 0.02, \"upperThresholdExclusive\": 0.021, \"numWeightedExamples\": 16.0, \"totalWeightedLabel\": 4.0, \"totalWeightedRefinedPrediction\": 0.3279634714126587}, {\"lowerThresholdInclusive\": 0.021, \"upperThresholdExclusive\": 0.022, \"numWeightedExamples\": 12.0, \"totalWeightedLabel\": 2.0, \"totalWeightedRefinedPrediction\": 0.25678470730781555}, {\"lowerThresholdInclusive\": 0.022, \"upperThresholdExclusive\": 0.023, \"numWeightedExamples\": 24.0, \"totalWeightedLabel\": 0.0, \"totalWeightedRefinedPrediction\": 0.5410502851009369}, {\"lowerThresholdInclusive\": 0.023, \"upperThresholdExclusive\": 0.024, \"numWeightedExamples\": 13.0, \"totalWeightedLabel\": 5.0, \"totalWeightedRefinedPrediction\": 0.305677592754364}, {\"lowerThresholdInclusive\": 0.024, \"upperThresholdExclusive\": 0.025, \"numWeightedExamples\": 20.0, \"totalWeightedLabel\": 4.0, \"totalWeightedRefinedPrediction\": 0.4932650625705719}, {\"lowerThresholdInclusive\": 0.025, \"upperThresholdExclusive\": 0.026, \"numWeightedExamples\": 21.0, \"totalWeightedLabel\": 2.0, \"totalWeightedRefinedPrediction\": 0.5373281240463257}, {\"lowerThresholdInclusive\": 0.026, \"upperThresholdExclusive\": 0.027, \"numWeightedExamples\": 15.0, \"totalWeightedLabel\": 1.0, \"totalWeightedRefinedPrediction\": 0.39882397651672363}, {\"lowerThresholdInclusive\": 0.027, \"upperThresholdExclusive\": 0.028, \"numWeightedExamples\": 12.0, \"totalWeightedLabel\": 1.0, \"totalWeightedRefinedPrediction\": 0.32953572273254395}, {\"lowerThresholdInclusive\": 0.028, \"upperThresholdExclusive\": 0.029, \"numWeightedExamples\": 13.0, \"totalWeightedLabel\": 2.0, \"totalWeightedRefinedPrediction\": 0.3695892095565796}, {\"lowerThresholdInclusive\": 0.029, \"upperThresholdExclusive\": 0.03, \"numWeightedExamples\": 13.0, \"totalWeightedLabel\": 1.0, \"totalWeightedRefinedPrediction\": 0.385037362575531}, {\"lowerThresholdInclusive\": 0.03, \"upperThresholdExclusive\": 0.031, \"numWeightedExamples\": 14.0, \"totalWeightedLabel\": 2.0, \"totalWeightedRefinedPrediction\": 0.42699605226516724}, {\"lowerThresholdInclusive\": 0.031, \"upperThresholdExclusive\": 0.032, \"numWeightedExamples\": 13.0, \"totalWeightedLabel\": 3.0, \"totalWeightedRefinedPrediction\": 0.4109417498111725}, {\"lowerThresholdInclusive\": 0.032, \"upperThresholdExclusive\": 0.033, \"numWeightedExamples\": 14.0, \"totalWeightedLabel\": 0.0, \"totalWeightedRefinedPrediction\": 0.454549640417099}, {\"lowerThresholdInclusive\": 0.033, \"upperThresholdExclusive\": 0.034, \"numWeightedExamples\": 13.0, \"totalWeightedLabel\": 1.0, \"totalWeightedRefinedPrediction\": 0.4338337182998657}, {\"lowerThresholdInclusive\": 0.034, \"upperThresholdExclusive\": 0.035, \"numWeightedExamples\": 12.0, \"totalWeightedLabel\": 1.0, \"totalWeightedRefinedPrediction\": 0.4134993255138397}, {\"lowerThresholdInclusive\": 0.035, \"upperThresholdExclusive\": 0.036, \"numWeightedExamples\": 14.0, \"totalWeightedLabel\": 3.0, \"totalWeightedRefinedPrediction\": 0.4977206289768219}, {\"lowerThresholdInclusive\": 0.036, \"upperThresholdExclusive\": 0.037, \"numWeightedExamples\": 19.0, \"totalWeightedLabel\": 2.0, \"totalWeightedRefinedPrediction\": 0.6944648027420044}, {\"lowerThresholdInclusive\": 0.037, \"upperThresholdExclusive\": 0.038, \"numWeightedExamples\": 11.0, \"totalWeightedLabel\": 1.0, \"totalWeightedRefinedPrediction\": 0.41250136494636536}, {\"lowerThresholdInclusive\": 0.038, \"upperThresholdExclusive\": 0.039, \"numWeightedExamples\": 25.0, \"totalWeightedLabel\": 2.0, \"totalWeightedRefinedPrediction\": 0.962006002664566}, {\"lowerThresholdInclusive\": 0.039, \"upperThresholdExclusive\": 0.04, \"numWeightedExamples\": 15.0, \"totalWeightedLabel\": 2.0, \"totalWeightedRefinedPrediction\": 0.593320369720459}, {\"lowerThresholdInclusive\": 0.04, \"upperThresholdExclusive\": 0.041, \"numWeightedExamples\": 11.0, \"totalWeightedLabel\": 0.0, \"totalWeightedRefinedPrediction\": 0.44633185863494873}, {\"lowerThresholdInclusive\": 0.041, \"upperThresholdExclusive\": 0.042, \"numWeightedExamples\": 17.0, \"totalWeightedLabel\": 3.0, \"totalWeightedRefinedPrediction\": 0.7061525285243988}, {\"lowerThresholdInclusive\": 0.042, \"upperThresholdExclusive\": 0.043, \"numWeightedExamples\": 11.0, \"totalWeightedLabel\": 0.0, \"totalWeightedRefinedPrediction\": 0.46728047728538513}, {\"lowerThresholdInclusive\": 0.043, \"upperThresholdExclusive\": 0.044, \"numWeightedExamples\": 14.0, \"totalWeightedLabel\": 2.0, \"totalWeightedRefinedPrediction\": 0.608426034450531}, {\"lowerThresholdInclusive\": 0.044, \"upperThresholdExclusive\": 0.045, \"numWeightedExamples\": 14.0, \"totalWeightedLabel\": 0.0, \"totalWeightedRefinedPrediction\": 0.6221045553684235}, {\"lowerThresholdInclusive\": 0.045, \"upperThresholdExclusive\": 0.046, \"numWeightedExamples\": 16.0, \"totalWeightedLabel\": 5.0, \"totalWeightedRefinedPrediction\": 0.7289531528949738}, {\"lowerThresholdInclusive\": 0.046, \"upperThresholdExclusive\": 0.047, \"numWeightedExamples\": 12.0, \"totalWeightedLabel\": 1.0, \"totalWeightedRefinedPrediction\": 0.5575390160083771}, {\"lowerThresholdInclusive\": 0.047, \"upperThresholdExclusive\": 0.048, \"numWeightedExamples\": 7.0, \"totalWeightedLabel\": 0.0, \"totalWeightedRefinedPrediction\": 0.33296412229537964}, {\"lowerThresholdInclusive\": 0.048, \"upperThresholdExclusive\": 0.049, \"numWeightedExamples\": 6.0, \"totalWeightedLabel\": 2.0, \"totalWeightedRefinedPrediction\": 0.2894580364227295}, {\"lowerThresholdInclusive\": 0.049, \"upperThresholdExclusive\": 0.05, \"numWeightedExamples\": 13.0, \"totalWeightedLabel\": 1.0, \"totalWeightedRefinedPrediction\": 0.6447473764419556}, {\"lowerThresholdInclusive\": 0.05, \"upperThresholdExclusive\": 0.051, \"numWeightedExamples\": 10.0, \"totalWeightedLabel\": 1.0, \"totalWeightedRefinedPrediction\": 0.5057160556316376}, {\"lowerThresholdInclusive\": 0.051, \"upperThresholdExclusive\": 0.052, \"numWeightedExamples\": 9.0, \"totalWeightedLabel\": 0.0, \"totalWeightedRefinedPrediction\": 0.46323347091674805}, {\"lowerThresholdInclusive\": 0.052, \"upperThresholdExclusive\": 0.053, \"numWeightedExamples\": 9.0, \"totalWeightedLabel\": 2.0, \"totalWeightedRefinedPrediction\": 0.47266507148742676}, {\"lowerThresholdInclusive\": 0.053, \"upperThresholdExclusive\": 0.054, \"numWeightedExamples\": 12.0, \"totalWeightedLabel\": 1.0, \"totalWeightedRefinedPrediction\": 0.6432617604732513}, {\"lowerThresholdInclusive\": 0.054, \"upperThresholdExclusive\": 0.055, \"numWeightedExamples\": 10.0, \"totalWeightedLabel\": 2.0, \"totalWeightedRefinedPrediction\": 0.5448382496833801}, {\"lowerThresholdInclusive\": 0.055, \"upperThresholdExclusive\": 0.056, \"numWeightedExamples\": 12.0, \"totalWeightedLabel\": 2.0, \"totalWeightedRefinedPrediction\": 0.6668305993080139}, {\"lowerThresholdInclusive\": 0.056, \"upperThresholdExclusive\": 0.057, \"numWeightedExamples\": 10.0, \"totalWeightedLabel\": 0.0, \"totalWeightedRefinedPrediction\": 0.5646235346794128}, {\"lowerThresholdInclusive\": 0.057, \"upperThresholdExclusive\": 0.058, \"numWeightedExamples\": 13.0, \"totalWeightedLabel\": 1.0, \"totalWeightedRefinedPrediction\": 0.7484482228755951}, {\"lowerThresholdInclusive\": 0.058, \"upperThresholdExclusive\": 0.059, \"numWeightedExamples\": 9.0, \"totalWeightedLabel\": 2.0, \"totalWeightedRefinedPrediction\": 0.5280306041240692}, {\"lowerThresholdInclusive\": 0.059, \"upperThresholdExclusive\": 0.06, \"numWeightedExamples\": 7.0, \"totalWeightedLabel\": 1.0, \"totalWeightedRefinedPrediction\": 0.416570246219635}, {\"lowerThresholdInclusive\": 0.06, \"upperThresholdExclusive\": 0.061, \"numWeightedExamples\": 5.0, \"totalWeightedLabel\": 0.0, \"totalWeightedRefinedPrediction\": 0.30192095041275024}, {\"lowerThresholdInclusive\": 0.061, \"upperThresholdExclusive\": 0.062, \"numWeightedExamples\": 10.0, \"totalWeightedLabel\": 0.0, \"totalWeightedRefinedPrediction\": 0.6161008477210999}, {\"lowerThresholdInclusive\": 0.062, \"upperThresholdExclusive\": 0.063, \"numWeightedExamples\": 11.0, \"totalWeightedLabel\": 1.0, \"totalWeightedRefinedPrediction\": 0.6871342360973358}, {\"lowerThresholdInclusive\": 0.063, \"upperThresholdExclusive\": 0.064, \"numWeightedExamples\": 7.0, \"totalWeightedLabel\": 2.0, \"totalWeightedRefinedPrediction\": 0.44535788893699646}, {\"lowerThresholdInclusive\": 0.064, \"upperThresholdExclusive\": 0.065, \"numWeightedExamples\": 13.0, \"totalWeightedLabel\": 1.0, \"totalWeightedRefinedPrediction\": 0.8396064341068268}, {\"lowerThresholdInclusive\": 0.065, \"upperThresholdExclusive\": 0.066, \"numWeightedExamples\": 9.0, \"totalWeightedLabel\": 1.0, \"totalWeightedRefinedPrediction\": 0.5880898535251617}, {\"lowerThresholdInclusive\": 0.066, \"upperThresholdExclusive\": 0.067, \"numWeightedExamples\": 13.0, \"totalWeightedLabel\": 1.0, \"totalWeightedRefinedPrediction\": 0.8638218343257904}, {\"lowerThresholdInclusive\": 0.067, \"upperThresholdExclusive\": 0.068, \"numWeightedExamples\": 13.0, \"totalWeightedLabel\": 1.0, \"totalWeightedRefinedPrediction\": 0.8765455484390259}, {\"lowerThresholdInclusive\": 0.068, \"upperThresholdExclusive\": 0.069, \"numWeightedExamples\": 5.0, \"totalWeightedLabel\": 2.0, \"totalWeightedRefinedPrediction\": 0.3417052626609802}, {\"lowerThresholdInclusive\": 0.069, \"upperThresholdExclusive\": 0.07, \"numWeightedExamples\": 8.0, \"totalWeightedLabel\": 1.0, \"totalWeightedRefinedPrediction\": 0.5562694370746613}, {\"lowerThresholdInclusive\": 0.07, \"upperThresholdExclusive\": 0.071, \"numWeightedExamples\": 2.0, \"totalWeightedLabel\": 0.0, \"totalWeightedRefinedPrediction\": 0.14123982191085815}, {\"lowerThresholdInclusive\": 0.071, \"upperThresholdExclusive\": 0.072, \"numWeightedExamples\": 6.0, \"totalWeightedLabel\": 1.0, \"totalWeightedRefinedPrediction\": 0.4281751215457916}, {\"lowerThresholdInclusive\": 0.072, \"upperThresholdExclusive\": 0.073, \"numWeightedExamples\": 14.0, \"totalWeightedLabel\": 3.0, \"totalWeightedRefinedPrediction\": 1.0156832337379456}, {\"lowerThresholdInclusive\": 0.073, \"upperThresholdExclusive\": 0.074, \"numWeightedExamples\": 6.0, \"totalWeightedLabel\": 0.0, \"totalWeightedRefinedPrediction\": 0.4408456087112427}, {\"lowerThresholdInclusive\": 0.074, \"upperThresholdExclusive\": 0.075, \"numWeightedExamples\": 9.0, \"totalWeightedLabel\": 2.0, \"totalWeightedRefinedPrediction\": 0.6705121397972107}, {\"lowerThresholdInclusive\": 0.075, \"upperThresholdExclusive\": 0.076, \"numWeightedExamples\": 7.0, \"totalWeightedLabel\": 1.0, \"totalWeightedRefinedPrediction\": 0.5296133756637573}, {\"lowerThresholdInclusive\": 0.076, \"upperThresholdExclusive\": 0.077, \"numWeightedExamples\": 5.0, \"totalWeightedLabel\": 0.0, \"totalWeightedRefinedPrediction\": 0.38242414593696594}, {\"lowerThresholdInclusive\": 0.077, \"upperThresholdExclusive\": 0.078, \"numWeightedExamples\": 7.0, \"totalWeightedLabel\": 1.0, \"totalWeightedRefinedPrediction\": 0.5421484410762787}, {\"lowerThresholdInclusive\": 0.078, \"upperThresholdExclusive\": 0.079, \"numWeightedExamples\": 7.0, \"totalWeightedLabel\": 2.0, \"totalWeightedRefinedPrediction\": 0.5500110387802124}, {\"lowerThresholdInclusive\": 0.079, \"upperThresholdExclusive\": 0.08, \"numWeightedExamples\": 5.0, \"totalWeightedLabel\": 0.0, \"totalWeightedRefinedPrediction\": 0.39709988236427307}, {\"lowerThresholdInclusive\": 0.08, \"upperThresholdExclusive\": 0.081, \"numWeightedExamples\": 3.0, \"totalWeightedLabel\": 1.0, \"totalWeightedRefinedPrediction\": 0.24222448468208313}, {\"lowerThresholdInclusive\": 0.081, \"upperThresholdExclusive\": 0.082, \"numWeightedExamples\": 4.0, \"totalWeightedLabel\": 0.0, \"totalWeightedRefinedPrediction\": 0.3254435360431671}, {\"lowerThresholdInclusive\": 0.082, \"upperThresholdExclusive\": 0.083, \"numWeightedExamples\": 8.0, \"totalWeightedLabel\": 0.0, \"totalWeightedRefinedPrediction\": 0.6595443189144135}, {\"lowerThresholdInclusive\": 0.083, \"upperThresholdExclusive\": 0.084, \"numWeightedExamples\": 3.0, \"totalWeightedLabel\": 0.0, \"totalWeightedRefinedPrediction\": 0.25085189938545227}, {\"lowerThresholdInclusive\": 0.084, \"upperThresholdExclusive\": 0.085, \"numWeightedExamples\": 6.0, \"totalWeightedLabel\": 0.0, \"totalWeightedRefinedPrediction\": 0.5060412585735321}, {\"lowerThresholdInclusive\": 0.085, \"upperThresholdExclusive\": 0.086, \"numWeightedExamples\": 8.0, \"totalWeightedLabel\": 1.0, \"totalWeightedRefinedPrediction\": 0.6837402284145355}, {\"lowerThresholdInclusive\": 0.086, \"upperThresholdExclusive\": 0.087, \"numWeightedExamples\": 5.0, \"totalWeightedLabel\": 1.0, \"totalWeightedRefinedPrediction\": 0.43250107765197754}, {\"lowerThresholdInclusive\": 0.087, \"upperThresholdExclusive\": 0.088, \"numWeightedExamples\": 4.0, \"totalWeightedLabel\": 0.0, \"totalWeightedRefinedPrediction\": 0.35053396224975586}, {\"lowerThresholdInclusive\": 0.088, \"upperThresholdExclusive\": 0.089, \"numWeightedExamples\": 6.0, \"totalWeightedLabel\": 4.0, \"totalWeightedRefinedPrediction\": 0.5309641063213348}, {\"lowerThresholdInclusive\": 0.089, \"upperThresholdExclusive\": 0.09, \"numWeightedExamples\": 9.0, \"totalWeightedLabel\": 1.0, \"totalWeightedRefinedPrediction\": 0.8056361675262451}, {\"lowerThresholdInclusive\": 0.09, \"upperThresholdExclusive\": 0.091, \"numWeightedExamples\": 5.0, \"totalWeightedLabel\": 2.0, \"totalWeightedRefinedPrediction\": 0.4531245529651642}, {\"lowerThresholdInclusive\": 0.091, \"upperThresholdExclusive\": 0.092, \"numWeightedExamples\": 6.0, \"totalWeightedLabel\": 0.0, \"totalWeightedRefinedPrediction\": 0.5489950776100159}, {\"lowerThresholdInclusive\": 0.092, \"upperThresholdExclusive\": 0.093, \"numWeightedExamples\": 10.0, \"totalWeightedLabel\": 4.0, \"totalWeightedRefinedPrediction\": 0.925596684217453}, {\"lowerThresholdInclusive\": 0.093, \"upperThresholdExclusive\": 0.094, \"numWeightedExamples\": 6.0, \"totalWeightedLabel\": 0.0, \"totalWeightedRefinedPrediction\": 0.5605465173721313}, {\"lowerThresholdInclusive\": 0.094, \"upperThresholdExclusive\": 0.095, \"numWeightedExamples\": 3.0, \"totalWeightedLabel\": 1.0, \"totalWeightedRefinedPrediction\": 0.28437450528144836}, {\"lowerThresholdInclusive\": 0.095, \"upperThresholdExclusive\": 0.096, \"numWeightedExamples\": 11.0, \"totalWeightedLabel\": 2.0, \"totalWeightedRefinedPrediction\": 1.0496382415294647}, {\"lowerThresholdInclusive\": 0.096, \"upperThresholdExclusive\": 0.097, \"numWeightedExamples\": 6.0, \"totalWeightedLabel\": 2.0, \"totalWeightedRefinedPrediction\": 0.5803903639316559}, {\"lowerThresholdInclusive\": 0.097, \"upperThresholdExclusive\": 0.098, \"numWeightedExamples\": 4.0, \"totalWeightedLabel\": 1.0, \"totalWeightedRefinedPrediction\": 0.39054176211357117}, {\"lowerThresholdInclusive\": 0.098, \"upperThresholdExclusive\": 0.099, \"numWeightedExamples\": 7.0, \"totalWeightedLabel\": 2.0, \"totalWeightedRefinedPrediction\": 0.6890347898006439}, {\"lowerThresholdInclusive\": 0.099, \"upperThresholdExclusive\": 0.1, \"numWeightedExamples\": 2.0, \"totalWeightedLabel\": 1.0, \"totalWeightedRefinedPrediction\": 0.19906920194625854}, {\"lowerThresholdInclusive\": 0.1, \"upperThresholdExclusive\": 0.101, \"numWeightedExamples\": 5.0, \"totalWeightedLabel\": 1.0, \"totalWeightedRefinedPrediction\": 0.5033678412437439}, {\"lowerThresholdInclusive\": 0.101, \"upperThresholdExclusive\": 0.102, \"numWeightedExamples\": 2.0, \"totalWeightedLabel\": 0.0, \"totalWeightedRefinedPrediction\": 0.20346543192863464}, {\"lowerThresholdInclusive\": 0.102, \"upperThresholdExclusive\": 0.103, \"numWeightedExamples\": 8.0, \"totalWeightedLabel\": 4.0, \"totalWeightedRefinedPrediction\": 0.8197575509548187}, {\"lowerThresholdInclusive\": 0.103, \"upperThresholdExclusive\": 0.104, \"numWeightedExamples\": 3.0, \"totalWeightedLabel\": 0.0, \"totalWeightedRefinedPrediction\": 0.31034690141677856}, {\"lowerThresholdInclusive\": 0.104, \"upperThresholdExclusive\": 0.105, \"numWeightedExamples\": 4.0, \"totalWeightedLabel\": 0.0, \"totalWeightedRefinedPrediction\": 0.4175790548324585}, {\"lowerThresholdInclusive\": 0.105, \"upperThresholdExclusive\": 0.106, \"numWeightedExamples\": 9.0, \"totalWeightedLabel\": 0.0, \"totalWeightedRefinedPrediction\": 0.9508190155029297}, {\"lowerThresholdInclusive\": 0.106, \"upperThresholdExclusive\": 0.107, \"numWeightedExamples\": 8.0, \"totalWeightedLabel\": 3.0, \"totalWeightedRefinedPrediction\": 0.8514544069766998}, {\"lowerThresholdInclusive\": 0.107, \"upperThresholdExclusive\": 0.108, \"numWeightedExamples\": 9.0, \"totalWeightedLabel\": 3.0, \"totalWeightedRefinedPrediction\": 0.9689221680164337}, {\"lowerThresholdInclusive\": 0.108, \"upperThresholdExclusive\": 0.109, \"numWeightedExamples\": 9.0, \"totalWeightedLabel\": 5.0, \"totalWeightedRefinedPrediction\": 0.9757081568241119}, {\"lowerThresholdInclusive\": 0.109, \"upperThresholdExclusive\": 0.11, \"numWeightedExamples\": 8.0, \"totalWeightedLabel\": 0.0, \"totalWeightedRefinedPrediction\": 0.875345915555954}, {\"lowerThresholdInclusive\": 0.11, \"upperThresholdExclusive\": 0.111, \"numWeightedExamples\": 8.0, \"totalWeightedLabel\": 3.0, \"totalWeightedRefinedPrediction\": 0.8837023377418518}, {\"lowerThresholdInclusive\": 0.111, \"upperThresholdExclusive\": 0.112, \"numWeightedExamples\": 5.0, \"totalWeightedLabel\": 1.0, \"totalWeightedRefinedPrediction\": 0.5572845339775085}, {\"lowerThresholdInclusive\": 0.112, \"upperThresholdExclusive\": 0.113, \"numWeightedExamples\": 9.0, \"totalWeightedLabel\": 1.0, \"totalWeightedRefinedPrediction\": 1.0124779045581818}, {\"lowerThresholdInclusive\": 0.113, \"upperThresholdExclusive\": 0.114, \"numWeightedExamples\": 12.0, \"totalWeightedLabel\": 1.0, \"totalWeightedRefinedPrediction\": 1.363840013742447}, {\"lowerThresholdInclusive\": 0.114, \"upperThresholdExclusive\": 0.115, \"numWeightedExamples\": 14.0, \"totalWeightedLabel\": 2.0, \"totalWeightedRefinedPrediction\": 1.605027824640274}, {\"lowerThresholdInclusive\": 0.115, \"upperThresholdExclusive\": 0.116, \"numWeightedExamples\": 13.0, \"totalWeightedLabel\": 3.0, \"totalWeightedRefinedPrediction\": 1.5026093423366547}, {\"lowerThresholdInclusive\": 0.116, \"upperThresholdExclusive\": 0.117, \"numWeightedExamples\": 6.0, \"totalWeightedLabel\": 0.0, \"totalWeightedRefinedPrediction\": 0.6984443962574005}, {\"lowerThresholdInclusive\": 0.117, \"upperThresholdExclusive\": 0.118, \"numWeightedExamples\": 5.0, \"totalWeightedLabel\": 4.0, \"totalWeightedRefinedPrediction\": 0.5869000554084778}, {\"lowerThresholdInclusive\": 0.118, \"upperThresholdExclusive\": 0.119, \"numWeightedExamples\": 4.0, \"totalWeightedLabel\": 0.0, \"totalWeightedRefinedPrediction\": 0.4738036096096039}, {\"lowerThresholdInclusive\": 0.119, \"upperThresholdExclusive\": 0.12, \"numWeightedExamples\": 14.0, \"totalWeightedLabel\": 1.0, \"totalWeightedRefinedPrediction\": 1.6729985773563385}, {\"lowerThresholdInclusive\": 0.12, \"upperThresholdExclusive\": 0.121, \"numWeightedExamples\": 6.0, \"totalWeightedLabel\": 0.0, \"totalWeightedRefinedPrediction\": 0.7231734395027161}, {\"lowerThresholdInclusive\": 0.121, \"upperThresholdExclusive\": 0.122, \"numWeightedExamples\": 5.0, \"totalWeightedLabel\": 0.0, \"totalWeightedRefinedPrediction\": 0.6068380177021027}, {\"lowerThresholdInclusive\": 0.122, \"upperThresholdExclusive\": 0.123, \"numWeightedExamples\": 12.0, \"totalWeightedLabel\": 2.0, \"totalWeightedRefinedPrediction\": 1.4717776775360107}, {\"lowerThresholdInclusive\": 0.123, \"upperThresholdExclusive\": 0.124, \"numWeightedExamples\": 7.0, \"totalWeightedLabel\": 0.0, \"totalWeightedRefinedPrediction\": 0.8632120192050934}, {\"lowerThresholdInclusive\": 0.124, \"upperThresholdExclusive\": 0.125, \"numWeightedExamples\": 9.0, \"totalWeightedLabel\": 3.0, \"totalWeightedRefinedPrediction\": 1.1189402043819427}, {\"lowerThresholdInclusive\": 0.125, \"upperThresholdExclusive\": 0.126, \"numWeightedExamples\": 13.0, \"totalWeightedLabel\": 1.0, \"totalWeightedRefinedPrediction\": 1.6320569217205048}, {\"lowerThresholdInclusive\": 0.126, \"upperThresholdExclusive\": 0.127, \"numWeightedExamples\": 10.0, \"totalWeightedLabel\": 3.0, \"totalWeightedRefinedPrediction\": 1.2662177383899689}, {\"lowerThresholdInclusive\": 0.127, \"upperThresholdExclusive\": 0.128, \"numWeightedExamples\": 6.0, \"totalWeightedLabel\": 1.0, \"totalWeightedRefinedPrediction\": 0.7652808129787445}, {\"lowerThresholdInclusive\": 0.128, \"upperThresholdExclusive\": 0.129, \"numWeightedExamples\": 7.0, \"totalWeightedLabel\": 1.0, \"totalWeightedRefinedPrediction\": 0.9009155631065369}, {\"lowerThresholdInclusive\": 0.129, \"upperThresholdExclusive\": 0.13, \"numWeightedExamples\": 10.0, \"totalWeightedLabel\": 2.0, \"totalWeightedRefinedPrediction\": 1.2942066490650177}, {\"lowerThresholdInclusive\": 0.13, \"upperThresholdExclusive\": 0.131, \"numWeightedExamples\": 11.0, \"totalWeightedLabel\": 1.0, \"totalWeightedRefinedPrediction\": 1.4356740415096283}, {\"lowerThresholdInclusive\": 0.131, \"upperThresholdExclusive\": 0.132, \"numWeightedExamples\": 16.0, \"totalWeightedLabel\": 4.0, \"totalWeightedRefinedPrediction\": 2.104481041431427}, {\"lowerThresholdInclusive\": 0.132, \"upperThresholdExclusive\": 0.133, \"numWeightedExamples\": 9.0, \"totalWeightedLabel\": 2.0, \"totalWeightedRefinedPrediction\": 1.191895216703415}, {\"lowerThresholdInclusive\": 0.133, \"upperThresholdExclusive\": 0.134, \"numWeightedExamples\": 3.0, \"totalWeightedLabel\": 1.0, \"totalWeightedRefinedPrediction\": 0.39992356300354004}, {\"lowerThresholdInclusive\": 0.134, \"upperThresholdExclusive\": 0.135, \"numWeightedExamples\": 12.0, \"totalWeightedLabel\": 2.0, \"totalWeightedRefinedPrediction\": 1.61322021484375}, {\"lowerThresholdInclusive\": 0.135, \"upperThresholdExclusive\": 0.136, \"numWeightedExamples\": 9.0, \"totalWeightedLabel\": 1.0, \"totalWeightedRefinedPrediction\": 1.2191253900527954}, {\"lowerThresholdInclusive\": 0.136, \"upperThresholdExclusive\": 0.137, \"numWeightedExamples\": 8.0, \"totalWeightedLabel\": 3.0, \"totalWeightedRefinedPrediction\": 1.0932905972003937}, {\"lowerThresholdInclusive\": 0.137, \"upperThresholdExclusive\": 0.138, \"numWeightedExamples\": 8.0, \"totalWeightedLabel\": 2.0, \"totalWeightedRefinedPrediction\": 1.0994871854782104}, {\"lowerThresholdInclusive\": 0.138, \"upperThresholdExclusive\": 0.139, \"numWeightedExamples\": 14.0, \"totalWeightedLabel\": 6.0, \"totalWeightedRefinedPrediction\": 1.9381494522094727}, {\"lowerThresholdInclusive\": 0.139, \"upperThresholdExclusive\": 0.14, \"numWeightedExamples\": 6.0, \"totalWeightedLabel\": 0.0, \"totalWeightedRefinedPrediction\": 0.8379920423030853}, {\"lowerThresholdInclusive\": 0.14, \"upperThresholdExclusive\": 0.141, \"numWeightedExamples\": 3.0, \"totalWeightedLabel\": 2.0, \"totalWeightedRefinedPrediction\": 0.42168596386909485}, {\"lowerThresholdInclusive\": 0.141, \"upperThresholdExclusive\": 0.142, \"numWeightedExamples\": 11.0, \"totalWeightedLabel\": 1.0, \"totalWeightedRefinedPrediction\": 1.555935114622116}, {\"lowerThresholdInclusive\": 0.142, \"upperThresholdExclusive\": 0.143, \"numWeightedExamples\": 4.0, \"totalWeightedLabel\": 0.0, \"totalWeightedRefinedPrediction\": 0.5700381398200989}, {\"lowerThresholdInclusive\": 0.143, \"upperThresholdExclusive\": 0.144, \"numWeightedExamples\": 10.0, \"totalWeightedLabel\": 3.0, \"totalWeightedRefinedPrediction\": 1.4346535801887512}, {\"lowerThresholdInclusive\": 0.144, \"upperThresholdExclusive\": 0.145, \"numWeightedExamples\": 9.0, \"totalWeightedLabel\": 0.0, \"totalWeightedRefinedPrediction\": 1.2991147935390472}, {\"lowerThresholdInclusive\": 0.145, \"upperThresholdExclusive\": 0.146, \"numWeightedExamples\": 8.0, \"totalWeightedLabel\": 0.0, \"totalWeightedRefinedPrediction\": 1.1648402214050293}, {\"lowerThresholdInclusive\": 0.146, \"upperThresholdExclusive\": 0.147, \"numWeightedExamples\": 4.0, \"totalWeightedLabel\": 1.0, \"totalWeightedRefinedPrediction\": 0.585840106010437}, {\"lowerThresholdInclusive\": 0.147, \"upperThresholdExclusive\": 0.148, \"numWeightedExamples\": 7.0, \"totalWeightedLabel\": 0.0, \"totalWeightedRefinedPrediction\": 1.0335329473018646}, {\"lowerThresholdInclusive\": 0.148, \"upperThresholdExclusive\": 0.149, \"numWeightedExamples\": 7.0, \"totalWeightedLabel\": 2.0, \"totalWeightedRefinedPrediction\": 1.0381051301956177}, {\"lowerThresholdInclusive\": 0.149, \"upperThresholdExclusive\": 0.15, \"numWeightedExamples\": 9.0, \"totalWeightedLabel\": 2.0, \"totalWeightedRefinedPrediction\": 1.345260202884674}, {\"lowerThresholdInclusive\": 0.15, \"upperThresholdExclusive\": 0.151, \"numWeightedExamples\": 8.0, \"totalWeightedLabel\": 0.0, \"totalWeightedRefinedPrediction\": 1.2032737731933594}, {\"lowerThresholdInclusive\": 0.151, \"upperThresholdExclusive\": 0.152, \"numWeightedExamples\": 3.0, \"totalWeightedLabel\": 0.0, \"totalWeightedRefinedPrediction\": 0.45375052094459534}, {\"lowerThresholdInclusive\": 0.152, \"upperThresholdExclusive\": 0.153, \"numWeightedExamples\": 6.0, \"totalWeightedLabel\": 2.0, \"totalWeightedRefinedPrediction\": 0.9145491719245911}, {\"lowerThresholdInclusive\": 0.153, \"upperThresholdExclusive\": 0.154, \"numWeightedExamples\": 9.0, \"totalWeightedLabel\": 3.0, \"totalWeightedRefinedPrediction\": 1.3812145292758942}, {\"lowerThresholdInclusive\": 0.154, \"upperThresholdExclusive\": 0.155, \"numWeightedExamples\": 11.0, \"totalWeightedLabel\": 0.0, \"totalWeightedRefinedPrediction\": 1.6990932822227478}, {\"lowerThresholdInclusive\": 0.155, \"upperThresholdExclusive\": 0.156, \"numWeightedExamples\": 8.0, \"totalWeightedLabel\": 4.0, \"totalWeightedRefinedPrediction\": 1.2440069317817688}, {\"lowerThresholdInclusive\": 0.156, \"upperThresholdExclusive\": 0.157, \"numWeightedExamples\": 8.0, \"totalWeightedLabel\": 1.0, \"totalWeightedRefinedPrediction\": 1.2520426213741302}, {\"lowerThresholdInclusive\": 0.157, \"upperThresholdExclusive\": 0.158, \"numWeightedExamples\": 6.0, \"totalWeightedLabel\": 2.0, \"totalWeightedRefinedPrediction\": 0.9462896585464478}, {\"lowerThresholdInclusive\": 0.158, \"upperThresholdExclusive\": 0.159, \"numWeightedExamples\": 5.0, \"totalWeightedLabel\": 0.0, \"totalWeightedRefinedPrediction\": 0.7925458550453186}, {\"lowerThresholdInclusive\": 0.159, \"upperThresholdExclusive\": 0.16, \"numWeightedExamples\": 4.0, \"totalWeightedLabel\": 2.0, \"totalWeightedRefinedPrediction\": 0.6384643316268921}, {\"lowerThresholdInclusive\": 0.16, \"upperThresholdExclusive\": 0.161, \"numWeightedExamples\": 6.0, \"totalWeightedLabel\": 1.0, \"totalWeightedRefinedPrediction\": 0.9633195102214813}, {\"lowerThresholdInclusive\": 0.161, \"upperThresholdExclusive\": 0.162, \"numWeightedExamples\": 5.0, \"totalWeightedLabel\": 0.0, \"totalWeightedRefinedPrediction\": 0.8079631328582764}, {\"lowerThresholdInclusive\": 0.162, \"upperThresholdExclusive\": 0.163, \"numWeightedExamples\": 10.0, \"totalWeightedLabel\": 1.0, \"totalWeightedRefinedPrediction\": 1.6262305974960327}, {\"lowerThresholdInclusive\": 0.163, \"upperThresholdExclusive\": 0.164, \"numWeightedExamples\": 5.0, \"totalWeightedLabel\": 1.0, \"totalWeightedRefinedPrediction\": 0.8183093667030334}, {\"lowerThresholdInclusive\": 0.164, \"upperThresholdExclusive\": 0.165, \"numWeightedExamples\": 2.0, \"totalWeightedLabel\": 0.0, \"totalWeightedRefinedPrediction\": 0.3288429379463196}, {\"lowerThresholdInclusive\": 0.165, \"upperThresholdExclusive\": 0.166, \"numWeightedExamples\": 5.0, \"totalWeightedLabel\": 0.0, \"totalWeightedRefinedPrediction\": 0.8278073072433472}, {\"lowerThresholdInclusive\": 0.166, \"upperThresholdExclusive\": 0.167, \"numWeightedExamples\": 7.0, \"totalWeightedLabel\": 1.0, \"totalWeightedRefinedPrediction\": 1.1652692258358002}, {\"lowerThresholdInclusive\": 0.167, \"upperThresholdExclusive\": 0.168, \"numWeightedExamples\": 6.0, \"totalWeightedLabel\": 1.0, \"totalWeightedRefinedPrediction\": 1.0042556524276733}, {\"lowerThresholdInclusive\": 0.168, \"upperThresholdExclusive\": 0.169, \"numWeightedExamples\": 6.0, \"totalWeightedLabel\": 0.0, \"totalWeightedRefinedPrediction\": 1.0114961564540863}, {\"lowerThresholdInclusive\": 0.169, \"upperThresholdExclusive\": 0.17, \"numWeightedExamples\": 8.0, \"totalWeightedLabel\": 1.0, \"totalWeightedRefinedPrediction\": 1.3540615141391754}, {\"lowerThresholdInclusive\": 0.17, \"upperThresholdExclusive\": 0.171, \"numWeightedExamples\": 9.0, \"totalWeightedLabel\": 3.0, \"totalWeightedRefinedPrediction\": 1.5334057211875916}, {\"lowerThresholdInclusive\": 0.171, \"upperThresholdExclusive\": 0.172, \"numWeightedExamples\": 13.0, \"totalWeightedLabel\": 3.0, \"totalWeightedRefinedPrediction\": 2.229624032974243}, {\"lowerThresholdInclusive\": 0.172, \"upperThresholdExclusive\": 0.173, \"numWeightedExamples\": 7.0, \"totalWeightedLabel\": 1.0, \"totalWeightedRefinedPrediction\": 1.2072501182556152}, {\"lowerThresholdInclusive\": 0.173, \"upperThresholdExclusive\": 0.174, \"numWeightedExamples\": 6.0, \"totalWeightedLabel\": 1.0, \"totalWeightedRefinedPrediction\": 1.0409896075725555}, {\"lowerThresholdInclusive\": 0.174, \"upperThresholdExclusive\": 0.175, \"numWeightedExamples\": 12.0, \"totalWeightedLabel\": 3.0, \"totalWeightedRefinedPrediction\": 2.0945959389209747}, {\"lowerThresholdInclusive\": 0.175, \"upperThresholdExclusive\": 0.176, \"numWeightedExamples\": 7.0, \"totalWeightedLabel\": 3.0, \"totalWeightedRefinedPrediction\": 1.2281779646873474}, {\"lowerThresholdInclusive\": 0.176, \"upperThresholdExclusive\": 0.177, \"numWeightedExamples\": 7.0, \"totalWeightedLabel\": 3.0, \"totalWeightedRefinedPrediction\": 1.2345592677593231}, {\"lowerThresholdInclusive\": 0.177, \"upperThresholdExclusive\": 0.178, \"numWeightedExamples\": 11.0, \"totalWeightedLabel\": 2.0, \"totalWeightedRefinedPrediction\": 1.9519015848636627}, {\"lowerThresholdInclusive\": 0.178, \"upperThresholdExclusive\": 0.179, \"numWeightedExamples\": 5.0, \"totalWeightedLabel\": 1.0, \"totalWeightedRefinedPrediction\": 0.891543060541153}, {\"lowerThresholdInclusive\": 0.179, \"upperThresholdExclusive\": 0.18, \"numWeightedExamples\": 4.0, \"totalWeightedLabel\": 0.0, \"totalWeightedRefinedPrediction\": 0.7171471416950226}, {\"lowerThresholdInclusive\": 0.18, \"upperThresholdExclusive\": 0.181, \"numWeightedExamples\": 7.0, \"totalWeightedLabel\": 1.0, \"totalWeightedRefinedPrediction\": 1.2625987529754639}, {\"lowerThresholdInclusive\": 0.181, \"upperThresholdExclusive\": 0.182, \"numWeightedExamples\": 10.0, \"totalWeightedLabel\": 2.0, \"totalWeightedRefinedPrediction\": 1.8150577545166016}, {\"lowerThresholdInclusive\": 0.182, \"upperThresholdExclusive\": 0.183, \"numWeightedExamples\": 6.0, \"totalWeightedLabel\": 2.0, \"totalWeightedRefinedPrediction\": 1.0947143733501434}, {\"lowerThresholdInclusive\": 0.183, \"upperThresholdExclusive\": 0.184, \"numWeightedExamples\": 4.0, \"totalWeightedLabel\": 0.0, \"totalWeightedRefinedPrediction\": 0.7332216501235962}, {\"lowerThresholdInclusive\": 0.184, \"upperThresholdExclusive\": 0.185, \"numWeightedExamples\": 3.0, \"totalWeightedLabel\": 0.0, \"totalWeightedRefinedPrediction\": 0.5531947314739227}, {\"lowerThresholdInclusive\": 0.185, \"upperThresholdExclusive\": 0.186, \"numWeightedExamples\": 3.0, \"totalWeightedLabel\": 0.0, \"totalWeightedRefinedPrediction\": 0.5563757419586182}, {\"lowerThresholdInclusive\": 0.186, \"upperThresholdExclusive\": 0.187, \"numWeightedExamples\": 2.0, \"totalWeightedLabel\": 0.0, \"totalWeightedRefinedPrediction\": 0.37212589383125305}, {\"lowerThresholdInclusive\": 0.187, \"upperThresholdExclusive\": 0.188, \"numWeightedExamples\": 7.0, \"totalWeightedLabel\": 1.0, \"totalWeightedRefinedPrediction\": 1.31324964761734}, {\"lowerThresholdInclusive\": 0.188, \"upperThresholdExclusive\": 0.189, \"numWeightedExamples\": 11.0, \"totalWeightedLabel\": 3.0, \"totalWeightedRefinedPrediction\": 2.0732651352882385}, {\"lowerThresholdInclusive\": 0.189, \"upperThresholdExclusive\": 0.19, \"numWeightedExamples\": 5.0, \"totalWeightedLabel\": 0.0, \"totalWeightedRefinedPrediction\": 0.9479468166828156}, {\"lowerThresholdInclusive\": 0.19, \"upperThresholdExclusive\": 0.191, \"numWeightedExamples\": 6.0, \"totalWeightedLabel\": 0.0, \"totalWeightedRefinedPrediction\": 1.1433799266815186}, {\"lowerThresholdInclusive\": 0.191, \"upperThresholdExclusive\": 0.192, \"numWeightedExamples\": 5.0, \"totalWeightedLabel\": 1.0, \"totalWeightedRefinedPrediction\": 0.9577144384384155}, {\"lowerThresholdInclusive\": 0.192, \"upperThresholdExclusive\": 0.193, \"numWeightedExamples\": 7.0, \"totalWeightedLabel\": 3.0, \"totalWeightedRefinedPrediction\": 1.347548007965088}, {\"lowerThresholdInclusive\": 0.193, \"upperThresholdExclusive\": 0.194, \"numWeightedExamples\": 6.0, \"totalWeightedLabel\": 0.0, \"totalWeightedRefinedPrediction\": 1.1599555611610413}, {\"lowerThresholdInclusive\": 0.194, \"upperThresholdExclusive\": 0.195, \"numWeightedExamples\": 7.0, \"totalWeightedLabel\": 1.0, \"totalWeightedRefinedPrediction\": 1.3625867366790771}, {\"lowerThresholdInclusive\": 0.195, \"upperThresholdExclusive\": 0.196, \"numWeightedExamples\": 8.0, \"totalWeightedLabel\": 0.0, \"totalWeightedRefinedPrediction\": 1.5647934675216675}, {\"lowerThresholdInclusive\": 0.196, \"upperThresholdExclusive\": 0.197, \"numWeightedExamples\": 5.0, \"totalWeightedLabel\": 1.0, \"totalWeightedRefinedPrediction\": 0.9825096726417542}, {\"lowerThresholdInclusive\": 0.197, \"upperThresholdExclusive\": 0.198, \"numWeightedExamples\": 3.0, \"totalWeightedLabel\": 0.0, \"totalWeightedRefinedPrediction\": 0.5922557711601257}, {\"lowerThresholdInclusive\": 0.198, \"upperThresholdExclusive\": 0.199, \"numWeightedExamples\": 5.0, \"totalWeightedLabel\": 1.0, \"totalWeightedRefinedPrediction\": 0.993160754442215}, {\"lowerThresholdInclusive\": 0.199, \"upperThresholdExclusive\": 0.2, \"numWeightedExamples\": 2.0, \"totalWeightedLabel\": 1.0, \"totalWeightedRefinedPrediction\": 0.39886119961738586}, {\"lowerThresholdInclusive\": 0.2, \"upperThresholdExclusive\": 0.201, \"numWeightedExamples\": 5.0, \"totalWeightedLabel\": 0.0, \"totalWeightedRefinedPrediction\": 1.00263512134552}, {\"lowerThresholdInclusive\": 0.201, \"upperThresholdExclusive\": 0.202, \"numWeightedExamples\": 11.0, \"totalWeightedLabel\": 4.0, \"totalWeightedRefinedPrediction\": 2.2163018882274628}, {\"lowerThresholdInclusive\": 0.202, \"upperThresholdExclusive\": 0.203, \"numWeightedExamples\": 4.0, \"totalWeightedLabel\": 1.0, \"totalWeightedRefinedPrediction\": 0.810944676399231}, {\"lowerThresholdInclusive\": 0.203, \"upperThresholdExclusive\": 0.204, \"numWeightedExamples\": 10.0, \"totalWeightedLabel\": 1.0, \"totalWeightedRefinedPrediction\": 2.034742534160614}, {\"lowerThresholdInclusive\": 0.204, \"upperThresholdExclusive\": 0.205, \"numWeightedExamples\": 9.0, \"totalWeightedLabel\": 1.0, \"totalWeightedRefinedPrediction\": 1.8396419882774353}, {\"lowerThresholdInclusive\": 0.205, \"upperThresholdExclusive\": 0.206, \"numWeightedExamples\": 7.0, \"totalWeightedLabel\": 2.0, \"totalWeightedRefinedPrediction\": 1.4379101693630219}, {\"lowerThresholdInclusive\": 0.206, \"upperThresholdExclusive\": 0.207, \"numWeightedExamples\": 8.0, \"totalWeightedLabel\": 2.0, \"totalWeightedRefinedPrediction\": 1.6523282825946808}, {\"lowerThresholdInclusive\": 0.207, \"upperThresholdExclusive\": 0.208, \"numWeightedExamples\": 6.0, \"totalWeightedLabel\": 2.0, \"totalWeightedRefinedPrediction\": 1.2448157668113708}, {\"lowerThresholdInclusive\": 0.208, \"upperThresholdExclusive\": 0.209, \"numWeightedExamples\": 8.0, \"totalWeightedLabel\": 1.0, \"totalWeightedRefinedPrediction\": 1.6687124371528625}, {\"lowerThresholdInclusive\": 0.209, \"upperThresholdExclusive\": 0.21, \"numWeightedExamples\": 7.0, \"totalWeightedLabel\": 4.0, \"totalWeightedRefinedPrediction\": 1.4678612351417542}, {\"lowerThresholdInclusive\": 0.21, \"upperThresholdExclusive\": 0.211, \"numWeightedExamples\": 8.0, \"totalWeightedLabel\": 2.0, \"totalWeightedRefinedPrediction\": 1.6836863160133362}, {\"lowerThresholdInclusive\": 0.211, \"upperThresholdExclusive\": 0.212, \"numWeightedExamples\": 8.0, \"totalWeightedLabel\": 2.0, \"totalWeightedRefinedPrediction\": 1.6919738352298737}, {\"lowerThresholdInclusive\": 0.212, \"upperThresholdExclusive\": 0.213, \"numWeightedExamples\": 8.0, \"totalWeightedLabel\": 1.0, \"totalWeightedRefinedPrediction\": 1.699988454580307}, {\"lowerThresholdInclusive\": 0.213, \"upperThresholdExclusive\": 0.214, \"numWeightedExamples\": 12.0, \"totalWeightedLabel\": 3.0, \"totalWeightedRefinedPrediction\": 2.5628118216991425}, {\"lowerThresholdInclusive\": 0.214, \"upperThresholdExclusive\": 0.215, \"numWeightedExamples\": 7.0, \"totalWeightedLabel\": 2.0, \"totalWeightedRefinedPrediction\": 1.500520497560501}, {\"lowerThresholdInclusive\": 0.215, \"upperThresholdExclusive\": 0.216, \"numWeightedExamples\": 10.0, \"totalWeightedLabel\": 2.0, \"totalWeightedRefinedPrediction\": 2.1551520824432373}, {\"lowerThresholdInclusive\": 0.216, \"upperThresholdExclusive\": 0.217, \"numWeightedExamples\": 7.0, \"totalWeightedLabel\": 1.0, \"totalWeightedRefinedPrediction\": 1.5156771838665009}, {\"lowerThresholdInclusive\": 0.217, \"upperThresholdExclusive\": 0.218, \"numWeightedExamples\": 6.0, \"totalWeightedLabel\": 1.0, \"totalWeightedRefinedPrediction\": 1.3051301836967468}, {\"lowerThresholdInclusive\": 0.218, \"upperThresholdExclusive\": 0.219, \"numWeightedExamples\": 11.0, \"totalWeightedLabel\": 5.0, \"totalWeightedRefinedPrediction\": 2.4034993946552277}, {\"lowerThresholdInclusive\": 0.219, \"upperThresholdExclusive\": 0.22, \"numWeightedExamples\": 8.0, \"totalWeightedLabel\": 2.0, \"totalWeightedRefinedPrediction\": 1.7558245956897736}, {\"lowerThresholdInclusive\": 0.22, \"upperThresholdExclusive\": 0.221, \"numWeightedExamples\": 9.0, \"totalWeightedLabel\": 5.0, \"totalWeightedRefinedPrediction\": 1.9847230315208435}, {\"lowerThresholdInclusive\": 0.221, \"upperThresholdExclusive\": 0.222, \"numWeightedExamples\": 7.0, \"totalWeightedLabel\": 3.0, \"totalWeightedRefinedPrediction\": 1.550189882516861}, {\"lowerThresholdInclusive\": 0.222, \"upperThresholdExclusive\": 0.223, \"numWeightedExamples\": 11.0, \"totalWeightedLabel\": 2.0, \"totalWeightedRefinedPrediction\": 2.4453930854797363}, {\"lowerThresholdInclusive\": 0.223, \"upperThresholdExclusive\": 0.224, \"numWeightedExamples\": 16.0, \"totalWeightedLabel\": 5.0, \"totalWeightedRefinedPrediction\": 3.5748343765735626}, {\"lowerThresholdInclusive\": 0.224, \"upperThresholdExclusive\": 0.225, \"numWeightedExamples\": 10.0, \"totalWeightedLabel\": 3.0, \"totalWeightedRefinedPrediction\": 2.244686633348465}, {\"lowerThresholdInclusive\": 0.225, \"upperThresholdExclusive\": 0.226, \"numWeightedExamples\": 5.0, \"totalWeightedLabel\": 1.0, \"totalWeightedRefinedPrediction\": 1.1280414462089539}, {\"lowerThresholdInclusive\": 0.226, \"upperThresholdExclusive\": 0.227, \"numWeightedExamples\": 11.0, \"totalWeightedLabel\": 5.0, \"totalWeightedRefinedPrediction\": 2.4910117387771606}, {\"lowerThresholdInclusive\": 0.227, \"upperThresholdExclusive\": 0.228, \"numWeightedExamples\": 12.0, \"totalWeightedLabel\": 1.0, \"totalWeightedRefinedPrediction\": 2.732059985399246}, {\"lowerThresholdInclusive\": 0.228, \"upperThresholdExclusive\": 0.229, \"numWeightedExamples\": 7.0, \"totalWeightedLabel\": 0.0, \"totalWeightedRefinedPrediction\": 1.5998845994472504}, {\"lowerThresholdInclusive\": 0.229, \"upperThresholdExclusive\": 0.23, \"numWeightedExamples\": 6.0, \"totalWeightedLabel\": 1.0, \"totalWeightedRefinedPrediction\": 1.3768189251422882}, {\"lowerThresholdInclusive\": 0.23, \"upperThresholdExclusive\": 0.231, \"numWeightedExamples\": 10.0, \"totalWeightedLabel\": 5.0, \"totalWeightedRefinedPrediction\": 2.3050795793533325}, {\"lowerThresholdInclusive\": 0.231, \"upperThresholdExclusive\": 0.232, \"numWeightedExamples\": 8.0, \"totalWeightedLabel\": 2.0, \"totalWeightedRefinedPrediction\": 1.8517864644527435}, {\"lowerThresholdInclusive\": 0.232, \"upperThresholdExclusive\": 0.233, \"numWeightedExamples\": 12.0, \"totalWeightedLabel\": 2.0, \"totalWeightedRefinedPrediction\": 2.789726197719574}, {\"lowerThresholdInclusive\": 0.233, \"upperThresholdExclusive\": 0.234, \"numWeightedExamples\": 10.0, \"totalWeightedLabel\": 3.0, \"totalWeightedRefinedPrediction\": 2.335389882326126}, {\"lowerThresholdInclusive\": 0.234, \"upperThresholdExclusive\": 0.235, \"numWeightedExamples\": 9.0, \"totalWeightedLabel\": 2.0, \"totalWeightedRefinedPrediction\": 2.1090811491012573}, {\"lowerThresholdInclusive\": 0.235, \"upperThresholdExclusive\": 0.236, \"numWeightedExamples\": 13.0, \"totalWeightedLabel\": 1.0, \"totalWeightedRefinedPrediction\": 3.0614399313926697}, {\"lowerThresholdInclusive\": 0.236, \"upperThresholdExclusive\": 0.237, \"numWeightedExamples\": 11.0, \"totalWeightedLabel\": 1.0, \"totalWeightedRefinedPrediction\": 2.6018092036247253}, {\"lowerThresholdInclusive\": 0.237, \"upperThresholdExclusive\": 0.238, \"numWeightedExamples\": 11.0, \"totalWeightedLabel\": 2.0, \"totalWeightedRefinedPrediction\": 2.612921416759491}, {\"lowerThresholdInclusive\": 0.238, \"upperThresholdExclusive\": 0.239, \"numWeightedExamples\": 11.0, \"totalWeightedLabel\": 2.0, \"totalWeightedRefinedPrediction\": 2.6252164244651794}, {\"lowerThresholdInclusive\": 0.239, \"upperThresholdExclusive\": 0.24, \"numWeightedExamples\": 11.0, \"totalWeightedLabel\": 1.0, \"totalWeightedRefinedPrediction\": 2.6345987915992737}, {\"lowerThresholdInclusive\": 0.24, \"upperThresholdExclusive\": 0.241, \"numWeightedExamples\": 7.0, \"totalWeightedLabel\": 2.0, \"totalWeightedRefinedPrediction\": 1.681685596704483}, {\"lowerThresholdInclusive\": 0.241, \"upperThresholdExclusive\": 0.242, \"numWeightedExamples\": 16.0, \"totalWeightedLabel\": 5.0, \"totalWeightedRefinedPrediction\": 3.8643325567245483}, {\"lowerThresholdInclusive\": 0.242, \"upperThresholdExclusive\": 0.243, \"numWeightedExamples\": 12.0, \"totalWeightedLabel\": 4.0, \"totalWeightedRefinedPrediction\": 2.9088870882987976}, {\"lowerThresholdInclusive\": 0.243, \"upperThresholdExclusive\": 0.244, \"numWeightedExamples\": 6.0, \"totalWeightedLabel\": 1.0, \"totalWeightedRefinedPrediction\": 1.4600117802619934}, {\"lowerThresholdInclusive\": 0.244, \"upperThresholdExclusive\": 0.245, \"numWeightedExamples\": 6.0, \"totalWeightedLabel\": 0.0, \"totalWeightedRefinedPrediction\": 1.4673078954219818}, {\"lowerThresholdInclusive\": 0.245, \"upperThresholdExclusive\": 0.246, \"numWeightedExamples\": 12.0, \"totalWeightedLabel\": 2.0, \"totalWeightedRefinedPrediction\": 2.946874111890793}, {\"lowerThresholdInclusive\": 0.246, \"upperThresholdExclusive\": 0.247, \"numWeightedExamples\": 7.0, \"totalWeightedLabel\": 3.0, \"totalWeightedRefinedPrediction\": 1.7259128093719482}, {\"lowerThresholdInclusive\": 0.247, \"upperThresholdExclusive\": 0.248, \"numWeightedExamples\": 9.0, \"totalWeightedLabel\": 1.0, \"totalWeightedRefinedPrediction\": 2.228212833404541}, {\"lowerThresholdInclusive\": 0.248, \"upperThresholdExclusive\": 0.249, \"numWeightedExamples\": 6.0, \"totalWeightedLabel\": 3.0, \"totalWeightedRefinedPrediction\": 1.4896990060806274}, {\"lowerThresholdInclusive\": 0.249, \"upperThresholdExclusive\": 0.25, \"numWeightedExamples\": 8.0, \"totalWeightedLabel\": 1.0, \"totalWeightedRefinedPrediction\": 1.9958686232566833}, {\"lowerThresholdInclusive\": 0.25, \"upperThresholdExclusive\": 0.251, \"numWeightedExamples\": 8.0, \"totalWeightedLabel\": 3.0, \"totalWeightedRefinedPrediction\": 2.003270298242569}, {\"lowerThresholdInclusive\": 0.251, \"upperThresholdExclusive\": 0.252, \"numWeightedExamples\": 8.0, \"totalWeightedLabel\": 1.0, \"totalWeightedRefinedPrediction\": 2.0134639739990234}, {\"lowerThresholdInclusive\": 0.252, \"upperThresholdExclusive\": 0.253, \"numWeightedExamples\": 9.0, \"totalWeightedLabel\": 1.0, \"totalWeightedRefinedPrediction\": 2.2733702957630157}, {\"lowerThresholdInclusive\": 0.253, \"upperThresholdExclusive\": 0.254, \"numWeightedExamples\": 10.0, \"totalWeightedLabel\": 3.0, \"totalWeightedRefinedPrediction\": 2.5344108939170837}, {\"lowerThresholdInclusive\": 0.254, \"upperThresholdExclusive\": 0.255, \"numWeightedExamples\": 3.0, \"totalWeightedLabel\": 1.0, \"totalWeightedRefinedPrediction\": 0.7636206448078156}, {\"lowerThresholdInclusive\": 0.255, \"upperThresholdExclusive\": 0.256, \"numWeightedExamples\": 11.0, \"totalWeightedLabel\": 3.0, \"totalWeightedRefinedPrediction\": 2.8117546141147614}, {\"lowerThresholdInclusive\": 0.256, \"upperThresholdExclusive\": 0.257, \"numWeightedExamples\": 10.0, \"totalWeightedLabel\": 1.0, \"totalWeightedRefinedPrediction\": 2.5652762055397034}, {\"lowerThresholdInclusive\": 0.257, \"upperThresholdExclusive\": 0.258, \"numWeightedExamples\": 5.0, \"totalWeightedLabel\": 0.0, \"totalWeightedRefinedPrediction\": 1.2877747416496277}, {\"lowerThresholdInclusive\": 0.258, \"upperThresholdExclusive\": 0.259, \"numWeightedExamples\": 11.0, \"totalWeightedLabel\": 2.0, \"totalWeightedRefinedPrediction\": 2.842125803232193}, {\"lowerThresholdInclusive\": 0.259, \"upperThresholdExclusive\": 0.26, \"numWeightedExamples\": 5.0, \"totalWeightedLabel\": 4.0, \"totalWeightedRefinedPrediction\": 1.297851413488388}, {\"lowerThresholdInclusive\": 0.26, \"upperThresholdExclusive\": 0.261, \"numWeightedExamples\": 7.0, \"totalWeightedLabel\": 1.0, \"totalWeightedRefinedPrediction\": 1.8228912949562073}, {\"lowerThresholdInclusive\": 0.261, \"upperThresholdExclusive\": 0.262, \"numWeightedExamples\": 8.0, \"totalWeightedLabel\": 5.0, \"totalWeightedRefinedPrediction\": 2.0939681231975555}, {\"lowerThresholdInclusive\": 0.262, \"upperThresholdExclusive\": 0.263, \"numWeightedExamples\": 12.0, \"totalWeightedLabel\": 3.0, \"totalWeightedRefinedPrediction\": 3.1507508158683777}, {\"lowerThresholdInclusive\": 0.263, \"upperThresholdExclusive\": 0.264, \"numWeightedExamples\": 8.0, \"totalWeightedLabel\": 0.0, \"totalWeightedRefinedPrediction\": 2.107548475265503}, {\"lowerThresholdInclusive\": 0.264, \"upperThresholdExclusive\": 0.265, \"numWeightedExamples\": 7.0, \"totalWeightedLabel\": 0.0, \"totalWeightedRefinedPrediction\": 1.8507772088050842}, {\"lowerThresholdInclusive\": 0.265, \"upperThresholdExclusive\": 0.266, \"numWeightedExamples\": 5.0, \"totalWeightedLabel\": 1.0, \"totalWeightedRefinedPrediction\": 1.3272728025913239}, {\"lowerThresholdInclusive\": 0.266, \"upperThresholdExclusive\": 0.267, \"numWeightedExamples\": 6.0, \"totalWeightedLabel\": 2.0, \"totalWeightedRefinedPrediction\": 1.5989010632038116}, {\"lowerThresholdInclusive\": 0.267, \"upperThresholdExclusive\": 0.268, \"numWeightedExamples\": 6.0, \"totalWeightedLabel\": 0.0, \"totalWeightedRefinedPrediction\": 1.6051530838012695}, {\"lowerThresholdInclusive\": 0.268, \"upperThresholdExclusive\": 0.269, \"numWeightedExamples\": 10.0, \"totalWeightedLabel\": 2.0, \"totalWeightedRefinedPrediction\": 2.684594005346298}, {\"lowerThresholdInclusive\": 0.269, \"upperThresholdExclusive\": 0.27, \"numWeightedExamples\": 11.0, \"totalWeightedLabel\": 4.0, \"totalWeightedRefinedPrediction\": 2.9642085134983063}, {\"lowerThresholdInclusive\": 0.27, \"upperThresholdExclusive\": 0.271, \"numWeightedExamples\": 7.0, \"totalWeightedLabel\": 1.0, \"totalWeightedRefinedPrediction\": 1.89546337723732}, {\"lowerThresholdInclusive\": 0.271, \"upperThresholdExclusive\": 0.272, \"numWeightedExamples\": 7.0, \"totalWeightedLabel\": 3.0, \"totalWeightedRefinedPrediction\": 1.9008175730705261}, {\"lowerThresholdInclusive\": 0.272, \"upperThresholdExclusive\": 0.273, \"numWeightedExamples\": 8.0, \"totalWeightedLabel\": 3.0, \"totalWeightedRefinedPrediction\": 2.1809518933296204}, {\"lowerThresholdInclusive\": 0.273, \"upperThresholdExclusive\": 0.274, \"numWeightedExamples\": 9.0, \"totalWeightedLabel\": 1.0, \"totalWeightedRefinedPrediction\": 2.462055265903473}, {\"lowerThresholdInclusive\": 0.274, \"upperThresholdExclusive\": 0.275, \"numWeightedExamples\": 14.0, \"totalWeightedLabel\": 2.0, \"totalWeightedRefinedPrediction\": 3.842011332511902}, {\"lowerThresholdInclusive\": 0.275, \"upperThresholdExclusive\": 0.276, \"numWeightedExamples\": 12.0, \"totalWeightedLabel\": 4.0, \"totalWeightedRefinedPrediction\": 3.3056634068489075}, {\"lowerThresholdInclusive\": 0.276, \"upperThresholdExclusive\": 0.277, \"numWeightedExamples\": 5.0, \"totalWeightedLabel\": 2.0, \"totalWeightedRefinedPrediction\": 1.3824198842048645}, {\"lowerThresholdInclusive\": 0.277, \"upperThresholdExclusive\": 0.278, \"numWeightedExamples\": 11.0, \"totalWeightedLabel\": 2.0, \"totalWeightedRefinedPrediction\": 3.0520572662353516}, {\"lowerThresholdInclusive\": 0.278, \"upperThresholdExclusive\": 0.279, \"numWeightedExamples\": 7.0, \"totalWeightedLabel\": 3.0, \"totalWeightedRefinedPrediction\": 1.9492396116256714}, {\"lowerThresholdInclusive\": 0.279, \"upperThresholdExclusive\": 0.28, \"numWeightedExamples\": 7.0, \"totalWeightedLabel\": 2.0, \"totalWeightedRefinedPrediction\": 1.9562876522541046}, {\"lowerThresholdInclusive\": 0.28, \"upperThresholdExclusive\": 0.281, \"numWeightedExamples\": 4.0, \"totalWeightedLabel\": 1.0, \"totalWeightedRefinedPrediction\": 1.1223521828651428}, {\"lowerThresholdInclusive\": 0.281, \"upperThresholdExclusive\": 0.282, \"numWeightedExamples\": 6.0, \"totalWeightedLabel\": 2.0, \"totalWeightedRefinedPrediction\": 1.6881622076034546}, {\"lowerThresholdInclusive\": 0.282, \"upperThresholdExclusive\": 0.283, \"numWeightedExamples\": 8.0, \"totalWeightedLabel\": 5.0, \"totalWeightedRefinedPrediction\": 2.2603718638420105}, {\"lowerThresholdInclusive\": 0.283, \"upperThresholdExclusive\": 0.284, \"numWeightedExamples\": 14.0, \"totalWeightedLabel\": 1.0, \"totalWeightedRefinedPrediction\": 3.9687402844429016}, {\"lowerThresholdInclusive\": 0.284, \"upperThresholdExclusive\": 0.285, \"numWeightedExamples\": 9.0, \"totalWeightedLabel\": 7.0, \"totalWeightedRefinedPrediction\": 2.5603457391262054}, {\"lowerThresholdInclusive\": 0.285, \"upperThresholdExclusive\": 0.286, \"numWeightedExamples\": 5.0, \"totalWeightedLabel\": 1.0, \"totalWeightedRefinedPrediction\": 1.4271469414234161}, {\"lowerThresholdInclusive\": 0.286, \"upperThresholdExclusive\": 0.287, \"numWeightedExamples\": 9.0, \"totalWeightedLabel\": 2.0, \"totalWeightedRefinedPrediction\": 2.578257828950882}, {\"lowerThresholdInclusive\": 0.287, \"upperThresholdExclusive\": 0.288, \"numWeightedExamples\": 4.0, \"totalWeightedLabel\": 2.0, \"totalWeightedRefinedPrediction\": 1.1500219404697418}, {\"lowerThresholdInclusive\": 0.288, \"upperThresholdExclusive\": 0.289, \"numWeightedExamples\": 9.0, \"totalWeightedLabel\": 5.0, \"totalWeightedRefinedPrediction\": 2.5960366129875183}, {\"lowerThresholdInclusive\": 0.289, \"upperThresholdExclusive\": 0.29, \"numWeightedExamples\": 2.0, \"totalWeightedLabel\": 0.0, \"totalWeightedRefinedPrediction\": 0.5784781873226166}, {\"lowerThresholdInclusive\": 0.29, \"upperThresholdExclusive\": 0.291, \"numWeightedExamples\": 10.0, \"totalWeightedLabel\": 4.0, \"totalWeightedRefinedPrediction\": 2.903454601764679}, {\"lowerThresholdInclusive\": 0.291, \"upperThresholdExclusive\": 0.292, \"numWeightedExamples\": 9.0, \"totalWeightedLabel\": 1.0, \"totalWeightedRefinedPrediction\": 2.6235102713108063}, {\"lowerThresholdInclusive\": 0.292, \"upperThresholdExclusive\": 0.293, \"numWeightedExamples\": 9.0, \"totalWeightedLabel\": 0.0, \"totalWeightedRefinedPrediction\": 2.63170462846756}, {\"lowerThresholdInclusive\": 0.293, \"upperThresholdExclusive\": 0.294, \"numWeightedExamples\": 6.0, \"totalWeightedLabel\": 2.0, \"totalWeightedRefinedPrediction\": 1.76193368434906}, {\"lowerThresholdInclusive\": 0.294, \"upperThresholdExclusive\": 0.295, \"numWeightedExamples\": 5.0, \"totalWeightedLabel\": 3.0, \"totalWeightedRefinedPrediction\": 1.4726765751838684}, {\"lowerThresholdInclusive\": 0.295, \"upperThresholdExclusive\": 0.296, \"numWeightedExamples\": 10.0, \"totalWeightedLabel\": 4.0, \"totalWeightedRefinedPrediction\": 2.9540733993053436}, {\"lowerThresholdInclusive\": 0.296, \"upperThresholdExclusive\": 0.297, \"numWeightedExamples\": 7.0, \"totalWeightedLabel\": 2.0, \"totalWeightedRefinedPrediction\": 2.0760300159454346}, {\"lowerThresholdInclusive\": 0.297, \"upperThresholdExclusive\": 0.298, \"numWeightedExamples\": 12.0, \"totalWeightedLabel\": 5.0, \"totalWeightedRefinedPrediction\": 3.5702348947525024}, {\"lowerThresholdInclusive\": 0.298, \"upperThresholdExclusive\": 0.299, \"numWeightedExamples\": 10.0, \"totalWeightedLabel\": 3.0, \"totalWeightedRefinedPrediction\": 2.984306365251541}, {\"lowerThresholdInclusive\": 0.299, \"upperThresholdExclusive\": 0.3, \"numWeightedExamples\": 7.0, \"totalWeightedLabel\": 3.0, \"totalWeightedRefinedPrediction\": 2.0959423780441284}, {\"lowerThresholdInclusive\": 0.3, \"upperThresholdExclusive\": 0.301, \"numWeightedExamples\": 9.0, \"totalWeightedLabel\": 3.0, \"totalWeightedRefinedPrediction\": 2.7036499679088593}, {\"lowerThresholdInclusive\": 0.301, \"upperThresholdExclusive\": 0.302, \"numWeightedExamples\": 2.0, \"totalWeightedLabel\": 1.0, \"totalWeightedRefinedPrediction\": 0.6031149625778198}, {\"lowerThresholdInclusive\": 0.302, \"upperThresholdExclusive\": 0.303, \"numWeightedExamples\": 6.0, \"totalWeightedLabel\": 3.0, \"totalWeightedRefinedPrediction\": 1.8160168826580048}, {\"lowerThresholdInclusive\": 0.303, \"upperThresholdExclusive\": 0.304, \"numWeightedExamples\": 13.0, \"totalWeightedLabel\": 3.0, \"totalWeightedRefinedPrediction\": 3.945187270641327}, {\"lowerThresholdInclusive\": 0.304, \"upperThresholdExclusive\": 0.305, \"numWeightedExamples\": 9.0, \"totalWeightedLabel\": 4.0, \"totalWeightedRefinedPrediction\": 2.741053283214569}, {\"lowerThresholdInclusive\": 0.305, \"upperThresholdExclusive\": 0.306, \"numWeightedExamples\": 11.0, \"totalWeightedLabel\": 2.0, \"totalWeightedRefinedPrediction\": 3.359825521707535}, {\"lowerThresholdInclusive\": 0.306, \"upperThresholdExclusive\": 0.307, \"numWeightedExamples\": 9.0, \"totalWeightedLabel\": 3.0, \"totalWeightedRefinedPrediction\": 2.759511321783066}, {\"lowerThresholdInclusive\": 0.307, \"upperThresholdExclusive\": 0.308, \"numWeightedExamples\": 10.0, \"totalWeightedLabel\": 3.0, \"totalWeightedRefinedPrediction\": 3.074885755777359}, {\"lowerThresholdInclusive\": 0.308, \"upperThresholdExclusive\": 0.309, \"numWeightedExamples\": 4.0, \"totalWeightedLabel\": 1.0, \"totalWeightedRefinedPrediction\": 1.2341786324977875}, {\"lowerThresholdInclusive\": 0.309, \"upperThresholdExclusive\": 0.31, \"numWeightedExamples\": 6.0, \"totalWeightedLabel\": 4.0, \"totalWeightedRefinedPrediction\": 1.8561942875385284}, {\"lowerThresholdInclusive\": 0.31, \"upperThresholdExclusive\": 0.311, \"numWeightedExamples\": 9.0, \"totalWeightedLabel\": 3.0, \"totalWeightedRefinedPrediction\": 2.795526534318924}, {\"lowerThresholdInclusive\": 0.311, \"upperThresholdExclusive\": 0.312, \"numWeightedExamples\": 9.0, \"totalWeightedLabel\": 2.0, \"totalWeightedRefinedPrediction\": 2.802559792995453}, {\"lowerThresholdInclusive\": 0.312, \"upperThresholdExclusive\": 0.313, \"numWeightedExamples\": 6.0, \"totalWeightedLabel\": 0.0, \"totalWeightedRefinedPrediction\": 1.8740876019001007}, {\"lowerThresholdInclusive\": 0.313, \"upperThresholdExclusive\": 0.314, \"numWeightedExamples\": 10.0, \"totalWeightedLabel\": 6.0, \"totalWeightedRefinedPrediction\": 3.134783238172531}, {\"lowerThresholdInclusive\": 0.314, \"upperThresholdExclusive\": 0.315, \"numWeightedExamples\": 10.0, \"totalWeightedLabel\": 3.0, \"totalWeightedRefinedPrediction\": 3.1463706493377686}, {\"lowerThresholdInclusive\": 0.315, \"upperThresholdExclusive\": 0.316, \"numWeightedExamples\": 4.0, \"totalWeightedLabel\": 0.0, \"totalWeightedRefinedPrediction\": 1.2622076272964478}, {\"lowerThresholdInclusive\": 0.316, \"upperThresholdExclusive\": 0.317, \"numWeightedExamples\": 9.0, \"totalWeightedLabel\": 5.0, \"totalWeightedRefinedPrediction\": 2.848324626684189}, {\"lowerThresholdInclusive\": 0.317, \"upperThresholdExclusive\": 0.318, \"numWeightedExamples\": 11.0, \"totalWeightedLabel\": 2.0, \"totalWeightedRefinedPrediction\": 3.4916757941246033}, {\"lowerThresholdInclusive\": 0.318, \"upperThresholdExclusive\": 0.319, \"numWeightedExamples\": 7.0, \"totalWeightedLabel\": 0.0, \"totalWeightedRefinedPrediction\": 2.2287389039993286}, {\"lowerThresholdInclusive\": 0.319, \"upperThresholdExclusive\": 0.32, \"numWeightedExamples\": 11.0, \"totalWeightedLabel\": 2.0, \"totalWeightedRefinedPrediction\": 3.5160034596920013}, {\"lowerThresholdInclusive\": 0.32, \"upperThresholdExclusive\": 0.321, \"numWeightedExamples\": 7.0, \"totalWeightedLabel\": 2.0, \"totalWeightedRefinedPrediction\": 2.242895394563675}, {\"lowerThresholdInclusive\": 0.321, \"upperThresholdExclusive\": 0.322, \"numWeightedExamples\": 11.0, \"totalWeightedLabel\": 4.0, \"totalWeightedRefinedPrediction\": 3.5366297364234924}, {\"lowerThresholdInclusive\": 0.322, \"upperThresholdExclusive\": 0.323, \"numWeightedExamples\": 10.0, \"totalWeightedLabel\": 4.0, \"totalWeightedRefinedPrediction\": 3.2247195541858673}, {\"lowerThresholdInclusive\": 0.323, \"upperThresholdExclusive\": 0.324, \"numWeightedExamples\": 11.0, \"totalWeightedLabel\": 5.0, \"totalWeightedRefinedPrediction\": 3.557778000831604}, {\"lowerThresholdInclusive\": 0.324, \"upperThresholdExclusive\": 0.325, \"numWeightedExamples\": 11.0, \"totalWeightedLabel\": 4.0, \"totalWeightedRefinedPrediction\": 3.5671045780181885}, {\"lowerThresholdInclusive\": 0.325, \"upperThresholdExclusive\": 0.326, \"numWeightedExamples\": 6.0, \"totalWeightedLabel\": 2.0, \"totalWeightedRefinedPrediction\": 1.9511791169643402}, {\"lowerThresholdInclusive\": 0.326, \"upperThresholdExclusive\": 0.327, \"numWeightedExamples\": 11.0, \"totalWeightedLabel\": 5.0, \"totalWeightedRefinedPrediction\": 3.590651124715805}, {\"lowerThresholdInclusive\": 0.327, \"upperThresholdExclusive\": 0.328, \"numWeightedExamples\": 10.0, \"totalWeightedLabel\": 4.0, \"totalWeightedRefinedPrediction\": 3.2750286161899567}, {\"lowerThresholdInclusive\": 0.328, \"upperThresholdExclusive\": 0.329, \"numWeightedExamples\": 12.0, \"totalWeightedLabel\": 3.0, \"totalWeightedRefinedPrediction\": 3.9426930844783783}, {\"lowerThresholdInclusive\": 0.329, \"upperThresholdExclusive\": 0.33, \"numWeightedExamples\": 14.0, \"totalWeightedLabel\": 5.0, \"totalWeightedRefinedPrediction\": 4.611926913261414}, {\"lowerThresholdInclusive\": 0.33, \"upperThresholdExclusive\": 0.331, \"numWeightedExamples\": 11.0, \"totalWeightedLabel\": 5.0, \"totalWeightedRefinedPrediction\": 3.634951740503311}, {\"lowerThresholdInclusive\": 0.331, \"upperThresholdExclusive\": 0.332, \"numWeightedExamples\": 14.0, \"totalWeightedLabel\": 5.0, \"totalWeightedRefinedPrediction\": 4.641139894723892}, {\"lowerThresholdInclusive\": 0.332, \"upperThresholdExclusive\": 0.333, \"numWeightedExamples\": 11.0, \"totalWeightedLabel\": 4.0, \"totalWeightedRefinedPrediction\": 3.656660318374634}, {\"lowerThresholdInclusive\": 0.333, \"upperThresholdExclusive\": 0.334, \"numWeightedExamples\": 11.0, \"totalWeightedLabel\": 7.0, \"totalWeightedRefinedPrediction\": 3.6694562435150146}, {\"lowerThresholdInclusive\": 0.334, \"upperThresholdExclusive\": 0.335, \"numWeightedExamples\": 12.0, \"totalWeightedLabel\": 1.0, \"totalWeightedRefinedPrediction\": 4.013022214174271}, {\"lowerThresholdInclusive\": 0.335, \"upperThresholdExclusive\": 0.336, \"numWeightedExamples\": 6.0, \"totalWeightedLabel\": 1.0, \"totalWeightedRefinedPrediction\": 2.0132665634155273}, {\"lowerThresholdInclusive\": 0.336, \"upperThresholdExclusive\": 0.337, \"numWeightedExamples\": 7.0, \"totalWeightedLabel\": 3.0, \"totalWeightedRefinedPrediction\": 2.354069024324417}, {\"lowerThresholdInclusive\": 0.337, \"upperThresholdExclusive\": 0.338, \"numWeightedExamples\": 9.0, \"totalWeightedLabel\": 1.0, \"totalWeightedRefinedPrediction\": 3.0373875498771667}, {\"lowerThresholdInclusive\": 0.338, \"upperThresholdExclusive\": 0.339, \"numWeightedExamples\": 15.0, \"totalWeightedLabel\": 6.0, \"totalWeightedRefinedPrediction\": 5.076714247465134}, {\"lowerThresholdInclusive\": 0.339, \"upperThresholdExclusive\": 0.34, \"numWeightedExamples\": 18.0, \"totalWeightedLabel\": 8.0, \"totalWeightedRefinedPrediction\": 6.110639244318008}, {\"lowerThresholdInclusive\": 0.34, \"upperThresholdExclusive\": 0.341, \"numWeightedExamples\": 9.0, \"totalWeightedLabel\": 2.0, \"totalWeightedRefinedPrediction\": 3.063125640153885}, {\"lowerThresholdInclusive\": 0.341, \"upperThresholdExclusive\": 0.342, \"numWeightedExamples\": 11.0, \"totalWeightedLabel\": 4.0, \"totalWeightedRefinedPrediction\": 3.755074143409729}, {\"lowerThresholdInclusive\": 0.342, \"upperThresholdExclusive\": 0.343, \"numWeightedExamples\": 18.0, \"totalWeightedLabel\": 5.0, \"totalWeightedRefinedPrediction\": 6.16631144285202}, {\"lowerThresholdInclusive\": 0.343, \"upperThresholdExclusive\": 0.344, \"numWeightedExamples\": 15.0, \"totalWeightedLabel\": 7.0, \"totalWeightedRefinedPrediction\": 5.151561588048935}, {\"lowerThresholdInclusive\": 0.344, \"upperThresholdExclusive\": 0.345, \"numWeightedExamples\": 14.0, \"totalWeightedLabel\": 3.0, \"totalWeightedRefinedPrediction\": 4.823431044816971}, {\"lowerThresholdInclusive\": 0.345, \"upperThresholdExclusive\": 0.346, \"numWeightedExamples\": 13.0, \"totalWeightedLabel\": 3.0, \"totalWeightedRefinedPrediction\": 4.491661757230759}, {\"lowerThresholdInclusive\": 0.346, \"upperThresholdExclusive\": 0.347, \"numWeightedExamples\": 9.0, \"totalWeightedLabel\": 6.0, \"totalWeightedRefinedPrediction\": 3.117227405309677}, {\"lowerThresholdInclusive\": 0.347, \"upperThresholdExclusive\": 0.348, \"numWeightedExamples\": 7.0, \"totalWeightedLabel\": 3.0, \"totalWeightedRefinedPrediction\": 2.433035582304001}, {\"lowerThresholdInclusive\": 0.348, \"upperThresholdExclusive\": 0.349, \"numWeightedExamples\": 10.0, \"totalWeightedLabel\": 2.0, \"totalWeightedRefinedPrediction\": 3.4861144423484802}, {\"lowerThresholdInclusive\": 0.349, \"upperThresholdExclusive\": 0.35, \"numWeightedExamples\": 8.0, \"totalWeightedLabel\": 3.0, \"totalWeightedRefinedPrediction\": 2.7961325347423553}, {\"lowerThresholdInclusive\": 0.35, \"upperThresholdExclusive\": 0.351, \"numWeightedExamples\": 11.0, \"totalWeightedLabel\": 4.0, \"totalWeightedRefinedPrediction\": 3.854185104370117}, {\"lowerThresholdInclusive\": 0.351, \"upperThresholdExclusive\": 0.352, \"numWeightedExamples\": 12.0, \"totalWeightedLabel\": 3.0, \"totalWeightedRefinedPrediction\": 4.218262642621994}, {\"lowerThresholdInclusive\": 0.352, \"upperThresholdExclusive\": 0.353, \"numWeightedExamples\": 7.0, \"totalWeightedLabel\": 2.0, \"totalWeightedRefinedPrediction\": 2.4669367969036102}, {\"lowerThresholdInclusive\": 0.353, \"upperThresholdExclusive\": 0.354, \"numWeightedExamples\": 10.0, \"totalWeightedLabel\": 1.0, \"totalWeightedRefinedPrediction\": 3.5344383120536804}, {\"lowerThresholdInclusive\": 0.354, \"upperThresholdExclusive\": 0.355, \"numWeightedExamples\": 9.0, \"totalWeightedLabel\": 3.0, \"totalWeightedRefinedPrediction\": 3.188763052225113}, {\"lowerThresholdInclusive\": 0.355, \"upperThresholdExclusive\": 0.356, \"numWeightedExamples\": 11.0, \"totalWeightedLabel\": 4.0, \"totalWeightedRefinedPrediction\": 3.9100971817970276}, {\"lowerThresholdInclusive\": 0.356, \"upperThresholdExclusive\": 0.357, \"numWeightedExamples\": 4.0, \"totalWeightedLabel\": 1.0, \"totalWeightedRefinedPrediction\": 1.4265011548995972}, {\"lowerThresholdInclusive\": 0.357, \"upperThresholdExclusive\": 0.358, \"numWeightedExamples\": 5.0, \"totalWeightedLabel\": 0.0, \"totalWeightedRefinedPrediction\": 1.78659188747406}, {\"lowerThresholdInclusive\": 0.358, \"upperThresholdExclusive\": 0.359, \"numWeightedExamples\": 8.0, \"totalWeightedLabel\": 1.0, \"totalWeightedRefinedPrediction\": 2.866931229829788}, {\"lowerThresholdInclusive\": 0.359, \"upperThresholdExclusive\": 0.36, \"numWeightedExamples\": 6.0, \"totalWeightedLabel\": 0.0, \"totalWeightedRefinedPrediction\": 2.156542479991913}, {\"lowerThresholdInclusive\": 0.36, \"upperThresholdExclusive\": 0.361, \"numWeightedExamples\": 10.0, \"totalWeightedLabel\": 3.0, \"totalWeightedRefinedPrediction\": 3.6060623824596405}, {\"lowerThresholdInclusive\": 0.361, \"upperThresholdExclusive\": 0.362, \"numWeightedExamples\": 9.0, \"totalWeightedLabel\": 4.0, \"totalWeightedRefinedPrediction\": 3.2526526749134064}, {\"lowerThresholdInclusive\": 0.362, \"upperThresholdExclusive\": 0.363, \"numWeightedExamples\": 10.0, \"totalWeightedLabel\": 2.0, \"totalWeightedRefinedPrediction\": 3.626082330942154}, {\"lowerThresholdInclusive\": 0.363, \"upperThresholdExclusive\": 0.364, \"numWeightedExamples\": 6.0, \"totalWeightedLabel\": 0.0, \"totalWeightedRefinedPrediction\": 2.1812965273857117}, {\"lowerThresholdInclusive\": 0.364, \"upperThresholdExclusive\": 0.365, \"numWeightedExamples\": 3.0, \"totalWeightedLabel\": 1.0, \"totalWeightedRefinedPrediction\": 1.093344807624817}, {\"lowerThresholdInclusive\": 0.365, \"upperThresholdExclusive\": 0.366, \"numWeightedExamples\": 1.0, \"totalWeightedLabel\": 0.0, \"totalWeightedRefinedPrediction\": 0.36513280868530273}, {\"lowerThresholdInclusive\": 0.366, \"upperThresholdExclusive\": 0.367, \"numWeightedExamples\": 9.0, \"totalWeightedLabel\": 5.0, \"totalWeightedRefinedPrediction\": 3.2997467517852783}, {\"lowerThresholdInclusive\": 0.367, \"upperThresholdExclusive\": 0.368, \"numWeightedExamples\": 6.0, \"totalWeightedLabel\": 4.0, \"totalWeightedRefinedPrediction\": 2.2043986916542053}, {\"lowerThresholdInclusive\": 0.368, \"upperThresholdExclusive\": 0.369, \"numWeightedExamples\": 7.0, \"totalWeightedLabel\": 2.0, \"totalWeightedRefinedPrediction\": 2.579552859067917}, {\"lowerThresholdInclusive\": 0.369, \"upperThresholdExclusive\": 0.37, \"numWeightedExamples\": 5.0, \"totalWeightedLabel\": 1.0, \"totalWeightedRefinedPrediction\": 1.8461363315582275}, {\"lowerThresholdInclusive\": 0.37, \"upperThresholdExclusive\": 0.371, \"numWeightedExamples\": 4.0, \"totalWeightedLabel\": 1.0, \"totalWeightedRefinedPrediction\": 1.4818662703037262}, {\"lowerThresholdInclusive\": 0.371, \"upperThresholdExclusive\": 0.372, \"numWeightedExamples\": 5.0, \"totalWeightedLabel\": 3.0, \"totalWeightedRefinedPrediction\": 1.857928067445755}, {\"lowerThresholdInclusive\": 0.372, \"upperThresholdExclusive\": 0.373, \"numWeightedExamples\": 6.0, \"totalWeightedLabel\": 2.0, \"totalWeightedRefinedPrediction\": 2.234898120164871}, {\"lowerThresholdInclusive\": 0.373, \"upperThresholdExclusive\": 0.374, \"numWeightedExamples\": 4.0, \"totalWeightedLabel\": 2.0, \"totalWeightedRefinedPrediction\": 1.4950513541698456}, {\"lowerThresholdInclusive\": 0.374, \"upperThresholdExclusive\": 0.375, \"numWeightedExamples\": 5.0, \"totalWeightedLabel\": 1.0, \"totalWeightedRefinedPrediction\": 1.8736377954483032}, {\"lowerThresholdInclusive\": 0.375, \"upperThresholdExclusive\": 0.376, \"numWeightedExamples\": 10.0, \"totalWeightedLabel\": 3.0, \"totalWeightedRefinedPrediction\": 3.755062013864517}, {\"lowerThresholdInclusive\": 0.376, \"upperThresholdExclusive\": 0.377, \"numWeightedExamples\": 8.0, \"totalWeightedLabel\": 3.0, \"totalWeightedRefinedPrediction\": 3.0107131898403168}, {\"lowerThresholdInclusive\": 0.377, \"upperThresholdExclusive\": 0.378, \"numWeightedExamples\": 6.0, \"totalWeightedLabel\": 2.0, \"totalWeightedRefinedPrediction\": 2.264458656311035}, {\"lowerThresholdInclusive\": 0.378, \"upperThresholdExclusive\": 0.379, \"numWeightedExamples\": 10.0, \"totalWeightedLabel\": 4.0, \"totalWeightedRefinedPrediction\": 3.785296857357025}, {\"lowerThresholdInclusive\": 0.379, \"upperThresholdExclusive\": 0.38, \"numWeightedExamples\": 3.0, \"totalWeightedLabel\": 0.0, \"totalWeightedRefinedPrediction\": 1.1391189098358154}, {\"lowerThresholdInclusive\": 0.38, \"upperThresholdExclusive\": 0.381, \"numWeightedExamples\": 6.0, \"totalWeightedLabel\": 0.0, \"totalWeightedRefinedPrediction\": 2.2826840579509735}, {\"lowerThresholdInclusive\": 0.381, \"upperThresholdExclusive\": 0.382, \"numWeightedExamples\": 4.0, \"totalWeightedLabel\": 2.0, \"totalWeightedRefinedPrediction\": 1.5262044668197632}, {\"lowerThresholdInclusive\": 0.382, \"upperThresholdExclusive\": 0.383, \"numWeightedExamples\": 14.0, \"totalWeightedLabel\": 4.0, \"totalWeightedRefinedPrediction\": 5.355679988861084}, {\"lowerThresholdInclusive\": 0.383, \"upperThresholdExclusive\": 0.384, \"numWeightedExamples\": 7.0, \"totalWeightedLabel\": 2.0, \"totalWeightedRefinedPrediction\": 2.6848786771297455}, {\"lowerThresholdInclusive\": 0.384, \"upperThresholdExclusive\": 0.385, \"numWeightedExamples\": 10.0, \"totalWeightedLabel\": 2.0, \"totalWeightedRefinedPrediction\": 3.8448160588741302}, {\"lowerThresholdInclusive\": 0.385, \"upperThresholdExclusive\": 0.386, \"numWeightedExamples\": 7.0, \"totalWeightedLabel\": 4.0, \"totalWeightedRefinedPrediction\": 2.6986160278320312}, {\"lowerThresholdInclusive\": 0.386, \"upperThresholdExclusive\": 0.387, \"numWeightedExamples\": 12.0, \"totalWeightedLabel\": 2.0, \"totalWeightedRefinedPrediction\": 4.639599770307541}, {\"lowerThresholdInclusive\": 0.387, \"upperThresholdExclusive\": 0.388, \"numWeightedExamples\": 9.0, \"totalWeightedLabel\": 7.0, \"totalWeightedRefinedPrediction\": 3.488269627094269}, {\"lowerThresholdInclusive\": 0.388, \"upperThresholdExclusive\": 0.389, \"numWeightedExamples\": 7.0, \"totalWeightedLabel\": 4.0, \"totalWeightedRefinedPrediction\": 2.7204666435718536}, {\"lowerThresholdInclusive\": 0.389, \"upperThresholdExclusive\": 0.39, \"numWeightedExamples\": 9.0, \"totalWeightedLabel\": 3.0, \"totalWeightedRefinedPrediction\": 3.505148082971573}, {\"lowerThresholdInclusive\": 0.39, \"upperThresholdExclusive\": 0.391, \"numWeightedExamples\": 6.0, \"totalWeightedLabel\": 0.0, \"totalWeightedRefinedPrediction\": 2.3421376943588257}, {\"lowerThresholdInclusive\": 0.391, \"upperThresholdExclusive\": 0.392, \"numWeightedExamples\": 9.0, \"totalWeightedLabel\": 0.0, \"totalWeightedRefinedPrediction\": 3.524559199810028}, {\"lowerThresholdInclusive\": 0.392, \"upperThresholdExclusive\": 0.393, \"numWeightedExamples\": 10.0, \"totalWeightedLabel\": 4.0, \"totalWeightedRefinedPrediction\": 3.924194812774658}, {\"lowerThresholdInclusive\": 0.393, \"upperThresholdExclusive\": 0.394, \"numWeightedExamples\": 4.0, \"totalWeightedLabel\": 3.0, \"totalWeightedRefinedPrediction\": 1.5739909410476685}, {\"lowerThresholdInclusive\": 0.394, \"upperThresholdExclusive\": 0.395, \"numWeightedExamples\": 12.0, \"totalWeightedLabel\": 3.0, \"totalWeightedRefinedPrediction\": 4.733261257410049}, {\"lowerThresholdInclusive\": 0.395, \"upperThresholdExclusive\": 0.396, \"numWeightedExamples\": 5.0, \"totalWeightedLabel\": 4.0, \"totalWeightedRefinedPrediction\": 1.9777901470661163}, {\"lowerThresholdInclusive\": 0.396, \"upperThresholdExclusive\": 0.397, \"numWeightedExamples\": 11.0, \"totalWeightedLabel\": 4.0, \"totalWeightedRefinedPrediction\": 4.361959010362625}, {\"lowerThresholdInclusive\": 0.397, \"upperThresholdExclusive\": 0.398, \"numWeightedExamples\": 6.0, \"totalWeightedLabel\": 3.0, \"totalWeightedRefinedPrediction\": 2.3853631019592285}, {\"lowerThresholdInclusive\": 0.398, \"upperThresholdExclusive\": 0.399, \"numWeightedExamples\": 6.0, \"totalWeightedLabel\": 3.0, \"totalWeightedRefinedPrediction\": 2.3914187252521515}, {\"lowerThresholdInclusive\": 0.399, \"upperThresholdExclusive\": 0.4, \"numWeightedExamples\": 8.0, \"totalWeightedLabel\": 5.0, \"totalWeightedRefinedPrediction\": 3.1949670612812042}, {\"lowerThresholdInclusive\": 0.4, \"upperThresholdExclusive\": 0.401, \"numWeightedExamples\": 3.0, \"totalWeightedLabel\": 1.0, \"totalWeightedRefinedPrediction\": 1.2021366655826569}, {\"lowerThresholdInclusive\": 0.401, \"upperThresholdExclusive\": 0.402, \"numWeightedExamples\": 8.0, \"totalWeightedLabel\": 2.0, \"totalWeightedRefinedPrediction\": 3.2112422585487366}, {\"lowerThresholdInclusive\": 0.402, \"upperThresholdExclusive\": 0.403, \"numWeightedExamples\": 9.0, \"totalWeightedLabel\": 1.0, \"totalWeightedRefinedPrediction\": 3.6218320429325104}, {\"lowerThresholdInclusive\": 0.403, \"upperThresholdExclusive\": 0.404, \"numWeightedExamples\": 5.0, \"totalWeightedLabel\": 1.0, \"totalWeightedRefinedPrediction\": 2.0175107419490814}, {\"lowerThresholdInclusive\": 0.404, \"upperThresholdExclusive\": 0.405, \"numWeightedExamples\": 4.0, \"totalWeightedLabel\": 1.0, \"totalWeightedRefinedPrediction\": 1.6181215643882751}, {\"lowerThresholdInclusive\": 0.405, \"upperThresholdExclusive\": 0.406, \"numWeightedExamples\": 4.0, \"totalWeightedLabel\": 1.0, \"totalWeightedRefinedPrediction\": 1.6220042407512665}, {\"lowerThresholdInclusive\": 0.406, \"upperThresholdExclusive\": 0.407, \"numWeightedExamples\": 3.0, \"totalWeightedLabel\": 0.0, \"totalWeightedRefinedPrediction\": 1.218965768814087}, {\"lowerThresholdInclusive\": 0.407, \"upperThresholdExclusive\": 0.408, \"numWeightedExamples\": 3.0, \"totalWeightedLabel\": 2.0, \"totalWeightedRefinedPrediction\": 1.2219178080558777}, {\"lowerThresholdInclusive\": 0.408, \"upperThresholdExclusive\": 0.409, \"numWeightedExamples\": 5.0, \"totalWeightedLabel\": 2.0, \"totalWeightedRefinedPrediction\": 2.041930764913559}, {\"lowerThresholdInclusive\": 0.409, \"upperThresholdExclusive\": 0.41, \"numWeightedExamples\": 9.0, \"totalWeightedLabel\": 3.0, \"totalWeightedRefinedPrediction\": 3.6842505037784576}, {\"lowerThresholdInclusive\": 0.41, \"upperThresholdExclusive\": 0.411, \"numWeightedExamples\": 7.0, \"totalWeightedLabel\": 5.0, \"totalWeightedRefinedPrediction\": 2.8739990890026093}, {\"lowerThresholdInclusive\": 0.411, \"upperThresholdExclusive\": 0.412, \"numWeightedExamples\": 9.0, \"totalWeightedLabel\": 6.0, \"totalWeightedRefinedPrediction\": 3.70290470123291}, {\"lowerThresholdInclusive\": 0.412, \"upperThresholdExclusive\": 0.413, \"numWeightedExamples\": 5.0, \"totalWeightedLabel\": 2.0, \"totalWeightedRefinedPrediction\": 2.062677949666977}, {\"lowerThresholdInclusive\": 0.413, \"upperThresholdExclusive\": 0.414, \"numWeightedExamples\": 5.0, \"totalWeightedLabel\": 2.0, \"totalWeightedRefinedPrediction\": 2.067432701587677}, {\"lowerThresholdInclusive\": 0.414, \"upperThresholdExclusive\": 0.415, \"numWeightedExamples\": 6.0, \"totalWeightedLabel\": 1.0, \"totalWeightedRefinedPrediction\": 2.4881328642368317}, {\"lowerThresholdInclusive\": 0.415, \"upperThresholdExclusive\": 0.416, \"numWeightedExamples\": 8.0, \"totalWeightedLabel\": 4.0, \"totalWeightedRefinedPrediction\": 3.3238754272460938}, {\"lowerThresholdInclusive\": 0.416, \"upperThresholdExclusive\": 0.417, \"numWeightedExamples\": 3.0, \"totalWeightedLabel\": 1.0, \"totalWeightedRefinedPrediction\": 1.2499067187309265}, {\"lowerThresholdInclusive\": 0.417, \"upperThresholdExclusive\": 0.418, \"numWeightedExamples\": 5.0, \"totalWeightedLabel\": 1.0, \"totalWeightedRefinedPrediction\": 2.087522715330124}, {\"lowerThresholdInclusive\": 0.418, \"upperThresholdExclusive\": 0.419, \"numWeightedExamples\": 1.0, \"totalWeightedLabel\": 0.0, \"totalWeightedRefinedPrediction\": 0.4184775948524475}, {\"lowerThresholdInclusive\": 0.419, \"upperThresholdExclusive\": 0.42, \"numWeightedExamples\": 4.0, \"totalWeightedLabel\": 1.0, \"totalWeightedRefinedPrediction\": 1.6784502267837524}, {\"lowerThresholdInclusive\": 0.42, \"upperThresholdExclusive\": 0.421, \"numWeightedExamples\": 5.0, \"totalWeightedLabel\": 1.0, \"totalWeightedRefinedPrediction\": 2.10309699177742}, {\"lowerThresholdInclusive\": 0.421, \"upperThresholdExclusive\": 0.422, \"numWeightedExamples\": 3.0, \"totalWeightedLabel\": 1.0, \"totalWeightedRefinedPrediction\": 1.2650233209133148}, {\"lowerThresholdInclusive\": 0.422, \"upperThresholdExclusive\": 0.423, \"numWeightedExamples\": 5.0, \"totalWeightedLabel\": 1.0, \"totalWeightedRefinedPrediction\": 2.112556129693985}, {\"lowerThresholdInclusive\": 0.423, \"upperThresholdExclusive\": 0.424, \"numWeightedExamples\": 4.0, \"totalWeightedLabel\": 4.0, \"totalWeightedRefinedPrediction\": 1.6927458941936493}, {\"lowerThresholdInclusive\": 0.424, \"upperThresholdExclusive\": 0.425, \"numWeightedExamples\": 2.0, \"totalWeightedLabel\": 1.0, \"totalWeightedRefinedPrediction\": 0.8487260639667511}, {\"lowerThresholdInclusive\": 0.425, \"upperThresholdExclusive\": 0.426, \"numWeightedExamples\": 2.0, \"totalWeightedLabel\": 1.0, \"totalWeightedRefinedPrediction\": 0.8509586155414581}, {\"lowerThresholdInclusive\": 0.426, \"upperThresholdExclusive\": 0.427, \"numWeightedExamples\": 9.0, \"totalWeightedLabel\": 5.0, \"totalWeightedRefinedPrediction\": 3.83984512090683}, {\"lowerThresholdInclusive\": 0.427, \"upperThresholdExclusive\": 0.428, \"numWeightedExamples\": 6.0, \"totalWeightedLabel\": 3.0, \"totalWeightedRefinedPrediction\": 2.564839482307434}, {\"lowerThresholdInclusive\": 0.428, \"upperThresholdExclusive\": 0.429, \"numWeightedExamples\": 7.0, \"totalWeightedLabel\": 3.0, \"totalWeightedRefinedPrediction\": 2.9993091821670532}, {\"lowerThresholdInclusive\": 0.429, \"upperThresholdExclusive\": 0.43, \"numWeightedExamples\": 4.0, \"totalWeightedLabel\": 1.0, \"totalWeightedRefinedPrediction\": 1.7181983888149261}, {\"lowerThresholdInclusive\": 0.43, \"upperThresholdExclusive\": 0.431, \"numWeightedExamples\": 7.0, \"totalWeightedLabel\": 4.0, \"totalWeightedRefinedPrediction\": 3.0130894482135773}, {\"lowerThresholdInclusive\": 0.431, \"upperThresholdExclusive\": 0.432, \"numWeightedExamples\": 3.0, \"totalWeightedLabel\": 2.0, \"totalWeightedRefinedPrediction\": 1.294008582830429}, {\"lowerThresholdInclusive\": 0.432, \"upperThresholdExclusive\": 0.433, \"numWeightedExamples\": 3.0, \"totalWeightedLabel\": 2.0, \"totalWeightedRefinedPrediction\": 1.2981337308883667}, {\"lowerThresholdInclusive\": 0.433, \"upperThresholdExclusive\": 0.434, \"numWeightedExamples\": 4.0, \"totalWeightedLabel\": 3.0, \"totalWeightedRefinedPrediction\": 1.7343772947788239}, {\"lowerThresholdInclusive\": 0.434, \"upperThresholdExclusive\": 0.435, \"numWeightedExamples\": 9.0, \"totalWeightedLabel\": 3.0, \"totalWeightedRefinedPrediction\": 3.9096519351005554}, {\"lowerThresholdInclusive\": 0.435, \"upperThresholdExclusive\": 0.436, \"numWeightedExamples\": 4.0, \"totalWeightedLabel\": 2.0, \"totalWeightedRefinedPrediction\": 1.7427770495414734}, {\"lowerThresholdInclusive\": 0.436, \"upperThresholdExclusive\": 0.437, \"numWeightedExamples\": 4.0, \"totalWeightedLabel\": 1.0, \"totalWeightedRefinedPrediction\": 1.745247632265091}, {\"lowerThresholdInclusive\": 0.437, \"upperThresholdExclusive\": 0.438, \"numWeightedExamples\": 2.0, \"totalWeightedLabel\": 2.0, \"totalWeightedRefinedPrediction\": 0.8758310079574585}, {\"lowerThresholdInclusive\": 0.438, \"upperThresholdExclusive\": 0.439, \"numWeightedExamples\": 4.0, \"totalWeightedLabel\": 2.0, \"totalWeightedRefinedPrediction\": 1.7531368136405945}, {\"lowerThresholdInclusive\": 0.439, \"upperThresholdExclusive\": 0.44, \"numWeightedExamples\": 2.0, \"totalWeightedLabel\": 0.0, \"totalWeightedRefinedPrediction\": 0.8788451254367828}, {\"lowerThresholdInclusive\": 0.44, \"upperThresholdExclusive\": 0.441, \"numWeightedExamples\": 10.0, \"totalWeightedLabel\": 1.0, \"totalWeightedRefinedPrediction\": 4.40518057346344}, {\"lowerThresholdInclusive\": 0.441, \"upperThresholdExclusive\": 0.442, \"numWeightedExamples\": 4.0, \"totalWeightedLabel\": 1.0, \"totalWeightedRefinedPrediction\": 1.7660475969314575}, {\"lowerThresholdInclusive\": 0.442, \"upperThresholdExclusive\": 0.443, \"numWeightedExamples\": 0.0, \"totalWeightedLabel\": 0.0, \"totalWeightedRefinedPrediction\": 0.0}, {\"lowerThresholdInclusive\": 0.443, \"upperThresholdExclusive\": 0.444, \"numWeightedExamples\": 7.0, \"totalWeightedLabel\": 3.0, \"totalWeightedRefinedPrediction\": 3.1043336987495422}, {\"lowerThresholdInclusive\": 0.444, \"upperThresholdExclusive\": 0.445, \"numWeightedExamples\": 2.0, \"totalWeightedLabel\": 0.0, \"totalWeightedRefinedPrediction\": 0.8895149827003479}, {\"lowerThresholdInclusive\": 0.445, \"upperThresholdExclusive\": 0.446, \"numWeightedExamples\": 6.0, \"totalWeightedLabel\": 2.0, \"totalWeightedRefinedPrediction\": 2.672697424888611}, {\"lowerThresholdInclusive\": 0.446, \"upperThresholdExclusive\": 0.447, \"numWeightedExamples\": 7.0, \"totalWeightedLabel\": 4.0, \"totalWeightedRefinedPrediction\": 3.1265280842781067}, {\"lowerThresholdInclusive\": 0.447, \"upperThresholdExclusive\": 0.448, \"numWeightedExamples\": 0.0, \"totalWeightedLabel\": 0.0, \"totalWeightedRefinedPrediction\": 0.0}, {\"lowerThresholdInclusive\": 0.448, \"upperThresholdExclusive\": 0.449, \"numWeightedExamples\": 3.0, \"totalWeightedLabel\": 1.0, \"totalWeightedRefinedPrediction\": 1.345207542181015}, {\"lowerThresholdInclusive\": 0.449, \"upperThresholdExclusive\": 0.45, \"numWeightedExamples\": 5.0, \"totalWeightedLabel\": 2.0, \"totalWeightedRefinedPrediction\": 2.247885525226593}, {\"lowerThresholdInclusive\": 0.45, \"upperThresholdExclusive\": 0.451, \"numWeightedExamples\": 7.0, \"totalWeightedLabel\": 1.0, \"totalWeightedRefinedPrediction\": 3.152949333190918}, {\"lowerThresholdInclusive\": 0.451, \"upperThresholdExclusive\": 0.452, \"numWeightedExamples\": 4.0, \"totalWeightedLabel\": 2.0, \"totalWeightedRefinedPrediction\": 1.8071179389953613}, {\"lowerThresholdInclusive\": 0.452, \"upperThresholdExclusive\": 0.453, \"numWeightedExamples\": 7.0, \"totalWeightedLabel\": 4.0, \"totalWeightedRefinedPrediction\": 3.168525815010071}, {\"lowerThresholdInclusive\": 0.453, \"upperThresholdExclusive\": 0.454, \"numWeightedExamples\": 6.0, \"totalWeightedLabel\": 4.0, \"totalWeightedRefinedPrediction\": 2.7221462428569794}, {\"lowerThresholdInclusive\": 0.454, \"upperThresholdExclusive\": 0.455, \"numWeightedExamples\": 5.0, \"totalWeightedLabel\": 5.0, \"totalWeightedRefinedPrediction\": 2.2721200585365295}, {\"lowerThresholdInclusive\": 0.455, \"upperThresholdExclusive\": 0.456, \"numWeightedExamples\": 6.0, \"totalWeightedLabel\": 2.0, \"totalWeightedRefinedPrediction\": 2.7327099442481995}, {\"lowerThresholdInclusive\": 0.456, \"upperThresholdExclusive\": 0.457, \"numWeightedExamples\": 4.0, \"totalWeightedLabel\": 1.0, \"totalWeightedRefinedPrediction\": 1.825765073299408}, {\"lowerThresholdInclusive\": 0.457, \"upperThresholdExclusive\": 0.458, \"numWeightedExamples\": 4.0, \"totalWeightedLabel\": 2.0, \"totalWeightedRefinedPrediction\": 1.829714834690094}, {\"lowerThresholdInclusive\": 0.458, \"upperThresholdExclusive\": 0.459, \"numWeightedExamples\": 6.0, \"totalWeightedLabel\": 4.0, \"totalWeightedRefinedPrediction\": 2.75236314535141}, {\"lowerThresholdInclusive\": 0.459, \"upperThresholdExclusive\": 0.46, \"numWeightedExamples\": 8.0, \"totalWeightedLabel\": 1.0, \"totalWeightedRefinedPrediction\": 3.675461322069168}, {\"lowerThresholdInclusive\": 0.46, \"upperThresholdExclusive\": 0.461, \"numWeightedExamples\": 5.0, \"totalWeightedLabel\": 1.0, \"totalWeightedRefinedPrediction\": 2.303253084421158}, {\"lowerThresholdInclusive\": 0.461, \"upperThresholdExclusive\": 0.462, \"numWeightedExamples\": 7.0, \"totalWeightedLabel\": 4.0, \"totalWeightedRefinedPrediction\": 3.2301370203495026}, {\"lowerThresholdInclusive\": 0.462, \"upperThresholdExclusive\": 0.463, \"numWeightedExamples\": 9.0, \"totalWeightedLabel\": 4.0, \"totalWeightedRefinedPrediction\": 4.1623106598854065}, {\"lowerThresholdInclusive\": 0.463, \"upperThresholdExclusive\": 0.464, \"numWeightedExamples\": 2.0, \"totalWeightedLabel\": 1.0, \"totalWeightedRefinedPrediction\": 0.9268151223659515}, {\"lowerThresholdInclusive\": 0.464, \"upperThresholdExclusive\": 0.465, \"numWeightedExamples\": 2.0, \"totalWeightedLabel\": 0.0, \"totalWeightedRefinedPrediction\": 0.9285304546356201}, {\"lowerThresholdInclusive\": 0.465, \"upperThresholdExclusive\": 0.466, \"numWeightedExamples\": 3.0, \"totalWeightedLabel\": 1.0, \"totalWeightedRefinedPrediction\": 1.3968782126903534}, {\"lowerThresholdInclusive\": 0.466, \"upperThresholdExclusive\": 0.467, \"numWeightedExamples\": 4.0, \"totalWeightedLabel\": 2.0, \"totalWeightedRefinedPrediction\": 1.8654375672340393}, {\"lowerThresholdInclusive\": 0.467, \"upperThresholdExclusive\": 0.468, \"numWeightedExamples\": 4.0, \"totalWeightedLabel\": 1.0, \"totalWeightedRefinedPrediction\": 1.8695372343063354}, {\"lowerThresholdInclusive\": 0.468, \"upperThresholdExclusive\": 0.469, \"numWeightedExamples\": 8.0, \"totalWeightedLabel\": 6.0, \"totalWeightedRefinedPrediction\": 3.7489114701747894}, {\"lowerThresholdInclusive\": 0.469, \"upperThresholdExclusive\": 0.47, \"numWeightedExamples\": 8.0, \"totalWeightedLabel\": 3.0, \"totalWeightedRefinedPrediction\": 3.7563098073005676}, {\"lowerThresholdInclusive\": 0.47, \"upperThresholdExclusive\": 0.471, \"numWeightedExamples\": 6.0, \"totalWeightedLabel\": 1.0, \"totalWeightedRefinedPrediction\": 2.822812646627426}, {\"lowerThresholdInclusive\": 0.471, \"upperThresholdExclusive\": 0.472, \"numWeightedExamples\": 5.0, \"totalWeightedLabel\": 1.0, \"totalWeightedRefinedPrediction\": 2.358299434185028}, {\"lowerThresholdInclusive\": 0.472, \"upperThresholdExclusive\": 0.473, \"numWeightedExamples\": 4.0, \"totalWeightedLabel\": 1.0, \"totalWeightedRefinedPrediction\": 1.888766199350357}, {\"lowerThresholdInclusive\": 0.473, \"upperThresholdExclusive\": 0.474, \"numWeightedExamples\": 7.0, \"totalWeightedLabel\": 5.0, \"totalWeightedRefinedPrediction\": 3.313983827829361}, {\"lowerThresholdInclusive\": 0.474, \"upperThresholdExclusive\": 0.475, \"numWeightedExamples\": 2.0, \"totalWeightedLabel\": 2.0, \"totalWeightedRefinedPrediction\": 0.9493853449821472}, {\"lowerThresholdInclusive\": 0.475, \"upperThresholdExclusive\": 0.476, \"numWeightedExamples\": 4.0, \"totalWeightedLabel\": 2.0, \"totalWeightedRefinedPrediction\": 1.9027117192745209}, {\"lowerThresholdInclusive\": 0.476, \"upperThresholdExclusive\": 0.477, \"numWeightedExamples\": 4.0, \"totalWeightedLabel\": 1.0, \"totalWeightedRefinedPrediction\": 1.905677169561386}, {\"lowerThresholdInclusive\": 0.477, \"upperThresholdExclusive\": 0.478, \"numWeightedExamples\": 8.0, \"totalWeightedLabel\": 1.0, \"totalWeightedRefinedPrediction\": 3.8195290863513947}, {\"lowerThresholdInclusive\": 0.478, \"upperThresholdExclusive\": 0.479, \"numWeightedExamples\": 9.0, \"totalWeightedLabel\": 5.0, \"totalWeightedRefinedPrediction\": 4.3066123723983765}, {\"lowerThresholdInclusive\": 0.479, \"upperThresholdExclusive\": 0.48, \"numWeightedExamples\": 6.0, \"totalWeightedLabel\": 4.0, \"totalWeightedRefinedPrediction\": 2.8769402503967285}, {\"lowerThresholdInclusive\": 0.48, \"upperThresholdExclusive\": 0.481, \"numWeightedExamples\": 6.0, \"totalWeightedLabel\": 4.0, \"totalWeightedRefinedPrediction\": 2.8822034299373627}, {\"lowerThresholdInclusive\": 0.481, \"upperThresholdExclusive\": 0.482, \"numWeightedExamples\": 3.0, \"totalWeightedLabel\": 1.0, \"totalWeightedRefinedPrediction\": 1.444411963224411}, {\"lowerThresholdInclusive\": 0.482, \"upperThresholdExclusive\": 0.483, \"numWeightedExamples\": 7.0, \"totalWeightedLabel\": 3.0, \"totalWeightedRefinedPrediction\": 3.3764531314373016}, {\"lowerThresholdInclusive\": 0.483, \"upperThresholdExclusive\": 0.484, \"numWeightedExamples\": 4.0, \"totalWeightedLabel\": 3.0, \"totalWeightedRefinedPrediction\": 1.934525042772293}, {\"lowerThresholdInclusive\": 0.484, \"upperThresholdExclusive\": 0.485, \"numWeightedExamples\": 7.0, \"totalWeightedLabel\": 2.0, \"totalWeightedRefinedPrediction\": 3.3898148238658905}, {\"lowerThresholdInclusive\": 0.485, \"upperThresholdExclusive\": 0.486, \"numWeightedExamples\": 7.0, \"totalWeightedLabel\": 4.0, \"totalWeightedRefinedPrediction\": 3.398740291595459}, {\"lowerThresholdInclusive\": 0.486, \"upperThresholdExclusive\": 0.487, \"numWeightedExamples\": 8.0, \"totalWeightedLabel\": 6.0, \"totalWeightedRefinedPrediction\": 3.892236202955246}, {\"lowerThresholdInclusive\": 0.487, \"upperThresholdExclusive\": 0.488, \"numWeightedExamples\": 6.0, \"totalWeightedLabel\": 2.0, \"totalWeightedRefinedPrediction\": 2.925149530172348}, {\"lowerThresholdInclusive\": 0.488, \"upperThresholdExclusive\": 0.489, \"numWeightedExamples\": 5.0, \"totalWeightedLabel\": 1.0, \"totalWeightedRefinedPrediction\": 2.4434584081172943}, {\"lowerThresholdInclusive\": 0.489, \"upperThresholdExclusive\": 0.49, \"numWeightedExamples\": 10.0, \"totalWeightedLabel\": 4.0, \"totalWeightedRefinedPrediction\": 4.894451141357422}, {\"lowerThresholdInclusive\": 0.49, \"upperThresholdExclusive\": 0.491, \"numWeightedExamples\": 12.0, \"totalWeightedLabel\": 3.0, \"totalWeightedRefinedPrediction\": 5.885294497013092}, {\"lowerThresholdInclusive\": 0.491, \"upperThresholdExclusive\": 0.492, \"numWeightedExamples\": 7.0, \"totalWeightedLabel\": 4.0, \"totalWeightedRefinedPrediction\": 3.4390718042850494}, {\"lowerThresholdInclusive\": 0.492, \"upperThresholdExclusive\": 0.493, \"numWeightedExamples\": 4.0, \"totalWeightedLabel\": 0.0, \"totalWeightedRefinedPrediction\": 1.970043033361435}, {\"lowerThresholdInclusive\": 0.493, \"upperThresholdExclusive\": 0.494, \"numWeightedExamples\": 2.0, \"totalWeightedLabel\": 0.0, \"totalWeightedRefinedPrediction\": 0.9872269332408905}, {\"lowerThresholdInclusive\": 0.494, \"upperThresholdExclusive\": 0.495, \"numWeightedExamples\": 7.0, \"totalWeightedLabel\": 5.0, \"totalWeightedRefinedPrediction\": 3.461258202791214}, {\"lowerThresholdInclusive\": 0.495, \"upperThresholdExclusive\": 0.496, \"numWeightedExamples\": 2.0, \"totalWeightedLabel\": 0.0, \"totalWeightedRefinedPrediction\": 0.9912392497062683}, {\"lowerThresholdInclusive\": 0.496, \"upperThresholdExclusive\": 0.497, \"numWeightedExamples\": 3.0, \"totalWeightedLabel\": 1.0, \"totalWeightedRefinedPrediction\": 1.4892950654029846}, {\"lowerThresholdInclusive\": 0.497, \"upperThresholdExclusive\": 0.498, \"numWeightedExamples\": 5.0, \"totalWeightedLabel\": 2.0, \"totalWeightedRefinedPrediction\": 2.4867507815361023}, {\"lowerThresholdInclusive\": 0.498, \"upperThresholdExclusive\": 0.499, \"numWeightedExamples\": 5.0, \"totalWeightedLabel\": 2.0, \"totalWeightedRefinedPrediction\": 2.4936090409755707}, {\"lowerThresholdInclusive\": 0.499, \"upperThresholdExclusive\": 0.5, \"numWeightedExamples\": 6.0, \"totalWeightedLabel\": 3.0, \"totalWeightedRefinedPrediction\": 2.9969259202480316}, {\"lowerThresholdInclusive\": 0.5, \"upperThresholdExclusive\": 0.501, \"numWeightedExamples\": 10.0, \"totalWeightedLabel\": 3.0, \"totalWeightedRefinedPrediction\": 5.006520986557007}, {\"lowerThresholdInclusive\": 0.501, \"upperThresholdExclusive\": 0.502, \"numWeightedExamples\": 8.0, \"totalWeightedLabel\": 2.0, \"totalWeightedRefinedPrediction\": 4.01167356967926}, {\"lowerThresholdInclusive\": 0.502, \"upperThresholdExclusive\": 0.503, \"numWeightedExamples\": 4.0, \"totalWeightedLabel\": 2.0, \"totalWeightedRefinedPrediction\": 2.0099169611930847}, {\"lowerThresholdInclusive\": 0.503, \"upperThresholdExclusive\": 0.504, \"numWeightedExamples\": 7.0, \"totalWeightedLabel\": 4.0, \"totalWeightedRefinedPrediction\": 3.522519588470459}, {\"lowerThresholdInclusive\": 0.504, \"upperThresholdExclusive\": 0.505, \"numWeightedExamples\": 10.0, \"totalWeightedLabel\": 4.0, \"totalWeightedRefinedPrediction\": 5.045774936676025}, {\"lowerThresholdInclusive\": 0.505, \"upperThresholdExclusive\": 0.506, \"numWeightedExamples\": 3.0, \"totalWeightedLabel\": 0.0, \"totalWeightedRefinedPrediction\": 1.5173403024673462}, {\"lowerThresholdInclusive\": 0.506, \"upperThresholdExclusive\": 0.507, \"numWeightedExamples\": 4.0, \"totalWeightedLabel\": 1.0, \"totalWeightedRefinedPrediction\": 2.0258432626724243}, {\"lowerThresholdInclusive\": 0.507, \"upperThresholdExclusive\": 0.508, \"numWeightedExamples\": 9.0, \"totalWeightedLabel\": 5.0, \"totalWeightedRefinedPrediction\": 4.5664331912994385}, {\"lowerThresholdInclusive\": 0.508, \"upperThresholdExclusive\": 0.509, \"numWeightedExamples\": 4.0, \"totalWeightedLabel\": 2.0, \"totalWeightedRefinedPrediction\": 2.0325027108192444}, {\"lowerThresholdInclusive\": 0.509, \"upperThresholdExclusive\": 0.51, \"numWeightedExamples\": 7.0, \"totalWeightedLabel\": 5.0, \"totalWeightedRefinedPrediction\": 3.5672823190689087}, {\"lowerThresholdInclusive\": 0.51, \"upperThresholdExclusive\": 0.511, \"numWeightedExamples\": 4.0, \"totalWeightedLabel\": 2.0, \"totalWeightedRefinedPrediction\": 2.0430456399917603}, {\"lowerThresholdInclusive\": 0.511, \"upperThresholdExclusive\": 0.512, \"numWeightedExamples\": 7.0, \"totalWeightedLabel\": 2.0, \"totalWeightedRefinedPrediction\": 3.5813897848129272}, {\"lowerThresholdInclusive\": 0.512, \"upperThresholdExclusive\": 0.513, \"numWeightedExamples\": 3.0, \"totalWeightedLabel\": 1.0, \"totalWeightedRefinedPrediction\": 1.5369768142700195}, {\"lowerThresholdInclusive\": 0.513, \"upperThresholdExclusive\": 0.514, \"numWeightedExamples\": 7.0, \"totalWeightedLabel\": 4.0, \"totalWeightedRefinedPrediction\": 3.5943495631217957}, {\"lowerThresholdInclusive\": 0.514, \"upperThresholdExclusive\": 0.515, \"numWeightedExamples\": 4.0, \"totalWeightedLabel\": 3.0, \"totalWeightedRefinedPrediction\": 2.0572450757026672}, {\"lowerThresholdInclusive\": 0.515, \"upperThresholdExclusive\": 0.516, \"numWeightedExamples\": 6.0, \"totalWeightedLabel\": 3.0, \"totalWeightedRefinedPrediction\": 3.0934343338012695}, {\"lowerThresholdInclusive\": 0.516, \"upperThresholdExclusive\": 0.517, \"numWeightedExamples\": 5.0, \"totalWeightedLabel\": 0.0, \"totalWeightedRefinedPrediction\": 2.582701027393341}, {\"lowerThresholdInclusive\": 0.517, \"upperThresholdExclusive\": 0.518, \"numWeightedExamples\": 6.0, \"totalWeightedLabel\": 4.0, \"totalWeightedRefinedPrediction\": 3.1047133207321167}, {\"lowerThresholdInclusive\": 0.518, \"upperThresholdExclusive\": 0.519, \"numWeightedExamples\": 5.0, \"totalWeightedLabel\": 5.0, \"totalWeightedRefinedPrediction\": 2.5911741256713867}, {\"lowerThresholdInclusive\": 0.519, \"upperThresholdExclusive\": 0.52, \"numWeightedExamples\": 3.0, \"totalWeightedLabel\": 1.0, \"totalWeightedRefinedPrediction\": 1.5582619309425354}, {\"lowerThresholdInclusive\": 0.52, \"upperThresholdExclusive\": 0.521, \"numWeightedExamples\": 5.0, \"totalWeightedLabel\": 0.0, \"totalWeightedRefinedPrediction\": 2.60216748714447}, {\"lowerThresholdInclusive\": 0.521, \"upperThresholdExclusive\": 0.522, \"numWeightedExamples\": 2.0, \"totalWeightedLabel\": 0.0, \"totalWeightedRefinedPrediction\": 1.0431210398674011}, {\"lowerThresholdInclusive\": 0.522, \"upperThresholdExclusive\": 0.523, \"numWeightedExamples\": 5.0, \"totalWeightedLabel\": 3.0, \"totalWeightedRefinedPrediction\": 2.6127883791923523}, {\"lowerThresholdInclusive\": 0.523, \"upperThresholdExclusive\": 0.524, \"numWeightedExamples\": 1.0, \"totalWeightedLabel\": 0.0, \"totalWeightedRefinedPrediction\": 0.5237448215484619}, {\"lowerThresholdInclusive\": 0.524, \"upperThresholdExclusive\": 0.525, \"numWeightedExamples\": 8.0, \"totalWeightedLabel\": 2.0, \"totalWeightedRefinedPrediction\": 4.196960866451263}, {\"lowerThresholdInclusive\": 0.525, \"upperThresholdExclusive\": 0.526, \"numWeightedExamples\": 5.0, \"totalWeightedLabel\": 2.0, \"totalWeightedRefinedPrediction\": 2.6278958916664124}, {\"lowerThresholdInclusive\": 0.526, \"upperThresholdExclusive\": 0.527, \"numWeightedExamples\": 2.0, \"totalWeightedLabel\": 2.0, \"totalWeightedRefinedPrediction\": 1.0533205270767212}, {\"lowerThresholdInclusive\": 0.527, \"upperThresholdExclusive\": 0.528, \"numWeightedExamples\": 3.0, \"totalWeightedLabel\": 0.0, \"totalWeightedRefinedPrediction\": 1.5831392407417297}, {\"lowerThresholdInclusive\": 0.528, \"upperThresholdExclusive\": 0.529, \"numWeightedExamples\": 7.0, \"totalWeightedLabel\": 4.0, \"totalWeightedRefinedPrediction\": 3.6996342539787292}, {\"lowerThresholdInclusive\": 0.529, \"upperThresholdExclusive\": 0.53, \"numWeightedExamples\": 6.0, \"totalWeightedLabel\": 3.0, \"totalWeightedRefinedPrediction\": 3.1777615547180176}, {\"lowerThresholdInclusive\": 0.53, \"upperThresholdExclusive\": 0.531, \"numWeightedExamples\": 3.0, \"totalWeightedLabel\": 2.0, \"totalWeightedRefinedPrediction\": 1.5904005765914917}, {\"lowerThresholdInclusive\": 0.531, \"upperThresholdExclusive\": 0.532, \"numWeightedExamples\": 6.0, \"totalWeightedLabel\": 3.0, \"totalWeightedRefinedPrediction\": 3.1882588267326355}, {\"lowerThresholdInclusive\": 0.532, \"upperThresholdExclusive\": 0.533, \"numWeightedExamples\": 5.0, \"totalWeightedLabel\": 3.0, \"totalWeightedRefinedPrediction\": 2.6634342670440674}, {\"lowerThresholdInclusive\": 0.533, \"upperThresholdExclusive\": 0.534, \"numWeightedExamples\": 2.0, \"totalWeightedLabel\": 0.0, \"totalWeightedRefinedPrediction\": 1.0663954615592957}, {\"lowerThresholdInclusive\": 0.534, \"upperThresholdExclusive\": 0.535, \"numWeightedExamples\": 2.0, \"totalWeightedLabel\": 0.0, \"totalWeightedRefinedPrediction\": 1.0696722269058228}, {\"lowerThresholdInclusive\": 0.535, \"upperThresholdExclusive\": 0.536, \"numWeightedExamples\": 5.0, \"totalWeightedLabel\": 0.0, \"totalWeightedRefinedPrediction\": 2.677784264087677}, {\"lowerThresholdInclusive\": 0.536, \"upperThresholdExclusive\": 0.537, \"numWeightedExamples\": 3.0, \"totalWeightedLabel\": 2.0, \"totalWeightedRefinedPrediction\": 1.609374761581421}, {\"lowerThresholdInclusive\": 0.537, \"upperThresholdExclusive\": 0.538, \"numWeightedExamples\": 3.0, \"totalWeightedLabel\": 2.0, \"totalWeightedRefinedPrediction\": 1.6131305694580078}, {\"lowerThresholdInclusive\": 0.538, \"upperThresholdExclusive\": 0.539, \"numWeightedExamples\": 9.0, \"totalWeightedLabel\": 4.0, \"totalWeightedRefinedPrediction\": 4.846503734588623}, {\"lowerThresholdInclusive\": 0.539, \"upperThresholdExclusive\": 0.54, \"numWeightedExamples\": 8.0, \"totalWeightedLabel\": 1.0, \"totalWeightedRefinedPrediction\": 4.314734160900116}, {\"lowerThresholdInclusive\": 0.54, \"upperThresholdExclusive\": 0.541, \"numWeightedExamples\": 6.0, \"totalWeightedLabel\": 1.0, \"totalWeightedRefinedPrediction\": 3.243179142475128}, {\"lowerThresholdInclusive\": 0.541, \"upperThresholdExclusive\": 0.542, \"numWeightedExamples\": 7.0, \"totalWeightedLabel\": 3.0, \"totalWeightedRefinedPrediction\": 3.790299713611603}, {\"lowerThresholdInclusive\": 0.542, \"upperThresholdExclusive\": 0.543, \"numWeightedExamples\": 5.0, \"totalWeightedLabel\": 1.0, \"totalWeightedRefinedPrediction\": 2.711890935897827}, {\"lowerThresholdInclusive\": 0.543, \"upperThresholdExclusive\": 0.544, \"numWeightedExamples\": 6.0, \"totalWeightedLabel\": 1.0, \"totalWeightedRefinedPrediction\": 3.2608450651168823}, {\"lowerThresholdInclusive\": 0.544, \"upperThresholdExclusive\": 0.545, \"numWeightedExamples\": 4.0, \"totalWeightedLabel\": 1.0, \"totalWeightedRefinedPrediction\": 2.177203357219696}, {\"lowerThresholdInclusive\": 0.545, \"upperThresholdExclusive\": 0.546, \"numWeightedExamples\": 3.0, \"totalWeightedLabel\": 1.0, \"totalWeightedRefinedPrediction\": 1.6364313960075378}, {\"lowerThresholdInclusive\": 0.546, \"upperThresholdExclusive\": 0.547, \"numWeightedExamples\": 3.0, \"totalWeightedLabel\": 1.0, \"totalWeightedRefinedPrediction\": 1.6400997638702393}, {\"lowerThresholdInclusive\": 0.547, \"upperThresholdExclusive\": 0.548, \"numWeightedExamples\": 4.0, \"totalWeightedLabel\": 2.0, \"totalWeightedRefinedPrediction\": 2.1905500292778015}, {\"lowerThresholdInclusive\": 0.548, \"upperThresholdExclusive\": 0.549, \"numWeightedExamples\": 4.0, \"totalWeightedLabel\": 3.0, \"totalWeightedRefinedPrediction\": 2.193956434726715}, {\"lowerThresholdInclusive\": 0.549, \"upperThresholdExclusive\": 0.55, \"numWeightedExamples\": 9.0, \"totalWeightedLabel\": 4.0, \"totalWeightedRefinedPrediction\": 4.945943057537079}, {\"lowerThresholdInclusive\": 0.55, \"upperThresholdExclusive\": 0.551, \"numWeightedExamples\": 4.0, \"totalWeightedLabel\": 2.0, \"totalWeightedRefinedPrediction\": 2.200871169567108}, {\"lowerThresholdInclusive\": 0.551, \"upperThresholdExclusive\": 0.552, \"numWeightedExamples\": 11.0, \"totalWeightedLabel\": 4.0, \"totalWeightedRefinedPrediction\": 6.065131425857544}, {\"lowerThresholdInclusive\": 0.552, \"upperThresholdExclusive\": 0.553, \"numWeightedExamples\": 8.0, \"totalWeightedLabel\": 4.0, \"totalWeightedRefinedPrediction\": 4.420667886734009}, {\"lowerThresholdInclusive\": 0.553, \"upperThresholdExclusive\": 0.554, \"numWeightedExamples\": 6.0, \"totalWeightedLabel\": 1.0, \"totalWeightedRefinedPrediction\": 3.3223703503608704}, {\"lowerThresholdInclusive\": 0.554, \"upperThresholdExclusive\": 0.555, \"numWeightedExamples\": 4.0, \"totalWeightedLabel\": 1.0, \"totalWeightedRefinedPrediction\": 2.218241810798645}, {\"lowerThresholdInclusive\": 0.555, \"upperThresholdExclusive\": 0.556, \"numWeightedExamples\": 1.0, \"totalWeightedLabel\": 1.0, \"totalWeightedRefinedPrediction\": 0.5556029677391052}, {\"lowerThresholdInclusive\": 0.556, \"upperThresholdExclusive\": 0.557, \"numWeightedExamples\": 9.0, \"totalWeightedLabel\": 4.0, \"totalWeightedRefinedPrediction\": 5.009672403335571}, {\"lowerThresholdInclusive\": 0.557, \"upperThresholdExclusive\": 0.558, \"numWeightedExamples\": 2.0, \"totalWeightedLabel\": 1.0, \"totalWeightedRefinedPrediction\": 1.115221083164215}, {\"lowerThresholdInclusive\": 0.558, \"upperThresholdExclusive\": 0.559, \"numWeightedExamples\": 4.0, \"totalWeightedLabel\": 3.0, \"totalWeightedRefinedPrediction\": 2.2337335348129272}, {\"lowerThresholdInclusive\": 0.559, \"upperThresholdExclusive\": 0.56, \"numWeightedExamples\": 1.0, \"totalWeightedLabel\": 1.0, \"totalWeightedRefinedPrediction\": 0.559798002243042}, {\"lowerThresholdInclusive\": 0.56, \"upperThresholdExclusive\": 0.561, \"numWeightedExamples\": 4.0, \"totalWeightedLabel\": 2.0, \"totalWeightedRefinedPrediction\": 2.2422354221343994}, {\"lowerThresholdInclusive\": 0.561, \"upperThresholdExclusive\": 0.562, \"numWeightedExamples\": 10.0, \"totalWeightedLabel\": 3.0, \"totalWeightedRefinedPrediction\": 5.617318570613861}, {\"lowerThresholdInclusive\": 0.562, \"upperThresholdExclusive\": 0.563, \"numWeightedExamples\": 8.0, \"totalWeightedLabel\": 1.0, \"totalWeightedRefinedPrediction\": 4.500996351242065}, {\"lowerThresholdInclusive\": 0.563, \"upperThresholdExclusive\": 0.564, \"numWeightedExamples\": 3.0, \"totalWeightedLabel\": 3.0, \"totalWeightedRefinedPrediction\": 1.6903632879257202}, {\"lowerThresholdInclusive\": 0.564, \"upperThresholdExclusive\": 0.565, \"numWeightedExamples\": 3.0, \"totalWeightedLabel\": 3.0, \"totalWeightedRefinedPrediction\": 1.693723738193512}, {\"lowerThresholdInclusive\": 0.565, \"upperThresholdExclusive\": 0.566, \"numWeightedExamples\": 2.0, \"totalWeightedLabel\": 2.0, \"totalWeightedRefinedPrediction\": 1.1306166052818298}, {\"lowerThresholdInclusive\": 0.566, \"upperThresholdExclusive\": 0.567, \"numWeightedExamples\": 6.0, \"totalWeightedLabel\": 2.0, \"totalWeightedRefinedPrediction\": 3.3994765877723694}, {\"lowerThresholdInclusive\": 0.567, \"upperThresholdExclusive\": 0.568, \"numWeightedExamples\": 3.0, \"totalWeightedLabel\": 2.0, \"totalWeightedRefinedPrediction\": 1.7029492259025574}, {\"lowerThresholdInclusive\": 0.568, \"upperThresholdExclusive\": 0.569, \"numWeightedExamples\": 3.0, \"totalWeightedLabel\": 1.0, \"totalWeightedRefinedPrediction\": 1.705665946006775}, {\"lowerThresholdInclusive\": 0.569, \"upperThresholdExclusive\": 0.57, \"numWeightedExamples\": 6.0, \"totalWeightedLabel\": 4.0, \"totalWeightedRefinedPrediction\": 3.418221414089203}, {\"lowerThresholdInclusive\": 0.57, \"upperThresholdExclusive\": 0.571, \"numWeightedExamples\": 0.0, \"totalWeightedLabel\": 0.0, \"totalWeightedRefinedPrediction\": 0.0}, {\"lowerThresholdInclusive\": 0.571, \"upperThresholdExclusive\": 0.572, \"numWeightedExamples\": 5.0, \"totalWeightedLabel\": 3.0, \"totalWeightedRefinedPrediction\": 2.858268618583679}, {\"lowerThresholdInclusive\": 0.572, \"upperThresholdExclusive\": 0.573, \"numWeightedExamples\": 5.0, \"totalWeightedLabel\": 3.0, \"totalWeightedRefinedPrediction\": 2.861894369125366}, {\"lowerThresholdInclusive\": 0.573, \"upperThresholdExclusive\": 0.574, \"numWeightedExamples\": 3.0, \"totalWeightedLabel\": 1.0, \"totalWeightedRefinedPrediction\": 1.7201200723648071}, {\"lowerThresholdInclusive\": 0.574, \"upperThresholdExclusive\": 0.575, \"numWeightedExamples\": 6.0, \"totalWeightedLabel\": 4.0, \"totalWeightedRefinedPrediction\": 3.44889235496521}, {\"lowerThresholdInclusive\": 0.575, \"upperThresholdExclusive\": 0.576, \"numWeightedExamples\": 1.0, \"totalWeightedLabel\": 0.0, \"totalWeightedRefinedPrediction\": 0.5756649971008301}, {\"lowerThresholdInclusive\": 0.576, \"upperThresholdExclusive\": 0.577, \"numWeightedExamples\": 2.0, \"totalWeightedLabel\": 1.0, \"totalWeightedRefinedPrediction\": 1.1532308459281921}, {\"lowerThresholdInclusive\": 0.577, \"upperThresholdExclusive\": 0.578, \"numWeightedExamples\": 5.0, \"totalWeightedLabel\": 3.0, \"totalWeightedRefinedPrediction\": 2.8882557153701782}, {\"lowerThresholdInclusive\": 0.578, \"upperThresholdExclusive\": 0.579, \"numWeightedExamples\": 4.0, \"totalWeightedLabel\": 2.0, \"totalWeightedRefinedPrediction\": 2.3143191933631897}, {\"lowerThresholdInclusive\": 0.579, \"upperThresholdExclusive\": 0.58, \"numWeightedExamples\": 5.0, \"totalWeightedLabel\": 3.0, \"totalWeightedRefinedPrediction\": 2.89719820022583}, {\"lowerThresholdInclusive\": 0.58, \"upperThresholdExclusive\": 0.581, \"numWeightedExamples\": 7.0, \"totalWeightedLabel\": 3.0, \"totalWeightedRefinedPrediction\": 4.061642348766327}, {\"lowerThresholdInclusive\": 0.581, \"upperThresholdExclusive\": 0.582, \"numWeightedExamples\": 6.0, \"totalWeightedLabel\": 3.0, \"totalWeightedRefinedPrediction\": 3.4883172512054443}, {\"lowerThresholdInclusive\": 0.582, \"upperThresholdExclusive\": 0.583, \"numWeightedExamples\": 6.0, \"totalWeightedLabel\": 2.0, \"totalWeightedRefinedPrediction\": 3.4947425723075867}, {\"lowerThresholdInclusive\": 0.583, \"upperThresholdExclusive\": 0.584, \"numWeightedExamples\": 5.0, \"totalWeightedLabel\": 2.0, \"totalWeightedRefinedPrediction\": 2.918023109436035}, {\"lowerThresholdInclusive\": 0.584, \"upperThresholdExclusive\": 0.585, \"numWeightedExamples\": 5.0, \"totalWeightedLabel\": 2.0, \"totalWeightedRefinedPrediction\": 2.9227081537246704}, {\"lowerThresholdInclusive\": 0.585, \"upperThresholdExclusive\": 0.586, \"numWeightedExamples\": 4.0, \"totalWeightedLabel\": 3.0, \"totalWeightedRefinedPrediction\": 2.341194808483124}, {\"lowerThresholdInclusive\": 0.586, \"upperThresholdExclusive\": 0.587, \"numWeightedExamples\": 5.0, \"totalWeightedLabel\": 2.0, \"totalWeightedRefinedPrediction\": 2.9318403005599976}, {\"lowerThresholdInclusive\": 0.587, \"upperThresholdExclusive\": 0.588, \"numWeightedExamples\": 5.0, \"totalWeightedLabel\": 3.0, \"totalWeightedRefinedPrediction\": 2.938305914402008}, {\"lowerThresholdInclusive\": 0.588, \"upperThresholdExclusive\": 0.589, \"numWeightedExamples\": 3.0, \"totalWeightedLabel\": 3.0, \"totalWeightedRefinedPrediction\": 1.7650403380393982}, {\"lowerThresholdInclusive\": 0.589, \"upperThresholdExclusive\": 0.59, \"numWeightedExamples\": 5.0, \"totalWeightedLabel\": 3.0, \"totalWeightedRefinedPrediction\": 2.9479103684425354}, {\"lowerThresholdInclusive\": 0.59, \"upperThresholdExclusive\": 0.591, \"numWeightedExamples\": 4.0, \"totalWeightedLabel\": 1.0, \"totalWeightedRefinedPrediction\": 2.3614367842674255}, {\"lowerThresholdInclusive\": 0.591, \"upperThresholdExclusive\": 0.592, \"numWeightedExamples\": 0.0, \"totalWeightedLabel\": 0.0, \"totalWeightedRefinedPrediction\": 0.0}, {\"lowerThresholdInclusive\": 0.592, \"upperThresholdExclusive\": 0.593, \"numWeightedExamples\": 5.0, \"totalWeightedLabel\": 2.0, \"totalWeightedRefinedPrediction\": 2.9610605239868164}, {\"lowerThresholdInclusive\": 0.593, \"upperThresholdExclusive\": 0.594, \"numWeightedExamples\": 7.0, \"totalWeightedLabel\": 5.0, \"totalWeightedRefinedPrediction\": 4.1545451283454895}, {\"lowerThresholdInclusive\": 0.594, \"upperThresholdExclusive\": 0.595, \"numWeightedExamples\": 5.0, \"totalWeightedLabel\": 2.0, \"totalWeightedRefinedPrediction\": 2.97123920917511}, {\"lowerThresholdInclusive\": 0.595, \"upperThresholdExclusive\": 0.596, \"numWeightedExamples\": 4.0, \"totalWeightedLabel\": 3.0, \"totalWeightedRefinedPrediction\": 2.3817888498306274}, {\"lowerThresholdInclusive\": 0.596, \"upperThresholdExclusive\": 0.597, \"numWeightedExamples\": 7.0, \"totalWeightedLabel\": 4.0, \"totalWeightedRefinedPrediction\": 4.1746023297309875}, {\"lowerThresholdInclusive\": 0.597, \"upperThresholdExclusive\": 0.598, \"numWeightedExamples\": 4.0, \"totalWeightedLabel\": 4.0, \"totalWeightedRefinedPrediction\": 2.3902273178100586}, {\"lowerThresholdInclusive\": 0.598, \"upperThresholdExclusive\": 0.599, \"numWeightedExamples\": 7.0, \"totalWeightedLabel\": 3.0, \"totalWeightedRefinedPrediction\": 4.189401924610138}, {\"lowerThresholdInclusive\": 0.599, \"upperThresholdExclusive\": 0.6, \"numWeightedExamples\": 3.0, \"totalWeightedLabel\": 0.0, \"totalWeightedRefinedPrediction\": 1.7985826134681702}, {\"lowerThresholdInclusive\": 0.6, \"upperThresholdExclusive\": 0.601, \"numWeightedExamples\": 1.0, \"totalWeightedLabel\": 0.0, \"totalWeightedRefinedPrediction\": 0.6008619666099548}, {\"lowerThresholdInclusive\": 0.601, \"upperThresholdExclusive\": 0.602, \"numWeightedExamples\": 5.0, \"totalWeightedLabel\": 2.0, \"totalWeightedRefinedPrediction\": 3.0081838369369507}, {\"lowerThresholdInclusive\": 0.602, \"upperThresholdExclusive\": 0.603, \"numWeightedExamples\": 9.0, \"totalWeightedLabel\": 3.0, \"totalWeightedRefinedPrediction\": 5.424158811569214}, {\"lowerThresholdInclusive\": 0.603, \"upperThresholdExclusive\": 0.604, \"numWeightedExamples\": 2.0, \"totalWeightedLabel\": 0.0, \"totalWeightedRefinedPrediction\": 1.2066500782966614}, {\"lowerThresholdInclusive\": 0.604, \"upperThresholdExclusive\": 0.605, \"numWeightedExamples\": 3.0, \"totalWeightedLabel\": 3.0, \"totalWeightedRefinedPrediction\": 1.813897728919983}, {\"lowerThresholdInclusive\": 0.605, \"upperThresholdExclusive\": 0.606, \"numWeightedExamples\": 6.0, \"totalWeightedLabel\": 4.0, \"totalWeightedRefinedPrediction\": 3.6336634159088135}, {\"lowerThresholdInclusive\": 0.606, \"upperThresholdExclusive\": 0.607, \"numWeightedExamples\": 4.0, \"totalWeightedLabel\": 1.0, \"totalWeightedRefinedPrediction\": 2.4254974126815796}, {\"lowerThresholdInclusive\": 0.607, \"upperThresholdExclusive\": 0.608, \"numWeightedExamples\": 4.0, \"totalWeightedLabel\": 2.0, \"totalWeightedRefinedPrediction\": 2.4306995272636414}, {\"lowerThresholdInclusive\": 0.608, \"upperThresholdExclusive\": 0.609, \"numWeightedExamples\": 1.0, \"totalWeightedLabel\": 1.0, \"totalWeightedRefinedPrediction\": 0.608964741230011}, {\"lowerThresholdInclusive\": 0.609, \"upperThresholdExclusive\": 0.61, \"numWeightedExamples\": 1.0, \"totalWeightedLabel\": 0.0, \"totalWeightedRefinedPrediction\": 0.6090352535247803}, {\"lowerThresholdInclusive\": 0.61, \"upperThresholdExclusive\": 0.611, \"numWeightedExamples\": 5.0, \"totalWeightedLabel\": 1.0, \"totalWeightedRefinedPrediction\": 3.052809417247772}, {\"lowerThresholdInclusive\": 0.611, \"upperThresholdExclusive\": 0.612, \"numWeightedExamples\": 4.0, \"totalWeightedLabel\": 3.0, \"totalWeightedRefinedPrediction\": 2.44599586725235}, {\"lowerThresholdInclusive\": 0.612, \"upperThresholdExclusive\": 0.613, \"numWeightedExamples\": 8.0, \"totalWeightedLabel\": 5.0, \"totalWeightedRefinedPrediction\": 4.898305296897888}, {\"lowerThresholdInclusive\": 0.613, \"upperThresholdExclusive\": 0.614, \"numWeightedExamples\": 12.0, \"totalWeightedLabel\": 7.0, \"totalWeightedRefinedPrediction\": 7.3610987067222595}, {\"lowerThresholdInclusive\": 0.614, \"upperThresholdExclusive\": 0.615, \"numWeightedExamples\": 6.0, \"totalWeightedLabel\": 1.0, \"totalWeightedRefinedPrediction\": 3.6861255764961243}, {\"lowerThresholdInclusive\": 0.615, \"upperThresholdExclusive\": 0.616, \"numWeightedExamples\": 5.0, \"totalWeightedLabel\": 2.0, \"totalWeightedRefinedPrediction\": 3.0779375433921814}, {\"lowerThresholdInclusive\": 0.616, \"upperThresholdExclusive\": 0.617, \"numWeightedExamples\": 4.0, \"totalWeightedLabel\": 2.0, \"totalWeightedRefinedPrediction\": 2.466767132282257}, {\"lowerThresholdInclusive\": 0.617, \"upperThresholdExclusive\": 0.618, \"numWeightedExamples\": 5.0, \"totalWeightedLabel\": 3.0, \"totalWeightedRefinedPrediction\": 3.0891019701957703}, {\"lowerThresholdInclusive\": 0.618, \"upperThresholdExclusive\": 0.619, \"numWeightedExamples\": 4.0, \"totalWeightedLabel\": 4.0, \"totalWeightedRefinedPrediction\": 2.4735148549079895}, {\"lowerThresholdInclusive\": 0.619, \"upperThresholdExclusive\": 0.62, \"numWeightedExamples\": 3.0, \"totalWeightedLabel\": 1.0, \"totalWeightedRefinedPrediction\": 1.8577109575271606}, {\"lowerThresholdInclusive\": 0.62, \"upperThresholdExclusive\": 0.621, \"numWeightedExamples\": 4.0, \"totalWeightedLabel\": 1.0, \"totalWeightedRefinedPrediction\": 2.4807419776916504}, {\"lowerThresholdInclusive\": 0.621, \"upperThresholdExclusive\": 0.622, \"numWeightedExamples\": 10.0, \"totalWeightedLabel\": 5.0, \"totalWeightedRefinedPrediction\": 6.214242100715637}, {\"lowerThresholdInclusive\": 0.622, \"upperThresholdExclusive\": 0.623, \"numWeightedExamples\": 10.0, \"totalWeightedLabel\": 4.0, \"totalWeightedRefinedPrediction\": 6.224863171577454}, {\"lowerThresholdInclusive\": 0.623, \"upperThresholdExclusive\": 0.624, \"numWeightedExamples\": 9.0, \"totalWeightedLabel\": 4.0, \"totalWeightedRefinedPrediction\": 5.612197160720825}, {\"lowerThresholdInclusive\": 0.624, \"upperThresholdExclusive\": 0.625, \"numWeightedExamples\": 5.0, \"totalWeightedLabel\": 0.0, \"totalWeightedRefinedPrediction\": 3.122583746910095}, {\"lowerThresholdInclusive\": 0.625, \"upperThresholdExclusive\": 0.626, \"numWeightedExamples\": 4.0, \"totalWeightedLabel\": 3.0, \"totalWeightedRefinedPrediction\": 2.5018957257270813}, {\"lowerThresholdInclusive\": 0.626, \"upperThresholdExclusive\": 0.627, \"numWeightedExamples\": 3.0, \"totalWeightedLabel\": 1.0, \"totalWeightedRefinedPrediction\": 1.8797513842582703}, {\"lowerThresholdInclusive\": 0.627, \"upperThresholdExclusive\": 0.628, \"numWeightedExamples\": 6.0, \"totalWeightedLabel\": 4.0, \"totalWeightedRefinedPrediction\": 3.7651261687278748}, {\"lowerThresholdInclusive\": 0.628, \"upperThresholdExclusive\": 0.629, \"numWeightedExamples\": 6.0, \"totalWeightedLabel\": 3.0, \"totalWeightedRefinedPrediction\": 3.7712730765342712}, {\"lowerThresholdInclusive\": 0.629, \"upperThresholdExclusive\": 0.63, \"numWeightedExamples\": 4.0, \"totalWeightedLabel\": 0.0, \"totalWeightedRefinedPrediction\": 2.518119215965271}, {\"lowerThresholdInclusive\": 0.63, \"upperThresholdExclusive\": 0.631, \"numWeightedExamples\": 5.0, \"totalWeightedLabel\": 2.0, \"totalWeightedRefinedPrediction\": 3.1528652906417847}, {\"lowerThresholdInclusive\": 0.631, \"upperThresholdExclusive\": 0.632, \"numWeightedExamples\": 3.0, \"totalWeightedLabel\": 1.0, \"totalWeightedRefinedPrediction\": 1.8948708176612854}, {\"lowerThresholdInclusive\": 0.632, \"upperThresholdExclusive\": 0.633, \"numWeightedExamples\": 5.0, \"totalWeightedLabel\": 4.0, \"totalWeightedRefinedPrediction\": 3.1625832319259644}, {\"lowerThresholdInclusive\": 0.633, \"upperThresholdExclusive\": 0.634, \"numWeightedExamples\": 4.0, \"totalWeightedLabel\": 1.0, \"totalWeightedRefinedPrediction\": 2.5339324474334717}, {\"lowerThresholdInclusive\": 0.634, \"upperThresholdExclusive\": 0.635, \"numWeightedExamples\": 1.0, \"totalWeightedLabel\": 0.0, \"totalWeightedRefinedPrediction\": 0.6347270011901855}, {\"lowerThresholdInclusive\": 0.635, \"upperThresholdExclusive\": 0.636, \"numWeightedExamples\": 4.0, \"totalWeightedLabel\": 4.0, \"totalWeightedRefinedPrediction\": 2.542804718017578}, {\"lowerThresholdInclusive\": 0.636, \"upperThresholdExclusive\": 0.637, \"numWeightedExamples\": 5.0, \"totalWeightedLabel\": 3.0, \"totalWeightedRefinedPrediction\": 3.181823253631592}, {\"lowerThresholdInclusive\": 0.637, \"upperThresholdExclusive\": 0.638, \"numWeightedExamples\": 4.0, \"totalWeightedLabel\": 2.0, \"totalWeightedRefinedPrediction\": 2.550085186958313}, {\"lowerThresholdInclusive\": 0.638, \"upperThresholdExclusive\": 0.639, \"numWeightedExamples\": 5.0, \"totalWeightedLabel\": 2.0, \"totalWeightedRefinedPrediction\": 3.1919196248054504}, {\"lowerThresholdInclusive\": 0.639, \"upperThresholdExclusive\": 0.64, \"numWeightedExamples\": 2.0, \"totalWeightedLabel\": 2.0, \"totalWeightedRefinedPrediction\": 1.2792332172393799}, {\"lowerThresholdInclusive\": 0.64, \"upperThresholdExclusive\": 0.641, \"numWeightedExamples\": 3.0, \"totalWeightedLabel\": 0.0, \"totalWeightedRefinedPrediction\": 1.921533226966858}, {\"lowerThresholdInclusive\": 0.641, \"upperThresholdExclusive\": 0.642, \"numWeightedExamples\": 5.0, \"totalWeightedLabel\": 3.0, \"totalWeightedRefinedPrediction\": 3.2082948684692383}, {\"lowerThresholdInclusive\": 0.642, \"upperThresholdExclusive\": 0.643, \"numWeightedExamples\": 7.0, \"totalWeightedLabel\": 3.0, \"totalWeightedRefinedPrediction\": 4.497098982334137}, {\"lowerThresholdInclusive\": 0.643, \"upperThresholdExclusive\": 0.644, \"numWeightedExamples\": 3.0, \"totalWeightedLabel\": 2.0, \"totalWeightedRefinedPrediction\": 1.930566430091858}, {\"lowerThresholdInclusive\": 0.644, \"upperThresholdExclusive\": 0.645, \"numWeightedExamples\": 4.0, \"totalWeightedLabel\": 4.0, \"totalWeightedRefinedPrediction\": 2.5786659717559814}, {\"lowerThresholdInclusive\": 0.645, \"upperThresholdExclusive\": 0.646, \"numWeightedExamples\": 1.0, \"totalWeightedLabel\": 1.0, \"totalWeightedRefinedPrediction\": 0.6454624533653259}, {\"lowerThresholdInclusive\": 0.646, \"upperThresholdExclusive\": 0.647, \"numWeightedExamples\": 5.0, \"totalWeightedLabel\": 0.0, \"totalWeightedRefinedPrediction\": 3.231209933757782}, {\"lowerThresholdInclusive\": 0.647, \"upperThresholdExclusive\": 0.648, \"numWeightedExamples\": 6.0, \"totalWeightedLabel\": 2.0, \"totalWeightedRefinedPrediction\": 3.8855629563331604}, {\"lowerThresholdInclusive\": 0.648, \"upperThresholdExclusive\": 0.649, \"numWeightedExamples\": 4.0, \"totalWeightedLabel\": 3.0, \"totalWeightedRefinedPrediction\": 2.593883693218231}, {\"lowerThresholdInclusive\": 0.649, \"upperThresholdExclusive\": 0.65, \"numWeightedExamples\": 3.0, \"totalWeightedLabel\": 1.0, \"totalWeightedRefinedPrediction\": 1.9490262269973755}, {\"lowerThresholdInclusive\": 0.65, \"upperThresholdExclusive\": 0.651, \"numWeightedExamples\": 2.0, \"totalWeightedLabel\": 2.0, \"totalWeightedRefinedPrediction\": 1.3019883036613464}, {\"lowerThresholdInclusive\": 0.651, \"upperThresholdExclusive\": 0.652, \"numWeightedExamples\": 3.0, \"totalWeightedLabel\": 2.0, \"totalWeightedRefinedPrediction\": 1.9541082978248596}, {\"lowerThresholdInclusive\": 0.652, \"upperThresholdExclusive\": 0.653, \"numWeightedExamples\": 5.0, \"totalWeightedLabel\": 3.0, \"totalWeightedRefinedPrediction\": 3.2620837092399597}, {\"lowerThresholdInclusive\": 0.653, \"upperThresholdExclusive\": 0.654, \"numWeightedExamples\": 4.0, \"totalWeightedLabel\": 3.0, \"totalWeightedRefinedPrediction\": 2.6140005588531494}, {\"lowerThresholdInclusive\": 0.654, \"upperThresholdExclusive\": 0.655, \"numWeightedExamples\": 5.0, \"totalWeightedLabel\": 3.0, \"totalWeightedRefinedPrediction\": 3.2730939984321594}, {\"lowerThresholdInclusive\": 0.655, \"upperThresholdExclusive\": 0.656, \"numWeightedExamples\": 9.0, \"totalWeightedLabel\": 5.0, \"totalWeightedRefinedPrediction\": 5.899525225162506}, {\"lowerThresholdInclusive\": 0.656, \"upperThresholdExclusive\": 0.657, \"numWeightedExamples\": 3.0, \"totalWeightedLabel\": 1.0, \"totalWeightedRefinedPrediction\": 1.9685649871826172}, {\"lowerThresholdInclusive\": 0.657, \"upperThresholdExclusive\": 0.658, \"numWeightedExamples\": 6.0, \"totalWeightedLabel\": 4.0, \"totalWeightedRefinedPrediction\": 3.9455893635749817}, {\"lowerThresholdInclusive\": 0.658, \"upperThresholdExclusive\": 0.659, \"numWeightedExamples\": 7.0, \"totalWeightedLabel\": 3.0, \"totalWeightedRefinedPrediction\": 4.608878076076508}, {\"lowerThresholdInclusive\": 0.659, \"upperThresholdExclusive\": 0.66, \"numWeightedExamples\": 5.0, \"totalWeightedLabel\": 2.0, \"totalWeightedRefinedPrediction\": 3.2984703183174133}, {\"lowerThresholdInclusive\": 0.66, \"upperThresholdExclusive\": 0.661, \"numWeightedExamples\": 4.0, \"totalWeightedLabel\": 0.0, \"totalWeightedRefinedPrediction\": 2.641592025756836}, {\"lowerThresholdInclusive\": 0.661, \"upperThresholdExclusive\": 0.662, \"numWeightedExamples\": 7.0, \"totalWeightedLabel\": 5.0, \"totalWeightedRefinedPrediction\": 4.628295958042145}, {\"lowerThresholdInclusive\": 0.662, \"upperThresholdExclusive\": 0.663, \"numWeightedExamples\": 6.0, \"totalWeightedLabel\": 3.0, \"totalWeightedRefinedPrediction\": 3.9763846397399902}, {\"lowerThresholdInclusive\": 0.663, \"upperThresholdExclusive\": 0.664, \"numWeightedExamples\": 0.0, \"totalWeightedLabel\": 0.0, \"totalWeightedRefinedPrediction\": 0.0}, {\"lowerThresholdInclusive\": 0.664, \"upperThresholdExclusive\": 0.665, \"numWeightedExamples\": 4.0, \"totalWeightedLabel\": 2.0, \"totalWeightedRefinedPrediction\": 2.6584754586219788}, {\"lowerThresholdInclusive\": 0.665, \"upperThresholdExclusive\": 0.666, \"numWeightedExamples\": 2.0, \"totalWeightedLabel\": 1.0, \"totalWeightedRefinedPrediction\": 1.3303177952766418}, {\"lowerThresholdInclusive\": 0.666, \"upperThresholdExclusive\": 0.667, \"numWeightedExamples\": 5.0, \"totalWeightedLabel\": 5.0, \"totalWeightedRefinedPrediction\": 3.3337537050247192}, {\"lowerThresholdInclusive\": 0.667, \"upperThresholdExclusive\": 0.668, \"numWeightedExamples\": 3.0, \"totalWeightedLabel\": 1.0, \"totalWeightedRefinedPrediction\": 2.0020185708999634}, {\"lowerThresholdInclusive\": 0.668, \"upperThresholdExclusive\": 0.669, \"numWeightedExamples\": 4.0, \"totalWeightedLabel\": 1.0, \"totalWeightedRefinedPrediction\": 2.6743603944778442}, {\"lowerThresholdInclusive\": 0.669, \"upperThresholdExclusive\": 0.67, \"numWeightedExamples\": 3.0, \"totalWeightedLabel\": 1.0, \"totalWeightedRefinedPrediction\": 2.0090439319610596}, {\"lowerThresholdInclusive\": 0.67, \"upperThresholdExclusive\": 0.671, \"numWeightedExamples\": 6.0, \"totalWeightedLabel\": 2.0, \"totalWeightedRefinedPrediction\": 4.023607432842255}, {\"lowerThresholdInclusive\": 0.671, \"upperThresholdExclusive\": 0.672, \"numWeightedExamples\": 6.0, \"totalWeightedLabel\": 4.0, \"totalWeightedRefinedPrediction\": 4.029482901096344}, {\"lowerThresholdInclusive\": 0.672, \"upperThresholdExclusive\": 0.673, \"numWeightedExamples\": 3.0, \"totalWeightedLabel\": 3.0, \"totalWeightedRefinedPrediction\": 2.017637610435486}, {\"lowerThresholdInclusive\": 0.673, \"upperThresholdExclusive\": 0.674, \"numWeightedExamples\": 7.0, \"totalWeightedLabel\": 6.0, \"totalWeightedRefinedPrediction\": 4.714287638664246}, {\"lowerThresholdInclusive\": 0.674, \"upperThresholdExclusive\": 0.675, \"numWeightedExamples\": 8.0, \"totalWeightedLabel\": 5.0, \"totalWeightedRefinedPrediction\": 5.397788166999817}, {\"lowerThresholdInclusive\": 0.675, \"upperThresholdExclusive\": 0.676, \"numWeightedExamples\": 2.0, \"totalWeightedLabel\": 1.0, \"totalWeightedRefinedPrediction\": 1.351934552192688}, {\"lowerThresholdInclusive\": 0.676, \"upperThresholdExclusive\": 0.677, \"numWeightedExamples\": 8.0, \"totalWeightedLabel\": 4.0, \"totalWeightedRefinedPrediction\": 5.413143754005432}, {\"lowerThresholdInclusive\": 0.677, \"upperThresholdExclusive\": 0.678, \"numWeightedExamples\": 2.0, \"totalWeightedLabel\": 1.0, \"totalWeightedRefinedPrediction\": 1.3546627759933472}, {\"lowerThresholdInclusive\": 0.678, \"upperThresholdExclusive\": 0.679, \"numWeightedExamples\": 5.0, \"totalWeightedLabel\": 3.0, \"totalWeightedRefinedPrediction\": 3.392116904258728}, {\"lowerThresholdInclusive\": 0.679, \"upperThresholdExclusive\": 0.68, \"numWeightedExamples\": 6.0, \"totalWeightedLabel\": 4.0, \"totalWeightedRefinedPrediction\": 4.076962351799011}, {\"lowerThresholdInclusive\": 0.68, \"upperThresholdExclusive\": 0.681, \"numWeightedExamples\": 4.0, \"totalWeightedLabel\": 2.0, \"totalWeightedRefinedPrediction\": 2.7209431529045105}, {\"lowerThresholdInclusive\": 0.681, \"upperThresholdExclusive\": 0.682, \"numWeightedExamples\": 7.0, \"totalWeightedLabel\": 3.0, \"totalWeightedRefinedPrediction\": 4.771540820598602}, {\"lowerThresholdInclusive\": 0.682, \"upperThresholdExclusive\": 0.683, \"numWeightedExamples\": 4.0, \"totalWeightedLabel\": 1.0, \"totalWeightedRefinedPrediction\": 2.7302668690681458}, {\"lowerThresholdInclusive\": 0.683, \"upperThresholdExclusive\": 0.684, \"numWeightedExamples\": 8.0, \"totalWeightedLabel\": 6.0, \"totalWeightedRefinedPrediction\": 5.469270944595337}, {\"lowerThresholdInclusive\": 0.684, \"upperThresholdExclusive\": 0.685, \"numWeightedExamples\": 5.0, \"totalWeightedLabel\": 2.0, \"totalWeightedRefinedPrediction\": 3.423028588294983}, {\"lowerThresholdInclusive\": 0.685, \"upperThresholdExclusive\": 0.686, \"numWeightedExamples\": 4.0, \"totalWeightedLabel\": 4.0, \"totalWeightedRefinedPrediction\": 2.741364300251007}, {\"lowerThresholdInclusive\": 0.686, \"upperThresholdExclusive\": 0.687, \"numWeightedExamples\": 10.0, \"totalWeightedLabel\": 6.0, \"totalWeightedRefinedPrediction\": 6.86526095867157}, {\"lowerThresholdInclusive\": 0.687, \"upperThresholdExclusive\": 0.688, \"numWeightedExamples\": 7.0, \"totalWeightedLabel\": 4.0, \"totalWeightedRefinedPrediction\": 4.813049733638763}, {\"lowerThresholdInclusive\": 0.688, \"upperThresholdExclusive\": 0.689, \"numWeightedExamples\": 8.0, \"totalWeightedLabel\": 6.0, \"totalWeightedRefinedPrediction\": 5.508864939212799}, {\"lowerThresholdInclusive\": 0.689, \"upperThresholdExclusive\": 0.69, \"numWeightedExamples\": 9.0, \"totalWeightedLabel\": 6.0, \"totalWeightedRefinedPrediction\": 6.204576671123505}, {\"lowerThresholdInclusive\": 0.69, \"upperThresholdExclusive\": 0.691, \"numWeightedExamples\": 7.0, \"totalWeightedLabel\": 5.0, \"totalWeightedRefinedPrediction\": 4.834123015403748}, {\"lowerThresholdInclusive\": 0.691, \"upperThresholdExclusive\": 0.692, \"numWeightedExamples\": 3.0, \"totalWeightedLabel\": 2.0, \"totalWeightedRefinedPrediction\": 2.074229598045349}, {\"lowerThresholdInclusive\": 0.692, \"upperThresholdExclusive\": 0.693, \"numWeightedExamples\": 5.0, \"totalWeightedLabel\": 3.0, \"totalWeightedRefinedPrediction\": 3.461985468864441}, {\"lowerThresholdInclusive\": 0.693, \"upperThresholdExclusive\": 0.694, \"numWeightedExamples\": 4.0, \"totalWeightedLabel\": 1.0, \"totalWeightedRefinedPrediction\": 2.7731687426567078}, {\"lowerThresholdInclusive\": 0.694, \"upperThresholdExclusive\": 0.695, \"numWeightedExamples\": 3.0, \"totalWeightedLabel\": 2.0, \"totalWeightedRefinedPrediction\": 2.08420991897583}, {\"lowerThresholdInclusive\": 0.695, \"upperThresholdExclusive\": 0.696, \"numWeightedExamples\": 3.0, \"totalWeightedLabel\": 1.0, \"totalWeightedRefinedPrediction\": 2.086532950401306}, {\"lowerThresholdInclusive\": 0.696, \"upperThresholdExclusive\": 0.697, \"numWeightedExamples\": 5.0, \"totalWeightedLabel\": 5.0, \"totalWeightedRefinedPrediction\": 3.482431709766388}, {\"lowerThresholdInclusive\": 0.697, \"upperThresholdExclusive\": 0.698, \"numWeightedExamples\": 1.0, \"totalWeightedLabel\": 1.0, \"totalWeightedRefinedPrediction\": 0.6970059871673584}, {\"lowerThresholdInclusive\": 0.698, \"upperThresholdExclusive\": 0.699, \"numWeightedExamples\": 6.0, \"totalWeightedLabel\": 3.0, \"totalWeightedRefinedPrediction\": 4.189949452877045}, {\"lowerThresholdInclusive\": 0.699, \"upperThresholdExclusive\": 0.7, \"numWeightedExamples\": 6.0, \"totalWeightedLabel\": 4.0, \"totalWeightedRefinedPrediction\": 4.196521997451782}, {\"lowerThresholdInclusive\": 0.7, \"upperThresholdExclusive\": 0.701, \"numWeightedExamples\": 9.0, \"totalWeightedLabel\": 8.0, \"totalWeightedRefinedPrediction\": 6.303709983825684}, {\"lowerThresholdInclusive\": 0.701, \"upperThresholdExclusive\": 0.702, \"numWeightedExamples\": 7.0, \"totalWeightedLabel\": 5.0, \"totalWeightedRefinedPrediction\": 4.9108357429504395}, {\"lowerThresholdInclusive\": 0.702, \"upperThresholdExclusive\": 0.703, \"numWeightedExamples\": 5.0, \"totalWeightedLabel\": 3.0, \"totalWeightedRefinedPrediction\": 3.5115315318107605}, {\"lowerThresholdInclusive\": 0.703, \"upperThresholdExclusive\": 0.704, \"numWeightedExamples\": 5.0, \"totalWeightedLabel\": 3.0, \"totalWeightedRefinedPrediction\": 3.5176320672035217}, {\"lowerThresholdInclusive\": 0.704, \"upperThresholdExclusive\": 0.705, \"numWeightedExamples\": 7.0, \"totalWeightedLabel\": 3.0, \"totalWeightedRefinedPrediction\": 4.931067228317261}, {\"lowerThresholdInclusive\": 0.705, \"upperThresholdExclusive\": 0.706, \"numWeightedExamples\": 3.0, \"totalWeightedLabel\": 2.0, \"totalWeightedRefinedPrediction\": 2.1161834597587585}, {\"lowerThresholdInclusive\": 0.706, \"upperThresholdExclusive\": 0.707, \"numWeightedExamples\": 2.0, \"totalWeightedLabel\": 0.0, \"totalWeightedRefinedPrediction\": 1.4131045937538147}, {\"lowerThresholdInclusive\": 0.707, \"upperThresholdExclusive\": 0.708, \"numWeightedExamples\": 1.0, \"totalWeightedLabel\": 0.0, \"totalWeightedRefinedPrediction\": 0.7073178291320801}, {\"lowerThresholdInclusive\": 0.708, \"upperThresholdExclusive\": 0.709, \"numWeightedExamples\": 3.0, \"totalWeightedLabel\": 3.0, \"totalWeightedRefinedPrediction\": 2.1255809664726257}, {\"lowerThresholdInclusive\": 0.709, \"upperThresholdExclusive\": 0.71, \"numWeightedExamples\": 5.0, \"totalWeightedLabel\": 3.0, \"totalWeightedRefinedPrediction\": 3.54692679643631}, {\"lowerThresholdInclusive\": 0.71, \"upperThresholdExclusive\": 0.711, \"numWeightedExamples\": 3.0, \"totalWeightedLabel\": 0.0, \"totalWeightedRefinedPrediction\": 2.131206750869751}, {\"lowerThresholdInclusive\": 0.711, \"upperThresholdExclusive\": 0.712, \"numWeightedExamples\": 10.0, \"totalWeightedLabel\": 5.0, \"totalWeightedRefinedPrediction\": 7.114544212818146}, {\"lowerThresholdInclusive\": 0.712, \"upperThresholdExclusive\": 0.713, \"numWeightedExamples\": 5.0, \"totalWeightedLabel\": 1.0, \"totalWeightedRefinedPrediction\": 3.5628678798675537}, {\"lowerThresholdInclusive\": 0.713, \"upperThresholdExclusive\": 0.714, \"numWeightedExamples\": 5.0, \"totalWeightedLabel\": 3.0, \"totalWeightedRefinedPrediction\": 3.567168354988098}, {\"lowerThresholdInclusive\": 0.714, \"upperThresholdExclusive\": 0.715, \"numWeightedExamples\": 8.0, \"totalWeightedLabel\": 7.0, \"totalWeightedRefinedPrediction\": 5.717403411865234}, {\"lowerThresholdInclusive\": 0.715, \"upperThresholdExclusive\": 0.716, \"numWeightedExamples\": 1.0, \"totalWeightedLabel\": 1.0, \"totalWeightedRefinedPrediction\": 0.7152931094169617}, {\"lowerThresholdInclusive\": 0.716, \"upperThresholdExclusive\": 0.717, \"numWeightedExamples\": 3.0, \"totalWeightedLabel\": 3.0, \"totalWeightedRefinedPrediction\": 2.1483646631240845}, {\"lowerThresholdInclusive\": 0.717, \"upperThresholdExclusive\": 0.718, \"numWeightedExamples\": 1.0, \"totalWeightedLabel\": 1.0, \"totalWeightedRefinedPrediction\": 0.7173656225204468}, {\"lowerThresholdInclusive\": 0.718, \"upperThresholdExclusive\": 0.719, \"numWeightedExamples\": 2.0, \"totalWeightedLabel\": 1.0, \"totalWeightedRefinedPrediction\": 1.4367259740829468}, {\"lowerThresholdInclusive\": 0.719, \"upperThresholdExclusive\": 0.72, \"numWeightedExamples\": 4.0, \"totalWeightedLabel\": 2.0, \"totalWeightedRefinedPrediction\": 2.87887966632843}, {\"lowerThresholdInclusive\": 0.72, \"upperThresholdExclusive\": 0.721, \"numWeightedExamples\": 2.0, \"totalWeightedLabel\": 1.0, \"totalWeightedRefinedPrediction\": 1.4407445788383484}, {\"lowerThresholdInclusive\": 0.721, \"upperThresholdExclusive\": 0.722, \"numWeightedExamples\": 2.0, \"totalWeightedLabel\": 2.0, \"totalWeightedRefinedPrediction\": 1.4431309700012207}, {\"lowerThresholdInclusive\": 0.722, \"upperThresholdExclusive\": 0.723, \"numWeightedExamples\": 2.0, \"totalWeightedLabel\": 2.0, \"totalWeightedRefinedPrediction\": 1.4453840851783752}, {\"lowerThresholdInclusive\": 0.723, \"upperThresholdExclusive\": 0.724, \"numWeightedExamples\": 0.0, \"totalWeightedLabel\": 0.0, \"totalWeightedRefinedPrediction\": 0.0}, {\"lowerThresholdInclusive\": 0.724, \"upperThresholdExclusive\": 0.725, \"numWeightedExamples\": 3.0, \"totalWeightedLabel\": 2.0, \"totalWeightedRefinedPrediction\": 2.174005389213562}, {\"lowerThresholdInclusive\": 0.725, \"upperThresholdExclusive\": 0.726, \"numWeightedExamples\": 5.0, \"totalWeightedLabel\": 1.0, \"totalWeightedRefinedPrediction\": 3.6269065141677856}, {\"lowerThresholdInclusive\": 0.726, \"upperThresholdExclusive\": 0.727, \"numWeightedExamples\": 7.0, \"totalWeightedLabel\": 4.0, \"totalWeightedRefinedPrediction\": 5.0843706130981445}, {\"lowerThresholdInclusive\": 0.727, \"upperThresholdExclusive\": 0.728, \"numWeightedExamples\": 6.0, \"totalWeightedLabel\": 6.0, \"totalWeightedRefinedPrediction\": 4.36430150270462}, {\"lowerThresholdInclusive\": 0.728, \"upperThresholdExclusive\": 0.729, \"numWeightedExamples\": 4.0, \"totalWeightedLabel\": 3.0, \"totalWeightedRefinedPrediction\": 2.913128912448883}, {\"lowerThresholdInclusive\": 0.729, \"upperThresholdExclusive\": 0.73, \"numWeightedExamples\": 5.0, \"totalWeightedLabel\": 5.0, \"totalWeightedRefinedPrediction\": 3.647938072681427}, {\"lowerThresholdInclusive\": 0.73, \"upperThresholdExclusive\": 0.731, \"numWeightedExamples\": 4.0, \"totalWeightedLabel\": 4.0, \"totalWeightedRefinedPrediction\": 2.922503352165222}, {\"lowerThresholdInclusive\": 0.731, \"upperThresholdExclusive\": 0.732, \"numWeightedExamples\": 6.0, \"totalWeightedLabel\": 3.0, \"totalWeightedRefinedPrediction\": 4.388511300086975}, {\"lowerThresholdInclusive\": 0.732, \"upperThresholdExclusive\": 0.733, \"numWeightedExamples\": 3.0, \"totalWeightedLabel\": 2.0, \"totalWeightedRefinedPrediction\": 2.1969438791275024}, {\"lowerThresholdInclusive\": 0.733, \"upperThresholdExclusive\": 0.734, \"numWeightedExamples\": 5.0, \"totalWeightedLabel\": 2.0, \"totalWeightedRefinedPrediction\": 3.6681655645370483}, {\"lowerThresholdInclusive\": 0.734, \"upperThresholdExclusive\": 0.735, \"numWeightedExamples\": 5.0, \"totalWeightedLabel\": 4.0, \"totalWeightedRefinedPrediction\": 3.6726287603378296}, {\"lowerThresholdInclusive\": 0.735, \"upperThresholdExclusive\": 0.736, \"numWeightedExamples\": 8.0, \"totalWeightedLabel\": 3.0, \"totalWeightedRefinedPrediction\": 5.883642554283142}, {\"lowerThresholdInclusive\": 0.736, \"upperThresholdExclusive\": 0.737, \"numWeightedExamples\": 2.0, \"totalWeightedLabel\": 2.0, \"totalWeightedRefinedPrediction\": 1.4732326865196228}, {\"lowerThresholdInclusive\": 0.737, \"upperThresholdExclusive\": 0.738, \"numWeightedExamples\": 5.0, \"totalWeightedLabel\": 4.0, \"totalWeightedRefinedPrediction\": 3.687162160873413}, {\"lowerThresholdInclusive\": 0.738, \"upperThresholdExclusive\": 0.739, \"numWeightedExamples\": 6.0, \"totalWeightedLabel\": 5.0, \"totalWeightedRefinedPrediction\": 4.4300180077552795}, {\"lowerThresholdInclusive\": 0.739, \"upperThresholdExclusive\": 0.74, \"numWeightedExamples\": 4.0, \"totalWeightedLabel\": 3.0, \"totalWeightedRefinedPrediction\": 2.958411991596222}, {\"lowerThresholdInclusive\": 0.74, \"upperThresholdExclusive\": 0.741, \"numWeightedExamples\": 7.0, \"totalWeightedLabel\": 5.0, \"totalWeightedRefinedPrediction\": 5.183663487434387}, {\"lowerThresholdInclusive\": 0.741, \"upperThresholdExclusive\": 0.742, \"numWeightedExamples\": 9.0, \"totalWeightedLabel\": 4.0, \"totalWeightedRefinedPrediction\": 6.6728063225746155}, {\"lowerThresholdInclusive\": 0.742, \"upperThresholdExclusive\": 0.743, \"numWeightedExamples\": 8.0, \"totalWeightedLabel\": 6.0, \"totalWeightedRefinedPrediction\": 5.940335333347321}, {\"lowerThresholdInclusive\": 0.743, \"upperThresholdExclusive\": 0.744, \"numWeightedExamples\": 4.0, \"totalWeightedLabel\": 2.0, \"totalWeightedRefinedPrediction\": 2.9745384454727173}, {\"lowerThresholdInclusive\": 0.744, \"upperThresholdExclusive\": 0.745, \"numWeightedExamples\": 7.0, \"totalWeightedLabel\": 4.0, \"totalWeightedRefinedPrediction\": 5.210051357746124}, {\"lowerThresholdInclusive\": 0.745, \"upperThresholdExclusive\": 0.746, \"numWeightedExamples\": 4.0, \"totalWeightedLabel\": 3.0, \"totalWeightedRefinedPrediction\": 2.98132860660553}, {\"lowerThresholdInclusive\": 0.746, \"upperThresholdExclusive\": 0.747, \"numWeightedExamples\": 4.0, \"totalWeightedLabel\": 3.0, \"totalWeightedRefinedPrediction\": 2.987015187740326}, {\"lowerThresholdInclusive\": 0.747, \"upperThresholdExclusive\": 0.748, \"numWeightedExamples\": 11.0, \"totalWeightedLabel\": 5.0, \"totalWeightedRefinedPrediction\": 8.22155749797821}, {\"lowerThresholdInclusive\": 0.748, \"upperThresholdExclusive\": 0.749, \"numWeightedExamples\": 6.0, \"totalWeightedLabel\": 4.0, \"totalWeightedRefinedPrediction\": 4.492404460906982}, {\"lowerThresholdInclusive\": 0.749, \"upperThresholdExclusive\": 0.75, \"numWeightedExamples\": 8.0, \"totalWeightedLabel\": 3.0, \"totalWeightedRefinedPrediction\": 5.994582653045654}, {\"lowerThresholdInclusive\": 0.75, \"upperThresholdExclusive\": 0.751, \"numWeightedExamples\": 7.0, \"totalWeightedLabel\": 4.0, \"totalWeightedRefinedPrediction\": 5.25264573097229}, {\"lowerThresholdInclusive\": 0.751, \"upperThresholdExclusive\": 0.752, \"numWeightedExamples\": 3.0, \"totalWeightedLabel\": 1.0, \"totalWeightedRefinedPrediction\": 2.25492399930954}, {\"lowerThresholdInclusive\": 0.752, \"upperThresholdExclusive\": 0.753, \"numWeightedExamples\": 4.0, \"totalWeightedLabel\": 3.0, \"totalWeightedRefinedPrediction\": 3.0099944472312927}, {\"lowerThresholdInclusive\": 0.753, \"upperThresholdExclusive\": 0.754, \"numWeightedExamples\": 3.0, \"totalWeightedLabel\": 0.0, \"totalWeightedRefinedPrediction\": 2.2604299783706665}, {\"lowerThresholdInclusive\": 0.754, \"upperThresholdExclusive\": 0.755, \"numWeightedExamples\": 7.0, \"totalWeightedLabel\": 6.0, \"totalWeightedRefinedPrediction\": 5.281342625617981}, {\"lowerThresholdInclusive\": 0.755, \"upperThresholdExclusive\": 0.756, \"numWeightedExamples\": 3.0, \"totalWeightedLabel\": 1.0, \"totalWeightedRefinedPrediction\": 2.266197919845581}, {\"lowerThresholdInclusive\": 0.756, \"upperThresholdExclusive\": 0.757, \"numWeightedExamples\": 5.0, \"totalWeightedLabel\": 3.0, \"totalWeightedRefinedPrediction\": 3.782376229763031}, {\"lowerThresholdInclusive\": 0.757, \"upperThresholdExclusive\": 0.758, \"numWeightedExamples\": 5.0, \"totalWeightedLabel\": 3.0, \"totalWeightedRefinedPrediction\": 3.787822902202606}, {\"lowerThresholdInclusive\": 0.758, \"upperThresholdExclusive\": 0.759, \"numWeightedExamples\": 2.0, \"totalWeightedLabel\": 2.0, \"totalWeightedRefinedPrediction\": 1.516701579093933}, {\"lowerThresholdInclusive\": 0.759, \"upperThresholdExclusive\": 0.76, \"numWeightedExamples\": 4.0, \"totalWeightedLabel\": 2.0, \"totalWeightedRefinedPrediction\": 3.038281738758087}, {\"lowerThresholdInclusive\": 0.76, \"upperThresholdExclusive\": 0.761, \"numWeightedExamples\": 8.0, \"totalWeightedLabel\": 5.0, \"totalWeightedRefinedPrediction\": 6.0829272866249084}, {\"lowerThresholdInclusive\": 0.761, \"upperThresholdExclusive\": 0.762, \"numWeightedExamples\": 5.0, \"totalWeightedLabel\": 3.0, \"totalWeightedRefinedPrediction\": 3.8080921173095703}, {\"lowerThresholdInclusive\": 0.762, \"upperThresholdExclusive\": 0.763, \"numWeightedExamples\": 7.0, \"totalWeightedLabel\": 1.0, \"totalWeightedRefinedPrediction\": 5.337707459926605}, {\"lowerThresholdInclusive\": 0.763, \"upperThresholdExclusive\": 0.764, \"numWeightedExamples\": 4.0, \"totalWeightedLabel\": 3.0, \"totalWeightedRefinedPrediction\": 3.0545299649238586}, {\"lowerThresholdInclusive\": 0.764, \"upperThresholdExclusive\": 0.765, \"numWeightedExamples\": 5.0, \"totalWeightedLabel\": 3.0, \"totalWeightedRefinedPrediction\": 3.8222070932388306}, {\"lowerThresholdInclusive\": 0.765, \"upperThresholdExclusive\": 0.766, \"numWeightedExamples\": 5.0, \"totalWeightedLabel\": 4.0, \"totalWeightedRefinedPrediction\": 3.8268211483955383}, {\"lowerThresholdInclusive\": 0.766, \"upperThresholdExclusive\": 0.767, \"numWeightedExamples\": 7.0, \"totalWeightedLabel\": 1.0, \"totalWeightedRefinedPrediction\": 5.365473687648773}, {\"lowerThresholdInclusive\": 0.767, \"upperThresholdExclusive\": 0.768, \"numWeightedExamples\": 5.0, \"totalWeightedLabel\": 4.0, \"totalWeightedRefinedPrediction\": 3.837134838104248}, {\"lowerThresholdInclusive\": 0.768, \"upperThresholdExclusive\": 0.769, \"numWeightedExamples\": 6.0, \"totalWeightedLabel\": 1.0, \"totalWeightedRefinedPrediction\": 4.611432075500488}, {\"lowerThresholdInclusive\": 0.769, \"upperThresholdExclusive\": 0.77, \"numWeightedExamples\": 5.0, \"totalWeightedLabel\": 3.0, \"totalWeightedRefinedPrediction\": 3.847812533378601}, {\"lowerThresholdInclusive\": 0.77, \"upperThresholdExclusive\": 0.771, \"numWeightedExamples\": 13.0, \"totalWeightedLabel\": 11.0, \"totalWeightedRefinedPrediction\": 10.01579874753952}, {\"lowerThresholdInclusive\": 0.771, \"upperThresholdExclusive\": 0.772, \"numWeightedExamples\": 8.0, \"totalWeightedLabel\": 5.0, \"totalWeightedRefinedPrediction\": 6.1723246574401855}, {\"lowerThresholdInclusive\": 0.772, \"upperThresholdExclusive\": 0.773, \"numWeightedExamples\": 6.0, \"totalWeightedLabel\": 5.0, \"totalWeightedRefinedPrediction\": 4.6355003118515015}, {\"lowerThresholdInclusive\": 0.773, \"upperThresholdExclusive\": 0.774, \"numWeightedExamples\": 5.0, \"totalWeightedLabel\": 4.0, \"totalWeightedRefinedPrediction\": 3.8669177293777466}, {\"lowerThresholdInclusive\": 0.774, \"upperThresholdExclusive\": 0.775, \"numWeightedExamples\": 4.0, \"totalWeightedLabel\": 3.0, \"totalWeightedRefinedPrediction\": 3.0976274609565735}, {\"lowerThresholdInclusive\": 0.775, \"upperThresholdExclusive\": 0.776, \"numWeightedExamples\": 4.0, \"totalWeightedLabel\": 2.0, \"totalWeightedRefinedPrediction\": 3.1017494201660156}, {\"lowerThresholdInclusive\": 0.776, \"upperThresholdExclusive\": 0.777, \"numWeightedExamples\": 8.0, \"totalWeightedLabel\": 5.0, \"totalWeightedRefinedPrediction\": 6.212355554103851}, {\"lowerThresholdInclusive\": 0.777, \"upperThresholdExclusive\": 0.778, \"numWeightedExamples\": 10.0, \"totalWeightedLabel\": 8.0, \"totalWeightedRefinedPrediction\": 7.774230122566223}, {\"lowerThresholdInclusive\": 0.778, \"upperThresholdExclusive\": 0.779, \"numWeightedExamples\": 1.0, \"totalWeightedLabel\": 0.0, \"totalWeightedRefinedPrediction\": 0.7781003713607788}, {\"lowerThresholdInclusive\": 0.779, \"upperThresholdExclusive\": 0.78, \"numWeightedExamples\": 10.0, \"totalWeightedLabel\": 6.0, \"totalWeightedRefinedPrediction\": 7.794592916965485}, {\"lowerThresholdInclusive\": 0.78, \"upperThresholdExclusive\": 0.781, \"numWeightedExamples\": 4.0, \"totalWeightedLabel\": 3.0, \"totalWeightedRefinedPrediction\": 3.1214457750320435}, {\"lowerThresholdInclusive\": 0.781, \"upperThresholdExclusive\": 0.782, \"numWeightedExamples\": 5.0, \"totalWeightedLabel\": 3.0, \"totalWeightedRefinedPrediction\": 3.9075319170951843}, {\"lowerThresholdInclusive\": 0.782, \"upperThresholdExclusive\": 0.783, \"numWeightedExamples\": 5.0, \"totalWeightedLabel\": 1.0, \"totalWeightedRefinedPrediction\": 3.9136141538619995}, {\"lowerThresholdInclusive\": 0.783, \"upperThresholdExclusive\": 0.784, \"numWeightedExamples\": 7.0, \"totalWeightedLabel\": 6.0, \"totalWeightedRefinedPrediction\": 5.485009729862213}, {\"lowerThresholdInclusive\": 0.784, \"upperThresholdExclusive\": 0.785, \"numWeightedExamples\": 3.0, \"totalWeightedLabel\": 1.0, \"totalWeightedRefinedPrediction\": 2.35381543636322}, {\"lowerThresholdInclusive\": 0.785, \"upperThresholdExclusive\": 0.786, \"numWeightedExamples\": 5.0, \"totalWeightedLabel\": 4.0, \"totalWeightedRefinedPrediction\": 3.926480293273926}, {\"lowerThresholdInclusive\": 0.786, \"upperThresholdExclusive\": 0.787, \"numWeightedExamples\": 7.0, \"totalWeightedLabel\": 4.0, \"totalWeightedRefinedPrediction\": 5.505337655544281}, {\"lowerThresholdInclusive\": 0.787, \"upperThresholdExclusive\": 0.788, \"numWeightedExamples\": 3.0, \"totalWeightedLabel\": 3.0, \"totalWeightedRefinedPrediction\": 2.3636550307273865}, {\"lowerThresholdInclusive\": 0.788, \"upperThresholdExclusive\": 0.789, \"numWeightedExamples\": 2.0, \"totalWeightedLabel\": 1.0, \"totalWeightedRefinedPrediction\": 1.576322615146637}, {\"lowerThresholdInclusive\": 0.789, \"upperThresholdExclusive\": 0.79, \"numWeightedExamples\": 2.0, \"totalWeightedLabel\": 1.0, \"totalWeightedRefinedPrediction\": 1.579636812210083}, {\"lowerThresholdInclusive\": 0.79, \"upperThresholdExclusive\": 0.791, \"numWeightedExamples\": 4.0, \"totalWeightedLabel\": 2.0, \"totalWeightedRefinedPrediction\": 3.1616867780685425}, {\"lowerThresholdInclusive\": 0.791, \"upperThresholdExclusive\": 0.792, \"numWeightedExamples\": 2.0, \"totalWeightedLabel\": 1.0, \"totalWeightedRefinedPrediction\": 1.5837684869766235}, {\"lowerThresholdInclusive\": 0.792, \"upperThresholdExclusive\": 0.793, \"numWeightedExamples\": 6.0, \"totalWeightedLabel\": 5.0, \"totalWeightedRefinedPrediction\": 4.7537848353385925}, {\"lowerThresholdInclusive\": 0.793, \"upperThresholdExclusive\": 0.794, \"numWeightedExamples\": 6.0, \"totalWeightedLabel\": 2.0, \"totalWeightedRefinedPrediction\": 4.760765552520752}, {\"lowerThresholdInclusive\": 0.794, \"upperThresholdExclusive\": 0.795, \"numWeightedExamples\": 10.0, \"totalWeightedLabel\": 6.0, \"totalWeightedRefinedPrediction\": 7.94474071264267}, {\"lowerThresholdInclusive\": 0.795, \"upperThresholdExclusive\": 0.796, \"numWeightedExamples\": 6.0, \"totalWeightedLabel\": 4.0, \"totalWeightedRefinedPrediction\": 4.773860991001129}, {\"lowerThresholdInclusive\": 0.796, \"upperThresholdExclusive\": 0.797, \"numWeightedExamples\": 8.0, \"totalWeightedLabel\": 3.0, \"totalWeightedRefinedPrediction\": 6.372531235218048}, {\"lowerThresholdInclusive\": 0.797, \"upperThresholdExclusive\": 0.798, \"numWeightedExamples\": 6.0, \"totalWeightedLabel\": 3.0, \"totalWeightedRefinedPrediction\": 4.785850405693054}, {\"lowerThresholdInclusive\": 0.798, \"upperThresholdExclusive\": 0.799, \"numWeightedExamples\": 3.0, \"totalWeightedLabel\": 3.0, \"totalWeightedRefinedPrediction\": 2.395795524120331}, {\"lowerThresholdInclusive\": 0.799, \"upperThresholdExclusive\": 0.8, \"numWeightedExamples\": 5.0, \"totalWeightedLabel\": 4.0, \"totalWeightedRefinedPrediction\": 3.9976099729537964}, {\"lowerThresholdInclusive\": 0.8, \"upperThresholdExclusive\": 0.801, \"numWeightedExamples\": 4.0, \"totalWeightedLabel\": 3.0, \"totalWeightedRefinedPrediction\": 3.201040208339691}, {\"lowerThresholdInclusive\": 0.801, \"upperThresholdExclusive\": 0.802, \"numWeightedExamples\": 9.0, \"totalWeightedLabel\": 5.0, \"totalWeightedRefinedPrediction\": 7.213556349277496}, {\"lowerThresholdInclusive\": 0.802, \"upperThresholdExclusive\": 0.803, \"numWeightedExamples\": 2.0, \"totalWeightedLabel\": 1.0, \"totalWeightedRefinedPrediction\": 1.605322003364563}, {\"lowerThresholdInclusive\": 0.803, \"upperThresholdExclusive\": 0.804, \"numWeightedExamples\": 7.0, \"totalWeightedLabel\": 2.0, \"totalWeightedRefinedPrediction\": 5.625989615917206}, {\"lowerThresholdInclusive\": 0.804, \"upperThresholdExclusive\": 0.805, \"numWeightedExamples\": 4.0, \"totalWeightedLabel\": 3.0, \"totalWeightedRefinedPrediction\": 3.2179102301597595}, {\"lowerThresholdInclusive\": 0.805, \"upperThresholdExclusive\": 0.806, \"numWeightedExamples\": 6.0, \"totalWeightedLabel\": 5.0, \"totalWeightedRefinedPrediction\": 4.832619369029999}, {\"lowerThresholdInclusive\": 0.806, \"upperThresholdExclusive\": 0.807, \"numWeightedExamples\": 4.0, \"totalWeightedLabel\": 4.0, \"totalWeightedRefinedPrediction\": 3.2244820594787598}, {\"lowerThresholdInclusive\": 0.807, \"upperThresholdExclusive\": 0.808, \"numWeightedExamples\": 6.0, \"totalWeightedLabel\": 3.0, \"totalWeightedRefinedPrediction\": 4.84511011838913}, {\"lowerThresholdInclusive\": 0.808, \"upperThresholdExclusive\": 0.809, \"numWeightedExamples\": 7.0, \"totalWeightedLabel\": 7.0, \"totalWeightedRefinedPrediction\": 5.6593918800354}, {\"lowerThresholdInclusive\": 0.809, \"upperThresholdExclusive\": 0.81, \"numWeightedExamples\": 4.0, \"totalWeightedLabel\": 2.0, \"totalWeightedRefinedPrediction\": 3.2376209497451782}, {\"lowerThresholdInclusive\": 0.81, \"upperThresholdExclusive\": 0.811, \"numWeightedExamples\": 5.0, \"totalWeightedLabel\": 4.0, \"totalWeightedRefinedPrediction\": 4.0519630908966064}, {\"lowerThresholdInclusive\": 0.811, \"upperThresholdExclusive\": 0.812, \"numWeightedExamples\": 4.0, \"totalWeightedLabel\": 3.0, \"totalWeightedRefinedPrediction\": 3.2457714676856995}, {\"lowerThresholdInclusive\": 0.812, \"upperThresholdExclusive\": 0.813, \"numWeightedExamples\": 3.0, \"totalWeightedLabel\": 1.0, \"totalWeightedRefinedPrediction\": 2.437391936779022}, {\"lowerThresholdInclusive\": 0.813, \"upperThresholdExclusive\": 0.814, \"numWeightedExamples\": 5.0, \"totalWeightedLabel\": 5.0, \"totalWeightedRefinedPrediction\": 4.066623210906982}, {\"lowerThresholdInclusive\": 0.814, \"upperThresholdExclusive\": 0.815, \"numWeightedExamples\": 3.0, \"totalWeightedLabel\": 3.0, \"totalWeightedRefinedPrediction\": 2.443154275417328}, {\"lowerThresholdInclusive\": 0.815, \"upperThresholdExclusive\": 0.816, \"numWeightedExamples\": 3.0, \"totalWeightedLabel\": 2.0, \"totalWeightedRefinedPrediction\": 2.446413815021515}, {\"lowerThresholdInclusive\": 0.816, \"upperThresholdExclusive\": 0.817, \"numWeightedExamples\": 6.0, \"totalWeightedLabel\": 5.0, \"totalWeightedRefinedPrediction\": 4.898389220237732}, {\"lowerThresholdInclusive\": 0.817, \"upperThresholdExclusive\": 0.818, \"numWeightedExamples\": 2.0, \"totalWeightedLabel\": 2.0, \"totalWeightedRefinedPrediction\": 1.6342717409133911}, {\"lowerThresholdInclusive\": 0.818, \"upperThresholdExclusive\": 0.819, \"numWeightedExamples\": 3.0, \"totalWeightedLabel\": 3.0, \"totalWeightedRefinedPrediction\": 2.4556113481521606}, {\"lowerThresholdInclusive\": 0.819, \"upperThresholdExclusive\": 0.82, \"numWeightedExamples\": 8.0, \"totalWeightedLabel\": 5.0, \"totalWeightedRefinedPrediction\": 6.5555166602134705}, {\"lowerThresholdInclusive\": 0.82, \"upperThresholdExclusive\": 0.821, \"numWeightedExamples\": 1.0, \"totalWeightedLabel\": 1.0, \"totalWeightedRefinedPrediction\": 0.8206853866577148}, {\"lowerThresholdInclusive\": 0.821, \"upperThresholdExclusive\": 0.822, \"numWeightedExamples\": 6.0, \"totalWeightedLabel\": 5.0, \"totalWeightedRefinedPrediction\": 4.928895950317383}, {\"lowerThresholdInclusive\": 0.822, \"upperThresholdExclusive\": 0.823, \"numWeightedExamples\": 6.0, \"totalWeightedLabel\": 4.0, \"totalWeightedRefinedPrediction\": 4.935086607933044}, {\"lowerThresholdInclusive\": 0.823, \"upperThresholdExclusive\": 0.824, \"numWeightedExamples\": 7.0, \"totalWeightedLabel\": 5.0, \"totalWeightedRefinedPrediction\": 5.76387494802475}, {\"lowerThresholdInclusive\": 0.824, \"upperThresholdExclusive\": 0.825, \"numWeightedExamples\": 5.0, \"totalWeightedLabel\": 3.0, \"totalWeightedRefinedPrediction\": 4.123379766941071}, {\"lowerThresholdInclusive\": 0.825, \"upperThresholdExclusive\": 0.826, \"numWeightedExamples\": 2.0, \"totalWeightedLabel\": 1.0, \"totalWeightedRefinedPrediction\": 1.6504390835762024}, {\"lowerThresholdInclusive\": 0.826, \"upperThresholdExclusive\": 0.827, \"numWeightedExamples\": 1.0, \"totalWeightedLabel\": 1.0, \"totalWeightedRefinedPrediction\": 0.8260830640792847}, {\"lowerThresholdInclusive\": 0.827, \"upperThresholdExclusive\": 0.828, \"numWeightedExamples\": 3.0, \"totalWeightedLabel\": 2.0, \"totalWeightedRefinedPrediction\": 2.4822621941566467}, {\"lowerThresholdInclusive\": 0.828, \"upperThresholdExclusive\": 0.829, \"numWeightedExamples\": 11.0, \"totalWeightedLabel\": 6.0, \"totalWeightedRefinedPrediction\": 9.113951623439789}, {\"lowerThresholdInclusive\": 0.829, \"upperThresholdExclusive\": 0.83, \"numWeightedExamples\": 7.0, \"totalWeightedLabel\": 7.0, \"totalWeightedRefinedPrediction\": 5.806270718574524}, {\"lowerThresholdInclusive\": 0.83, \"upperThresholdExclusive\": 0.831, \"numWeightedExamples\": 5.0, \"totalWeightedLabel\": 4.0, \"totalWeightedRefinedPrediction\": 4.152393400669098}, {\"lowerThresholdInclusive\": 0.831, \"upperThresholdExclusive\": 0.832, \"numWeightedExamples\": 7.0, \"totalWeightedLabel\": 6.0, \"totalWeightedRefinedPrediction\": 5.820514798164368}, {\"lowerThresholdInclusive\": 0.832, \"upperThresholdExclusive\": 0.833, \"numWeightedExamples\": 7.0, \"totalWeightedLabel\": 7.0, \"totalWeightedRefinedPrediction\": 5.827445566654205}, {\"lowerThresholdInclusive\": 0.833, \"upperThresholdExclusive\": 0.834, \"numWeightedExamples\": 8.0, \"totalWeightedLabel\": 6.0, \"totalWeightedRefinedPrediction\": 6.666746914386749}, {\"lowerThresholdInclusive\": 0.834, \"upperThresholdExclusive\": 0.835, \"numWeightedExamples\": 4.0, \"totalWeightedLabel\": 4.0, \"totalWeightedRefinedPrediction\": 3.3383015990257263}, {\"lowerThresholdInclusive\": 0.835, \"upperThresholdExclusive\": 0.836, \"numWeightedExamples\": 3.0, \"totalWeightedLabel\": 1.0, \"totalWeightedRefinedPrediction\": 2.5062702298164368}, {\"lowerThresholdInclusive\": 0.836, \"upperThresholdExclusive\": 0.837, \"numWeightedExamples\": 4.0, \"totalWeightedLabel\": 2.0, \"totalWeightedRefinedPrediction\": 3.3463549613952637}, {\"lowerThresholdInclusive\": 0.837, \"upperThresholdExclusive\": 0.838, \"numWeightedExamples\": 4.0, \"totalWeightedLabel\": 3.0, \"totalWeightedRefinedPrediction\": 3.350040316581726}, {\"lowerThresholdInclusive\": 0.838, \"upperThresholdExclusive\": 0.839, \"numWeightedExamples\": 1.0, \"totalWeightedLabel\": 1.0, \"totalWeightedRefinedPrediction\": 0.8389720916748047}, {\"lowerThresholdInclusive\": 0.839, \"upperThresholdExclusive\": 0.84, \"numWeightedExamples\": 6.0, \"totalWeightedLabel\": 5.0, \"totalWeightedRefinedPrediction\": 5.036203563213348}, {\"lowerThresholdInclusive\": 0.84, \"upperThresholdExclusive\": 0.841, \"numWeightedExamples\": 5.0, \"totalWeightedLabel\": 3.0, \"totalWeightedRefinedPrediction\": 4.202625811100006}, {\"lowerThresholdInclusive\": 0.841, \"upperThresholdExclusive\": 0.842, \"numWeightedExamples\": 10.0, \"totalWeightedLabel\": 8.0, \"totalWeightedRefinedPrediction\": 8.416072428226471}, {\"lowerThresholdInclusive\": 0.842, \"upperThresholdExclusive\": 0.843, \"numWeightedExamples\": 6.0, \"totalWeightedLabel\": 6.0, \"totalWeightedRefinedPrediction\": 5.055464506149292}, {\"lowerThresholdInclusive\": 0.843, \"upperThresholdExclusive\": 0.844, \"numWeightedExamples\": 9.0, \"totalWeightedLabel\": 7.0, \"totalWeightedRefinedPrediction\": 7.592567801475525}, {\"lowerThresholdInclusive\": 0.844, \"upperThresholdExclusive\": 0.845, \"numWeightedExamples\": 3.0, \"totalWeightedLabel\": 2.0, \"totalWeightedRefinedPrediction\": 2.532428205013275}, {\"lowerThresholdInclusive\": 0.845, \"upperThresholdExclusive\": 0.846, \"numWeightedExamples\": 9.0, \"totalWeightedLabel\": 9.0, \"totalWeightedRefinedPrediction\": 7.6113473773002625}, {\"lowerThresholdInclusive\": 0.846, \"upperThresholdExclusive\": 0.847, \"numWeightedExamples\": 7.0, \"totalWeightedLabel\": 5.0, \"totalWeightedRefinedPrediction\": 5.926027715206146}, {\"lowerThresholdInclusive\": 0.847, \"upperThresholdExclusive\": 0.848, \"numWeightedExamples\": 3.0, \"totalWeightedLabel\": 3.0, \"totalWeightedRefinedPrediction\": 2.542665421962738}, {\"lowerThresholdInclusive\": 0.848, \"upperThresholdExclusive\": 0.849, \"numWeightedExamples\": 4.0, \"totalWeightedLabel\": 2.0, \"totalWeightedRefinedPrediction\": 3.3953593373298645}, {\"lowerThresholdInclusive\": 0.849, \"upperThresholdExclusive\": 0.85, \"numWeightedExamples\": 6.0, \"totalWeightedLabel\": 5.0, \"totalWeightedRefinedPrediction\": 5.098469793796539}, {\"lowerThresholdInclusive\": 0.85, \"upperThresholdExclusive\": 0.851, \"numWeightedExamples\": 8.0, \"totalWeightedLabel\": 8.0, \"totalWeightedRefinedPrediction\": 6.804007053375244}, {\"lowerThresholdInclusive\": 0.851, \"upperThresholdExclusive\": 0.852, \"numWeightedExamples\": 5.0, \"totalWeightedLabel\": 3.0, \"totalWeightedRefinedPrediction\": 4.257283389568329}, {\"lowerThresholdInclusive\": 0.852, \"upperThresholdExclusive\": 0.853, \"numWeightedExamples\": 2.0, \"totalWeightedLabel\": 0.0, \"totalWeightedRefinedPrediction\": 1.704859435558319}, {\"lowerThresholdInclusive\": 0.853, \"upperThresholdExclusive\": 0.854, \"numWeightedExamples\": 2.0, \"totalWeightedLabel\": 1.0, \"totalWeightedRefinedPrediction\": 1.707092046737671}, {\"lowerThresholdInclusive\": 0.854, \"upperThresholdExclusive\": 0.855, \"numWeightedExamples\": 4.0, \"totalWeightedLabel\": 3.0, \"totalWeightedRefinedPrediction\": 3.4182947874069214}, {\"lowerThresholdInclusive\": 0.855, \"upperThresholdExclusive\": 0.856, \"numWeightedExamples\": 3.0, \"totalWeightedLabel\": 3.0, \"totalWeightedRefinedPrediction\": 2.5669790506362915}, {\"lowerThresholdInclusive\": 0.856, \"upperThresholdExclusive\": 0.857, \"numWeightedExamples\": 7.0, \"totalWeightedLabel\": 7.0, \"totalWeightedRefinedPrediction\": 5.9956982135772705}, {\"lowerThresholdInclusive\": 0.857, \"upperThresholdExclusive\": 0.858, \"numWeightedExamples\": 7.0, \"totalWeightedLabel\": 4.0, \"totalWeightedRefinedPrediction\": 6.001284241676331}, {\"lowerThresholdInclusive\": 0.858, \"upperThresholdExclusive\": 0.859, \"numWeightedExamples\": 4.0, \"totalWeightedLabel\": 3.0, \"totalWeightedRefinedPrediction\": 3.434868633747101}, {\"lowerThresholdInclusive\": 0.859, \"upperThresholdExclusive\": 0.86, \"numWeightedExamples\": 5.0, \"totalWeightedLabel\": 2.0, \"totalWeightedRefinedPrediction\": 4.2989418506622314}, {\"lowerThresholdInclusive\": 0.86, \"upperThresholdExclusive\": 0.861, \"numWeightedExamples\": 9.0, \"totalWeightedLabel\": 6.0, \"totalWeightedRefinedPrediction\": 7.744087219238281}, {\"lowerThresholdInclusive\": 0.861, \"upperThresholdExclusive\": 0.862, \"numWeightedExamples\": 2.0, \"totalWeightedLabel\": 2.0, \"totalWeightedRefinedPrediction\": 1.7225496172904968}, {\"lowerThresholdInclusive\": 0.862, \"upperThresholdExclusive\": 0.863, \"numWeightedExamples\": 2.0, \"totalWeightedLabel\": 1.0, \"totalWeightedRefinedPrediction\": 1.7250863909721375}, {\"lowerThresholdInclusive\": 0.863, \"upperThresholdExclusive\": 0.864, \"numWeightedExamples\": 2.0, \"totalWeightedLabel\": 1.0, \"totalWeightedRefinedPrediction\": 1.7268874049186707}, {\"lowerThresholdInclusive\": 0.864, \"upperThresholdExclusive\": 0.865, \"numWeightedExamples\": 7.0, \"totalWeightedLabel\": 5.0, \"totalWeightedRefinedPrediction\": 6.052074432373047}, {\"lowerThresholdInclusive\": 0.865, \"upperThresholdExclusive\": 0.866, \"numWeightedExamples\": 5.0, \"totalWeightedLabel\": 3.0, \"totalWeightedRefinedPrediction\": 4.328342795372009}, {\"lowerThresholdInclusive\": 0.866, \"upperThresholdExclusive\": 0.867, \"numWeightedExamples\": 9.0, \"totalWeightedLabel\": 6.0, \"totalWeightedRefinedPrediction\": 7.799254238605499}, {\"lowerThresholdInclusive\": 0.867, \"upperThresholdExclusive\": 0.868, \"numWeightedExamples\": 4.0, \"totalWeightedLabel\": 2.0, \"totalWeightedRefinedPrediction\": 3.468487501144409}, {\"lowerThresholdInclusive\": 0.868, \"upperThresholdExclusive\": 0.869, \"numWeightedExamples\": 1.0, \"totalWeightedLabel\": 1.0, \"totalWeightedRefinedPrediction\": 0.8683604001998901}, {\"lowerThresholdInclusive\": 0.869, \"upperThresholdExclusive\": 0.87, \"numWeightedExamples\": 4.0, \"totalWeightedLabel\": 3.0, \"totalWeightedRefinedPrediction\": 3.4779054522514343}, {\"lowerThresholdInclusive\": 0.87, \"upperThresholdExclusive\": 0.871, \"numWeightedExamples\": 5.0, \"totalWeightedLabel\": 2.0, \"totalWeightedRefinedPrediction\": 4.353689789772034}, {\"lowerThresholdInclusive\": 0.871, \"upperThresholdExclusive\": 0.872, \"numWeightedExamples\": 6.0, \"totalWeightedLabel\": 4.0, \"totalWeightedRefinedPrediction\": 5.229489982128143}, {\"lowerThresholdInclusive\": 0.872, \"upperThresholdExclusive\": 0.873, \"numWeightedExamples\": 2.0, \"totalWeightedLabel\": 1.0, \"totalWeightedRefinedPrediction\": 1.7456655502319336}, {\"lowerThresholdInclusive\": 0.873, \"upperThresholdExclusive\": 0.874, \"numWeightedExamples\": 5.0, \"totalWeightedLabel\": 3.0, \"totalWeightedRefinedPrediction\": 4.367376327514648}, {\"lowerThresholdInclusive\": 0.874, \"upperThresholdExclusive\": 0.875, \"numWeightedExamples\": 6.0, \"totalWeightedLabel\": 4.0, \"totalWeightedRefinedPrediction\": 5.247058987617493}, {\"lowerThresholdInclusive\": 0.875, \"upperThresholdExclusive\": 0.876, \"numWeightedExamples\": 8.0, \"totalWeightedLabel\": 7.0, \"totalWeightedRefinedPrediction\": 7.003701746463776}, {\"lowerThresholdInclusive\": 0.876, \"upperThresholdExclusive\": 0.877, \"numWeightedExamples\": 4.0, \"totalWeightedLabel\": 3.0, \"totalWeightedRefinedPrediction\": 3.5069419741630554}, {\"lowerThresholdInclusive\": 0.877, \"upperThresholdExclusive\": 0.878, \"numWeightedExamples\": 4.0, \"totalWeightedLabel\": 2.0, \"totalWeightedRefinedPrediction\": 3.5099852681159973}, {\"lowerThresholdInclusive\": 0.878, \"upperThresholdExclusive\": 0.879, \"numWeightedExamples\": 2.0, \"totalWeightedLabel\": 1.0, \"totalWeightedRefinedPrediction\": 1.7562869787216187}, {\"lowerThresholdInclusive\": 0.879, \"upperThresholdExclusive\": 0.88, \"numWeightedExamples\": 3.0, \"totalWeightedLabel\": 2.0, \"totalWeightedRefinedPrediction\": 2.638622522354126}, {\"lowerThresholdInclusive\": 0.88, \"upperThresholdExclusive\": 0.881, \"numWeightedExamples\": 6.0, \"totalWeightedLabel\": 3.0, \"totalWeightedRefinedPrediction\": 5.282325565814972}, {\"lowerThresholdInclusive\": 0.881, \"upperThresholdExclusive\": 0.882, \"numWeightedExamples\": 6.0, \"totalWeightedLabel\": 5.0, \"totalWeightedRefinedPrediction\": 5.2888845801353455}, {\"lowerThresholdInclusive\": 0.882, \"upperThresholdExclusive\": 0.883, \"numWeightedExamples\": 7.0, \"totalWeightedLabel\": 5.0, \"totalWeightedRefinedPrediction\": 6.175485551357269}, {\"lowerThresholdInclusive\": 0.883, \"upperThresholdExclusive\": 0.884, \"numWeightedExamples\": 4.0, \"totalWeightedLabel\": 2.0, \"totalWeightedRefinedPrediction\": 3.533507764339447}, {\"lowerThresholdInclusive\": 0.884, \"upperThresholdExclusive\": 0.885, \"numWeightedExamples\": 6.0, \"totalWeightedLabel\": 4.0, \"totalWeightedRefinedPrediction\": 5.306471645832062}, {\"lowerThresholdInclusive\": 0.885, \"upperThresholdExclusive\": 0.886, \"numWeightedExamples\": 7.0, \"totalWeightedLabel\": 6.0, \"totalWeightedRefinedPrediction\": 6.199056267738342}, {\"lowerThresholdInclusive\": 0.886, \"upperThresholdExclusive\": 0.887, \"numWeightedExamples\": 2.0, \"totalWeightedLabel\": 2.0, \"totalWeightedRefinedPrediction\": 1.7725574970245361}, {\"lowerThresholdInclusive\": 0.887, \"upperThresholdExclusive\": 0.888, \"numWeightedExamples\": 6.0, \"totalWeightedLabel\": 5.0, \"totalWeightedRefinedPrediction\": 5.324529588222504}, {\"lowerThresholdInclusive\": 0.888, \"upperThresholdExclusive\": 0.889, \"numWeightedExamples\": 4.0, \"totalWeightedLabel\": 3.0, \"totalWeightedRefinedPrediction\": 3.5542511343955994}, {\"lowerThresholdInclusive\": 0.889, \"upperThresholdExclusive\": 0.89, \"numWeightedExamples\": 3.0, \"totalWeightedLabel\": 2.0, \"totalWeightedRefinedPrediction\": 2.668664038181305}, {\"lowerThresholdInclusive\": 0.89, \"upperThresholdExclusive\": 0.891, \"numWeightedExamples\": 6.0, \"totalWeightedLabel\": 4.0, \"totalWeightedRefinedPrediction\": 5.343250930309296}, {\"lowerThresholdInclusive\": 0.891, \"upperThresholdExclusive\": 0.892, \"numWeightedExamples\": 4.0, \"totalWeightedLabel\": 3.0, \"totalWeightedRefinedPrediction\": 3.565271258354187}, {\"lowerThresholdInclusive\": 0.892, \"upperThresholdExclusive\": 0.893, \"numWeightedExamples\": 3.0, \"totalWeightedLabel\": 3.0, \"totalWeightedRefinedPrediction\": 2.6765074729919434}, {\"lowerThresholdInclusive\": 0.893, \"upperThresholdExclusive\": 0.894, \"numWeightedExamples\": 4.0, \"totalWeightedLabel\": 3.0, \"totalWeightedRefinedPrediction\": 3.5745362043380737}, {\"lowerThresholdInclusive\": 0.894, \"upperThresholdExclusive\": 0.895, \"numWeightedExamples\": 7.0, \"totalWeightedLabel\": 7.0, \"totalWeightedRefinedPrediction\": 6.261710941791534}, {\"lowerThresholdInclusive\": 0.895, \"upperThresholdExclusive\": 0.896, \"numWeightedExamples\": 5.0, \"totalWeightedLabel\": 5.0, \"totalWeightedRefinedPrediction\": 4.477440357208252}, {\"lowerThresholdInclusive\": 0.896, \"upperThresholdExclusive\": 0.897, \"numWeightedExamples\": 4.0, \"totalWeightedLabel\": 4.0, \"totalWeightedRefinedPrediction\": 3.586700916290283}, {\"lowerThresholdInclusive\": 0.897, \"upperThresholdExclusive\": 0.898, \"numWeightedExamples\": 5.0, \"totalWeightedLabel\": 3.0, \"totalWeightedRefinedPrediction\": 4.486843049526215}, {\"lowerThresholdInclusive\": 0.898, \"upperThresholdExclusive\": 0.899, \"numWeightedExamples\": 4.0, \"totalWeightedLabel\": 2.0, \"totalWeightedRefinedPrediction\": 3.593593955039978}, {\"lowerThresholdInclusive\": 0.899, \"upperThresholdExclusive\": 0.9, \"numWeightedExamples\": 7.0, \"totalWeightedLabel\": 4.0, \"totalWeightedRefinedPrediction\": 6.296464443206787}, {\"lowerThresholdInclusive\": 0.9, \"upperThresholdExclusive\": 0.901, \"numWeightedExamples\": 7.0, \"totalWeightedLabel\": 2.0, \"totalWeightedRefinedPrediction\": 6.303920328617096}, {\"lowerThresholdInclusive\": 0.901, \"upperThresholdExclusive\": 0.902, \"numWeightedExamples\": 5.0, \"totalWeightedLabel\": 4.0, \"totalWeightedRefinedPrediction\": 4.506845772266388}, {\"lowerThresholdInclusive\": 0.902, \"upperThresholdExclusive\": 0.903, \"numWeightedExamples\": 4.0, \"totalWeightedLabel\": 3.0, \"totalWeightedRefinedPrediction\": 3.609839618206024}, {\"lowerThresholdInclusive\": 0.903, \"upperThresholdExclusive\": 0.904, \"numWeightedExamples\": 4.0, \"totalWeightedLabel\": 3.0, \"totalWeightedRefinedPrediction\": 3.6141942739486694}, {\"lowerThresholdInclusive\": 0.904, \"upperThresholdExclusive\": 0.905, \"numWeightedExamples\": 5.0, \"totalWeightedLabel\": 3.0, \"totalWeightedRefinedPrediction\": 4.523562729358673}, {\"lowerThresholdInclusive\": 0.905, \"upperThresholdExclusive\": 0.906, \"numWeightedExamples\": 5.0, \"totalWeightedLabel\": 4.0, \"totalWeightedRefinedPrediction\": 4.527821242809296}, {\"lowerThresholdInclusive\": 0.906, \"upperThresholdExclusive\": 0.907, \"numWeightedExamples\": 5.0, \"totalWeightedLabel\": 2.0, \"totalWeightedRefinedPrediction\": 4.532114386558533}, {\"lowerThresholdInclusive\": 0.907, \"upperThresholdExclusive\": 0.908, \"numWeightedExamples\": 6.0, \"totalWeightedLabel\": 4.0, \"totalWeightedRefinedPrediction\": 5.444958448410034}, {\"lowerThresholdInclusive\": 0.908, \"upperThresholdExclusive\": 0.909, \"numWeightedExamples\": 5.0, \"totalWeightedLabel\": 5.0, \"totalWeightedRefinedPrediction\": 4.541691720485687}, {\"lowerThresholdInclusive\": 0.909, \"upperThresholdExclusive\": 0.91, \"numWeightedExamples\": 3.0, \"totalWeightedLabel\": 3.0, \"totalWeightedRefinedPrediction\": 2.728757619857788}, {\"lowerThresholdInclusive\": 0.91, \"upperThresholdExclusive\": 0.911, \"numWeightedExamples\": 3.0, \"totalWeightedLabel\": 3.0, \"totalWeightedRefinedPrediction\": 2.7307568788528442}, {\"lowerThresholdInclusive\": 0.911, \"upperThresholdExclusive\": 0.912, \"numWeightedExamples\": 8.0, \"totalWeightedLabel\": 7.0, \"totalWeightedRefinedPrediction\": 7.290826201438904}, {\"lowerThresholdInclusive\": 0.912, \"upperThresholdExclusive\": 0.913, \"numWeightedExamples\": 7.0, \"totalWeightedLabel\": 6.0, \"totalWeightedRefinedPrediction\": 6.387766063213348}, {\"lowerThresholdInclusive\": 0.913, \"upperThresholdExclusive\": 0.914, \"numWeightedExamples\": 8.0, \"totalWeightedLabel\": 8.0, \"totalWeightedRefinedPrediction\": 7.3072813749313354}, {\"lowerThresholdInclusive\": 0.914, \"upperThresholdExclusive\": 0.915, \"numWeightedExamples\": 2.0, \"totalWeightedLabel\": 2.0, \"totalWeightedRefinedPrediction\": 1.8293348550796509}, {\"lowerThresholdInclusive\": 0.915, \"upperThresholdExclusive\": 0.916, \"numWeightedExamples\": 5.0, \"totalWeightedLabel\": 3.0, \"totalWeightedRefinedPrediction\": 4.577981412410736}, {\"lowerThresholdInclusive\": 0.916, \"upperThresholdExclusive\": 0.917, \"numWeightedExamples\": 3.0, \"totalWeightedLabel\": 2.0, \"totalWeightedRefinedPrediction\": 2.7500916123390198}, {\"lowerThresholdInclusive\": 0.917, \"upperThresholdExclusive\": 0.918, \"numWeightedExamples\": 5.0, \"totalWeightedLabel\": 3.0, \"totalWeightedRefinedPrediction\": 4.587692141532898}, {\"lowerThresholdInclusive\": 0.918, \"upperThresholdExclusive\": 0.919, \"numWeightedExamples\": 6.0, \"totalWeightedLabel\": 2.0, \"totalWeightedRefinedPrediction\": 5.511391222476959}, {\"lowerThresholdInclusive\": 0.919, \"upperThresholdExclusive\": 0.92, \"numWeightedExamples\": 3.0, \"totalWeightedLabel\": 3.0, \"totalWeightedRefinedPrediction\": 2.759717345237732}, {\"lowerThresholdInclusive\": 0.92, \"upperThresholdExclusive\": 0.921, \"numWeightedExamples\": 8.0, \"totalWeightedLabel\": 8.0, \"totalWeightedRefinedPrediction\": 7.3649938106536865}, {\"lowerThresholdInclusive\": 0.921, \"upperThresholdExclusive\": 0.922, \"numWeightedExamples\": 8.0, \"totalWeightedLabel\": 7.0, \"totalWeightedRefinedPrediction\": 7.372967779636383}, {\"lowerThresholdInclusive\": 0.922, \"upperThresholdExclusive\": 0.923, \"numWeightedExamples\": 6.0, \"totalWeightedLabel\": 4.0, \"totalWeightedRefinedPrediction\": 5.5350229144096375}, {\"lowerThresholdInclusive\": 0.923, \"upperThresholdExclusive\": 0.924, \"numWeightedExamples\": 6.0, \"totalWeightedLabel\": 6.0, \"totalWeightedRefinedPrediction\": 5.540360271930695}, {\"lowerThresholdInclusive\": 0.924, \"upperThresholdExclusive\": 0.925, \"numWeightedExamples\": 6.0, \"totalWeightedLabel\": 4.0, \"totalWeightedRefinedPrediction\": 5.5455209612846375}, {\"lowerThresholdInclusive\": 0.925, \"upperThresholdExclusive\": 0.926, \"numWeightedExamples\": 3.0, \"totalWeightedLabel\": 3.0, \"totalWeightedRefinedPrediction\": 2.776228129863739}, {\"lowerThresholdInclusive\": 0.926, \"upperThresholdExclusive\": 0.927, \"numWeightedExamples\": 3.0, \"totalWeightedLabel\": 3.0, \"totalWeightedRefinedPrediction\": 2.7790684700012207}, {\"lowerThresholdInclusive\": 0.927, \"upperThresholdExclusive\": 0.928, \"numWeightedExamples\": 3.0, \"totalWeightedLabel\": 3.0, \"totalWeightedRefinedPrediction\": 2.7828757762908936}, {\"lowerThresholdInclusive\": 0.928, \"upperThresholdExclusive\": 0.929, \"numWeightedExamples\": 7.0, \"totalWeightedLabel\": 5.0, \"totalWeightedRefinedPrediction\": 6.499320447444916}, {\"lowerThresholdInclusive\": 0.929, \"upperThresholdExclusive\": 0.93, \"numWeightedExamples\": 6.0, \"totalWeightedLabel\": 4.0, \"totalWeightedRefinedPrediction\": 5.575624346733093}, {\"lowerThresholdInclusive\": 0.93, \"upperThresholdExclusive\": 0.931, \"numWeightedExamples\": 7.0, \"totalWeightedLabel\": 6.0, \"totalWeightedRefinedPrediction\": 6.513279557228088}, {\"lowerThresholdInclusive\": 0.931, \"upperThresholdExclusive\": 0.932, \"numWeightedExamples\": 5.0, \"totalWeightedLabel\": 4.0, \"totalWeightedRefinedPrediction\": 4.65694922208786}, {\"lowerThresholdInclusive\": 0.932, \"upperThresholdExclusive\": 0.933, \"numWeightedExamples\": 2.0, \"totalWeightedLabel\": 2.0, \"totalWeightedRefinedPrediction\": 1.8641564846038818}, {\"lowerThresholdInclusive\": 0.933, \"upperThresholdExclusive\": 0.934, \"numWeightedExamples\": 7.0, \"totalWeightedLabel\": 5.0, \"totalWeightedRefinedPrediction\": 6.533167839050293}, {\"lowerThresholdInclusive\": 0.934, \"upperThresholdExclusive\": 0.935, \"numWeightedExamples\": 6.0, \"totalWeightedLabel\": 5.0, \"totalWeightedRefinedPrediction\": 5.605746328830719}, {\"lowerThresholdInclusive\": 0.935, \"upperThresholdExclusive\": 0.936, \"numWeightedExamples\": 3.0, \"totalWeightedLabel\": 3.0, \"totalWeightedRefinedPrediction\": 2.8066006898880005}, {\"lowerThresholdInclusive\": 0.936, \"upperThresholdExclusive\": 0.937, \"numWeightedExamples\": 4.0, \"totalWeightedLabel\": 3.0, \"totalWeightedRefinedPrediction\": 3.745879113674164}, {\"lowerThresholdInclusive\": 0.937, \"upperThresholdExclusive\": 0.938, \"numWeightedExamples\": 10.0, \"totalWeightedLabel\": 8.0, \"totalWeightedRefinedPrediction\": 9.372980237007141}, {\"lowerThresholdInclusive\": 0.938, \"upperThresholdExclusive\": 0.939, \"numWeightedExamples\": 1.0, \"totalWeightedLabel\": 0.0, \"totalWeightedRefinedPrediction\": 0.9389688372612}, {\"lowerThresholdInclusive\": 0.939, \"upperThresholdExclusive\": 0.94, \"numWeightedExamples\": 5.0, \"totalWeightedLabel\": 3.0, \"totalWeightedRefinedPrediction\": 4.698855936527252}, {\"lowerThresholdInclusive\": 0.94, \"upperThresholdExclusive\": 0.941, \"numWeightedExamples\": 8.0, \"totalWeightedLabel\": 5.0, \"totalWeightedRefinedPrediction\": 7.523907363414764}, {\"lowerThresholdInclusive\": 0.941, \"upperThresholdExclusive\": 0.942, \"numWeightedExamples\": 8.0, \"totalWeightedLabel\": 7.0, \"totalWeightedRefinedPrediction\": 7.53357595205307}, {\"lowerThresholdInclusive\": 0.942, \"upperThresholdExclusive\": 0.943, \"numWeightedExamples\": 4.0, \"totalWeightedLabel\": 3.0, \"totalWeightedRefinedPrediction\": 3.7694799304008484}, {\"lowerThresholdInclusive\": 0.943, \"upperThresholdExclusive\": 0.944, \"numWeightedExamples\": 7.0, \"totalWeightedLabel\": 5.0, \"totalWeightedRefinedPrediction\": 6.604823172092438}, {\"lowerThresholdInclusive\": 0.944, \"upperThresholdExclusive\": 0.945, \"numWeightedExamples\": 4.0, \"totalWeightedLabel\": 2.0, \"totalWeightedRefinedPrediction\": 3.778824269771576}, {\"lowerThresholdInclusive\": 0.945, \"upperThresholdExclusive\": 0.946, \"numWeightedExamples\": 6.0, \"totalWeightedLabel\": 4.0, \"totalWeightedRefinedPrediction\": 5.67334109544754}, {\"lowerThresholdInclusive\": 0.946, \"upperThresholdExclusive\": 0.947, \"numWeightedExamples\": 9.0, \"totalWeightedLabel\": 6.0, \"totalWeightedRefinedPrediction\": 8.517981112003326}, {\"lowerThresholdInclusive\": 0.947, \"upperThresholdExclusive\": 0.948, \"numWeightedExamples\": 4.0, \"totalWeightedLabel\": 3.0, \"totalWeightedRefinedPrediction\": 3.7888693809509277}, {\"lowerThresholdInclusive\": 0.948, \"upperThresholdExclusive\": 0.949, \"numWeightedExamples\": 2.0, \"totalWeightedLabel\": 1.0, \"totalWeightedRefinedPrediction\": 1.89730304479599}, {\"lowerThresholdInclusive\": 0.949, \"upperThresholdExclusive\": 0.95, \"numWeightedExamples\": 7.0, \"totalWeightedLabel\": 5.0, \"totalWeightedRefinedPrediction\": 6.647391498088837}, {\"lowerThresholdInclusive\": 0.95, \"upperThresholdExclusive\": 0.951, \"numWeightedExamples\": 6.0, \"totalWeightedLabel\": 6.0, \"totalWeightedRefinedPrediction\": 5.7036333084106445}, {\"lowerThresholdInclusive\": 0.951, \"upperThresholdExclusive\": 0.952, \"numWeightedExamples\": 2.0, \"totalWeightedLabel\": 2.0, \"totalWeightedRefinedPrediction\": 1.9024123549461365}, {\"lowerThresholdInclusive\": 0.952, \"upperThresholdExclusive\": 0.953, \"numWeightedExamples\": 7.0, \"totalWeightedLabel\": 3.0, \"totalWeightedRefinedPrediction\": 6.666100025177002}, {\"lowerThresholdInclusive\": 0.953, \"upperThresholdExclusive\": 0.954, \"numWeightedExamples\": 6.0, \"totalWeightedLabel\": 5.0, \"totalWeightedRefinedPrediction\": 5.721132159233093}, {\"lowerThresholdInclusive\": 0.954, \"upperThresholdExclusive\": 0.955, \"numWeightedExamples\": 6.0, \"totalWeightedLabel\": 3.0, \"totalWeightedRefinedPrediction\": 5.728200435638428}, {\"lowerThresholdInclusive\": 0.955, \"upperThresholdExclusive\": 0.956, \"numWeightedExamples\": 6.0, \"totalWeightedLabel\": 6.0, \"totalWeightedRefinedPrediction\": 5.733366131782532}, {\"lowerThresholdInclusive\": 0.956, \"upperThresholdExclusive\": 0.957, \"numWeightedExamples\": 4.0, \"totalWeightedLabel\": 2.0, \"totalWeightedRefinedPrediction\": 3.826076567173004}, {\"lowerThresholdInclusive\": 0.957, \"upperThresholdExclusive\": 0.958, \"numWeightedExamples\": 4.0, \"totalWeightedLabel\": 2.0, \"totalWeightedRefinedPrediction\": 3.83070832490921}, {\"lowerThresholdInclusive\": 0.958, \"upperThresholdExclusive\": 0.959, \"numWeightedExamples\": 2.0, \"totalWeightedLabel\": 2.0, \"totalWeightedRefinedPrediction\": 1.9174272418022156}, {\"lowerThresholdInclusive\": 0.959, \"upperThresholdExclusive\": 0.96, \"numWeightedExamples\": 8.0, \"totalWeightedLabel\": 8.0, \"totalWeightedRefinedPrediction\": 7.674281656742096}, {\"lowerThresholdInclusive\": 0.96, \"upperThresholdExclusive\": 0.961, \"numWeightedExamples\": 10.0, \"totalWeightedLabel\": 9.0, \"totalWeightedRefinedPrediction\": 9.60377836227417}, {\"lowerThresholdInclusive\": 0.961, \"upperThresholdExclusive\": 0.962, \"numWeightedExamples\": 9.0, \"totalWeightedLabel\": 9.0, \"totalWeightedRefinedPrediction\": 8.651587128639221}, {\"lowerThresholdInclusive\": 0.962, \"upperThresholdExclusive\": 0.963, \"numWeightedExamples\": 7.0, \"totalWeightedLabel\": 7.0, \"totalWeightedRefinedPrediction\": 6.736447632312775}, {\"lowerThresholdInclusive\": 0.963, \"upperThresholdExclusive\": 0.964, \"numWeightedExamples\": 11.0, \"totalWeightedLabel\": 9.0, \"totalWeightedRefinedPrediction\": 10.599846541881561}, {\"lowerThresholdInclusive\": 0.964, \"upperThresholdExclusive\": 0.965, \"numWeightedExamples\": 8.0, \"totalWeightedLabel\": 4.0, \"totalWeightedRefinedPrediction\": 7.716419279575348}, {\"lowerThresholdInclusive\": 0.965, \"upperThresholdExclusive\": 0.966, \"numWeightedExamples\": 9.0, \"totalWeightedLabel\": 6.0, \"totalWeightedRefinedPrediction\": 8.68982982635498}, {\"lowerThresholdInclusive\": 0.966, \"upperThresholdExclusive\": 0.967, \"numWeightedExamples\": 9.0, \"totalWeightedLabel\": 7.0, \"totalWeightedRefinedPrediction\": 8.697739839553833}, {\"lowerThresholdInclusive\": 0.967, \"upperThresholdExclusive\": 0.968, \"numWeightedExamples\": 9.0, \"totalWeightedLabel\": 7.0, \"totalWeightedRefinedPrediction\": 8.708184957504272}, {\"lowerThresholdInclusive\": 0.968, \"upperThresholdExclusive\": 0.969, \"numWeightedExamples\": 7.0, \"totalWeightedLabel\": 4.0, \"totalWeightedRefinedPrediction\": 6.779239237308502}, {\"lowerThresholdInclusive\": 0.969, \"upperThresholdExclusive\": 0.97, \"numWeightedExamples\": 4.0, \"totalWeightedLabel\": 4.0, \"totalWeightedRefinedPrediction\": 3.8785089254379272}, {\"lowerThresholdInclusive\": 0.97, \"upperThresholdExclusive\": 0.971, \"numWeightedExamples\": 5.0, \"totalWeightedLabel\": 4.0, \"totalWeightedRefinedPrediction\": 4.85169392824173}, {\"lowerThresholdInclusive\": 0.971, \"upperThresholdExclusive\": 0.972, \"numWeightedExamples\": 13.0, \"totalWeightedLabel\": 11.0, \"totalWeightedRefinedPrediction\": 12.630107641220093}, {\"lowerThresholdInclusive\": 0.972, \"upperThresholdExclusive\": 0.973, \"numWeightedExamples\": 7.0, \"totalWeightedLabel\": 5.0, \"totalWeightedRefinedPrediction\": 6.806823253631592}, {\"lowerThresholdInclusive\": 0.973, \"upperThresholdExclusive\": 0.974, \"numWeightedExamples\": 5.0, \"totalWeightedLabel\": 4.0, \"totalWeightedRefinedPrediction\": 4.867928743362427}, {\"lowerThresholdInclusive\": 0.974, \"upperThresholdExclusive\": 0.975, \"numWeightedExamples\": 8.0, \"totalWeightedLabel\": 6.0, \"totalWeightedRefinedPrediction\": 7.795756697654724}, {\"lowerThresholdInclusive\": 0.975, \"upperThresholdExclusive\": 0.976, \"numWeightedExamples\": 8.0, \"totalWeightedLabel\": 3.0, \"totalWeightedRefinedPrediction\": 7.802709877490997}, {\"lowerThresholdInclusive\": 0.976, \"upperThresholdExclusive\": 0.977, \"numWeightedExamples\": 11.0, \"totalWeightedLabel\": 9.0, \"totalWeightedRefinedPrediction\": 10.742186427116394}, {\"lowerThresholdInclusive\": 0.977, \"upperThresholdExclusive\": 0.978, \"numWeightedExamples\": 7.0, \"totalWeightedLabel\": 5.0, \"totalWeightedRefinedPrediction\": 6.842388570308685}, {\"lowerThresholdInclusive\": 0.978, \"upperThresholdExclusive\": 0.979, \"numWeightedExamples\": 7.0, \"totalWeightedLabel\": 4.0, \"totalWeightedRefinedPrediction\": 6.849730849266052}, {\"lowerThresholdInclusive\": 0.979, \"upperThresholdExclusive\": 0.98, \"numWeightedExamples\": 12.0, \"totalWeightedLabel\": 10.0, \"totalWeightedRefinedPrediction\": 11.753721952438354}, {\"lowerThresholdInclusive\": 0.98, \"upperThresholdExclusive\": 0.981, \"numWeightedExamples\": 5.0, \"totalWeightedLabel\": 3.0, \"totalWeightedRefinedPrediction\": 4.903580188751221}, {\"lowerThresholdInclusive\": 0.981, \"upperThresholdExclusive\": 0.982, \"numWeightedExamples\": 7.0, \"totalWeightedLabel\": 5.0, \"totalWeightedRefinedPrediction\": 6.870463192462921}, {\"lowerThresholdInclusive\": 0.982, \"upperThresholdExclusive\": 0.983, \"numWeightedExamples\": 3.0, \"totalWeightedLabel\": 3.0, \"totalWeightedRefinedPrediction\": 2.9472928643226624}, {\"lowerThresholdInclusive\": 0.983, \"upperThresholdExclusive\": 0.984, \"numWeightedExamples\": 6.0, \"totalWeightedLabel\": 5.0, \"totalWeightedRefinedPrediction\": 5.9020726680755615}, {\"lowerThresholdInclusive\": 0.984, \"upperThresholdExclusive\": 0.985, \"numWeightedExamples\": 6.0, \"totalWeightedLabel\": 6.0, \"totalWeightedRefinedPrediction\": 5.907486140727997}, {\"lowerThresholdInclusive\": 0.985, \"upperThresholdExclusive\": 0.986, \"numWeightedExamples\": 4.0, \"totalWeightedLabel\": 4.0, \"totalWeightedRefinedPrediction\": 3.9413798451423645}, {\"lowerThresholdInclusive\": 0.986, \"upperThresholdExclusive\": 0.987, \"numWeightedExamples\": 11.0, \"totalWeightedLabel\": 10.0, \"totalWeightedRefinedPrediction\": 10.852110624313354}, {\"lowerThresholdInclusive\": 0.987, \"upperThresholdExclusive\": 0.988, \"numWeightedExamples\": 12.0, \"totalWeightedLabel\": 10.0, \"totalWeightedRefinedPrediction\": 11.849897563457489}, {\"lowerThresholdInclusive\": 0.988, \"upperThresholdExclusive\": 0.989, \"numWeightedExamples\": 14.0, \"totalWeightedLabel\": 11.0, \"totalWeightedRefinedPrediction\": 13.839300632476807}, {\"lowerThresholdInclusive\": 0.989, \"upperThresholdExclusive\": 0.99, \"numWeightedExamples\": 8.0, \"totalWeightedLabel\": 6.0, \"totalWeightedRefinedPrediction\": 7.916298449039459}, {\"lowerThresholdInclusive\": 0.99, \"upperThresholdExclusive\": 0.991, \"numWeightedExamples\": 13.0, \"totalWeightedLabel\": 8.0, \"totalWeightedRefinedPrediction\": 12.877103984355927}, {\"lowerThresholdInclusive\": 0.991, \"upperThresholdExclusive\": 0.992, \"numWeightedExamples\": 13.0, \"totalWeightedLabel\": 11.0, \"totalWeightedRefinedPrediction\": 12.8894544839859}, {\"lowerThresholdInclusive\": 0.992, \"upperThresholdExclusive\": 0.993, \"numWeightedExamples\": 18.0, \"totalWeightedLabel\": 11.0, \"totalWeightedRefinedPrediction\": 17.864708840847015}, {\"lowerThresholdInclusive\": 0.993, \"upperThresholdExclusive\": 0.994, \"numWeightedExamples\": 16.0, \"totalWeightedLabel\": 14.0, \"totalWeightedRefinedPrediction\": 15.897248208522797}, {\"lowerThresholdInclusive\": 0.994, \"upperThresholdExclusive\": 0.995, \"numWeightedExamples\": 27.0, \"totalWeightedLabel\": 19.0, \"totalWeightedRefinedPrediction\": 26.854077637195587}, {\"lowerThresholdInclusive\": 0.995, \"upperThresholdExclusive\": 0.996, \"numWeightedExamples\": 21.0, \"totalWeightedLabel\": 15.0, \"totalWeightedRefinedPrediction\": 20.904516339302063}, {\"lowerThresholdInclusive\": 0.996, \"upperThresholdExclusive\": 0.997, \"numWeightedExamples\": 30.0, \"totalWeightedLabel\": 28.0, \"totalWeightedRefinedPrediction\": 29.895945847034454}, {\"lowerThresholdInclusive\": 0.997, \"upperThresholdExclusive\": 0.998, \"numWeightedExamples\": 46.0, \"totalWeightedLabel\": 39.0, \"totalWeightedRefinedPrediction\": 45.88818520307541}, {\"lowerThresholdInclusive\": 0.998, \"upperThresholdExclusive\": 0.999, \"numWeightedExamples\": 65.0, \"totalWeightedLabel\": 50.0, \"totalWeightedRefinedPrediction\": 64.89881247282028}, {\"lowerThresholdInclusive\": 0.999, \"upperThresholdExclusive\": 1.0, \"numWeightedExamples\": 221.0, \"totalWeightedLabel\": 149.0, \"totalWeightedRefinedPrediction\": 220.94315487146378}, {\"lowerThresholdInclusive\": 1.0, \"upperThresholdExclusive\": \"Infinity\", \"numWeightedExamples\": 145.0, \"totalWeightedLabel\": 122.0, \"totalWeightedRefinedPrediction\": 145.0}]}, \"confusionMatrixAtThresholds\": {\"matrices\": [{\"threshold\": -1e-06, \"falsePositives\": 7604.0, \"truePositives\": 3256.0, \"precision\": 0.2998158379373849, \"recall\": 1.0}, {\"falsePositives\": 7604.0, \"truePositives\": 3256.0, \"precision\": 0.2998158379373849, \"recall\": 1.0}, {\"threshold\": 0.001, \"falseNegatives\": 165.0, \"trueNegatives\": 2972.0, \"falsePositives\": 4632.0, \"truePositives\": 3091.0, \"precision\": 0.4002330700504985, \"recall\": 0.9493243243243243}, {\"threshold\": 0.002, \"falseNegatives\": 178.0, \"trueNegatives\": 3125.0, \"falsePositives\": 4479.0, \"truePositives\": 3078.0, \"precision\": 0.407304485907106, \"recall\": 0.9453316953316954}, {\"threshold\": 0.003, \"falseNegatives\": 190.0, \"trueNegatives\": 3200.0, \"falsePositives\": 4404.0, \"truePositives\": 3066.0, \"precision\": 0.41044176706827307, \"recall\": 0.9416461916461917}, {\"threshold\": 0.004, \"falseNegatives\": 199.0, \"trueNegatives\": 3258.0, \"falsePositives\": 4346.0, \"truePositives\": 3057.0, \"precision\": 0.41294069971633124, \"recall\": 0.9388820638820639}, {\"threshold\": 0.005, \"falseNegatives\": 202.0, \"trueNegatives\": 3309.0, \"falsePositives\": 4295.0, \"truePositives\": 3054.0, \"precision\": 0.41556674377466324, \"recall\": 0.937960687960688}, {\"threshold\": 0.006, \"falseNegatives\": 212.0, \"trueNegatives\": 3364.0, \"falsePositives\": 4240.0, \"truePositives\": 3044.0, \"precision\": 0.41790225151015925, \"recall\": 0.9348894348894349}, {\"threshold\": 0.007, \"falseNegatives\": 215.0, \"trueNegatives\": 3400.0, \"falsePositives\": 4204.0, \"truePositives\": 3041.0, \"precision\": 0.4197377501725328, \"recall\": 0.933968058968059}, {\"threshold\": 0.008, \"falseNegatives\": 219.0, \"trueNegatives\": 3427.0, \"falsePositives\": 4177.0, \"truePositives\": 3037.0, \"precision\": 0.42098696978098143, \"recall\": 0.9327395577395577}, {\"threshold\": 0.009, \"falseNegatives\": 220.0, \"trueNegatives\": 3457.0, \"falsePositives\": 4147.0, \"truePositives\": 3036.0, \"precision\": 0.4226646248085758, \"recall\": 0.9324324324324325}, {\"threshold\": 0.01, \"falseNegatives\": 220.0, \"trueNegatives\": 3489.0, \"falsePositives\": 4115.0, \"truePositives\": 3036.0, \"precision\": 0.4245560061529856, \"recall\": 0.9324324324324325}, {\"threshold\": 0.011, \"falseNegatives\": 221.0, \"trueNegatives\": 3517.0, \"falsePositives\": 4087.0, \"truePositives\": 3035.0, \"precision\": 0.42614434147711316, \"recall\": 0.9321253071253072}, {\"threshold\": 0.012, \"falseNegatives\": 225.0, \"trueNegatives\": 3540.0, \"falsePositives\": 4064.0, \"truePositives\": 3031.0, \"precision\": 0.4272022551092319, \"recall\": 0.9308968058968059}, {\"threshold\": 0.013, \"falseNegatives\": 230.0, \"trueNegatives\": 3565.0, \"falsePositives\": 4039.0, \"truePositives\": 3026.0, \"precision\": 0.42830856334041045, \"recall\": 0.9293611793611793}, {\"threshold\": 0.014, \"falseNegatives\": 233.0, \"trueNegatives\": 3578.0, \"falsePositives\": 4026.0, \"truePositives\": 3023.0, \"precision\": 0.4288551567598241, \"recall\": 0.9284398034398035}, {\"threshold\": 0.015, \"falseNegatives\": 233.0, \"trueNegatives\": 3601.0, \"falsePositives\": 4003.0, \"truePositives\": 3023.0, \"precision\": 0.43025903785937947, \"recall\": 0.9284398034398035}, {\"threshold\": 0.016, \"falseNegatives\": 235.0, \"trueNegatives\": 3623.0, \"falsePositives\": 3981.0, \"truePositives\": 3021.0, \"precision\": 0.4314481576692374, \"recall\": 0.9278255528255528}, {\"threshold\": 0.017, \"falseNegatives\": 238.0, \"trueNegatives\": 3638.0, \"falsePositives\": 3966.0, \"truePositives\": 3018.0, \"precision\": 0.4321305841924399, \"recall\": 0.9269041769041769}, {\"threshold\": 0.018, \"falseNegatives\": 242.0, \"trueNegatives\": 3658.0, \"falsePositives\": 3946.0, \"truePositives\": 3014.0, \"precision\": 0.4330459770114943, \"recall\": 0.9256756756756757}, {\"threshold\": 0.019, \"falseNegatives\": 244.0, \"trueNegatives\": 3685.0, \"falsePositives\": 3919.0, \"truePositives\": 3012.0, \"precision\": 0.43456932621555333, \"recall\": 0.9250614250614251}, {\"threshold\": 0.02, \"falseNegatives\": 246.0, \"trueNegatives\": 3696.0, \"falsePositives\": 3908.0, \"truePositives\": 3010.0, \"precision\": 0.4350968488002313, \"recall\": 0.9244471744471745}, {\"threshold\": 0.021, \"falseNegatives\": 251.0, \"trueNegatives\": 3709.0, \"falsePositives\": 3895.0, \"truePositives\": 3005.0, \"precision\": 0.4355072463768116, \"recall\": 0.922911547911548}, {\"threshold\": 0.022, \"falseNegatives\": 252.0, \"trueNegatives\": 3718.0, \"falsePositives\": 3886.0, \"truePositives\": 3004.0, \"precision\": 0.4359941944847605, \"recall\": 0.9226044226044227}, {\"threshold\": 0.023, \"falseNegatives\": 252.0, \"trueNegatives\": 3742.0, \"falsePositives\": 3862.0, \"truePositives\": 3004.0, \"precision\": 0.43751820565103405, \"recall\": 0.9226044226044227}, {\"threshold\": 0.024, \"falseNegatives\": 257.0, \"trueNegatives\": 3751.0, \"falsePositives\": 3853.0, \"truePositives\": 2999.0, \"precision\": 0.4376824284880327, \"recall\": 0.9210687960687961}, {\"threshold\": 0.025, \"falseNegatives\": 261.0, \"trueNegatives\": 3768.0, \"falsePositives\": 3836.0, \"truePositives\": 2995.0, \"precision\": 0.4384423949641341, \"recall\": 0.9198402948402948}, {\"threshold\": 0.026, \"falseNegatives\": 263.0, \"trueNegatives\": 3786.0, \"falsePositives\": 3818.0, \"truePositives\": 2993.0, \"precision\": 0.43943620613713114, \"recall\": 0.9192260442260443}, {\"threshold\": 0.027, \"falseNegatives\": 264.0, \"trueNegatives\": 3800.0, \"falsePositives\": 3804.0, \"truePositives\": 2992.0, \"precision\": 0.44025897586815776, \"recall\": 0.918918918918919}, {\"threshold\": 0.028, \"falseNegatives\": 265.0, \"trueNegatives\": 3813.0, \"falsePositives\": 3791.0, \"truePositives\": 2991.0, \"precision\": 0.44102034797994694, \"recall\": 0.9186117936117936}, {\"threshold\": 0.029, \"falseNegatives\": 267.0, \"trueNegatives\": 3821.0, \"falsePositives\": 3783.0, \"truePositives\": 2989.0, \"precision\": 0.4413762551683402, \"recall\": 0.917997542997543}, {\"threshold\": 0.03, \"falseNegatives\": 268.0, \"trueNegatives\": 3834.0, \"falsePositives\": 3770.0, \"truePositives\": 2988.0, \"precision\": 0.4421426457531814, \"recall\": 0.9176904176904177}, {\"threshold\": 0.031, \"falseNegatives\": 270.0, \"trueNegatives\": 3847.0, \"falsePositives\": 3757.0, \"truePositives\": 2986.0, \"precision\": 0.44282960106777397, \"recall\": 0.9170761670761671}, {\"threshold\": 0.032, \"falseNegatives\": 273.0, \"trueNegatives\": 3856.0, \"falsePositives\": 3748.0, \"truePositives\": 2983.0, \"precision\": 0.4431733769127916, \"recall\": 0.9161547911547911}, {\"threshold\": 0.033, \"falseNegatives\": 274.0, \"trueNegatives\": 3872.0, \"falsePositives\": 3732.0, \"truePositives\": 2982.0, \"precision\": 0.44414655942806075, \"recall\": 0.9158476658476659}, {\"threshold\": 0.034, \"falseNegatives\": 274.0, \"trueNegatives\": 3881.0, \"falsePositives\": 3723.0, \"truePositives\": 2982.0, \"precision\": 0.44474272930648767, \"recall\": 0.9158476658476659}, {\"threshold\": 0.035, \"falseNegatives\": 275.0, \"trueNegatives\": 3892.0, \"falsePositives\": 3712.0, \"truePositives\": 2981.0, \"precision\": 0.4453907067085014, \"recall\": 0.9155405405405406}, {\"threshold\": 0.036, \"falseNegatives\": 278.0, \"trueNegatives\": 3903.0, \"falsePositives\": 3701.0, \"truePositives\": 2978.0, \"precision\": 0.44587513100763587, \"recall\": 0.9146191646191646}, {\"threshold\": 0.037, \"falseNegatives\": 280.0, \"trueNegatives\": 3921.0, \"falsePositives\": 3683.0, \"truePositives\": 2976.0, \"precision\": 0.44691395104370024, \"recall\": 0.914004914004914}, {\"threshold\": 0.038, \"falseNegatives\": 281.0, \"trueNegatives\": 3932.0, \"falsePositives\": 3672.0, \"truePositives\": 2975.0, \"precision\": 0.4475703324808184, \"recall\": 0.9136977886977887}, {\"threshold\": 0.039, \"falseNegatives\": 283.0, \"trueNegatives\": 3954.0, \"falsePositives\": 3650.0, \"truePositives\": 2973.0, \"precision\": 0.448890231013136, \"recall\": 0.913083538083538}, {\"threshold\": 0.04, \"falseNegatives\": 285.0, \"trueNegatives\": 3967.0, \"falsePositives\": 3637.0, \"truePositives\": 2971.0, \"precision\": 0.44960653753026636, \"recall\": 0.9124692874692875}, {\"threshold\": 0.041, \"falseNegatives\": 285.0, \"trueNegatives\": 3980.0, \"falsePositives\": 3624.0, \"truePositives\": 2971.0, \"precision\": 0.45049279757391963, \"recall\": 0.9124692874692875}, {\"threshold\": 0.042, \"falseNegatives\": 288.0, \"trueNegatives\": 3992.0, \"falsePositives\": 3612.0, \"truePositives\": 2968.0, \"precision\": 0.451063829787234, \"recall\": 0.9115479115479116}, {\"threshold\": 0.043, \"falseNegatives\": 289.0, \"trueNegatives\": 4004.0, \"falsePositives\": 3600.0, \"truePositives\": 2967.0, \"precision\": 0.45180447693010506, \"recall\": 0.9112407862407862}, {\"threshold\": 0.044, \"falseNegatives\": 290.0, \"trueNegatives\": 4014.0, \"falsePositives\": 3590.0, \"truePositives\": 2966.0, \"precision\": 0.4524100061012813, \"recall\": 0.9109336609336609}, {\"threshold\": 0.045, \"falseNegatives\": 290.0, \"trueNegatives\": 4030.0, \"falsePositives\": 3574.0, \"truePositives\": 2966.0, \"precision\": 0.45351681957186546, \"recall\": 0.9109336609336609}, {\"threshold\": 0.046, \"falseNegatives\": 295.0, \"trueNegatives\": 4039.0, \"falsePositives\": 3565.0, \"truePositives\": 2961.0, \"precision\": 0.453723567269384, \"recall\": 0.9093980343980343}, {\"threshold\": 0.047, \"falseNegatives\": 296.0, \"trueNegatives\": 4050.0, \"falsePositives\": 3554.0, \"truePositives\": 2960.0, \"precision\": 0.4544058949953945, \"recall\": 0.9090909090909091}, {\"threshold\": 0.048, \"falseNegatives\": 297.0, \"trueNegatives\": 4058.0, \"falsePositives\": 3546.0, \"truePositives\": 2959.0, \"precision\": 0.454880860876249, \"recall\": 0.9087837837837838}, {\"threshold\": 0.049, \"falseNegatives\": 298.0, \"trueNegatives\": 4062.0, \"falsePositives\": 3542.0, \"truePositives\": 2958.0, \"precision\": 0.4550769230769231, \"recall\": 0.9084766584766585}, {\"threshold\": 0.05, \"falseNegatives\": 299.0, \"trueNegatives\": 4073.0, \"falsePositives\": 3531.0, \"truePositives\": 2957.0, \"precision\": 0.4557644882860666, \"recall\": 0.9081695331695332}, {\"threshold\": 0.051, \"falseNegatives\": 300.0, \"trueNegatives\": 4083.0, \"falsePositives\": 3521.0, \"truePositives\": 2956.0, \"precision\": 0.4563841284545314, \"recall\": 0.9078624078624079}, {\"threshold\": 0.052, \"falseNegatives\": 300.0, \"trueNegatives\": 4091.0, \"falsePositives\": 3513.0, \"truePositives\": 2956.0, \"precision\": 0.45694852372855155, \"recall\": 0.9078624078624079}, {\"threshold\": 0.053, \"falseNegatives\": 302.0, \"trueNegatives\": 4098.0, \"falsePositives\": 3506.0, \"truePositives\": 2954.0, \"precision\": 0.45727554179566565, \"recall\": 0.9072481572481572}, {\"threshold\": 0.054, \"falseNegatives\": 303.0, \"trueNegatives\": 4109.0, \"falsePositives\": 3495.0, \"truePositives\": 2953.0, \"precision\": 0.4579714640198511, \"recall\": 0.9069410319410319}, {\"threshold\": 0.055, \"falseNegatives\": 305.0, \"trueNegatives\": 4117.0, \"falsePositives\": 3487.0, \"truePositives\": 2951.0, \"precision\": 0.458372165268717, \"recall\": 0.9063267813267813}, {\"threshold\": 0.056, \"falseNegatives\": 307.0, \"trueNegatives\": 4128.0, \"falsePositives\": 3476.0, \"truePositives\": 2949.0, \"precision\": 0.45898832684824903, \"recall\": 0.9057125307125307}, {\"threshold\": 0.057, \"falseNegatives\": 307.0, \"trueNegatives\": 4138.0, \"falsePositives\": 3466.0, \"truePositives\": 2949.0, \"precision\": 0.45970381917381137, \"recall\": 0.9057125307125307}, {\"threshold\": 0.058, \"falseNegatives\": 308.0, \"trueNegatives\": 4150.0, \"falsePositives\": 3454.0, \"truePositives\": 2948.0, \"precision\": 0.46048109965635736, \"recall\": 0.9054054054054054}, {\"threshold\": 0.059, \"falseNegatives\": 310.0, \"trueNegatives\": 4158.0, \"falsePositives\": 3446.0, \"truePositives\": 2946.0, \"precision\": 0.46088861076345433, \"recall\": 0.9047911547911548}, {\"threshold\": 0.06, \"falseNegatives\": 311.0, \"trueNegatives\": 4163.0, \"falsePositives\": 3441.0, \"truePositives\": 2945.0, \"precision\": 0.46116504854368934, \"recall\": 0.9044840294840295}, {\"threshold\": 0.061, \"falseNegatives\": 311.0, \"trueNegatives\": 4167.0, \"falsePositives\": 3437.0, \"truePositives\": 2945.0, \"precision\": 0.4614540896270761, \"recall\": 0.9044840294840295}, {\"threshold\": 0.062, \"falseNegatives\": 311.0, \"trueNegatives\": 4178.0, \"falsePositives\": 3426.0, \"truePositives\": 2945.0, \"precision\": 0.4622508240464605, \"recall\": 0.9044840294840295}, {\"threshold\": 0.063, \"falseNegatives\": 313.0, \"trueNegatives\": 4187.0, \"falsePositives\": 3417.0, \"truePositives\": 2943.0, \"precision\": 0.46273584905660375, \"recall\": 0.9038697788697788}, {\"threshold\": 0.064, \"falseNegatives\": 314.0, \"trueNegatives\": 4192.0, \"falsePositives\": 3412.0, \"truePositives\": 2942.0, \"precision\": 0.4630154233553667, \"recall\": 0.9035626535626535}, {\"threshold\": 0.065, \"falseNegatives\": 315.0, \"trueNegatives\": 4207.0, \"falsePositives\": 3397.0, \"truePositives\": 2941.0, \"precision\": 0.4640265067844746, \"recall\": 0.9032555282555282}, {\"threshold\": 0.066, \"falseNegatives\": 316.0, \"trueNegatives\": 4212.0, \"falsePositives\": 3392.0, \"truePositives\": 2940.0, \"precision\": 0.46430827542640557, \"recall\": 0.902948402948403}, {\"threshold\": 0.067, \"falseNegatives\": 317.0, \"trueNegatives\": 4227.0, \"falsePositives\": 3377.0, \"truePositives\": 2939.0, \"precision\": 0.46532615579480685, \"recall\": 0.9026412776412777}, {\"threshold\": 0.068, \"falseNegatives\": 318.0, \"trueNegatives\": 4236.0, \"falsePositives\": 3368.0, \"truePositives\": 2938.0, \"precision\": 0.46590548683793215, \"recall\": 0.9023341523341524}, {\"threshold\": 0.069, \"falseNegatives\": 320.0, \"trueNegatives\": 4239.0, \"falsePositives\": 3365.0, \"truePositives\": 2936.0, \"precision\": 0.46595778447865416, \"recall\": 0.9017199017199017}, {\"threshold\": 0.07, \"falseNegatives\": 321.0, \"trueNegatives\": 4246.0, \"falsePositives\": 3358.0, \"truePositives\": 2935.0, \"precision\": 0.4663912283489592, \"recall\": 0.9014127764127764}, {\"threshold\": 0.071, \"falseNegatives\": 321.0, \"trueNegatives\": 4249.0, \"falsePositives\": 3355.0, \"truePositives\": 2935.0, \"precision\": 0.4666136724960254, \"recall\": 0.9014127764127764}, {\"threshold\": 0.072, \"falseNegatives\": 322.0, \"trueNegatives\": 4254.0, \"falsePositives\": 3350.0, \"truePositives\": 2934.0, \"precision\": 0.4669000636537237, \"recall\": 0.9011056511056511}, {\"threshold\": 0.073, \"falseNegatives\": 325.0, \"trueNegatives\": 4265.0, \"falsePositives\": 3339.0, \"truePositives\": 2931.0, \"precision\": 0.46746411483253586, \"recall\": 0.9001842751842751}, {\"threshold\": 0.074, \"falseNegatives\": 325.0, \"trueNegatives\": 4271.0, \"falsePositives\": 3333.0, \"truePositives\": 2931.0, \"precision\": 0.467911877394636, \"recall\": 0.9001842751842751}, {\"threshold\": 0.075, \"falseNegatives\": 327.0, \"trueNegatives\": 4278.0, \"falsePositives\": 3326.0, \"truePositives\": 2929.0, \"precision\": 0.4682653876898481, \"recall\": 0.8995700245700246}, {\"threshold\": 0.076, \"falseNegatives\": 328.0, \"trueNegatives\": 4284.0, \"falsePositives\": 3320.0, \"truePositives\": 2928.0, \"precision\": 0.4686299615877081, \"recall\": 0.8992628992628993}, {\"threshold\": 0.077, \"falseNegatives\": 328.0, \"trueNegatives\": 4289.0, \"falsePositives\": 3315.0, \"truePositives\": 2928.0, \"precision\": 0.46900528592023066, \"recall\": 0.8992628992628993}, {\"threshold\": 0.078, \"falseNegatives\": 329.0, \"trueNegatives\": 4294.0, \"falsePositives\": 3310.0, \"truePositives\": 2927.0, \"precision\": 0.4692961359628026, \"recall\": 0.898955773955774}, {\"threshold\": 0.079, \"falseNegatives\": 331.0, \"trueNegatives\": 4299.0, \"falsePositives\": 3305.0, \"truePositives\": 2925.0, \"precision\": 0.4695024077046549, \"recall\": 0.8983415233415234}, {\"threshold\": 0.08, \"falseNegatives\": 331.0, \"trueNegatives\": 4304.0, \"falsePositives\": 3300.0, \"truePositives\": 2925.0, \"precision\": 0.46987951807228917, \"recall\": 0.8983415233415234}, {\"threshold\": 0.081, \"falseNegatives\": 332.0, \"trueNegatives\": 4307.0, \"falsePositives\": 3297.0, \"truePositives\": 2924.0, \"precision\": 0.47002089696190325, \"recall\": 0.898034398034398}, {\"threshold\": 0.082, \"falseNegatives\": 332.0, \"trueNegatives\": 4311.0, \"falsePositives\": 3293.0, \"truePositives\": 2924.0, \"precision\": 0.47032330706128356, \"recall\": 0.898034398034398}, {\"threshold\": 0.083, \"falseNegatives\": 332.0, \"trueNegatives\": 4318.0, \"falsePositives\": 3286.0, \"truePositives\": 2924.0, \"precision\": 0.47085346215781, \"recall\": 0.898034398034398}, {\"threshold\": 0.084, \"falseNegatives\": 332.0, \"trueNegatives\": 4322.0, \"falsePositives\": 3282.0, \"truePositives\": 2924.0, \"precision\": 0.47115694489203996, \"recall\": 0.898034398034398}, {\"threshold\": 0.085, \"falseNegatives\": 332.0, \"trueNegatives\": 4328.0, \"falsePositives\": 3276.0, \"truePositives\": 2924.0, \"precision\": 0.47161290322580646, \"recall\": 0.898034398034398}, {\"threshold\": 0.086, \"falseNegatives\": 333.0, \"trueNegatives\": 4336.0, \"falsePositives\": 3268.0, \"truePositives\": 2923.0, \"precision\": 0.4721369730253594, \"recall\": 0.8977272727272727}, {\"threshold\": 0.087, \"falseNegatives\": 334.0, \"trueNegatives\": 4338.0, \"falsePositives\": 3266.0, \"truePositives\": 2922.0, \"precision\": 0.47220426632191337, \"recall\": 0.8974201474201474}, {\"threshold\": 0.088, \"falseNegatives\": 334.0, \"trueNegatives\": 4342.0, \"falsePositives\": 3262.0, \"truePositives\": 2922.0, \"precision\": 0.47250970245795604, \"recall\": 0.8974201474201474}, {\"threshold\": 0.089, \"falseNegatives\": 338.0, \"trueNegatives\": 4345.0, \"falsePositives\": 3259.0, \"truePositives\": 2918.0, \"precision\": 0.47239760401489395, \"recall\": 0.8961916461916462}, {\"threshold\": 0.09, \"falseNegatives\": 339.0, \"trueNegatives\": 4352.0, \"falsePositives\": 3252.0, \"truePositives\": 2917.0, \"precision\": 0.47284811152536876, \"recall\": 0.8958845208845209}, {\"threshold\": 0.091, \"falseNegatives\": 341.0, \"trueNegatives\": 4355.0, \"falsePositives\": 3249.0, \"truePositives\": 2915.0, \"precision\": 0.47290720311486045, \"recall\": 0.8952702702702703}, {\"threshold\": 0.092, \"falseNegatives\": 341.0, \"trueNegatives\": 4362.0, \"falsePositives\": 3242.0, \"truePositives\": 2915.0, \"precision\": 0.4734448595095014, \"recall\": 0.8952702702702703}, {\"threshold\": 0.093, \"falseNegatives\": 345.0, \"trueNegatives\": 4368.0, \"falsePositives\": 3236.0, \"truePositives\": 2911.0, \"precision\": 0.4735643403286156, \"recall\": 0.894041769041769}, {\"threshold\": 0.094, \"falseNegatives\": 345.0, \"trueNegatives\": 4373.0, \"falsePositives\": 3231.0, \"truePositives\": 2911.0, \"precision\": 0.47394985346792573, \"recall\": 0.894041769041769}, {\"threshold\": 0.095, \"falseNegatives\": 346.0, \"trueNegatives\": 4375.0, \"falsePositives\": 3229.0, \"truePositives\": 2910.0, \"precision\": 0.47401856979964163, \"recall\": 0.8937346437346437}, {\"threshold\": 0.096, \"falseNegatives\": 348.0, \"trueNegatives\": 4384.0, \"falsePositives\": 3220.0, \"truePositives\": 2908.0, \"precision\": 0.4745430809399478, \"recall\": 0.8931203931203932}, {\"threshold\": 0.097, \"falseNegatives\": 350.0, \"trueNegatives\": 4389.0, \"falsePositives\": 3215.0, \"truePositives\": 2906.0, \"precision\": 0.4747590263028917, \"recall\": 0.8925061425061425}, {\"threshold\": 0.098, \"falseNegatives\": 351.0, \"trueNegatives\": 4391.0, \"falsePositives\": 3213.0, \"truePositives\": 2905.0, \"precision\": 0.4748283752860412, \"recall\": 0.8921990171990172}, {\"threshold\": 0.099, \"falseNegatives\": 353.0, \"trueNegatives\": 4396.0, \"falsePositives\": 3208.0, \"truePositives\": 2903.0, \"precision\": 0.47504500081819667, \"recall\": 0.8915847665847666}, {\"threshold\": 0.1, \"falseNegatives\": 354.0, \"trueNegatives\": 4397.0, \"falsePositives\": 3207.0, \"truePositives\": 2902.0, \"precision\": 0.4750368309052218, \"recall\": 0.8912776412776413}, {\"threshold\": 0.101, \"falseNegatives\": 355.0, \"trueNegatives\": 4401.0, \"falsePositives\": 3203.0, \"truePositives\": 2901.0, \"precision\": 0.475262123197903, \"recall\": 0.890970515970516}, {\"threshold\": 0.102, \"falseNegatives\": 356.0, \"trueNegatives\": 4403.0, \"falsePositives\": 3201.0, \"truePositives\": 2900.0, \"precision\": 0.47533191280118015, \"recall\": 0.8906633906633906}, {\"threshold\": 0.103, \"falseNegatives\": 359.0, \"trueNegatives\": 4407.0, \"falsePositives\": 3197.0, \"truePositives\": 2897.0, \"precision\": 0.4753856252051198, \"recall\": 0.8897420147420148}, {\"threshold\": 0.104, \"falseNegatives\": 359.0, \"trueNegatives\": 4411.0, \"falsePositives\": 3193.0, \"truePositives\": 2897.0, \"precision\": 0.47569786535303776, \"recall\": 0.8897420147420148}, {\"threshold\": 0.105, \"falseNegatives\": 359.0, \"trueNegatives\": 4414.0, \"falsePositives\": 3190.0, \"truePositives\": 2897.0, \"precision\": 0.47593231476918024, \"recall\": 0.8897420147420148}, {\"threshold\": 0.106, \"falseNegatives\": 359.0, \"trueNegatives\": 4423.0, \"falsePositives\": 3181.0, \"truePositives\": 2897.0, \"precision\": 0.4766370516617308, \"recall\": 0.8897420147420148}, {\"threshold\": 0.107, \"falseNegatives\": 362.0, \"trueNegatives\": 4428.0, \"falsePositives\": 3176.0, \"truePositives\": 2894.0, \"precision\": 0.47677100494233937, \"recall\": 0.8888206388206388}, {\"threshold\": 0.108, \"falseNegatives\": 366.0, \"trueNegatives\": 4434.0, \"falsePositives\": 3170.0, \"truePositives\": 2890.0, \"precision\": 0.4768976897689769, \"recall\": 0.8875921375921376}, {\"threshold\": 0.109, \"falseNegatives\": 370.0, \"trueNegatives\": 4438.0, \"falsePositives\": 3166.0, \"truePositives\": 2886.0, \"precision\": 0.47686715135492397, \"recall\": 0.8863636363636364}, {\"threshold\": 0.11, \"falseNegatives\": 370.0, \"trueNegatives\": 4447.0, \"falsePositives\": 3157.0, \"truePositives\": 2886.0, \"precision\": 0.47757736223729935, \"recall\": 0.8863636363636364}, {\"threshold\": 0.111, \"falseNegatives\": 373.0, \"trueNegatives\": 4451.0, \"falsePositives\": 3153.0, \"truePositives\": 2883.0, \"precision\": 0.47763419483101394, \"recall\": 0.8854422604422605}, {\"threshold\": 0.112, \"falseNegatives\": 374.0, \"trueNegatives\": 4456.0, \"falsePositives\": 3148.0, \"truePositives\": 2882.0, \"precision\": 0.4779436152570481, \"recall\": 0.8851351351351351}, {\"threshold\": 0.113, \"falseNegatives\": 375.0, \"trueNegatives\": 4463.0, \"falsePositives\": 3141.0, \"truePositives\": 2881.0, \"precision\": 0.4784124875456659, \"recall\": 0.8848280098280098}, {\"threshold\": 0.114, \"falseNegatives\": 376.0, \"trueNegatives\": 4474.0, \"falsePositives\": 3130.0, \"truePositives\": 2880.0, \"precision\": 0.47920133111480867, \"recall\": 0.8845208845208845}, {\"threshold\": 0.115, \"falseNegatives\": 378.0, \"trueNegatives\": 4486.0, \"falsePositives\": 3118.0, \"truePositives\": 2878.0, \"precision\": 0.4799866577718479, \"recall\": 0.8839066339066339}, {\"threshold\": 0.116, \"falseNegatives\": 381.0, \"trueNegatives\": 4498.0, \"falsePositives\": 3106.0, \"truePositives\": 2875.0, \"precision\": 0.48068884801872597, \"recall\": 0.882985257985258}, {\"threshold\": 0.117, \"falseNegatives\": 381.0, \"trueNegatives\": 4502.0, \"falsePositives\": 3102.0, \"truePositives\": 2875.0, \"precision\": 0.4810105404048854, \"recall\": 0.882985257985258}, {\"threshold\": 0.118, \"falseNegatives\": 385.0, \"trueNegatives\": 4504.0, \"falsePositives\": 3100.0, \"truePositives\": 2871.0, \"precision\": 0.480823982582482, \"recall\": 0.8817567567567568}, {\"threshold\": 0.119, \"falseNegatives\": 385.0, \"trueNegatives\": 4508.0, \"falsePositives\": 3096.0, \"truePositives\": 2871.0, \"precision\": 0.48114630467571645, \"recall\": 0.8817567567567568}, {\"threshold\": 0.12, \"falseNegatives\": 386.0, \"trueNegatives\": 4520.0, \"falsePositives\": 3084.0, \"truePositives\": 2870.0, \"precision\": 0.4820288881424253, \"recall\": 0.8814496314496314}, {\"threshold\": 0.121, \"falseNegatives\": 386.0, \"trueNegatives\": 4527.0, \"falsePositives\": 3077.0, \"truePositives\": 2870.0, \"precision\": 0.48259626702539093, \"recall\": 0.8814496314496314}, {\"threshold\": 0.122, \"falseNegatives\": 386.0, \"trueNegatives\": 4531.0, \"falsePositives\": 3073.0, \"truePositives\": 2870.0, \"precision\": 0.4829210836277974, \"recall\": 0.8814496314496314}, {\"threshold\": 0.123, \"falseNegatives\": 388.0, \"trueNegatives\": 4543.0, \"falsePositives\": 3061.0, \"truePositives\": 2868.0, \"precision\": 0.4837240681396526, \"recall\": 0.8808353808353808}, {\"threshold\": 0.124, \"falseNegatives\": 390.0, \"trueNegatives\": 4549.0, \"falsePositives\": 3055.0, \"truePositives\": 2866.0, \"precision\": 0.4840398581320723, \"recall\": 0.8802211302211302}, {\"threshold\": 0.125, \"falseNegatives\": 391.0, \"trueNegatives\": 4554.0, \"falsePositives\": 3050.0, \"truePositives\": 2865.0, \"precision\": 0.48436179205409974, \"recall\": 0.879914004914005}, {\"threshold\": 0.126, \"falseNegatives\": 392.0, \"trueNegatives\": 4566.0, \"falsePositives\": 3038.0, \"truePositives\": 2864.0, \"precision\": 0.48525923415791256, \"recall\": 0.8796068796068796}, {\"threshold\": 0.127, \"falseNegatives\": 396.0, \"trueNegatives\": 4573.0, \"falsePositives\": 3031.0, \"truePositives\": 2860.0, \"precision\": 0.4854863350874215, \"recall\": 0.8783783783783784}, {\"threshold\": 0.128, \"falseNegatives\": 396.0, \"trueNegatives\": 4578.0, \"falsePositives\": 3026.0, \"truePositives\": 2860.0, \"precision\": 0.4858987427794767, \"recall\": 0.8783783783783784}, {\"threshold\": 0.129, \"falseNegatives\": 397.0, \"trueNegatives\": 4585.0, \"falsePositives\": 3019.0, \"truePositives\": 2859.0, \"precision\": 0.4863899285471249, \"recall\": 0.8780712530712531}, {\"threshold\": 0.13, \"falseNegatives\": 399.0, \"trueNegatives\": 4594.0, \"falsePositives\": 3010.0, \"truePositives\": 2857.0, \"precision\": 0.486960968126811, \"recall\": 0.8774570024570024}, {\"threshold\": 0.131, \"falseNegatives\": 400.0, \"trueNegatives\": 4602.0, \"falsePositives\": 3002.0, \"truePositives\": 2856.0, \"precision\": 0.48753840901331513, \"recall\": 0.8771498771498771}, {\"threshold\": 0.132, \"falseNegatives\": 405.0, \"trueNegatives\": 4615.0, \"falsePositives\": 2989.0, \"truePositives\": 2851.0, \"precision\": 0.48818493150684933, \"recall\": 0.8756142506142506}, {\"threshold\": 0.133, \"falseNegatives\": 407.0, \"trueNegatives\": 4621.0, \"falsePositives\": 2983.0, \"truePositives\": 2849.0, \"precision\": 0.4885116598079561, \"recall\": 0.875}, {\"threshold\": 0.134, \"falseNegatives\": 407.0, \"trueNegatives\": 4625.0, \"falsePositives\": 2979.0, \"truePositives\": 2849.0, \"precision\": 0.48884694577899795, \"recall\": 0.875}, {\"threshold\": 0.135, \"falseNegatives\": 409.0, \"trueNegatives\": 4634.0, \"falsePositives\": 2970.0, \"truePositives\": 2847.0, \"precision\": 0.4894275399690562, \"recall\": 0.8743857493857494}, {\"threshold\": 0.136, \"falseNegatives\": 410.0, \"trueNegatives\": 4641.0, \"falsePositives\": 2963.0, \"truePositives\": 2846.0, \"precision\": 0.4899294198657256, \"recall\": 0.8740786240786241}, {\"threshold\": 0.137, \"falseNegatives\": 413.0, \"trueNegatives\": 4647.0, \"falsePositives\": 2957.0, \"truePositives\": 2843.0, \"precision\": 0.49017241379310345, \"recall\": 0.8731572481572482}, {\"threshold\": 0.138, \"falseNegatives\": 416.0, \"trueNegatives\": 4653.0, \"falsePositives\": 2951.0, \"truePositives\": 2840.0, \"precision\": 0.49041616301156965, \"recall\": 0.8722358722358723}, {\"threshold\": 0.139, \"falseNegatives\": 421.0, \"trueNegatives\": 4660.0, \"falsePositives\": 2944.0, \"truePositives\": 2835.0, \"precision\": 0.49056930264751686, \"recall\": 0.8707002457002457}, {\"threshold\": 0.14, \"falseNegatives\": 421.0, \"trueNegatives\": 4666.0, \"falsePositives\": 2938.0, \"truePositives\": 2835.0, \"precision\": 0.4910791616144119, \"recall\": 0.8707002457002457}, {\"threshold\": 0.141, \"falseNegatives\": 423.0, \"trueNegatives\": 4669.0, \"falsePositives\": 2935.0, \"truePositives\": 2833.0, \"precision\": 0.49115811373092927, \"recall\": 0.870085995085995}, {\"threshold\": 0.142, \"falseNegatives\": 424.0, \"trueNegatives\": 4677.0, \"falsePositives\": 2927.0, \"truePositives\": 2832.0, \"precision\": 0.49175204028477165, \"recall\": 0.8697788697788698}, {\"threshold\": 0.143, \"falseNegatives\": 424.0, \"trueNegatives\": 4681.0, \"falsePositives\": 2923.0, \"truePositives\": 2832.0, \"precision\": 0.49209383145091223, \"recall\": 0.8697788697788698}, {\"threshold\": 0.144, \"falseNegatives\": 427.0, \"trueNegatives\": 4689.0, \"falsePositives\": 2915.0, \"truePositives\": 2829.0, \"precision\": 0.4925139275766017, \"recall\": 0.8688574938574939}, {\"threshold\": 0.145, \"falseNegatives\": 427.0, \"trueNegatives\": 4697.0, \"falsePositives\": 2907.0, \"truePositives\": 2829.0, \"precision\": 0.4932008368200837, \"recall\": 0.8688574938574939}, {\"threshold\": 0.146, \"falseNegatives\": 427.0, \"trueNegatives\": 4705.0, \"falsePositives\": 2899.0, \"truePositives\": 2829.0, \"precision\": 0.4938896648044693, \"recall\": 0.8688574938574939}, {\"threshold\": 0.147, \"falseNegatives\": 428.0, \"trueNegatives\": 4708.0, \"falsePositives\": 2896.0, \"truePositives\": 2828.0, \"precision\": 0.49406009783368277, \"recall\": 0.8685503685503686}, {\"threshold\": 0.148, \"falseNegatives\": 429.0, \"trueNegatives\": 4716.0, \"falsePositives\": 2888.0, \"truePositives\": 2827.0, \"precision\": 0.494663167104112, \"recall\": 0.8682432432432432}, {\"threshold\": 0.149, \"falseNegatives\": 431.0, \"trueNegatives\": 4720.0, \"falsePositives\": 2884.0, \"truePositives\": 2825.0, \"precision\": 0.49483272026624625, \"recall\": 0.8676289926289926}, {\"threshold\": 0.15, \"falseNegatives\": 432.0, \"trueNegatives\": 4729.0, \"falsePositives\": 2875.0, \"truePositives\": 2824.0, \"precision\": 0.49552553079487627, \"recall\": 0.8673218673218673}, {\"threshold\": 0.151, \"falseNegatives\": 432.0, \"trueNegatives\": 4735.0, \"falsePositives\": 2869.0, \"truePositives\": 2824.0, \"precision\": 0.49604777797294924, \"recall\": 0.8673218673218673}, {\"threshold\": 0.152, \"falseNegatives\": 432.0, \"trueNegatives\": 4739.0, \"falsePositives\": 2865.0, \"truePositives\": 2824.0, \"precision\": 0.49639655475478994, \"recall\": 0.8673218673218673}, {\"threshold\": 0.153, \"falseNegatives\": 435.0, \"trueNegatives\": 4742.0, \"falsePositives\": 2862.0, \"truePositives\": 2821.0, \"precision\": 0.49639275030793595, \"recall\": 0.8664004914004914}, {\"threshold\": 0.154, \"falseNegatives\": 437.0, \"trueNegatives\": 4748.0, \"falsePositives\": 2856.0, \"truePositives\": 2819.0, \"precision\": 0.4967400881057269, \"recall\": 0.8657862407862408}, {\"threshold\": 0.155, \"falseNegatives\": 437.0, \"trueNegatives\": 4759.0, \"falsePositives\": 2845.0, \"truePositives\": 2819.0, \"precision\": 0.497704802259887, \"recall\": 0.8657862407862408}, {\"threshold\": 0.156, \"falseNegatives\": 442.0, \"trueNegatives\": 4765.0, \"falsePositives\": 2839.0, \"truePositives\": 2814.0, \"precision\": 0.49778878471607996, \"recall\": 0.8642506142506142}, {\"threshold\": 0.157, \"falseNegatives\": 442.0, \"trueNegatives\": 4770.0, \"falsePositives\": 2834.0, \"truePositives\": 2814.0, \"precision\": 0.49822946175637395, \"recall\": 0.8642506142506142}, {\"threshold\": 0.158, \"falseNegatives\": 444.0, \"trueNegatives\": 4774.0, \"falsePositives\": 2830.0, \"truePositives\": 2812.0, \"precision\": 0.4984048209854661, \"recall\": 0.8636363636363636}, {\"threshold\": 0.159, \"falseNegatives\": 444.0, \"trueNegatives\": 4779.0, \"falsePositives\": 2825.0, \"truePositives\": 2812.0, \"precision\": 0.4988469043817633, \"recall\": 0.8636363636363636}, {\"threshold\": 0.16, \"falseNegatives\": 446.0, \"trueNegatives\": 4781.0, \"falsePositives\": 2823.0, \"truePositives\": 2810.0, \"precision\": 0.49884608556719334, \"recall\": 0.8630221130221131}, {\"threshold\": 0.161, \"falseNegatives\": 447.0, \"trueNegatives\": 4786.0, \"falsePositives\": 2818.0, \"truePositives\": 2809.0, \"precision\": 0.49920028434334457, \"recall\": 0.8627149877149877}, {\"threshold\": 0.162, \"falseNegatives\": 447.0, \"trueNegatives\": 4791.0, \"falsePositives\": 2813.0, \"truePositives\": 2809.0, \"precision\": 0.49964425471362506, \"recall\": 0.8627149877149877}, {\"threshold\": 0.163, \"falseNegatives\": 448.0, \"trueNegatives\": 4800.0, \"falsePositives\": 2804.0, \"truePositives\": 2808.0, \"precision\": 0.5003563791874555, \"recall\": 0.8624078624078624}, {\"threshold\": 0.164, \"falseNegatives\": 449.0, \"trueNegatives\": 4804.0, \"falsePositives\": 2800.0, \"truePositives\": 2807.0, \"precision\": 0.5006242197253433, \"recall\": 0.8621007371007371}, {\"threshold\": 0.165, \"falseNegatives\": 449.0, \"trueNegatives\": 4806.0, \"falsePositives\": 2798.0, \"truePositives\": 2807.0, \"precision\": 0.5008028545941124, \"recall\": 0.8621007371007371}, {\"threshold\": 0.166, \"falseNegatives\": 449.0, \"trueNegatives\": 4811.0, \"falsePositives\": 2793.0, \"truePositives\": 2807.0, \"precision\": 0.50125, \"recall\": 0.8621007371007371}, {\"threshold\": 0.167, \"falseNegatives\": 450.0, \"trueNegatives\": 4817.0, \"falsePositives\": 2787.0, \"truePositives\": 2806.0, \"precision\": 0.50169855176113, \"recall\": 0.8617936117936118}, {\"threshold\": 0.168, \"falseNegatives\": 451.0, \"trueNegatives\": 4823.0, \"falsePositives\": 2781.0, \"truePositives\": 2805.0, \"precision\": 0.5021482277121375, \"recall\": 0.8614864864864865}, {\"threshold\": 0.169, \"falseNegatives\": 451.0, \"trueNegatives\": 4830.0, \"falsePositives\": 2774.0, \"truePositives\": 2805.0, \"precision\": 0.5027782756766446, \"recall\": 0.8614864864864865}, {\"threshold\": 0.17, \"falseNegatives\": 453.0, \"trueNegatives\": 4835.0, \"falsePositives\": 2769.0, \"truePositives\": 2803.0, \"precision\": 0.5030509691313712, \"recall\": 0.8608722358722358}, {\"threshold\": 0.171, \"falseNegatives\": 456.0, \"trueNegatives\": 4841.0, \"falsePositives\": 2763.0, \"truePositives\": 2800.0, \"precision\": 0.5033255437713464, \"recall\": 0.85995085995086}, {\"threshold\": 0.172, \"falseNegatives\": 458.0, \"trueNegatives\": 4851.0, \"falsePositives\": 2753.0, \"truePositives\": 2798.0, \"precision\": 0.5040533237254549, \"recall\": 0.8593366093366094}, {\"threshold\": 0.173, \"falseNegatives\": 459.0, \"trueNegatives\": 4858.0, \"falsePositives\": 2746.0, \"truePositives\": 2797.0, \"precision\": 0.5046003968969872, \"recall\": 0.859029484029484}, {\"threshold\": 0.174, \"falseNegatives\": 460.0, \"trueNegatives\": 4863.0, \"falsePositives\": 2741.0, \"truePositives\": 2796.0, \"precision\": 0.5049665884052736, \"recall\": 0.8587223587223587}, {\"threshold\": 0.175, \"falseNegatives\": 464.0, \"trueNegatives\": 4871.0, \"falsePositives\": 2733.0, \"truePositives\": 2792.0, \"precision\": 0.5053393665158371, \"recall\": 0.8574938574938575}, {\"threshold\": 0.176, \"falseNegatives\": 467.0, \"trueNegatives\": 4876.0, \"falsePositives\": 2728.0, \"truePositives\": 2789.0, \"precision\": 0.5055283668660504, \"recall\": 0.8565724815724816}, {\"threshold\": 0.177, \"falseNegatives\": 470.0, \"trueNegatives\": 4879.0, \"falsePositives\": 2725.0, \"truePositives\": 2786.0, \"precision\": 0.5055343857739067, \"recall\": 0.8556511056511057}, {\"threshold\": 0.178, \"falseNegatives\": 471.0, \"trueNegatives\": 4889.0, \"falsePositives\": 2715.0, \"truePositives\": 2785.0, \"precision\": 0.5063636363636363, \"recall\": 0.8553439803439803}, {\"threshold\": 0.179, \"falseNegatives\": 472.0, \"trueNegatives\": 4894.0, \"falsePositives\": 2710.0, \"truePositives\": 2784.0, \"precision\": 0.5067346195850018, \"recall\": 0.855036855036855}, {\"threshold\": 0.18, \"falseNegatives\": 472.0, \"trueNegatives\": 4897.0, \"falsePositives\": 2707.0, \"truePositives\": 2784.0, \"precision\": 0.5070114733199782, \"recall\": 0.855036855036855}, {\"threshold\": 0.181, \"falseNegatives\": 473.0, \"trueNegatives\": 4903.0, \"falsePositives\": 2701.0, \"truePositives\": 2783.0, \"precision\": 0.5074762946754194, \"recall\": 0.8547297297297297}, {\"threshold\": 0.182, \"falseNegatives\": 475.0, \"trueNegatives\": 4911.0, \"falsePositives\": 2693.0, \"truePositives\": 2781.0, \"precision\": 0.5080379978078188, \"recall\": 0.8541154791154791}, {\"threshold\": 0.183, \"falseNegatives\": 477.0, \"trueNegatives\": 4914.0, \"falsePositives\": 2690.0, \"truePositives\": 2779.0, \"precision\": 0.5081367708904736, \"recall\": 0.8535012285012284}, {\"threshold\": 0.184, \"falseNegatives\": 477.0, \"trueNegatives\": 4919.0, \"falsePositives\": 2685.0, \"truePositives\": 2779.0, \"precision\": 0.508601756954612, \"recall\": 0.8535012285012284}, {\"threshold\": 0.185, \"falseNegatives\": 477.0, \"trueNegatives\": 4921.0, \"falsePositives\": 2683.0, \"truePositives\": 2779.0, \"precision\": 0.5087879897473453, \"recall\": 0.8535012285012284}, {\"threshold\": 0.186, \"falseNegatives\": 477.0, \"trueNegatives\": 4926.0, \"falsePositives\": 2678.0, \"truePositives\": 2779.0, \"precision\": 0.5092541689573026, \"recall\": 0.8535012285012284}, {\"threshold\": 0.187, \"falseNegatives\": 477.0, \"trueNegatives\": 4926.0, \"falsePositives\": 2678.0, \"truePositives\": 2779.0, \"precision\": 0.5092541689573026, \"recall\": 0.8535012285012284}, {\"threshold\": 0.188, \"falseNegatives\": 479.0, \"trueNegatives\": 4933.0, \"falsePositives\": 2671.0, \"truePositives\": 2777.0, \"precision\": 0.5097283406754772, \"recall\": 0.8528869778869779}, {\"threshold\": 0.189, \"falseNegatives\": 481.0, \"trueNegatives\": 4940.0, \"falsePositives\": 2664.0, \"truePositives\": 2775.0, \"precision\": 0.5102040816326531, \"recall\": 0.8522727272727273}, {\"threshold\": 0.19, \"falseNegatives\": 481.0, \"trueNegatives\": 4945.0, \"falsePositives\": 2659.0, \"truePositives\": 2775.0, \"precision\": 0.5106735369893265, \"recall\": 0.8522727272727273}, {\"threshold\": 0.191, \"falseNegatives\": 482.0, \"trueNegatives\": 4951.0, \"falsePositives\": 2653.0, \"truePositives\": 2774.0, \"precision\": 0.5111479638842823, \"recall\": 0.851965601965602}, {\"threshold\": 0.192, \"falseNegatives\": 483.0, \"trueNegatives\": 4956.0, \"falsePositives\": 2648.0, \"truePositives\": 2773.0, \"precision\": 0.5115292381479432, \"recall\": 0.8516584766584766}, {\"threshold\": 0.193, \"falseNegatives\": 485.0, \"trueNegatives\": 4959.0, \"falsePositives\": 2645.0, \"truePositives\": 2771.0, \"precision\": 0.5116322008862629, \"recall\": 0.851044226044226}, {\"threshold\": 0.194, \"falseNegatives\": 485.0, \"trueNegatives\": 4965.0, \"falsePositives\": 2639.0, \"truePositives\": 2771.0, \"precision\": 0.5121996303142329, \"recall\": 0.851044226044226}, {\"threshold\": 0.195, \"falseNegatives\": 486.0, \"trueNegatives\": 4971.0, \"falsePositives\": 2633.0, \"truePositives\": 2770.0, \"precision\": 0.512678141773089, \"recall\": 0.8507371007371007}, {\"threshold\": 0.196, \"falseNegatives\": 486.0, \"trueNegatives\": 4979.0, \"falsePositives\": 2625.0, \"truePositives\": 2770.0, \"precision\": 0.5134383688600556, \"recall\": 0.8507371007371007}, {\"threshold\": 0.197, \"falseNegatives\": 487.0, \"trueNegatives\": 4983.0, \"falsePositives\": 2621.0, \"truePositives\": 2769.0, \"precision\": 0.5137291280148423, \"recall\": 0.8504299754299754}, {\"threshold\": 0.198, \"falseNegatives\": 488.0, \"trueNegatives\": 4986.0, \"falsePositives\": 2618.0, \"truePositives\": 2768.0, \"precision\": 0.5139249907166729, \"recall\": 0.8501228501228502}, {\"threshold\": 0.199, \"falseNegatives\": 488.0, \"trueNegatives\": 4990.0, \"falsePositives\": 2614.0, \"truePositives\": 2768.0, \"precision\": 0.5143069490895578, \"recall\": 0.8501228501228502}, {\"threshold\": 0.2, \"falseNegatives\": 489.0, \"trueNegatives\": 4991.0, \"falsePositives\": 2613.0, \"truePositives\": 2767.0, \"precision\": 0.5143122676579925, \"recall\": 0.8498157248157249}, {\"threshold\": 0.201, \"falseNegatives\": 490.0, \"trueNegatives\": 4997.0, \"falsePositives\": 2607.0, \"truePositives\": 2766.0, \"precision\": 0.5147962032384142, \"recall\": 0.8495085995085995}, {\"threshold\": 0.202, \"falseNegatives\": 493.0, \"trueNegatives\": 5003.0, \"falsePositives\": 2601.0, \"truePositives\": 2763.0, \"precision\": 0.5151006711409396, \"recall\": 0.8485872235872236}, {\"threshold\": 0.203, \"falseNegatives\": 494.0, \"trueNegatives\": 5006.0, \"falsePositives\": 2598.0, \"truePositives\": 2762.0, \"precision\": 0.5152985074626866, \"recall\": 0.8482800982800983}, {\"threshold\": 0.204, \"falseNegatives\": 496.0, \"trueNegatives\": 5017.0, \"falsePositives\": 2587.0, \"truePositives\": 2760.0, \"precision\": 0.5161772956798205, \"recall\": 0.8476658476658476}, {\"threshold\": 0.205, \"falseNegatives\": 497.0, \"trueNegatives\": 5024.0, \"falsePositives\": 2580.0, \"truePositives\": 2759.0, \"precision\": 0.5167634388462259, \"recall\": 0.8473587223587223}, {\"threshold\": 0.206, \"falseNegatives\": 498.0, \"trueNegatives\": 5029.0, \"falsePositives\": 2575.0, \"truePositives\": 2758.0, \"precision\": 0.5171573223326458, \"recall\": 0.847051597051597}, {\"threshold\": 0.207, \"falseNegatives\": 500.0, \"trueNegatives\": 5036.0, \"falsePositives\": 2568.0, \"truePositives\": 2756.0, \"precision\": 0.517655897821187, \"recall\": 0.8464373464373465}, {\"threshold\": 0.208, \"falseNegatives\": 502.0, \"trueNegatives\": 5038.0, \"falsePositives\": 2566.0, \"truePositives\": 2754.0, \"precision\": 0.5176691729323308, \"recall\": 0.8458230958230958}, {\"threshold\": 0.209, \"falseNegatives\": 503.0, \"trueNegatives\": 5045.0, \"falsePositives\": 2559.0, \"truePositives\": 2753.0, \"precision\": 0.5182605421686747, \"recall\": 0.8455159705159705}, {\"threshold\": 0.21, \"falseNegatives\": 507.0, \"trueNegatives\": 5049.0, \"falsePositives\": 2555.0, \"truePositives\": 2749.0, \"precision\": 0.5182880844645551, \"recall\": 0.8442874692874693}, {\"threshold\": 0.211, \"falseNegatives\": 509.0, \"trueNegatives\": 5054.0, \"falsePositives\": 2550.0, \"truePositives\": 2747.0, \"precision\": 0.5185954313762507, \"recall\": 0.8436732186732187}, {\"threshold\": 0.212, \"falseNegatives\": 511.0, \"trueNegatives\": 5061.0, \"falsePositives\": 2543.0, \"truePositives\": 2745.0, \"precision\": 0.5190998487140696, \"recall\": 0.8430589680589681}, {\"threshold\": 0.213, \"falseNegatives\": 512.0, \"trueNegatives\": 5067.0, \"falsePositives\": 2537.0, \"truePositives\": 2744.0, \"precision\": 0.5195985608786214, \"recall\": 0.8427518427518428}, {\"threshold\": 0.214, \"falseNegatives\": 515.0, \"trueNegatives\": 5076.0, \"falsePositives\": 2528.0, \"truePositives\": 2741.0, \"precision\": 0.5202125640539002, \"recall\": 0.8418304668304668}, {\"threshold\": 0.215, \"falseNegatives\": 517.0, \"trueNegatives\": 5082.0, \"falsePositives\": 2522.0, \"truePositives\": 2739.0, \"precision\": 0.5206234556168029, \"recall\": 0.8412162162162162}, {\"threshold\": 0.216, \"falseNegatives\": 519.0, \"trueNegatives\": 5089.0, \"falsePositives\": 2515.0, \"truePositives\": 2737.0, \"precision\": 0.5211348057882711, \"recall\": 0.8406019656019657}, {\"threshold\": 0.217, \"falseNegatives\": 520.0, \"trueNegatives\": 5096.0, \"falsePositives\": 2508.0, \"truePositives\": 2736.0, \"precision\": 0.5217391304347826, \"recall\": 0.8402948402948403}, {\"threshold\": 0.218, \"falseNegatives\": 522.0, \"trueNegatives\": 5100.0, \"falsePositives\": 2504.0, \"truePositives\": 2734.0, \"precision\": 0.521954944635357, \"recall\": 0.8396805896805897}, {\"threshold\": 0.219, \"falseNegatives\": 526.0, \"trueNegatives\": 5107.0, \"falsePositives\": 2497.0, \"truePositives\": 2730.0, \"precision\": 0.5222881193801415, \"recall\": 0.8384520884520884}, {\"threshold\": 0.22, \"falseNegatives\": 529.0, \"trueNegatives\": 5112.0, \"falsePositives\": 2492.0, \"truePositives\": 2727.0, \"precision\": 0.5225138915501054, \"recall\": 0.8375307125307125}, {\"threshold\": 0.221, \"falseNegatives\": 533.0, \"trueNegatives\": 5116.0, \"falsePositives\": 2488.0, \"truePositives\": 2723.0, \"precision\": 0.5225484551909423, \"recall\": 0.8363022113022113}, {\"threshold\": 0.222, \"falseNegatives\": 537.0, \"trueNegatives\": 5124.0, \"falsePositives\": 2480.0, \"truePositives\": 2719.0, \"precision\": 0.5229851894595114, \"recall\": 0.8350737100737101}, {\"threshold\": 0.223, \"falseNegatives\": 538.0, \"trueNegatives\": 5132.0, \"falsePositives\": 2472.0, \"truePositives\": 2718.0, \"precision\": 0.5236994219653179, \"recall\": 0.8347665847665847}, {\"threshold\": 0.224, \"falseNegatives\": 544.0, \"trueNegatives\": 5140.0, \"falsePositives\": 2464.0, \"truePositives\": 2712.0, \"precision\": 0.5239567233384853, \"recall\": 0.8329238329238329}, {\"threshold\": 0.225, \"falseNegatives\": 546.0, \"trueNegatives\": 5147.0, \"falsePositives\": 2457.0, \"truePositives\": 2710.0, \"precision\": 0.5244822914650668, \"recall\": 0.8323095823095823}, {\"threshold\": 0.226, \"falseNegatives\": 548.0, \"trueNegatives\": 5151.0, \"falsePositives\": 2453.0, \"truePositives\": 2708.0, \"precision\": 0.5247045146289478, \"recall\": 0.8316953316953317}, {\"threshold\": 0.227, \"falseNegatives\": 552.0, \"trueNegatives\": 5157.0, \"falsePositives\": 2447.0, \"truePositives\": 2704.0, \"precision\": 0.5249466123082897, \"recall\": 0.8304668304668305}, {\"threshold\": 0.228, \"falseNegatives\": 553.0, \"trueNegatives\": 5169.0, \"falsePositives\": 2435.0, \"truePositives\": 2703.0, \"precision\": 0.5260801868431296, \"recall\": 0.8301597051597052}, {\"threshold\": 0.229, \"falseNegatives\": 553.0, \"trueNegatives\": 5175.0, \"falsePositives\": 2429.0, \"truePositives\": 2703.0, \"precision\": 0.5266952455183165, \"recall\": 0.8301597051597052}, {\"threshold\": 0.23, \"falseNegatives\": 554.0, \"trueNegatives\": 5180.0, \"falsePositives\": 2424.0, \"truePositives\": 2702.0, \"precision\": 0.5271166601638705, \"recall\": 0.8298525798525799}, {\"threshold\": 0.231, \"falseNegatives\": 559.0, \"trueNegatives\": 5186.0, \"falsePositives\": 2418.0, \"truePositives\": 2697.0, \"precision\": 0.5272727272727272, \"recall\": 0.8283169533169533}, {\"threshold\": 0.232, \"falseNegatives\": 561.0, \"trueNegatives\": 5192.0, \"falsePositives\": 2412.0, \"truePositives\": 2695.0, \"precision\": 0.5277070687291953, \"recall\": 0.8277027027027027}, {\"threshold\": 0.233, \"falseNegatives\": 563.0, \"trueNegatives\": 5202.0, \"falsePositives\": 2402.0, \"truePositives\": 2693.0, \"precision\": 0.5285574092247302, \"recall\": 0.827088452088452}, {\"threshold\": 0.234, \"falseNegatives\": 567.0, \"trueNegatives\": 5209.0, \"falsePositives\": 2395.0, \"truePositives\": 2689.0, \"precision\": 0.5289142407553108, \"recall\": 0.8258599508599509}, {\"threshold\": 0.235, \"falseNegatives\": 568.0, \"trueNegatives\": 5218.0, \"falsePositives\": 2386.0, \"truePositives\": 2688.0, \"precision\": 0.5297595585337013, \"recall\": 0.8255528255528255}, {\"threshold\": 0.236, \"falseNegatives\": 570.0, \"trueNegatives\": 5227.0, \"falsePositives\": 2377.0, \"truePositives\": 2686.0, \"precision\": 0.5305155046415169, \"recall\": 0.8249385749385749}, {\"threshold\": 0.237, \"falseNegatives\": 570.0, \"trueNegatives\": 5239.0, \"falsePositives\": 2365.0, \"truePositives\": 2686.0, \"precision\": 0.5317758859631756, \"recall\": 0.8249385749385749}, {\"threshold\": 0.238, \"falseNegatives\": 572.0, \"trueNegatives\": 5247.0, \"falsePositives\": 2357.0, \"truePositives\": 2684.0, \"precision\": 0.5324340408649078, \"recall\": 0.8243243243243243}, {\"threshold\": 0.239, \"falseNegatives\": 574.0, \"trueNegatives\": 5256.0, \"falsePositives\": 2348.0, \"truePositives\": 2682.0, \"precision\": 0.5332007952286282, \"recall\": 0.8237100737100738}, {\"threshold\": 0.24, \"falseNegatives\": 576.0, \"trueNegatives\": 5267.0, \"falsePositives\": 2337.0, \"truePositives\": 2680.0, \"precision\": 0.5341837751644409, \"recall\": 0.8230958230958231}, {\"threshold\": 0.241, \"falseNegatives\": 578.0, \"trueNegatives\": 5270.0, \"falsePositives\": 2334.0, \"truePositives\": 2678.0, \"precision\": 0.534317637669593, \"recall\": 0.8224815724815725}, {\"threshold\": 0.242, \"falseNegatives\": 583.0, \"trueNegatives\": 5282.0, \"falsePositives\": 2322.0, \"truePositives\": 2673.0, \"precision\": 0.5351351351351351, \"recall\": 0.8209459459459459}, {\"threshold\": 0.243, \"falseNegatives\": 586.0, \"trueNegatives\": 5289.0, \"falsePositives\": 2315.0, \"truePositives\": 2670.0, \"precision\": 0.5356068204613842, \"recall\": 0.8200245700245701}, {\"threshold\": 0.244, \"falseNegatives\": 587.0, \"trueNegatives\": 5294.0, \"falsePositives\": 2310.0, \"truePositives\": 2669.0, \"precision\": 0.5360514159469772, \"recall\": 0.8197174447174447}, {\"threshold\": 0.245, \"falseNegatives\": 588.0, \"trueNegatives\": 5300.0, \"falsePositives\": 2304.0, \"truePositives\": 2668.0, \"precision\": 0.5366049879324215, \"recall\": 0.8194103194103194}, {\"threshold\": 0.246, \"falseNegatives\": 589.0, \"trueNegatives\": 5311.0, \"falsePositives\": 2293.0, \"truePositives\": 2667.0, \"precision\": 0.5377016129032258, \"recall\": 0.8191031941031941}, {\"threshold\": 0.247, \"falseNegatives\": 592.0, \"trueNegatives\": 5314.0, \"falsePositives\": 2290.0, \"truePositives\": 2664.0, \"precision\": 0.53774727492935, \"recall\": 0.8181818181818182}, {\"threshold\": 0.248, \"falseNegatives\": 594.0, \"trueNegatives\": 5323.0, \"falsePositives\": 2281.0, \"truePositives\": 2662.0, \"precision\": 0.5385393485737406, \"recall\": 0.8175675675675675}, {\"threshold\": 0.249, \"falseNegatives\": 596.0, \"trueNegatives\": 5326.0, \"falsePositives\": 2278.0, \"truePositives\": 2660.0, \"precision\": 0.5386796273795059, \"recall\": 0.816953316953317}, {\"threshold\": 0.25, \"falseNegatives\": 598.0, \"trueNegatives\": 5333.0, \"falsePositives\": 2271.0, \"truePositives\": 2658.0, \"precision\": 0.5392574558734023, \"recall\": 0.8163390663390664}, {\"threshold\": 0.251, \"falseNegatives\": 600.0, \"trueNegatives\": 5337.0, \"falsePositives\": 2267.0, \"truePositives\": 2656.0, \"precision\": 0.5395084298192159, \"recall\": 0.8157248157248157}, {\"threshold\": 0.252, \"falseNegatives\": 601.0, \"trueNegatives\": 5344.0, \"falsePositives\": 2260.0, \"truePositives\": 2655.0, \"precision\": 0.5401831129196337, \"recall\": 0.8154176904176904}, {\"threshold\": 0.253, \"falseNegatives\": 602.0, \"trueNegatives\": 5353.0, \"falsePositives\": 2251.0, \"truePositives\": 2654.0, \"precision\": 0.5410805300713558, \"recall\": 0.8151105651105651}, {\"threshold\": 0.254, \"falseNegatives\": 605.0, \"trueNegatives\": 5359.0, \"falsePositives\": 2245.0, \"truePositives\": 2651.0, \"precision\": 0.5414624183006536, \"recall\": 0.8141891891891891}, {\"threshold\": 0.255, \"falseNegatives\": 606.0, \"trueNegatives\": 5361.0, \"falsePositives\": 2243.0, \"truePositives\": 2650.0, \"precision\": 0.5415900265685674, \"recall\": 0.8138820638820639}, {\"threshold\": 0.256, \"falseNegatives\": 609.0, \"trueNegatives\": 5370.0, \"falsePositives\": 2234.0, \"truePositives\": 2647.0, \"precision\": 0.5423069043228846, \"recall\": 0.812960687960688}, {\"threshold\": 0.257, \"falseNegatives\": 610.0, \"trueNegatives\": 5378.0, \"falsePositives\": 2226.0, \"truePositives\": 2646.0, \"precision\": 0.5431034482758621, \"recall\": 0.8126535626535627}, {\"threshold\": 0.258, \"falseNegatives\": 610.0, \"trueNegatives\": 5385.0, \"falsePositives\": 2219.0, \"truePositives\": 2646.0, \"precision\": 0.543884892086331, \"recall\": 0.8126535626535627}, {\"threshold\": 0.259, \"falseNegatives\": 612.0, \"trueNegatives\": 5392.0, \"falsePositives\": 2212.0, \"truePositives\": 2644.0, \"precision\": 0.5444810543657331, \"recall\": 0.812039312039312}, {\"threshold\": 0.26, \"falseNegatives\": 616.0, \"trueNegatives\": 5394.0, \"falsePositives\": 2210.0, \"truePositives\": 2640.0, \"precision\": 0.5443298969072164, \"recall\": 0.8108108108108109}, {\"threshold\": 0.261, \"falseNegatives\": 617.0, \"trueNegatives\": 5399.0, \"falsePositives\": 2205.0, \"truePositives\": 2639.0, \"precision\": 0.5447976878612717, \"recall\": 0.8105036855036855}, {\"threshold\": 0.262, \"falseNegatives\": 623.0, \"trueNegatives\": 5403.0, \"falsePositives\": 2201.0, \"truePositives\": 2633.0, \"precision\": 0.5446834919321473, \"recall\": 0.8086609336609336}, {\"threshold\": 0.263, \"falseNegatives\": 625.0, \"trueNegatives\": 5412.0, \"falsePositives\": 2192.0, \"truePositives\": 2631.0, \"precision\": 0.545511092680904, \"recall\": 0.808046683046683}, {\"threshold\": 0.264, \"falseNegatives\": 625.0, \"trueNegatives\": 5420.0, \"falsePositives\": 2184.0, \"truePositives\": 2631.0, \"precision\": 0.5464174454828661, \"recall\": 0.808046683046683}, {\"threshold\": 0.265, \"falseNegatives\": 625.0, \"trueNegatives\": 5426.0, \"falsePositives\": 2178.0, \"truePositives\": 2631.0, \"precision\": 0.5470991890205864, \"recall\": 0.808046683046683}, {\"threshold\": 0.266, \"falseNegatives\": 626.0, \"trueNegatives\": 5431.0, \"falsePositives\": 2173.0, \"truePositives\": 2630.0, \"precision\": 0.5475744326462627, \"recall\": 0.8077395577395577}, {\"threshold\": 0.267, \"falseNegatives\": 628.0, \"trueNegatives\": 5434.0, \"falsePositives\": 2170.0, \"truePositives\": 2628.0, \"precision\": 0.5477282200917049, \"recall\": 0.8071253071253072}, {\"threshold\": 0.268, \"falseNegatives\": 629.0, \"trueNegatives\": 5441.0, \"falsePositives\": 2163.0, \"truePositives\": 2627.0, \"precision\": 0.5484342379958246, \"recall\": 0.8068181818181818}, {\"threshold\": 0.269, \"falseNegatives\": 631.0, \"trueNegatives\": 5450.0, \"falsePositives\": 2154.0, \"truePositives\": 2625.0, \"precision\": 0.549278091650973, \"recall\": 0.8062039312039312}, {\"threshold\": 0.27, \"falseNegatives\": 634.0, \"trueNegatives\": 5455.0, \"falsePositives\": 2149.0, \"truePositives\": 2622.0, \"precision\": 0.5495703206874869, \"recall\": 0.8052825552825553}, {\"threshold\": 0.271, \"falseNegatives\": 636.0, \"trueNegatives\": 5461.0, \"falsePositives\": 2143.0, \"truePositives\": 2620.0, \"precision\": 0.5500734830988873, \"recall\": 0.8046683046683046}, {\"threshold\": 0.272, \"falseNegatives\": 638.0, \"trueNegatives\": 5465.0, \"falsePositives\": 2139.0, \"truePositives\": 2618.0, \"precision\": 0.5503468572629808, \"recall\": 0.8040540540540541}, {\"threshold\": 0.273, \"falseNegatives\": 641.0, \"trueNegatives\": 5470.0, \"falsePositives\": 2134.0, \"truePositives\": 2615.0, \"precision\": 0.5506422404716782, \"recall\": 0.8031326781326781}, {\"threshold\": 0.274, \"falseNegatives\": 643.0, \"trueNegatives\": 5480.0, \"falsePositives\": 2124.0, \"truePositives\": 2613.0, \"precision\": 0.5516149461684611, \"recall\": 0.8025184275184275}, {\"threshold\": 0.275, \"falseNegatives\": 646.0, \"trueNegatives\": 5491.0, \"falsePositives\": 2113.0, \"truePositives\": 2610.0, \"precision\": 0.5526148634342579, \"recall\": 0.8015970515970516}, {\"threshold\": 0.276, \"falseNegatives\": 649.0, \"trueNegatives\": 5498.0, \"falsePositives\": 2106.0, \"truePositives\": 2607.0, \"precision\": 0.5531508593252705, \"recall\": 0.8006756756756757}, {\"threshold\": 0.277, \"falseNegatives\": 650.0, \"trueNegatives\": 5502.0, \"falsePositives\": 2102.0, \"truePositives\": 2606.0, \"precision\": 0.5535259133389975, \"recall\": 0.8003685503685504}, {\"threshold\": 0.278, \"falseNegatives\": 652.0, \"trueNegatives\": 5512.0, \"falsePositives\": 2092.0, \"truePositives\": 2604.0, \"precision\": 0.5545144804088586, \"recall\": 0.7997542997542998}, {\"threshold\": 0.279, \"falseNegatives\": 655.0, \"trueNegatives\": 5515.0, \"falsePositives\": 2089.0, \"truePositives\": 2601.0, \"precision\": 0.5545842217484008, \"recall\": 0.7988329238329238}, {\"threshold\": 0.28, \"falseNegatives\": 657.0, \"trueNegatives\": 5519.0, \"falsePositives\": 2085.0, \"truePositives\": 2599.0, \"precision\": 0.554867634500427, \"recall\": 0.7982186732186732}, {\"threshold\": 0.281, \"falseNegatives\": 658.0, \"trueNegatives\": 5524.0, \"falsePositives\": 2080.0, \"truePositives\": 2598.0, \"precision\": 0.5553655408294143, \"recall\": 0.797911547911548}, {\"threshold\": 0.282, \"falseNegatives\": 660.0, \"trueNegatives\": 5527.0, \"falsePositives\": 2077.0, \"truePositives\": 2596.0, \"precision\": 0.5555317783008774, \"recall\": 0.7972972972972973}, {\"threshold\": 0.283, \"falseNegatives\": 665.0, \"trueNegatives\": 5531.0, \"falsePositives\": 2073.0, \"truePositives\": 2591.0, \"precision\": 0.5555317324185248, \"recall\": 0.7957616707616708}, {\"threshold\": 0.284, \"falseNegatives\": 666.0, \"trueNegatives\": 5543.0, \"falsePositives\": 2061.0, \"truePositives\": 2590.0, \"precision\": 0.5568694904321652, \"recall\": 0.7954545454545454}, {\"threshold\": 0.285, \"falseNegatives\": 673.0, \"trueNegatives\": 5545.0, \"falsePositives\": 2059.0, \"truePositives\": 2583.0, \"precision\": 0.556441189142611, \"recall\": 0.7933046683046683}, {\"threshold\": 0.286, \"falseNegatives\": 674.0, \"trueNegatives\": 5549.0, \"falsePositives\": 2055.0, \"truePositives\": 2582.0, \"precision\": 0.5568255337502696, \"recall\": 0.792997542997543}, {\"threshold\": 0.287, \"falseNegatives\": 677.0, \"trueNegatives\": 5555.0, \"falsePositives\": 2049.0, \"truePositives\": 2579.0, \"precision\": 0.5572601555747623, \"recall\": 0.7920761670761671}, {\"threshold\": 0.288, \"falseNegatives\": 679.0, \"trueNegatives\": 5558.0, \"falsePositives\": 2046.0, \"truePositives\": 2577.0, \"precision\": 0.5574302401038287, \"recall\": 0.7914619164619164}, {\"threshold\": 0.289, \"falseNegatives\": 683.0, \"trueNegatives\": 5562.0, \"falsePositives\": 2042.0, \"truePositives\": 2573.0, \"precision\": 0.5575297941495124, \"recall\": 0.7902334152334153}, {\"threshold\": 0.29, \"falseNegatives\": 684.0, \"trueNegatives\": 5565.0, \"falsePositives\": 2039.0, \"truePositives\": 2572.0, \"precision\": 0.5577965734114075, \"recall\": 0.7899262899262899}, {\"threshold\": 0.291, \"falseNegatives\": 687.0, \"trueNegatives\": 5569.0, \"falsePositives\": 2035.0, \"truePositives\": 2569.0, \"precision\": 0.5579930495221547, \"recall\": 0.789004914004914}, {\"threshold\": 0.292, \"falseNegatives\": 688.0, \"trueNegatives\": 5578.0, \"falsePositives\": 2026.0, \"truePositives\": 2568.0, \"precision\": 0.5589899869394863, \"recall\": 0.7886977886977887}, {\"threshold\": 0.293, \"falseNegatives\": 688.0, \"trueNegatives\": 5586.0, \"falsePositives\": 2018.0, \"truePositives\": 2568.0, \"precision\": 0.5599651112080244, \"recall\": 0.7886977886977887}, {\"threshold\": 0.294, \"falseNegatives\": 690.0, \"trueNegatives\": 5590.0, \"falsePositives\": 2014.0, \"truePositives\": 2566.0, \"precision\": 0.5602620087336244, \"recall\": 0.788083538083538}, {\"threshold\": 0.295, \"falseNegatives\": 693.0, \"trueNegatives\": 5593.0, \"falsePositives\": 2011.0, \"truePositives\": 2563.0, \"precision\": 0.560341058154788, \"recall\": 0.7871621621621622}, {\"threshold\": 0.296, \"falseNegatives\": 697.0, \"trueNegatives\": 5598.0, \"falsePositives\": 2006.0, \"truePositives\": 2559.0, \"precision\": 0.5605695509309967, \"recall\": 0.7859336609336609}, {\"threshold\": 0.297, \"falseNegatives\": 699.0, \"trueNegatives\": 5604.0, \"falsePositives\": 2000.0, \"truePositives\": 2557.0, \"precision\": 0.5611147684880404, \"recall\": 0.7853194103194103}, {\"threshold\": 0.298, \"falseNegatives\": 704.0, \"trueNegatives\": 5611.0, \"falsePositives\": 1993.0, \"truePositives\": 2552.0, \"precision\": 0.5614961496149615, \"recall\": 0.7837837837837838}, {\"threshold\": 0.299, \"falseNegatives\": 707.0, \"trueNegatives\": 5619.0, \"falsePositives\": 1985.0, \"truePositives\": 2549.0, \"precision\": 0.5621967357741509, \"recall\": 0.7828624078624079}, {\"threshold\": 0.3, \"falseNegatives\": 710.0, \"trueNegatives\": 5622.0, \"falsePositives\": 1982.0, \"truePositives\": 2546.0, \"precision\": 0.5622791519434629, \"recall\": 0.7819410319410319}, {\"threshold\": 0.301, \"falseNegatives\": 713.0, \"trueNegatives\": 5627.0, \"falsePositives\": 1977.0, \"truePositives\": 2543.0, \"precision\": 0.5626106194690266, \"recall\": 0.7810196560196561}, {\"threshold\": 0.302, \"falseNegatives\": 715.0, \"trueNegatives\": 5628.0, \"falsePositives\": 1976.0, \"truePositives\": 2541.0, \"precision\": 0.5625415098516715, \"recall\": 0.7804054054054054}, {\"threshold\": 0.303, \"falseNegatives\": 718.0, \"trueNegatives\": 5632.0, \"falsePositives\": 1972.0, \"truePositives\": 2538.0, \"precision\": 0.5627494456762749, \"recall\": 0.7794840294840295}, {\"threshold\": 0.304, \"falseNegatives\": 720.0, \"trueNegatives\": 5641.0, \"falsePositives\": 1963.0, \"truePositives\": 2536.0, \"precision\": 0.5636808179595466, \"recall\": 0.7788697788697788}, {\"threshold\": 0.305, \"falseNegatives\": 725.0, \"trueNegatives\": 5648.0, \"falsePositives\": 1956.0, \"truePositives\": 2531.0, \"precision\": 0.5640739915310898, \"recall\": 0.7773341523341524}, {\"threshold\": 0.306, \"falseNegatives\": 726.0, \"trueNegatives\": 5656.0, \"falsePositives\": 1948.0, \"truePositives\": 2530.0, \"precision\": 0.5649843680214381, \"recall\": 0.777027027027027}, {\"threshold\": 0.307, \"falseNegatives\": 731.0, \"trueNegatives\": 5661.0, \"falsePositives\": 1943.0, \"truePositives\": 2525.0, \"precision\": 0.565129811996419, \"recall\": 0.7754914004914005}, {\"threshold\": 0.308, \"falseNegatives\": 732.0, \"trueNegatives\": 5668.0, \"falsePositives\": 1936.0, \"truePositives\": 2524.0, \"precision\": 0.5659192825112107, \"recall\": 0.7751842751842751}, {\"threshold\": 0.309, \"falseNegatives\": 733.0, \"trueNegatives\": 5672.0, \"falsePositives\": 1932.0, \"truePositives\": 2523.0, \"precision\": 0.5663299663299664, \"recall\": 0.7748771498771498}, {\"threshold\": 0.31, \"falseNegatives\": 737.0, \"trueNegatives\": 5673.0, \"falsePositives\": 1931.0, \"truePositives\": 2519.0, \"precision\": 0.566067415730337, \"recall\": 0.7736486486486487}, {\"threshold\": 0.311, \"falseNegatives\": 741.0, \"trueNegatives\": 5681.0, \"falsePositives\": 1923.0, \"truePositives\": 2515.0, \"precision\": 0.5666967102298333, \"recall\": 0.7724201474201474}, {\"threshold\": 0.312, \"falseNegatives\": 742.0, \"trueNegatives\": 5688.0, \"falsePositives\": 1916.0, \"truePositives\": 2514.0, \"precision\": 0.5674943566591422, \"recall\": 0.7721130221130221}, {\"threshold\": 0.313, \"falseNegatives\": 742.0, \"trueNegatives\": 5692.0, \"falsePositives\": 1912.0, \"truePositives\": 2514.0, \"precision\": 0.5680072300045188, \"recall\": 0.7721130221130221}, {\"threshold\": 0.314, \"falseNegatives\": 748.0, \"trueNegatives\": 5696.0, \"falsePositives\": 1908.0, \"truePositives\": 2508.0, \"precision\": 0.5679347826086957, \"recall\": 0.7702702702702703}, {\"threshold\": 0.315, \"falseNegatives\": 751.0, \"trueNegatives\": 5703.0, \"falsePositives\": 1901.0, \"truePositives\": 2505.0, \"precision\": 0.5685428960508397, \"recall\": 0.7693488943488943}, {\"threshold\": 0.316, \"falseNegatives\": 751.0, \"trueNegatives\": 5708.0, \"falsePositives\": 1896.0, \"truePositives\": 2505.0, \"precision\": 0.569188820722563, \"recall\": 0.7693488943488943}, {\"threshold\": 0.317, \"falseNegatives\": 756.0, \"trueNegatives\": 5711.0, \"falsePositives\": 1893.0, \"truePositives\": 2500.0, \"precision\": 0.5690871841566127, \"recall\": 0.7678132678132679}, {\"threshold\": 0.318, \"falseNegatives\": 758.0, \"trueNegatives\": 5721.0, \"falsePositives\": 1883.0, \"truePositives\": 2498.0, \"precision\": 0.5701894544624515, \"recall\": 0.7671990171990172}, {\"threshold\": 0.319, \"falseNegatives\": 758.0, \"trueNegatives\": 5727.0, \"falsePositives\": 1877.0, \"truePositives\": 2498.0, \"precision\": 0.5709714285714286, \"recall\": 0.7671990171990172}, {\"threshold\": 0.32, \"falseNegatives\": 760.0, \"trueNegatives\": 5737.0, \"falsePositives\": 1867.0, \"truePositives\": 2496.0, \"precision\": 0.5720834288333715, \"recall\": 0.7665847665847666}, {\"threshold\": 0.321, \"falseNegatives\": 762.0, \"trueNegatives\": 5741.0, \"falsePositives\": 1863.0, \"truePositives\": 2494.0, \"precision\": 0.5724122102364012, \"recall\": 0.765970515970516}, {\"threshold\": 0.322, \"falseNegatives\": 768.0, \"trueNegatives\": 5748.0, \"falsePositives\": 1856.0, \"truePositives\": 2488.0, \"precision\": 0.572744014732965, \"recall\": 0.7641277641277642}, {\"threshold\": 0.323, \"falseNegatives\": 771.0, \"trueNegatives\": 5756.0, \"falsePositives\": 1848.0, \"truePositives\": 2485.0, \"precision\": 0.5735056542810986, \"recall\": 0.7632063882063882}, {\"threshold\": 0.324, \"falseNegatives\": 776.0, \"trueNegatives\": 5762.0, \"falsePositives\": 1842.0, \"truePositives\": 2480.0, \"precision\": 0.5738084220268395, \"recall\": 0.7616707616707616}, {\"threshold\": 0.325, \"falseNegatives\": 781.0, \"trueNegatives\": 5769.0, \"falsePositives\": 1835.0, \"truePositives\": 2475.0, \"precision\": 0.574245939675174, \"recall\": 0.7601351351351351}, {\"threshold\": 0.326, \"falseNegatives\": 781.0, \"trueNegatives\": 5773.0, \"falsePositives\": 1831.0, \"truePositives\": 2475.0, \"precision\": 0.5747793776126335, \"recall\": 0.7601351351351351}, {\"threshold\": 0.327, \"falseNegatives\": 787.0, \"trueNegatives\": 5777.0, \"falsePositives\": 1827.0, \"truePositives\": 2469.0, \"precision\": 0.5747206703910615, \"recall\": 0.7582923832923832}, {\"threshold\": 0.328, \"falseNegatives\": 790.0, \"trueNegatives\": 5783.0, \"falsePositives\": 1821.0, \"truePositives\": 2466.0, \"precision\": 0.5752274317704689, \"recall\": 0.7573710073710074}, {\"threshold\": 0.329, \"falseNegatives\": 794.0, \"trueNegatives\": 5794.0, \"falsePositives\": 1810.0, \"truePositives\": 2462.0, \"precision\": 0.576310861423221, \"recall\": 0.7561425061425061}, {\"threshold\": 0.33, \"falseNegatives\": 800.0, \"trueNegatives\": 5802.0, \"falsePositives\": 1802.0, \"truePositives\": 2456.0, \"precision\": 0.5767966181305777, \"recall\": 0.7542997542997543}, {\"threshold\": 0.331, \"falseNegatives\": 803.0, \"trueNegatives\": 5808.0, \"falsePositives\": 1796.0, \"truePositives\": 2453.0, \"precision\": 0.5773123087785361, \"recall\": 0.7533783783783784}, {\"threshold\": 0.332, \"falseNegatives\": 808.0, \"trueNegatives\": 5817.0, \"falsePositives\": 1787.0, \"truePositives\": 2448.0, \"precision\": 0.5780401416765053, \"recall\": 0.7518427518427518}, {\"threshold\": 0.333, \"falseNegatives\": 813.0, \"trueNegatives\": 5823.0, \"falsePositives\": 1781.0, \"truePositives\": 2443.0, \"precision\": 0.5783617424242424, \"recall\": 0.7503071253071253}, {\"threshold\": 0.334, \"falseNegatives\": 819.0, \"trueNegatives\": 5828.0, \"falsePositives\": 1776.0, \"truePositives\": 2437.0, \"precision\": 0.5784476619985759, \"recall\": 0.7484643734643734}, {\"threshold\": 0.335, \"falseNegatives\": 820.0, \"trueNegatives\": 5839.0, \"falsePositives\": 1765.0, \"truePositives\": 2436.0, \"precision\": 0.5798619376338967, \"recall\": 0.7481572481572482}, {\"threshold\": 0.336, \"falseNegatives\": 822.0, \"trueNegatives\": 5844.0, \"falsePositives\": 1760.0, \"truePositives\": 2434.0, \"precision\": 0.5803528850739151, \"recall\": 0.7475429975429976}, {\"threshold\": 0.337, \"falseNegatives\": 824.0, \"trueNegatives\": 5847.0, \"falsePositives\": 1757.0, \"truePositives\": 2432.0, \"precision\": 0.580568154690857, \"recall\": 0.7469287469287469}, {\"threshold\": 0.338, \"falseNegatives\": 825.0, \"trueNegatives\": 5857.0, \"falsePositives\": 1747.0, \"truePositives\": 2431.0, \"precision\": 0.5818573480134035, \"recall\": 0.7466216216216216}, {\"threshold\": 0.339, \"falseNegatives\": 832.0, \"trueNegatives\": 5867.0, \"falsePositives\": 1737.0, \"truePositives\": 2424.0, \"precision\": 0.5825522710886806, \"recall\": 0.7444717444717445}, {\"threshold\": 0.34, \"falseNegatives\": 839.0, \"trueNegatives\": 5875.0, \"falsePositives\": 1729.0, \"truePositives\": 2417.0, \"precision\": 0.5829715388326098, \"recall\": 0.7423218673218673}, {\"threshold\": 0.341, \"falseNegatives\": 841.0, \"trueNegatives\": 5882.0, \"falsePositives\": 1722.0, \"truePositives\": 2415.0, \"precision\": 0.583756345177665, \"recall\": 0.7417076167076168}, {\"threshold\": 0.342, \"falseNegatives\": 845.0, \"trueNegatives\": 5888.0, \"falsePositives\": 1716.0, \"truePositives\": 2411.0, \"precision\": 0.5842015992246183, \"recall\": 0.7404791154791155}, {\"threshold\": 0.343, \"falseNegatives\": 850.0, \"trueNegatives\": 5901.0, \"falsePositives\": 1703.0, \"truePositives\": 2406.0, \"precision\": 0.585543927963008, \"recall\": 0.7389434889434889}, {\"threshold\": 0.344, \"falseNegatives\": 857.0, \"trueNegatives\": 5911.0, \"falsePositives\": 1693.0, \"truePositives\": 2399.0, \"precision\": 0.5862658846529815, \"recall\": 0.7367936117936118}, {\"threshold\": 0.345, \"falseNegatives\": 861.0, \"trueNegatives\": 5920.0, \"falsePositives\": 1684.0, \"truePositives\": 2395.0, \"precision\": 0.5871537141456239, \"recall\": 0.7355651105651105}, {\"threshold\": 0.346, \"falseNegatives\": 864.0, \"trueNegatives\": 5930.0, \"falsePositives\": 1674.0, \"truePositives\": 2392.0, \"precision\": 0.588293162813576, \"recall\": 0.7346437346437347}, {\"threshold\": 0.347, \"falseNegatives\": 869.0, \"trueNegatives\": 5933.0, \"falsePositives\": 1671.0, \"truePositives\": 2387.0, \"precision\": 0.5882207984228685, \"recall\": 0.7331081081081081}, {\"threshold\": 0.348, \"falseNegatives\": 872.0, \"trueNegatives\": 5937.0, \"falsePositives\": 1667.0, \"truePositives\": 2384.0, \"precision\": 0.5884966674895088, \"recall\": 0.7321867321867321}, {\"threshold\": 0.349, \"falseNegatives\": 874.0, \"trueNegatives\": 5945.0, \"falsePositives\": 1659.0, \"truePositives\": 2382.0, \"precision\": 0.5894580549368968, \"recall\": 0.7315724815724816}, {\"threshold\": 0.35, \"falseNegatives\": 878.0, \"trueNegatives\": 5950.0, \"falsePositives\": 1654.0, \"truePositives\": 2378.0, \"precision\": 0.589781746031746, \"recall\": 0.7303439803439803}, {\"threshold\": 0.351, \"falseNegatives\": 881.0, \"trueNegatives\": 5958.0, \"falsePositives\": 1646.0, \"truePositives\": 2375.0, \"precision\": 0.5906490922656056, \"recall\": 0.7294226044226044}, {\"threshold\": 0.352, \"falseNegatives\": 885.0, \"trueNegatives\": 5966.0, \"falsePositives\": 1638.0, \"truePositives\": 2371.0, \"precision\": 0.5914193065602394, \"recall\": 0.7281941031941032}, {\"threshold\": 0.353, \"falseNegatives\": 886.0, \"trueNegatives\": 5974.0, \"falsePositives\": 1630.0, \"truePositives\": 2370.0, \"precision\": 0.5925, \"recall\": 0.7278869778869779}, {\"threshold\": 0.354, \"falseNegatives\": 887.0, \"trueNegatives\": 5982.0, \"falsePositives\": 1622.0, \"truePositives\": 2369.0, \"precision\": 0.5935855675269356, \"recall\": 0.7275798525798526}, {\"threshold\": 0.355, \"falseNegatives\": 890.0, \"trueNegatives\": 5987.0, \"falsePositives\": 1617.0, \"truePositives\": 2366.0, \"precision\": 0.5940246045694201, \"recall\": 0.7266584766584766}, {\"threshold\": 0.356, \"falseNegatives\": 894.0, \"trueNegatives\": 5993.0, \"falsePositives\": 1611.0, \"truePositives\": 2362.0, \"precision\": 0.5945129624968538, \"recall\": 0.7254299754299754}, {\"threshold\": 0.357, \"falseNegatives\": 895.0, \"trueNegatives\": 5997.0, \"falsePositives\": 1607.0, \"truePositives\": 2361.0, \"precision\": 0.5950100806451613, \"recall\": 0.7251228501228502}, {\"threshold\": 0.358, \"falseNegatives\": 895.0, \"trueNegatives\": 6002.0, \"falsePositives\": 1602.0, \"truePositives\": 2361.0, \"precision\": 0.5957607872823618, \"recall\": 0.7251228501228502}, {\"threshold\": 0.359, \"falseNegatives\": 896.0, \"trueNegatives\": 6009.0, \"falsePositives\": 1595.0, \"truePositives\": 2360.0, \"precision\": 0.5967130214917825, \"recall\": 0.7248157248157249}, {\"threshold\": 0.36, \"falseNegatives\": 896.0, \"trueNegatives\": 6014.0, \"falsePositives\": 1590.0, \"truePositives\": 2360.0, \"precision\": 0.5974683544303797, \"recall\": 0.7248157248157249}, {\"threshold\": 0.361, \"falseNegatives\": 900.0, \"trueNegatives\": 6022.0, \"falsePositives\": 1582.0, \"truePositives\": 2356.0, \"precision\": 0.5982732351447435, \"recall\": 0.7235872235872236}, {\"threshold\": 0.362, \"falseNegatives\": 903.0, \"trueNegatives\": 6026.0, \"falsePositives\": 1578.0, \"truePositives\": 2353.0, \"precision\": 0.598575426100229, \"recall\": 0.7226658476658476}, {\"threshold\": 0.363, \"falseNegatives\": 905.0, \"trueNegatives\": 6034.0, \"falsePositives\": 1570.0, \"truePositives\": 2351.0, \"precision\": 0.5995919408314205, \"recall\": 0.722051597051597}, {\"threshold\": 0.364, \"falseNegatives\": 905.0, \"trueNegatives\": 6041.0, \"falsePositives\": 1563.0, \"truePositives\": 2351.0, \"precision\": 0.6006642820643843, \"recall\": 0.722051597051597}, {\"threshold\": 0.365, \"falseNegatives\": 906.0, \"trueNegatives\": 6042.0, \"falsePositives\": 1562.0, \"truePositives\": 2350.0, \"precision\": 0.6007157464212679, \"recall\": 0.7217444717444718}, {\"threshold\": 0.366, \"falseNegatives\": 907.0, \"trueNegatives\": 6043.0, \"falsePositives\": 1561.0, \"truePositives\": 2349.0, \"precision\": 0.60076726342711, \"recall\": 0.7214373464373465}, {\"threshold\": 0.367, \"falseNegatives\": 911.0, \"trueNegatives\": 6048.0, \"falsePositives\": 1556.0, \"truePositives\": 2345.0, \"precision\": 0.6011279159189952, \"recall\": 0.7202088452088452}, {\"threshold\": 0.368, \"falseNegatives\": 915.0, \"trueNegatives\": 6049.0, \"falsePositives\": 1555.0, \"truePositives\": 2341.0, \"precision\": 0.6008726899383984, \"recall\": 0.7189803439803439}, {\"threshold\": 0.369, \"falseNegatives\": 917.0, \"trueNegatives\": 6056.0, \"falsePositives\": 1548.0, \"truePositives\": 2339.0, \"precision\": 0.6017494211474145, \"recall\": 0.7183660933660934}, {\"threshold\": 0.37, \"falseNegatives\": 918.0, \"trueNegatives\": 6059.0, \"falsePositives\": 1545.0, \"truePositives\": 2338.0, \"precision\": 0.6021117692505794, \"recall\": 0.7180589680589681}, {\"threshold\": 0.371, \"falseNegatives\": 919.0, \"trueNegatives\": 6061.0, \"falsePositives\": 1543.0, \"truePositives\": 2337.0, \"precision\": 0.602319587628866, \"recall\": 0.7177518427518428}, {\"threshold\": 0.372, \"falseNegatives\": 922.0, \"trueNegatives\": 6065.0, \"falsePositives\": 1539.0, \"truePositives\": 2334.0, \"precision\": 0.6026336173508908, \"recall\": 0.7168304668304668}, {\"threshold\": 0.373, \"falseNegatives\": 924.0, \"trueNegatives\": 6067.0, \"falsePositives\": 1537.0, \"truePositives\": 2332.0, \"precision\": 0.6027397260273972, \"recall\": 0.7162162162162162}, {\"threshold\": 0.374, \"falseNegatives\": 926.0, \"trueNegatives\": 6069.0, \"falsePositives\": 1535.0, \"truePositives\": 2330.0, \"precision\": 0.6028460543337646, \"recall\": 0.7156019656019657}, {\"threshold\": 0.375, \"falseNegatives\": 927.0, \"trueNegatives\": 6074.0, \"falsePositives\": 1530.0, \"truePositives\": 2329.0, \"precision\": 0.6035242290748899, \"recall\": 0.7152948402948403}, {\"threshold\": 0.376, \"falseNegatives\": 930.0, \"trueNegatives\": 6082.0, \"falsePositives\": 1522.0, \"truePositives\": 2326.0, \"precision\": 0.6044698544698545, \"recall\": 0.7143734643734644}, {\"threshold\": 0.377, \"falseNegatives\": 933.0, \"trueNegatives\": 6085.0, \"falsePositives\": 1519.0, \"truePositives\": 2323.0, \"precision\": 0.6046330036439355, \"recall\": 0.7134520884520884}, {\"threshold\": 0.378, \"falseNegatives\": 935.0, \"trueNegatives\": 6089.0, \"falsePositives\": 1515.0, \"truePositives\": 2321.0, \"precision\": 0.6050573514077163, \"recall\": 0.7128378378378378}, {\"threshold\": 0.379, \"falseNegatives\": 939.0, \"trueNegatives\": 6095.0, \"falsePositives\": 1509.0, \"truePositives\": 2317.0, \"precision\": 0.6055933089388396, \"recall\": 0.7116093366093366}, {\"threshold\": 0.38, \"falseNegatives\": 939.0, \"trueNegatives\": 6099.0, \"falsePositives\": 1505.0, \"truePositives\": 2317.0, \"precision\": 0.6062271062271062, \"recall\": 0.7116093366093366}, {\"threshold\": 0.381, \"falseNegatives\": 939.0, \"trueNegatives\": 6104.0, \"falsePositives\": 1500.0, \"truePositives\": 2317.0, \"precision\": 0.6070212208540738, \"recall\": 0.7116093366093366}, {\"threshold\": 0.382, \"falseNegatives\": 941.0, \"trueNegatives\": 6106.0, \"falsePositives\": 1498.0, \"truePositives\": 2315.0, \"precision\": 0.6071334906897456, \"recall\": 0.710995085995086}, {\"threshold\": 0.383, \"falseNegatives\": 946.0, \"trueNegatives\": 6116.0, \"falsePositives\": 1488.0, \"truePositives\": 2310.0, \"precision\": 0.608214849921011, \"recall\": 0.7094594594594594}, {\"threshold\": 0.384, \"falseNegatives\": 947.0, \"trueNegatives\": 6124.0, \"falsePositives\": 1480.0, \"truePositives\": 2309.0, \"precision\": 0.6093956188968065, \"recall\": 0.7091523341523341}, {\"threshold\": 0.385, \"falseNegatives\": 949.0, \"trueNegatives\": 6129.0, \"falsePositives\": 1475.0, \"truePositives\": 2307.0, \"precision\": 0.6099947117927023, \"recall\": 0.7085380835380836}, {\"threshold\": 0.386, \"falseNegatives\": 953.0, \"trueNegatives\": 6133.0, \"falsePositives\": 1471.0, \"truePositives\": 2303.0, \"precision\": 0.6102278749337573, \"recall\": 0.7073095823095823}, {\"threshold\": 0.387, \"falseNegatives\": 955.0, \"trueNegatives\": 6142.0, \"falsePositives\": 1462.0, \"truePositives\": 2301.0, \"precision\": 0.6114802019665161, \"recall\": 0.7066953316953317}, {\"threshold\": 0.388, \"falseNegatives\": 962.0, \"trueNegatives\": 6144.0, \"falsePositives\": 1460.0, \"truePositives\": 2294.0, \"precision\": 0.6110815130527437, \"recall\": 0.7045454545454546}, {\"threshold\": 0.389, \"falseNegatives\": 966.0, \"trueNegatives\": 6147.0, \"falsePositives\": 1457.0, \"truePositives\": 2290.0, \"precision\": 0.6111555911395783, \"recall\": 0.7033169533169533}, {\"threshold\": 0.39, \"falseNegatives\": 969.0, \"trueNegatives\": 6154.0, \"falsePositives\": 1450.0, \"truePositives\": 2287.0, \"precision\": 0.611988225849612, \"recall\": 0.7023955773955773}, {\"threshold\": 0.391, \"falseNegatives\": 969.0, \"trueNegatives\": 6159.0, \"falsePositives\": 1445.0, \"truePositives\": 2287.0, \"precision\": 0.6128081457663451, \"recall\": 0.7023955773955773}, {\"threshold\": 0.392, \"falseNegatives\": 970.0, \"trueNegatives\": 6168.0, \"falsePositives\": 1436.0, \"truePositives\": 2286.0, \"precision\": 0.614185921547555, \"recall\": 0.702088452088452}, {\"threshold\": 0.393, \"falseNegatives\": 973.0, \"trueNegatives\": 6174.0, \"falsePositives\": 1430.0, \"truePositives\": 2283.0, \"precision\": 0.6148666846215998, \"recall\": 0.7011670761670762}, {\"threshold\": 0.394, \"falseNegatives\": 976.0, \"trueNegatives\": 6176.0, \"falsePositives\": 1428.0, \"truePositives\": 2280.0, \"precision\": 0.6148867313915858, \"recall\": 0.7002457002457002}, {\"threshold\": 0.395, \"falseNegatives\": 979.0, \"trueNegatives\": 6184.0, \"falsePositives\": 1420.0, \"truePositives\": 2277.0, \"precision\": 0.6159047876656749, \"recall\": 0.6993243243243243}, {\"threshold\": 0.396, \"falseNegatives\": 984.0, \"trueNegatives\": 6186.0, \"falsePositives\": 1418.0, \"truePositives\": 2272.0, \"precision\": 0.6157181571815719, \"recall\": 0.6977886977886978}, {\"threshold\": 0.397, \"falseNegatives\": 987.0, \"trueNegatives\": 6192.0, \"falsePositives\": 1412.0, \"truePositives\": 2269.0, \"precision\": 0.6164085846237436, \"recall\": 0.6968673218673219}, {\"threshold\": 0.398, \"falseNegatives\": 990.0, \"trueNegatives\": 6195.0, \"falsePositives\": 1409.0, \"truePositives\": 2266.0, \"precision\": 0.6165986394557823, \"recall\": 0.6959459459459459}, {\"threshold\": 0.399, \"falseNegatives\": 994.0, \"trueNegatives\": 6198.0, \"falsePositives\": 1406.0, \"truePositives\": 2262.0, \"precision\": 0.6166848418756816, \"recall\": 0.6947174447174447}, {\"threshold\": 0.4, \"falseNegatives\": 998.0, \"trueNegatives\": 6201.0, \"falsePositives\": 1403.0, \"truePositives\": 2258.0, \"precision\": 0.616771373941546, \"recall\": 0.6934889434889435}, {\"threshold\": 0.401, \"falseNegatives\": 999.0, \"trueNegatives\": 6205.0, \"falsePositives\": 1399.0, \"truePositives\": 2257.0, \"precision\": 0.6173413566739606, \"recall\": 0.6931818181818182}, {\"threshold\": 0.402, \"falseNegatives\": 1001.0, \"trueNegatives\": 6210.0, \"falsePositives\": 1394.0, \"truePositives\": 2255.0, \"precision\": 0.6179775280898876, \"recall\": 0.6925675675675675}, {\"threshold\": 0.403, \"falseNegatives\": 1002.0, \"trueNegatives\": 6217.0, \"falsePositives\": 1387.0, \"truePositives\": 2254.0, \"precision\": 0.6190606976105466, \"recall\": 0.6922604422604423}, {\"threshold\": 0.404, \"falseNegatives\": 1003.0, \"trueNegatives\": 6222.0, \"falsePositives\": 1382.0, \"truePositives\": 2253.0, \"precision\": 0.6198074277854195, \"recall\": 0.691953316953317}, {\"threshold\": 0.405, \"falseNegatives\": 1004.0, \"trueNegatives\": 6224.0, \"falsePositives\": 1380.0, \"truePositives\": 2252.0, \"precision\": 0.6200440528634361, \"recall\": 0.6916461916461917}, {\"threshold\": 0.406, \"falseNegatives\": 1005.0, \"trueNegatives\": 6228.0, \"falsePositives\": 1376.0, \"truePositives\": 2251.0, \"precision\": 0.6206231044940722, \"recall\": 0.6913390663390664}, {\"threshold\": 0.407, \"falseNegatives\": 1005.0, \"trueNegatives\": 6231.0, \"falsePositives\": 1373.0, \"truePositives\": 2251.0, \"precision\": 0.6211368653421634, \"recall\": 0.6913390663390664}, {\"threshold\": 0.408, \"falseNegatives\": 1008.0, \"trueNegatives\": 6231.0, \"falsePositives\": 1373.0, \"truePositives\": 2248.0, \"precision\": 0.6208229770781553, \"recall\": 0.6904176904176904}, {\"threshold\": 0.409, \"falseNegatives\": 1010.0, \"trueNegatives\": 6235.0, \"falsePositives\": 1369.0, \"truePositives\": 2246.0, \"precision\": 0.6213001383125865, \"recall\": 0.6898034398034398}, {\"threshold\": 0.41, \"falseNegatives\": 1012.0, \"trueNegatives\": 6240.0, \"falsePositives\": 1364.0, \"truePositives\": 2244.0, \"precision\": 0.6219512195121951, \"recall\": 0.6891891891891891}, {\"threshold\": 0.411, \"falseNegatives\": 1018.0, \"trueNegatives\": 6242.0, \"falsePositives\": 1362.0, \"truePositives\": 2238.0, \"precision\": 0.6216666666666667, \"recall\": 0.6873464373464373}, {\"threshold\": 0.412, \"falseNegatives\": 1023.0, \"trueNegatives\": 6245.0, \"falsePositives\": 1359.0, \"truePositives\": 2233.0, \"precision\": 0.6216592427616926, \"recall\": 0.6858108108108109}, {\"threshold\": 0.413, \"falseNegatives\": 1025.0, \"trueNegatives\": 6248.0, \"falsePositives\": 1356.0, \"truePositives\": 2231.0, \"precision\": 0.6219682185670476, \"recall\": 0.6851965601965602}, {\"threshold\": 0.414, \"falseNegatives\": 1027.0, \"trueNegatives\": 6251.0, \"falsePositives\": 1353.0, \"truePositives\": 2229.0, \"precision\": 0.6222780569514238, \"recall\": 0.6845823095823096}, {\"threshold\": 0.415, \"falseNegatives\": 1029.0, \"trueNegatives\": 6256.0, \"falsePositives\": 1348.0, \"truePositives\": 2227.0, \"precision\": 0.622937062937063, \"recall\": 0.683968058968059}, {\"threshold\": 0.416, \"falseNegatives\": 1033.0, \"trueNegatives\": 6260.0, \"falsePositives\": 1344.0, \"truePositives\": 2223.0, \"precision\": 0.6232127838519764, \"recall\": 0.6827395577395577}, {\"threshold\": 0.417, \"falseNegatives\": 1033.0, \"trueNegatives\": 6262.0, \"falsePositives\": 1342.0, \"truePositives\": 2223.0, \"precision\": 0.623562412342216, \"recall\": 0.6827395577395577}, {\"threshold\": 0.418, \"falseNegatives\": 1034.0, \"trueNegatives\": 6266.0, \"falsePositives\": 1338.0, \"truePositives\": 2222.0, \"precision\": 0.6241573033707866, \"recall\": 0.6824324324324325}, {\"threshold\": 0.419, \"falseNegatives\": 1034.0, \"trueNegatives\": 6267.0, \"falsePositives\": 1337.0, \"truePositives\": 2222.0, \"precision\": 0.6243326777184602, \"recall\": 0.6824324324324325}, {\"threshold\": 0.42, \"falseNegatives\": 1035.0, \"trueNegatives\": 6271.0, \"falsePositives\": 1333.0, \"truePositives\": 2221.0, \"precision\": 0.6249296567248172, \"recall\": 0.6821253071253072}, {\"threshold\": 0.421, \"falseNegatives\": 1036.0, \"trueNegatives\": 6274.0, \"falsePositives\": 1330.0, \"truePositives\": 2220.0, \"precision\": 0.6253521126760564, \"recall\": 0.6818181818181818}, {\"threshold\": 0.422, \"falseNegatives\": 1038.0, \"trueNegatives\": 6276.0, \"falsePositives\": 1328.0, \"truePositives\": 2218.0, \"precision\": 0.6254935138183869, \"recall\": 0.6812039312039312}, {\"threshold\": 0.423, \"falseNegatives\": 1040.0, \"trueNegatives\": 6280.0, \"falsePositives\": 1324.0, \"truePositives\": 2216.0, \"precision\": 0.6259887005649718, \"recall\": 0.6805896805896806}, {\"threshold\": 0.424, \"falseNegatives\": 1042.0, \"trueNegatives\": 6281.0, \"falsePositives\": 1323.0, \"truePositives\": 2214.0, \"precision\": 0.6259541984732825, \"recall\": 0.6799754299754299}, {\"threshold\": 0.425, \"falseNegatives\": 1043.0, \"trueNegatives\": 6281.0, \"falsePositives\": 1323.0, \"truePositives\": 2213.0, \"precision\": 0.6258484162895928, \"recall\": 0.6796683046683046}, {\"threshold\": 0.426, \"falseNegatives\": 1044.0, \"trueNegatives\": 6283.0, \"falsePositives\": 1321.0, \"truePositives\": 2212.0, \"precision\": 0.6260968015850552, \"recall\": 0.6793611793611793}, {\"threshold\": 0.427, \"falseNegatives\": 1049.0, \"trueNegatives\": 6287.0, \"falsePositives\": 1317.0, \"truePositives\": 2207.0, \"precision\": 0.6262769580022701, \"recall\": 0.6778255528255528}, {\"threshold\": 0.428, \"falseNegatives\": 1052.0, \"trueNegatives\": 6289.0, \"falsePositives\": 1315.0, \"truePositives\": 2204.0, \"precision\": 0.6263142938334754, \"recall\": 0.6769041769041769}, {\"threshold\": 0.429, \"falseNegatives\": 1056.0, \"trueNegatives\": 6293.0, \"falsePositives\": 1311.0, \"truePositives\": 2200.0, \"precision\": 0.6266021076616348, \"recall\": 0.6756756756756757}, {\"threshold\": 0.43, \"falseNegatives\": 1057.0, \"trueNegatives\": 6296.0, \"falsePositives\": 1308.0, \"truePositives\": 2199.0, \"precision\": 0.6270316509837468, \"recall\": 0.6753685503685504}, {\"threshold\": 0.431, \"falseNegatives\": 1060.0, \"trueNegatives\": 6299.0, \"falsePositives\": 1305.0, \"truePositives\": 2196.0, \"precision\": 0.6272493573264781, \"recall\": 0.6744471744471745}, {\"threshold\": 0.432, \"falseNegatives\": 1062.0, \"trueNegatives\": 6300.0, \"falsePositives\": 1304.0, \"truePositives\": 2194.0, \"precision\": 0.6272155517438537, \"recall\": 0.6738329238329238}, {\"threshold\": 0.433, \"falseNegatives\": 1064.0, \"trueNegatives\": 6301.0, \"falsePositives\": 1303.0, \"truePositives\": 2192.0, \"precision\": 0.6271816881258941, \"recall\": 0.6732186732186732}, {\"threshold\": 0.434, \"falseNegatives\": 1067.0, \"trueNegatives\": 6304.0, \"falsePositives\": 1300.0, \"truePositives\": 2189.0, \"precision\": 0.6274004012611063, \"recall\": 0.6722972972972973}, {\"threshold\": 0.435, \"falseNegatives\": 1070.0, \"trueNegatives\": 6308.0, \"falsePositives\": 1296.0, \"truePositives\": 2186.0, \"precision\": 0.6278001148765078, \"recall\": 0.6713759213759214}, {\"threshold\": 0.436, \"falseNegatives\": 1072.0, \"trueNegatives\": 6311.0, \"falsePositives\": 1293.0, \"truePositives\": 2184.0, \"precision\": 0.6281276962899051, \"recall\": 0.6707616707616708}, {\"threshold\": 0.437, \"falseNegatives\": 1073.0, \"trueNegatives\": 6313.0, \"falsePositives\": 1291.0, \"truePositives\": 2183.0, \"precision\": 0.6283822682786413, \"recall\": 0.6704545454545454}, {\"threshold\": 0.438, \"falseNegatives\": 1075.0, \"trueNegatives\": 6314.0, \"falsePositives\": 1290.0, \"truePositives\": 2181.0, \"precision\": 0.6283491789109766, \"recall\": 0.6698402948402948}, {\"threshold\": 0.439, \"falseNegatives\": 1077.0, \"trueNegatives\": 6315.0, \"falsePositives\": 1289.0, \"truePositives\": 2179.0, \"precision\": 0.628316032295271, \"recall\": 0.6692260442260443}, {\"threshold\": 0.44, \"falseNegatives\": 1077.0, \"trueNegatives\": 6318.0, \"falsePositives\": 1286.0, \"truePositives\": 2179.0, \"precision\": 0.6288600288600289, \"recall\": 0.6692260442260443}, {\"threshold\": 0.441, \"falseNegatives\": 1078.0, \"trueNegatives\": 6327.0, \"falsePositives\": 1277.0, \"truePositives\": 2178.0, \"precision\": 0.6303907380607815, \"recall\": 0.668918918918919}, {\"threshold\": 0.442, \"falseNegatives\": 1079.0, \"trueNegatives\": 6329.0, \"falsePositives\": 1275.0, \"truePositives\": 2177.0, \"precision\": 0.630648899188876, \"recall\": 0.6686117936117936}, {\"threshold\": 0.443, \"falseNegatives\": 1080.0, \"trueNegatives\": 6329.0, \"falsePositives\": 1275.0, \"truePositives\": 2176.0, \"precision\": 0.6305418719211823, \"recall\": 0.6683046683046683}, {\"threshold\": 0.444, \"falseNegatives\": 1082.0, \"trueNegatives\": 6333.0, \"falsePositives\": 1271.0, \"truePositives\": 2174.0, \"precision\": 0.6310595065312047, \"recall\": 0.6676904176904177}, {\"threshold\": 0.445, \"falseNegatives\": 1083.0, \"trueNegatives\": 6335.0, \"falsePositives\": 1269.0, \"truePositives\": 2173.0, \"precision\": 0.6313190005810575, \"recall\": 0.6673832923832924}, {\"threshold\": 0.446, \"falseNegatives\": 1084.0, \"trueNegatives\": 6340.0, \"falsePositives\": 1264.0, \"truePositives\": 2172.0, \"precision\": 0.6321303841676368, \"recall\": 0.6670761670761671}, {\"threshold\": 0.447, \"falseNegatives\": 1088.0, \"trueNegatives\": 6342.0, \"falsePositives\": 1262.0, \"truePositives\": 2168.0, \"precision\": 0.632069970845481, \"recall\": 0.6658476658476659}, {\"threshold\": 0.448, \"falseNegatives\": 1088.0, \"trueNegatives\": 6342.0, \"falsePositives\": 1262.0, \"truePositives\": 2168.0, \"precision\": 0.632069970845481, \"recall\": 0.6658476658476659}, {\"threshold\": 0.449, \"falseNegatives\": 1089.0, \"trueNegatives\": 6344.0, \"falsePositives\": 1260.0, \"truePositives\": 2167.0, \"precision\": 0.6323314852640793, \"recall\": 0.6655405405405406}, {\"threshold\": 0.45, \"falseNegatives\": 1091.0, \"trueNegatives\": 6347.0, \"falsePositives\": 1257.0, \"truePositives\": 2165.0, \"precision\": 0.6326709526592635, \"recall\": 0.6649262899262899}, {\"threshold\": 0.451, \"falseNegatives\": 1092.0, \"trueNegatives\": 6353.0, \"falsePositives\": 1251.0, \"truePositives\": 2164.0, \"precision\": 0.6336749633967789, \"recall\": 0.6646191646191646}, {\"threshold\": 0.452, \"falseNegatives\": 1094.0, \"trueNegatives\": 6355.0, \"falsePositives\": 1249.0, \"truePositives\": 2162.0, \"precision\": 0.633831720902961, \"recall\": 0.664004914004914}, {\"threshold\": 0.453, \"falseNegatives\": 1098.0, \"trueNegatives\": 6358.0, \"falsePositives\": 1246.0, \"truePositives\": 2158.0, \"precision\": 0.6339600470035253, \"recall\": 0.6627764127764127}, {\"threshold\": 0.454, \"falseNegatives\": 1102.0, \"trueNegatives\": 6360.0, \"falsePositives\": 1244.0, \"truePositives\": 2154.0, \"precision\": 0.6339022954679223, \"recall\": 0.6615479115479116}, {\"threshold\": 0.455, \"falseNegatives\": 1107.0, \"trueNegatives\": 6360.0, \"falsePositives\": 1244.0, \"truePositives\": 2149.0, \"precision\": 0.6333628057765989, \"recall\": 0.660012285012285}, {\"threshold\": 0.456, \"falseNegatives\": 1109.0, \"trueNegatives\": 6365.0, \"falsePositives\": 1239.0, \"truePositives\": 2147.0, \"precision\": 0.6340815121086828, \"recall\": 0.6593980343980343}, {\"threshold\": 0.457, \"falseNegatives\": 1110.0, \"trueNegatives\": 6367.0, \"falsePositives\": 1237.0, \"truePositives\": 2146.0, \"precision\": 0.6343482116464676, \"recall\": 0.6590909090909091}, {\"threshold\": 0.458, \"falseNegatives\": 1112.0, \"trueNegatives\": 6369.0, \"falsePositives\": 1235.0, \"truePositives\": 2144.0, \"precision\": 0.6345072506658774, \"recall\": 0.6584766584766585}, {\"threshold\": 0.459, \"falseNegatives\": 1116.0, \"trueNegatives\": 6371.0, \"falsePositives\": 1233.0, \"truePositives\": 2140.0, \"precision\": 0.6344500444707976, \"recall\": 0.6572481572481572}, {\"threshold\": 0.46, \"falseNegatives\": 1117.0, \"trueNegatives\": 6378.0, \"falsePositives\": 1226.0, \"truePositives\": 2139.0, \"precision\": 0.6356612184249628, \"recall\": 0.6569410319410319}, {\"threshold\": 0.461, \"falseNegatives\": 1119.0, \"trueNegatives\": 6383.0, \"falsePositives\": 1221.0, \"truePositives\": 2137.0, \"precision\": 0.6363907087552114, \"recall\": 0.6563267813267813}, {\"threshold\": 0.462, \"falseNegatives\": 1122.0, \"trueNegatives\": 6385.0, \"falsePositives\": 1219.0, \"truePositives\": 2134.0, \"precision\": 0.6364449746495675, \"recall\": 0.6554054054054054}, {\"threshold\": 0.463, \"falseNegatives\": 1126.0, \"trueNegatives\": 6390.0, \"falsePositives\": 1214.0, \"truePositives\": 2130.0, \"precision\": 0.6369617224880383, \"recall\": 0.6541769041769042}, {\"threshold\": 0.464, \"falseNegatives\": 1127.0, \"trueNegatives\": 6391.0, \"falsePositives\": 1213.0, \"truePositives\": 2129.0, \"precision\": 0.6370436864153202, \"recall\": 0.6538697788697788}, {\"threshold\": 0.465, \"falseNegatives\": 1127.0, \"trueNegatives\": 6393.0, \"falsePositives\": 1211.0, \"truePositives\": 2129.0, \"precision\": 0.6374251497005988, \"recall\": 0.6538697788697788}, {\"threshold\": 0.466, \"falseNegatives\": 1129.0, \"trueNegatives\": 6395.0, \"falsePositives\": 1209.0, \"truePositives\": 2127.0, \"precision\": 0.637589928057554, \"recall\": 0.6532555282555282}, {\"threshold\": 0.467, \"falseNegatives\": 1131.0, \"trueNegatives\": 6398.0, \"falsePositives\": 1206.0, \"truePositives\": 2125.0, \"precision\": 0.6379465625938157, \"recall\": 0.6526412776412777}, {\"threshold\": 0.468, \"falseNegatives\": 1131.0, \"trueNegatives\": 6400.0, \"falsePositives\": 1204.0, \"truePositives\": 2125.0, \"precision\": 0.6383298287774106, \"recall\": 0.6526412776412777}, {\"threshold\": 0.469, \"falseNegatives\": 1137.0, \"trueNegatives\": 6402.0, \"falsePositives\": 1202.0, \"truePositives\": 2119.0, \"precision\": 0.638060825052695, \"recall\": 0.6507985257985258}, {\"threshold\": 0.47, \"falseNegatives\": 1140.0, \"trueNegatives\": 6407.0, \"falsePositives\": 1197.0, \"truePositives\": 2116.0, \"precision\": 0.6386960458798672, \"recall\": 0.6498771498771498}, {\"threshold\": 0.471, \"falseNegatives\": 1141.0, \"trueNegatives\": 6413.0, \"falsePositives\": 1191.0, \"truePositives\": 2115.0, \"precision\": 0.6397459165154264, \"recall\": 0.6495700245700246}, {\"threshold\": 0.472, \"falseNegatives\": 1143.0, \"trueNegatives\": 6416.0, \"falsePositives\": 1188.0, \"truePositives\": 2113.0, \"precision\": 0.6401090578612542, \"recall\": 0.648955773955774}, {\"threshold\": 0.473, \"falseNegatives\": 1144.0, \"trueNegatives\": 6419.0, \"falsePositives\": 1185.0, \"truePositives\": 2112.0, \"precision\": 0.640582347588717, \"recall\": 0.6486486486486487}, {\"threshold\": 0.474, \"falseNegatives\": 1148.0, \"trueNegatives\": 6421.0, \"falsePositives\": 1183.0, \"truePositives\": 2108.0, \"precision\": 0.6405347918565786, \"recall\": 0.6474201474201474}, {\"threshold\": 0.475, \"falseNegatives\": 1150.0, \"trueNegatives\": 6421.0, \"falsePositives\": 1183.0, \"truePositives\": 2106.0, \"precision\": 0.6403162055335968, \"recall\": 0.6468058968058968}, {\"threshold\": 0.476, \"falseNegatives\": 1152.0, \"trueNegatives\": 6424.0, \"falsePositives\": 1180.0, \"truePositives\": 2104.0, \"precision\": 0.6406820950060901, \"recall\": 0.6461916461916462}, {\"threshold\": 0.477, \"falseNegatives\": 1153.0, \"trueNegatives\": 6427.0, \"falsePositives\": 1177.0, \"truePositives\": 2103.0, \"precision\": 0.6411585365853658, \"recall\": 0.6458845208845209}, {\"threshold\": 0.478, \"falseNegatives\": 1154.0, \"trueNegatives\": 6433.0, \"falsePositives\": 1171.0, \"truePositives\": 2102.0, \"precision\": 0.6422242590895203, \"recall\": 0.6455773955773956}, {\"threshold\": 0.479, \"falseNegatives\": 1160.0, \"trueNegatives\": 6437.0, \"falsePositives\": 1167.0, \"truePositives\": 2096.0, \"precision\": 0.642353662273981, \"recall\": 0.6437346437346437}, {\"threshold\": 0.48, \"falseNegatives\": 1164.0, \"trueNegatives\": 6439.0, \"falsePositives\": 1165.0, \"truePositives\": 2092.0, \"precision\": 0.6423088731961928, \"recall\": 0.6425061425061425}, {\"threshold\": 0.481, \"falseNegatives\": 1167.0, \"trueNegatives\": 6441.0, \"falsePositives\": 1163.0, \"truePositives\": 2089.0, \"precision\": 0.6423739237392374, \"recall\": 0.6415847665847666}, {\"threshold\": 0.482, \"falseNegatives\": 1168.0, \"trueNegatives\": 6443.0, \"falsePositives\": 1161.0, \"truePositives\": 2088.0, \"precision\": 0.6426592797783933, \"recall\": 0.6412776412776413}, {\"threshold\": 0.483, \"falseNegatives\": 1171.0, \"trueNegatives\": 6447.0, \"falsePositives\": 1157.0, \"truePositives\": 2085.0, \"precision\": 0.6431215299198025, \"recall\": 0.6403562653562653}, {\"threshold\": 0.484, \"falseNegatives\": 1175.0, \"trueNegatives\": 6449.0, \"falsePositives\": 1155.0, \"truePositives\": 2081.0, \"precision\": 0.6430778739184178, \"recall\": 0.6391277641277642}, {\"threshold\": 0.485, \"falseNegatives\": 1176.0, \"trueNegatives\": 6453.0, \"falsePositives\": 1151.0, \"truePositives\": 2080.0, \"precision\": 0.6437635406994738, \"recall\": 0.6388206388206388}, {\"threshold\": 0.486, \"falseNegatives\": 1181.0, \"trueNegatives\": 6456.0, \"falsePositives\": 1148.0, \"truePositives\": 2075.0, \"precision\": 0.6438101147998759, \"recall\": 0.6372850122850123}, {\"threshold\": 0.487, \"falseNegatives\": 1186.0, \"trueNegatives\": 6458.0, \"falsePositives\": 1146.0, \"truePositives\": 2070.0, \"precision\": 0.6436567164179104, \"recall\": 0.6357493857493858}, {\"threshold\": 0.488, \"falseNegatives\": 1188.0, \"trueNegatives\": 6463.0, \"falsePositives\": 1141.0, \"truePositives\": 2068.0, \"precision\": 0.6444375194764724, \"recall\": 0.6351351351351351}, {\"threshold\": 0.489, \"falseNegatives\": 1190.0, \"trueNegatives\": 6466.0, \"falsePositives\": 1138.0, \"truePositives\": 2066.0, \"precision\": 0.6448189762796505, \"recall\": 0.6345208845208845}, {\"threshold\": 0.49, \"falseNegatives\": 1193.0, \"trueNegatives\": 6474.0, \"falsePositives\": 1130.0, \"truePositives\": 2063.0, \"precision\": 0.6461008455997495, \"recall\": 0.6335995085995086}, {\"threshold\": 0.491, \"falseNegatives\": 1197.0, \"trueNegatives\": 6482.0, \"falsePositives\": 1122.0, \"truePositives\": 2059.0, \"precision\": 0.6472807293303993, \"recall\": 0.6323710073710074}, {\"threshold\": 0.492, \"falseNegatives\": 1200.0, \"trueNegatives\": 6485.0, \"falsePositives\": 1119.0, \"truePositives\": 2056.0, \"precision\": 0.6475590551181102, \"recall\": 0.6314496314496314}, {\"threshold\": 0.493, \"falseNegatives\": 1200.0, \"trueNegatives\": 6488.0, \"falsePositives\": 1116.0, \"truePositives\": 2056.0, \"precision\": 0.648171500630517, \"recall\": 0.6314496314496314}, {\"threshold\": 0.494, \"falseNegatives\": 1201.0, \"trueNegatives\": 6490.0, \"falsePositives\": 1114.0, \"truePositives\": 2055.0, \"precision\": 0.64846954875355, \"recall\": 0.6311425061425061}, {\"threshold\": 0.495, \"falseNegatives\": 1205.0, \"trueNegatives\": 6492.0, \"falsePositives\": 1112.0, \"truePositives\": 2051.0, \"precision\": 0.6484350300347771, \"recall\": 0.629914004914005}, {\"threshold\": 0.496, \"falseNegatives\": 1205.0, \"trueNegatives\": 6494.0, \"falsePositives\": 1110.0, \"truePositives\": 2051.0, \"precision\": 0.6488453021195824, \"recall\": 0.629914004914005}, {\"threshold\": 0.497, \"falseNegatives\": 1207.0, \"trueNegatives\": 6496.0, \"falsePositives\": 1108.0, \"truePositives\": 2049.0, \"precision\": 0.649033892936332, \"recall\": 0.6292997542997543}, {\"threshold\": 0.498, \"falseNegatives\": 1208.0, \"trueNegatives\": 6499.0, \"falsePositives\": 1105.0, \"truePositives\": 2048.0, \"precision\": 0.6495401205201395, \"recall\": 0.628992628992629}, {\"threshold\": 0.499, \"falseNegatives\": 1210.0, \"trueNegatives\": 6502.0, \"falsePositives\": 1102.0, \"truePositives\": 2046.0, \"precision\": 0.6499364675984752, \"recall\": 0.6283783783783784}, {\"threshold\": 0.5, \"falseNegatives\": 1213.0, \"trueNegatives\": 6505.0, \"falsePositives\": 1099.0, \"truePositives\": 2043.0, \"precision\": 0.6502227880331, \"recall\": 0.6274570024570024}, {\"threshold\": 0.501, \"falseNegatives\": 1216.0, \"trueNegatives\": 6514.0, \"falsePositives\": 1090.0, \"truePositives\": 2040.0, \"precision\": 0.6517571884984026, \"recall\": 0.6265356265356266}, {\"threshold\": 0.502, \"falseNegatives\": 1218.0, \"trueNegatives\": 6518.0, \"falsePositives\": 1086.0, \"truePositives\": 2038.0, \"precision\": 0.6523687580025608, \"recall\": 0.6259213759213759}, {\"threshold\": 0.503, \"falseNegatives\": 1220.0, \"trueNegatives\": 6521.0, \"falsePositives\": 1083.0, \"truePositives\": 2036.0, \"precision\": 0.6527733247835845, \"recall\": 0.6253071253071253}, {\"threshold\": 0.504, \"falseNegatives\": 1224.0, \"trueNegatives\": 6525.0, \"falsePositives\": 1079.0, \"truePositives\": 2032.0, \"precision\": 0.6531661845065895, \"recall\": 0.6240786240786241}, {\"threshold\": 0.505, \"falseNegatives\": 1228.0, \"trueNegatives\": 6529.0, \"falsePositives\": 1075.0, \"truePositives\": 2028.0, \"precision\": 0.6535610699323235, \"recall\": 0.6228501228501229}, {\"threshold\": 0.506, \"falseNegatives\": 1228.0, \"trueNegatives\": 6533.0, \"falsePositives\": 1071.0, \"truePositives\": 2028.0, \"precision\": 0.6544046466602129, \"recall\": 0.6228501228501229}, {\"threshold\": 0.507, \"falseNegatives\": 1229.0, \"trueNegatives\": 6536.0, \"falsePositives\": 1068.0, \"truePositives\": 2027.0, \"precision\": 0.6549273021001616, \"recall\": 0.6225429975429976}, {\"threshold\": 0.508, \"falseNegatives\": 1235.0, \"trueNegatives\": 6540.0, \"falsePositives\": 1064.0, \"truePositives\": 2021.0, \"precision\": 0.6551053484602918, \"recall\": 0.6207002457002457}, {\"threshold\": 0.509, \"falseNegatives\": 1236.0, \"trueNegatives\": 6541.0, \"falsePositives\": 1063.0, \"truePositives\": 2020.0, \"precision\": 0.6552059682127798, \"recall\": 0.6203931203931204}, {\"threshold\": 0.51, \"falseNegatives\": 1241.0, \"trueNegatives\": 6543.0, \"falsePositives\": 1061.0, \"truePositives\": 2015.0, \"precision\": 0.6550715214564369, \"recall\": 0.6188574938574939}, {\"threshold\": 0.511, \"falseNegatives\": 1243.0, \"trueNegatives\": 6545.0, \"falsePositives\": 1059.0, \"truePositives\": 2013.0, \"precision\": 0.6552734375, \"recall\": 0.6182432432432432}, {\"threshold\": 0.512, \"falseNegatives\": 1245.0, \"trueNegatives\": 6551.0, \"falsePositives\": 1053.0, \"truePositives\": 2011.0, \"precision\": 0.6563315926892951, \"recall\": 0.6176289926289926}, {\"threshold\": 0.513, \"falseNegatives\": 1247.0, \"trueNegatives\": 6552.0, \"falsePositives\": 1052.0, \"truePositives\": 2009.0, \"precision\": 0.6563214635739955, \"recall\": 0.617014742014742}, {\"threshold\": 0.514, \"falseNegatives\": 1250.0, \"trueNegatives\": 6555.0, \"falsePositives\": 1049.0, \"truePositives\": 2006.0, \"precision\": 0.6566284779050736, \"recall\": 0.6160933660933661}, {\"threshold\": 0.515, \"falseNegatives\": 1253.0, \"trueNegatives\": 6556.0, \"falsePositives\": 1048.0, \"truePositives\": 2003.0, \"precision\": 0.6565060635857096, \"recall\": 0.6151719901719902}, {\"threshold\": 0.516, \"falseNegatives\": 1256.0, \"trueNegatives\": 6559.0, \"falsePositives\": 1045.0, \"truePositives\": 2000.0, \"precision\": 0.6568144499178982, \"recall\": 0.6142506142506142}, {\"threshold\": 0.517, \"falseNegatives\": 1256.0, \"trueNegatives\": 6564.0, \"falsePositives\": 1040.0, \"truePositives\": 2000.0, \"precision\": 0.6578947368421053, \"recall\": 0.6142506142506142}, {\"threshold\": 0.518, \"falseNegatives\": 1261.0, \"trueNegatives\": 6566.0, \"falsePositives\": 1038.0, \"truePositives\": 1995.0, \"precision\": 0.6577645895153313, \"recall\": 0.6127149877149877}, {\"threshold\": 0.519, \"falseNegatives\": 1265.0, \"trueNegatives\": 6566.0, \"falsePositives\": 1038.0, \"truePositives\": 1991.0, \"precision\": 0.6573126444371079, \"recall\": 0.6114864864864865}, {\"threshold\": 0.52, \"falseNegatives\": 1266.0, \"trueNegatives\": 6569.0, \"falsePositives\": 1035.0, \"truePositives\": 1990.0, \"precision\": 0.6578512396694215, \"recall\": 0.6111793611793612}, {\"threshold\": 0.521, \"falseNegatives\": 1266.0, \"trueNegatives\": 6573.0, \"falsePositives\": 1031.0, \"truePositives\": 1990.0, \"precision\": 0.6587222773915922, \"recall\": 0.6111793611793612}, {\"threshold\": 0.522, \"falseNegatives\": 1266.0, \"trueNegatives\": 6576.0, \"falsePositives\": 1028.0, \"truePositives\": 1990.0, \"precision\": 0.659377070907886, \"recall\": 0.6111793611793612}, {\"threshold\": 0.523, \"falseNegatives\": 1269.0, \"trueNegatives\": 6577.0, \"falsePositives\": 1027.0, \"truePositives\": 1987.0, \"precision\": 0.659256801592568, \"recall\": 0.6102579852579852}, {\"threshold\": 0.524, \"falseNegatives\": 1269.0, \"trueNegatives\": 6578.0, \"falsePositives\": 1026.0, \"truePositives\": 1987.0, \"precision\": 0.6594756057085961, \"recall\": 0.6102579852579852}, {\"threshold\": 0.525, \"falseNegatives\": 1271.0, \"trueNegatives\": 6584.0, \"falsePositives\": 1020.0, \"truePositives\": 1985.0, \"precision\": 0.6605657237936772, \"recall\": 0.6096437346437347}, {\"threshold\": 0.526, \"falseNegatives\": 1273.0, \"trueNegatives\": 6587.0, \"falsePositives\": 1017.0, \"truePositives\": 1983.0, \"precision\": 0.661, \"recall\": 0.609029484029484}, {\"threshold\": 0.527, \"falseNegatives\": 1275.0, \"trueNegatives\": 6587.0, \"falsePositives\": 1017.0, \"truePositives\": 1981.0, \"precision\": 0.6607738492328219, \"recall\": 0.6084152334152334}, {\"threshold\": 0.528, \"falseNegatives\": 1275.0, \"trueNegatives\": 6590.0, \"falsePositives\": 1014.0, \"truePositives\": 1981.0, \"precision\": 0.6614357262103506, \"recall\": 0.6084152334152334}, {\"threshold\": 0.529, \"falseNegatives\": 1279.0, \"trueNegatives\": 6593.0, \"falsePositives\": 1011.0, \"truePositives\": 1977.0, \"precision\": 0.6616465863453815, \"recall\": 0.6071867321867321}, {\"threshold\": 0.53, \"falseNegatives\": 1283.0, \"trueNegatives\": 6597.0, \"falsePositives\": 1007.0, \"truePositives\": 1973.0, \"precision\": 0.6620805369127517, \"recall\": 0.605958230958231}, {\"threshold\": 0.531, \"falseNegatives\": 1284.0, \"trueNegatives\": 6598.0, \"falsePositives\": 1006.0, \"truePositives\": 1972.0, \"precision\": 0.6621893888515782, \"recall\": 0.6056511056511057}, {\"threshold\": 0.532, \"falseNegatives\": 1287.0, \"trueNegatives\": 6600.0, \"falsePositives\": 1004.0, \"truePositives\": 1969.0, \"precision\": 0.6622939791456441, \"recall\": 0.6047297297297297}, {\"threshold\": 0.533, \"falseNegatives\": 1290.0, \"trueNegatives\": 6602.0, \"falsePositives\": 1002.0, \"truePositives\": 1966.0, \"precision\": 0.6623989218328841, \"recall\": 0.6038083538083538}, {\"threshold\": 0.534, \"falseNegatives\": 1290.0, \"trueNegatives\": 6604.0, \"falsePositives\": 1000.0, \"truePositives\": 1966.0, \"precision\": 0.6628455832771409, \"recall\": 0.6038083538083538}, {\"threshold\": 0.535, \"falseNegatives\": 1290.0, \"trueNegatives\": 6606.0, \"falsePositives\": 998.0, \"truePositives\": 1966.0, \"precision\": 0.6632928475033738, \"recall\": 0.6038083538083538}, {\"threshold\": 0.536, \"falseNegatives\": 1291.0, \"trueNegatives\": 6611.0, \"falsePositives\": 993.0, \"truePositives\": 1965.0, \"precision\": 0.6643002028397565, \"recall\": 0.6035012285012284}, {\"threshold\": 0.537, \"falseNegatives\": 1292.0, \"trueNegatives\": 6612.0, \"falsePositives\": 992.0, \"truePositives\": 1964.0, \"precision\": 0.6644113667117727, \"recall\": 0.6031941031941032}, {\"threshold\": 0.538, \"falseNegatives\": 1294.0, \"trueNegatives\": 6613.0, \"falsePositives\": 991.0, \"truePositives\": 1962.0, \"precision\": 0.664409075516424, \"recall\": 0.6025798525798526}, {\"threshold\": 0.539, \"falseNegatives\": 1298.0, \"trueNegatives\": 6619.0, \"falsePositives\": 985.0, \"truePositives\": 1958.0, \"precision\": 0.6653075093442066, \"recall\": 0.6013513513513513}, {\"threshold\": 0.54, \"falseNegatives\": 1299.0, \"trueNegatives\": 6627.0, \"falsePositives\": 977.0, \"truePositives\": 1957.0, \"precision\": 0.6670074982958418, \"recall\": 0.601044226044226}, {\"threshold\": 0.541, \"falseNegatives\": 1301.0, \"trueNegatives\": 6631.0, \"falsePositives\": 973.0, \"truePositives\": 1955.0, \"precision\": 0.667691256830601, \"recall\": 0.6004299754299754}, {\"threshold\": 0.542, \"falseNegatives\": 1303.0, \"trueNegatives\": 6635.0, \"falsePositives\": 969.0, \"truePositives\": 1953.0, \"precision\": 0.6683778234086243, \"recall\": 0.5998157248157249}, {\"threshold\": 0.543, \"falseNegatives\": 1304.0, \"trueNegatives\": 6639.0, \"falsePositives\": 965.0, \"truePositives\": 1952.0, \"precision\": 0.6691806650668495, \"recall\": 0.5995085995085995}, {\"threshold\": 0.544, \"falseNegatives\": 1305.0, \"trueNegatives\": 6643.0, \"falsePositives\": 961.0, \"truePositives\": 1951.0, \"precision\": 0.6699862637362637, \"recall\": 0.5992014742014742}, {\"threshold\": 0.545, \"falseNegatives\": 1306.0, \"trueNegatives\": 6646.0, \"falsePositives\": 958.0, \"truePositives\": 1950.0, \"precision\": 0.6705639614855571, \"recall\": 0.5988943488943489}, {\"threshold\": 0.546, \"falseNegatives\": 1307.0, \"trueNegatives\": 6648.0, \"falsePositives\": 956.0, \"truePositives\": 1949.0, \"precision\": 0.6709122203098107, \"recall\": 0.5985872235872236}, {\"threshold\": 0.547, \"falseNegatives\": 1308.0, \"trueNegatives\": 6650.0, \"falsePositives\": 954.0, \"truePositives\": 1948.0, \"precision\": 0.6712611991729841, \"recall\": 0.5982800982800983}, {\"threshold\": 0.548, \"falseNegatives\": 1311.0, \"trueNegatives\": 6652.0, \"falsePositives\": 952.0, \"truePositives\": 1945.0, \"precision\": 0.67138419054194, \"recall\": 0.5973587223587223}, {\"threshold\": 0.549, \"falseNegatives\": 1313.0, \"trueNegatives\": 6653.0, \"falsePositives\": 951.0, \"truePositives\": 1943.0, \"precision\": 0.6713890808569454, \"recall\": 0.5967444717444718}, {\"threshold\": 0.55, \"falseNegatives\": 1319.0, \"trueNegatives\": 6658.0, \"falsePositives\": 946.0, \"truePositives\": 1937.0, \"precision\": 0.6718695802983004, \"recall\": 0.5949017199017199}, {\"threshold\": 0.551, \"falseNegatives\": 1320.0, \"trueNegatives\": 6660.0, \"falsePositives\": 944.0, \"truePositives\": 1936.0, \"precision\": 0.6722222222222223, \"recall\": 0.5945945945945946}, {\"threshold\": 0.552, \"falseNegatives\": 1323.0, \"trueNegatives\": 6667.0, \"falsePositives\": 937.0, \"truePositives\": 1933.0, \"precision\": 0.6735191637630662, \"recall\": 0.5936732186732187}, {\"threshold\": 0.553, \"falseNegatives\": 1327.0, \"trueNegatives\": 6671.0, \"falsePositives\": 933.0, \"truePositives\": 1929.0, \"precision\": 0.6740041928721174, \"recall\": 0.5924447174447175}, {\"threshold\": 0.554, \"falseNegatives\": 1328.0, \"trueNegatives\": 6676.0, \"falsePositives\": 928.0, \"truePositives\": 1928.0, \"precision\": 0.6750700280112045, \"recall\": 0.5921375921375921}, {\"threshold\": 0.555, \"falseNegatives\": 1329.0, \"trueNegatives\": 6679.0, \"falsePositives\": 925.0, \"truePositives\": 1927.0, \"precision\": 0.6756661991584852, \"recall\": 0.5918304668304668}, {\"threshold\": 0.556, \"falseNegatives\": 1330.0, \"trueNegatives\": 6679.0, \"falsePositives\": 925.0, \"truePositives\": 1926.0, \"precision\": 0.6755524377411435, \"recall\": 0.5915233415233415}, {\"threshold\": 0.557, \"falseNegatives\": 1334.0, \"trueNegatives\": 6684.0, \"falsePositives\": 920.0, \"truePositives\": 1922.0, \"precision\": 0.6762843068261788, \"recall\": 0.5902948402948403}, {\"threshold\": 0.558, \"falseNegatives\": 1336.0, \"trueNegatives\": 6685.0, \"falsePositives\": 919.0, \"truePositives\": 1920.0, \"precision\": 0.6762944698837619, \"recall\": 0.5896805896805897}, {\"threshold\": 0.559, \"falseNegatives\": 1338.0, \"trueNegatives\": 6686.0, \"falsePositives\": 918.0, \"truePositives\": 1918.0, \"precision\": 0.6763046544428772, \"recall\": 0.5890663390663391}, {\"threshold\": 0.56, \"falseNegatives\": 1339.0, \"trueNegatives\": 6687.0, \"falsePositives\": 917.0, \"truePositives\": 1917.0, \"precision\": 0.6764290755116443, \"recall\": 0.5887592137592138}, {\"threshold\": 0.561, \"falseNegatives\": 1341.0, \"trueNegatives\": 6688.0, \"falsePositives\": 916.0, \"truePositives\": 1915.0, \"precision\": 0.6764394206993996, \"recall\": 0.5881449631449631}, {\"threshold\": 0.562, \"falseNegatives\": 1344.0, \"trueNegatives\": 6695.0, \"falsePositives\": 909.0, \"truePositives\": 1912.0, \"precision\": 0.6777738390641617, \"recall\": 0.5872235872235873}, {\"threshold\": 0.563, \"falseNegatives\": 1346.0, \"trueNegatives\": 6702.0, \"falsePositives\": 902.0, \"truePositives\": 1910.0, \"precision\": 0.6792318634423897, \"recall\": 0.5866093366093366}, {\"threshold\": 0.564, \"falseNegatives\": 1348.0, \"trueNegatives\": 6702.0, \"falsePositives\": 902.0, \"truePositives\": 1908.0, \"precision\": 0.6790035587188612, \"recall\": 0.585995085995086}, {\"threshold\": 0.565, \"falseNegatives\": 1352.0, \"trueNegatives\": 6702.0, \"falsePositives\": 902.0, \"truePositives\": 1904.0, \"precision\": 0.6785459729151817, \"recall\": 0.5847665847665847}, {\"threshold\": 0.566, \"falseNegatives\": 1353.0, \"trueNegatives\": 6702.0, \"falsePositives\": 902.0, \"truePositives\": 1903.0, \"precision\": 0.6784313725490196, \"recall\": 0.5844594594594594}, {\"threshold\": 0.567, \"falseNegatives\": 1355.0, \"trueNegatives\": 6706.0, \"falsePositives\": 898.0, \"truePositives\": 1901.0, \"precision\": 0.6791711325473383, \"recall\": 0.5838452088452089}, {\"threshold\": 0.568, \"falseNegatives\": 1357.0, \"trueNegatives\": 6708.0, \"falsePositives\": 896.0, \"truePositives\": 1899.0, \"precision\": 0.679427549194991, \"recall\": 0.5832309582309583}, {\"threshold\": 0.569, \"falseNegatives\": 1358.0, \"trueNegatives\": 6709.0, \"falsePositives\": 895.0, \"truePositives\": 1898.0, \"precision\": 0.6795560329394916, \"recall\": 0.5829238329238329}, {\"threshold\": 0.57, \"falseNegatives\": 1362.0, \"trueNegatives\": 6711.0, \"falsePositives\": 893.0, \"truePositives\": 1894.0, \"precision\": 0.679583781844277, \"recall\": 0.5816953316953317}, {\"threshold\": 0.571, \"falseNegatives\": 1362.0, \"trueNegatives\": 6712.0, \"falsePositives\": 892.0, \"truePositives\": 1894.0, \"precision\": 0.6798277099784638, \"recall\": 0.5816953316953317}, {\"threshold\": 0.572, \"falseNegatives\": 1366.0, \"trueNegatives\": 6713.0, \"falsePositives\": 891.0, \"truePositives\": 1890.0, \"precision\": 0.6796116504854369, \"recall\": 0.5804668304668305}, {\"threshold\": 0.573, \"falseNegatives\": 1369.0, \"trueNegatives\": 6715.0, \"falsePositives\": 889.0, \"truePositives\": 1887.0, \"precision\": 0.6797550432276657, \"recall\": 0.5795454545454546}, {\"threshold\": 0.574, \"falseNegatives\": 1369.0, \"trueNegatives\": 6717.0, \"falsePositives\": 887.0, \"truePositives\": 1887.0, \"precision\": 0.6802451333813987, \"recall\": 0.5795454545454546}, {\"threshold\": 0.575, \"falseNegatives\": 1373.0, \"trueNegatives\": 6719.0, \"falsePositives\": 885.0, \"truePositives\": 1883.0, \"precision\": 0.6802745664739884, \"recall\": 0.5783169533169533}, {\"threshold\": 0.576, \"falseNegatives\": 1373.0, \"trueNegatives\": 6720.0, \"falsePositives\": 884.0, \"truePositives\": 1883.0, \"precision\": 0.6805204192265992, \"recall\": 0.5783169533169533}, {\"threshold\": 0.577, \"falseNegatives\": 1374.0, \"trueNegatives\": 6721.0, \"falsePositives\": 883.0, \"truePositives\": 1882.0, \"precision\": 0.6806509945750452, \"recall\": 0.578009828009828}, {\"threshold\": 0.578, \"falseNegatives\": 1377.0, \"trueNegatives\": 6723.0, \"falsePositives\": 881.0, \"truePositives\": 1879.0, \"precision\": 0.6807971014492754, \"recall\": 0.577088452088452}, {\"threshold\": 0.579, \"falseNegatives\": 1380.0, \"trueNegatives\": 6725.0, \"falsePositives\": 879.0, \"truePositives\": 1876.0, \"precision\": 0.6809437386569873, \"recall\": 0.5761670761670762}, {\"threshold\": 0.58, \"falseNegatives\": 1382.0, \"trueNegatives\": 6730.0, \"falsePositives\": 874.0, \"truePositives\": 1874.0, \"precision\": 0.6819505094614265, \"recall\": 0.5755528255528255}, {\"threshold\": 0.581, \"falseNegatives\": 1386.0, \"trueNegatives\": 6731.0, \"falsePositives\": 873.0, \"truePositives\": 1870.0, \"precision\": 0.6817353262850894, \"recall\": 0.5743243243243243}, {\"threshold\": 0.582, \"falseNegatives\": 1388.0, \"trueNegatives\": 6734.0, \"falsePositives\": 870.0, \"truePositives\": 1868.0, \"precision\": 0.6822498173849525, \"recall\": 0.5737100737100738}, {\"threshold\": 0.583, \"falseNegatives\": 1390.0, \"trueNegatives\": 6738.0, \"falsePositives\": 866.0, \"truePositives\": 1866.0, \"precision\": 0.6830161054172768, \"recall\": 0.5730958230958231}, {\"threshold\": 0.584, \"falseNegatives\": 1392.0, \"trueNegatives\": 6742.0, \"falsePositives\": 862.0, \"truePositives\": 1864.0, \"precision\": 0.6837857666911226, \"recall\": 0.5724815724815725}, {\"threshold\": 0.585, \"falseNegatives\": 1395.0, \"trueNegatives\": 6744.0, \"falsePositives\": 860.0, \"truePositives\": 1861.0, \"precision\": 0.6839397280411613, \"recall\": 0.5715601965601965}, {\"threshold\": 0.586, \"falseNegatives\": 1399.0, \"trueNegatives\": 6745.0, \"falsePositives\": 859.0, \"truePositives\": 1857.0, \"precision\": 0.6837260677466863, \"recall\": 0.5703316953316954}, {\"threshold\": 0.587, \"falseNegatives\": 1399.0, \"trueNegatives\": 6748.0, \"falsePositives\": 856.0, \"truePositives\": 1857.0, \"precision\": 0.6844821231109472, \"recall\": 0.5703316953316954}, {\"threshold\": 0.588, \"falseNegatives\": 1402.0, \"trueNegatives\": 6750.0, \"falsePositives\": 854.0, \"truePositives\": 1854.0, \"precision\": 0.6846381093057607, \"recall\": 0.5694103194103194}, {\"threshold\": 0.589, \"falseNegatives\": 1405.0, \"trueNegatives\": 6750.0, \"falsePositives\": 854.0, \"truePositives\": 1851.0, \"precision\": 0.6842883548983364, \"recall\": 0.5684889434889435}, {\"threshold\": 0.59, \"falseNegatives\": 1408.0, \"trueNegatives\": 6752.0, \"falsePositives\": 852.0, \"truePositives\": 1848.0, \"precision\": 0.6844444444444444, \"recall\": 0.5675675675675675}, {\"threshold\": 0.591, \"falseNegatives\": 1409.0, \"trueNegatives\": 6755.0, \"falsePositives\": 849.0, \"truePositives\": 1847.0, \"precision\": 0.6850890207715133, \"recall\": 0.5672604422604423}, {\"threshold\": 0.592, \"falseNegatives\": 1410.0, \"trueNegatives\": 6756.0, \"falsePositives\": 848.0, \"truePositives\": 1846.0, \"precision\": 0.6852264291017075, \"recall\": 0.566953316953317}, {\"threshold\": 0.593, \"falseNegatives\": 1412.0, \"trueNegatives\": 6758.0, \"falsePositives\": 846.0, \"truePositives\": 1844.0, \"precision\": 0.6855018587360595, \"recall\": 0.5663390663390664}, {\"threshold\": 0.594, \"falseNegatives\": 1417.0, \"trueNegatives\": 6760.0, \"falsePositives\": 844.0, \"truePositives\": 1839.0, \"precision\": 0.685426761088334, \"recall\": 0.5648034398034398}, {\"threshold\": 0.595, \"falseNegatives\": 1419.0, \"trueNegatives\": 6764.0, \"falsePositives\": 840.0, \"truePositives\": 1837.0, \"precision\": 0.6862159133358237, \"recall\": 0.5641891891891891}, {\"threshold\": 0.596, \"falseNegatives\": 1421.0, \"trueNegatives\": 6765.0, \"falsePositives\": 839.0, \"truePositives\": 1835.0, \"precision\": 0.6862378459237098, \"recall\": 0.5635749385749386}, {\"threshold\": 0.597, \"falseNegatives\": 1426.0, \"trueNegatives\": 6767.0, \"falsePositives\": 837.0, \"truePositives\": 1830.0, \"precision\": 0.6861642294713161, \"recall\": 0.562039312039312}, {\"threshold\": 0.598, \"falseNegatives\": 1432.0, \"trueNegatives\": 6767.0, \"falsePositives\": 837.0, \"truePositives\": 1824.0, \"precision\": 0.685456595264938, \"recall\": 0.5601965601965602}, {\"threshold\": 0.599, \"falseNegatives\": 1432.0, \"trueNegatives\": 6771.0, \"falsePositives\": 833.0, \"truePositives\": 1824.0, \"precision\": 0.6864885208882198, \"recall\": 0.5601965601965602}, {\"threshold\": 0.6, \"falseNegatives\": 1432.0, \"trueNegatives\": 6774.0, \"falsePositives\": 830.0, \"truePositives\": 1824.0, \"precision\": 0.6872645064054258, \"recall\": 0.5601965601965602}, {\"threshold\": 0.601, \"falseNegatives\": 1432.0, \"trueNegatives\": 6775.0, \"falsePositives\": 829.0, \"truePositives\": 1824.0, \"precision\": 0.6875235582359593, \"recall\": 0.5601965601965602}, {\"threshold\": 0.602, \"falseNegatives\": 1434.0, \"trueNegatives\": 6778.0, \"falsePositives\": 826.0, \"truePositives\": 1822.0, \"precision\": 0.6880664652567976, \"recall\": 0.5595823095823096}, {\"threshold\": 0.603, \"falseNegatives\": 1437.0, \"trueNegatives\": 6784.0, \"falsePositives\": 820.0, \"truePositives\": 1819.0, \"precision\": 0.689276241000379, \"recall\": 0.5586609336609336}, {\"threshold\": 0.604, \"falseNegatives\": 1437.0, \"trueNegatives\": 6786.0, \"falsePositives\": 818.0, \"truePositives\": 1819.0, \"precision\": 0.6897990140310959, \"recall\": 0.5586609336609336}, {\"threshold\": 0.605, \"falseNegatives\": 1440.0, \"trueNegatives\": 6787.0, \"falsePositives\": 817.0, \"truePositives\": 1816.0, \"precision\": 0.6897075579187238, \"recall\": 0.5577395577395577}, {\"threshold\": 0.606, \"falseNegatives\": 1444.0, \"trueNegatives\": 6789.0, \"falsePositives\": 815.0, \"truePositives\": 1812.0, \"precision\": 0.6897601827179292, \"recall\": 0.5565110565110565}, {\"threshold\": 0.607, \"falseNegatives\": 1445.0, \"trueNegatives\": 6791.0, \"falsePositives\": 813.0, \"truePositives\": 1811.0, \"precision\": 0.6901676829268293, \"recall\": 0.5562039312039312}, {\"threshold\": 0.608, \"falseNegatives\": 1447.0, \"trueNegatives\": 6793.0, \"falsePositives\": 811.0, \"truePositives\": 1809.0, \"precision\": 0.6904580152671755, \"recall\": 0.5555896805896806}, {\"threshold\": 0.609, \"falseNegatives\": 1448.0, \"trueNegatives\": 6794.0, \"falsePositives\": 810.0, \"truePositives\": 1808.0, \"precision\": 0.6906035141329259, \"recall\": 0.5552825552825553}, {\"threshold\": 0.61, \"falseNegatives\": 1448.0, \"trueNegatives\": 6794.0, \"falsePositives\": 810.0, \"truePositives\": 1808.0, \"precision\": 0.6906035141329259, \"recall\": 0.5552825552825553}, {\"threshold\": 0.611, \"falseNegatives\": 1449.0, \"trueNegatives\": 6798.0, \"falsePositives\": 806.0, \"truePositives\": 1807.0, \"precision\": 0.6915422885572139, \"recall\": 0.5549754299754299}, {\"threshold\": 0.612, \"falseNegatives\": 1453.0, \"trueNegatives\": 6800.0, \"falsePositives\": 804.0, \"truePositives\": 1803.0, \"precision\": 0.6915995397008056, \"recall\": 0.5537469287469288}, {\"threshold\": 0.613, \"falseNegatives\": 1457.0, \"trueNegatives\": 6803.0, \"falsePositives\": 801.0, \"truePositives\": 1799.0, \"precision\": 0.691923076923077, \"recall\": 0.5525184275184275}, {\"threshold\": 0.614, \"falseNegatives\": 1464.0, \"trueNegatives\": 6808.0, \"falsePositives\": 796.0, \"truePositives\": 1792.0, \"precision\": 0.6924265842349304, \"recall\": 0.5503685503685504}, {\"threshold\": 0.615, \"falseNegatives\": 1465.0, \"trueNegatives\": 6812.0, \"falsePositives\": 792.0, \"truePositives\": 1791.0, \"precision\": 0.6933797909407665, \"recall\": 0.5500614250614251}, {\"threshold\": 0.616, \"falseNegatives\": 1467.0, \"trueNegatives\": 6815.0, \"falsePositives\": 789.0, \"truePositives\": 1789.0, \"precision\": 0.6939487975174554, \"recall\": 0.5494471744471745}, {\"threshold\": 0.617, \"falseNegatives\": 1469.0, \"trueNegatives\": 6817.0, \"falsePositives\": 787.0, \"truePositives\": 1787.0, \"precision\": 0.6942501942501943, \"recall\": 0.5488329238329238}, {\"threshold\": 0.618, \"falseNegatives\": 1473.0, \"trueNegatives\": 6819.0, \"falsePositives\": 785.0, \"truePositives\": 1783.0, \"precision\": 0.6943146417445483, \"recall\": 0.5476044226044227}, {\"threshold\": 0.619, \"falseNegatives\": 1476.0, \"trueNegatives\": 6819.0, \"falsePositives\": 785.0, \"truePositives\": 1780.0, \"precision\": 0.6939571150097466, \"recall\": 0.5466830466830467}, {\"threshold\": 0.62, \"falseNegatives\": 1477.0, \"trueNegatives\": 6823.0, \"falsePositives\": 781.0, \"truePositives\": 1779.0, \"precision\": 0.694921875, \"recall\": 0.5463759213759214}, {\"threshold\": 0.621, \"falseNegatives\": 1480.0, \"trueNegatives\": 6824.0, \"falsePositives\": 780.0, \"truePositives\": 1776.0, \"precision\": 0.6948356807511737, \"recall\": 0.5454545454545454}, {\"threshold\": 0.622, \"falseNegatives\": 1483.0, \"trueNegatives\": 6829.0, \"falsePositives\": 775.0, \"truePositives\": 1773.0, \"precision\": 0.695839874411303, \"recall\": 0.5445331695331695}, {\"threshold\": 0.623, \"falseNegatives\": 1487.0, \"trueNegatives\": 6836.0, \"falsePositives\": 768.0, \"truePositives\": 1769.0, \"precision\": 0.6972802522664564, \"recall\": 0.5433046683046683}, {\"threshold\": 0.624, \"falseNegatives\": 1491.0, \"trueNegatives\": 6840.0, \"falsePositives\": 764.0, \"truePositives\": 1765.0, \"precision\": 0.6979043100039541, \"recall\": 0.5420761670761671}, {\"threshold\": 0.625, \"falseNegatives\": 1491.0, \"trueNegatives\": 6845.0, \"falsePositives\": 759.0, \"truePositives\": 1765.0, \"precision\": 0.6992868462757528, \"recall\": 0.5420761670761671}, {\"threshold\": 0.626, \"falseNegatives\": 1494.0, \"trueNegatives\": 6846.0, \"falsePositives\": 758.0, \"truePositives\": 1762.0, \"precision\": 0.6992063492063492, \"recall\": 0.5411547911547911}, {\"threshold\": 0.627, \"falseNegatives\": 1495.0, \"trueNegatives\": 6848.0, \"falsePositives\": 756.0, \"truePositives\": 1761.0, \"precision\": 0.699642431466031, \"recall\": 0.5408476658476659}, {\"threshold\": 0.628, \"falseNegatives\": 1500.0, \"trueNegatives\": 6850.0, \"falsePositives\": 754.0, \"truePositives\": 1756.0, \"precision\": 0.699601593625498, \"recall\": 0.5393120393120393}, {\"threshold\": 0.629, \"falseNegatives\": 1502.0, \"trueNegatives\": 6853.0, \"falsePositives\": 751.0, \"truePositives\": 1754.0, \"precision\": 0.7001996007984032, \"recall\": 0.5386977886977887}, {\"threshold\": 0.63, \"falseNegatives\": 1502.0, \"trueNegatives\": 6858.0, \"falsePositives\": 746.0, \"truePositives\": 1754.0, \"precision\": 0.7016, \"recall\": 0.5386977886977887}, {\"threshold\": 0.631, \"falseNegatives\": 1504.0, \"trueNegatives\": 6860.0, \"falsePositives\": 744.0, \"truePositives\": 1752.0, \"precision\": 0.7019230769230769, \"recall\": 0.538083538083538}, {\"threshold\": 0.632, \"falseNegatives\": 1505.0, \"trueNegatives\": 6862.0, \"falsePositives\": 742.0, \"truePositives\": 1751.0, \"precision\": 0.7023666265543522, \"recall\": 0.5377764127764127}, {\"threshold\": 0.633, \"falseNegatives\": 1509.0, \"trueNegatives\": 6863.0, \"falsePositives\": 741.0, \"truePositives\": 1747.0, \"precision\": 0.7021704180064309, \"recall\": 0.5365479115479116}, {\"threshold\": 0.634, \"falseNegatives\": 1510.0, \"trueNegatives\": 6866.0, \"falsePositives\": 738.0, \"truePositives\": 1746.0, \"precision\": 0.7028985507246377, \"recall\": 0.5362407862407862}, {\"threshold\": 0.635, \"falseNegatives\": 1510.0, \"trueNegatives\": 6867.0, \"falsePositives\": 737.0, \"truePositives\": 1746.0, \"precision\": 0.7031816351188079, \"recall\": 0.5362407862407862}, {\"threshold\": 0.636, \"falseNegatives\": 1516.0, \"trueNegatives\": 6867.0, \"falsePositives\": 737.0, \"truePositives\": 1740.0, \"precision\": 0.702462656439241, \"recall\": 0.5343980343980343}, {\"threshold\": 0.637, \"falseNegatives\": 1517.0, \"trueNegatives\": 6869.0, \"falsePositives\": 735.0, \"truePositives\": 1739.0, \"precision\": 0.7029102667744543, \"recall\": 0.5340909090909091}, {\"threshold\": 0.638, \"falseNegatives\": 1520.0, \"trueNegatives\": 6871.0, \"falsePositives\": 733.0, \"truePositives\": 1736.0, \"precision\": 0.703118671526934, \"recall\": 0.5331695331695332}, {\"threshold\": 0.639, \"falseNegatives\": 1521.0, \"trueNegatives\": 6874.0, \"falsePositives\": 730.0, \"truePositives\": 1735.0, \"precision\": 0.7038539553752535, \"recall\": 0.5328624078624079}, {\"threshold\": 0.64, \"falseNegatives\": 1523.0, \"trueNegatives\": 6874.0, \"falsePositives\": 730.0, \"truePositives\": 1733.0, \"precision\": 0.703613479496549, \"recall\": 0.5322481572481572}, {\"threshold\": 0.641, \"falseNegatives\": 1523.0, \"trueNegatives\": 6878.0, \"falsePositives\": 726.0, \"truePositives\": 1733.0, \"precision\": 0.7047580317202115, \"recall\": 0.5322481572481572}, {\"threshold\": 0.642, \"falseNegatives\": 1527.0, \"trueNegatives\": 6879.0, \"falsePositives\": 725.0, \"truePositives\": 1729.0, \"precision\": 0.7045639771801141, \"recall\": 0.5310196560196561}, {\"threshold\": 0.643, \"falseNegatives\": 1529.0, \"trueNegatives\": 6883.0, \"falsePositives\": 721.0, \"truePositives\": 1727.0, \"precision\": 0.7054738562091504, \"recall\": 0.5304054054054054}, {\"threshold\": 0.644, \"falseNegatives\": 1531.0, \"trueNegatives\": 6884.0, \"falsePositives\": 720.0, \"truePositives\": 1725.0, \"precision\": 0.7055214723926381, \"recall\": 0.5297911547911548}, {\"threshold\": 0.645, \"falseNegatives\": 1535.0, \"trueNegatives\": 6884.0, \"falsePositives\": 720.0, \"truePositives\": 1721.0, \"precision\": 0.7050389184760344, \"recall\": 0.5285626535626535}, {\"threshold\": 0.646, \"falseNegatives\": 1536.0, \"trueNegatives\": 6885.0, \"falsePositives\": 719.0, \"truePositives\": 1720.0, \"precision\": 0.7052070520705207, \"recall\": 0.5282555282555282}, {\"threshold\": 0.647, \"falseNegatives\": 1536.0, \"trueNegatives\": 6889.0, \"falsePositives\": 715.0, \"truePositives\": 1720.0, \"precision\": 0.7063655030800822, \"recall\": 0.5282555282555282}, {\"threshold\": 0.648, \"falseNegatives\": 1539.0, \"trueNegatives\": 6893.0, \"falsePositives\": 711.0, \"truePositives\": 1717.0, \"precision\": 0.707166392092257, \"recall\": 0.5273341523341524}, {\"threshold\": 0.649, \"falseNegatives\": 1541.0, \"trueNegatives\": 6894.0, \"falsePositives\": 710.0, \"truePositives\": 1715.0, \"precision\": 0.7072164948453609, \"recall\": 0.5267199017199017}, {\"threshold\": 0.65, \"falseNegatives\": 1542.0, \"trueNegatives\": 6896.0, \"falsePositives\": 708.0, \"truePositives\": 1714.0, \"precision\": 0.7076796036333609, \"recall\": 0.5264127764127764}, {\"threshold\": 0.651, \"falseNegatives\": 1544.0, \"trueNegatives\": 6896.0, \"falsePositives\": 708.0, \"truePositives\": 1712.0, \"precision\": 0.7074380165289256, \"recall\": 0.5257985257985258}, {\"threshold\": 0.652, \"falseNegatives\": 1547.0, \"trueNegatives\": 6897.0, \"falsePositives\": 707.0, \"truePositives\": 1709.0, \"precision\": 0.7073675496688742, \"recall\": 0.5248771498771498}, {\"threshold\": 0.653, \"falseNegatives\": 1549.0, \"trueNegatives\": 6899.0, \"falsePositives\": 705.0, \"truePositives\": 1707.0, \"precision\": 0.7077114427860697, \"recall\": 0.5242628992628993}, {\"threshold\": 0.654, \"falseNegatives\": 1552.0, \"trueNegatives\": 6900.0, \"falsePositives\": 704.0, \"truePositives\": 1704.0, \"precision\": 0.707641196013289, \"recall\": 0.5233415233415234}, {\"threshold\": 0.655, \"falseNegatives\": 1555.0, \"trueNegatives\": 6902.0, \"falsePositives\": 702.0, \"truePositives\": 1701.0, \"precision\": 0.7078651685393258, \"recall\": 0.5224201474201474}, {\"threshold\": 0.656, \"falseNegatives\": 1560.0, \"trueNegatives\": 6906.0, \"falsePositives\": 698.0, \"truePositives\": 1696.0, \"precision\": 0.70843776106934, \"recall\": 0.5208845208845209}, {\"threshold\": 0.657, \"falseNegatives\": 1561.0, \"trueNegatives\": 6908.0, \"falsePositives\": 696.0, \"truePositives\": 1695.0, \"precision\": 0.7089084065244667, \"recall\": 0.5205773955773956}, {\"threshold\": 0.658, \"falseNegatives\": 1565.0, \"trueNegatives\": 6911.0, \"falsePositives\": 693.0, \"truePositives\": 1691.0, \"precision\": 0.7093120805369127, \"recall\": 0.5193488943488943}, {\"threshold\": 0.659, \"falseNegatives\": 1568.0, \"trueNegatives\": 6914.0, \"falsePositives\": 690.0, \"truePositives\": 1688.0, \"precision\": 0.7098402018502944, \"recall\": 0.5184275184275184}, {\"threshold\": 0.66, \"falseNegatives\": 1570.0, \"trueNegatives\": 6917.0, \"falsePositives\": 687.0, \"truePositives\": 1686.0, \"precision\": 0.7104930467762326, \"recall\": 0.5178132678132679}, {\"threshold\": 0.661, \"falseNegatives\": 1571.0, \"trueNegatives\": 6923.0, \"falsePositives\": 681.0, \"truePositives\": 1685.0, \"precision\": 0.7121724429416737, \"recall\": 0.5175061425061425}, {\"threshold\": 0.662, \"falseNegatives\": 1575.0, \"trueNegatives\": 6923.0, \"falsePositives\": 681.0, \"truePositives\": 1681.0, \"precision\": 0.7116850127011007, \"recall\": 0.5162776412776413}, {\"threshold\": 0.663, \"falseNegatives\": 1578.0, \"trueNegatives\": 6926.0, \"falsePositives\": 678.0, \"truePositives\": 1678.0, \"precision\": 0.7122241086587436, \"recall\": 0.5153562653562653}, {\"threshold\": 0.664, \"falseNegatives\": 1578.0, \"trueNegatives\": 6926.0, \"falsePositives\": 678.0, \"truePositives\": 1678.0, \"precision\": 0.7122241086587436, \"recall\": 0.5153562653562653}, {\"threshold\": 0.665, \"falseNegatives\": 1580.0, \"trueNegatives\": 6929.0, \"falsePositives\": 675.0, \"truePositives\": 1676.0, \"precision\": 0.7128881327094854, \"recall\": 0.5147420147420148}, {\"threshold\": 0.666, \"falseNegatives\": 1581.0, \"trueNegatives\": 6929.0, \"falsePositives\": 675.0, \"truePositives\": 1675.0, \"precision\": 0.7127659574468085, \"recall\": 0.5144348894348895}, {\"threshold\": 0.667, \"falseNegatives\": 1586.0, \"trueNegatives\": 6930.0, \"falsePositives\": 674.0, \"truePositives\": 1670.0, \"precision\": 0.712457337883959, \"recall\": 0.5128992628992629}, {\"threshold\": 0.668, \"falseNegatives\": 1587.0, \"trueNegatives\": 6931.0, \"falsePositives\": 673.0, \"truePositives\": 1669.0, \"precision\": 0.7126387702818104, \"recall\": 0.5125921375921376}, {\"threshold\": 0.669, \"falseNegatives\": 1588.0, \"trueNegatives\": 6934.0, \"falsePositives\": 670.0, \"truePositives\": 1668.0, \"precision\": 0.7134302822925578, \"recall\": 0.5122850122850123}, {\"threshold\": 0.67, \"falseNegatives\": 1589.0, \"trueNegatives\": 6936.0, \"falsePositives\": 668.0, \"truePositives\": 1667.0, \"precision\": 0.7139186295503211, \"recall\": 0.5119778869778869}, {\"threshold\": 0.671, \"falseNegatives\": 1591.0, \"trueNegatives\": 6940.0, \"falsePositives\": 664.0, \"truePositives\": 1665.0, \"precision\": 0.7148990983254616, \"recall\": 0.5113636363636364}, {\"threshold\": 0.672, \"falseNegatives\": 1595.0, \"trueNegatives\": 6942.0, \"falsePositives\": 662.0, \"truePositives\": 1661.0, \"precision\": 0.7150236762806715, \"recall\": 0.5101351351351351}, {\"threshold\": 0.673, \"falseNegatives\": 1598.0, \"trueNegatives\": 6942.0, \"falsePositives\": 662.0, \"truePositives\": 1658.0, \"precision\": 0.7146551724137931, \"recall\": 0.5092137592137592}, {\"threshold\": 0.674, \"falseNegatives\": 1604.0, \"trueNegatives\": 6943.0, \"falsePositives\": 661.0, \"truePositives\": 1652.0, \"precision\": 0.7142239515780372, \"recall\": 0.5073710073710074}, {\"threshold\": 0.675, \"falseNegatives\": 1609.0, \"trueNegatives\": 6946.0, \"falsePositives\": 658.0, \"truePositives\": 1647.0, \"precision\": 0.7145336225596529, \"recall\": 0.5058353808353808}, {\"threshold\": 0.676, \"falseNegatives\": 1610.0, \"trueNegatives\": 6947.0, \"falsePositives\": 657.0, \"truePositives\": 1646.0, \"precision\": 0.7147199305254016, \"recall\": 0.5055282555282555}, {\"threshold\": 0.677, \"falseNegatives\": 1614.0, \"trueNegatives\": 6951.0, \"falsePositives\": 653.0, \"truePositives\": 1642.0, \"precision\": 0.7154684095860566, \"recall\": 0.5042997542997543}, {\"threshold\": 0.678, \"falseNegatives\": 1616.0, \"trueNegatives\": 6952.0, \"falsePositives\": 652.0, \"truePositives\": 1640.0, \"precision\": 0.7155322862129145, \"recall\": 0.5036855036855037}, {\"threshold\": 0.679, \"falseNegatives\": 1619.0, \"trueNegatives\": 6954.0, \"falsePositives\": 650.0, \"truePositives\": 1637.0, \"precision\": 0.7157848710100568, \"recall\": 0.5027641277641277}, {\"threshold\": 0.68, \"falseNegatives\": 1622.0, \"trueNegatives\": 6957.0, \"falsePositives\": 647.0, \"truePositives\": 1634.0, \"precision\": 0.716352476983779, \"recall\": 0.5018427518427518}, {\"threshold\": 0.681, \"falseNegatives\": 1624.0, \"trueNegatives\": 6958.0, \"falsePositives\": 646.0, \"truePositives\": 1632.0, \"precision\": 0.7164179104477612, \"recall\": 0.5012285012285013}, {\"threshold\": 0.682, \"falseNegatives\": 1627.0, \"trueNegatives\": 6962.0, \"falsePositives\": 642.0, \"truePositives\": 1629.0, \"precision\": 0.7173051519154557, \"recall\": 0.5003071253071253}, {\"threshold\": 0.683, \"falseNegatives\": 1628.0, \"trueNegatives\": 6965.0, \"falsePositives\": 639.0, \"truePositives\": 1628.0, \"precision\": 0.7181296868107632, \"recall\": 0.5}, {\"threshold\": 0.684, \"falseNegatives\": 1634.0, \"trueNegatives\": 6967.0, \"falsePositives\": 637.0, \"truePositives\": 1622.0, \"precision\": 0.7180168216024789, \"recall\": 0.49815724815724816}, {\"threshold\": 0.685, \"falseNegatives\": 1637.0, \"trueNegatives\": 6970.0, \"falsePositives\": 634.0, \"truePositives\": 1619.0, \"precision\": 0.7185974256546827, \"recall\": 0.49723587223587223}, {\"threshold\": 0.686, \"falseNegatives\": 1641.0, \"trueNegatives\": 6971.0, \"falsePositives\": 633.0, \"truePositives\": 1615.0, \"precision\": 0.7184163701067615, \"recall\": 0.496007371007371}, {\"threshold\": 0.687, \"falseNegatives\": 1646.0, \"trueNegatives\": 6974.0, \"falsePositives\": 630.0, \"truePositives\": 1610.0, \"precision\": 0.71875, \"recall\": 0.49447174447174447}, {\"threshold\": 0.688, \"falseNegatives\": 1650.0, \"trueNegatives\": 6977.0, \"falsePositives\": 627.0, \"truePositives\": 1606.0, \"precision\": 0.7192118226600985, \"recall\": 0.49324324324324326}, {\"threshold\": 0.689, \"falseNegatives\": 1657.0, \"trueNegatives\": 6979.0, \"falsePositives\": 625.0, \"truePositives\": 1599.0, \"precision\": 0.7189748201438849, \"recall\": 0.49109336609336607}, {\"threshold\": 0.69, \"falseNegatives\": 1663.0, \"trueNegatives\": 6982.0, \"falsePositives\": 622.0, \"truePositives\": 1593.0, \"precision\": 0.7191873589164786, \"recall\": 0.4892506142506142}, {\"threshold\": 0.691, \"falseNegatives\": 1667.0, \"trueNegatives\": 6984.0, \"falsePositives\": 620.0, \"truePositives\": 1589.0, \"precision\": 0.7193300135808058, \"recall\": 0.488022113022113}, {\"threshold\": 0.692, \"falseNegatives\": 1669.0, \"trueNegatives\": 6986.0, \"falsePositives\": 618.0, \"truePositives\": 1587.0, \"precision\": 0.7197278911564626, \"recall\": 0.48740786240786244}, {\"threshold\": 0.693, \"falseNegatives\": 1672.0, \"trueNegatives\": 6987.0, \"falsePositives\": 617.0, \"truePositives\": 1584.0, \"precision\": 0.7196728759654702, \"recall\": 0.4864864864864865}, {\"threshold\": 0.694, \"falseNegatives\": 1673.0, \"trueNegatives\": 6990.0, \"falsePositives\": 614.0, \"truePositives\": 1583.0, \"precision\": 0.7205279927173418, \"recall\": 0.48617936117936117}, {\"threshold\": 0.695, \"falseNegatives\": 1675.0, \"trueNegatives\": 6991.0, \"falsePositives\": 613.0, \"truePositives\": 1581.0, \"precision\": 0.7206016408386509, \"recall\": 0.4855651105651106}, {\"threshold\": 0.696, \"falseNegatives\": 1678.0, \"trueNegatives\": 6993.0, \"falsePositives\": 611.0, \"truePositives\": 1578.0, \"precision\": 0.7208771128369118, \"recall\": 0.48464373464373467}, {\"threshold\": 0.697, \"falseNegatives\": 1682.0, \"trueNegatives\": 6993.0, \"falsePositives\": 611.0, \"truePositives\": 1574.0, \"precision\": 0.7203661327231121, \"recall\": 0.4834152334152334}, {\"threshold\": 0.698, \"falseNegatives\": 1682.0, \"trueNegatives\": 6994.0, \"falsePositives\": 610.0, \"truePositives\": 1574.0, \"precision\": 0.7206959706959707, \"recall\": 0.4834152334152334}, {\"threshold\": 0.699, \"falseNegatives\": 1686.0, \"trueNegatives\": 6996.0, \"falsePositives\": 608.0, \"truePositives\": 1570.0, \"precision\": 0.7208448117539027, \"recall\": 0.4821867321867322}, {\"threshold\": 0.7, \"falseNegatives\": 1690.0, \"trueNegatives\": 6998.0, \"falsePositives\": 606.0, \"truePositives\": 1566.0, \"precision\": 0.7209944751381215, \"recall\": 0.480958230958231}, {\"threshold\": 0.701, \"falseNegatives\": 1697.0, \"trueNegatives\": 7000.0, \"falsePositives\": 604.0, \"truePositives\": 1559.0, \"precision\": 0.7207582061950994, \"recall\": 0.4788083538083538}, {\"threshold\": 0.702, \"falseNegatives\": 1703.0, \"trueNegatives\": 7001.0, \"falsePositives\": 603.0, \"truePositives\": 1553.0, \"precision\": 0.7203153988868275, \"recall\": 0.47696560196560195}, {\"threshold\": 0.703, \"falseNegatives\": 1706.0, \"trueNegatives\": 7003.0, \"falsePositives\": 601.0, \"truePositives\": 1550.0, \"precision\": 0.7205950720595072, \"recall\": 0.476044226044226}, {\"threshold\": 0.704, \"falseNegatives\": 1709.0, \"trueNegatives\": 7005.0, \"falsePositives\": 599.0, \"truePositives\": 1547.0, \"precision\": 0.7208760484622554, \"recall\": 0.4751228501228501}, {\"threshold\": 0.705, \"falseNegatives\": 1711.0, \"trueNegatives\": 7009.0, \"falsePositives\": 595.0, \"truePositives\": 1545.0, \"precision\": 0.7219626168224299, \"recall\": 0.4745085995085995}, {\"threshold\": 0.706, \"falseNegatives\": 1713.0, \"trueNegatives\": 7010.0, \"falsePositives\": 594.0, \"truePositives\": 1543.0, \"precision\": 0.7220402433317735, \"recall\": 0.4738943488943489}, {\"threshold\": 0.707, \"falseNegatives\": 1713.0, \"trueNegatives\": 7012.0, \"falsePositives\": 592.0, \"truePositives\": 1543.0, \"precision\": 0.7227166276346604, \"recall\": 0.4738943488943489}, {\"threshold\": 0.708, \"falseNegatives\": 1713.0, \"trueNegatives\": 7013.0, \"falsePositives\": 591.0, \"truePositives\": 1543.0, \"precision\": 0.7230552952202437, \"recall\": 0.4738943488943489}, {\"threshold\": 0.709, \"falseNegatives\": 1717.0, \"trueNegatives\": 7014.0, \"falsePositives\": 590.0, \"truePositives\": 1539.0, \"precision\": 0.7228745890089244, \"recall\": 0.4726658476658477}, {\"threshold\": 0.71, \"falseNegatives\": 1719.0, \"trueNegatives\": 7016.0, \"falsePositives\": 588.0, \"truePositives\": 1537.0, \"precision\": 0.7232941176470589, \"recall\": 0.47205159705159705}, {\"threshold\": 0.711, \"falseNegatives\": 1720.0, \"trueNegatives\": 7018.0, \"falsePositives\": 586.0, \"truePositives\": 1536.0, \"precision\": 0.7238454288407163, \"recall\": 0.47174447174447176}, {\"threshold\": 0.712, \"falseNegatives\": 1724.0, \"trueNegatives\": 7023.0, \"falsePositives\": 581.0, \"truePositives\": 1532.0, \"precision\": 0.7250354945575012, \"recall\": 0.4705159705159705}, {\"threshold\": 0.713, \"falseNegatives\": 1726.0, \"trueNegatives\": 7027.0, \"falsePositives\": 577.0, \"truePositives\": 1530.0, \"precision\": 0.7261509254864736, \"recall\": 0.4699017199017199}, {\"threshold\": 0.714, \"falseNegatives\": 1728.0, \"trueNegatives\": 7029.0, \"falsePositives\": 575.0, \"truePositives\": 1528.0, \"precision\": 0.7265810746552543, \"recall\": 0.4692874692874693}, {\"threshold\": 0.715, \"falseNegatives\": 1735.0, \"trueNegatives\": 7030.0, \"falsePositives\": 574.0, \"truePositives\": 1521.0, \"precision\": 0.7260143198090692, \"recall\": 0.46713759213759215}, {\"threshold\": 0.716, \"falseNegatives\": 1738.0, \"trueNegatives\": 7030.0, \"falsePositives\": 574.0, \"truePositives\": 1518.0, \"precision\": 0.7256214149139579, \"recall\": 0.46621621621621623}, {\"threshold\": 0.717, \"falseNegatives\": 1739.0, \"trueNegatives\": 7030.0, \"falsePositives\": 574.0, \"truePositives\": 1517.0, \"precision\": 0.7254901960784313, \"recall\": 0.4659090909090909}, {\"threshold\": 0.718, \"falseNegatives\": 1740.0, \"trueNegatives\": 7030.0, \"falsePositives\": 574.0, \"truePositives\": 1516.0, \"precision\": 0.7253588516746412, \"recall\": 0.4656019656019656}, {\"threshold\": 0.719, \"falseNegatives\": 1741.0, \"trueNegatives\": 7031.0, \"falsePositives\": 573.0, \"truePositives\": 1515.0, \"precision\": 0.7255747126436781, \"recall\": 0.4652948402948403}, {\"threshold\": 0.72, \"falseNegatives\": 1743.0, \"trueNegatives\": 7033.0, \"falsePositives\": 571.0, \"truePositives\": 1513.0, \"precision\": 0.7260076775431862, \"recall\": 0.4646805896805897}, {\"threshold\": 0.721, \"falseNegatives\": 1744.0, \"trueNegatives\": 7034.0, \"falsePositives\": 570.0, \"truePositives\": 1512.0, \"precision\": 0.7262247838616714, \"recall\": 0.4643734643734644}, {\"threshold\": 0.722, \"falseNegatives\": 1746.0, \"trueNegatives\": 7034.0, \"falsePositives\": 570.0, \"truePositives\": 1510.0, \"precision\": 0.7259615384615384, \"recall\": 0.46375921375921375}, {\"threshold\": 0.723, \"falseNegatives\": 1748.0, \"trueNegatives\": 7034.0, \"falsePositives\": 570.0, \"truePositives\": 1508.0, \"precision\": 0.7256977863330125, \"recall\": 0.4631449631449631}, {\"threshold\": 0.724, \"falseNegatives\": 1748.0, \"trueNegatives\": 7035.0, \"falsePositives\": 569.0, \"truePositives\": 1508.0, \"precision\": 0.7260471834376505, \"recall\": 0.4631449631449631}, {\"threshold\": 0.725, \"falseNegatives\": 1751.0, \"trueNegatives\": 7035.0, \"falsePositives\": 569.0, \"truePositives\": 1505.0, \"precision\": 0.7256509161041466, \"recall\": 0.46222358722358725}, {\"threshold\": 0.726, \"falseNegatives\": 1751.0, \"trueNegatives\": 7039.0, \"falsePositives\": 565.0, \"truePositives\": 1505.0, \"precision\": 0.7270531400966184, \"recall\": 0.46222358722358725}, {\"threshold\": 0.727, \"falseNegatives\": 1755.0, \"trueNegatives\": 7042.0, \"falsePositives\": 562.0, \"truePositives\": 1501.0, \"precision\": 0.7275811924381969, \"recall\": 0.460995085995086}, {\"threshold\": 0.728, \"falseNegatives\": 1761.0, \"trueNegatives\": 7042.0, \"falsePositives\": 562.0, \"truePositives\": 1495.0, \"precision\": 0.7267865824015557, \"recall\": 0.45915233415233414}, {\"threshold\": 0.729, \"falseNegatives\": 1764.0, \"trueNegatives\": 7043.0, \"falsePositives\": 561.0, \"truePositives\": 1492.0, \"precision\": 0.7267413541159279, \"recall\": 0.4582309582309582}, {\"threshold\": 0.73, \"falseNegatives\": 1769.0, \"trueNegatives\": 7043.0, \"falsePositives\": 561.0, \"truePositives\": 1487.0, \"precision\": 0.72607421875, \"recall\": 0.4566953316953317}, {\"threshold\": 0.731, \"falseNegatives\": 1774.0, \"trueNegatives\": 7043.0, \"falsePositives\": 561.0, \"truePositives\": 1482.0, \"precision\": 0.7254038179148311, \"recall\": 0.45515970515970516}, {\"threshold\": 0.732, \"falseNegatives\": 1777.0, \"trueNegatives\": 7046.0, \"falsePositives\": 558.0, \"truePositives\": 1479.0, \"precision\": 0.7260677466863034, \"recall\": 0.45423832923832924}, {\"threshold\": 0.733, \"falseNegatives\": 1778.0, \"trueNegatives\": 7047.0, \"falsePositives\": 557.0, \"truePositives\": 1478.0, \"precision\": 0.7262899262899263, \"recall\": 0.45393120393120395}, {\"threshold\": 0.734, \"falseNegatives\": 1780.0, \"trueNegatives\": 7050.0, \"falsePositives\": 554.0, \"truePositives\": 1476.0, \"precision\": 0.7270935960591133, \"recall\": 0.4533169533169533}, {\"threshold\": 0.735, \"falseNegatives\": 1784.0, \"trueNegatives\": 7051.0, \"falsePositives\": 553.0, \"truePositives\": 1472.0, \"precision\": 0.7269135802469135, \"recall\": 0.4520884520884521}, {\"threshold\": 0.736, \"falseNegatives\": 1787.0, \"trueNegatives\": 7056.0, \"falsePositives\": 548.0, \"truePositives\": 1469.0, \"precision\": 0.7283093703520079, \"recall\": 0.4511670761670762}, {\"threshold\": 0.737, \"falseNegatives\": 1789.0, \"trueNegatives\": 7056.0, \"falsePositives\": 548.0, \"truePositives\": 1467.0, \"precision\": 0.7280397022332507, \"recall\": 0.45055282555282555}, {\"threshold\": 0.738, \"falseNegatives\": 1794.0, \"trueNegatives\": 7057.0, \"falsePositives\": 547.0, \"truePositives\": 1462.0, \"precision\": 0.7277252364360378, \"recall\": 0.449017199017199}, {\"threshold\": 0.739, \"falseNegatives\": 1798.0, \"trueNegatives\": 7058.0, \"falsePositives\": 546.0, \"truePositives\": 1458.0, \"precision\": 0.7275449101796407, \"recall\": 0.4477886977886978}, {\"threshold\": 0.74, \"falseNegatives\": 1801.0, \"trueNegatives\": 7059.0, \"falsePositives\": 545.0, \"truePositives\": 1455.0, \"precision\": 0.7275, \"recall\": 0.44686732186732187}, {\"threshold\": 0.741, \"falseNegatives\": 1806.0, \"trueNegatives\": 7062.0, \"falsePositives\": 542.0, \"truePositives\": 1450.0, \"precision\": 0.7279116465863453, \"recall\": 0.4453316953316953}, {\"threshold\": 0.742, \"falseNegatives\": 1811.0, \"trueNegatives\": 7066.0, \"falsePositives\": 538.0, \"truePositives\": 1445.0, \"precision\": 0.7286938981341402, \"recall\": 0.4437960687960688}, {\"threshold\": 0.743, \"falseNegatives\": 1816.0, \"trueNegatives\": 7068.0, \"falsePositives\": 536.0, \"truePositives\": 1440.0, \"precision\": 0.728744939271255, \"recall\": 0.44226044226044225}, {\"threshold\": 0.744, \"falseNegatives\": 1819.0, \"trueNegatives\": 7071.0, \"falsePositives\": 533.0, \"truePositives\": 1437.0, \"precision\": 0.7294416243654822, \"recall\": 0.44133906633906633}, {\"threshold\": 0.745, \"falseNegatives\": 1822.0, \"trueNegatives\": 7073.0, \"falsePositives\": 531.0, \"truePositives\": 1434.0, \"precision\": 0.7297709923664122, \"recall\": 0.4404176904176904}, {\"threshold\": 0.746, \"falseNegatives\": 1825.0, \"trueNegatives\": 7074.0, \"falsePositives\": 530.0, \"truePositives\": 1431.0, \"precision\": 0.7297297297297297, \"recall\": 0.4394963144963145}, {\"threshold\": 0.747, \"falseNegatives\": 1828.0, \"trueNegatives\": 7076.0, \"falsePositives\": 528.0, \"truePositives\": 1428.0, \"precision\": 0.7300613496932515, \"recall\": 0.43857493857493857}, {\"threshold\": 0.748, \"falseNegatives\": 1833.0, \"trueNegatives\": 7081.0, \"falsePositives\": 523.0, \"truePositives\": 1423.0, \"precision\": 0.7312435765673175, \"recall\": 0.43703931203931207}, {\"threshold\": 0.749, \"falseNegatives\": 1837.0, \"trueNegatives\": 7084.0, \"falsePositives\": 520.0, \"truePositives\": 1419.0, \"precision\": 0.7318205260443528, \"recall\": 0.4358108108108108}, {\"threshold\": 0.75, \"falseNegatives\": 1842.0, \"trueNegatives\": 7088.0, \"falsePositives\": 516.0, \"truePositives\": 1414.0, \"precision\": 0.7326424870466322, \"recall\": 0.4342751842751843}, {\"threshold\": 0.751, \"falseNegatives\": 1844.0, \"trueNegatives\": 7091.0, \"falsePositives\": 513.0, \"truePositives\": 1412.0, \"precision\": 0.7335064935064936, \"recall\": 0.43366093366093367}, {\"threshold\": 0.752, \"falseNegatives\": 1845.0, \"trueNegatives\": 7093.0, \"falsePositives\": 511.0, \"truePositives\": 1411.0, \"precision\": 0.7341311134235172, \"recall\": 0.4333538083538084}, {\"threshold\": 0.753, \"falseNegatives\": 1848.0, \"trueNegatives\": 7094.0, \"falsePositives\": 510.0, \"truePositives\": 1408.0, \"precision\": 0.7340980187695516, \"recall\": 0.43243243243243246}, {\"threshold\": 0.754, \"falseNegatives\": 1848.0, \"trueNegatives\": 7097.0, \"falsePositives\": 507.0, \"truePositives\": 1408.0, \"precision\": 0.7352480417754569, \"recall\": 0.43243243243243246}, {\"threshold\": 0.755, \"falseNegatives\": 1854.0, \"trueNegatives\": 7099.0, \"falsePositives\": 505.0, \"truePositives\": 1402.0, \"precision\": 0.735186156266387, \"recall\": 0.4305896805896806}, {\"threshold\": 0.756, \"falseNegatives\": 1855.0, \"trueNegatives\": 7101.0, \"falsePositives\": 503.0, \"truePositives\": 1401.0, \"precision\": 0.7358193277310925, \"recall\": 0.43028255528255527}, {\"threshold\": 0.757, \"falseNegatives\": 1858.0, \"trueNegatives\": 7102.0, \"falsePositives\": 502.0, \"truePositives\": 1398.0, \"precision\": 0.7357894736842105, \"recall\": 0.42936117936117935}, {\"threshold\": 0.758, \"falseNegatives\": 1861.0, \"trueNegatives\": 7104.0, \"falsePositives\": 500.0, \"truePositives\": 1395.0, \"precision\": 0.7361477572559367, \"recall\": 0.4284398034398034}, {\"threshold\": 0.759, \"falseNegatives\": 1863.0, \"trueNegatives\": 7104.0, \"falsePositives\": 500.0, \"truePositives\": 1393.0, \"precision\": 0.7358689910195457, \"recall\": 0.42782555282555285}, {\"threshold\": 0.76, \"falseNegatives\": 1866.0, \"trueNegatives\": 7106.0, \"falsePositives\": 498.0, \"truePositives\": 1390.0, \"precision\": 0.736228813559322, \"recall\": 0.4269041769041769}, {\"threshold\": 0.761, \"falseNegatives\": 1870.0, \"trueNegatives\": 7109.0, \"falsePositives\": 495.0, \"truePositives\": 1386.0, \"precision\": 0.7368421052631579, \"recall\": 0.42567567567567566}, {\"threshold\": 0.762, \"falseNegatives\": 1873.0, \"trueNegatives\": 7111.0, \"falsePositives\": 493.0, \"truePositives\": 1383.0, \"precision\": 0.7372068230277186, \"recall\": 0.42475429975429974}, {\"threshold\": 0.763, \"falseNegatives\": 1875.0, \"trueNegatives\": 7117.0, \"falsePositives\": 487.0, \"truePositives\": 1381.0, \"precision\": 0.7392933618843683, \"recall\": 0.42414004914004916}, {\"threshold\": 0.764, \"falseNegatives\": 1877.0, \"trueNegatives\": 7118.0, \"falsePositives\": 486.0, \"truePositives\": 1379.0, \"precision\": 0.7394101876675603, \"recall\": 0.4235257985257985}, {\"threshold\": 0.765, \"falseNegatives\": 1880.0, \"trueNegatives\": 7120.0, \"falsePositives\": 484.0, \"truePositives\": 1376.0, \"precision\": 0.7397849462365591, \"recall\": 0.4226044226044226}, {\"threshold\": 0.766, \"falseNegatives\": 1885.0, \"trueNegatives\": 7121.0, \"falsePositives\": 483.0, \"truePositives\": 1371.0, \"precision\": 0.7394822006472492, \"recall\": 0.42106879606879605}, {\"threshold\": 0.767, \"falseNegatives\": 1885.0, \"trueNegatives\": 7127.0, \"falsePositives\": 477.0, \"truePositives\": 1371.0, \"precision\": 0.7418831168831169, \"recall\": 0.42106879606879605}, {\"threshold\": 0.768, \"falseNegatives\": 1889.0, \"trueNegatives\": 7128.0, \"falsePositives\": 476.0, \"truePositives\": 1367.0, \"precision\": 0.7417254476397178, \"recall\": 0.41984029484029484}, {\"threshold\": 0.769, \"falseNegatives\": 1890.0, \"trueNegatives\": 7133.0, \"falsePositives\": 471.0, \"truePositives\": 1366.0, \"precision\": 0.743603701687534, \"recall\": 0.41953316953316955}, {\"threshold\": 0.77, \"falseNegatives\": 1894.0, \"trueNegatives\": 7135.0, \"falsePositives\": 469.0, \"truePositives\": 1362.0, \"precision\": 0.7438558164937192, \"recall\": 0.4183046683046683}, {\"threshold\": 0.771, \"falseNegatives\": 1904.0, \"trueNegatives\": 7137.0, \"falsePositives\": 467.0, \"truePositives\": 1352.0, \"precision\": 0.74326553051127, \"recall\": 0.4152334152334152}, {\"threshold\": 0.772, \"falseNegatives\": 1909.0, \"trueNegatives\": 7140.0, \"falsePositives\": 464.0, \"truePositives\": 1347.0, \"precision\": 0.7437879624516841, \"recall\": 0.41369778869778867}, {\"threshold\": 0.773, \"falseNegatives\": 1915.0, \"trueNegatives\": 7141.0, \"falsePositives\": 463.0, \"truePositives\": 1341.0, \"precision\": 0.7433481152993349, \"recall\": 0.4118550368550369}, {\"threshold\": 0.774, \"falseNegatives\": 1919.0, \"trueNegatives\": 7142.0, \"falsePositives\": 462.0, \"truePositives\": 1337.0, \"precision\": 0.7431906614785992, \"recall\": 0.4106265356265356}, {\"threshold\": 0.775, \"falseNegatives\": 1922.0, \"trueNegatives\": 7143.0, \"falsePositives\": 461.0, \"truePositives\": 1334.0, \"precision\": 0.743175487465181, \"recall\": 0.4097051597051597}, {\"threshold\": 0.776, \"falseNegatives\": 1923.0, \"trueNegatives\": 7145.0, \"falsePositives\": 459.0, \"truePositives\": 1333.0, \"precision\": 0.7438616071428571, \"recall\": 0.4093980343980344}, {\"threshold\": 0.777, \"falseNegatives\": 1928.0, \"trueNegatives\": 7148.0, \"falsePositives\": 456.0, \"truePositives\": 1328.0, \"precision\": 0.7443946188340808, \"recall\": 0.40786240786240785}, {\"threshold\": 0.778, \"falseNegatives\": 1936.0, \"trueNegatives\": 7150.0, \"falsePositives\": 454.0, \"truePositives\": 1320.0, \"precision\": 0.7440811724915445, \"recall\": 0.40540540540540543}, {\"threshold\": 0.779, \"falseNegatives\": 1937.0, \"trueNegatives\": 7151.0, \"falsePositives\": 453.0, \"truePositives\": 1319.0, \"precision\": 0.7443566591422122, \"recall\": 0.4050982800982801}, {\"threshold\": 0.78, \"falseNegatives\": 1942.0, \"trueNegatives\": 7155.0, \"falsePositives\": 449.0, \"truePositives\": 1314.0, \"precision\": 0.7453204764605785, \"recall\": 0.4035626535626536}, {\"threshold\": 0.781, \"falseNegatives\": 1945.0, \"trueNegatives\": 7156.0, \"falsePositives\": 448.0, \"truePositives\": 1311.0, \"precision\": 0.7453098351335986, \"recall\": 0.40264127764127766}, {\"threshold\": 0.782, \"falseNegatives\": 1948.0, \"trueNegatives\": 7158.0, \"falsePositives\": 446.0, \"truePositives\": 1308.0, \"precision\": 0.7457240592930444, \"recall\": 0.40171990171990174}, {\"threshold\": 0.783, \"falseNegatives\": 1950.0, \"trueNegatives\": 7162.0, \"falsePositives\": 442.0, \"truePositives\": 1306.0, \"precision\": 0.7471395881006865, \"recall\": 0.4011056511056511}, {\"threshold\": 0.784, \"falseNegatives\": 1955.0, \"trueNegatives\": 7163.0, \"falsePositives\": 441.0, \"truePositives\": 1301.0, \"precision\": 0.7468427095292767, \"recall\": 0.39957002457002455}, {\"threshold\": 0.785, \"falseNegatives\": 1956.0, \"trueNegatives\": 7165.0, \"falsePositives\": 439.0, \"truePositives\": 1300.0, \"precision\": 0.7475560667050029, \"recall\": 0.39926289926289926}, {\"threshold\": 0.786, \"falseNegatives\": 1961.0, \"trueNegatives\": 7167.0, \"falsePositives\": 437.0, \"truePositives\": 1295.0, \"precision\": 0.7476905311778291, \"recall\": 0.3977272727272727}, {\"threshold\": 0.787, \"falseNegatives\": 1964.0, \"trueNegatives\": 7169.0, \"falsePositives\": 435.0, \"truePositives\": 1292.0, \"precision\": 0.7481181239143022, \"recall\": 0.3968058968058968}, {\"threshold\": 0.788, \"falseNegatives\": 1968.0, \"trueNegatives\": 7169.0, \"falsePositives\": 435.0, \"truePositives\": 1288.0, \"precision\": 0.7475333720255368, \"recall\": 0.3955773955773956}, {\"threshold\": 0.789, \"falseNegatives\": 1968.0, \"trueNegatives\": 7170.0, \"falsePositives\": 434.0, \"truePositives\": 1288.0, \"precision\": 0.7479674796747967, \"recall\": 0.3955773955773956}, {\"threshold\": 0.79, \"falseNegatives\": 1969.0, \"trueNegatives\": 7172.0, \"falsePositives\": 432.0, \"truePositives\": 1287.0, \"precision\": 0.7486910994764397, \"recall\": 0.3952702702702703}, {\"threshold\": 0.791, \"falseNegatives\": 1971.0, \"trueNegatives\": 7173.0, \"falsePositives\": 431.0, \"truePositives\": 1285.0, \"precision\": 0.7488344988344988, \"recall\": 0.39465601965601965}, {\"threshold\": 0.792, \"falseNegatives\": 1973.0, \"trueNegatives\": 7174.0, \"falsePositives\": 430.0, \"truePositives\": 1283.0, \"precision\": 0.7489784004670169, \"recall\": 0.394041769041769}, {\"threshold\": 0.793, \"falseNegatives\": 1977.0, \"trueNegatives\": 7176.0, \"falsePositives\": 428.0, \"truePositives\": 1279.0, \"precision\": 0.7492677211482133, \"recall\": 0.3928132678132678}, {\"threshold\": 0.794, \"falseNegatives\": 1979.0, \"trueNegatives\": 7180.0, \"falsePositives\": 424.0, \"truePositives\": 1277.0, \"precision\": 0.7507348618459729, \"recall\": 0.3921990171990172}, {\"threshold\": 0.795, \"falseNegatives\": 1985.0, \"trueNegatives\": 7183.0, \"falsePositives\": 421.0, \"truePositives\": 1271.0, \"precision\": 0.7511820330969267, \"recall\": 0.39035626535626533}, {\"threshold\": 0.796, \"falseNegatives\": 1990.0, \"trueNegatives\": 7186.0, \"falsePositives\": 418.0, \"truePositives\": 1266.0, \"precision\": 0.7517814726840855, \"recall\": 0.38882063882063883}, {\"threshold\": 0.797, \"falseNegatives\": 1992.0, \"trueNegatives\": 7191.0, \"falsePositives\": 413.0, \"truePositives\": 1264.0, \"precision\": 0.753726893261777, \"recall\": 0.3882063882063882}, {\"threshold\": 0.798, \"falseNegatives\": 1995.0, \"trueNegatives\": 7193.0, \"falsePositives\": 411.0, \"truePositives\": 1261.0, \"precision\": 0.7541866028708134, \"recall\": 0.3872850122850123}, {\"threshold\": 0.799, \"falseNegatives\": 1998.0, \"trueNegatives\": 7193.0, \"falsePositives\": 411.0, \"truePositives\": 1258.0, \"precision\": 0.7537447573397243, \"recall\": 0.38636363636363635}, {\"threshold\": 0.8, \"falseNegatives\": 2002.0, \"trueNegatives\": 7194.0, \"falsePositives\": 410.0, \"truePositives\": 1254.0, \"precision\": 0.7536057692307693, \"recall\": 0.38513513513513514}, {\"threshold\": 0.801, \"falseNegatives\": 2005.0, \"trueNegatives\": 7195.0, \"falsePositives\": 409.0, \"truePositives\": 1251.0, \"precision\": 0.7536144578313253, \"recall\": 0.3842137592137592}, {\"threshold\": 0.802, \"falseNegatives\": 2010.0, \"trueNegatives\": 7199.0, \"falsePositives\": 405.0, \"truePositives\": 1246.0, \"precision\": 0.7546941247728649, \"recall\": 0.38267813267813267}, {\"threshold\": 0.803, \"falseNegatives\": 2011.0, \"trueNegatives\": 7200.0, \"falsePositives\": 404.0, \"truePositives\": 1245.0, \"precision\": 0.7550030321406913, \"recall\": 0.3823710073710074}, {\"threshold\": 0.804, \"falseNegatives\": 2013.0, \"trueNegatives\": 7205.0, \"falsePositives\": 399.0, \"truePositives\": 1243.0, \"precision\": 0.7570036540803897, \"recall\": 0.38175675675675674}, {\"threshold\": 0.805, \"falseNegatives\": 2016.0, \"trueNegatives\": 7206.0, \"falsePositives\": 398.0, \"truePositives\": 1240.0, \"precision\": 0.757020757020757, \"recall\": 0.3808353808353808}, {\"threshold\": 0.806, \"falseNegatives\": 2023.0, \"trueNegatives\": 7207.0, \"falsePositives\": 397.0, \"truePositives\": 1233.0, \"precision\": 0.756441717791411, \"recall\": 0.3786855036855037}, {\"threshold\": 0.807, \"falseNegatives\": 2025.0, \"trueNegatives\": 7207.0, \"falsePositives\": 397.0, \"truePositives\": 1231.0, \"precision\": 0.7561425061425061, \"recall\": 0.37807125307125306}, {\"threshold\": 0.808, \"falseNegatives\": 2030.0, \"trueNegatives\": 7210.0, \"falsePositives\": 394.0, \"truePositives\": 1226.0, \"precision\": 0.7567901234567901, \"recall\": 0.37653562653562656}, {\"threshold\": 0.809, \"falseNegatives\": 2035.0, \"trueNegatives\": 7211.0, \"falsePositives\": 393.0, \"truePositives\": 1221.0, \"precision\": 0.7565055762081785, \"recall\": 0.375}, {\"threshold\": 0.81, \"falseNegatives\": 2038.0, \"trueNegatives\": 7212.0, \"falsePositives\": 392.0, \"truePositives\": 1218.0, \"precision\": 0.7565217391304347, \"recall\": 0.3740786240786241}, {\"threshold\": 0.811, \"falseNegatives\": 2042.0, \"trueNegatives\": 7213.0, \"falsePositives\": 391.0, \"truePositives\": 1214.0, \"precision\": 0.756386292834891, \"recall\": 0.37285012285012287}, {\"threshold\": 0.812, \"falseNegatives\": 2044.0, \"trueNegatives\": 7214.0, \"falsePositives\": 390.0, \"truePositives\": 1212.0, \"precision\": 0.7565543071161048, \"recall\": 0.37223587223587223}, {\"threshold\": 0.813, \"falseNegatives\": 2045.0, \"trueNegatives\": 7216.0, \"falsePositives\": 388.0, \"truePositives\": 1211.0, \"precision\": 0.7573483427141964, \"recall\": 0.37192874692874694}, {\"threshold\": 0.814, \"falseNegatives\": 2051.0, \"trueNegatives\": 7216.0, \"falsePositives\": 388.0, \"truePositives\": 1205.0, \"precision\": 0.7564344005021971, \"recall\": 0.3700859950859951}, {\"threshold\": 0.815, \"falseNegatives\": 2054.0, \"trueNegatives\": 7216.0, \"falsePositives\": 388.0, \"truePositives\": 1202.0, \"precision\": 0.7559748427672957, \"recall\": 0.3691646191646192}, {\"threshold\": 0.816, \"falseNegatives\": 2056.0, \"trueNegatives\": 7217.0, \"falsePositives\": 387.0, \"truePositives\": 1200.0, \"precision\": 0.7561436672967864, \"recall\": 0.36855036855036855}, {\"threshold\": 0.817, \"falseNegatives\": 2061.0, \"trueNegatives\": 7218.0, \"falsePositives\": 386.0, \"truePositives\": 1195.0, \"precision\": 0.7558507273877293, \"recall\": 0.367014742014742}, {\"threshold\": 0.818, \"falseNegatives\": 2063.0, \"trueNegatives\": 7218.0, \"falsePositives\": 386.0, \"truePositives\": 1193.0, \"precision\": 0.7555414819506017, \"recall\": 0.3664004914004914}, {\"threshold\": 0.819, \"falseNegatives\": 2066.0, \"trueNegatives\": 7219.0, \"falsePositives\": 385.0, \"truePositives\": 1190.0, \"precision\": 0.7555555555555555, \"recall\": 0.3654791154791155}, {\"threshold\": 0.82, \"falseNegatives\": 2070.0, \"trueNegatives\": 7221.0, \"falsePositives\": 383.0, \"truePositives\": 1186.0, \"precision\": 0.7558954748247291, \"recall\": 0.3642506142506142}, {\"threshold\": 0.821, \"falseNegatives\": 2071.0, \"trueNegatives\": 7221.0, \"falsePositives\": 383.0, \"truePositives\": 1185.0, \"precision\": 0.7557397959183674, \"recall\": 0.36394348894348894}, {\"threshold\": 0.822, \"falseNegatives\": 2076.0, \"trueNegatives\": 7223.0, \"falsePositives\": 381.0, \"truePositives\": 1180.0, \"precision\": 0.7559256886611146, \"recall\": 0.36240786240786244}, {\"threshold\": 0.823, \"falseNegatives\": 2082.0, \"trueNegatives\": 7224.0, \"falsePositives\": 380.0, \"truePositives\": 1174.0, \"precision\": 0.7554697554697555, \"recall\": 0.3605651105651106}, {\"threshold\": 0.824, \"falseNegatives\": 2085.0, \"trueNegatives\": 7226.0, \"falsePositives\": 378.0, \"truePositives\": 1171.0, \"precision\": 0.7559715945771466, \"recall\": 0.35964373464373467}, {\"threshold\": 0.825, \"falseNegatives\": 2088.0, \"trueNegatives\": 7228.0, \"falsePositives\": 376.0, \"truePositives\": 1168.0, \"precision\": 0.7564766839378239, \"recall\": 0.35872235872235875}, {\"threshold\": 0.826, \"falseNegatives\": 2090.0, \"trueNegatives\": 7229.0, \"falsePositives\": 375.0, \"truePositives\": 1166.0, \"precision\": 0.7566515249837767, \"recall\": 0.3581081081081081}, {\"threshold\": 0.827, \"falseNegatives\": 2090.0, \"trueNegatives\": 7229.0, \"falsePositives\": 375.0, \"truePositives\": 1166.0, \"precision\": 0.7566515249837767, \"recall\": 0.3581081081081081}, {\"threshold\": 0.828, \"falseNegatives\": 2092.0, \"trueNegatives\": 7230.0, \"falsePositives\": 374.0, \"truePositives\": 1164.0, \"precision\": 0.7568270481144344, \"recall\": 0.3574938574938575}, {\"threshold\": 0.829, \"falseNegatives\": 2099.0, \"trueNegatives\": 7235.0, \"falsePositives\": 369.0, \"truePositives\": 1157.0, \"precision\": 0.7581913499344692, \"recall\": 0.35534398034398035}, {\"threshold\": 0.83, \"falseNegatives\": 2106.0, \"trueNegatives\": 7235.0, \"falsePositives\": 369.0, \"truePositives\": 1150.0, \"precision\": 0.7570770243581304, \"recall\": 0.3531941031941032}, {\"threshold\": 0.831, \"falseNegatives\": 2109.0, \"trueNegatives\": 7236.0, \"falsePositives\": 368.0, \"truePositives\": 1147.0, \"precision\": 0.7570957095709571, \"recall\": 0.3522727272727273}, {\"threshold\": 0.832, \"falseNegatives\": 2116.0, \"trueNegatives\": 7237.0, \"falsePositives\": 367.0, \"truePositives\": 1140.0, \"precision\": 0.7564698075646981, \"recall\": 0.3501228501228501}, {\"threshold\": 0.833, \"falseNegatives\": 2122.0, \"trueNegatives\": 7238.0, \"falsePositives\": 366.0, \"truePositives\": 1134.0, \"precision\": 0.756, \"recall\": 0.34828009828009826}, {\"threshold\": 0.834, \"falseNegatives\": 2128.0, \"trueNegatives\": 7239.0, \"falsePositives\": 365.0, \"truePositives\": 1128.0, \"precision\": 0.7555257870060281, \"recall\": 0.3464373464373464}, {\"threshold\": 0.835, \"falseNegatives\": 2132.0, \"trueNegatives\": 7239.0, \"falsePositives\": 365.0, \"truePositives\": 1124.0, \"precision\": 0.7548690396239086, \"recall\": 0.3452088452088452}, {\"threshold\": 0.836, \"falseNegatives\": 2133.0, \"trueNegatives\": 7241.0, \"falsePositives\": 363.0, \"truePositives\": 1123.0, \"precision\": 0.7557200538358008, \"recall\": 0.3449017199017199}, {\"threshold\": 0.837, \"falseNegatives\": 2135.0, \"trueNegatives\": 7243.0, \"falsePositives\": 361.0, \"truePositives\": 1121.0, \"precision\": 0.7564102564102564, \"recall\": 0.3442874692874693}, {\"threshold\": 0.838, \"falseNegatives\": 2138.0, \"trueNegatives\": 7244.0, \"falsePositives\": 360.0, \"truePositives\": 1118.0, \"precision\": 0.7564276048714479, \"recall\": 0.34336609336609336}, {\"threshold\": 0.839, \"falseNegatives\": 2140.0, \"trueNegatives\": 7244.0, \"falsePositives\": 360.0, \"truePositives\": 1116.0, \"precision\": 0.7560975609756098, \"recall\": 0.34275184275184273}, {\"threshold\": 0.84, \"falseNegatives\": 2144.0, \"trueNegatives\": 7246.0, \"falsePositives\": 358.0, \"truePositives\": 1112.0, \"precision\": 0.7564625850340136, \"recall\": 0.3415233415233415}, {\"threshold\": 0.841, \"falseNegatives\": 2147.0, \"trueNegatives\": 7248.0, \"falsePositives\": 356.0, \"truePositives\": 1109.0, \"precision\": 0.7569965870307167, \"recall\": 0.3406019656019656}, {\"threshold\": 0.842, \"falseNegatives\": 2156.0, \"trueNegatives\": 7249.0, \"falsePositives\": 355.0, \"truePositives\": 1100.0, \"precision\": 0.7560137457044673, \"recall\": 0.33783783783783783}, {\"threshold\": 0.843, \"falseNegatives\": 2161.0, \"trueNegatives\": 7249.0, \"falsePositives\": 355.0, \"truePositives\": 1095.0, \"precision\": 0.7551724137931034, \"recall\": 0.33630221130221133}, {\"threshold\": 0.844, \"falseNegatives\": 2169.0, \"trueNegatives\": 7251.0, \"falsePositives\": 353.0, \"truePositives\": 1087.0, \"precision\": 0.7548611111111111, \"recall\": 0.33384520884520885}, {\"threshold\": 0.845, \"falseNegatives\": 2171.0, \"trueNegatives\": 7252.0, \"falsePositives\": 352.0, \"truePositives\": 1085.0, \"precision\": 0.7550452331245651, \"recall\": 0.3332309582309582}, {\"threshold\": 0.846, \"falseNegatives\": 2180.0, \"trueNegatives\": 7252.0, \"falsePositives\": 352.0, \"truePositives\": 1076.0, \"precision\": 0.7535014005602241, \"recall\": 0.33046683046683045}, {\"threshold\": 0.847, \"falseNegatives\": 2184.0, \"trueNegatives\": 7254.0, \"falsePositives\": 350.0, \"truePositives\": 1072.0, \"precision\": 0.7538677918424754, \"recall\": 0.32923832923832924}, {\"threshold\": 0.848, \"falseNegatives\": 2187.0, \"trueNegatives\": 7254.0, \"falsePositives\": 350.0, \"truePositives\": 1069.0, \"precision\": 0.7533474277660324, \"recall\": 0.3283169533169533}, {\"threshold\": 0.849, \"falseNegatives\": 2189.0, \"trueNegatives\": 7256.0, \"falsePositives\": 348.0, \"truePositives\": 1067.0, \"precision\": 0.7540636042402827, \"recall\": 0.3277027027027027}, {\"threshold\": 0.85, \"falseNegatives\": 2195.0, \"trueNegatives\": 7257.0, \"falsePositives\": 347.0, \"truePositives\": 1061.0, \"precision\": 0.7535511363636364, \"recall\": 0.32585995085995084}, {\"threshold\": 0.851, \"falseNegatives\": 2203.0, \"trueNegatives\": 7257.0, \"falsePositives\": 347.0, \"truePositives\": 1053.0, \"precision\": 0.7521428571428571, \"recall\": 0.3234029484029484}, {\"threshold\": 0.852, \"falseNegatives\": 2205.0, \"trueNegatives\": 7259.0, \"falsePositives\": 345.0, \"truePositives\": 1051.0, \"precision\": 0.752865329512894, \"recall\": 0.3227886977886978}, {\"threshold\": 0.853, \"falseNegatives\": 2205.0, \"trueNegatives\": 7261.0, \"falsePositives\": 343.0, \"truePositives\": 1051.0, \"precision\": 0.7539454806312769, \"recall\": 0.3227886977886978}, {\"threshold\": 0.854, \"falseNegatives\": 2206.0, \"trueNegatives\": 7262.0, \"falsePositives\": 342.0, \"truePositives\": 1050.0, \"precision\": 0.7543103448275862, \"recall\": 0.3224815724815725}, {\"threshold\": 0.855, \"falseNegatives\": 2209.0, \"trueNegatives\": 7263.0, \"falsePositives\": 341.0, \"truePositives\": 1047.0, \"precision\": 0.7543227665706052, \"recall\": 0.3215601965601966}, {\"threshold\": 0.856, \"falseNegatives\": 2212.0, \"trueNegatives\": 7263.0, \"falsePositives\": 341.0, \"truePositives\": 1044.0, \"precision\": 0.7537906137184116, \"recall\": 0.32063882063882065}, {\"threshold\": 0.857, \"falseNegatives\": 2220.0, \"trueNegatives\": 7264.0, \"falsePositives\": 340.0, \"truePositives\": 1036.0, \"precision\": 0.752906976744186, \"recall\": 0.3181818181818182}, {\"threshold\": 0.858, \"falseNegatives\": 2223.0, \"trueNegatives\": 7266.0, \"falsePositives\": 338.0, \"truePositives\": 1033.0, \"precision\": 0.7534646243617797, \"recall\": 0.31726044226044225}, {\"threshold\": 0.859, \"falseNegatives\": 2226.0, \"trueNegatives\": 7267.0, \"falsePositives\": 337.0, \"truePositives\": 1030.0, \"precision\": 0.7534747622531089, \"recall\": 0.31633906633906633}, {\"threshold\": 0.86, \"falseNegatives\": 2230.0, \"trueNegatives\": 7271.0, \"falsePositives\": 333.0, \"truePositives\": 1026.0, \"precision\": 0.7549668874172185, \"recall\": 0.3151105651105651}, {\"threshold\": 0.861, \"falseNegatives\": 2234.0, \"trueNegatives\": 7273.0, \"falsePositives\": 331.0, \"truePositives\": 1022.0, \"precision\": 0.7553584626755359, \"recall\": 0.31388206388206386}, {\"threshold\": 0.862, \"falseNegatives\": 2236.0, \"trueNegatives\": 7273.0, \"falsePositives\": 331.0, \"truePositives\": 1020.0, \"precision\": 0.7549962990377498, \"recall\": 0.3132678132678133}, {\"threshold\": 0.863, \"falseNegatives\": 2237.0, \"trueNegatives\": 7274.0, \"falsePositives\": 330.0, \"truePositives\": 1019.0, \"precision\": 0.7553743513713862, \"recall\": 0.31296068796068793}, {\"threshold\": 0.864, \"falseNegatives\": 2238.0, \"trueNegatives\": 7275.0, \"falsePositives\": 329.0, \"truePositives\": 1018.0, \"precision\": 0.7557535263548627, \"recall\": 0.31265356265356264}, {\"threshold\": 0.865, \"falseNegatives\": 2243.0, \"trueNegatives\": 7277.0, \"falsePositives\": 327.0, \"truePositives\": 1013.0, \"precision\": 0.7559701492537313, \"recall\": 0.31111793611793614}, {\"threshold\": 0.866, \"falseNegatives\": 2246.0, \"trueNegatives\": 7279.0, \"falsePositives\": 325.0, \"truePositives\": 1010.0, \"precision\": 0.7565543071161048, \"recall\": 0.3101965601965602}, {\"threshold\": 0.867, \"falseNegatives\": 2253.0, \"trueNegatives\": 7283.0, \"falsePositives\": 321.0, \"truePositives\": 1003.0, \"precision\": 0.7575528700906344, \"recall\": 0.30804668304668303}, {\"threshold\": 0.868, \"falseNegatives\": 2254.0, \"trueNegatives\": 7284.0, \"falsePositives\": 320.0, \"truePositives\": 1002.0, \"precision\": 0.7579425113464447, \"recall\": 0.30773955773955775}, {\"threshold\": 0.869, \"falseNegatives\": 2256.0, \"trueNegatives\": 7284.0, \"falsePositives\": 320.0, \"truePositives\": 1000.0, \"precision\": 0.7575757575757576, \"recall\": 0.3071253071253071}, {\"threshold\": 0.87, \"falseNegatives\": 2258.0, \"trueNegatives\": 7285.0, \"falsePositives\": 319.0, \"truePositives\": 998.0, \"precision\": 0.7577828397873956, \"recall\": 0.30651105651105653}, {\"threshold\": 0.871, \"falseNegatives\": 2260.0, \"trueNegatives\": 7289.0, \"falsePositives\": 315.0, \"truePositives\": 996.0, \"precision\": 0.7597254004576659, \"recall\": 0.3058968058968059}, {\"threshold\": 0.872, \"falseNegatives\": 2264.0, \"trueNegatives\": 7290.0, \"falsePositives\": 314.0, \"truePositives\": 992.0, \"precision\": 0.7595712098009189, \"recall\": 0.3046683046683047}, {\"threshold\": 0.873, \"falseNegatives\": 2265.0, \"trueNegatives\": 7291.0, \"falsePositives\": 313.0, \"truePositives\": 991.0, \"precision\": 0.7599693251533742, \"recall\": 0.30436117936117935}, {\"threshold\": 0.874, \"falseNegatives\": 2268.0, \"trueNegatives\": 7294.0, \"falsePositives\": 310.0, \"truePositives\": 988.0, \"precision\": 0.7611710323574731, \"recall\": 0.3034398034398034}, {\"threshold\": 0.875, \"falseNegatives\": 2272.0, \"trueNegatives\": 7295.0, \"falsePositives\": 309.0, \"truePositives\": 984.0, \"precision\": 0.7610208816705336, \"recall\": 0.3022113022113022}, {\"threshold\": 0.876, \"falseNegatives\": 2279.0, \"trueNegatives\": 7296.0, \"falsePositives\": 308.0, \"truePositives\": 977.0, \"precision\": 0.7603112840466926, \"recall\": 0.3000614250614251}, {\"threshold\": 0.877, \"falseNegatives\": 2282.0, \"trueNegatives\": 7297.0, \"falsePositives\": 307.0, \"truePositives\": 974.0, \"precision\": 0.760343481654957, \"recall\": 0.29914004914004916}, {\"threshold\": 0.878, \"falseNegatives\": 2285.0, \"trueNegatives\": 7299.0, \"falsePositives\": 305.0, \"truePositives\": 971.0, \"precision\": 0.7609717868338558, \"recall\": 0.29821867321867324}, {\"threshold\": 0.879, \"falseNegatives\": 2285.0, \"trueNegatives\": 7300.0, \"falsePositives\": 304.0, \"truePositives\": 971.0, \"precision\": 0.7615686274509804, \"recall\": 0.29821867321867324}, {\"threshold\": 0.88, \"falseNegatives\": 2287.0, \"trueNegatives\": 7301.0, \"falsePositives\": 303.0, \"truePositives\": 969.0, \"precision\": 0.7617924528301887, \"recall\": 0.2976044226044226}, {\"threshold\": 0.881, \"falseNegatives\": 2291.0, \"trueNegatives\": 7304.0, \"falsePositives\": 300.0, \"truePositives\": 965.0, \"precision\": 0.7628458498023716, \"recall\": 0.2963759213759214}, {\"threshold\": 0.882, \"falseNegatives\": 2298.0, \"trueNegatives\": 7305.0, \"falsePositives\": 299.0, \"truePositives\": 958.0, \"precision\": 0.762132060461416, \"recall\": 0.2942260442260442}, {\"threshold\": 0.883, \"falseNegatives\": 2301.0, \"trueNegatives\": 7307.0, \"falsePositives\": 297.0, \"truePositives\": 955.0, \"precision\": 0.762779552715655, \"recall\": 0.2933046683046683}, {\"threshold\": 0.884, \"falseNegatives\": 2302.0, \"trueNegatives\": 7310.0, \"falsePositives\": 294.0, \"truePositives\": 954.0, \"precision\": 0.7644230769230769, \"recall\": 0.292997542997543}, {\"threshold\": 0.885, \"falseNegatives\": 2306.0, \"trueNegatives\": 7311.0, \"falsePositives\": 293.0, \"truePositives\": 950.0, \"precision\": 0.7642799678197908, \"recall\": 0.2917690417690418}, {\"threshold\": 0.886, \"falseNegatives\": 2312.0, \"trueNegatives\": 7312.0, \"falsePositives\": 292.0, \"truePositives\": 944.0, \"precision\": 0.7637540453074434, \"recall\": 0.28992628992628994}, {\"threshold\": 0.887, \"falseNegatives\": 2315.0, \"trueNegatives\": 7312.0, \"falsePositives\": 292.0, \"truePositives\": 941.0, \"precision\": 0.7631792376317924, \"recall\": 0.289004914004914}, {\"threshold\": 0.888, \"falseNegatives\": 2320.0, \"trueNegatives\": 7313.0, \"falsePositives\": 291.0, \"truePositives\": 936.0, \"precision\": 0.7628361858190709, \"recall\": 0.28746928746928746}, {\"threshold\": 0.889, \"falseNegatives\": 2322.0, \"trueNegatives\": 7314.0, \"falsePositives\": 290.0, \"truePositives\": 934.0, \"precision\": 0.7630718954248366, \"recall\": 0.2868550368550369}, {\"threshold\": 0.89, \"falseNegatives\": 2324.0, \"trueNegatives\": 7315.0, \"falsePositives\": 289.0, \"truePositives\": 932.0, \"precision\": 0.7633087633087633, \"recall\": 0.28624078624078625}, {\"threshold\": 0.891, \"falseNegatives\": 2328.0, \"trueNegatives\": 7317.0, \"falsePositives\": 287.0, \"truePositives\": 928.0, \"precision\": 0.7637860082304527, \"recall\": 0.28501228501228504}, {\"threshold\": 0.892, \"falseNegatives\": 2333.0, \"trueNegatives\": 7318.0, \"falsePositives\": 286.0, \"truePositives\": 923.0, \"precision\": 0.7634408602150538, \"recall\": 0.2834766584766585}, {\"threshold\": 0.893, \"falseNegatives\": 2334.0, \"trueNegatives\": 7318.0, \"falsePositives\": 286.0, \"truePositives\": 922.0, \"precision\": 0.7632450331125827, \"recall\": 0.2831695331695332}, {\"threshold\": 0.894, \"falseNegatives\": 2338.0, \"trueNegatives\": 7319.0, \"falsePositives\": 285.0, \"truePositives\": 918.0, \"precision\": 0.7630922693266833, \"recall\": 0.2819410319410319}, {\"threshold\": 0.895, \"falseNegatives\": 2345.0, \"trueNegatives\": 7319.0, \"falsePositives\": 285.0, \"truePositives\": 911.0, \"precision\": 0.7617056856187291, \"recall\": 0.2797911547911548}, {\"threshold\": 0.896, \"falseNegatives\": 2349.0, \"trueNegatives\": 7319.0, \"falsePositives\": 285.0, \"truePositives\": 907.0, \"precision\": 0.7609060402684564, \"recall\": 0.2785626535626536}, {\"threshold\": 0.897, \"falseNegatives\": 2354.0, \"trueNegatives\": 7320.0, \"falsePositives\": 284.0, \"truePositives\": 902.0, \"precision\": 0.760539629005059, \"recall\": 0.27702702702702703}, {\"threshold\": 0.898, \"falseNegatives\": 2356.0, \"trueNegatives\": 7322.0, \"falsePositives\": 282.0, \"truePositives\": 900.0, \"precision\": 0.7614213197969543, \"recall\": 0.2764127764127764}, {\"threshold\": 0.899, \"falseNegatives\": 2358.0, \"trueNegatives\": 7324.0, \"falsePositives\": 280.0, \"truePositives\": 898.0, \"precision\": 0.7623089983022071, \"recall\": 0.2757985257985258}, {\"threshold\": 0.9, \"falseNegatives\": 2362.0, \"trueNegatives\": 7326.0, \"falsePositives\": 278.0, \"truePositives\": 894.0, \"precision\": 0.7627986348122867, \"recall\": 0.27457002457002455}, {\"threshold\": 0.901, \"falseNegatives\": 2364.0, \"trueNegatives\": 7331.0, \"falsePositives\": 273.0, \"truePositives\": 892.0, \"precision\": 0.7656652360515022, \"recall\": 0.273955773955774}, {\"threshold\": 0.902, \"falseNegatives\": 2368.0, \"trueNegatives\": 7332.0, \"falsePositives\": 272.0, \"truePositives\": 888.0, \"precision\": 0.7655172413793103, \"recall\": 0.2727272727272727}, {\"threshold\": 0.903, \"falseNegatives\": 2371.0, \"trueNegatives\": 7333.0, \"falsePositives\": 271.0, \"truePositives\": 885.0, \"precision\": 0.7655709342560554, \"recall\": 0.2718058968058968}, {\"threshold\": 0.904, \"falseNegatives\": 2374.0, \"trueNegatives\": 7334.0, \"falsePositives\": 270.0, \"truePositives\": 882.0, \"precision\": 0.765625, \"recall\": 0.27088452088452086}, {\"threshold\": 0.905, \"falseNegatives\": 2377.0, \"trueNegatives\": 7336.0, \"falsePositives\": 268.0, \"truePositives\": 879.0, \"precision\": 0.7663469921534438, \"recall\": 0.26996314496314494}, {\"threshold\": 0.906, \"falseNegatives\": 2381.0, \"trueNegatives\": 7337.0, \"falsePositives\": 267.0, \"truePositives\": 875.0, \"precision\": 0.7661996497373029, \"recall\": 0.26873464373464373}, {\"threshold\": 0.907, \"falseNegatives\": 2383.0, \"trueNegatives\": 7340.0, \"falsePositives\": 264.0, \"truePositives\": 873.0, \"precision\": 0.7678100263852242, \"recall\": 0.2681203931203931}, {\"threshold\": 0.908, \"falseNegatives\": 2388.0, \"trueNegatives\": 7342.0, \"falsePositives\": 262.0, \"truePositives\": 868.0, \"precision\": 0.768141592920354, \"recall\": 0.2665847665847666}, {\"threshold\": 0.909, \"falseNegatives\": 2392.0, \"trueNegatives\": 7342.0, \"falsePositives\": 262.0, \"truePositives\": 864.0, \"precision\": 0.7673179396092362, \"recall\": 0.26535626535626533}, {\"threshold\": 0.91, \"falseNegatives\": 2395.0, \"trueNegatives\": 7342.0, \"falsePositives\": 262.0, \"truePositives\": 861.0, \"precision\": 0.7666963490650045, \"recall\": 0.2644348894348894}, {\"threshold\": 0.911, \"falseNegatives\": 2400.0, \"trueNegatives\": 7342.0, \"falsePositives\": 262.0, \"truePositives\": 856.0, \"precision\": 0.7656529516994633, \"recall\": 0.2628992628992629}, {\"threshold\": 0.912, \"falseNegatives\": 2406.0, \"trueNegatives\": 7343.0, \"falsePositives\": 261.0, \"truePositives\": 850.0, \"precision\": 0.7650765076507651, \"recall\": 0.26105651105651106}, {\"threshold\": 0.913, \"falseNegatives\": 2412.0, \"trueNegatives\": 7344.0, \"falsePositives\": 260.0, \"truePositives\": 844.0, \"precision\": 0.7644927536231884, \"recall\": 0.2592137592137592}, {\"threshold\": 0.914, \"falseNegatives\": 2419.0, \"trueNegatives\": 7344.0, \"falsePositives\": 260.0, \"truePositives\": 837.0, \"precision\": 0.7629899726526892, \"recall\": 0.2570638820638821}, {\"threshold\": 0.915, \"falseNegatives\": 2421.0, \"trueNegatives\": 7344.0, \"falsePositives\": 260.0, \"truePositives\": 835.0, \"precision\": 0.7625570776255708, \"recall\": 0.25644963144963145}, {\"threshold\": 0.916, \"falseNegatives\": 2424.0, \"trueNegatives\": 7346.0, \"falsePositives\": 258.0, \"truePositives\": 832.0, \"precision\": 0.763302752293578, \"recall\": 0.25552825552825553}, {\"threshold\": 0.917, \"falseNegatives\": 2426.0, \"trueNegatives\": 7347.0, \"falsePositives\": 257.0, \"truePositives\": 830.0, \"precision\": 0.7635694572217111, \"recall\": 0.2549140049140049}, {\"threshold\": 0.918, \"falseNegatives\": 2430.0, \"trueNegatives\": 7349.0, \"falsePositives\": 255.0, \"truePositives\": 826.0, \"precision\": 0.7641073080481036, \"recall\": 0.2536855036855037}, {\"threshold\": 0.919, \"falseNegatives\": 2431.0, \"trueNegatives\": 7353.0, \"falsePositives\": 251.0, \"truePositives\": 825.0, \"precision\": 0.766728624535316, \"recall\": 0.2533783783783784}, {\"threshold\": 0.92, \"falseNegatives\": 2434.0, \"trueNegatives\": 7353.0, \"falsePositives\": 251.0, \"truePositives\": 822.0, \"precision\": 0.766076421248835, \"recall\": 0.2524570024570025}, {\"threshold\": 0.921, \"falseNegatives\": 2442.0, \"trueNegatives\": 7353.0, \"falsePositives\": 251.0, \"truePositives\": 814.0, \"precision\": 0.7643192488262911, \"recall\": 0.25}, {\"threshold\": 0.922, \"falseNegatives\": 2449.0, \"trueNegatives\": 7354.0, \"falsePositives\": 250.0, \"truePositives\": 807.0, \"precision\": 0.7634815515610217, \"recall\": 0.24785012285012284}, {\"threshold\": 0.923, \"falseNegatives\": 2454.0, \"trueNegatives\": 7356.0, \"falsePositives\": 248.0, \"truePositives\": 802.0, \"precision\": 0.7638095238095238, \"recall\": 0.2463144963144963}, {\"threshold\": 0.924, \"falseNegatives\": 2459.0, \"trueNegatives\": 7357.0, \"falsePositives\": 247.0, \"truePositives\": 797.0, \"precision\": 0.7634099616858238, \"recall\": 0.24477886977886978}, {\"threshold\": 0.925, \"falseNegatives\": 2463.0, \"trueNegatives\": 7358.0, \"falsePositives\": 246.0, \"truePositives\": 793.0, \"precision\": 0.7632338787295476, \"recall\": 0.24355036855036855}, {\"threshold\": 0.926, \"falseNegatives\": 2467.0, \"trueNegatives\": 7358.0, \"falsePositives\": 246.0, \"truePositives\": 789.0, \"precision\": 0.7623188405797101, \"recall\": 0.24232186732186733}, {\"threshold\": 0.927, \"falseNegatives\": 2469.0, \"trueNegatives\": 7358.0, \"falsePositives\": 246.0, \"truePositives\": 787.0, \"precision\": 0.7618586640851888, \"recall\": 0.2417076167076167}, {\"threshold\": 0.928, \"falseNegatives\": 2472.0, \"trueNegatives\": 7358.0, \"falsePositives\": 246.0, \"truePositives\": 784.0, \"precision\": 0.7611650485436893, \"recall\": 0.24078624078624078}, {\"threshold\": 0.929, \"falseNegatives\": 2478.0, \"trueNegatives\": 7360.0, \"falsePositives\": 244.0, \"truePositives\": 778.0, \"precision\": 0.761252446183953, \"recall\": 0.23894348894348894}, {\"threshold\": 0.93, \"falseNegatives\": 2482.0, \"trueNegatives\": 7362.0, \"falsePositives\": 242.0, \"truePositives\": 774.0, \"precision\": 0.7618110236220472, \"recall\": 0.23771498771498772}, {\"threshold\": 0.931, \"falseNegatives\": 2488.0, \"trueNegatives\": 7363.0, \"falsePositives\": 241.0, \"truePositives\": 768.0, \"precision\": 0.7611496531219029, \"recall\": 0.23587223587223588}, {\"threshold\": 0.932, \"falseNegatives\": 2493.0, \"trueNegatives\": 7364.0, \"falsePositives\": 240.0, \"truePositives\": 763.0, \"precision\": 0.7607178464606181, \"recall\": 0.23433660933660933}, {\"threshold\": 0.933, \"falseNegatives\": 2493.0, \"trueNegatives\": 7364.0, \"falsePositives\": 240.0, \"truePositives\": 763.0, \"precision\": 0.7607178464606181, \"recall\": 0.23433660933660933}, {\"threshold\": 0.934, \"falseNegatives\": 2500.0, \"trueNegatives\": 7366.0, \"falsePositives\": 238.0, \"truePositives\": 756.0, \"precision\": 0.7605633802816901, \"recall\": 0.2321867321867322}, {\"threshold\": 0.935, \"falseNegatives\": 2503.0, \"trueNegatives\": 7367.0, \"falsePositives\": 237.0, \"truePositives\": 753.0, \"precision\": 0.7606060606060606, \"recall\": 0.23126535626535627}, {\"threshold\": 0.936, \"falseNegatives\": 2506.0, \"trueNegatives\": 7367.0, \"falsePositives\": 237.0, \"truePositives\": 750.0, \"precision\": 0.7598784194528876, \"recall\": 0.23034398034398035}, {\"threshold\": 0.937, \"falseNegatives\": 2511.0, \"trueNegatives\": 7368.0, \"falsePositives\": 236.0, \"truePositives\": 745.0, \"precision\": 0.7594291539245668, \"recall\": 0.22880835380835382}, {\"threshold\": 0.938, \"falseNegatives\": 2517.0, \"trueNegatives\": 7370.0, \"falsePositives\": 234.0, \"truePositives\": 739.0, \"precision\": 0.7595066803699897, \"recall\": 0.22696560196560198}, {\"threshold\": 0.939, \"falseNegatives\": 2517.0, \"trueNegatives\": 7371.0, \"falsePositives\": 233.0, \"truePositives\": 739.0, \"precision\": 0.7602880658436214, \"recall\": 0.22696560196560198}, {\"threshold\": 0.94, \"falseNegatives\": 2520.0, \"trueNegatives\": 7374.0, \"falsePositives\": 230.0, \"truePositives\": 736.0, \"precision\": 0.7619047619047619, \"recall\": 0.22604422604422605}, {\"threshold\": 0.941, \"falseNegatives\": 2525.0, \"trueNegatives\": 7376.0, \"falsePositives\": 228.0, \"truePositives\": 731.0, \"precision\": 0.762252346193952, \"recall\": 0.2245085995085995}, {\"threshold\": 0.942, \"falseNegatives\": 2533.0, \"trueNegatives\": 7377.0, \"falsePositives\": 227.0, \"truePositives\": 723.0, \"precision\": 0.7610526315789473, \"recall\": 0.22205159705159705}, {\"threshold\": 0.943, \"falseNegatives\": 2536.0, \"trueNegatives\": 7378.0, \"falsePositives\": 226.0, \"truePositives\": 720.0, \"precision\": 0.7610993657505285, \"recall\": 0.22113022113022113}, {\"threshold\": 0.944, \"falseNegatives\": 2540.0, \"trueNegatives\": 7380.0, \"falsePositives\": 224.0, \"truePositives\": 716.0, \"precision\": 0.7617021276595745, \"recall\": 0.2199017199017199}, {\"threshold\": 0.945, \"falseNegatives\": 2542.0, \"trueNegatives\": 7382.0, \"falsePositives\": 222.0, \"truePositives\": 714.0, \"precision\": 0.7628205128205128, \"recall\": 0.21928746928746928}, {\"threshold\": 0.946, \"falseNegatives\": 2547.0, \"trueNegatives\": 7384.0, \"falsePositives\": 220.0, \"truePositives\": 709.0, \"precision\": 0.7631862217438106, \"recall\": 0.21775184275184276}, {\"threshold\": 0.947, \"falseNegatives\": 2553.0, \"trueNegatives\": 7388.0, \"falsePositives\": 216.0, \"truePositives\": 703.0, \"precision\": 0.764961915125136, \"recall\": 0.2159090909090909}, {\"threshold\": 0.948, \"falseNegatives\": 2555.0, \"trueNegatives\": 7388.0, \"falsePositives\": 216.0, \"truePositives\": 701.0, \"precision\": 0.7644492911668485, \"recall\": 0.2152948402948403}, {\"threshold\": 0.949, \"falseNegatives\": 2556.0, \"trueNegatives\": 7389.0, \"falsePositives\": 215.0, \"truePositives\": 700.0, \"precision\": 0.7650273224043715, \"recall\": 0.214987714987715}, {\"threshold\": 0.95, \"falseNegatives\": 2561.0, \"trueNegatives\": 7391.0, \"falsePositives\": 213.0, \"truePositives\": 695.0, \"precision\": 0.7654185022026432, \"recall\": 0.21345208845208846}, {\"threshold\": 0.951, \"falseNegatives\": 2568.0, \"trueNegatives\": 7391.0, \"falsePositives\": 213.0, \"truePositives\": 688.0, \"precision\": 0.7635960044395117, \"recall\": 0.2113022113022113}, {\"threshold\": 0.952, \"falseNegatives\": 2570.0, \"trueNegatives\": 7391.0, \"falsePositives\": 213.0, \"truePositives\": 686.0, \"precision\": 0.7630700778642937, \"recall\": 0.2106879606879607}, {\"threshold\": 0.953, \"falseNegatives\": 2572.0, \"trueNegatives\": 7395.0, \"falsePositives\": 209.0, \"truePositives\": 684.0, \"precision\": 0.7659574468085106, \"recall\": 0.21007371007371006}, {\"threshold\": 0.954, \"falseNegatives\": 2577.0, \"trueNegatives\": 7396.0, \"falsePositives\": 208.0, \"truePositives\": 679.0, \"precision\": 0.7655016910935738, \"recall\": 0.20853808353808354}, {\"threshold\": 0.955, \"falseNegatives\": 2581.0, \"trueNegatives\": 7399.0, \"falsePositives\": 205.0, \"truePositives\": 675.0, \"precision\": 0.7670454545454546, \"recall\": 0.2073095823095823}, {\"threshold\": 0.956, \"falseNegatives\": 2586.0, \"trueNegatives\": 7399.0, \"falsePositives\": 205.0, \"truePositives\": 670.0, \"precision\": 0.7657142857142857, \"recall\": 0.20577395577395577}, {\"threshold\": 0.957, \"falseNegatives\": 2588.0, \"trueNegatives\": 7401.0, \"falsePositives\": 203.0, \"truePositives\": 668.0, \"precision\": 0.7669345579793341, \"recall\": 0.20515970515970516}, {\"threshold\": 0.958, \"falseNegatives\": 2590.0, \"trueNegatives\": 7403.0, \"falsePositives\": 201.0, \"truePositives\": 666.0, \"precision\": 0.7681660899653979, \"recall\": 0.20454545454545456}, {\"threshold\": 0.959, \"falseNegatives\": 2593.0, \"trueNegatives\": 7403.0, \"falsePositives\": 201.0, \"truePositives\": 663.0, \"precision\": 0.7673611111111112, \"recall\": 0.20362407862407864}, {\"threshold\": 0.96, \"falseNegatives\": 2603.0, \"trueNegatives\": 7404.0, \"falsePositives\": 200.0, \"truePositives\": 653.0, \"precision\": 0.7655334114888629, \"recall\": 0.20055282555282555}, {\"threshold\": 0.961, \"falseNegatives\": 2610.0, \"trueNegatives\": 7404.0, \"falsePositives\": 200.0, \"truePositives\": 646.0, \"precision\": 0.7635933806146572, \"recall\": 0.1984029484029484}, {\"threshold\": 0.962, \"falseNegatives\": 2620.0, \"trueNegatives\": 7404.0, \"falsePositives\": 200.0, \"truePositives\": 636.0, \"precision\": 0.7607655502392344, \"recall\": 0.19533169533169534}, {\"threshold\": 0.963, \"falseNegatives\": 2625.0, \"trueNegatives\": 7405.0, \"falsePositives\": 199.0, \"truePositives\": 631.0, \"precision\": 0.7602409638554217, \"recall\": 0.19379606879606878}, {\"threshold\": 0.964, \"falseNegatives\": 2634.0, \"trueNegatives\": 7406.0, \"falsePositives\": 198.0, \"truePositives\": 622.0, \"precision\": 0.7585365853658537, \"recall\": 0.19103194103194104}, {\"threshold\": 0.965, \"falseNegatives\": 2638.0, \"trueNegatives\": 7410.0, \"falsePositives\": 194.0, \"truePositives\": 618.0, \"precision\": 0.7610837438423645, \"recall\": 0.1898034398034398}, {\"threshold\": 0.966, \"falseNegatives\": 2644.0, \"trueNegatives\": 7413.0, \"falsePositives\": 191.0, \"truePositives\": 612.0, \"precision\": 0.7621419676214197, \"recall\": 0.18796068796068796}, {\"threshold\": 0.967, \"falseNegatives\": 2651.0, \"trueNegatives\": 7415.0, \"falsePositives\": 189.0, \"truePositives\": 605.0, \"precision\": 0.7619647355163728, \"recall\": 0.1858108108108108}, {\"threshold\": 0.968, \"falseNegatives\": 2659.0, \"trueNegatives\": 7417.0, \"falsePositives\": 187.0, \"truePositives\": 597.0, \"precision\": 0.7614795918367347, \"recall\": 0.18335380835380835}, {\"threshold\": 0.969, \"falseNegatives\": 2662.0, \"trueNegatives\": 7420.0, \"falsePositives\": 184.0, \"truePositives\": 594.0, \"precision\": 0.7634961439588689, \"recall\": 0.18243243243243243}, {\"threshold\": 0.97, \"falseNegatives\": 2667.0, \"trueNegatives\": 7421.0, \"falsePositives\": 183.0, \"truePositives\": 589.0, \"precision\": 0.7629533678756477, \"recall\": 0.1808968058968059}, {\"threshold\": 0.971, \"falseNegatives\": 2670.0, \"trueNegatives\": 7421.0, \"falsePositives\": 183.0, \"truePositives\": 586.0, \"precision\": 0.7620286085825748, \"recall\": 0.17997542997542998}, {\"threshold\": 0.972, \"falseNegatives\": 2681.0, \"trueNegatives\": 7423.0, \"falsePositives\": 181.0, \"truePositives\": 575.0, \"precision\": 0.7605820105820106, \"recall\": 0.1765970515970516}, {\"threshold\": 0.973, \"falseNegatives\": 2687.0, \"trueNegatives\": 7425.0, \"falsePositives\": 179.0, \"truePositives\": 569.0, \"precision\": 0.7606951871657754, \"recall\": 0.17475429975429976}, {\"threshold\": 0.974, \"falseNegatives\": 2691.0, \"trueNegatives\": 7426.0, \"falsePositives\": 178.0, \"truePositives\": 565.0, \"precision\": 0.7604306864064603, \"recall\": 0.17352579852579852}, {\"threshold\": 0.975, \"falseNegatives\": 2698.0, \"trueNegatives\": 7428.0, \"falsePositives\": 176.0, \"truePositives\": 558.0, \"precision\": 0.7602179836512262, \"recall\": 0.17137592137592136}, {\"threshold\": 0.976, \"falseNegatives\": 2699.0, \"trueNegatives\": 7433.0, \"falsePositives\": 171.0, \"truePositives\": 557.0, \"precision\": 0.7651098901098901, \"recall\": 0.17106879606879608}, {\"threshold\": 0.977, \"falseNegatives\": 2709.0, \"trueNegatives\": 7435.0, \"falsePositives\": 169.0, \"truePositives\": 547.0, \"precision\": 0.7639664804469274, \"recall\": 0.167997542997543}, {\"threshold\": 0.978, \"falseNegatives\": 2713.0, \"trueNegatives\": 7437.0, \"falsePositives\": 167.0, \"truePositives\": 543.0, \"precision\": 0.7647887323943662, \"recall\": 0.16676904176904178}, {\"threshold\": 0.979, \"falseNegatives\": 2718.0, \"trueNegatives\": 7441.0, \"falsePositives\": 163.0, \"truePositives\": 538.0, \"precision\": 0.7674750356633381, \"recall\": 0.16523341523341523}, {\"threshold\": 0.98, \"falseNegatives\": 2727.0, \"trueNegatives\": 7442.0, \"falsePositives\": 162.0, \"truePositives\": 529.0, \"precision\": 0.7655571635311144, \"recall\": 0.16246928746928746}, {\"threshold\": 0.981, \"falseNegatives\": 2730.0, \"trueNegatives\": 7444.0, \"falsePositives\": 160.0, \"truePositives\": 526.0, \"precision\": 0.7667638483965015, \"recall\": 0.16154791154791154}, {\"threshold\": 0.982, \"falseNegatives\": 2736.0, \"trueNegatives\": 7446.0, \"falsePositives\": 158.0, \"truePositives\": 520.0, \"precision\": 0.7669616519174042, \"recall\": 0.1597051597051597}, {\"threshold\": 0.983, \"falseNegatives\": 2738.0, \"trueNegatives\": 7446.0, \"falsePositives\": 158.0, \"truePositives\": 518.0, \"precision\": 0.7662721893491125, \"recall\": 0.1590909090909091}, {\"threshold\": 0.984, \"falseNegatives\": 2744.0, \"trueNegatives\": 7447.0, \"falsePositives\": 157.0, \"truePositives\": 512.0, \"precision\": 0.7653213751868461, \"recall\": 0.15724815724815724}, {\"threshold\": 0.985, \"falseNegatives\": 2750.0, \"trueNegatives\": 7447.0, \"falsePositives\": 157.0, \"truePositives\": 506.0, \"precision\": 0.7631975867269984, \"recall\": 0.1554054054054054}, {\"threshold\": 0.986, \"falseNegatives\": 2754.0, \"trueNegatives\": 7447.0, \"falsePositives\": 157.0, \"truePositives\": 502.0, \"precision\": 0.7617602427921093, \"recall\": 0.1541769041769042}, {\"threshold\": 0.987, \"falseNegatives\": 2764.0, \"trueNegatives\": 7448.0, \"falsePositives\": 156.0, \"truePositives\": 492.0, \"precision\": 0.7592592592592593, \"recall\": 0.1511056511056511}, {\"threshold\": 0.988, \"falseNegatives\": 2776.0, \"trueNegatives\": 7450.0, \"falsePositives\": 154.0, \"truePositives\": 480.0, \"precision\": 0.7570977917981072, \"recall\": 0.14742014742014742}, {\"threshold\": 0.989, \"falseNegatives\": 2784.0, \"trueNegatives\": 7453.0, \"falsePositives\": 151.0, \"truePositives\": 472.0, \"precision\": 0.7576243980738363, \"recall\": 0.14496314496314497}, {\"threshold\": 0.99, \"falseNegatives\": 2790.0, \"trueNegatives\": 7457.0, \"falsePositives\": 147.0, \"truePositives\": 466.0, \"precision\": 0.7601957585644372, \"recall\": 0.14312039312039312}, {\"threshold\": 0.991, \"falseNegatives\": 2799.0, \"trueNegatives\": 7460.0, \"falsePositives\": 144.0, \"truePositives\": 457.0, \"precision\": 0.7603993344425957, \"recall\": 0.14035626535626536}, {\"threshold\": 0.992, \"falseNegatives\": 2810.0, \"trueNegatives\": 7463.0, \"falsePositives\": 141.0, \"truePositives\": 446.0, \"precision\": 0.7597955706984668, \"recall\": 0.136977886977887}, {\"threshold\": 0.993, \"falseNegatives\": 2820.0, \"trueNegatives\": 7469.0, \"falsePositives\": 135.0, \"truePositives\": 436.0, \"precision\": 0.7635726795096323, \"recall\": 0.1339066339066339}, {\"threshold\": 0.994, \"falseNegatives\": 2835.0, \"trueNegatives\": 7471.0, \"falsePositives\": 133.0, \"truePositives\": 421.0, \"precision\": 0.759927797833935, \"recall\": 0.1292997542997543}, {\"threshold\": 0.995, \"falseNegatives\": 2855.0, \"trueNegatives\": 7480.0, \"falsePositives\": 124.0, \"truePositives\": 401.0, \"precision\": 0.7638095238095238, \"recall\": 0.12315724815724816}, {\"threshold\": 0.996, \"falseNegatives\": 2870.0, \"trueNegatives\": 7486.0, \"falsePositives\": 118.0, \"truePositives\": 386.0, \"precision\": 0.7658730158730159, \"recall\": 0.11855036855036855}, {\"threshold\": 0.997, \"falseNegatives\": 2898.0, \"trueNegatives\": 7487.0, \"falsePositives\": 117.0, \"truePositives\": 358.0, \"precision\": 0.7536842105263157, \"recall\": 0.10995085995085994}, {\"threshold\": 0.998, \"falseNegatives\": 2942.0, \"trueNegatives\": 7495.0, \"falsePositives\": 109.0, \"truePositives\": 314.0, \"precision\": 0.7423167848699763, \"recall\": 0.09643734643734644}, {\"threshold\": 0.999, \"falseNegatives\": 2993.0, \"trueNegatives\": 7509.0, \"falsePositives\": 95.0, \"truePositives\": 263.0, \"precision\": 0.7346368715083799, \"recall\": 0.08077395577395577}, {\"threshold\": 1.0, \"falseNegatives\": 3134.0, \"trueNegatives\": 7581.0, \"falsePositives\": 23.0, \"truePositives\": 122.0, \"precision\": 0.8413793103448276, \"recall\": 0.03746928746928747}]}}');\n",
              "          </script>\n",
              "          "
            ],
            "text/plain": [
              "<IPython.core.display.HTML object>"
            ]
          },
          "metadata": {}
        }
      ]
    },
    {
      "cell_type": "markdown",
      "metadata": {
        "id": "meRvFkKcPbux"
      },
      "source": [
        "## Tracking Model Performance Over Time\n",
        "\n",
        "Your training dataset will be used for training your model, and will hopefully be representative of your test dataset and the data that will be sent to your model in production.  However, while the data in inference requests may remain the same as your training data, it can also start to change enough so that the performance of your model will change. That means that you need to monitor and measure your model's performance on an ongoing basis so that you can be aware of and react to changes.\n",
        "\n",
        "Let's take a look at how TFMA can help. You will load three different datasets and compare the model analysis results using the [`render_time_series()`](https://www.tensorflow.org/tfx/model_analysis/api_docs/python/tfma/view/render_time_series) method."
      ]
    },
    {
      "cell_type": "code",
      "metadata": {
        "id": "zJYUOjmFfuPy",
        "colab": {
          "base_uri": "https://localhost:8080/"
        },
        "outputId": "8c425ddb-286a-4b7e-b198-e63bf91d0df7"
      },
      "source": [
        "import os\n",
        "\n",
        "# Put data paths we prepared earlier in a list\n",
        "TFRECORDS = [TFRECORD_DAY1, TFRECORD_DAY2, TFRECORD_DAY3]\n",
        "\n",
        "# Initialize output paths list for each result \n",
        "output_paths = []\n",
        "\n",
        "# Run eval on each tfrecord separately\n",
        "for num, tfrecord in enumerate(TFRECORDS):\n",
        "\n",
        "  # Use the same model as before\n",
        "  eval_shared_model = tfma.default_eval_shared_model(\n",
        "      eval_saved_model_path=MODEL1_FILE,\n",
        "      eval_config=eval_config)\n",
        "\n",
        "  # Prepare output path name\n",
        "  output_path = os.path.join('.', 'time_series', str(num))\n",
        "  output_paths.append(output_path)\n",
        "\n",
        "  # Run TFMA on the current tfrecord in the loop\n",
        "  tfma.run_model_analysis(eval_shared_model=eval_shared_model,\n",
        "                          eval_config=eval_config,\n",
        "                          data_location=tfrecord,\n",
        "                          output_path=output_path)"
      ],
      "execution_count": 25,
      "outputs": [
        {
          "output_type": "stream",
          "name": "stdout",
          "text": [
            "WARNING:tensorflow:SavedModel saved prior to TF 2.5 detected when loading Keras model. Please ensure that you are saving the model with model.save() or tf.keras.models.save_model(), *NOT* tf.saved_model.save(). To confirm, there should be a file named \"keras_metadata.pb\" in the SavedModel directory.\n"
          ]
        },
        {
          "output_type": "stream",
          "name": "stderr",
          "text": [
            "WARNING:tensorflow:SavedModel saved prior to TF 2.5 detected when loading Keras model. Please ensure that you are saving the model with model.save() or tf.keras.models.save_model(), *NOT* tf.saved_model.save(). To confirm, there should be a file named \"keras_metadata.pb\" in the SavedModel directory.\n"
          ]
        },
        {
          "output_type": "stream",
          "name": "stdout",
          "text": [
            "WARNING:tensorflow:Inconsistent references when loading the checkpoint into this object graph. Either the Trackable object references in the Python program have changed in an incompatible way, or the checkpoint was generated in an incompatible program.\n",
            "\n",
            "Two checkpoint references resolved to different objects (<tensorflow.python.keras.saving.saved_model.load.TensorFlowTransform>TransformFeaturesLayer object at 0x7f7ce35fdbd0> and <tensorflow.python.keras.engine.input_layer.InputLayer object at 0x7f7ce3688cd0>).\n"
          ]
        },
        {
          "output_type": "stream",
          "name": "stderr",
          "text": [
            "WARNING:tensorflow:Inconsistent references when loading the checkpoint into this object graph. Either the Trackable object references in the Python program have changed in an incompatible way, or the checkpoint was generated in an incompatible program.\n",
            "\n",
            "Two checkpoint references resolved to different objects (<tensorflow.python.keras.saving.saved_model.load.TensorFlowTransform>TransformFeaturesLayer object at 0x7f7ce35fdbd0> and <tensorflow.python.keras.engine.input_layer.InputLayer object at 0x7f7ce3688cd0>).\n",
            "WARNING:absl:Tensorflow version (2.5.1) found. Note that TFMA support for TF 2.0 is currently in beta\n"
          ]
        },
        {
          "output_type": "stream",
          "name": "stdout",
          "text": [
            "WARNING:tensorflow:SavedModel saved prior to TF 2.5 detected when loading Keras model. Please ensure that you are saving the model with model.save() or tf.keras.models.save_model(), *NOT* tf.saved_model.save(). To confirm, there should be a file named \"keras_metadata.pb\" in the SavedModel directory.\n"
          ]
        },
        {
          "output_type": "stream",
          "name": "stderr",
          "text": [
            "WARNING:tensorflow:SavedModel saved prior to TF 2.5 detected when loading Keras model. Please ensure that you are saving the model with model.save() or tf.keras.models.save_model(), *NOT* tf.saved_model.save(). To confirm, there should be a file named \"keras_metadata.pb\" in the SavedModel directory.\n"
          ]
        },
        {
          "output_type": "stream",
          "name": "stdout",
          "text": [
            "WARNING:tensorflow:Inconsistent references when loading the checkpoint into this object graph. Either the Trackable object references in the Python program have changed in an incompatible way, or the checkpoint was generated in an incompatible program.\n",
            "\n",
            "Two checkpoint references resolved to different objects (<tensorflow.python.keras.saving.saved_model.load.TensorFlowTransform>TransformFeaturesLayer object at 0x7f7ce2ee0790> and <tensorflow.python.keras.engine.input_layer.InputLayer object at 0x7f7ce324d290>).\n"
          ]
        },
        {
          "output_type": "stream",
          "name": "stderr",
          "text": [
            "WARNING:tensorflow:Inconsistent references when loading the checkpoint into this object graph. Either the Trackable object references in the Python program have changed in an incompatible way, or the checkpoint was generated in an incompatible program.\n",
            "\n",
            "Two checkpoint references resolved to different objects (<tensorflow.python.keras.saving.saved_model.load.TensorFlowTransform>TransformFeaturesLayer object at 0x7f7ce2ee0790> and <tensorflow.python.keras.engine.input_layer.InputLayer object at 0x7f7ce324d290>).\n",
            "WARNING:root:Make sure that locally built Python SDK docker image has Python 3.7 interpreter.\n"
          ]
        },
        {
          "output_type": "stream",
          "name": "stdout",
          "text": [
            "WARNING:tensorflow:SavedModel saved prior to TF 2.5 detected when loading Keras model. Please ensure that you are saving the model with model.save() or tf.keras.models.save_model(), *NOT* tf.saved_model.save(). To confirm, there should be a file named \"keras_metadata.pb\" in the SavedModel directory.\n"
          ]
        },
        {
          "output_type": "stream",
          "name": "stderr",
          "text": [
            "WARNING:tensorflow:SavedModel saved prior to TF 2.5 detected when loading Keras model. Please ensure that you are saving the model with model.save() or tf.keras.models.save_model(), *NOT* tf.saved_model.save(). To confirm, there should be a file named \"keras_metadata.pb\" in the SavedModel directory.\n"
          ]
        },
        {
          "output_type": "stream",
          "name": "stdout",
          "text": [
            "WARNING:tensorflow:Inconsistent references when loading the checkpoint into this object graph. Either the Trackable object references in the Python program have changed in an incompatible way, or the checkpoint was generated in an incompatible program.\n",
            "\n",
            "Two checkpoint references resolved to different objects (<tensorflow.python.keras.saving.saved_model.load.TensorFlowTransform>TransformFeaturesLayer object at 0x7f7ce1ac9cd0> and <tensorflow.python.keras.engine.input_layer.InputLayer object at 0x7f7ce1af4e50>).\n"
          ]
        },
        {
          "output_type": "stream",
          "name": "stderr",
          "text": [
            "WARNING:tensorflow:Inconsistent references when loading the checkpoint into this object graph. Either the Trackable object references in the Python program have changed in an incompatible way, or the checkpoint was generated in an incompatible program.\n",
            "\n",
            "Two checkpoint references resolved to different objects (<tensorflow.python.keras.saving.saved_model.load.TensorFlowTransform>TransformFeaturesLayer object at 0x7f7ce1ac9cd0> and <tensorflow.python.keras.engine.input_layer.InputLayer object at 0x7f7ce1af4e50>).\n"
          ]
        },
        {
          "output_type": "stream",
          "name": "stdout",
          "text": [
            "WARNING:tensorflow:SavedModel saved prior to TF 2.5 detected when loading Keras model. Please ensure that you are saving the model with model.save() or tf.keras.models.save_model(), *NOT* tf.saved_model.save(). To confirm, there should be a file named \"keras_metadata.pb\" in the SavedModel directory.\n"
          ]
        },
        {
          "output_type": "stream",
          "name": "stderr",
          "text": [
            "WARNING:tensorflow:SavedModel saved prior to TF 2.5 detected when loading Keras model. Please ensure that you are saving the model with model.save() or tf.keras.models.save_model(), *NOT* tf.saved_model.save(). To confirm, there should be a file named \"keras_metadata.pb\" in the SavedModel directory.\n"
          ]
        },
        {
          "output_type": "stream",
          "name": "stdout",
          "text": [
            "WARNING:tensorflow:Inconsistent references when loading the checkpoint into this object graph. Either the Trackable object references in the Python program have changed in an incompatible way, or the checkpoint was generated in an incompatible program.\n",
            "\n",
            "Two checkpoint references resolved to different objects (<tensorflow.python.keras.saving.saved_model.load.TensorFlowTransform>TransformFeaturesLayer object at 0x7f7ce1e55c90> and <tensorflow.python.keras.engine.input_layer.InputLayer object at 0x7f7ce1fe7710>).\n"
          ]
        },
        {
          "output_type": "stream",
          "name": "stderr",
          "text": [
            "WARNING:tensorflow:Inconsistent references when loading the checkpoint into this object graph. Either the Trackable object references in the Python program have changed in an incompatible way, or the checkpoint was generated in an incompatible program.\n",
            "\n",
            "Two checkpoint references resolved to different objects (<tensorflow.python.keras.saving.saved_model.load.TensorFlowTransform>TransformFeaturesLayer object at 0x7f7ce1e55c90> and <tensorflow.python.keras.engine.input_layer.InputLayer object at 0x7f7ce1fe7710>).\n"
          ]
        },
        {
          "output_type": "stream",
          "name": "stdout",
          "text": [
            "WARNING:tensorflow:SavedModel saved prior to TF 2.5 detected when loading Keras model. Please ensure that you are saving the model with model.save() or tf.keras.models.save_model(), *NOT* tf.saved_model.save(). To confirm, there should be a file named \"keras_metadata.pb\" in the SavedModel directory.\n"
          ]
        },
        {
          "output_type": "stream",
          "name": "stderr",
          "text": [
            "WARNING:tensorflow:SavedModel saved prior to TF 2.5 detected when loading Keras model. Please ensure that you are saving the model with model.save() or tf.keras.models.save_model(), *NOT* tf.saved_model.save(). To confirm, there should be a file named \"keras_metadata.pb\" in the SavedModel directory.\n"
          ]
        },
        {
          "output_type": "stream",
          "name": "stdout",
          "text": [
            "WARNING:tensorflow:Inconsistent references when loading the checkpoint into this object graph. Either the Trackable object references in the Python program have changed in an incompatible way, or the checkpoint was generated in an incompatible program.\n",
            "\n",
            "Two checkpoint references resolved to different objects (<tensorflow.python.keras.saving.saved_model.load.TensorFlowTransform>TransformFeaturesLayer object at 0x7f7ce0b66210> and <tensorflow.python.keras.engine.input_layer.InputLayer object at 0x7f7ce0b40210>).\n"
          ]
        },
        {
          "output_type": "stream",
          "name": "stderr",
          "text": [
            "WARNING:tensorflow:Inconsistent references when loading the checkpoint into this object graph. Either the Trackable object references in the Python program have changed in an incompatible way, or the checkpoint was generated in an incompatible program.\n",
            "\n",
            "Two checkpoint references resolved to different objects (<tensorflow.python.keras.saving.saved_model.load.TensorFlowTransform>TransformFeaturesLayer object at 0x7f7ce0b66210> and <tensorflow.python.keras.engine.input_layer.InputLayer object at 0x7f7ce0b40210>).\n"
          ]
        },
        {
          "output_type": "stream",
          "name": "stdout",
          "text": [
            "WARNING:tensorflow:SavedModel saved prior to TF 2.5 detected when loading Keras model. Please ensure that you are saving the model with model.save() or tf.keras.models.save_model(), *NOT* tf.saved_model.save(). To confirm, there should be a file named \"keras_metadata.pb\" in the SavedModel directory.\n"
          ]
        },
        {
          "output_type": "stream",
          "name": "stderr",
          "text": [
            "WARNING:tensorflow:SavedModel saved prior to TF 2.5 detected when loading Keras model. Please ensure that you are saving the model with model.save() or tf.keras.models.save_model(), *NOT* tf.saved_model.save(). To confirm, there should be a file named \"keras_metadata.pb\" in the SavedModel directory.\n"
          ]
        },
        {
          "output_type": "stream",
          "name": "stdout",
          "text": [
            "WARNING:tensorflow:Inconsistent references when loading the checkpoint into this object graph. Either the Trackable object references in the Python program have changed in an incompatible way, or the checkpoint was generated in an incompatible program.\n",
            "\n",
            "Two checkpoint references resolved to different objects (<tensorflow.python.keras.saving.saved_model.load.TensorFlowTransform>TransformFeaturesLayer object at 0x7f7ce0326590> and <tensorflow.python.keras.engine.input_layer.InputLayer object at 0x7f7ce03f6b50>).\n"
          ]
        },
        {
          "output_type": "stream",
          "name": "stderr",
          "text": [
            "WARNING:tensorflow:Inconsistent references when loading the checkpoint into this object graph. Either the Trackable object references in the Python program have changed in an incompatible way, or the checkpoint was generated in an incompatible program.\n",
            "\n",
            "Two checkpoint references resolved to different objects (<tensorflow.python.keras.saving.saved_model.load.TensorFlowTransform>TransformFeaturesLayer object at 0x7f7ce0326590> and <tensorflow.python.keras.engine.input_layer.InputLayer object at 0x7f7ce03f6b50>).\n"
          ]
        },
        {
          "output_type": "stream",
          "name": "stdout",
          "text": [
            "WARNING:tensorflow:SavedModel saved prior to TF 2.5 detected when loading Keras model. Please ensure that you are saving the model with model.save() or tf.keras.models.save_model(), *NOT* tf.saved_model.save(). To confirm, there should be a file named \"keras_metadata.pb\" in the SavedModel directory.\n"
          ]
        },
        {
          "output_type": "stream",
          "name": "stderr",
          "text": [
            "WARNING:tensorflow:SavedModel saved prior to TF 2.5 detected when loading Keras model. Please ensure that you are saving the model with model.save() or tf.keras.models.save_model(), *NOT* tf.saved_model.save(). To confirm, there should be a file named \"keras_metadata.pb\" in the SavedModel directory.\n"
          ]
        },
        {
          "output_type": "stream",
          "name": "stdout",
          "text": [
            "WARNING:tensorflow:Inconsistent references when loading the checkpoint into this object graph. Either the Trackable object references in the Python program have changed in an incompatible way, or the checkpoint was generated in an incompatible program.\n",
            "\n",
            "Two checkpoint references resolved to different objects (<tensorflow.python.keras.saving.saved_model.load.TensorFlowTransform>TransformFeaturesLayer object at 0x7f7ce31eb550> and <tensorflow.python.keras.engine.input_layer.InputLayer object at 0x7f7ce3358190>).\n"
          ]
        },
        {
          "output_type": "stream",
          "name": "stderr",
          "text": [
            "WARNING:tensorflow:Inconsistent references when loading the checkpoint into this object graph. Either the Trackable object references in the Python program have changed in an incompatible way, or the checkpoint was generated in an incompatible program.\n",
            "\n",
            "Two checkpoint references resolved to different objects (<tensorflow.python.keras.saving.saved_model.load.TensorFlowTransform>TransformFeaturesLayer object at 0x7f7ce31eb550> and <tensorflow.python.keras.engine.input_layer.InputLayer object at 0x7f7ce3358190>).\n"
          ]
        },
        {
          "output_type": "stream",
          "name": "stdout",
          "text": [
            "WARNING:tensorflow:SavedModel saved prior to TF 2.5 detected when loading Keras model. Please ensure that you are saving the model with model.save() or tf.keras.models.save_model(), *NOT* tf.saved_model.save(). To confirm, there should be a file named \"keras_metadata.pb\" in the SavedModel directory.\n"
          ]
        },
        {
          "output_type": "stream",
          "name": "stderr",
          "text": [
            "WARNING:tensorflow:SavedModel saved prior to TF 2.5 detected when loading Keras model. Please ensure that you are saving the model with model.save() or tf.keras.models.save_model(), *NOT* tf.saved_model.save(). To confirm, there should be a file named \"keras_metadata.pb\" in the SavedModel directory.\n"
          ]
        },
        {
          "output_type": "stream",
          "name": "stdout",
          "text": [
            "WARNING:tensorflow:Inconsistent references when loading the checkpoint into this object graph. Either the Trackable object references in the Python program have changed in an incompatible way, or the checkpoint was generated in an incompatible program.\n",
            "\n",
            "Two checkpoint references resolved to different objects (<tensorflow.python.keras.saving.saved_model.load.TensorFlowTransform>TransformFeaturesLayer object at 0x7f7cef650390> and <tensorflow.python.keras.engine.input_layer.InputLayer object at 0x7f7ce7a1e910>).\n"
          ]
        },
        {
          "output_type": "stream",
          "name": "stderr",
          "text": [
            "WARNING:tensorflow:Inconsistent references when loading the checkpoint into this object graph. Either the Trackable object references in the Python program have changed in an incompatible way, or the checkpoint was generated in an incompatible program.\n",
            "\n",
            "Two checkpoint references resolved to different objects (<tensorflow.python.keras.saving.saved_model.load.TensorFlowTransform>TransformFeaturesLayer object at 0x7f7cef650390> and <tensorflow.python.keras.engine.input_layer.InputLayer object at 0x7f7ce7a1e910>).\n"
          ]
        },
        {
          "output_type": "stream",
          "name": "stdout",
          "text": [
            "WARNING:tensorflow:SavedModel saved prior to TF 2.5 detected when loading Keras model. Please ensure that you are saving the model with model.save() or tf.keras.models.save_model(), *NOT* tf.saved_model.save(). To confirm, there should be a file named \"keras_metadata.pb\" in the SavedModel directory.\n"
          ]
        },
        {
          "output_type": "stream",
          "name": "stderr",
          "text": [
            "WARNING:tensorflow:SavedModel saved prior to TF 2.5 detected when loading Keras model. Please ensure that you are saving the model with model.save() or tf.keras.models.save_model(), *NOT* tf.saved_model.save(). To confirm, there should be a file named \"keras_metadata.pb\" in the SavedModel directory.\n"
          ]
        },
        {
          "output_type": "stream",
          "name": "stdout",
          "text": [
            "WARNING:tensorflow:Inconsistent references when loading the checkpoint into this object graph. Either the Trackable object references in the Python program have changed in an incompatible way, or the checkpoint was generated in an incompatible program.\n",
            "\n",
            "Two checkpoint references resolved to different objects (<tensorflow.python.keras.saving.saved_model.load.TensorFlowTransform>TransformFeaturesLayer object at 0x7f7ce1b034d0> and <tensorflow.python.keras.engine.input_layer.InputLayer object at 0x7f7cef7bdb50>).\n"
          ]
        },
        {
          "output_type": "stream",
          "name": "stderr",
          "text": [
            "WARNING:tensorflow:Inconsistent references when loading the checkpoint into this object graph. Either the Trackable object references in the Python program have changed in an incompatible way, or the checkpoint was generated in an incompatible program.\n",
            "\n",
            "Two checkpoint references resolved to different objects (<tensorflow.python.keras.saving.saved_model.load.TensorFlowTransform>TransformFeaturesLayer object at 0x7f7ce1b034d0> and <tensorflow.python.keras.engine.input_layer.InputLayer object at 0x7f7cef7bdb50>).\n",
            "WARNING:absl:Tensorflow version (2.5.1) found. Note that TFMA support for TF 2.0 is currently in beta\n"
          ]
        },
        {
          "output_type": "stream",
          "name": "stdout",
          "text": [
            "WARNING:tensorflow:SavedModel saved prior to TF 2.5 detected when loading Keras model. Please ensure that you are saving the model with model.save() or tf.keras.models.save_model(), *NOT* tf.saved_model.save(). To confirm, there should be a file named \"keras_metadata.pb\" in the SavedModel directory.\n"
          ]
        },
        {
          "output_type": "stream",
          "name": "stderr",
          "text": [
            "WARNING:tensorflow:SavedModel saved prior to TF 2.5 detected when loading Keras model. Please ensure that you are saving the model with model.save() or tf.keras.models.save_model(), *NOT* tf.saved_model.save(). To confirm, there should be a file named \"keras_metadata.pb\" in the SavedModel directory.\n"
          ]
        },
        {
          "output_type": "stream",
          "name": "stdout",
          "text": [
            "WARNING:tensorflow:Inconsistent references when loading the checkpoint into this object graph. Either the Trackable object references in the Python program have changed in an incompatible way, or the checkpoint was generated in an incompatible program.\n",
            "\n",
            "Two checkpoint references resolved to different objects (<tensorflow.python.keras.saving.saved_model.load.TensorFlowTransform>TransformFeaturesLayer object at 0x7f7cee1df3d0> and <tensorflow.python.keras.engine.input_layer.InputLayer object at 0x7f7ceec86c50>).\n"
          ]
        },
        {
          "output_type": "stream",
          "name": "stderr",
          "text": [
            "WARNING:tensorflow:Inconsistent references when loading the checkpoint into this object graph. Either the Trackable object references in the Python program have changed in an incompatible way, or the checkpoint was generated in an incompatible program.\n",
            "\n",
            "Two checkpoint references resolved to different objects (<tensorflow.python.keras.saving.saved_model.load.TensorFlowTransform>TransformFeaturesLayer object at 0x7f7cee1df3d0> and <tensorflow.python.keras.engine.input_layer.InputLayer object at 0x7f7ceec86c50>).\n",
            "WARNING:root:Make sure that locally built Python SDK docker image has Python 3.7 interpreter.\n"
          ]
        },
        {
          "output_type": "stream",
          "name": "stdout",
          "text": [
            "WARNING:tensorflow:SavedModel saved prior to TF 2.5 detected when loading Keras model. Please ensure that you are saving the model with model.save() or tf.keras.models.save_model(), *NOT* tf.saved_model.save(). To confirm, there should be a file named \"keras_metadata.pb\" in the SavedModel directory.\n"
          ]
        },
        {
          "output_type": "stream",
          "name": "stderr",
          "text": [
            "WARNING:tensorflow:SavedModel saved prior to TF 2.5 detected when loading Keras model. Please ensure that you are saving the model with model.save() or tf.keras.models.save_model(), *NOT* tf.saved_model.save(). To confirm, there should be a file named \"keras_metadata.pb\" in the SavedModel directory.\n"
          ]
        },
        {
          "output_type": "stream",
          "name": "stdout",
          "text": [
            "WARNING:tensorflow:Inconsistent references when loading the checkpoint into this object graph. Either the Trackable object references in the Python program have changed in an incompatible way, or the checkpoint was generated in an incompatible program.\n",
            "\n",
            "Two checkpoint references resolved to different objects (<tensorflow.python.keras.saving.saved_model.load.TensorFlowTransform>TransformFeaturesLayer object at 0x7f7ced89b410> and <tensorflow.python.keras.engine.input_layer.InputLayer object at 0x7f7ce34a51d0>).\n"
          ]
        },
        {
          "output_type": "stream",
          "name": "stderr",
          "text": [
            "WARNING:tensorflow:Inconsistent references when loading the checkpoint into this object graph. Either the Trackable object references in the Python program have changed in an incompatible way, or the checkpoint was generated in an incompatible program.\n",
            "\n",
            "Two checkpoint references resolved to different objects (<tensorflow.python.keras.saving.saved_model.load.TensorFlowTransform>TransformFeaturesLayer object at 0x7f7ced89b410> and <tensorflow.python.keras.engine.input_layer.InputLayer object at 0x7f7ce34a51d0>).\n"
          ]
        },
        {
          "output_type": "stream",
          "name": "stdout",
          "text": [
            "WARNING:tensorflow:SavedModel saved prior to TF 2.5 detected when loading Keras model. Please ensure that you are saving the model with model.save() or tf.keras.models.save_model(), *NOT* tf.saved_model.save(). To confirm, there should be a file named \"keras_metadata.pb\" in the SavedModel directory.\n"
          ]
        },
        {
          "output_type": "stream",
          "name": "stderr",
          "text": [
            "WARNING:tensorflow:SavedModel saved prior to TF 2.5 detected when loading Keras model. Please ensure that you are saving the model with model.save() or tf.keras.models.save_model(), *NOT* tf.saved_model.save(). To confirm, there should be a file named \"keras_metadata.pb\" in the SavedModel directory.\n"
          ]
        },
        {
          "output_type": "stream",
          "name": "stdout",
          "text": [
            "WARNING:tensorflow:Inconsistent references when loading the checkpoint into this object graph. Either the Trackable object references in the Python program have changed in an incompatible way, or the checkpoint was generated in an incompatible program.\n",
            "\n",
            "Two checkpoint references resolved to different objects (<tensorflow.python.keras.saving.saved_model.load.TensorFlowTransform>TransformFeaturesLayer object at 0x7f7ce7d69650> and <tensorflow.python.keras.engine.input_layer.InputLayer object at 0x7f7ced7f2e10>).\n"
          ]
        },
        {
          "output_type": "stream",
          "name": "stderr",
          "text": [
            "WARNING:tensorflow:Inconsistent references when loading the checkpoint into this object graph. Either the Trackable object references in the Python program have changed in an incompatible way, or the checkpoint was generated in an incompatible program.\n",
            "\n",
            "Two checkpoint references resolved to different objects (<tensorflow.python.keras.saving.saved_model.load.TensorFlowTransform>TransformFeaturesLayer object at 0x7f7ce7d69650> and <tensorflow.python.keras.engine.input_layer.InputLayer object at 0x7f7ced7f2e10>).\n"
          ]
        },
        {
          "output_type": "stream",
          "name": "stdout",
          "text": [
            "WARNING:tensorflow:SavedModel saved prior to TF 2.5 detected when loading Keras model. Please ensure that you are saving the model with model.save() or tf.keras.models.save_model(), *NOT* tf.saved_model.save(). To confirm, there should be a file named \"keras_metadata.pb\" in the SavedModel directory.\n"
          ]
        },
        {
          "output_type": "stream",
          "name": "stderr",
          "text": [
            "WARNING:tensorflow:SavedModel saved prior to TF 2.5 detected when loading Keras model. Please ensure that you are saving the model with model.save() or tf.keras.models.save_model(), *NOT* tf.saved_model.save(). To confirm, there should be a file named \"keras_metadata.pb\" in the SavedModel directory.\n"
          ]
        },
        {
          "output_type": "stream",
          "name": "stdout",
          "text": [
            "WARNING:tensorflow:Inconsistent references when loading the checkpoint into this object graph. Either the Trackable object references in the Python program have changed in an incompatible way, or the checkpoint was generated in an incompatible program.\n",
            "\n",
            "Two checkpoint references resolved to different objects (<tensorflow.python.keras.saving.saved_model.load.TensorFlowTransform>TransformFeaturesLayer object at 0x7f7ce0d971d0> and <tensorflow.python.keras.engine.input_layer.InputLayer object at 0x7f7ce3402850>).\n"
          ]
        },
        {
          "output_type": "stream",
          "name": "stderr",
          "text": [
            "WARNING:tensorflow:Inconsistent references when loading the checkpoint into this object graph. Either the Trackable object references in the Python program have changed in an incompatible way, or the checkpoint was generated in an incompatible program.\n",
            "\n",
            "Two checkpoint references resolved to different objects (<tensorflow.python.keras.saving.saved_model.load.TensorFlowTransform>TransformFeaturesLayer object at 0x7f7ce0d971d0> and <tensorflow.python.keras.engine.input_layer.InputLayer object at 0x7f7ce3402850>).\n"
          ]
        },
        {
          "output_type": "stream",
          "name": "stdout",
          "text": [
            "WARNING:tensorflow:SavedModel saved prior to TF 2.5 detected when loading Keras model. Please ensure that you are saving the model with model.save() or tf.keras.models.save_model(), *NOT* tf.saved_model.save(). To confirm, there should be a file named \"keras_metadata.pb\" in the SavedModel directory.\n"
          ]
        },
        {
          "output_type": "stream",
          "name": "stderr",
          "text": [
            "WARNING:tensorflow:SavedModel saved prior to TF 2.5 detected when loading Keras model. Please ensure that you are saving the model with model.save() or tf.keras.models.save_model(), *NOT* tf.saved_model.save(). To confirm, there should be a file named \"keras_metadata.pb\" in the SavedModel directory.\n"
          ]
        },
        {
          "output_type": "stream",
          "name": "stdout",
          "text": [
            "WARNING:tensorflow:Inconsistent references when loading the checkpoint into this object graph. Either the Trackable object references in the Python program have changed in an incompatible way, or the checkpoint was generated in an incompatible program.\n",
            "\n",
            "Two checkpoint references resolved to different objects (<tensorflow.python.keras.saving.saved_model.load.TensorFlowTransform>TransformFeaturesLayer object at 0x7f7ce7ac1ad0> and <tensorflow.python.keras.engine.input_layer.InputLayer object at 0x7f7cef6c6490>).\n"
          ]
        },
        {
          "output_type": "stream",
          "name": "stderr",
          "text": [
            "WARNING:tensorflow:Inconsistent references when loading the checkpoint into this object graph. Either the Trackable object references in the Python program have changed in an incompatible way, or the checkpoint was generated in an incompatible program.\n",
            "\n",
            "Two checkpoint references resolved to different objects (<tensorflow.python.keras.saving.saved_model.load.TensorFlowTransform>TransformFeaturesLayer object at 0x7f7ce7ac1ad0> and <tensorflow.python.keras.engine.input_layer.InputLayer object at 0x7f7cef6c6490>).\n"
          ]
        },
        {
          "output_type": "stream",
          "name": "stdout",
          "text": [
            "WARNING:tensorflow:SavedModel saved prior to TF 2.5 detected when loading Keras model. Please ensure that you are saving the model with model.save() or tf.keras.models.save_model(), *NOT* tf.saved_model.save(). To confirm, there should be a file named \"keras_metadata.pb\" in the SavedModel directory.\n"
          ]
        },
        {
          "output_type": "stream",
          "name": "stderr",
          "text": [
            "WARNING:tensorflow:SavedModel saved prior to TF 2.5 detected when loading Keras model. Please ensure that you are saving the model with model.save() or tf.keras.models.save_model(), *NOT* tf.saved_model.save(). To confirm, there should be a file named \"keras_metadata.pb\" in the SavedModel directory.\n"
          ]
        },
        {
          "output_type": "stream",
          "name": "stdout",
          "text": [
            "WARNING:tensorflow:Inconsistent references when loading the checkpoint into this object graph. Either the Trackable object references in the Python program have changed in an incompatible way, or the checkpoint was generated in an incompatible program.\n",
            "\n",
            "Two checkpoint references resolved to different objects (<tensorflow.python.keras.saving.saved_model.load.TensorFlowTransform>TransformFeaturesLayer object at 0x7f7ce77fb5d0> and <tensorflow.python.keras.engine.input_layer.InputLayer object at 0x7f7ce7e8e450>).\n"
          ]
        },
        {
          "output_type": "stream",
          "name": "stderr",
          "text": [
            "WARNING:tensorflow:Inconsistent references when loading the checkpoint into this object graph. Either the Trackable object references in the Python program have changed in an incompatible way, or the checkpoint was generated in an incompatible program.\n",
            "\n",
            "Two checkpoint references resolved to different objects (<tensorflow.python.keras.saving.saved_model.load.TensorFlowTransform>TransformFeaturesLayer object at 0x7f7ce77fb5d0> and <tensorflow.python.keras.engine.input_layer.InputLayer object at 0x7f7ce7e8e450>).\n"
          ]
        },
        {
          "output_type": "stream",
          "name": "stdout",
          "text": [
            "WARNING:tensorflow:SavedModel saved prior to TF 2.5 detected when loading Keras model. Please ensure that you are saving the model with model.save() or tf.keras.models.save_model(), *NOT* tf.saved_model.save(). To confirm, there should be a file named \"keras_metadata.pb\" in the SavedModel directory.\n"
          ]
        },
        {
          "output_type": "stream",
          "name": "stderr",
          "text": [
            "WARNING:tensorflow:SavedModel saved prior to TF 2.5 detected when loading Keras model. Please ensure that you are saving the model with model.save() or tf.keras.models.save_model(), *NOT* tf.saved_model.save(). To confirm, there should be a file named \"keras_metadata.pb\" in the SavedModel directory.\n"
          ]
        },
        {
          "output_type": "stream",
          "name": "stdout",
          "text": [
            "WARNING:tensorflow:Inconsistent references when loading the checkpoint into this object graph. Either the Trackable object references in the Python program have changed in an incompatible way, or the checkpoint was generated in an incompatible program.\n",
            "\n",
            "Two checkpoint references resolved to different objects (<tensorflow.python.keras.saving.saved_model.load.TensorFlowTransform>TransformFeaturesLayer object at 0x7f7ce213e910> and <tensorflow.python.keras.engine.input_layer.InputLayer object at 0x7f7ce317a810>).\n"
          ]
        },
        {
          "output_type": "stream",
          "name": "stderr",
          "text": [
            "WARNING:tensorflow:Inconsistent references when loading the checkpoint into this object graph. Either the Trackable object references in the Python program have changed in an incompatible way, or the checkpoint was generated in an incompatible program.\n",
            "\n",
            "Two checkpoint references resolved to different objects (<tensorflow.python.keras.saving.saved_model.load.TensorFlowTransform>TransformFeaturesLayer object at 0x7f7ce213e910> and <tensorflow.python.keras.engine.input_layer.InputLayer object at 0x7f7ce317a810>).\n"
          ]
        },
        {
          "output_type": "stream",
          "name": "stdout",
          "text": [
            "WARNING:tensorflow:SavedModel saved prior to TF 2.5 detected when loading Keras model. Please ensure that you are saving the model with model.save() or tf.keras.models.save_model(), *NOT* tf.saved_model.save(). To confirm, there should be a file named \"keras_metadata.pb\" in the SavedModel directory.\n"
          ]
        },
        {
          "output_type": "stream",
          "name": "stderr",
          "text": [
            "WARNING:tensorflow:SavedModel saved prior to TF 2.5 detected when loading Keras model. Please ensure that you are saving the model with model.save() or tf.keras.models.save_model(), *NOT* tf.saved_model.save(). To confirm, there should be a file named \"keras_metadata.pb\" in the SavedModel directory.\n"
          ]
        },
        {
          "output_type": "stream",
          "name": "stdout",
          "text": [
            "WARNING:tensorflow:Inconsistent references when loading the checkpoint into this object graph. Either the Trackable object references in the Python program have changed in an incompatible way, or the checkpoint was generated in an incompatible program.\n",
            "\n",
            "Two checkpoint references resolved to different objects (<tensorflow.python.keras.saving.saved_model.load.TensorFlowTransform>TransformFeaturesLayer object at 0x7f7ce2104510> and <tensorflow.python.keras.engine.input_layer.InputLayer object at 0x7f7ce27aeb50>).\n"
          ]
        },
        {
          "output_type": "stream",
          "name": "stderr",
          "text": [
            "WARNING:tensorflow:Inconsistent references when loading the checkpoint into this object graph. Either the Trackable object references in the Python program have changed in an incompatible way, or the checkpoint was generated in an incompatible program.\n",
            "\n",
            "Two checkpoint references resolved to different objects (<tensorflow.python.keras.saving.saved_model.load.TensorFlowTransform>TransformFeaturesLayer object at 0x7f7ce2104510> and <tensorflow.python.keras.engine.input_layer.InputLayer object at 0x7f7ce27aeb50>).\n",
            "WARNING:absl:Tensorflow version (2.5.1) found. Note that TFMA support for TF 2.0 is currently in beta\n"
          ]
        },
        {
          "output_type": "stream",
          "name": "stdout",
          "text": [
            "WARNING:tensorflow:SavedModel saved prior to TF 2.5 detected when loading Keras model. Please ensure that you are saving the model with model.save() or tf.keras.models.save_model(), *NOT* tf.saved_model.save(). To confirm, there should be a file named \"keras_metadata.pb\" in the SavedModel directory.\n"
          ]
        },
        {
          "output_type": "stream",
          "name": "stderr",
          "text": [
            "WARNING:tensorflow:SavedModel saved prior to TF 2.5 detected when loading Keras model. Please ensure that you are saving the model with model.save() or tf.keras.models.save_model(), *NOT* tf.saved_model.save(). To confirm, there should be a file named \"keras_metadata.pb\" in the SavedModel directory.\n"
          ]
        },
        {
          "output_type": "stream",
          "name": "stdout",
          "text": [
            "WARNING:tensorflow:Inconsistent references when loading the checkpoint into this object graph. Either the Trackable object references in the Python program have changed in an incompatible way, or the checkpoint was generated in an incompatible program.\n",
            "\n",
            "Two checkpoint references resolved to different objects (<tensorflow.python.keras.saving.saved_model.load.TensorFlowTransform>TransformFeaturesLayer object at 0x7f7ce048f610> and <tensorflow.python.keras.engine.input_layer.InputLayer object at 0x7f7ce1f517d0>).\n"
          ]
        },
        {
          "output_type": "stream",
          "name": "stderr",
          "text": [
            "WARNING:tensorflow:Inconsistent references when loading the checkpoint into this object graph. Either the Trackable object references in the Python program have changed in an incompatible way, or the checkpoint was generated in an incompatible program.\n",
            "\n",
            "Two checkpoint references resolved to different objects (<tensorflow.python.keras.saving.saved_model.load.TensorFlowTransform>TransformFeaturesLayer object at 0x7f7ce048f610> and <tensorflow.python.keras.engine.input_layer.InputLayer object at 0x7f7ce1f517d0>).\n",
            "WARNING:root:Make sure that locally built Python SDK docker image has Python 3.7 interpreter.\n"
          ]
        },
        {
          "output_type": "stream",
          "name": "stdout",
          "text": [
            "WARNING:tensorflow:SavedModel saved prior to TF 2.5 detected when loading Keras model. Please ensure that you are saving the model with model.save() or tf.keras.models.save_model(), *NOT* tf.saved_model.save(). To confirm, there should be a file named \"keras_metadata.pb\" in the SavedModel directory.\n"
          ]
        },
        {
          "output_type": "stream",
          "name": "stderr",
          "text": [
            "WARNING:tensorflow:SavedModel saved prior to TF 2.5 detected when loading Keras model. Please ensure that you are saving the model with model.save() or tf.keras.models.save_model(), *NOT* tf.saved_model.save(). To confirm, there should be a file named \"keras_metadata.pb\" in the SavedModel directory.\n"
          ]
        },
        {
          "output_type": "stream",
          "name": "stdout",
          "text": [
            "WARNING:tensorflow:Inconsistent references when loading the checkpoint into this object graph. Either the Trackable object references in the Python program have changed in an incompatible way, or the checkpoint was generated in an incompatible program.\n",
            "\n",
            "Two checkpoint references resolved to different objects (<tensorflow.python.keras.saving.saved_model.load.TensorFlowTransform>TransformFeaturesLayer object at 0x7f7ce1b9b3d0> and <tensorflow.python.keras.engine.input_layer.InputLayer object at 0x7f7ce1ea4210>).\n"
          ]
        },
        {
          "output_type": "stream",
          "name": "stderr",
          "text": [
            "WARNING:tensorflow:Inconsistent references when loading the checkpoint into this object graph. Either the Trackable object references in the Python program have changed in an incompatible way, or the checkpoint was generated in an incompatible program.\n",
            "\n",
            "Two checkpoint references resolved to different objects (<tensorflow.python.keras.saving.saved_model.load.TensorFlowTransform>TransformFeaturesLayer object at 0x7f7ce1b9b3d0> and <tensorflow.python.keras.engine.input_layer.InputLayer object at 0x7f7ce1ea4210>).\n"
          ]
        },
        {
          "output_type": "stream",
          "name": "stdout",
          "text": [
            "WARNING:tensorflow:SavedModel saved prior to TF 2.5 detected when loading Keras model. Please ensure that you are saving the model with model.save() or tf.keras.models.save_model(), *NOT* tf.saved_model.save(). To confirm, there should be a file named \"keras_metadata.pb\" in the SavedModel directory.\n"
          ]
        },
        {
          "output_type": "stream",
          "name": "stderr",
          "text": [
            "WARNING:tensorflow:SavedModel saved prior to TF 2.5 detected when loading Keras model. Please ensure that you are saving the model with model.save() or tf.keras.models.save_model(), *NOT* tf.saved_model.save(). To confirm, there should be a file named \"keras_metadata.pb\" in the SavedModel directory.\n"
          ]
        },
        {
          "output_type": "stream",
          "name": "stdout",
          "text": [
            "WARNING:tensorflow:Inconsistent references when loading the checkpoint into this object graph. Either the Trackable object references in the Python program have changed in an incompatible way, or the checkpoint was generated in an incompatible program.\n",
            "\n",
            "Two checkpoint references resolved to different objects (<tensorflow.python.keras.saving.saved_model.load.TensorFlowTransform>TransformFeaturesLayer object at 0x7f7ce7ece3d0> and <tensorflow.python.keras.engine.input_layer.InputLayer object at 0x7f7ce75cf150>).\n"
          ]
        },
        {
          "output_type": "stream",
          "name": "stderr",
          "text": [
            "WARNING:tensorflow:Inconsistent references when loading the checkpoint into this object graph. Either the Trackable object references in the Python program have changed in an incompatible way, or the checkpoint was generated in an incompatible program.\n",
            "\n",
            "Two checkpoint references resolved to different objects (<tensorflow.python.keras.saving.saved_model.load.TensorFlowTransform>TransformFeaturesLayer object at 0x7f7ce7ece3d0> and <tensorflow.python.keras.engine.input_layer.InputLayer object at 0x7f7ce75cf150>).\n"
          ]
        },
        {
          "output_type": "stream",
          "name": "stdout",
          "text": [
            "WARNING:tensorflow:SavedModel saved prior to TF 2.5 detected when loading Keras model. Please ensure that you are saving the model with model.save() or tf.keras.models.save_model(), *NOT* tf.saved_model.save(). To confirm, there should be a file named \"keras_metadata.pb\" in the SavedModel directory.\n"
          ]
        },
        {
          "output_type": "stream",
          "name": "stderr",
          "text": [
            "WARNING:tensorflow:SavedModel saved prior to TF 2.5 detected when loading Keras model. Please ensure that you are saving the model with model.save() or tf.keras.models.save_model(), *NOT* tf.saved_model.save(). To confirm, there should be a file named \"keras_metadata.pb\" in the SavedModel directory.\n"
          ]
        },
        {
          "output_type": "stream",
          "name": "stdout",
          "text": [
            "WARNING:tensorflow:Inconsistent references when loading the checkpoint into this object graph. Either the Trackable object references in the Python program have changed in an incompatible way, or the checkpoint was generated in an incompatible program.\n",
            "\n",
            "Two checkpoint references resolved to different objects (<tensorflow.python.keras.saving.saved_model.load.TensorFlowTransform>TransformFeaturesLayer object at 0x7f7ce06dd5d0> and <tensorflow.python.keras.engine.input_layer.InputLayer object at 0x7f7ce1a81c10>).\n"
          ]
        },
        {
          "output_type": "stream",
          "name": "stderr",
          "text": [
            "WARNING:tensorflow:Inconsistent references when loading the checkpoint into this object graph. Either the Trackable object references in the Python program have changed in an incompatible way, or the checkpoint was generated in an incompatible program.\n",
            "\n",
            "Two checkpoint references resolved to different objects (<tensorflow.python.keras.saving.saved_model.load.TensorFlowTransform>TransformFeaturesLayer object at 0x7f7ce06dd5d0> and <tensorflow.python.keras.engine.input_layer.InputLayer object at 0x7f7ce1a81c10>).\n"
          ]
        },
        {
          "output_type": "stream",
          "name": "stdout",
          "text": [
            "WARNING:tensorflow:SavedModel saved prior to TF 2.5 detected when loading Keras model. Please ensure that you are saving the model with model.save() or tf.keras.models.save_model(), *NOT* tf.saved_model.save(). To confirm, there should be a file named \"keras_metadata.pb\" in the SavedModel directory.\n"
          ]
        },
        {
          "output_type": "stream",
          "name": "stderr",
          "text": [
            "WARNING:tensorflow:SavedModel saved prior to TF 2.5 detected when loading Keras model. Please ensure that you are saving the model with model.save() or tf.keras.models.save_model(), *NOT* tf.saved_model.save(). To confirm, there should be a file named \"keras_metadata.pb\" in the SavedModel directory.\n"
          ]
        },
        {
          "output_type": "stream",
          "name": "stdout",
          "text": [
            "WARNING:tensorflow:Inconsistent references when loading the checkpoint into this object graph. Either the Trackable object references in the Python program have changed in an incompatible way, or the checkpoint was generated in an incompatible program.\n",
            "\n",
            "Two checkpoint references resolved to different objects (<tensorflow.python.keras.saving.saved_model.load.TensorFlowTransform>TransformFeaturesLayer object at 0x7f7ced6cca90> and <tensorflow.python.keras.engine.input_layer.InputLayer object at 0x7f7ce84a2510>).\n"
          ]
        },
        {
          "output_type": "stream",
          "name": "stderr",
          "text": [
            "WARNING:tensorflow:Inconsistent references when loading the checkpoint into this object graph. Either the Trackable object references in the Python program have changed in an incompatible way, or the checkpoint was generated in an incompatible program.\n",
            "\n",
            "Two checkpoint references resolved to different objects (<tensorflow.python.keras.saving.saved_model.load.TensorFlowTransform>TransformFeaturesLayer object at 0x7f7ced6cca90> and <tensorflow.python.keras.engine.input_layer.InputLayer object at 0x7f7ce84a2510>).\n"
          ]
        },
        {
          "output_type": "stream",
          "name": "stdout",
          "text": [
            "WARNING:tensorflow:SavedModel saved prior to TF 2.5 detected when loading Keras model. Please ensure that you are saving the model with model.save() or tf.keras.models.save_model(), *NOT* tf.saved_model.save(). To confirm, there should be a file named \"keras_metadata.pb\" in the SavedModel directory.\n"
          ]
        },
        {
          "output_type": "stream",
          "name": "stderr",
          "text": [
            "WARNING:tensorflow:SavedModel saved prior to TF 2.5 detected when loading Keras model. Please ensure that you are saving the model with model.save() or tf.keras.models.save_model(), *NOT* tf.saved_model.save(). To confirm, there should be a file named \"keras_metadata.pb\" in the SavedModel directory.\n"
          ]
        },
        {
          "output_type": "stream",
          "name": "stdout",
          "text": [
            "WARNING:tensorflow:Inconsistent references when loading the checkpoint into this object graph. Either the Trackable object references in the Python program have changed in an incompatible way, or the checkpoint was generated in an incompatible program.\n",
            "\n",
            "Two checkpoint references resolved to different objects (<tensorflow.python.keras.saving.saved_model.load.TensorFlowTransform>TransformFeaturesLayer object at 0x7f7cdfdf2fd0> and <tensorflow.python.keras.engine.input_layer.InputLayer object at 0x7f7ce10b7450>).\n"
          ]
        },
        {
          "output_type": "stream",
          "name": "stderr",
          "text": [
            "WARNING:tensorflow:Inconsistent references when loading the checkpoint into this object graph. Either the Trackable object references in the Python program have changed in an incompatible way, or the checkpoint was generated in an incompatible program.\n",
            "\n",
            "Two checkpoint references resolved to different objects (<tensorflow.python.keras.saving.saved_model.load.TensorFlowTransform>TransformFeaturesLayer object at 0x7f7cdfdf2fd0> and <tensorflow.python.keras.engine.input_layer.InputLayer object at 0x7f7ce10b7450>).\n"
          ]
        },
        {
          "output_type": "stream",
          "name": "stdout",
          "text": [
            "WARNING:tensorflow:SavedModel saved prior to TF 2.5 detected when loading Keras model. Please ensure that you are saving the model with model.save() or tf.keras.models.save_model(), *NOT* tf.saved_model.save(). To confirm, there should be a file named \"keras_metadata.pb\" in the SavedModel directory.\n"
          ]
        },
        {
          "output_type": "stream",
          "name": "stderr",
          "text": [
            "WARNING:tensorflow:SavedModel saved prior to TF 2.5 detected when loading Keras model. Please ensure that you are saving the model with model.save() or tf.keras.models.save_model(), *NOT* tf.saved_model.save(). To confirm, there should be a file named \"keras_metadata.pb\" in the SavedModel directory.\n"
          ]
        },
        {
          "output_type": "stream",
          "name": "stdout",
          "text": [
            "WARNING:tensorflow:Inconsistent references when loading the checkpoint into this object graph. Either the Trackable object references in the Python program have changed in an incompatible way, or the checkpoint was generated in an incompatible program.\n",
            "\n",
            "Two checkpoint references resolved to different objects (<tensorflow.python.keras.saving.saved_model.load.TensorFlowTransform>TransformFeaturesLayer object at 0x7f7cefa9b9d0> and <tensorflow.python.keras.engine.input_layer.InputLayer object at 0x7f7ce2cfe190>).\n"
          ]
        },
        {
          "output_type": "stream",
          "name": "stderr",
          "text": [
            "WARNING:tensorflow:Inconsistent references when loading the checkpoint into this object graph. Either the Trackable object references in the Python program have changed in an incompatible way, or the checkpoint was generated in an incompatible program.\n",
            "\n",
            "Two checkpoint references resolved to different objects (<tensorflow.python.keras.saving.saved_model.load.TensorFlowTransform>TransformFeaturesLayer object at 0x7f7cefa9b9d0> and <tensorflow.python.keras.engine.input_layer.InputLayer object at 0x7f7ce2cfe190>).\n"
          ]
        }
      ]
    },
    {
      "cell_type": "markdown",
      "metadata": {
        "id": "RsO-gqCRK0ar"
      },
      "source": [
        "First, imagine that you've trained and deployed your model yesterday. And now, you want to see how it's doing on the new data coming in today.  The visualization will start by displaying AUC. From the UI, you can:\n",
        "\n",
        "* Add other metrics using the \"Add metric series\" menu.\n",
        "* Close unwanted graphs by clicking on x\n",
        "* Hover over data points (the ends of line segments in the graph) to get more details\n",
        "\n",
        "Note: In the metric series charts, the x-axis is just the model directory name of the model that you're examining."
      ]
    },
    {
      "cell_type": "code",
      "metadata": {
        "id": "KjEws8T0cDm9",
        "colab": {
          "base_uri": "https://localhost:8080/",
          "height": 17
        },
        "outputId": "9a2be41e-c42a-4f38-8db1-e5c206c1a281"
      },
      "source": [
        "# Load results for day 1 and day 2 datasets\n",
        "eval_results_from_disk = tfma.load_eval_results(output_paths[:2])\n",
        "\n",
        "# Visualize results\n",
        "tfma.view.render_time_series(eval_results_from_disk)"
      ],
      "execution_count": 26,
      "outputs": [
        {
          "output_type": "display_data",
          "data": {
            "text/html": [
              "\n",
              "          <script src=\"/nbextensions/tensorflow_model_analysis/vulcanized_tfma.js\">\n",
              "          </script>\n",
              "          <tfma-nb-time-series id=\"component\"></tfma-nb-time-series>\n",
              "          <script>\n",
              "          const element = document.getElementById('component');\n",
              "\n",
              "          /** No event handlers needed. */\n",
              "\n",
              "          element.config = JSON.parse('{\"isModelCentric\": true}');\n",
              "          element.data = JSON.parse('[{\"metrics\": {\"\": {\"\": {\"binary_accuracy\": {\"doubleValue\": 0.8289999961853027}, \"loss\": {\"doubleValue\": 0.6020519137382507}, \"binary_crossentropy\": {\"doubleValue\": 0.6020519137382507}, \"example_count\": {\"doubleValue\": 5000.0}, \"auc\": {\"doubleValue\": 0.8596516251564026}, \"auc_precision_recall\": {\"doubleValue\": 0.64573073387146}, \"precision\": {\"doubleValue\": 0.6439600586891174}, \"recall\": {\"doubleValue\": 0.6049488186836243}, \"mean_label\": {\"doubleValue\": 0.2344}, \"mean_prediction\": {\"doubleValue\": 0.23845770331134572}, \"calibration\": {\"doubleValue\": 1.0173110209528402}}}}, \"config\": {\"modelIdentifier\": \"model1\", \"dataIdentifier\": \"data_test_1.tfrecord\"}}, {\"metrics\": {\"\": {\"\": {\"binary_accuracy\": {\"doubleValue\": 0.828365683555603}, \"loss\": {\"doubleValue\": 0.5892404317855835}, \"binary_crossentropy\": {\"doubleValue\": 0.5892404317855835}, \"example_count\": {\"doubleValue\": 4999.0}, \"auc\": {\"doubleValue\": 0.8617693781852722}, \"auc_precision_recall\": {\"doubleValue\": 0.6561806201934814}, \"precision\": {\"doubleValue\": 0.6447601914405823}, \"recall\": {\"doubleValue\": 0.6131756901741028}, \"mean_label\": {\"doubleValue\": 0.2368473694738948}, \"mean_prediction\": {\"doubleValue\": 0.2472650257529241}, \"calibration\": {\"doubleValue\": 1.0439846822118815}}}}, \"config\": {\"modelIdentifier\": \"model1\", \"dataIdentifier\": \"data_test_2.tfrecord\"}}]');\n",
              "          </script>\n",
              "          "
            ],
            "text/plain": [
              "<IPython.core.display.HTML object>"
            ]
          },
          "metadata": {}
        }
      ]
    },
    {
      "cell_type": "markdown",
      "metadata": {
        "id": "EQ7kZxESN9Bx"
      },
      "source": [
        "Now imagine that another day has passed and you want to see how it's doing on the new data coming in today."
      ]
    },
    {
      "cell_type": "code",
      "metadata": {
        "id": "VjQmlXMmLwHf",
        "colab": {
          "base_uri": "https://localhost:8080/",
          "height": 17
        },
        "outputId": "3a54f55b-e43d-4c36-e7d1-9abcad447854"
      },
      "source": [
        "# Load results for all three days\n",
        "eval_results_from_disk = tfma.load_eval_results(output_paths)\n",
        "\n",
        "# Visualize the results\n",
        "tfma.view.render_time_series(eval_results_from_disk)"
      ],
      "execution_count": 27,
      "outputs": [
        {
          "output_type": "display_data",
          "data": {
            "text/html": [
              "\n",
              "          <script src=\"/nbextensions/tensorflow_model_analysis/vulcanized_tfma.js\">\n",
              "          </script>\n",
              "          <tfma-nb-time-series id=\"component\"></tfma-nb-time-series>\n",
              "          <script>\n",
              "          const element = document.getElementById('component');\n",
              "\n",
              "          /** No event handlers needed. */\n",
              "\n",
              "          element.config = JSON.parse('{\"isModelCentric\": true}');\n",
              "          element.data = JSON.parse('[{\"metrics\": {\"\": {\"\": {\"binary_accuracy\": {\"doubleValue\": 0.8289999961853027}, \"loss\": {\"doubleValue\": 0.6020519137382507}, \"binary_crossentropy\": {\"doubleValue\": 0.6020519137382507}, \"example_count\": {\"doubleValue\": 5000.0}, \"auc\": {\"doubleValue\": 0.8596516251564026}, \"auc_precision_recall\": {\"doubleValue\": 0.64573073387146}, \"precision\": {\"doubleValue\": 0.6439600586891174}, \"recall\": {\"doubleValue\": 0.6049488186836243}, \"mean_label\": {\"doubleValue\": 0.2344}, \"mean_prediction\": {\"doubleValue\": 0.23845770331134572}, \"calibration\": {\"doubleValue\": 1.0173110209528402}}}}, \"config\": {\"modelIdentifier\": \"model1\", \"dataIdentifier\": \"data_test_1.tfrecord\"}}, {\"metrics\": {\"\": {\"\": {\"binary_accuracy\": {\"doubleValue\": 0.828365683555603}, \"loss\": {\"doubleValue\": 0.5892404317855835}, \"binary_crossentropy\": {\"doubleValue\": 0.5892404317855835}, \"example_count\": {\"doubleValue\": 4999.0}, \"auc\": {\"doubleValue\": 0.8617693781852722}, \"auc_precision_recall\": {\"doubleValue\": 0.6561806201934814}, \"precision\": {\"doubleValue\": 0.6447601914405823}, \"recall\": {\"doubleValue\": 0.6131756901741028}, \"mean_label\": {\"doubleValue\": 0.2368473694738948}, \"mean_prediction\": {\"doubleValue\": 0.2472650257529241}, \"calibration\": {\"doubleValue\": 1.0439846822118815}}}}, \"config\": {\"modelIdentifier\": \"model1\", \"dataIdentifier\": \"data_test_2.tfrecord\"}}, {\"metrics\": {\"\": {\"\": {\"binary_accuracy\": {\"doubleValue\": 0.8269653916358948}, \"loss\": {\"doubleValue\": 0.6514238119125366}, \"binary_crossentropy\": {\"doubleValue\": 0.6514238119125366}, \"example_count\": {\"doubleValue\": 4999.0}, \"auc\": {\"doubleValue\": 0.8479070663452148}, \"auc_precision_recall\": {\"doubleValue\": 0.631759524345398}, \"precision\": {\"doubleValue\": 0.6469026803970337}, \"recall\": {\"doubleValue\": 0.6106933951377869}, \"mean_label\": {\"doubleValue\": 0.23944788957791557}, \"mean_prediction\": {\"doubleValue\": 0.24988481281795452}, \"calibration\": {\"doubleValue\": 1.0435874513591936}}}}, \"config\": {\"modelIdentifier\": \"model1\", \"dataIdentifier\": \"data_test_3.tfrecord\"}}]');\n",
              "          </script>\n",
              "          "
            ],
            "text/plain": [
              "<IPython.core.display.HTML object>"
            ]
          },
          "metadata": {}
        }
      ]
    },
    {
      "cell_type": "markdown",
      "metadata": {
        "id": "oWD68u-emPN9"
      },
      "source": [
        "This type of investigation lets you see if your model is behaving poorly on new data. You can make the decision to retrain your production model based on these results. Retraining might not always produce the best results and you also need a way to detect that. You will see how TFMA helps in that regard in the next section."
      ]
    },
    {
      "cell_type": "markdown",
      "metadata": {
        "id": "N1jpShgQxlVL"
      },
      "source": [
        "## Model Validation\n",
        "\n",
        "TFMA can be configured to evaluate multiple models at the same time. Typically, this is done to compare a candidate model against a baseline (such as the currently serving model) to determine what the performance differences in metrics are. When [thresholds](https://www.tensorflow.org/tfx/model_analysis/api_docs/python/tfma/MetricThreshold) are configured, TFMA will produce a [`tfma.ValidationResult`](https://www.tensorflow.org/tfx/model_analysis/api_docs/python/tfma/ValidationResult) record indicating whether the performance matches expecations.\n",
        "\n",
        "Below, you will re-configure the EvalConfig settings to compare two models: a candidate and a baseline. You will also validate the candidate's performance against the baseline by setting a [`tmfa.MetricThreshold`](https://www.tensorflow.org/tfx/model_analysis/api_docs/python/tfma/MetricThreshold) on the `BinaryAccuracy` metric. This helps in determining if your new model can indeed replace your currently deployed model."
      ]
    },
    {
      "cell_type": "code",
      "metadata": {
        "id": "kkatdR6Y1-4G",
        "colab": {
          "base_uri": "https://localhost:8080/"
        },
        "outputId": "b09f62e9-6c17-4986-d6ab-2898a6a23829"
      },
      "source": [
        "# Setup tfma.EvalConfig setting with metric thresholds\n",
        "eval_config_with_thresholds = text_format.Parse(\"\"\"\n",
        "  ## Model information\n",
        "  model_specs {\n",
        "    name: \"candidate\"\n",
        "    label_key: \"label\"\n",
        "  }\n",
        "  model_specs {\n",
        "    name: \"baseline\"\n",
        "    label_key: \"label\"\n",
        "    is_baseline: true\n",
        "  }\n",
        "\n",
        "  ## Post training metric information\n",
        "  metrics_specs {\n",
        "    metrics { class_name: \"ExampleCount\" }\n",
        "    metrics {\n",
        "      class_name: \"BinaryAccuracy\"\n",
        "      threshold {\n",
        "        # Ensure that metric is always > 0.9\n",
        "        value_threshold {\n",
        "          lower_bound { value: 0.9 }\n",
        "        }\n",
        "        # Ensure that metric does not drop by more than a small epsilon\n",
        "        # e.g. (candidate - baseline) > -1e-10 or candidate > baseline - 1e-10\n",
        "        change_threshold {\n",
        "          direction: HIGHER_IS_BETTER\n",
        "          absolute { value: -1e-10 }\n",
        "        }\n",
        "      }\n",
        "    }\n",
        "    metrics { class_name: \"BinaryCrossentropy\" }\n",
        "    metrics { class_name: \"AUC\" }\n",
        "    metrics { class_name: \"AUCPrecisionRecall\" }\n",
        "    metrics { class_name: \"Precision\" }\n",
        "    metrics { class_name: \"Recall\" }\n",
        "    metrics { class_name: \"MeanLabel\" }\n",
        "    metrics { class_name: \"MeanPrediction\" }\n",
        "    metrics { class_name: \"Calibration\" }\n",
        "    metrics { class_name: \"CalibrationPlot\" }\n",
        "    metrics { class_name: \"ConfusionMatrixPlot\" }\n",
        "    # ... add additional metrics and plots ...\n",
        "  }\n",
        "\n",
        "  ## Slicing information\n",
        "  slicing_specs {}  # overall slice\n",
        "  slicing_specs {\n",
        "    feature_keys: [\"race\"]\n",
        "  }\n",
        "  slicing_specs {\n",
        "    feature_keys: [\"sex\"]\n",
        "  }\n",
        "\"\"\", tfma.EvalConfig())\n",
        "\n",
        "# Create tfma.EvalSharedModels that points to the candidate and baseline\n",
        "candidate_model_path = MODEL1_FILE\n",
        "baseline_model_path = MODEL2_FILE\n",
        "\n",
        "eval_shared_models = [\n",
        "  tfma.default_eval_shared_model(\n",
        "      model_name=tfma.CANDIDATE_KEY,\n",
        "      eval_saved_model_path=candidate_model_path,\n",
        "      eval_config=eval_config_with_thresholds),\n",
        "  tfma.default_eval_shared_model(\n",
        "      model_name=tfma.BASELINE_KEY,\n",
        "      eval_saved_model_path=baseline_model_path,\n",
        "      eval_config=eval_config_with_thresholds),\n",
        "]\n",
        "\n",
        "# Specify validation path\n",
        "validation_output_path = os.path.join(OUTPUT_DIR, 'validation')\n",
        "\n",
        "# Run TFMA on the two models\n",
        "eval_result_with_validation = tfma.run_model_analysis(\n",
        "    eval_shared_models,\n",
        "    eval_config=eval_config_with_thresholds,\n",
        "    data_location=TFRECORD_FULL,\n",
        "    output_path=validation_output_path)"
      ],
      "execution_count": 28,
      "outputs": [
        {
          "output_type": "stream",
          "name": "stdout",
          "text": [
            "WARNING:tensorflow:SavedModel saved prior to TF 2.5 detected when loading Keras model. Please ensure that you are saving the model with model.save() or tf.keras.models.save_model(), *NOT* tf.saved_model.save(). To confirm, there should be a file named \"keras_metadata.pb\" in the SavedModel directory.\n"
          ]
        },
        {
          "output_type": "stream",
          "name": "stderr",
          "text": [
            "WARNING:tensorflow:SavedModel saved prior to TF 2.5 detected when loading Keras model. Please ensure that you are saving the model with model.save() or tf.keras.models.save_model(), *NOT* tf.saved_model.save(). To confirm, there should be a file named \"keras_metadata.pb\" in the SavedModel directory.\n"
          ]
        },
        {
          "output_type": "stream",
          "name": "stdout",
          "text": [
            "WARNING:tensorflow:Inconsistent references when loading the checkpoint into this object graph. Either the Trackable object references in the Python program have changed in an incompatible way, or the checkpoint was generated in an incompatible program.\n",
            "\n",
            "Two checkpoint references resolved to different objects (<tensorflow.python.keras.saving.saved_model.load.TensorFlowTransform>TransformFeaturesLayer object at 0x7f7ce3283f50> and <tensorflow.python.keras.engine.input_layer.InputLayer object at 0x7f7cefb37410>).\n"
          ]
        },
        {
          "output_type": "stream",
          "name": "stderr",
          "text": [
            "WARNING:tensorflow:Inconsistent references when loading the checkpoint into this object graph. Either the Trackable object references in the Python program have changed in an incompatible way, or the checkpoint was generated in an incompatible program.\n",
            "\n",
            "Two checkpoint references resolved to different objects (<tensorflow.python.keras.saving.saved_model.load.TensorFlowTransform>TransformFeaturesLayer object at 0x7f7ce3283f50> and <tensorflow.python.keras.engine.input_layer.InputLayer object at 0x7f7cefb37410>).\n"
          ]
        },
        {
          "output_type": "stream",
          "name": "stdout",
          "text": [
            "WARNING:tensorflow:SavedModel saved prior to TF 2.5 detected when loading Keras model. Please ensure that you are saving the model with model.save() or tf.keras.models.save_model(), *NOT* tf.saved_model.save(). To confirm, there should be a file named \"keras_metadata.pb\" in the SavedModel directory.\n"
          ]
        },
        {
          "output_type": "stream",
          "name": "stderr",
          "text": [
            "WARNING:tensorflow:SavedModel saved prior to TF 2.5 detected when loading Keras model. Please ensure that you are saving the model with model.save() or tf.keras.models.save_model(), *NOT* tf.saved_model.save(). To confirm, there should be a file named \"keras_metadata.pb\" in the SavedModel directory.\n"
          ]
        },
        {
          "output_type": "stream",
          "name": "stdout",
          "text": [
            "WARNING:tensorflow:Inconsistent references when loading the checkpoint into this object graph. Either the Trackable object references in the Python program have changed in an incompatible way, or the checkpoint was generated in an incompatible program.\n",
            "\n",
            "Two checkpoint references resolved to different objects (<tensorflow.python.keras.saving.saved_model.load.TensorFlowTransform>TransformFeaturesLayer object at 0x7f7ce79cd950> and <tensorflow.python.keras.engine.input_layer.InputLayer object at 0x7f7cee5774d0>).\n"
          ]
        },
        {
          "output_type": "stream",
          "name": "stderr",
          "text": [
            "WARNING:tensorflow:Inconsistent references when loading the checkpoint into this object graph. Either the Trackable object references in the Python program have changed in an incompatible way, or the checkpoint was generated in an incompatible program.\n",
            "\n",
            "Two checkpoint references resolved to different objects (<tensorflow.python.keras.saving.saved_model.load.TensorFlowTransform>TransformFeaturesLayer object at 0x7f7ce79cd950> and <tensorflow.python.keras.engine.input_layer.InputLayer object at 0x7f7cee5774d0>).\n",
            "WARNING:absl:Tensorflow version (2.5.1) found. Note that TFMA support for TF 2.0 is currently in beta\n"
          ]
        },
        {
          "output_type": "stream",
          "name": "stdout",
          "text": [
            "WARNING:tensorflow:SavedModel saved prior to TF 2.5 detected when loading Keras model. Please ensure that you are saving the model with model.save() or tf.keras.models.save_model(), *NOT* tf.saved_model.save(). To confirm, there should be a file named \"keras_metadata.pb\" in the SavedModel directory.\n"
          ]
        },
        {
          "output_type": "stream",
          "name": "stderr",
          "text": [
            "WARNING:tensorflow:SavedModel saved prior to TF 2.5 detected when loading Keras model. Please ensure that you are saving the model with model.save() or tf.keras.models.save_model(), *NOT* tf.saved_model.save(). To confirm, there should be a file named \"keras_metadata.pb\" in the SavedModel directory.\n"
          ]
        },
        {
          "output_type": "stream",
          "name": "stdout",
          "text": [
            "WARNING:tensorflow:Inconsistent references when loading the checkpoint into this object graph. Either the Trackable object references in the Python program have changed in an incompatible way, or the checkpoint was generated in an incompatible program.\n",
            "\n",
            "Two checkpoint references resolved to different objects (<tensorflow.python.keras.saving.saved_model.load.TensorFlowTransform>TransformFeaturesLayer object at 0x7f7ce211bc50> and <tensorflow.python.keras.engine.input_layer.InputLayer object at 0x7f7ce7414910>).\n"
          ]
        },
        {
          "output_type": "stream",
          "name": "stderr",
          "text": [
            "WARNING:tensorflow:Inconsistent references when loading the checkpoint into this object graph. Either the Trackable object references in the Python program have changed in an incompatible way, or the checkpoint was generated in an incompatible program.\n",
            "\n",
            "Two checkpoint references resolved to different objects (<tensorflow.python.keras.saving.saved_model.load.TensorFlowTransform>TransformFeaturesLayer object at 0x7f7ce211bc50> and <tensorflow.python.keras.engine.input_layer.InputLayer object at 0x7f7ce7414910>).\n"
          ]
        },
        {
          "output_type": "stream",
          "name": "stdout",
          "text": [
            "WARNING:tensorflow:SavedModel saved prior to TF 2.5 detected when loading Keras model. Please ensure that you are saving the model with model.save() or tf.keras.models.save_model(), *NOT* tf.saved_model.save(). To confirm, there should be a file named \"keras_metadata.pb\" in the SavedModel directory.\n"
          ]
        },
        {
          "output_type": "stream",
          "name": "stderr",
          "text": [
            "WARNING:tensorflow:SavedModel saved prior to TF 2.5 detected when loading Keras model. Please ensure that you are saving the model with model.save() or tf.keras.models.save_model(), *NOT* tf.saved_model.save(). To confirm, there should be a file named \"keras_metadata.pb\" in the SavedModel directory.\n"
          ]
        },
        {
          "output_type": "stream",
          "name": "stdout",
          "text": [
            "WARNING:tensorflow:Inconsistent references when loading the checkpoint into this object graph. Either the Trackable object references in the Python program have changed in an incompatible way, or the checkpoint was generated in an incompatible program.\n",
            "\n",
            "Two checkpoint references resolved to different objects (<tensorflow.python.keras.saving.saved_model.load.TensorFlowTransform>TransformFeaturesLayer object at 0x7f7ce0814dd0> and <tensorflow.python.keras.engine.input_layer.InputLayer object at 0x7f7cdfe59490>).\n"
          ]
        },
        {
          "output_type": "stream",
          "name": "stderr",
          "text": [
            "WARNING:tensorflow:Inconsistent references when loading the checkpoint into this object graph. Either the Trackable object references in the Python program have changed in an incompatible way, or the checkpoint was generated in an incompatible program.\n",
            "\n",
            "Two checkpoint references resolved to different objects (<tensorflow.python.keras.saving.saved_model.load.TensorFlowTransform>TransformFeaturesLayer object at 0x7f7ce0814dd0> and <tensorflow.python.keras.engine.input_layer.InputLayer object at 0x7f7cdfe59490>).\n",
            "WARNING:root:Make sure that locally built Python SDK docker image has Python 3.7 interpreter.\n"
          ]
        },
        {
          "output_type": "stream",
          "name": "stdout",
          "text": [
            "WARNING:tensorflow:SavedModel saved prior to TF 2.5 detected when loading Keras model. Please ensure that you are saving the model with model.save() or tf.keras.models.save_model(), *NOT* tf.saved_model.save(). To confirm, there should be a file named \"keras_metadata.pb\" in the SavedModel directory.\n"
          ]
        },
        {
          "output_type": "stream",
          "name": "stderr",
          "text": [
            "WARNING:tensorflow:SavedModel saved prior to TF 2.5 detected when loading Keras model. Please ensure that you are saving the model with model.save() or tf.keras.models.save_model(), *NOT* tf.saved_model.save(). To confirm, there should be a file named \"keras_metadata.pb\" in the SavedModel directory.\n"
          ]
        },
        {
          "output_type": "stream",
          "name": "stdout",
          "text": [
            "WARNING:tensorflow:Inconsistent references when loading the checkpoint into this object graph. Either the Trackable object references in the Python program have changed in an incompatible way, or the checkpoint was generated in an incompatible program.\n",
            "\n",
            "Two checkpoint references resolved to different objects (<tensorflow.python.keras.saving.saved_model.load.TensorFlowTransform>TransformFeaturesLayer object at 0x7f7cdde4fd10> and <tensorflow.python.keras.engine.input_layer.InputLayer object at 0x7f7ceed37f50>).\n"
          ]
        },
        {
          "output_type": "stream",
          "name": "stderr",
          "text": [
            "WARNING:tensorflow:Inconsistent references when loading the checkpoint into this object graph. Either the Trackable object references in the Python program have changed in an incompatible way, or the checkpoint was generated in an incompatible program.\n",
            "\n",
            "Two checkpoint references resolved to different objects (<tensorflow.python.keras.saving.saved_model.load.TensorFlowTransform>TransformFeaturesLayer object at 0x7f7cdde4fd10> and <tensorflow.python.keras.engine.input_layer.InputLayer object at 0x7f7ceed37f50>).\n"
          ]
        },
        {
          "output_type": "stream",
          "name": "stdout",
          "text": [
            "WARNING:tensorflow:SavedModel saved prior to TF 2.5 detected when loading Keras model. Please ensure that you are saving the model with model.save() or tf.keras.models.save_model(), *NOT* tf.saved_model.save(). To confirm, there should be a file named \"keras_metadata.pb\" in the SavedModel directory.\n"
          ]
        },
        {
          "output_type": "stream",
          "name": "stderr",
          "text": [
            "WARNING:tensorflow:SavedModel saved prior to TF 2.5 detected when loading Keras model. Please ensure that you are saving the model with model.save() or tf.keras.models.save_model(), *NOT* tf.saved_model.save(). To confirm, there should be a file named \"keras_metadata.pb\" in the SavedModel directory.\n"
          ]
        },
        {
          "output_type": "stream",
          "name": "stdout",
          "text": [
            "WARNING:tensorflow:Inconsistent references when loading the checkpoint into this object graph. Either the Trackable object references in the Python program have changed in an incompatible way, or the checkpoint was generated in an incompatible program.\n",
            "\n",
            "Two checkpoint references resolved to different objects (<tensorflow.python.keras.saving.saved_model.load.TensorFlowTransform>TransformFeaturesLayer object at 0x7f7ce7d219d0> and <tensorflow.python.keras.engine.input_layer.InputLayer object at 0x7f7ce2901c90>).\n"
          ]
        },
        {
          "output_type": "stream",
          "name": "stderr",
          "text": [
            "WARNING:tensorflow:Inconsistent references when loading the checkpoint into this object graph. Either the Trackable object references in the Python program have changed in an incompatible way, or the checkpoint was generated in an incompatible program.\n",
            "\n",
            "Two checkpoint references resolved to different objects (<tensorflow.python.keras.saving.saved_model.load.TensorFlowTransform>TransformFeaturesLayer object at 0x7f7ce7d219d0> and <tensorflow.python.keras.engine.input_layer.InputLayer object at 0x7f7ce2901c90>).\n"
          ]
        },
        {
          "output_type": "stream",
          "name": "stdout",
          "text": [
            "WARNING:tensorflow:SavedModel saved prior to TF 2.5 detected when loading Keras model. Please ensure that you are saving the model with model.save() or tf.keras.models.save_model(), *NOT* tf.saved_model.save(). To confirm, there should be a file named \"keras_metadata.pb\" in the SavedModel directory.\n"
          ]
        },
        {
          "output_type": "stream",
          "name": "stderr",
          "text": [
            "WARNING:tensorflow:SavedModel saved prior to TF 2.5 detected when loading Keras model. Please ensure that you are saving the model with model.save() or tf.keras.models.save_model(), *NOT* tf.saved_model.save(). To confirm, there should be a file named \"keras_metadata.pb\" in the SavedModel directory.\n"
          ]
        },
        {
          "output_type": "stream",
          "name": "stdout",
          "text": [
            "WARNING:tensorflow:Inconsistent references when loading the checkpoint into this object graph. Either the Trackable object references in the Python program have changed in an incompatible way, or the checkpoint was generated in an incompatible program.\n",
            "\n",
            "Two checkpoint references resolved to different objects (<tensorflow.python.keras.saving.saved_model.load.TensorFlowTransform>TransformFeaturesLayer object at 0x7f7ce81e1bd0> and <tensorflow.python.keras.engine.input_layer.InputLayer object at 0x7f7ce7adf950>).\n"
          ]
        },
        {
          "output_type": "stream",
          "name": "stderr",
          "text": [
            "WARNING:tensorflow:Inconsistent references when loading the checkpoint into this object graph. Either the Trackable object references in the Python program have changed in an incompatible way, or the checkpoint was generated in an incompatible program.\n",
            "\n",
            "Two checkpoint references resolved to different objects (<tensorflow.python.keras.saving.saved_model.load.TensorFlowTransform>TransformFeaturesLayer object at 0x7f7ce81e1bd0> and <tensorflow.python.keras.engine.input_layer.InputLayer object at 0x7f7ce7adf950>).\n"
          ]
        },
        {
          "output_type": "stream",
          "name": "stdout",
          "text": [
            "WARNING:tensorflow:SavedModel saved prior to TF 2.5 detected when loading Keras model. Please ensure that you are saving the model with model.save() or tf.keras.models.save_model(), *NOT* tf.saved_model.save(). To confirm, there should be a file named \"keras_metadata.pb\" in the SavedModel directory.\n"
          ]
        },
        {
          "output_type": "stream",
          "name": "stderr",
          "text": [
            "WARNING:tensorflow:SavedModel saved prior to TF 2.5 detected when loading Keras model. Please ensure that you are saving the model with model.save() or tf.keras.models.save_model(), *NOT* tf.saved_model.save(). To confirm, there should be a file named \"keras_metadata.pb\" in the SavedModel directory.\n"
          ]
        },
        {
          "output_type": "stream",
          "name": "stdout",
          "text": [
            "WARNING:tensorflow:Inconsistent references when loading the checkpoint into this object graph. Either the Trackable object references in the Python program have changed in an incompatible way, or the checkpoint was generated in an incompatible program.\n",
            "\n",
            "Two checkpoint references resolved to different objects (<tensorflow.python.keras.saving.saved_model.load.TensorFlowTransform>TransformFeaturesLayer object at 0x7f7ce0a7aad0> and <tensorflow.python.keras.engine.input_layer.InputLayer object at 0x7f7ce7570e90>).\n"
          ]
        },
        {
          "output_type": "stream",
          "name": "stderr",
          "text": [
            "WARNING:tensorflow:Inconsistent references when loading the checkpoint into this object graph. Either the Trackable object references in the Python program have changed in an incompatible way, or the checkpoint was generated in an incompatible program.\n",
            "\n",
            "Two checkpoint references resolved to different objects (<tensorflow.python.keras.saving.saved_model.load.TensorFlowTransform>TransformFeaturesLayer object at 0x7f7ce0a7aad0> and <tensorflow.python.keras.engine.input_layer.InputLayer object at 0x7f7ce7570e90>).\n"
          ]
        },
        {
          "output_type": "stream",
          "name": "stdout",
          "text": [
            "WARNING:tensorflow:SavedModel saved prior to TF 2.5 detected when loading Keras model. Please ensure that you are saving the model with model.save() or tf.keras.models.save_model(), *NOT* tf.saved_model.save(). To confirm, there should be a file named \"keras_metadata.pb\" in the SavedModel directory.\n"
          ]
        },
        {
          "output_type": "stream",
          "name": "stderr",
          "text": [
            "WARNING:tensorflow:SavedModel saved prior to TF 2.5 detected when loading Keras model. Please ensure that you are saving the model with model.save() or tf.keras.models.save_model(), *NOT* tf.saved_model.save(). To confirm, there should be a file named \"keras_metadata.pb\" in the SavedModel directory.\n"
          ]
        },
        {
          "output_type": "stream",
          "name": "stdout",
          "text": [
            "WARNING:tensorflow:Inconsistent references when loading the checkpoint into this object graph. Either the Trackable object references in the Python program have changed in an incompatible way, or the checkpoint was generated in an incompatible program.\n",
            "\n",
            "Two checkpoint references resolved to different objects (<tensorflow.python.keras.saving.saved_model.load.TensorFlowTransform>TransformFeaturesLayer object at 0x7f7ce3421250> and <tensorflow.python.keras.engine.input_layer.InputLayer object at 0x7f7ce86663d0>).\n"
          ]
        },
        {
          "output_type": "stream",
          "name": "stderr",
          "text": [
            "WARNING:tensorflow:Inconsistent references when loading the checkpoint into this object graph. Either the Trackable object references in the Python program have changed in an incompatible way, or the checkpoint was generated in an incompatible program.\n",
            "\n",
            "Two checkpoint references resolved to different objects (<tensorflow.python.keras.saving.saved_model.load.TensorFlowTransform>TransformFeaturesLayer object at 0x7f7ce3421250> and <tensorflow.python.keras.engine.input_layer.InputLayer object at 0x7f7ce86663d0>).\n"
          ]
        },
        {
          "output_type": "stream",
          "name": "stdout",
          "text": [
            "WARNING:tensorflow:SavedModel saved prior to TF 2.5 detected when loading Keras model. Please ensure that you are saving the model with model.save() or tf.keras.models.save_model(), *NOT* tf.saved_model.save(). To confirm, there should be a file named \"keras_metadata.pb\" in the SavedModel directory.\n"
          ]
        },
        {
          "output_type": "stream",
          "name": "stderr",
          "text": [
            "WARNING:tensorflow:SavedModel saved prior to TF 2.5 detected when loading Keras model. Please ensure that you are saving the model with model.save() or tf.keras.models.save_model(), *NOT* tf.saved_model.save(). To confirm, there should be a file named \"keras_metadata.pb\" in the SavedModel directory.\n"
          ]
        },
        {
          "output_type": "stream",
          "name": "stdout",
          "text": [
            "WARNING:tensorflow:Inconsistent references when loading the checkpoint into this object graph. Either the Trackable object references in the Python program have changed in an incompatible way, or the checkpoint was generated in an incompatible program.\n",
            "\n",
            "Two checkpoint references resolved to different objects (<tensorflow.python.keras.saving.saved_model.load.TensorFlowTransform>TransformFeaturesLayer object at 0x7f7cef8a3310> and <tensorflow.python.keras.engine.input_layer.InputLayer object at 0x7f7ce679edd0>).\n"
          ]
        },
        {
          "output_type": "stream",
          "name": "stderr",
          "text": [
            "WARNING:tensorflow:Inconsistent references when loading the checkpoint into this object graph. Either the Trackable object references in the Python program have changed in an incompatible way, or the checkpoint was generated in an incompatible program.\n",
            "\n",
            "Two checkpoint references resolved to different objects (<tensorflow.python.keras.saving.saved_model.load.TensorFlowTransform>TransformFeaturesLayer object at 0x7f7cef8a3310> and <tensorflow.python.keras.engine.input_layer.InputLayer object at 0x7f7ce679edd0>).\n"
          ]
        },
        {
          "output_type": "stream",
          "name": "stdout",
          "text": [
            "WARNING:tensorflow:SavedModel saved prior to TF 2.5 detected when loading Keras model. Please ensure that you are saving the model with model.save() or tf.keras.models.save_model(), *NOT* tf.saved_model.save(). To confirm, there should be a file named \"keras_metadata.pb\" in the SavedModel directory.\n"
          ]
        },
        {
          "output_type": "stream",
          "name": "stderr",
          "text": [
            "WARNING:tensorflow:SavedModel saved prior to TF 2.5 detected when loading Keras model. Please ensure that you are saving the model with model.save() or tf.keras.models.save_model(), *NOT* tf.saved_model.save(). To confirm, there should be a file named \"keras_metadata.pb\" in the SavedModel directory.\n"
          ]
        },
        {
          "output_type": "stream",
          "name": "stdout",
          "text": [
            "WARNING:tensorflow:Inconsistent references when loading the checkpoint into this object graph. Either the Trackable object references in the Python program have changed in an incompatible way, or the checkpoint was generated in an incompatible program.\n",
            "\n",
            "Two checkpoint references resolved to different objects (<tensorflow.python.keras.saving.saved_model.load.TensorFlowTransform>TransformFeaturesLayer object at 0x7f7cedb7f410> and <tensorflow.python.keras.engine.input_layer.InputLayer object at 0x7f7ceda75850>).\n"
          ]
        },
        {
          "output_type": "stream",
          "name": "stderr",
          "text": [
            "WARNING:tensorflow:Inconsistent references when loading the checkpoint into this object graph. Either the Trackable object references in the Python program have changed in an incompatible way, or the checkpoint was generated in an incompatible program.\n",
            "\n",
            "Two checkpoint references resolved to different objects (<tensorflow.python.keras.saving.saved_model.load.TensorFlowTransform>TransformFeaturesLayer object at 0x7f7cedb7f410> and <tensorflow.python.keras.engine.input_layer.InputLayer object at 0x7f7ceda75850>).\n"
          ]
        },
        {
          "output_type": "stream",
          "name": "stdout",
          "text": [
            "WARNING:tensorflow:SavedModel saved prior to TF 2.5 detected when loading Keras model. Please ensure that you are saving the model with model.save() or tf.keras.models.save_model(), *NOT* tf.saved_model.save(). To confirm, there should be a file named \"keras_metadata.pb\" in the SavedModel directory.\n"
          ]
        },
        {
          "output_type": "stream",
          "name": "stderr",
          "text": [
            "WARNING:tensorflow:SavedModel saved prior to TF 2.5 detected when loading Keras model. Please ensure that you are saving the model with model.save() or tf.keras.models.save_model(), *NOT* tf.saved_model.save(). To confirm, there should be a file named \"keras_metadata.pb\" in the SavedModel directory.\n"
          ]
        },
        {
          "output_type": "stream",
          "name": "stdout",
          "text": [
            "WARNING:tensorflow:Inconsistent references when loading the checkpoint into this object graph. Either the Trackable object references in the Python program have changed in an incompatible way, or the checkpoint was generated in an incompatible program.\n",
            "\n",
            "Two checkpoint references resolved to different objects (<tensorflow.python.keras.saving.saved_model.load.TensorFlowTransform>TransformFeaturesLayer object at 0x7f7cee8ec650> and <tensorflow.python.keras.engine.input_layer.InputLayer object at 0x7f7ced7cd4d0>).\n"
          ]
        },
        {
          "output_type": "stream",
          "name": "stderr",
          "text": [
            "WARNING:tensorflow:Inconsistent references when loading the checkpoint into this object graph. Either the Trackable object references in the Python program have changed in an incompatible way, or the checkpoint was generated in an incompatible program.\n",
            "\n",
            "Two checkpoint references resolved to different objects (<tensorflow.python.keras.saving.saved_model.load.TensorFlowTransform>TransformFeaturesLayer object at 0x7f7cee8ec650> and <tensorflow.python.keras.engine.input_layer.InputLayer object at 0x7f7ced7cd4d0>).\n"
          ]
        },
        {
          "output_type": "stream",
          "name": "stdout",
          "text": [
            "WARNING:tensorflow:SavedModel saved prior to TF 2.5 detected when loading Keras model. Please ensure that you are saving the model with model.save() or tf.keras.models.save_model(), *NOT* tf.saved_model.save(). To confirm, there should be a file named \"keras_metadata.pb\" in the SavedModel directory.\n"
          ]
        },
        {
          "output_type": "stream",
          "name": "stderr",
          "text": [
            "WARNING:tensorflow:SavedModel saved prior to TF 2.5 detected when loading Keras model. Please ensure that you are saving the model with model.save() or tf.keras.models.save_model(), *NOT* tf.saved_model.save(). To confirm, there should be a file named \"keras_metadata.pb\" in the SavedModel directory.\n"
          ]
        },
        {
          "output_type": "stream",
          "name": "stdout",
          "text": [
            "WARNING:tensorflow:Inconsistent references when loading the checkpoint into this object graph. Either the Trackable object references in the Python program have changed in an incompatible way, or the checkpoint was generated in an incompatible program.\n",
            "\n",
            "Two checkpoint references resolved to different objects (<tensorflow.python.keras.saving.saved_model.load.TensorFlowTransform>TransformFeaturesLayer object at 0x7f7ce21bf3d0> and <tensorflow.python.keras.engine.input_layer.InputLayer object at 0x7f7ce0980ed0>).\n"
          ]
        },
        {
          "output_type": "stream",
          "name": "stderr",
          "text": [
            "WARNING:tensorflow:Inconsistent references when loading the checkpoint into this object graph. Either the Trackable object references in the Python program have changed in an incompatible way, or the checkpoint was generated in an incompatible program.\n",
            "\n",
            "Two checkpoint references resolved to different objects (<tensorflow.python.keras.saving.saved_model.load.TensorFlowTransform>TransformFeaturesLayer object at 0x7f7ce21bf3d0> and <tensorflow.python.keras.engine.input_layer.InputLayer object at 0x7f7ce0980ed0>).\n"
          ]
        },
        {
          "output_type": "stream",
          "name": "stdout",
          "text": [
            "WARNING:tensorflow:SavedModel saved prior to TF 2.5 detected when loading Keras model. Please ensure that you are saving the model with model.save() or tf.keras.models.save_model(), *NOT* tf.saved_model.save(). To confirm, there should be a file named \"keras_metadata.pb\" in the SavedModel directory.\n"
          ]
        },
        {
          "output_type": "stream",
          "name": "stderr",
          "text": [
            "WARNING:tensorflow:SavedModel saved prior to TF 2.5 detected when loading Keras model. Please ensure that you are saving the model with model.save() or tf.keras.models.save_model(), *NOT* tf.saved_model.save(). To confirm, there should be a file named \"keras_metadata.pb\" in the SavedModel directory.\n"
          ]
        },
        {
          "output_type": "stream",
          "name": "stdout",
          "text": [
            "WARNING:tensorflow:Inconsistent references when loading the checkpoint into this object graph. Either the Trackable object references in the Python program have changed in an incompatible way, or the checkpoint was generated in an incompatible program.\n",
            "\n",
            "Two checkpoint references resolved to different objects (<tensorflow.python.keras.saving.saved_model.load.TensorFlowTransform>TransformFeaturesLayer object at 0x7f7ced1a6f50> and <tensorflow.python.keras.engine.input_layer.InputLayer object at 0x7f7cee5aebd0>).\n"
          ]
        },
        {
          "output_type": "stream",
          "name": "stderr",
          "text": [
            "WARNING:tensorflow:Inconsistent references when loading the checkpoint into this object graph. Either the Trackable object references in the Python program have changed in an incompatible way, or the checkpoint was generated in an incompatible program.\n",
            "\n",
            "Two checkpoint references resolved to different objects (<tensorflow.python.keras.saving.saved_model.load.TensorFlowTransform>TransformFeaturesLayer object at 0x7f7ced1a6f50> and <tensorflow.python.keras.engine.input_layer.InputLayer object at 0x7f7cee5aebd0>).\n"
          ]
        },
        {
          "output_type": "stream",
          "name": "stdout",
          "text": [
            "WARNING:tensorflow:SavedModel saved prior to TF 2.5 detected when loading Keras model. Please ensure that you are saving the model with model.save() or tf.keras.models.save_model(), *NOT* tf.saved_model.save(). To confirm, there should be a file named \"keras_metadata.pb\" in the SavedModel directory.\n"
          ]
        },
        {
          "output_type": "stream",
          "name": "stderr",
          "text": [
            "WARNING:tensorflow:SavedModel saved prior to TF 2.5 detected when loading Keras model. Please ensure that you are saving the model with model.save() or tf.keras.models.save_model(), *NOT* tf.saved_model.save(). To confirm, there should be a file named \"keras_metadata.pb\" in the SavedModel directory.\n"
          ]
        },
        {
          "output_type": "stream",
          "name": "stdout",
          "text": [
            "WARNING:tensorflow:Inconsistent references when loading the checkpoint into this object graph. Either the Trackable object references in the Python program have changed in an incompatible way, or the checkpoint was generated in an incompatible program.\n",
            "\n",
            "Two checkpoint references resolved to different objects (<tensorflow.python.keras.saving.saved_model.load.TensorFlowTransform>TransformFeaturesLayer object at 0x7f7ce0facc90> and <tensorflow.python.keras.engine.input_layer.InputLayer object at 0x7f7ce2d91910>).\n"
          ]
        },
        {
          "output_type": "stream",
          "name": "stderr",
          "text": [
            "WARNING:tensorflow:Inconsistent references when loading the checkpoint into this object graph. Either the Trackable object references in the Python program have changed in an incompatible way, or the checkpoint was generated in an incompatible program.\n",
            "\n",
            "Two checkpoint references resolved to different objects (<tensorflow.python.keras.saving.saved_model.load.TensorFlowTransform>TransformFeaturesLayer object at 0x7f7ce0facc90> and <tensorflow.python.keras.engine.input_layer.InputLayer object at 0x7f7ce2d91910>).\n"
          ]
        },
        {
          "output_type": "stream",
          "name": "stdout",
          "text": [
            "WARNING:tensorflow:SavedModel saved prior to TF 2.5 detected when loading Keras model. Please ensure that you are saving the model with model.save() or tf.keras.models.save_model(), *NOT* tf.saved_model.save(). To confirm, there should be a file named \"keras_metadata.pb\" in the SavedModel directory.\n"
          ]
        },
        {
          "output_type": "stream",
          "name": "stderr",
          "text": [
            "WARNING:tensorflow:SavedModel saved prior to TF 2.5 detected when loading Keras model. Please ensure that you are saving the model with model.save() or tf.keras.models.save_model(), *NOT* tf.saved_model.save(). To confirm, there should be a file named \"keras_metadata.pb\" in the SavedModel directory.\n"
          ]
        },
        {
          "output_type": "stream",
          "name": "stdout",
          "text": [
            "WARNING:tensorflow:Inconsistent references when loading the checkpoint into this object graph. Either the Trackable object references in the Python program have changed in an incompatible way, or the checkpoint was generated in an incompatible program.\n",
            "\n",
            "Two checkpoint references resolved to different objects (<tensorflow.python.keras.saving.saved_model.load.TensorFlowTransform>TransformFeaturesLayer object at 0x7f7cdfdcd190> and <tensorflow.python.keras.engine.input_layer.InputLayer object at 0x7f7ce2ba9b10>).\n"
          ]
        },
        {
          "output_type": "stream",
          "name": "stderr",
          "text": [
            "WARNING:tensorflow:Inconsistent references when loading the checkpoint into this object graph. Either the Trackable object references in the Python program have changed in an incompatible way, or the checkpoint was generated in an incompatible program.\n",
            "\n",
            "Two checkpoint references resolved to different objects (<tensorflow.python.keras.saving.saved_model.load.TensorFlowTransform>TransformFeaturesLayer object at 0x7f7cdfdcd190> and <tensorflow.python.keras.engine.input_layer.InputLayer object at 0x7f7ce2ba9b10>).\n"
          ]
        },
        {
          "output_type": "stream",
          "name": "stdout",
          "text": [
            "WARNING:tensorflow:SavedModel saved prior to TF 2.5 detected when loading Keras model. Please ensure that you are saving the model with model.save() or tf.keras.models.save_model(), *NOT* tf.saved_model.save(). To confirm, there should be a file named \"keras_metadata.pb\" in the SavedModel directory.\n"
          ]
        },
        {
          "output_type": "stream",
          "name": "stderr",
          "text": [
            "WARNING:tensorflow:SavedModel saved prior to TF 2.5 detected when loading Keras model. Please ensure that you are saving the model with model.save() or tf.keras.models.save_model(), *NOT* tf.saved_model.save(). To confirm, there should be a file named \"keras_metadata.pb\" in the SavedModel directory.\n"
          ]
        },
        {
          "output_type": "stream",
          "name": "stdout",
          "text": [
            "WARNING:tensorflow:Inconsistent references when loading the checkpoint into this object graph. Either the Trackable object references in the Python program have changed in an incompatible way, or the checkpoint was generated in an incompatible program.\n",
            "\n",
            "Two checkpoint references resolved to different objects (<tensorflow.python.keras.saving.saved_model.load.TensorFlowTransform>TransformFeaturesLayer object at 0x7f7ce0bc5990> and <tensorflow.python.keras.engine.input_layer.InputLayer object at 0x7f7cdfcfd4d0>).\n"
          ]
        },
        {
          "output_type": "stream",
          "name": "stderr",
          "text": [
            "WARNING:tensorflow:Inconsistent references when loading the checkpoint into this object graph. Either the Trackable object references in the Python program have changed in an incompatible way, or the checkpoint was generated in an incompatible program.\n",
            "\n",
            "Two checkpoint references resolved to different objects (<tensorflow.python.keras.saving.saved_model.load.TensorFlowTransform>TransformFeaturesLayer object at 0x7f7ce0bc5990> and <tensorflow.python.keras.engine.input_layer.InputLayer object at 0x7f7cdfcfd4d0>).\n"
          ]
        },
        {
          "output_type": "stream",
          "name": "stdout",
          "text": [
            "WARNING:tensorflow:SavedModel saved prior to TF 2.5 detected when loading Keras model. Please ensure that you are saving the model with model.save() or tf.keras.models.save_model(), *NOT* tf.saved_model.save(). To confirm, there should be a file named \"keras_metadata.pb\" in the SavedModel directory.\n"
          ]
        },
        {
          "output_type": "stream",
          "name": "stderr",
          "text": [
            "WARNING:tensorflow:SavedModel saved prior to TF 2.5 detected when loading Keras model. Please ensure that you are saving the model with model.save() or tf.keras.models.save_model(), *NOT* tf.saved_model.save(). To confirm, there should be a file named \"keras_metadata.pb\" in the SavedModel directory.\n"
          ]
        },
        {
          "output_type": "stream",
          "name": "stdout",
          "text": [
            "WARNING:tensorflow:Inconsistent references when loading the checkpoint into this object graph. Either the Trackable object references in the Python program have changed in an incompatible way, or the checkpoint was generated in an incompatible program.\n",
            "\n",
            "Two checkpoint references resolved to different objects (<tensorflow.python.keras.saving.saved_model.load.TensorFlowTransform>TransformFeaturesLayer object at 0x7f7ce1645890> and <tensorflow.python.keras.engine.input_layer.InputLayer object at 0x7f7ce2e18e50>).\n"
          ]
        },
        {
          "output_type": "stream",
          "name": "stderr",
          "text": [
            "WARNING:tensorflow:Inconsistent references when loading the checkpoint into this object graph. Either the Trackable object references in the Python program have changed in an incompatible way, or the checkpoint was generated in an incompatible program.\n",
            "\n",
            "Two checkpoint references resolved to different objects (<tensorflow.python.keras.saving.saved_model.load.TensorFlowTransform>TransformFeaturesLayer object at 0x7f7ce1645890> and <tensorflow.python.keras.engine.input_layer.InputLayer object at 0x7f7ce2e18e50>).\n"
          ]
        }
      ]
    },
    {
      "cell_type": "markdown",
      "metadata": {
        "id": "siF6npd3IfJq"
      },
      "source": [
        "When running evaluations with one or more models against a baseline, TFMA automatically adds different metrics for all the metrics computed during the evaluation. These metrics are named after the corresponding metric but with the string `_diff` appended to the metric name. A positive value for these `_diff` metrics indicates an improved performance against the baseline.\n",
        "\n",
        "Like in the previous section, you can view the results with `render_time_series()`."
      ]
    },
    {
      "cell_type": "code",
      "metadata": {
        "id": "yGIw9TDuJ7wn",
        "colab": {
          "base_uri": "https://localhost:8080/",
          "height": 17
        },
        "outputId": "d0841745-52b9-4a0d-887b-f31f8dd792df"
      },
      "source": [
        "# Render results\n",
        "tfma.view.render_time_series(eval_result_with_validation)"
      ],
      "execution_count": 29,
      "outputs": [
        {
          "output_type": "display_data",
          "data": {
            "text/html": [
              "\n",
              "          <script src=\"/nbextensions/tensorflow_model_analysis/vulcanized_tfma.js\">\n",
              "          </script>\n",
              "          <tfma-nb-time-series id=\"component\"></tfma-nb-time-series>\n",
              "          <script>\n",
              "          const element = document.getElementById('component');\n",
              "\n",
              "          /** No event handlers needed. */\n",
              "\n",
              "          element.config = JSON.parse('{\"isModelCentric\": true}');\n",
              "          element.data = JSON.parse('[{\"metrics\": {\"\": {\"\": {\"binary_accuracy\": {\"doubleValue\": 0.8282046318054199}, \"loss\": {\"doubleValue\": 0.6185902953147888}, \"binary_crossentropy\": {\"doubleValue\": 0.6185902953147888}, \"example_count\": {\"doubleValue\": 16281.0}, \"auc\": {\"doubleValue\": 0.8568361401557922}, \"auc_precision_recall\": {\"doubleValue\": 0.640599250793457}, \"precision\": {\"doubleValue\": 0.6440538167953491}, \"recall\": {\"doubleValue\": 0.6097244024276733}, \"mean_label\": {\"doubleValue\": 0.23622627602727106}, \"mean_prediction\": {\"doubleValue\": 0.24503569071924952}, \"calibration\": {\"doubleValue\": 1.0372922726469322}, \"binary_accuracy_diff\": {\"doubleValue\": 0.05251514911651611}, \"loss_diff\": {\"doubleValue\": 0.1994187831878662}, \"binary_crossentropy_diff\": {\"doubleValue\": 0.1994187831878662}, \"example_count_diff\": {\"doubleValue\": 0.0}, \"auc_diff\": {\"doubleValue\": 0.00386965274810791}, \"auc_precision_recall_diff\": {\"doubleValue\": 0.024980366230010986}, \"precision_diff\": {\"doubleValue\": -0.17713820934295654}, \"recall_diff\": {\"doubleValue\": 0.5452418327331543}, \"mean_label_diff\": {\"doubleValue\": 0.0}, \"mean_prediction_diff\": {\"doubleValue\": 0.08328149262740914}, \"calibration_diff\": {\"doubleValue\": 0.3525496571676673}}}}, \"config\": {\"modelIdentifier\": \"model1\", \"dataIdentifier\": \"data_test.tfrecord\"}}, {\"metrics\": {\"\": {\"\": {\"binary_accuracy\": {\"doubleValue\": 0.7756894826889038}, \"loss\": {\"doubleValue\": 0.4191715121269226}, \"binary_crossentropy\": {\"doubleValue\": 0.4191715121269226}, \"example_count\": {\"doubleValue\": 16281.0}, \"auc\": {\"doubleValue\": 0.8529664874076843}, \"auc_precision_recall\": {\"doubleValue\": 0.615618884563446}, \"precision\": {\"doubleValue\": 0.8211920261383057}, \"recall\": {\"doubleValue\": 0.06448257714509964}, \"mean_label\": {\"doubleValue\": 0.23622627602727106}, \"mean_prediction\": {\"doubleValue\": 0.16175419809184038}, \"calibration\": {\"doubleValue\": 0.684742615479265}}}}, \"config\": {\"modelIdentifier\": \"model2\", \"dataIdentifier\": \"data_test.tfrecord\"}}]');\n",
              "          </script>\n",
              "          "
            ],
            "text/plain": [
              "<IPython.core.display.HTML object>"
            ]
          },
          "metadata": {}
        }
      ]
    },
    {
      "cell_type": "markdown",
      "metadata": {
        "id": "JIsehm_V4oKU"
      },
      "source": [
        "You can use [`tfma.load_validator_result`](https://www.tensorflow.org/tfx/model_analysis/api_docs/python/tfma/load_validation_result) to view the validation results you specified with the threshold settings. For this example, the validation fails because `BinaryAccuracy` is below the threshold."
      ]
    },
    {
      "cell_type": "code",
      "metadata": {
        "id": "48EdSTUW5eE1",
        "colab": {
          "base_uri": "https://localhost:8080/"
        },
        "outputId": "4a71184e-36ff-4a0b-e6cb-920ee7e3c786"
      },
      "source": [
        "# Print validation result\n",
        "validation_result = tfma.load_validation_result(validation_output_path)\n",
        "print(validation_result.validation_ok)"
      ],
      "execution_count": 30,
      "outputs": [
        {
          "output_type": "stream",
          "name": "stdout",
          "text": [
            "False\n"
          ]
        }
      ]
    },
    {
      "cell_type": "markdown",
      "metadata": {
        "id": "aBhzlF-lqRFY"
      },
      "source": [
        "**Congratulations! You have now explored the different methods of model analysis using TFMA. In the next section, you will see how these can fit into a TFX pipeline so you can automate the process and store the results in your pipeline directory and metadata store.**"
      ]
    }
  ]
}