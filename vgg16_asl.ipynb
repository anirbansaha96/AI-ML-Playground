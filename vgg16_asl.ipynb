{
  "metadata": {
    "kernelspec": {
      "language": "python",
      "display_name": "Python 3",
      "name": "python3"
    },
    "language_info": {
      "name": "python",
      "version": "3.7.12",
      "mimetype": "text/x-python",
      "codemirror_mode": {
        "name": "ipython",
        "version": 3
      },
      "pygments_lexer": "ipython3",
      "nbconvert_exporter": "python",
      "file_extension": ".py"
    },
    "colab": {
      "name": "vgg16-asl.ipynb",
      "provenance": [],
      "include_colab_link": true
    },
    "accelerator": "GPU"
  },
  "nbformat_minor": 0,
  "nbformat": 4,
  "cells": [
    {
      "cell_type": "markdown",
      "metadata": {
        "id": "view-in-github",
        "colab_type": "text"
      },
      "source": [
        "<a href=\"https://colab.research.google.com/github/anirbansaha96/AI-ML-Playground/blob/master/vgg16_asl.ipynb\" target=\"_parent\"><img src=\"https://colab.research.google.com/assets/colab-badge.svg\" alt=\"Open In Colab\"/></a>"
      ]
    },
    {
      "cell_type": "code",
      "source": [
        "import os\n",
        "import numpy as np\n",
        "import torch\n",
        "\n",
        "import torchvision\n",
        "from torchvision import datasets, models, transforms\n",
        "import matplotlib.pyplot as plt\n",
        "\n",
        "\n",
        "train_on_gpu = torch.cuda.is_available()\n",
        "\n",
        "%matplotlib inline"
      ],
      "metadata": {
        "_uuid": "8f2839f25d086af736a60e9eeb907d3b93b6e0e5",
        "_cell_guid": "b1076dfc-b9ad-4769-8c92-a6c4dae69d19",
        "execution": {
          "iopub.status.busy": "2022-03-25T11:44:54.410044Z",
          "iopub.execute_input": "2022-03-25T11:44:54.410550Z",
          "iopub.status.idle": "2022-03-25T11:44:56.065822Z",
          "shell.execute_reply.started": "2022-03-25T11:44:54.410377Z",
          "shell.execute_reply": "2022-03-25T11:44:56.064858Z"
        },
        "trusted": true,
        "id": "Z2dsqwjTqm68"
      },
      "execution_count": null,
      "outputs": []
    },
    {
      "cell_type": "code",
      "source": [
        "data_dir = '../input/asl-alphabet/'\n",
        "train_dir = os.path.join(data_dir, 'asl_alphabet_train/asl_alphabet_train/')"
      ],
      "metadata": {
        "execution": {
          "iopub.status.busy": "2022-03-25T11:44:56.067928Z",
          "iopub.execute_input": "2022-03-25T11:44:56.068552Z",
          "iopub.status.idle": "2022-03-25T11:44:56.073532Z",
          "shell.execute_reply.started": "2022-03-25T11:44:56.068475Z",
          "shell.execute_reply": "2022-03-25T11:44:56.072402Z"
        },
        "trusted": true,
        "id": "ZRP7XsqSqm7A"
      },
      "execution_count": null,
      "outputs": []
    },
    {
      "cell_type": "code",
      "source": [
        "# VGG-16 Takes 224x224 images as input, so we resize all of them\n",
        "data_transform = transforms.Compose([transforms.RandomResizedCrop(224), \n",
        "                                      transforms.ToTensor()])\n",
        "\n",
        "train_data = datasets.ImageFolder(train_dir, transform=data_transform)\n",
        "\n",
        "print('Num training images: ', len(train_data))"
      ],
      "metadata": {
        "execution": {
          "iopub.status.busy": "2022-03-25T11:44:56.075080Z",
          "iopub.execute_input": "2022-03-25T11:44:56.075647Z",
          "iopub.status.idle": "2022-03-25T11:46:30.289924Z",
          "shell.execute_reply.started": "2022-03-25T11:44:56.075602Z",
          "shell.execute_reply": "2022-03-25T11:46:30.289027Z"
        },
        "trusted": true,
        "id": "vnfYlxyAqm7A",
        "outputId": "abd3d5c4-a6b3-4ba4-c042-c9ee302612c5"
      },
      "execution_count": null,
      "outputs": [
        {
          "name": "stdout",
          "text": "Num training images:  87000\n",
          "output_type": "stream"
        }
      ]
    },
    {
      "cell_type": "code",
      "source": [
        "classes = train_data.class_to_idx"
      ],
      "metadata": {
        "execution": {
          "iopub.status.busy": "2022-03-25T11:46:30.292571Z",
          "iopub.execute_input": "2022-03-25T11:46:30.293635Z",
          "iopub.status.idle": "2022-03-25T11:46:30.298254Z",
          "shell.execute_reply.started": "2022-03-25T11:46:30.293590Z",
          "shell.execute_reply": "2022-03-25T11:46:30.297520Z"
        },
        "trusted": true,
        "id": "4m95vcEeqm7B"
      },
      "execution_count": null,
      "outputs": []
    },
    {
      "cell_type": "code",
      "source": [
        "batch_size = 64\n",
        "train_loader = torch.utils.data.DataLoader(train_data, batch_size=batch_size, shuffle=True)"
      ],
      "metadata": {
        "execution": {
          "iopub.status.busy": "2022-03-25T11:46:30.310956Z",
          "iopub.execute_input": "2022-03-25T11:46:30.311654Z",
          "iopub.status.idle": "2022-03-25T11:46:30.316128Z",
          "shell.execute_reply.started": "2022-03-25T11:46:30.311614Z",
          "shell.execute_reply": "2022-03-25T11:46:30.315351Z"
        },
        "trusted": true,
        "id": "tSE94uB_qm7C"
      },
      "execution_count": null,
      "outputs": []
    },
    {
      "cell_type": "code",
      "source": [
        "vgg16 = models.vgg16(pretrained=True)"
      ],
      "metadata": {
        "execution": {
          "iopub.status.busy": "2022-03-25T11:46:30.319223Z",
          "iopub.execute_input": "2022-03-25T11:46:30.319648Z",
          "iopub.status.idle": "2022-03-25T11:46:42.429526Z",
          "shell.execute_reply.started": "2022-03-25T11:46:30.319612Z",
          "shell.execute_reply": "2022-03-25T11:46:42.428741Z"
        },
        "trusted": true,
        "id": "6shQeZPuqm7C",
        "outputId": "24209855-508a-4fae-95dc-1bbc3bc5c325",
        "colab": {
          "referenced_widgets": [
            "df41a7f1fd9e4a41923c20b6ee592cb5"
          ]
        }
      },
      "execution_count": null,
      "outputs": [
        {
          "name": "stderr",
          "text": "Downloading: \"https://download.pytorch.org/models/vgg16-397923af.pth\" to /root/.cache/torch/hub/checkpoints/vgg16-397923af.pth\n",
          "output_type": "stream"
        },
        {
          "output_type": "display_data",
          "data": {
            "text/plain": "  0%|          | 0.00/528M [00:00<?, ?B/s]",
            "application/vnd.jupyter.widget-view+json": {
              "version_major": 2,
              "version_minor": 0,
              "model_id": "df41a7f1fd9e4a41923c20b6ee592cb5"
            }
          },
          "metadata": {}
        }
      ]
    },
    {
      "cell_type": "code",
      "source": [
        "# Freeze training for all \"features\" layers\n",
        "for param in vgg16.features.parameters():\n",
        "    param.requires_grad = False  "
      ],
      "metadata": {
        "execution": {
          "iopub.status.busy": "2022-03-25T11:46:42.431016Z",
          "iopub.execute_input": "2022-03-25T11:46:42.431303Z",
          "iopub.status.idle": "2022-03-25T11:46:42.436303Z",
          "shell.execute_reply.started": "2022-03-25T11:46:42.431267Z",
          "shell.execute_reply": "2022-03-25T11:46:42.435096Z"
        },
        "trusted": true,
        "id": "l60NQekgqm7D"
      },
      "execution_count": null,
      "outputs": []
    },
    {
      "cell_type": "code",
      "source": [
        "import torch.nn as nn\n",
        "\n",
        "vgg16.classifier[6] = nn.Linear(in_features=vgg16.classifier[6].in_features, out_features=29, bias=True)\n",
        "\n",
        "\n",
        "# after completing your model, if GPU is available, move the model to GPU\n",
        "if train_on_gpu:\n",
        "    vgg16.cuda()"
      ],
      "metadata": {
        "execution": {
          "iopub.status.busy": "2022-03-25T11:46:42.437760Z",
          "iopub.execute_input": "2022-03-25T11:46:42.437999Z",
          "iopub.status.idle": "2022-03-25T11:46:45.634744Z",
          "shell.execute_reply.started": "2022-03-25T11:46:42.437967Z",
          "shell.execute_reply": "2022-03-25T11:46:45.632784Z"
        },
        "trusted": true,
        "id": "ry_3pOAoqm7D"
      },
      "execution_count": null,
      "outputs": []
    },
    {
      "cell_type": "code",
      "source": [
        "import torch.optim as optim\n",
        "\n",
        "# specify loss function (categorical cross-entropy)\n",
        "criterion = nn.CrossEntropyLoss()\n",
        "\n",
        "# specify optimizer (stochastic gradient descent) and learning rate = 0.001\n",
        "optimizer = optim.SGD(vgg16.classifier.parameters(), lr=0.001)\n"
      ],
      "metadata": {
        "execution": {
          "iopub.status.busy": "2022-03-25T11:46:45.641872Z",
          "iopub.execute_input": "2022-03-25T11:46:45.642446Z",
          "iopub.status.idle": "2022-03-25T11:46:45.656436Z",
          "shell.execute_reply.started": "2022-03-25T11:46:45.642400Z",
          "shell.execute_reply": "2022-03-25T11:46:45.655814Z"
        },
        "trusted": true,
        "id": "kg9aw88Oqm7E"
      },
      "execution_count": null,
      "outputs": []
    },
    {
      "cell_type": "code",
      "source": [
        "n_epochs = 20\n",
        "\n",
        "for epoch in range(1, n_epochs+1):\n",
        "    train_loss = 0.0\n",
        "    for batch_i, (data, target) in enumerate(train_loader):\n",
        "        if train_on_gpu:\n",
        "            data, target = data.cuda(), target.cuda()\n",
        "        optimizer.zero_grad()\n",
        "        output = vgg16(data)\n",
        "        loss = criterion(output, target)\n",
        "        loss.backward()\n",
        "        optimizer.step()\n",
        "        train_loss += loss.item()\n",
        "        \n",
        "        if batch_i % 200 == 199:    # print training loss \n",
        "            print('Epoch %d, Batch %d loss: %.16f' %\n",
        "                  (epoch, batch_i + 1, train_loss / 200))\n",
        "            train_loss = 0.0"
      ],
      "metadata": {
        "execution": {
          "iopub.status.busy": "2022-03-25T11:46:45.657590Z",
          "iopub.execute_input": "2022-03-25T11:46:45.658330Z",
          "iopub.status.idle": "2022-03-25T14:48:45.831551Z",
          "shell.execute_reply.started": "2022-03-25T11:46:45.658293Z",
          "shell.execute_reply": "2022-03-25T14:48:45.830726Z"
        },
        "jupyter": {
          "outputs_hidden": true
        },
        "trusted": true,
        "id": "DFq37MsAqm7E",
        "outputId": "b13a9ff7-3a89-40d4-b63e-743d5ef4d51a"
      },
      "execution_count": null,
      "outputs": [
        {
          "name": "stdout",
          "text": "Epoch 1, Batch 200 loss: 3.3035264575481413\nEpoch 1, Batch 400 loss: 3.1065577018260955\nEpoch 1, Batch 600 loss: 2.9099041104316710\nEpoch 1, Batch 800 loss: 2.7124437594413759\nEpoch 1, Batch 1000 loss: 2.5316750633716585\nEpoch 1, Batch 1200 loss: 2.3602901434898378\nEpoch 2, Batch 200 loss: 2.1340176939964293\nEpoch 2, Batch 400 loss: 2.0570934367179872\nEpoch 2, Batch 600 loss: 1.9674622452259063\nEpoch 2, Batch 800 loss: 1.8895116460323333\nEpoch 2, Batch 1000 loss: 1.8530072426795960\nEpoch 2, Batch 1200 loss: 1.7706041193008424\nEpoch 3, Batch 200 loss: 1.6836629289388656\nEpoch 3, Batch 400 loss: 1.6340192282199859\nEpoch 3, Batch 600 loss: 1.6219015550613403\nEpoch 3, Batch 800 loss: 1.5662782645225526\nEpoch 3, Batch 1000 loss: 1.5261663013696671\nEpoch 3, Batch 1200 loss: 1.5304266858100890\nEpoch 4, Batch 200 loss: 1.4760438984632491\nEpoch 4, Batch 400 loss: 1.4775691062211991\nEpoch 4, Batch 600 loss: 1.4306568965315818\nEpoch 4, Batch 800 loss: 1.4166228652000428\nEpoch 4, Batch 1000 loss: 1.4021675759553909\nEpoch 4, Batch 1200 loss: 1.3802762255072594\nEpoch 5, Batch 200 loss: 1.3364038103818894\nEpoch 5, Batch 400 loss: 1.3197029691934585\nEpoch 5, Batch 600 loss: 1.3159735050797463\nEpoch 5, Batch 800 loss: 1.3107964926958084\nEpoch 5, Batch 1000 loss: 1.3059334662556648\nEpoch 5, Batch 1200 loss: 1.2940110695362090\nEpoch 6, Batch 200 loss: 1.2632084983587264\nEpoch 6, Batch 400 loss: 1.2601914405822754\nEpoch 6, Batch 600 loss: 1.2331348243355751\nEpoch 6, Batch 800 loss: 1.2287428322434426\nEpoch 6, Batch 1000 loss: 1.2397681933641433\nEpoch 6, Batch 1200 loss: 1.2011811158061028\nEpoch 7, Batch 200 loss: 1.2157647180557252\nEpoch 7, Batch 400 loss: 1.1830713737010956\nEpoch 7, Batch 600 loss: 1.1780190402269364\nEpoch 7, Batch 800 loss: 1.1811969327926635\nEpoch 7, Batch 1000 loss: 1.1657968741655349\nEpoch 8, Batch 200 loss: 1.1516276496648787\nEpoch 8, Batch 400 loss: 1.1371258497238159\nEpoch 8, Batch 600 loss: 1.1331709423661231\nEpoch 8, Batch 800 loss: 1.1310629928112030\nEpoch 8, Batch 1000 loss: 1.1131755957007408\nEpoch 8, Batch 1200 loss: 1.1154288581013680\nEpoch 9, Batch 200 loss: 1.0928088572621346\nEpoch 9, Batch 400 loss: 1.1090290579199791\nEpoch 9, Batch 600 loss: 1.0979627409577370\nEpoch 9, Batch 800 loss: 1.0864348468184470\nEpoch 9, Batch 1000 loss: 1.0979725536704064\nEpoch 9, Batch 1200 loss: 1.0826627340912820\nEpoch 10, Batch 200 loss: 1.0708777710795403\nEpoch 10, Batch 400 loss: 1.0638526812195779\nEpoch 10, Batch 600 loss: 1.0362115707993507\nEpoch 10, Batch 800 loss: 1.0481978571414947\nEpoch 10, Batch 1000 loss: 1.0416386944055558\nEpoch 10, Batch 1200 loss: 1.0267808064818382\nEpoch 11, Batch 200 loss: 1.0468870419263840\nEpoch 11, Batch 400 loss: 1.0348880273103713\nEpoch 11, Batch 600 loss: 1.0218640080094337\nEpoch 11, Batch 800 loss: 1.0129837822914123\nEpoch 11, Batch 1000 loss: 1.0187666314840316\nEpoch 11, Batch 1200 loss: 1.0303188526630402\nEpoch 12, Batch 200 loss: 1.0156825868785382\nEpoch 12, Batch 400 loss: 0.9836147591471672\nEpoch 12, Batch 600 loss: 1.0008655929565429\nEpoch 12, Batch 800 loss: 1.0020020681619644\nEpoch 12, Batch 1000 loss: 0.9944454681873321\nEpoch 12, Batch 1200 loss: 0.9759287735819817\nEpoch 13, Batch 200 loss: 0.9824876555800438\nEpoch 13, Batch 400 loss: 0.9891674995422364\nEpoch 13, Batch 600 loss: 0.9784309579432011\nEpoch 13, Batch 800 loss: 0.9669688525795936\nEpoch 13, Batch 1000 loss: 0.9814805442094803\nEpoch 13, Batch 1200 loss: 0.9746011528372764\nEpoch 14, Batch 200 loss: 0.9500489801168441\nEpoch 14, Batch 400 loss: 0.9600908276438713\nEpoch 14, Batch 600 loss: 0.9349391023814678\nEpoch 14, Batch 800 loss: 0.9675372833013535\nEpoch 14, Batch 1000 loss: 0.9461718922853470\nEpoch 14, Batch 1200 loss: 0.9273316085338592\nEpoch 15, Batch 200 loss: 0.9428145074844361\nEpoch 15, Batch 400 loss: 0.9280683955550194\nEpoch 15, Batch 600 loss: 0.9296583962440491\nEpoch 15, Batch 800 loss: 0.9377884307503700\nEpoch 15, Batch 1000 loss: 0.9304838445782662\nEpoch 15, Batch 1200 loss: 0.9369971236586571\nEpoch 16, Batch 200 loss: 0.9025736653804779\nEpoch 16, Batch 400 loss: 0.9083849591016769\nEpoch 16, Batch 600 loss: 0.9196401658654213\nEpoch 16, Batch 800 loss: 0.9193193072080612\nEpoch 16, Batch 1000 loss: 0.9026551285386085\nEpoch 16, Batch 1200 loss: 0.8867767947912216\nEpoch 17, Batch 200 loss: 0.9186123740673066\nEpoch 17, Batch 400 loss: 0.8945750731229782\nEpoch 17, Batch 600 loss: 0.9011556670069695\nEpoch 17, Batch 800 loss: 0.8934565052390099\nEpoch 17, Batch 1000 loss: 0.8976412430405617\nEpoch 17, Batch 1200 loss: 0.8895531824231148\nEpoch 18, Batch 200 loss: 0.9038074573874474\nEpoch 18, Batch 400 loss: 0.8606302431225776\nEpoch 18, Batch 600 loss: 0.8855777013301850\nEpoch 18, Batch 800 loss: 0.8608345443010330\nEpoch 18, Batch 1000 loss: 0.8779774972796440\nEpoch 18, Batch 1200 loss: 0.8693119385838508\nEpoch 19, Batch 200 loss: 0.8645060777664184\nEpoch 19, Batch 400 loss: 0.8757874724268914\nEpoch 19, Batch 600 loss: 0.8567469431459904\nEpoch 19, Batch 800 loss: 0.8648921743035316\nEpoch 19, Batch 1000 loss: 0.8595536074042320\nEpoch 19, Batch 1200 loss: 0.8652719426155090\nEpoch 20, Batch 200 loss: 0.8322731770575047\nEpoch 20, Batch 400 loss: 0.8599931466579437\nEpoch 20, Batch 600 loss: 0.8436404471099377\nEpoch 20, Batch 800 loss: 0.8483914682269096\nEpoch 20, Batch 1000 loss: 0.8324723911285400\nEpoch 20, Batch 1200 loss: 0.8502910499274731\n",
          "output_type": "stream"
        }
      ]
    },
    {
      "cell_type": "code",
      "source": [
        "torch.save(vgg16.state_dict(), './ASL20')"
      ],
      "metadata": {
        "execution": {
          "iopub.status.busy": "2022-03-25T14:48:45.832774Z",
          "iopub.execute_input": "2022-03-25T14:48:45.833020Z",
          "iopub.status.idle": "2022-03-25T14:48:47.155888Z",
          "shell.execute_reply.started": "2022-03-25T14:48:45.832987Z",
          "shell.execute_reply": "2022-03-25T14:48:47.155121Z"
        },
        "trusted": true,
        "id": "de1evHOuqm7F"
      },
      "execution_count": null,
      "outputs": []
    },
    {
      "cell_type": "code",
      "source": [
        "import json\n",
        "with open('./classes.json', 'w') as fp:\n",
        "    json.dump(classes, fp)"
      ],
      "metadata": {
        "execution": {
          "iopub.status.busy": "2022-03-25T14:48:47.157487Z",
          "iopub.execute_input": "2022-03-25T14:48:47.157776Z",
          "iopub.status.idle": "2022-03-25T14:48:47.162555Z",
          "shell.execute_reply.started": "2022-03-25T14:48:47.157738Z",
          "shell.execute_reply": "2022-03-25T14:48:47.161871Z"
        },
        "trusted": true,
        "id": "0SmGR2-Xqm7G"
      },
      "execution_count": null,
      "outputs": []
    },
    {
      "cell_type": "code",
      "source": [
        "from collections import OrderedDict\n",
        "idx_to_class = {value:key for key, value in classes.items()} "
      ],
      "metadata": {
        "execution": {
          "iopub.status.busy": "2022-03-25T14:54:41.467380Z",
          "iopub.execute_input": "2022-03-25T14:54:41.467943Z",
          "iopub.status.idle": "2022-03-25T14:54:41.472088Z",
          "shell.execute_reply.started": "2022-03-25T14:54:41.467905Z",
          "shell.execute_reply": "2022-03-25T14:54:41.471287Z"
        },
        "trusted": true,
        "id": "mzPlRPqiqm7G"
      },
      "execution_count": null,
      "outputs": []
    },
    {
      "cell_type": "code",
      "source": [
        "import os\n",
        "from PIL import Image\n",
        "correct = 0\n",
        "test_files = os.listdir('../input/asl-alphabet/asl_alphabet_test/asl_alphabet_test/')\n",
        "vgg16.eval()\n",
        "for file in test_files:\n",
        "    label = file.strip('_')[0]\n",
        "    path = os.path.join('../input/asl-alphabet/asl_alphabet_test/asl_alphabet_test/',file)\n",
        "    img = Image.open(path)\n",
        "    img_tensor = data_transform(img).to('cuda').unsqueeze(0)\n",
        "    output = vgg16(img_tensor)\n",
        "    _, index = torch.max(output, 1)\n",
        "    index = index.cpu().tolist()\n",
        "    if label == idx_to_class[index[0]]:\n",
        "        correct += 1\n",
        "print('Test Accuracy : ', round(correct/len(test_files)*100, 2), '%')"
      ],
      "metadata": {
        "execution": {
          "iopub.status.busy": "2022-03-25T15:08:59.024136Z",
          "iopub.execute_input": "2022-03-25T15:08:59.024612Z",
          "iopub.status.idle": "2022-03-25T15:08:59.258973Z",
          "shell.execute_reply.started": "2022-03-25T15:08:59.024574Z",
          "shell.execute_reply": "2022-03-25T15:08:59.258156Z"
        },
        "trusted": true,
        "id": "cBlZdUjFqm7G",
        "outputId": "0613b668-a17f-4d4c-a5a0-e028c67ca231"
      },
      "execution_count": null,
      "outputs": [
        {
          "name": "stdout",
          "text": "Test Accuracy :  82.14 %\n",
          "output_type": "stream"
        }
      ]
    },
    {
      "cell_type": "markdown",
      "source": [
        "# Predictions"
      ],
      "metadata": {
        "id": "oL_sVfCVqvX4"
      }
    },
    {
      "cell_type": "code",
      "source": [
        "from google.colab import drive\n",
        "drive.mount('/content/drive')"
      ],
      "metadata": {
        "id": "TXZ09FaDuD4-",
        "outputId": "55a0606e-f356-460d-8534-8d6197dac7e2",
        "colab": {
          "base_uri": "https://localhost:8080/"
        }
      },
      "execution_count": null,
      "outputs": [
        {
          "output_type": "stream",
          "name": "stdout",
          "text": [
            "Mounted at /content/drive\n"
          ]
        }
      ]
    },
    {
      "cell_type": "code",
      "execution_count": 2,
      "metadata": {
        "id": "QiMXfDCF9l63"
      },
      "outputs": [],
      "source": [
        "from torchvision import models, transforms\n",
        "import torch\n",
        "import torch.nn as nn"
      ]
    },
    {
      "cell_type": "code",
      "source": [
        "train_on_gpu = torch.cuda.is_available()"
      ],
      "metadata": {
        "id": "nIFyVgt2DokY"
      },
      "execution_count": 3,
      "outputs": []
    },
    {
      "cell_type": "code",
      "source": [
        "data_transform = transforms.Compose([transforms.RandomResizedCrop(224), \n",
        "                                      transforms.ToTensor()])"
      ],
      "metadata": {
        "id": "Vp1GO3ygDzDB"
      },
      "execution_count": 4,
      "outputs": []
    },
    {
      "cell_type": "code",
      "source": [
        "vgg16 = models.vgg16(pretrained=False)\n",
        "vgg16.classifier[6] = nn.Linear(in_features=4096, out_features=29, bias=True)"
      ],
      "metadata": {
        "id": "ZJcGJqdiD06V"
      },
      "execution_count": 5,
      "outputs": []
    },
    {
      "cell_type": "code",
      "source": [
        "if train_on_gpu:\n",
        "    vgg16.cuda()"
      ],
      "metadata": {
        "id": "muB4jG1uD2wD"
      },
      "execution_count": 6,
      "outputs": []
    },
    {
      "cell_type": "code",
      "source": [
        "vgg16.load_state_dict(torch.load('/content/drive/MyDrive/Colab Notebooks/ASL20'))"
      ],
      "metadata": {
        "colab": {
          "base_uri": "https://localhost:8080/"
        },
        "id": "md2tY2zLD4Uq",
        "outputId": "2e004bad-a4bc-47a8-8f5a-8f03a01ac91f"
      },
      "execution_count": 7,
      "outputs": [
        {
          "output_type": "execute_result",
          "data": {
            "text/plain": [
              "<All keys matched successfully>"
            ]
          },
          "metadata": {},
          "execution_count": 7
        }
      ]
    },
    {
      "cell_type": "code",
      "source": [
        "import json\n",
        "f = open('/content/drive/MyDrive/Colab Notebooks/classes.json')\n",
        "\n",
        "class_to_idx = json.load(f)\n",
        "idx_to_class = {value : key for key, value in class_to_idx.items()}"
      ],
      "metadata": {
        "id": "0vy1n3v2vFkU"
      },
      "execution_count": 22,
      "outputs": []
    },
    {
      "cell_type": "code",
      "source": [
        "vgg16.eval()"
      ],
      "metadata": {
        "id": "oiFWo5ROD6G8"
      },
      "execution_count": null,
      "outputs": []
    },
    {
      "cell_type": "code",
      "source": [
        "from PIL import Image\n",
        "\n",
        "def predict_image(path):\n",
        "  img = Image.open(path)\n",
        "  img_tensor = data_transform(img).to('cuda').unsqueeze(0)\n",
        "  output = vgg16(img_tensor)\n",
        "  _, index = torch.max(output, 1)\n",
        "  index = index.cpu().tolist()\n",
        "  return idx_to_class[index[0]]"
      ],
      "metadata": {
        "id": "zHjMHx1GuhWt"
      },
      "execution_count": 9,
      "outputs": []
    },
    {
      "cell_type": "code",
      "source": [
        "predict_image('/content/A100.jpg')"
      ],
      "metadata": {
        "colab": {
          "base_uri": "https://localhost:8080/",
          "height": 35
        },
        "id": "gVknZTwku71v",
        "outputId": "b869aed4-9332-4db4-f019-f1db2da49eca"
      },
      "execution_count": 24,
      "outputs": [
        {
          "output_type": "execute_result",
          "data": {
            "text/plain": [
              "'A'"
            ],
            "application/vnd.google.colaboratory.intrinsic+json": {
              "type": "string"
            }
          },
          "metadata": {},
          "execution_count": 24
        }
      ]
    },
    {
      "cell_type": "code",
      "source": [
        "predict_image('/content/E_test.jpg')"
      ],
      "metadata": {
        "colab": {
          "base_uri": "https://localhost:8080/",
          "height": 35
        },
        "id": "_vYqXqHNwESK",
        "outputId": "8dcbbecd-0491-4be3-efae-7eb24c21e388"
      },
      "execution_count": 25,
      "outputs": [
        {
          "output_type": "execute_result",
          "data": {
            "text/plain": [
              "'E'"
            ],
            "application/vnd.google.colaboratory.intrinsic+json": {
              "type": "string"
            }
          },
          "metadata": {},
          "execution_count": 25
        }
      ]
    },
    {
      "cell_type": "code",
      "source": [
        "predict_image('/content/G10.jpg')"
      ],
      "metadata": {
        "colab": {
          "base_uri": "https://localhost:8080/",
          "height": 35
        },
        "id": "dc-pZYPOwIJo",
        "outputId": "f07e2edf-ee90-449f-adbf-c08feba1cb39"
      },
      "execution_count": 26,
      "outputs": [
        {
          "output_type": "execute_result",
          "data": {
            "text/plain": [
              "'G'"
            ],
            "application/vnd.google.colaboratory.intrinsic+json": {
              "type": "string"
            }
          },
          "metadata": {},
          "execution_count": 26
        }
      ]
    },
    {
      "cell_type": "code",
      "source": [
        "predict_image('/content/L1000.jpg')"
      ],
      "metadata": {
        "colab": {
          "base_uri": "https://localhost:8080/",
          "height": 35
        },
        "id": "qUFzMAtnwLFZ",
        "outputId": "648bef36-60d8-4937-eb9a-d161d673fe87"
      },
      "execution_count": 27,
      "outputs": [
        {
          "output_type": "execute_result",
          "data": {
            "text/plain": [
              "'L'"
            ],
            "application/vnd.google.colaboratory.intrinsic+json": {
              "type": "string"
            }
          },
          "metadata": {},
          "execution_count": 27
        }
      ]
    },
    {
      "cell_type": "markdown",
      "source": [
        "### Some possible improvements:\n",
        "1. Improve Training Data by Augmentation Transformations\n",
        "2. Split Training Dataset into Train and Validation and use early stopping"
      ],
      "metadata": {
        "id": "22bmwOSKwceN"
      }
    }
  ]
}