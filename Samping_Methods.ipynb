{
  "nbformat": 4,
  "nbformat_minor": 0,
  "metadata": {
    "colab": {
      "name": "Samping_Methods.ipynb",
      "provenance": [],
      "collapsed_sections": [],
      "authorship_tag": "ABX9TyMg/6I+/HZS71PCoWeN2tw8"
    },
    "kernelspec": {
      "name": "python3",
      "display_name": "Python 3"
    }
  },
  "cells": [
    {
      "cell_type": "markdown",
      "metadata": {
        "id": "aECPi2Qze3Jg"
      },
      "source": [
        "# Sampling!"
      ]
    },
    {
      "cell_type": "markdown",
      "metadata": {
        "id": "4wWMZrYPfAYJ"
      },
      "source": [
        "In Machine Learning we often need to work with very large datasets, which sometimes may be computationally expensive. During these times, it makes more sense to create a smaller sample of this large dataset and train or models in this smaller dataset. While doing this it is important to ensure that we do not lose statistical information about our population. We also need to esnure that out sample is not biased and is a representative of our population. We explore some methods to ensure this."
      ]
    },
    {
      "cell_type": "markdown",
      "metadata": {
        "id": "0S9WRVFQlB0R"
      },
      "source": [
        "For the purpose of this notebook document we will work with California House Dataset."
      ]
    },
    {
      "cell_type": "code",
      "metadata": {
        "colab": {
          "base_uri": "https://localhost:8080/",
          "height": 219
        },
        "id": "juTf8jXWe60L",
        "outputId": "8a8c4288-ed8d-4476-a00e-24c28d9e9ee9"
      },
      "source": [
        "import pandas as pd\r\n",
        "dataset=pd.read_csv('https://raw.githubusercontent.com/marquisvictor/Creating-a-Bias-Free-Testset/master/housing.csv')\r\n",
        "print('The size of the Dataset is', len(dataset))\r\n",
        "dataset.head()"
      ],
      "execution_count": 18,
      "outputs": [
        {
          "output_type": "stream",
          "text": [
            "The size of the Dataset is 20640\n"
          ],
          "name": "stdout"
        },
        {
          "output_type": "execute_result",
          "data": {
            "text/html": [
              "<div>\n",
              "<style scoped>\n",
              "    .dataframe tbody tr th:only-of-type {\n",
              "        vertical-align: middle;\n",
              "    }\n",
              "\n",
              "    .dataframe tbody tr th {\n",
              "        vertical-align: top;\n",
              "    }\n",
              "\n",
              "    .dataframe thead th {\n",
              "        text-align: right;\n",
              "    }\n",
              "</style>\n",
              "<table border=\"1\" class=\"dataframe\">\n",
              "  <thead>\n",
              "    <tr style=\"text-align: right;\">\n",
              "      <th></th>\n",
              "      <th>longitude</th>\n",
              "      <th>latitude</th>\n",
              "      <th>housing_median_age</th>\n",
              "      <th>total_rooms</th>\n",
              "      <th>total_bedrooms</th>\n",
              "      <th>population</th>\n",
              "      <th>households</th>\n",
              "      <th>median_income</th>\n",
              "      <th>median_house_value</th>\n",
              "      <th>ocean_proximity</th>\n",
              "    </tr>\n",
              "  </thead>\n",
              "  <tbody>\n",
              "    <tr>\n",
              "      <th>0</th>\n",
              "      <td>-122.23</td>\n",
              "      <td>37.88</td>\n",
              "      <td>41.0</td>\n",
              "      <td>880.0</td>\n",
              "      <td>129.0</td>\n",
              "      <td>322.0</td>\n",
              "      <td>126.0</td>\n",
              "      <td>8.3252</td>\n",
              "      <td>452600.0</td>\n",
              "      <td>NEAR BAY</td>\n",
              "    </tr>\n",
              "    <tr>\n",
              "      <th>1</th>\n",
              "      <td>-122.22</td>\n",
              "      <td>37.86</td>\n",
              "      <td>21.0</td>\n",
              "      <td>7099.0</td>\n",
              "      <td>1106.0</td>\n",
              "      <td>2401.0</td>\n",
              "      <td>1138.0</td>\n",
              "      <td>8.3014</td>\n",
              "      <td>358500.0</td>\n",
              "      <td>NEAR BAY</td>\n",
              "    </tr>\n",
              "    <tr>\n",
              "      <th>2</th>\n",
              "      <td>-122.24</td>\n",
              "      <td>37.85</td>\n",
              "      <td>52.0</td>\n",
              "      <td>1467.0</td>\n",
              "      <td>190.0</td>\n",
              "      <td>496.0</td>\n",
              "      <td>177.0</td>\n",
              "      <td>7.2574</td>\n",
              "      <td>352100.0</td>\n",
              "      <td>NEAR BAY</td>\n",
              "    </tr>\n",
              "    <tr>\n",
              "      <th>3</th>\n",
              "      <td>-122.25</td>\n",
              "      <td>37.85</td>\n",
              "      <td>52.0</td>\n",
              "      <td>1274.0</td>\n",
              "      <td>235.0</td>\n",
              "      <td>558.0</td>\n",
              "      <td>219.0</td>\n",
              "      <td>5.6431</td>\n",
              "      <td>341300.0</td>\n",
              "      <td>NEAR BAY</td>\n",
              "    </tr>\n",
              "    <tr>\n",
              "      <th>4</th>\n",
              "      <td>-122.25</td>\n",
              "      <td>37.85</td>\n",
              "      <td>52.0</td>\n",
              "      <td>1627.0</td>\n",
              "      <td>280.0</td>\n",
              "      <td>565.0</td>\n",
              "      <td>259.0</td>\n",
              "      <td>3.8462</td>\n",
              "      <td>342200.0</td>\n",
              "      <td>NEAR BAY</td>\n",
              "    </tr>\n",
              "  </tbody>\n",
              "</table>\n",
              "</div>"
            ],
            "text/plain": [
              "   longitude  latitude  ...  median_house_value  ocean_proximity\n",
              "0    -122.23     37.88  ...            452600.0         NEAR BAY\n",
              "1    -122.22     37.86  ...            358500.0         NEAR BAY\n",
              "2    -122.24     37.85  ...            352100.0         NEAR BAY\n",
              "3    -122.25     37.85  ...            341300.0         NEAR BAY\n",
              "4    -122.25     37.85  ...            342200.0         NEAR BAY\n",
              "\n",
              "[5 rows x 10 columns]"
            ]
          },
          "metadata": {
            "tags": []
          },
          "execution_count": 18
        }
      ]
    },
    {
      "cell_type": "markdown",
      "metadata": {
        "id": "xDv8BiijlLpw"
      },
      "source": [
        "We will take two approaches at this juncture:\r\n",
        "\r\n",
        "\r\n",
        "1.   ## Simple Random Sampling\r\n",
        "  *   This is fairly easy to achieve and is the most direct method of probability sampling.\r\n",
        "  *   There is a risk of introducing sampling bias.\r\n",
        "  * To be more confident of the sample, statistical tests may be performed on each of the features of the dataset.\r\n",
        "\r\n",
        "2.  ## Stratified Random Sampling\r\n",
        "  * Ensures the sample is a representative of the whole population.\r\n",
        "  * Subpopulations or strata are defined and simple random samples are generated from each subpopulation.\r\n",
        "  * This approach reduces the sampling error."
      ]
    },
    {
      "cell_type": "markdown",
      "metadata": {
        "id": "WeBYtQHDyZEO"
      },
      "source": [
        "# Simple Random Sampling\r\n",
        "We use [`pandas.DataFrame.sample`](https://pandas.pydata.org/pandas-docs/stable/reference/api/pandas.DataFrame.sample.html) to get a simple random sample. It returns a random sample of items from an axis of object.\r\n",
        "\r\n"
      ]
    },
    {
      "cell_type": "code",
      "metadata": {
        "colab": {
          "base_uri": "https://localhost:8080/",
          "height": 222
        },
        "id": "Mw72LbdqxB8i",
        "outputId": "e5841727-a246-450d-fd00-a290bceaf5e0"
      },
      "source": [
        "simple_sample_1=dataset.sample(int(len(dataset)/5))\r\n",
        "simple_sample_1.head()"
      ],
      "execution_count": 19,
      "outputs": [
        {
          "output_type": "execute_result",
          "data": {
            "text/html": [
              "<div>\n",
              "<style scoped>\n",
              "    .dataframe tbody tr th:only-of-type {\n",
              "        vertical-align: middle;\n",
              "    }\n",
              "\n",
              "    .dataframe tbody tr th {\n",
              "        vertical-align: top;\n",
              "    }\n",
              "\n",
              "    .dataframe thead th {\n",
              "        text-align: right;\n",
              "    }\n",
              "</style>\n",
              "<table border=\"1\" class=\"dataframe\">\n",
              "  <thead>\n",
              "    <tr style=\"text-align: right;\">\n",
              "      <th></th>\n",
              "      <th>longitude</th>\n",
              "      <th>latitude</th>\n",
              "      <th>housing_median_age</th>\n",
              "      <th>total_rooms</th>\n",
              "      <th>total_bedrooms</th>\n",
              "      <th>population</th>\n",
              "      <th>households</th>\n",
              "      <th>median_income</th>\n",
              "      <th>median_house_value</th>\n",
              "      <th>ocean_proximity</th>\n",
              "    </tr>\n",
              "  </thead>\n",
              "  <tbody>\n",
              "    <tr>\n",
              "      <th>7714</th>\n",
              "      <td>-118.12</td>\n",
              "      <td>33.95</td>\n",
              "      <td>36.0</td>\n",
              "      <td>2752.0</td>\n",
              "      <td>459.0</td>\n",
              "      <td>1211.0</td>\n",
              "      <td>452.0</td>\n",
              "      <td>5.0526</td>\n",
              "      <td>269800.0</td>\n",
              "      <td>&lt;1H OCEAN</td>\n",
              "    </tr>\n",
              "    <tr>\n",
              "      <th>9190</th>\n",
              "      <td>-118.35</td>\n",
              "      <td>34.32</td>\n",
              "      <td>52.0</td>\n",
              "      <td>102.0</td>\n",
              "      <td>29.0</td>\n",
              "      <td>54.0</td>\n",
              "      <td>32.0</td>\n",
              "      <td>1.9875</td>\n",
              "      <td>191700.0</td>\n",
              "      <td>&lt;1H OCEAN</td>\n",
              "    </tr>\n",
              "    <tr>\n",
              "      <th>20598</th>\n",
              "      <td>-121.58</td>\n",
              "      <td>39.15</td>\n",
              "      <td>38.0</td>\n",
              "      <td>1756.0</td>\n",
              "      <td>396.0</td>\n",
              "      <td>837.0</td>\n",
              "      <td>401.0</td>\n",
              "      <td>1.9122</td>\n",
              "      <td>55500.0</td>\n",
              "      <td>INLAND</td>\n",
              "    </tr>\n",
              "    <tr>\n",
              "      <th>15342</th>\n",
              "      <td>-117.37</td>\n",
              "      <td>33.22</td>\n",
              "      <td>35.0</td>\n",
              "      <td>2204.0</td>\n",
              "      <td>482.0</td>\n",
              "      <td>1435.0</td>\n",
              "      <td>462.0</td>\n",
              "      <td>3.6760</td>\n",
              "      <td>125600.0</td>\n",
              "      <td>NEAR OCEAN</td>\n",
              "    </tr>\n",
              "    <tr>\n",
              "      <th>3736</th>\n",
              "      <td>-118.40</td>\n",
              "      <td>34.18</td>\n",
              "      <td>32.0</td>\n",
              "      <td>3724.0</td>\n",
              "      <td>899.0</td>\n",
              "      <td>1912.0</td>\n",
              "      <td>791.0</td>\n",
              "      <td>3.5711</td>\n",
              "      <td>312700.0</td>\n",
              "      <td>&lt;1H OCEAN</td>\n",
              "    </tr>\n",
              "  </tbody>\n",
              "</table>\n",
              "</div>"
            ],
            "text/plain": [
              "       longitude  latitude  ...  median_house_value  ocean_proximity\n",
              "7714     -118.12     33.95  ...            269800.0        <1H OCEAN\n",
              "9190     -118.35     34.32  ...            191700.0        <1H OCEAN\n",
              "20598    -121.58     39.15  ...             55500.0           INLAND\n",
              "15342    -117.37     33.22  ...            125600.0       NEAR OCEAN\n",
              "3736     -118.40     34.18  ...            312700.0        <1H OCEAN\n",
              "\n",
              "[5 rows x 10 columns]"
            ]
          },
          "metadata": {
            "tags": []
          },
          "execution_count": 19
        }
      ]
    },
    {
      "cell_type": "markdown",
      "metadata": {
        "id": "ttrtx9bxzXYT"
      },
      "source": [
        "## (Optional)\r\n",
        "\r\n",
        "To ensure our sample does not lose statistical significance with respect to the population, we conduct some statistical tests. For an easier implementation, we make an acceptable assumption: Consider each variable (feature/ column) independently from the others.\r\n",
        "For each feature we compare the probability distribution of the sample with that of the population. If all them are significant then the sample \"Passes our Test\" else we retry with another sample. \r\n",
        "We use Kolmogorov-Smirnov test.\r\n",
        "\r\n",
        "To conduct these tests we use the [`scipy`](https://docs.scipy.org/doc/scipy//reference/index.html) library, which is an Open Source Python library, which is used in mathematics, engineering, scientific and technical computing. "
      ]
    },
    {
      "cell_type": "code",
      "metadata": {
        "id": "-lSwCLaV0iPa"
      },
      "source": [
        "def get_p_values(population, sample):\r\n",
        "  import scipy\r\n",
        "  p_values_dict={}\r\n",
        "  for column in population.columns.tolist():\r\n",
        "    statistic, p_value=scipy.stats.ks_2samp(sample[column].dropna().tolist(), population[column].dropna().tolist(), alternative='two-sided', mode='auto')\r\n",
        "    p_values_dict[column]=p_value\r\n",
        "  return p_values_dict"
      ],
      "execution_count": 65,
      "outputs": []
    },
    {
      "cell_type": "code",
      "metadata": {
        "colab": {
          "base_uri": "https://localhost:8080/"
        },
        "id": "M55XXlRXFv-K",
        "outputId": "f8c9d9b2-4cf2-49e5-acaf-45777cd23d4e"
      },
      "source": [
        "get_p_values(dataset, simple_sample_1)"
      ],
      "execution_count": 66,
      "outputs": [
        {
          "output_type": "execute_result",
          "data": {
            "text/plain": [
              "{'households': 0.9450908836343869,\n",
              " 'housing_median_age': 0.7639712229370625,\n",
              " 'latitude': 0.5887490487249476,\n",
              " 'longitude': 0.9496780476935938,\n",
              " 'median_house_value': 0.9961336167245299,\n",
              " 'median_income': 0.8648295782662301,\n",
              " 'ocean_proximity': 0.9215267286618063,\n",
              " 'population': 0.782002948631074,\n",
              " 'total_bedrooms': 0.8443265432149597,\n",
              " 'total_rooms': 0.9999595657447887}"
            ]
          },
          "metadata": {
            "tags": []
          },
          "execution_count": 66
        }
      ]
    },
    {
      "cell_type": "markdown",
      "metadata": {
        "id": "CSFfoO5vHCLH"
      },
      "source": [
        "We see that all the columns have a p-value > 0.05 and hence we cannot reject the Null Hypothesis that they come from different distributions, implying sample is statistically significant."
      ]
    },
    {
      "cell_type": "markdown",
      "metadata": {
        "id": "-etz9mWpN6Ro"
      },
      "source": [
        "# Stratified Random Sampling\r\n",
        "In Stratified Random Sampling it is important to choose a strata or the subpopulation. The most optimal way to do it is to choose the feature which is most imporant (highest correlation with the target variable) and stratify the population on the basis of this feature. "
      ]
    },
    {
      "cell_type": "code",
      "metadata": {
        "colab": {
          "base_uri": "https://localhost:8080/"
        },
        "id": "ek1Vs-baR2rT",
        "outputId": "67d6f24c-7ac0-4aaf-d4de-e761f2da31b0"
      },
      "source": [
        "correlation_matrix=dataset.corr()\r\n",
        "correlation_matrix['median_house_value'].sort_values(ascending=False)"
      ],
      "execution_count": 73,
      "outputs": [
        {
          "output_type": "execute_result",
          "data": {
            "text/plain": [
              "median_house_value    1.000000\n",
              "median_income         0.688075\n",
              "total_rooms           0.134153\n",
              "housing_median_age    0.105623\n",
              "households            0.065843\n",
              "total_bedrooms        0.049686\n",
              "population           -0.024650\n",
              "longitude            -0.045967\n",
              "latitude             -0.144160\n",
              "Name: median_house_value, dtype: float64"
            ]
          },
          "metadata": {
            "tags": []
          },
          "execution_count": 73
        }
      ]
    },
    {
      "cell_type": "markdown",
      "metadata": {
        "id": "AycJx-4YSIZ0"
      },
      "source": [
        "So we see in this example that median_income has highest correlation and we choose this feature to stratify the dataset. For this we first need to create a new column to create the strata."
      ]
    },
    {
      "cell_type": "code",
      "metadata": {
        "colab": {
          "base_uri": "https://localhost:8080/"
        },
        "id": "WAAsBH2lSYZi",
        "outputId": "0f637f69-b640-4770-948b-df7cd71ee75d"
      },
      "source": [
        "# Divide by 1.5 to limit the number of income categories\r\n",
        "dataset[\"median_income_category\"] = np.ceil(dataset[\"median_income\"] / 1.5)\r\n",
        "# showing the frequency of each category\r\n",
        "dataset.median_income_category.value_counts().sort_index()"
      ],
      "execution_count": 76,
      "outputs": [
        {
          "output_type": "execute_result",
          "data": {
            "text/plain": [
              "1.0      822\n",
              "2.0     6581\n",
              "3.0     7236\n",
              "4.0     3639\n",
              "5.0     1423\n",
              "6.0      532\n",
              "7.0      189\n",
              "8.0      105\n",
              "9.0       50\n",
              "10.0      14\n",
              "11.0      49\n",
              "Name: median_income_category, dtype: int64"
            ]
          },
          "metadata": {
            "tags": []
          },
          "execution_count": 76
        }
      ]
    },
    {
      "cell_type": "code",
      "metadata": {
        "colab": {
          "base_uri": "https://localhost:8080/"
        },
        "id": "8Hwlr4h6UBQ-",
        "outputId": "a1f71af2-ee51-422b-9ba6-f8f883776228"
      },
      "source": [
        "# Label those above 5 as 5\r\n",
        "dataset[\"median_income_category\"].where(dataset[\"median_income_category\"] < 5, 5.0, inplace=True)\r\n",
        "dataset.median_income_category.value_counts().sort_index()"
      ],
      "execution_count": 77,
      "outputs": [
        {
          "output_type": "execute_result",
          "data": {
            "text/plain": [
              "1.0     822\n",
              "2.0    6581\n",
              "3.0    7236\n",
              "4.0    3639\n",
              "5.0    2362\n",
              "Name: median_income_category, dtype: int64"
            ]
          },
          "metadata": {
            "tags": []
          },
          "execution_count": 77
        }
      ]
    },
    {
      "cell_type": "markdown",
      "metadata": {
        "id": "zpn-srtNUMny"
      },
      "source": [
        "All we did above is create 5 strata (or subpopulations) on the basis of which we will sample."
      ]
    },
    {
      "cell_type": "code",
      "metadata": {
        "colab": {
          "base_uri": "https://localhost:8080/",
          "height": 222
        },
        "id": "RiJXhXYlUTEG",
        "outputId": "9f8208d0-54d2-4bb3-e2ba-36cd5ecc33db"
      },
      "source": [
        "from sklearn.model_selection import StratifiedShuffleSplit\r\n",
        "\r\n",
        "split = StratifiedShuffleSplit(n_splits=1, test_size=0.2)\r\n",
        "for train_index, test_index in split.split( dataset, dataset[\"median_income_category\"]):\r\n",
        "    stratified_sample = dataset.loc[test_index]\r\n",
        "stratified_sample.head()"
      ],
      "execution_count": 79,
      "outputs": [
        {
          "output_type": "execute_result",
          "data": {
            "text/html": [
              "<div>\n",
              "<style scoped>\n",
              "    .dataframe tbody tr th:only-of-type {\n",
              "        vertical-align: middle;\n",
              "    }\n",
              "\n",
              "    .dataframe tbody tr th {\n",
              "        vertical-align: top;\n",
              "    }\n",
              "\n",
              "    .dataframe thead th {\n",
              "        text-align: right;\n",
              "    }\n",
              "</style>\n",
              "<table border=\"1\" class=\"dataframe\">\n",
              "  <thead>\n",
              "    <tr style=\"text-align: right;\">\n",
              "      <th></th>\n",
              "      <th>longitude</th>\n",
              "      <th>latitude</th>\n",
              "      <th>housing_median_age</th>\n",
              "      <th>total_rooms</th>\n",
              "      <th>total_bedrooms</th>\n",
              "      <th>population</th>\n",
              "      <th>households</th>\n",
              "      <th>median_income</th>\n",
              "      <th>median_house_value</th>\n",
              "      <th>ocean_proximity</th>\n",
              "      <th>median_income_category</th>\n",
              "    </tr>\n",
              "  </thead>\n",
              "  <tbody>\n",
              "    <tr>\n",
              "      <th>13262</th>\n",
              "      <td>-117.65</td>\n",
              "      <td>34.10</td>\n",
              "      <td>19.0</td>\n",
              "      <td>1688.0</td>\n",
              "      <td>365.0</td>\n",
              "      <td>622.0</td>\n",
              "      <td>322.0</td>\n",
              "      <td>3.6000</td>\n",
              "      <td>136400.0</td>\n",
              "      <td>INLAND</td>\n",
              "      <td>3.0</td>\n",
              "    </tr>\n",
              "    <tr>\n",
              "      <th>7799</th>\n",
              "      <td>-118.08</td>\n",
              "      <td>33.90</td>\n",
              "      <td>42.0</td>\n",
              "      <td>1768.0</td>\n",
              "      <td>372.0</td>\n",
              "      <td>1155.0</td>\n",
              "      <td>368.0</td>\n",
              "      <td>3.5580</td>\n",
              "      <td>161100.0</td>\n",
              "      <td>&lt;1H OCEAN</td>\n",
              "      <td>3.0</td>\n",
              "    </tr>\n",
              "    <tr>\n",
              "      <th>16085</th>\n",
              "      <td>-122.49</td>\n",
              "      <td>37.73</td>\n",
              "      <td>37.0</td>\n",
              "      <td>1399.0</td>\n",
              "      <td>224.0</td>\n",
              "      <td>530.0</td>\n",
              "      <td>235.0</td>\n",
              "      <td>3.9219</td>\n",
              "      <td>433300.0</td>\n",
              "      <td>NEAR OCEAN</td>\n",
              "      <td>3.0</td>\n",
              "    </tr>\n",
              "    <tr>\n",
              "      <th>16280</th>\n",
              "      <td>-121.28</td>\n",
              "      <td>37.92</td>\n",
              "      <td>36.0</td>\n",
              "      <td>499.0</td>\n",
              "      <td>115.0</td>\n",
              "      <td>451.0</td>\n",
              "      <td>124.0</td>\n",
              "      <td>2.1705</td>\n",
              "      <td>60300.0</td>\n",
              "      <td>INLAND</td>\n",
              "      <td>2.0</td>\n",
              "    </tr>\n",
              "    <tr>\n",
              "      <th>5444</th>\n",
              "      <td>-118.43</td>\n",
              "      <td>34.00</td>\n",
              "      <td>30.0</td>\n",
              "      <td>2148.0</td>\n",
              "      <td>597.0</td>\n",
              "      <td>1341.0</td>\n",
              "      <td>559.0</td>\n",
              "      <td>3.3995</td>\n",
              "      <td>324000.0</td>\n",
              "      <td>&lt;1H OCEAN</td>\n",
              "      <td>3.0</td>\n",
              "    </tr>\n",
              "  </tbody>\n",
              "</table>\n",
              "</div>"
            ],
            "text/plain": [
              "       longitude  latitude  ...  ocean_proximity  median_income_category\n",
              "13262    -117.65     34.10  ...           INLAND                     3.0\n",
              "7799     -118.08     33.90  ...        <1H OCEAN                     3.0\n",
              "16085    -122.49     37.73  ...       NEAR OCEAN                     3.0\n",
              "16280    -121.28     37.92  ...           INLAND                     2.0\n",
              "5444     -118.43     34.00  ...        <1H OCEAN                     3.0\n",
              "\n",
              "[5 rows x 11 columns]"
            ]
          },
          "metadata": {
            "tags": []
          },
          "execution_count": 79
        }
      ]
    },
    {
      "cell_type": "code",
      "metadata": {
        "colab": {
          "base_uri": "https://localhost:8080/"
        },
        "id": "_9aqfhtpUhmg",
        "outputId": "61d62655-1bd3-46ab-9332-81ed0547ca70"
      },
      "source": [
        "get_p_values(dataset, stratified_sample)"
      ],
      "execution_count": 80,
      "outputs": [
        {
          "output_type": "execute_result",
          "data": {
            "text/plain": [
              "{'households': 0.7864504892205115,\n",
              " 'housing_median_age': 0.6555839945801963,\n",
              " 'latitude': 0.9496780476935938,\n",
              " 'longitude': 0.7952660345425161,\n",
              " 'median_house_value': 0.9974053517401111,\n",
              " 'median_income': 0.9849022969654343,\n",
              " 'median_income_category': 1.0,\n",
              " 'ocean_proximity': 0.9999998611981844,\n",
              " 'population': 0.853363140598451,\n",
              " 'total_bedrooms': 0.5439835016882955,\n",
              " 'total_rooms': 0.7222572871039292}"
            ]
          },
          "metadata": {
            "tags": []
          },
          "execution_count": 80
        }
      ]
    },
    {
      "cell_type": "markdown",
      "metadata": {
        "id": "wd0y0y8cU1k1"
      },
      "source": [
        "We see that all the columns have a p-value > 0.05 and hence we cannot reject the Null Hypothesis that they come from different distributions, implying sample is statistically significant."
      ]
    }
  ]
}