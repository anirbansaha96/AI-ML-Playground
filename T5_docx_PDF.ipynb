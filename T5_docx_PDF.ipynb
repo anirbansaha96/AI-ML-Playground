{
  "nbformat": 4,
  "nbformat_minor": 0,
  "metadata": {
    "colab": {
      "name": "T5_docx_PDF.ipynb",
      "provenance": [],
      "collapsed_sections": [],
      "toc_visible": true,
      "include_colab_link": true
    },
    "kernelspec": {
      "name": "python3",
      "display_name": "Python 3"
    }
  },
  "cells": [
    {
      "cell_type": "markdown",
      "metadata": {
        "id": "view-in-github",
        "colab_type": "text"
      },
      "source": [
        "<a href=\"https://colab.research.google.com/github/anirbansaha96/AI-ML-Playground/blob/master/T5_docx_PDF.ipynb\" target=\"_parent\"><img src=\"https://colab.research.google.com/assets/colab-badge.svg\" alt=\"Open In Colab\"/></a>"
      ]
    },
    {
      "cell_type": "markdown",
      "metadata": {
        "id": "9esEZebraMDG",
        "colab_type": "text"
      },
      "source": [
        "# Now we try docx:"
      ]
    },
    {
      "cell_type": "markdown",
      "metadata": {
        "id": "i_OCN8U2dWpd",
        "colab_type": "text"
      },
      "source": [
        "Prerequisite: I've attached the docx and PDF files, incase you want to run the notebook."
      ]
    },
    {
      "cell_type": "code",
      "metadata": {
        "id": "6tZAOZzmCeYx",
        "colab_type": "code",
        "colab": {}
      },
      "source": [
        "!pip install docx2python"
      ],
      "execution_count": 0,
      "outputs": []
    },
    {
      "cell_type": "code",
      "metadata": {
        "id": "xwPRF54v2Q9b",
        "colab_type": "code",
        "colab": {}
      },
      "source": [
        "from docx2python import docx2python"
      ],
      "execution_count": 0,
      "outputs": []
    },
    {
      "cell_type": "code",
      "metadata": {
        "id": "_ObLpYKCCxUs",
        "colab_type": "code",
        "colab": {}
      },
      "source": [
        "doc=docx2python('Anirban Saha ATS Resume.docx')"
      ],
      "execution_count": 0,
      "outputs": []
    },
    {
      "cell_type": "code",
      "metadata": {
        "id": "HcPuxj0ODDh3",
        "colab_type": "code",
        "colab": {}
      },
      "source": [
        "text=[]\n",
        "for sent in doc.body[0][0][0]:\n",
        "  text.append(sent)\n"
      ],
      "execution_count": 0,
      "outputs": []
    },
    {
      "cell_type": "code",
      "metadata": {
        "id": "VrqPF7oWONcE",
        "colab_type": "code",
        "colab": {}
      },
      "source": [
        "article_text=''.join(text)"
      ],
      "execution_count": 0,
      "outputs": []
    },
    {
      "cell_type": "code",
      "metadata": {
        "id": "kGfsuDdDOgK6",
        "colab_type": "code",
        "outputId": "037fb709-7c1c-4be0-ead0-7f8d6c44b8cf",
        "colab": {
          "base_uri": "https://localhost:8080/",
          "height": 55
        }
      },
      "source": [
        "article_text"
      ],
      "execution_count": 0,
      "outputs": [
        {
          "output_type": "execute_result",
          "data": {
            "text/plain": [
              "'ANIRBAN SAHAHyderabad - 8961509899 – anirban.saha@ais.comSUMMARYSeeking to leverage and build on the research experience I gained during my research internship at TIFR Centre of Applicable Mathematics to do quantitative research that will provide tangible results and create impact. EMPLOYMENT HISTORYApplied Information SciencesMay 2020 - PresentSoftware Trainee --\\tWorking on Natural Language Processing, mainly on Text Summarization using extractive and abstractive implementations using pre-trained models like BERT-sum and Google’s T5 summarizer. TIFR Centre of Applicable Mathematics (Bengaluru, Karnataka)\\t\\t\\tMay 2019 - July 2019VSRP Summer Research Intern --\\tWrote and presented an expository research article on ‘Isoperimetric Inequality, Reuleaux Triangle and Meissner bodies’ studying optimizing curves and surfaces under given constraints of perimeter and surface area.--\\tI presented a new proof to the Isoperimetric Inequality, based on Peter D. Lax’s work on calculus of variations.RELEVANT SKILLSMachine Learning, Artificial Intelligence, C, Python, MATLAB, SQL, Mathematical Finance, Mathematica, Mathematical Modelling, Neural Networks, Regression, Classification, TensorFlow, Natural Language Processing.EDUCATION--\\tM. Sc. Mathematics, University of Hyderabad, Hyderabad\\t\\t\\t\\t2020--\\tB. Sc. Mathematics, Jadavpur University, Kolkata\\t\\t\\t\\t\\t\\t2018--\\tAISSCE, B. D. M. International (CBSE), Kolkata\\t\\t\\t\\t\\t\\t2015--\\tAISSE, B. D. Memorial Institute (CBSE), Kolkata\\t\\t\\t\\t\\t\\t2013CERTIFICATIONS--\\tCT1 - Financial Mathematics, Institute of Actuaries of India\\t\\t\\t\\t2017--\\tCT3 – Probability and Mathematical Statistics, Institute of Actuaries of India\\t\\t2017--\\tPython for Data Science and AI, Coursera\\t\\t\\t\\t\\t\\t\\t2019--\\tMATLAB Onramp, Machine Learning Onramp, Mathworks\\t\\t\\t\\t2019--\\tMachine Learning, Stanford University, Coursera, (Ongoing)'"
            ]
          },
          "metadata": {
            "tags": []
          },
          "execution_count": 6
        }
      ]
    },
    {
      "cell_type": "code",
      "metadata": {
        "id": "gi4aerHgQF2q",
        "colab_type": "code",
        "colab": {}
      },
      "source": [
        "!pip install transformers==2.8.0\n",
        "!pip install torch==1.4.0\n",
        "import torch\n",
        "import json \n",
        "from transformers import T5Tokenizer, T5ForConditionalGeneration, T5Config\n",
        "model = T5ForConditionalGeneration.from_pretrained('t5-small')\n",
        "tokenizer = T5Tokenizer.from_pretrained('t5-small')\n",
        "device = torch.device('cpu')\n",
        "preprocess_text = article_text.strip().replace(\"\\n\",\"\")\n",
        "t5_prepared_Text = \"summarize: \"+preprocess_text\n",
        "print (\"original text preprocessed: \\n\", preprocess_text)\n",
        "tokenized_text = tokenizer.encode(t5_prepared_Text, return_tensors=\"pt\").to(device)\n",
        "summary_ids = model.generate(tokenized_text,\n",
        "                                    num_beams=4,\n",
        "                                    no_repeat_ngram_size=2,\n",
        "                                    min_length=30,\n",
        "                                    max_length=100,\n",
        "                                    early_stopping=True)\n",
        "output = tokenizer.decode(summary_ids[0], skip_special_tokens=True)\n"
      ],
      "execution_count": 0,
      "outputs": []
    },
    {
      "cell_type": "code",
      "metadata": {
        "id": "qgRg7dDZQ5kv",
        "colab_type": "code",
        "outputId": "5aa28fa7-0f8e-4ca3-f143-b9d6d92d7245",
        "colab": {
          "base_uri": "https://localhost:8080/",
          "height": 107
        }
      },
      "source": [
        "print (\"\\n\\nSummarized text: \\n\",output)"
      ],
      "execution_count": 0,
      "outputs": [
        {
          "output_type": "stream",
          "text": [
            "\n",
            "\n",
            "Summarized text: \n",
            " TIFR Centre of Applicable Mathematics (Bengaluru, Karnataka) may 2019 - July 2019VSRP Summer Research Intern -- Wrote and presented an expository research article on ‘Isoperimetric Inequality, Reuleaux Triangle and Meissner bodies’ studying optimizing curves and surfaces under given constraints of perimeter and surface area.\n"
          ],
          "name": "stdout"
        }
      ]
    },
    {
      "cell_type": "markdown",
      "metadata": {
        "id": "SFVI992PaH8J",
        "colab_type": "text"
      },
      "source": [
        "# Now we try it with PDF:"
      ]
    },
    {
      "cell_type": "code",
      "metadata": {
        "id": "fwvY4kuTY4wC",
        "colab_type": "code",
        "outputId": "de82137e-a9d5-4413-e149-8ee4d2747104",
        "colab": {
          "base_uri": "https://localhost:8080/",
          "height": 211
        }
      },
      "source": [
        "!pip install PyPDF2"
      ],
      "execution_count": 0,
      "outputs": [
        {
          "output_type": "stream",
          "text": [
            "Collecting PyPDF2\n",
            "\u001b[?25l  Downloading https://files.pythonhosted.org/packages/b4/01/68fcc0d43daf4c6bdbc6b33cc3f77bda531c86b174cac56ef0ffdb96faab/PyPDF2-1.26.0.tar.gz (77kB)\n",
            "\r\u001b[K     |████▎                           | 10kB 16.9MB/s eta 0:00:01\r\u001b[K     |████████▌                       | 20kB 1.7MB/s eta 0:00:01\r\u001b[K     |████████████▊                   | 30kB 2.3MB/s eta 0:00:01\r\u001b[K     |█████████████████               | 40kB 2.6MB/s eta 0:00:01\r\u001b[K     |█████████████████████▏          | 51kB 2.0MB/s eta 0:00:01\r\u001b[K     |█████████████████████████▍      | 61kB 2.2MB/s eta 0:00:01\r\u001b[K     |█████████████████████████████▋  | 71kB 2.5MB/s eta 0:00:01\r\u001b[K     |████████████████████████████████| 81kB 2.2MB/s \n",
            "\u001b[?25hBuilding wheels for collected packages: PyPDF2\n",
            "  Building wheel for PyPDF2 (setup.py) ... \u001b[?25l\u001b[?25hdone\n",
            "  Created wheel for PyPDF2: filename=PyPDF2-1.26.0-cp36-none-any.whl size=61086 sha256=a57582adcf70e3b3fbf46ecff3587fd29414889d09db25bba9afcce384781879\n",
            "  Stored in directory: /root/.cache/pip/wheels/53/84/19/35bc977c8bf5f0c23a8a011aa958acd4da4bbd7a229315c1b7\n",
            "Successfully built PyPDF2\n",
            "Installing collected packages: PyPDF2\n",
            "Successfully installed PyPDF2-1.26.0\n"
          ],
          "name": "stdout"
        }
      ]
    },
    {
      "cell_type": "code",
      "metadata": {
        "id": "FySdnnTRY7Qz",
        "colab_type": "code",
        "colab": {}
      },
      "source": [
        "import PyPDF2\n",
        "article=[]\n",
        "pdfFileObj = open('ATS.pdf', 'rb') \n",
        "pdfReader = PyPDF2.PdfFileReader(pdfFileObj) \n",
        "for page in range(pdfReader.numPages):\n",
        "  pageObj = pdfReader.getPage(page)\n",
        "  article.append(pageObj.extractText())"
      ],
      "execution_count": 0,
      "outputs": []
    },
    {
      "cell_type": "code",
      "metadata": {
        "id": "LdxE_TnvZaRZ",
        "colab_type": "code",
        "colab": {}
      },
      "source": [
        "article=article[0]"
      ],
      "execution_count": 0,
      "outputs": []
    },
    {
      "cell_type": "code",
      "metadata": {
        "id": "r8D3dyN0Z3VU",
        "colab_type": "code",
        "outputId": "c82f8cb2-b7b1-421f-de7c-b1d819333c0a",
        "colab": {
          "base_uri": "https://localhost:8080/",
          "height": 55
        }
      },
      "source": [
        "article.replace('\\n','')"
      ],
      "execution_count": 0,
      "outputs": [
        {
          "output_type": "execute_result",
          "data": {
            "text/plain": [
              "'ANIRBAN SAHA Hyderabad - 8961509899  anirban.saha@ais.com  SUMMARY Seeking to leverage and build on the research experience I gained during my research internship at TIFR Centre of Applicable Mathematics to do quantitative research that will provide tangible results and create impact.   EMPLOYMENT HISTORY Applied Information Sciences May 2020 - Present Software Trainee   Working on Natural Language Processing, mainly on Text Summarization using extractive and abstractive implementations using pre-trained models like BERT-summarizer.   TIFR Centre of Applicable Mathematics (Bengaluru, Karnataka)    May 2019 - July 2019 VSRP Summer Research Intern    Reuleaux constraints of perimeter and surface area.  calculus of variations.  RELEVANT SKILLS Machine Learning, Artificial Intelligence, C, Python, MATLAB, SQL, Mathematical Finance, Mathematica, Mathematical Modelling, Neural Networks, Regression, Classification, TensorFlow, Natural Language Processing.  EDUCATION  M. Sc. Mathematics, University of Hyderabad, Hyderabad    2020  B. Sc. Mathematics, Jadavpur University, Kolkata      2018  AISSCE, B. D. M. International (CBSE), Kolkata      2015  AISSE, B. D. Memorial Institute (CBSE), Kolkata      2013  CERTIFICATIONS  CT1 - Financial Mathematics, Institute of Actuaries of India    2017  CT3  Probability and Mathematical Statistics, Institute of Actuaries of India  2017  Python for Data Science and AI, Coursera       2019  MATLAB Onramp, Machine Learning Onramp, Mathworks    2019  Machine Learning, Stanford University, Coursera, (Ongoing) '"
            ]
          },
          "metadata": {
            "tags": []
          },
          "execution_count": 18
        }
      ]
    },
    {
      "cell_type": "code",
      "metadata": {
        "id": "EkkrGDN8cBOK",
        "colab_type": "code",
        "colab": {}
      },
      "source": [
        "!pip install transformers==2.8.0\n",
        "!pip install torch==1.4.0\n",
        "import torch\n",
        "import json \n",
        "from transformers import T5Tokenizer, T5ForConditionalGeneration, T5Config\n",
        "model = T5ForConditionalGeneration.from_pretrained('t5-small')\n",
        "tokenizer = T5Tokenizer.from_pretrained('t5-small')\n",
        "device = torch.device('cpu')\n",
        "preprocess_text = article_text.strip().replace(\"\\n\",\"\")\n",
        "t5_prepared_Text = \"summarize: \"+preprocess_text\n",
        "print (\"original text preprocessed: \\n\", preprocess_text)\n",
        "tokenized_text = tokenizer.encode(t5_prepared_Text, return_tensors=\"pt\").to(device)\n",
        "summary_ids = model.generate(tokenized_text,\n",
        "                                    num_beams=4,\n",
        "                                    no_repeat_ngram_size=2,\n",
        "                                    min_length=30,\n",
        "                                    max_length=100,\n",
        "                                    early_stopping=True)\n",
        "output = tokenizer.decode(summary_ids[0], skip_special_tokens=True)\n"
      ],
      "execution_count": 0,
      "outputs": []
    },
    {
      "cell_type": "code",
      "metadata": {
        "id": "Yrp-broZcO3u",
        "colab_type": "code",
        "outputId": "3b9ec3bb-b6e1-4a33-a982-f7810ea82d11",
        "colab": {
          "base_uri": "https://localhost:8080/",
          "height": 107
        }
      },
      "source": [
        "print (\"\\n\\nSummarized text: \\n\",output)"
      ],
      "execution_count": 0,
      "outputs": [
        {
          "output_type": "stream",
          "text": [
            "\n",
            "\n",
            "Summarized text: \n",
            " TIFR Centre of Applicable Mathematics (Bengaluru, Karnataka) may 2019 - July 2019VSRP Summer Research Intern -- Wrote and presented an expository research article on ‘Isoperimetric Inequality, Reuleaux Triangle and Meissner bodies’ studying optimizing curves and surfaces under given constraints of perimeter and surface area.\n"
          ],
          "name": "stdout"
        }
      ]
    },
    {
      "cell_type": "code",
      "metadata": {
        "id": "NlVZ3ZcXcS4f",
        "colab_type": "code",
        "outputId": "fc65669f-48e6-4093-a8ce-e3cb1a9693ce",
        "colab": {
          "base_uri": "https://localhost:8080/",
          "height": 329
        }
      },
      "source": [
        "from gensim.summarization import summarize\n",
        "from gensim.summarization import keywords\n",
        "print(\"==================================SUMMARY===================================\")\n",
        "print (summarize(article,ratio=0.25))\n",
        "\n",
        "print(\"==================================KEYWORDS===================================\")\n",
        "print (keywords(article,ratio=0.05))"
      ],
      "execution_count": 0,
      "outputs": [
        {
          "output_type": "stream",
          "text": [
            "==================================SUMMARY===================================\n",
            "ANIRBAN SAHA\n",
            "anirban.saha@ais.com\n",
            "internship at TIFR Centre of Applicable Mathematics to do quantitative research that will \n",
            "Working on Natural Language Processing, mainly on Text Summarization using extractive and \n",
            "TIFR Centre of Applicable Mathematics\n",
            "Machine Learning, Artificial Intelligence, C, Python, MATLAB, SQL, Mathematical Finance, \n",
            "Mathematics, University of Hyderabad, Hyderabad\n",
            "B. Sc. Mathematics, Jadavpur University, Kolkata\n",
            "Financial Mathematics, Institute of Actuaries of India\n",
            "Probability and Mathematical Statistics, Institute of Actuaries of India\n",
            "Machine Learning, Stanford University, Coursera, (Ongoing)\n",
            "==================================KEYWORDS===================================\n",
            "mathematics\n",
            "mathematical\n",
            "research\n",
            "kolkata\n",
            "university\n"
          ],
          "name": "stdout"
        }
      ]
    }
  ]
}