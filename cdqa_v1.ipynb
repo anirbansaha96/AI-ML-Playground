{
  "nbformat": 4,
  "nbformat_minor": 0,
  "metadata": {
    "colab": {
      "name": "cdqa_v1.ipynb",
      "provenance": [],
      "authorship_tag": "ABX9TyMzKEl+nbY9CHO8L65la+UQ",
      "include_colab_link": true
    },
    "kernelspec": {
      "name": "python3",
      "display_name": "Python 3"
    }
  },
  "cells": [
    {
      "cell_type": "markdown",
      "metadata": {
        "id": "view-in-github",
        "colab_type": "text"
      },
      "source": [
        "<a href=\"https://colab.research.google.com/github/anirbansaha96/AI-ML-Playground/blob/master/cdqa_v1.ipynb\" target=\"_parent\"><img src=\"https://colab.research.google.com/assets/colab-badge.svg\" alt=\"Open In Colab\"/></a>"
      ]
    },
    {
      "cell_type": "code",
      "metadata": {
        "id": "fqGhu4w8O_cE",
        "colab_type": "code",
        "colab": {}
      },
      "source": [
        "#Prerequisites\n",
        "!pip install cdqa\n",
        "\n",
        "#This implementation uses the cdQA-Suite"
      ],
      "execution_count": 0,
      "outputs": []
    },
    {
      "cell_type": "markdown",
      "metadata": {
        "id": "AQGAsr2-YPGT",
        "colab_type": "text"
      },
      "source": [
        "Refer to \n",
        "[their GitHub page](https://github.com/cdqa-suite/cdQA) for the documentation\n",
        "\n"
      ]
    },
    {
      "cell_type": "code",
      "metadata": {
        "id": "zU19BFqtPGCF",
        "colab_type": "code",
        "colab": {}
      },
      "source": [
        "import os\n",
        "import pandas as pd\n",
        "from ast import literal_eval\n",
        "\n",
        "from cdqa.utils.filters import filter_paragraphs\n",
        "from cdqa.pipeline import QAPipeline"
      ],
      "execution_count": 0,
      "outputs": []
    },
    {
      "cell_type": "code",
      "metadata": {
        "id": "Kbe24BQtPLyi",
        "colab_type": "code",
        "colab": {}
      },
      "source": [
        "from cdqa.utils.download import download_model\n",
        "#It uses a Pre-trained model on SQuAD v2.0"
      ],
      "execution_count": 0,
      "outputs": []
    },
    {
      "cell_type": "code",
      "metadata": {
        "id": "OSpg58s6PRY6",
        "colab_type": "code",
        "colab": {
          "base_uri": "https://localhost:8080/",
          "height": 52
        },
        "outputId": "3a62e706-3869-4509-bc09-64321863007d"
      },
      "source": [
        "download_model(model='bert-squad_1.1', dir='./models')"
      ],
      "execution_count": 8,
      "outputs": [
        {
          "output_type": "stream",
          "text": [
            "\n",
            "Downloading trained model...\n"
          ],
          "name": "stdout"
        }
      ]
    },
    {
      "cell_type": "code",
      "metadata": {
        "id": "LEQuWgA0PO85",
        "colab_type": "code",
        "colab": {}
      },
      "source": [
        "!pip install docx2python\n",
        "from docx2python import docx2python\n",
        "doc=docx2python('article_text.docx')\n",
        "#I implemented it on the same document I worked with on Text Summarization for a better understanding of how things are working"
      ],
      "execution_count": 0,
      "outputs": []
    },
    {
      "cell_type": "code",
      "metadata": {
        "id": "vj0OL_LHUZ6S",
        "colab_type": "code",
        "colab": {
          "base_uri": "https://localhost:8080/",
          "height": 124
        },
        "outputId": "0a64ce53-0730-487d-a1a1-11486f07124a"
      },
      "source": [
        "doc.body[0][0][0]"
      ],
      "execution_count": 31,
      "outputs": [
        {
          "output_type": "execute_result",
          "data": {
            "text/plain": [
              "['The US has \"passed the peak\" on new coronavirus cases, President Donald Trump said and predicted that some states would reopen this month.',\n",
              " 'The US has over 637,000 confirmed Covid-19 cases and over 30,826 deaths, the highest for any country in the world.',\n",
              " 'At the daily White House coronavirus briefing on Wednesday, Trump said new guidelines to reopen the country would be announced on Thursday after he speaks to governors.',\n",
              " '\"We\\'ll be the comeback kids, all of us,\" he said. \"We want to get our country back.\"',\n",
              " \"The Trump administration has previously fixed May 1 as a possible date to reopen the world's largest economy, but the president said some states may be able to return to normalcy earlier than that.\"]"
            ]
          },
          "metadata": {
            "tags": []
          },
          "execution_count": 31
        }
      ]
    },
    {
      "cell_type": "code",
      "metadata": {
        "id": "k2iOgfd-R7Yw",
        "colab_type": "code",
        "colab": {}
      },
      "source": [
        "df2={'title':['article'], 'paragraphs':[doc.body[0][0][0]]};\n",
        "#The cdQA suite requires input to be in a particular form of a Pandas Dataframe"
      ],
      "execution_count": 0,
      "outputs": []
    },
    {
      "cell_type": "code",
      "metadata": {
        "id": "srnD14OSSCMt",
        "colab_type": "code",
        "colab": {}
      },
      "source": [
        "import pandas as pd\n",
        "data=pd.DataFrame(df2)"
      ],
      "execution_count": 0,
      "outputs": []
    },
    {
      "cell_type": "code",
      "metadata": {
        "id": "2nmqIhfhWDf8",
        "colab_type": "code",
        "colab": {}
      },
      "source": [
        "cdqa_pipeline = QAPipeline(reader='./models/bert_qa.joblib')\n",
        "cdqa_pipeline.fit_retriever(df=data)"
      ],
      "execution_count": 0,
      "outputs": []
    },
    {
      "cell_type": "code",
      "metadata": {
        "id": "9oqVHj-RWLkU",
        "colab_type": "code",
        "colab": {
          "base_uri": "https://localhost:8080/",
          "height": 107
        },
        "outputId": "8ce1f742-67a5-42a1-af84-9f28875e7b5f"
      },
      "source": [
        "query = 'How many confirmed cases are there in the US?'\n",
        "prediction = cdqa_pipeline.predict(query)\n",
        "print('query: {}'.format(query))\n",
        "print('answer: {}'.format(prediction[0]))\n",
        "print('title: {}'.format(prediction[1]))\n",
        "print('paragraph: {}'.format(prediction[2]))"
      ],
      "execution_count": 15,
      "outputs": [
        {
          "output_type": "stream",
          "text": [
            "query: How many confirmed cases are there in the US?\n",
            "answer: over 637,000\n",
            "title: article\n",
            "paragraph: The US has over 637,000 confirmed Covid-19 cases and over 30,826 deaths, the highest for any country in the world.\n"
          ],
          "name": "stdout"
        }
      ]
    },
    {
      "cell_type": "code",
      "metadata": {
        "id": "u7pxUZtEW-zI",
        "colab_type": "code",
        "colab": {
          "base_uri": "https://localhost:8080/",
          "height": 107
        },
        "outputId": "4b24e82a-0ef8-4766-dc81-993f68c8f4d2"
      },
      "source": [
        "query2 = 'How many people have died?'\n",
        "prediction2 = cdqa_pipeline.predict(query2)\n",
        "print('query: {}'.format(query2))\n",
        "print('answer: {}'.format(prediction2[0]))\n",
        "print('title: {}'.format(prediction2[1]))\n",
        "print('paragraph: {}'.format(prediction2[2]))"
      ],
      "execution_count": 18,
      "outputs": [
        {
          "output_type": "stream",
          "text": [
            "query: How many people have died?\n",
            "answer: 30,826\n",
            "title: article\n",
            "paragraph: The US has over 637,000 confirmed Covid-19 cases and over 30,826 deaths, the highest for any country in the world.\n"
          ],
          "name": "stdout"
        }
      ]
    },
    {
      "cell_type": "markdown",
      "metadata": {
        "id": "_Vhd6yxYZA1q",
        "colab_type": "text"
      },
      "source": [
        "As we see it implements the QA mechanism in a way so as to extract a short precise answer and a way to access the text where it got this anwer from at the same time. Much like what we wanted."
      ]
    }
  ]
}